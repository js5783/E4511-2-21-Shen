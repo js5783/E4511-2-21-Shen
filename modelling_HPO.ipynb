{
  "nbformat": 4,
  "nbformat_minor": 0,
  "metadata": {
    "colab": {
      "name": "modelling HPO.ipynb",
      "provenance": [],
      "collapsed_sections": [],
      "machine_shape": "hm",
      "include_colab_link": true
    },
    "kernelspec": {
      "name": "python3",
      "display_name": "Python 3"
    }
  },
  "cells": [
    {
      "cell_type": "markdown",
      "metadata": {
        "id": "view-in-github",
        "colab_type": "text"
      },
      "source": [
        "<a href=\"https://colab.research.google.com/github/js5783/E4511-2021-Shen/blob/main/modelling_HPO.ipynb\" target=\"_parent\"><img src=\"https://colab.research.google.com/assets/colab-badge.svg\" alt=\"Open In Colab\"/></a>"
      ]
    },
    {
      "cell_type": "markdown",
      "metadata": {
        "id": "SZ70ierx3pq2"
      },
      "source": [
        "### Install AMPL packages"
      ]
    },
    {
      "cell_type": "code",
      "metadata": {
        "id": "dYPEij6rwDmP",
        "colab": {
          "base_uri": "https://localhost:8080/"
        },
        "outputId": "ebcba54e-8edd-4ad9-a41d-c606722b986d"
      },
      "source": [
        "%tensorflow_version 1.x"
      ],
      "execution_count": 1,
      "outputs": [
        {
          "output_type": "stream",
          "text": [
            "TensorFlow 1.x selected.\n"
          ],
          "name": "stdout"
        }
      ]
    },
    {
      "cell_type": "code",
      "metadata": {
        "id": "nNuv4Q5KFABw",
        "colab": {
          "base_uri": "https://localhost:8080/"
        },
        "outputId": "e78652ed-859e-479b-e2da-1739be5177d2"
      },
      "source": [
        "! wget -c https://repo.anaconda.com/archive/Anaconda3-2019.10-Linux-x86_64.sh\n",
        "! chmod +x Anaconda3-2019.10-Linux-x86_64.sh\n",
        "! bash ./Anaconda3-2019.10-Linux-x86_64.sh -b -f -p /usr/local\n",
        "\n",
        "# ! wget -c https://repo.anaconda.com/miniconda/Miniconda3-py37_4.9.2-Linux-x86_64.sh \n",
        "# ! chmod +x Miniconda3-py37_4.9.2-Linux-x86_64.sh\n",
        "# ! time bash Miniconda3-py37_4.9.2-Linux-x86_64.sh -b -f -p /usr/local\n",
        "\n",
        "! time conda install -y -c deepchem -c rdkit -c conda-forge -c omnia deepchem-gpu=2.3.0\n",
        "import sys\n",
        "sys.path.append('/usr/local/lib/python3.7/site-packages/')"
      ],
      "execution_count": 2,
      "outputs": [
        {
          "output_type": "stream",
          "text": [
            "--2021-04-06 18:00:22--  https://repo.anaconda.com/archive/Anaconda3-2019.10-Linux-x86_64.sh\n",
            "Resolving repo.anaconda.com (repo.anaconda.com)... 104.16.130.3, 104.16.131.3, 2606:4700::6810:8303, ...\n",
            "Connecting to repo.anaconda.com (repo.anaconda.com)|104.16.130.3|:443... connected.\n",
            "HTTP request sent, awaiting response... 200 OK\n",
            "Length: 530308481 (506M) [application/x-sh]\n",
            "Saving to: ‘Anaconda3-2019.10-Linux-x86_64.sh’\n",
            "\n",
            "Anaconda3-2019.10-L 100%[===================>] 505.74M   154MB/s    in 3.4s    \n",
            "\n",
            "2021-04-06 18:00:25 (147 MB/s) - ‘Anaconda3-2019.10-Linux-x86_64.sh’ saved [530308481/530308481]\n",
            "\n",
            "PREFIX=/usr/local\n",
            "Unpacking payload ...\n",
            "Collecting package metadata (current_repodata.json): - \b\b\\ \b\b| \b\b/ \b\b- \b\b\\ \b\b| \b\b/ \b\b- \b\b\\ \b\b| \b\b/ \b\b- \b\b\\ \b\b| \b\b/ \b\b- \b\b\\ \b\bdone\n",
            "Solving environment: / \b\b- \b\b\\ \b\b| \b\b/ \b\b- \b\b\\ \b\b| \b\b/ \b\b- \b\b\\ \b\b| \b\b/ \b\b- \b\b\\ \b\b| \b\b/ \b\b- \b\b\\ \b\b| \b\b/ \b\b- \b\b\\ \b\b| \b\b/ \b\b- \b\bdone\n",
            "\n",
            "## Package Plan ##\n",
            "\n",
            "  environment location: /usr/local\n",
            "\n",
            "  added / updated specs:\n",
            "    - _ipyw_jlab_nb_ext_conf==0.1.0=py37_0\n",
            "    - _libgcc_mutex==0.1=main\n",
            "    - alabaster==0.7.12=py37_0\n",
            "    - anaconda-client==1.7.2=py37_0\n",
            "    - anaconda-navigator==1.9.7=py37_0\n",
            "    - anaconda-project==0.8.3=py_0\n",
            "    - anaconda==2019.10=py37_0\n",
            "    - asn1crypto==1.0.1=py37_0\n",
            "    - astroid==2.3.1=py37_0\n",
            "    - astropy==3.2.2=py37h7b6447c_0\n",
            "    - atomicwrites==1.3.0=py37_1\n",
            "    - attrs==19.2.0=py_0\n",
            "    - babel==2.7.0=py_0\n",
            "    - backcall==0.1.0=py37_0\n",
            "    - backports.functools_lru_cache==1.5=py_2\n",
            "    - backports.os==0.1.1=py37_0\n",
            "    - backports.shutil_get_terminal_size==1.0.0=py37_2\n",
            "    - backports.tempfile==1.0=py_1\n",
            "    - backports.weakref==1.0.post1=py_1\n",
            "    - backports==1.0=py_2\n",
            "    - beautifulsoup4==4.8.0=py37_0\n",
            "    - bitarray==1.0.1=py37h7b6447c_0\n",
            "    - bkcharts==0.2=py37_0\n",
            "    - blas==1.0=mkl\n",
            "    - bleach==3.1.0=py37_0\n",
            "    - blosc==1.16.3=hd408876_0\n",
            "    - bokeh==1.3.4=py37_0\n",
            "    - boto==2.49.0=py37_0\n",
            "    - bottleneck==1.2.1=py37h035aef0_1\n",
            "    - bzip2==1.0.8=h7b6447c_0\n",
            "    - ca-certificates==2019.8.28=0\n",
            "    - cairo==1.14.12=h8948797_3\n",
            "    - certifi==2019.9.11=py37_0\n",
            "    - cffi==1.12.3=py37h2e261b9_0\n",
            "    - chardet==3.0.4=py37_1003\n",
            "    - click==7.0=py37_0\n",
            "    - cloudpickle==1.2.2=py_0\n",
            "    - clyent==1.2.2=py37_1\n",
            "    - colorama==0.4.1=py37_0\n",
            "    - conda-build==3.18.9=py37_3\n",
            "    - conda-env==2.6.0=1\n",
            "    - conda-package-handling==1.6.0=py37h7b6447c_0\n",
            "    - conda-verify==3.4.2=py_1\n",
            "    - conda==4.7.12=py37_0\n",
            "    - contextlib2==0.6.0=py_0\n",
            "    - cryptography==2.7=py37h1ba5d50_0\n",
            "    - curl==7.65.3=hbc83047_0\n",
            "    - cycler==0.10.0=py37_0\n",
            "    - cython==0.29.13=py37he6710b0_0\n",
            "    - cytoolz==0.10.0=py37h7b6447c_0\n",
            "    - dask-core==2.5.2=py_0\n",
            "    - dask==2.5.2=py_0\n",
            "    - dbus==1.13.6=h746ee38_0\n",
            "    - decorator==4.4.0=py37_1\n",
            "    - defusedxml==0.6.0=py_0\n",
            "    - distributed==2.5.2=py_0\n",
            "    - docutils==0.15.2=py37_0\n",
            "    - entrypoints==0.3=py37_0\n",
            "    - et_xmlfile==1.0.1=py37_0\n",
            "    - expat==2.2.6=he6710b0_0\n",
            "    - fastcache==1.1.0=py37h7b6447c_0\n",
            "    - filelock==3.0.12=py_0\n",
            "    - flask==1.1.1=py_0\n",
            "    - fontconfig==2.13.0=h9420a91_0\n",
            "    - freetype==2.9.1=h8a8886c_1\n",
            "    - fribidi==1.0.5=h7b6447c_0\n",
            "    - fsspec==0.5.2=py_0\n",
            "    - future==0.17.1=py37_0\n",
            "    - get_terminal_size==1.0.0=haa9412d_0\n",
            "    - gevent==1.4.0=py37h7b6447c_0\n",
            "    - glib==2.56.2=hd408876_0\n",
            "    - glob2==0.7=py_0\n",
            "    - gmp==6.1.2=h6c8ec71_1\n",
            "    - gmpy2==2.0.8=py37h10f8cd9_2\n",
            "    - graphite2==1.3.13=h23475e2_0\n",
            "    - greenlet==0.4.15=py37h7b6447c_0\n",
            "    - gst-plugins-base==1.14.0=hbbd80ab_1\n",
            "    - gstreamer==1.14.0=hb453b48_1\n",
            "    - h5py==2.9.0=py37h7918eee_0\n",
            "    - harfbuzz==1.8.8=hffaf4a1_0\n",
            "    - hdf5==1.10.4=hb1b8bf9_0\n",
            "    - heapdict==1.0.1=py_0\n",
            "    - html5lib==1.0.1=py37_0\n",
            "    - icu==58.2=h9c2bf20_1\n",
            "    - idna==2.8=py37_0\n",
            "    - imageio==2.6.0=py37_0\n",
            "    - imagesize==1.1.0=py37_0\n",
            "    - importlib_metadata==0.23=py37_0\n",
            "    - intel-openmp==2019.4=243\n",
            "    - ipykernel==5.1.2=py37h39e3cac_0\n",
            "    - ipython==7.8.0=py37h39e3cac_0\n",
            "    - ipython_genutils==0.2.0=py37_0\n",
            "    - ipywidgets==7.5.1=py_0\n",
            "    - isort==4.3.21=py37_0\n",
            "    - itsdangerous==1.1.0=py37_0\n",
            "    - jbig==2.1=hdba287a_0\n",
            "    - jdcal==1.4.1=py_0\n",
            "    - jedi==0.15.1=py37_0\n",
            "    - jeepney==0.4.1=py_0\n",
            "    - jinja2==2.10.3=py_0\n",
            "    - joblib==0.13.2=py37_0\n",
            "    - jpeg==9b=h024ee3a_2\n",
            "    - json5==0.8.5=py_0\n",
            "    - jsonschema==3.0.2=py37_0\n",
            "    - jupyter==1.0.0=py37_7\n",
            "    - jupyter_client==5.3.3=py37_1\n",
            "    - jupyter_console==6.0.0=py37_0\n",
            "    - jupyter_core==4.5.0=py_0\n",
            "    - jupyterlab==1.1.4=pyhf63ae98_0\n",
            "    - jupyterlab_server==1.0.6=py_0\n",
            "    - keyring==18.0.0=py37_0\n",
            "    - kiwisolver==1.1.0=py37he6710b0_0\n",
            "    - krb5==1.16.1=h173b8e3_7\n",
            "    - lazy-object-proxy==1.4.2=py37h7b6447c_0\n",
            "    - libarchive==3.3.3=h5d8350f_5\n",
            "    - libcurl==7.65.3=h20c2e04_0\n",
            "    - libedit==3.1.20181209=hc058e9b_0\n",
            "    - libffi==3.2.1=hd88cf55_4\n",
            "    - libgcc-ng==9.1.0=hdf63c60_0\n",
            "    - libgfortran-ng==7.3.0=hdf63c60_0\n",
            "    - liblief==0.9.0=h7725739_2\n",
            "    - libpng==1.6.37=hbc83047_0\n",
            "    - libsodium==1.0.16=h1bed415_0\n",
            "    - libssh2==1.8.2=h1ba5d50_0\n",
            "    - libstdcxx-ng==9.1.0=hdf63c60_0\n",
            "    - libtiff==4.0.10=h2733197_2\n",
            "    - libtool==2.4.6=h7b6447c_5\n",
            "    - libuuid==1.0.3=h1bed415_2\n",
            "    - libxcb==1.13=h1bed415_1\n",
            "    - libxml2==2.9.9=hea5a465_1\n",
            "    - libxslt==1.1.33=h7d1a2b0_0\n",
            "    - llvmlite==0.29.0=py37hd408876_0\n",
            "    - locket==0.2.0=py37_1\n",
            "    - lxml==4.4.1=py37hefd8a0e_0\n",
            "    - lz4-c==1.8.1.2=h14c3975_0\n",
            "    - lzo==2.10=h49e0be7_2\n",
            "    - markupsafe==1.1.1=py37h7b6447c_0\n",
            "    - matplotlib==3.1.1=py37h5429711_0\n",
            "    - mccabe==0.6.1=py37_1\n",
            "    - mistune==0.8.4=py37h7b6447c_0\n",
            "    - mkl-service==2.3.0=py37he904b0f_0\n",
            "    - mkl==2019.4=243\n",
            "    - mkl_fft==1.0.14=py37ha843d7b_0\n",
            "    - mkl_random==1.1.0=py37hd6b4f25_0\n",
            "    - mock==3.0.5=py37_0\n",
            "    - more-itertools==7.2.0=py37_0\n",
            "    - mpc==1.1.0=h10f8cd9_1\n",
            "    - mpfr==4.0.1=hdf1c602_3\n",
            "    - mpmath==1.1.0=py37_0\n",
            "    - msgpack-python==0.6.1=py37hfd86e86_1\n",
            "    - multipledispatch==0.6.0=py37_0\n",
            "    - navigator-updater==0.2.1=py37_0\n",
            "    - nbconvert==5.6.0=py37_1\n",
            "    - nbformat==4.4.0=py37_0\n",
            "    - ncurses==6.1=he6710b0_1\n",
            "    - networkx==2.3=py_0\n",
            "    - nltk==3.4.5=py37_0\n",
            "    - nose==1.3.7=py37_2\n",
            "    - notebook==6.0.1=py37_0\n",
            "    - numba==0.45.1=py37h962f231_0\n",
            "    - numexpr==2.7.0=py37h9e4a6bb_0\n",
            "    - numpy-base==1.17.2=py37hde5b4d6_0\n",
            "    - numpy==1.17.2=py37haad9e8e_0\n",
            "    - numpydoc==0.9.1=py_0\n",
            "    - olefile==0.46=py37_0\n",
            "    - openpyxl==3.0.0=py_0\n",
            "    - openssl==1.1.1d=h7b6447c_2\n",
            "    - packaging==19.2=py_0\n",
            "    - pandas==0.25.1=py37he6710b0_0\n",
            "    - pandoc==2.2.3.2=0\n",
            "    - pandocfilters==1.4.2=py37_1\n",
            "    - pango==1.42.4=h049681c_0\n",
            "    - parso==0.5.1=py_0\n",
            "    - partd==1.0.0=py_0\n",
            "    - patchelf==0.9=he6710b0_3\n",
            "    - path.py==12.0.1=py_0\n",
            "    - pathlib2==2.3.5=py37_0\n",
            "    - patsy==0.5.1=py37_0\n",
            "    - pcre==8.43=he6710b0_0\n",
            "    - pep8==1.7.1=py37_0\n",
            "    - pexpect==4.7.0=py37_0\n",
            "    - pickleshare==0.7.5=py37_0\n",
            "    - pillow==6.2.0=py37h34e0f95_0\n",
            "    - pip==19.2.3=py37_0\n",
            "    - pixman==0.38.0=h7b6447c_0\n",
            "    - pkginfo==1.5.0.1=py37_0\n",
            "    - pluggy==0.13.0=py37_0\n",
            "    - ply==3.11=py37_0\n",
            "    - prometheus_client==0.7.1=py_0\n",
            "    - prompt_toolkit==2.0.10=py_0\n",
            "    - psutil==5.6.3=py37h7b6447c_0\n",
            "    - ptyprocess==0.6.0=py37_0\n",
            "    - py-lief==0.9.0=py37h7725739_2\n",
            "    - py==1.8.0=py37_0\n",
            "    - pycodestyle==2.5.0=py37_0\n",
            "    - pycosat==0.6.3=py37h14c3975_0\n",
            "    - pycparser==2.19=py37_0\n",
            "    - pycrypto==2.6.1=py37h14c3975_9\n",
            "    - pycurl==7.43.0.3=py37h1ba5d50_0\n",
            "    - pyflakes==2.1.1=py37_0\n",
            "    - pygments==2.4.2=py_0\n",
            "    - pylint==2.4.2=py37_0\n",
            "    - pyodbc==4.0.27=py37he6710b0_0\n",
            "    - pyopenssl==19.0.0=py37_0\n",
            "    - pyparsing==2.4.2=py_0\n",
            "    - pyqt==5.9.2=py37h05f1152_2\n",
            "    - pyrsistent==0.15.4=py37h7b6447c_0\n",
            "    - pysocks==1.7.1=py37_0\n",
            "    - pytables==3.5.2=py37h71ec239_1\n",
            "    - pytest-arraydiff==0.3=py37h39e3cac_0\n",
            "    - pytest-astropy==0.5.0=py37_0\n",
            "    - pytest-doctestplus==0.4.0=py_0\n",
            "    - pytest-openfiles==0.4.0=py_0\n",
            "    - pytest-remotedata==0.3.2=py37_0\n",
            "    - pytest==5.2.1=py37_0\n",
            "    - python-dateutil==2.8.0=py37_0\n",
            "    - python-libarchive-c==2.8=py37_13\n",
            "    - python==3.7.4=h265db76_1\n",
            "    - pytz==2019.3=py_0\n",
            "    - pywavelets==1.0.3=py37hdd07704_1\n",
            "    - pyyaml==5.1.2=py37h7b6447c_0\n",
            "    - pyzmq==18.1.0=py37he6710b0_0\n",
            "    - qt==5.9.7=h5867ecd_1\n",
            "    - qtawesome==0.6.0=py_0\n",
            "    - qtconsole==4.5.5=py_0\n",
            "    - qtpy==1.9.0=py_0\n",
            "    - readline==7.0=h7b6447c_5\n",
            "    - requests==2.22.0=py37_0\n",
            "    - ripgrep==0.10.0=hc07d326_0\n",
            "    - rope==0.14.0=py_0\n",
            "    - ruamel_yaml==0.15.46=py37h14c3975_0\n",
            "    - scikit-image==0.15.0=py37he6710b0_0\n",
            "    - scikit-learn==0.21.3=py37hd81dba3_0\n",
            "    - scipy==1.3.1=py37h7c811a0_0\n",
            "    - seaborn==0.9.0=py37_0\n",
            "    - secretstorage==3.1.1=py37_0\n",
            "    - send2trash==1.5.0=py37_0\n",
            "    - setuptools==41.4.0=py37_0\n",
            "    - simplegeneric==0.8.1=py37_2\n",
            "    - singledispatch==3.4.0.3=py37_0\n",
            "    - sip==4.19.8=py37hf484d3e_0\n",
            "    - six==1.12.0=py37_0\n",
            "    - snappy==1.1.7=hbae5bb6_3\n",
            "    - snowballstemmer==2.0.0=py_0\n",
            "    - sortedcollections==1.1.2=py37_0\n",
            "    - sortedcontainers==2.1.0=py37_0\n",
            "    - soupsieve==1.9.3=py37_0\n",
            "    - sphinx==2.2.0=py_0\n",
            "    - sphinxcontrib-applehelp==1.0.1=py_0\n",
            "    - sphinxcontrib-devhelp==1.0.1=py_0\n",
            "    - sphinxcontrib-htmlhelp==1.0.2=py_0\n",
            "    - sphinxcontrib-jsmath==1.0.1=py_0\n",
            "    - sphinxcontrib-qthelp==1.0.2=py_0\n",
            "    - sphinxcontrib-serializinghtml==1.1.3=py_0\n",
            "    - sphinxcontrib-websupport==1.1.2=py_0\n",
            "    - sphinxcontrib==1.0=py37_1\n",
            "    - spyder-kernels==0.5.2=py37_0\n",
            "    - spyder==3.3.6=py37_0\n",
            "    - sqlalchemy==1.3.9=py37h7b6447c_0\n",
            "    - sqlite==3.30.0=h7b6447c_0\n",
            "    - statsmodels==0.10.1=py37hdd07704_0\n",
            "    - sympy==1.4=py37_0\n",
            "    - tbb==2019.4=hfd86e86_0\n",
            "    - tblib==1.4.0=py_0\n",
            "    - terminado==0.8.2=py37_0\n",
            "    - testpath==0.4.2=py37_0\n",
            "    - tk==8.6.8=hbc83047_0\n",
            "    - toolz==0.10.0=py_0\n",
            "    - tornado==6.0.3=py37h7b6447c_0\n",
            "    - tqdm==4.36.1=py_0\n",
            "    - traitlets==4.3.3=py37_0\n",
            "    - unicodecsv==0.14.1=py37_0\n",
            "    - unixodbc==2.3.7=h14c3975_0\n",
            "    - urllib3==1.24.2=py37_0\n",
            "    - wcwidth==0.1.7=py37_0\n",
            "    - webencodings==0.5.1=py37_1\n",
            "    - werkzeug==0.16.0=py_0\n",
            "    - wheel==0.33.6=py37_0\n",
            "    - widgetsnbextension==3.5.1=py37_0\n",
            "    - wrapt==1.11.2=py37h7b6447c_0\n",
            "    - wurlitzer==1.0.3=py37_0\n",
            "    - xlrd==1.2.0=py37_0\n",
            "    - xlsxwriter==1.2.1=py_0\n",
            "    - xlwt==1.3.0=py37_0\n",
            "    - xz==5.2.4=h14c3975_4\n",
            "    - yaml==0.1.7=had09818_2\n",
            "    - zeromq==4.3.1=he6710b0_3\n",
            "    - zict==1.0.0=py_0\n",
            "    - zipp==0.6.0=py_0\n",
            "    - zlib==1.2.11=h7b6447c_3\n",
            "    - zstd==1.3.7=h0b5b093_0\n",
            "\n",
            "\n",
            "The following NEW packages will be INSTALLED:\n",
            "\n",
            "  _ipyw_jlab_nb_ext~ pkgs/main/linux-64::_ipyw_jlab_nb_ext_conf-0.1.0-py37_0\n",
            "  _libgcc_mutex      pkgs/main/linux-64::_libgcc_mutex-0.1-main\n",
            "  alabaster          pkgs/main/linux-64::alabaster-0.7.12-py37_0\n",
            "  anaconda           pkgs/main/linux-64::anaconda-2019.10-py37_0\n",
            "  anaconda-client    pkgs/main/linux-64::anaconda-client-1.7.2-py37_0\n",
            "  anaconda-navigator pkgs/main/linux-64::anaconda-navigator-1.9.7-py37_0\n",
            "  anaconda-project   pkgs/main/noarch::anaconda-project-0.8.3-py_0\n",
            "  asn1crypto         pkgs/main/linux-64::asn1crypto-1.0.1-py37_0\n",
            "  astroid            pkgs/main/linux-64::astroid-2.3.1-py37_0\n",
            "  astropy            pkgs/main/linux-64::astropy-3.2.2-py37h7b6447c_0\n",
            "  atomicwrites       pkgs/main/linux-64::atomicwrites-1.3.0-py37_1\n",
            "  attrs              pkgs/main/noarch::attrs-19.2.0-py_0\n",
            "  babel              pkgs/main/noarch::babel-2.7.0-py_0\n",
            "  backcall           pkgs/main/linux-64::backcall-0.1.0-py37_0\n",
            "  backports          pkgs/main/noarch::backports-1.0-py_2\n",
            "  backports.functoo~ pkgs/main/noarch::backports.functools_lru_cache-1.5-py_2\n",
            "  backports.os       pkgs/main/linux-64::backports.os-0.1.1-py37_0\n",
            "  backports.shutil_~ pkgs/main/linux-64::backports.shutil_get_terminal_size-1.0.0-py37_2\n",
            "  backports.tempfile pkgs/main/noarch::backports.tempfile-1.0-py_1\n",
            "  backports.weakref  pkgs/main/noarch::backports.weakref-1.0.post1-py_1\n",
            "  beautifulsoup4     pkgs/main/linux-64::beautifulsoup4-4.8.0-py37_0\n",
            "  bitarray           pkgs/main/linux-64::bitarray-1.0.1-py37h7b6447c_0\n",
            "  bkcharts           pkgs/main/linux-64::bkcharts-0.2-py37_0\n",
            "  blas               pkgs/main/linux-64::blas-1.0-mkl\n",
            "  bleach             pkgs/main/linux-64::bleach-3.1.0-py37_0\n",
            "  blosc              pkgs/main/linux-64::blosc-1.16.3-hd408876_0\n",
            "  bokeh              pkgs/main/linux-64::bokeh-1.3.4-py37_0\n",
            "  boto               pkgs/main/linux-64::boto-2.49.0-py37_0\n",
            "  bottleneck         pkgs/main/linux-64::bottleneck-1.2.1-py37h035aef0_1\n",
            "  bzip2              pkgs/main/linux-64::bzip2-1.0.8-h7b6447c_0\n",
            "  ca-certificates    pkgs/main/linux-64::ca-certificates-2019.8.28-0\n",
            "  cairo              pkgs/main/linux-64::cairo-1.14.12-h8948797_3\n",
            "  certifi            pkgs/main/linux-64::certifi-2019.9.11-py37_0\n",
            "  cffi               pkgs/main/linux-64::cffi-1.12.3-py37h2e261b9_0\n",
            "  chardet            pkgs/main/linux-64::chardet-3.0.4-py37_1003\n",
            "  click              pkgs/main/linux-64::click-7.0-py37_0\n",
            "  cloudpickle        pkgs/main/noarch::cloudpickle-1.2.2-py_0\n",
            "  clyent             pkgs/main/linux-64::clyent-1.2.2-py37_1\n",
            "  colorama           pkgs/main/linux-64::colorama-0.4.1-py37_0\n",
            "  conda              pkgs/main/linux-64::conda-4.7.12-py37_0\n",
            "  conda-build        pkgs/main/linux-64::conda-build-3.18.9-py37_3\n",
            "  conda-env          pkgs/main/linux-64::conda-env-2.6.0-1\n",
            "  conda-package-han~ pkgs/main/linux-64::conda-package-handling-1.6.0-py37h7b6447c_0\n",
            "  conda-verify       pkgs/main/noarch::conda-verify-3.4.2-py_1\n",
            "  contextlib2        pkgs/main/noarch::contextlib2-0.6.0-py_0\n",
            "  cryptography       pkgs/main/linux-64::cryptography-2.7-py37h1ba5d50_0\n",
            "  curl               pkgs/main/linux-64::curl-7.65.3-hbc83047_0\n",
            "  cycler             pkgs/main/linux-64::cycler-0.10.0-py37_0\n",
            "  cython             pkgs/main/linux-64::cython-0.29.13-py37he6710b0_0\n",
            "  cytoolz            pkgs/main/linux-64::cytoolz-0.10.0-py37h7b6447c_0\n",
            "  dask               pkgs/main/noarch::dask-2.5.2-py_0\n",
            "  dask-core          pkgs/main/noarch::dask-core-2.5.2-py_0\n",
            "  dbus               pkgs/main/linux-64::dbus-1.13.6-h746ee38_0\n",
            "  decorator          pkgs/main/linux-64::decorator-4.4.0-py37_1\n",
            "  defusedxml         pkgs/main/noarch::defusedxml-0.6.0-py_0\n",
            "  distributed        pkgs/main/noarch::distributed-2.5.2-py_0\n",
            "  docutils           pkgs/main/linux-64::docutils-0.15.2-py37_0\n",
            "  entrypoints        pkgs/main/linux-64::entrypoints-0.3-py37_0\n",
            "  et_xmlfile         pkgs/main/linux-64::et_xmlfile-1.0.1-py37_0\n",
            "  expat              pkgs/main/linux-64::expat-2.2.6-he6710b0_0\n",
            "  fastcache          pkgs/main/linux-64::fastcache-1.1.0-py37h7b6447c_0\n",
            "  filelock           pkgs/main/noarch::filelock-3.0.12-py_0\n",
            "  flask              pkgs/main/noarch::flask-1.1.1-py_0\n",
            "  fontconfig         pkgs/main/linux-64::fontconfig-2.13.0-h9420a91_0\n",
            "  freetype           pkgs/main/linux-64::freetype-2.9.1-h8a8886c_1\n",
            "  fribidi            pkgs/main/linux-64::fribidi-1.0.5-h7b6447c_0\n",
            "  fsspec             pkgs/main/noarch::fsspec-0.5.2-py_0\n",
            "  future             pkgs/main/linux-64::future-0.17.1-py37_0\n",
            "  get_terminal_size  pkgs/main/linux-64::get_terminal_size-1.0.0-haa9412d_0\n",
            "  gevent             pkgs/main/linux-64::gevent-1.4.0-py37h7b6447c_0\n",
            "  glib               pkgs/main/linux-64::glib-2.56.2-hd408876_0\n",
            "  glob2              pkgs/main/noarch::glob2-0.7-py_0\n",
            "  gmp                pkgs/main/linux-64::gmp-6.1.2-h6c8ec71_1\n",
            "  gmpy2              pkgs/main/linux-64::gmpy2-2.0.8-py37h10f8cd9_2\n",
            "  graphite2          pkgs/main/linux-64::graphite2-1.3.13-h23475e2_0\n",
            "  greenlet           pkgs/main/linux-64::greenlet-0.4.15-py37h7b6447c_0\n",
            "  gst-plugins-base   pkgs/main/linux-64::gst-plugins-base-1.14.0-hbbd80ab_1\n",
            "  gstreamer          pkgs/main/linux-64::gstreamer-1.14.0-hb453b48_1\n",
            "  h5py               pkgs/main/linux-64::h5py-2.9.0-py37h7918eee_0\n",
            "  harfbuzz           pkgs/main/linux-64::harfbuzz-1.8.8-hffaf4a1_0\n",
            "  hdf5               pkgs/main/linux-64::hdf5-1.10.4-hb1b8bf9_0\n",
            "  heapdict           pkgs/main/noarch::heapdict-1.0.1-py_0\n",
            "  html5lib           pkgs/main/linux-64::html5lib-1.0.1-py37_0\n",
            "  icu                pkgs/main/linux-64::icu-58.2-h9c2bf20_1\n",
            "  idna               pkgs/main/linux-64::idna-2.8-py37_0\n",
            "  imageio            pkgs/main/linux-64::imageio-2.6.0-py37_0\n",
            "  imagesize          pkgs/main/linux-64::imagesize-1.1.0-py37_0\n",
            "  importlib_metadata pkgs/main/linux-64::importlib_metadata-0.23-py37_0\n",
            "  intel-openmp       pkgs/main/linux-64::intel-openmp-2019.4-243\n",
            "  ipykernel          pkgs/main/linux-64::ipykernel-5.1.2-py37h39e3cac_0\n",
            "  ipython            pkgs/main/linux-64::ipython-7.8.0-py37h39e3cac_0\n",
            "  ipython_genutils   pkgs/main/linux-64::ipython_genutils-0.2.0-py37_0\n",
            "  ipywidgets         pkgs/main/noarch::ipywidgets-7.5.1-py_0\n",
            "  isort              pkgs/main/linux-64::isort-4.3.21-py37_0\n",
            "  itsdangerous       pkgs/main/linux-64::itsdangerous-1.1.0-py37_0\n",
            "  jbig               pkgs/main/linux-64::jbig-2.1-hdba287a_0\n",
            "  jdcal              pkgs/main/noarch::jdcal-1.4.1-py_0\n",
            "  jedi               pkgs/main/linux-64::jedi-0.15.1-py37_0\n",
            "  jeepney            pkgs/main/noarch::jeepney-0.4.1-py_0\n",
            "  jinja2             pkgs/main/noarch::jinja2-2.10.3-py_0\n",
            "  joblib             pkgs/main/linux-64::joblib-0.13.2-py37_0\n",
            "  jpeg               pkgs/main/linux-64::jpeg-9b-h024ee3a_2\n",
            "  json5              pkgs/main/noarch::json5-0.8.5-py_0\n",
            "  jsonschema         pkgs/main/linux-64::jsonschema-3.0.2-py37_0\n",
            "  jupyter            pkgs/main/linux-64::jupyter-1.0.0-py37_7\n",
            "  jupyter_client     pkgs/main/linux-64::jupyter_client-5.3.3-py37_1\n",
            "  jupyter_console    pkgs/main/linux-64::jupyter_console-6.0.0-py37_0\n",
            "  jupyter_core       pkgs/main/noarch::jupyter_core-4.5.0-py_0\n",
            "  jupyterlab         pkgs/main/noarch::jupyterlab-1.1.4-pyhf63ae98_0\n",
            "  jupyterlab_server  pkgs/main/noarch::jupyterlab_server-1.0.6-py_0\n",
            "  keyring            pkgs/main/linux-64::keyring-18.0.0-py37_0\n",
            "  kiwisolver         pkgs/main/linux-64::kiwisolver-1.1.0-py37he6710b0_0\n",
            "  krb5               pkgs/main/linux-64::krb5-1.16.1-h173b8e3_7\n",
            "  lazy-object-proxy  pkgs/main/linux-64::lazy-object-proxy-1.4.2-py37h7b6447c_0\n",
            "  libarchive         pkgs/main/linux-64::libarchive-3.3.3-h5d8350f_5\n",
            "  libcurl            pkgs/main/linux-64::libcurl-7.65.3-h20c2e04_0\n",
            "  libedit            pkgs/main/linux-64::libedit-3.1.20181209-hc058e9b_0\n",
            "  libffi             pkgs/main/linux-64::libffi-3.2.1-hd88cf55_4\n",
            "  libgcc-ng          pkgs/main/linux-64::libgcc-ng-9.1.0-hdf63c60_0\n",
            "  libgfortran-ng     pkgs/main/linux-64::libgfortran-ng-7.3.0-hdf63c60_0\n",
            "  liblief            pkgs/main/linux-64::liblief-0.9.0-h7725739_2\n",
            "  libpng             pkgs/main/linux-64::libpng-1.6.37-hbc83047_0\n",
            "  libsodium          pkgs/main/linux-64::libsodium-1.0.16-h1bed415_0\n",
            "  libssh2            pkgs/main/linux-64::libssh2-1.8.2-h1ba5d50_0\n",
            "  libstdcxx-ng       pkgs/main/linux-64::libstdcxx-ng-9.1.0-hdf63c60_0\n",
            "  libtiff            pkgs/main/linux-64::libtiff-4.0.10-h2733197_2\n",
            "  libtool            pkgs/main/linux-64::libtool-2.4.6-h7b6447c_5\n",
            "  libuuid            pkgs/main/linux-64::libuuid-1.0.3-h1bed415_2\n",
            "  libxcb             pkgs/main/linux-64::libxcb-1.13-h1bed415_1\n",
            "  libxml2            pkgs/main/linux-64::libxml2-2.9.9-hea5a465_1\n",
            "  libxslt            pkgs/main/linux-64::libxslt-1.1.33-h7d1a2b0_0\n",
            "  llvmlite           pkgs/main/linux-64::llvmlite-0.29.0-py37hd408876_0\n",
            "  locket             pkgs/main/linux-64::locket-0.2.0-py37_1\n",
            "  lxml               pkgs/main/linux-64::lxml-4.4.1-py37hefd8a0e_0\n",
            "  lz4-c              pkgs/main/linux-64::lz4-c-1.8.1.2-h14c3975_0\n",
            "  lzo                pkgs/main/linux-64::lzo-2.10-h49e0be7_2\n",
            "  markupsafe         pkgs/main/linux-64::markupsafe-1.1.1-py37h7b6447c_0\n",
            "  matplotlib         pkgs/main/linux-64::matplotlib-3.1.1-py37h5429711_0\n",
            "  mccabe             pkgs/main/linux-64::mccabe-0.6.1-py37_1\n",
            "  mistune            pkgs/main/linux-64::mistune-0.8.4-py37h7b6447c_0\n",
            "  mkl                pkgs/main/linux-64::mkl-2019.4-243\n",
            "  mkl-service        pkgs/main/linux-64::mkl-service-2.3.0-py37he904b0f_0\n",
            "  mkl_fft            pkgs/main/linux-64::mkl_fft-1.0.14-py37ha843d7b_0\n",
            "  mkl_random         pkgs/main/linux-64::mkl_random-1.1.0-py37hd6b4f25_0\n",
            "  mock               pkgs/main/linux-64::mock-3.0.5-py37_0\n",
            "  more-itertools     pkgs/main/linux-64::more-itertools-7.2.0-py37_0\n",
            "  mpc                pkgs/main/linux-64::mpc-1.1.0-h10f8cd9_1\n",
            "  mpfr               pkgs/main/linux-64::mpfr-4.0.1-hdf1c602_3\n",
            "  mpmath             pkgs/main/linux-64::mpmath-1.1.0-py37_0\n",
            "  msgpack-python     pkgs/main/linux-64::msgpack-python-0.6.1-py37hfd86e86_1\n",
            "  multipledispatch   pkgs/main/linux-64::multipledispatch-0.6.0-py37_0\n",
            "  navigator-updater  pkgs/main/linux-64::navigator-updater-0.2.1-py37_0\n",
            "  nbconvert          pkgs/main/linux-64::nbconvert-5.6.0-py37_1\n",
            "  nbformat           pkgs/main/linux-64::nbformat-4.4.0-py37_0\n",
            "  ncurses            pkgs/main/linux-64::ncurses-6.1-he6710b0_1\n",
            "  networkx           pkgs/main/noarch::networkx-2.3-py_0\n",
            "  nltk               pkgs/main/linux-64::nltk-3.4.5-py37_0\n",
            "  nose               pkgs/main/linux-64::nose-1.3.7-py37_2\n",
            "  notebook           pkgs/main/linux-64::notebook-6.0.1-py37_0\n",
            "  numba              pkgs/main/linux-64::numba-0.45.1-py37h962f231_0\n",
            "  numexpr            pkgs/main/linux-64::numexpr-2.7.0-py37h9e4a6bb_0\n",
            "  numpy              pkgs/main/linux-64::numpy-1.17.2-py37haad9e8e_0\n",
            "  numpy-base         pkgs/main/linux-64::numpy-base-1.17.2-py37hde5b4d6_0\n",
            "  numpydoc           pkgs/main/noarch::numpydoc-0.9.1-py_0\n",
            "  olefile            pkgs/main/linux-64::olefile-0.46-py37_0\n",
            "  openpyxl           pkgs/main/noarch::openpyxl-3.0.0-py_0\n",
            "  openssl            pkgs/main/linux-64::openssl-1.1.1d-h7b6447c_2\n",
            "  packaging          pkgs/main/noarch::packaging-19.2-py_0\n",
            "  pandas             pkgs/main/linux-64::pandas-0.25.1-py37he6710b0_0\n",
            "  pandoc             pkgs/main/linux-64::pandoc-2.2.3.2-0\n",
            "  pandocfilters      pkgs/main/linux-64::pandocfilters-1.4.2-py37_1\n",
            "  pango              pkgs/main/linux-64::pango-1.42.4-h049681c_0\n",
            "  parso              pkgs/main/noarch::parso-0.5.1-py_0\n",
            "  partd              pkgs/main/noarch::partd-1.0.0-py_0\n",
            "  patchelf           pkgs/main/linux-64::patchelf-0.9-he6710b0_3\n",
            "  path.py            pkgs/main/noarch::path.py-12.0.1-py_0\n",
            "  pathlib2           pkgs/main/linux-64::pathlib2-2.3.5-py37_0\n",
            "  patsy              pkgs/main/linux-64::patsy-0.5.1-py37_0\n",
            "  pcre               pkgs/main/linux-64::pcre-8.43-he6710b0_0\n",
            "  pep8               pkgs/main/linux-64::pep8-1.7.1-py37_0\n",
            "  pexpect            pkgs/main/linux-64::pexpect-4.7.0-py37_0\n",
            "  pickleshare        pkgs/main/linux-64::pickleshare-0.7.5-py37_0\n",
            "  pillow             pkgs/main/linux-64::pillow-6.2.0-py37h34e0f95_0\n",
            "  pip                pkgs/main/linux-64::pip-19.2.3-py37_0\n",
            "  pixman             pkgs/main/linux-64::pixman-0.38.0-h7b6447c_0\n",
            "  pkginfo            pkgs/main/linux-64::pkginfo-1.5.0.1-py37_0\n",
            "  pluggy             pkgs/main/linux-64::pluggy-0.13.0-py37_0\n",
            "  ply                pkgs/main/linux-64::ply-3.11-py37_0\n",
            "  prometheus_client  pkgs/main/noarch::prometheus_client-0.7.1-py_0\n",
            "  prompt_toolkit     pkgs/main/noarch::prompt_toolkit-2.0.10-py_0\n",
            "  psutil             pkgs/main/linux-64::psutil-5.6.3-py37h7b6447c_0\n",
            "  ptyprocess         pkgs/main/linux-64::ptyprocess-0.6.0-py37_0\n",
            "  py                 pkgs/main/linux-64::py-1.8.0-py37_0\n",
            "  py-lief            pkgs/main/linux-64::py-lief-0.9.0-py37h7725739_2\n",
            "  pycodestyle        pkgs/main/linux-64::pycodestyle-2.5.0-py37_0\n",
            "  pycosat            pkgs/main/linux-64::pycosat-0.6.3-py37h14c3975_0\n",
            "  pycparser          pkgs/main/linux-64::pycparser-2.19-py37_0\n",
            "  pycrypto           pkgs/main/linux-64::pycrypto-2.6.1-py37h14c3975_9\n",
            "  pycurl             pkgs/main/linux-64::pycurl-7.43.0.3-py37h1ba5d50_0\n",
            "  pyflakes           pkgs/main/linux-64::pyflakes-2.1.1-py37_0\n",
            "  pygments           pkgs/main/noarch::pygments-2.4.2-py_0\n",
            "  pylint             pkgs/main/linux-64::pylint-2.4.2-py37_0\n",
            "  pyodbc             pkgs/main/linux-64::pyodbc-4.0.27-py37he6710b0_0\n",
            "  pyopenssl          pkgs/main/linux-64::pyopenssl-19.0.0-py37_0\n",
            "  pyparsing          pkgs/main/noarch::pyparsing-2.4.2-py_0\n",
            "  pyqt               pkgs/main/linux-64::pyqt-5.9.2-py37h05f1152_2\n",
            "  pyrsistent         pkgs/main/linux-64::pyrsistent-0.15.4-py37h7b6447c_0\n",
            "  pysocks            pkgs/main/linux-64::pysocks-1.7.1-py37_0\n",
            "  pytables           pkgs/main/linux-64::pytables-3.5.2-py37h71ec239_1\n",
            "  pytest             pkgs/main/linux-64::pytest-5.2.1-py37_0\n",
            "  pytest-arraydiff   pkgs/main/linux-64::pytest-arraydiff-0.3-py37h39e3cac_0\n",
            "  pytest-astropy     pkgs/main/linux-64::pytest-astropy-0.5.0-py37_0\n",
            "  pytest-doctestplus pkgs/main/noarch::pytest-doctestplus-0.4.0-py_0\n",
            "  pytest-openfiles   pkgs/main/noarch::pytest-openfiles-0.4.0-py_0\n",
            "  pytest-remotedata  pkgs/main/linux-64::pytest-remotedata-0.3.2-py37_0\n",
            "  python             pkgs/main/linux-64::python-3.7.4-h265db76_1\n",
            "  python-dateutil    pkgs/main/linux-64::python-dateutil-2.8.0-py37_0\n",
            "  python-libarchive~ pkgs/main/linux-64::python-libarchive-c-2.8-py37_13\n",
            "  pytz               pkgs/main/noarch::pytz-2019.3-py_0\n",
            "  pywavelets         pkgs/main/linux-64::pywavelets-1.0.3-py37hdd07704_1\n",
            "  pyyaml             pkgs/main/linux-64::pyyaml-5.1.2-py37h7b6447c_0\n",
            "  pyzmq              pkgs/main/linux-64::pyzmq-18.1.0-py37he6710b0_0\n",
            "  qt                 pkgs/main/linux-64::qt-5.9.7-h5867ecd_1\n",
            "  qtawesome          pkgs/main/noarch::qtawesome-0.6.0-py_0\n",
            "  qtconsole          pkgs/main/noarch::qtconsole-4.5.5-py_0\n",
            "  qtpy               pkgs/main/noarch::qtpy-1.9.0-py_0\n",
            "  readline           pkgs/main/linux-64::readline-7.0-h7b6447c_5\n",
            "  requests           pkgs/main/linux-64::requests-2.22.0-py37_0\n",
            "  ripgrep            pkgs/main/linux-64::ripgrep-0.10.0-hc07d326_0\n",
            "  rope               pkgs/main/noarch::rope-0.14.0-py_0\n",
            "  ruamel_yaml        pkgs/main/linux-64::ruamel_yaml-0.15.46-py37h14c3975_0\n",
            "  scikit-image       pkgs/main/linux-64::scikit-image-0.15.0-py37he6710b0_0\n",
            "  scikit-learn       pkgs/main/linux-64::scikit-learn-0.21.3-py37hd81dba3_0\n",
            "  scipy              pkgs/main/linux-64::scipy-1.3.1-py37h7c811a0_0\n",
            "  seaborn            pkgs/main/linux-64::seaborn-0.9.0-py37_0\n",
            "  secretstorage      pkgs/main/linux-64::secretstorage-3.1.1-py37_0\n",
            "  send2trash         pkgs/main/linux-64::send2trash-1.5.0-py37_0\n",
            "  setuptools         pkgs/main/linux-64::setuptools-41.4.0-py37_0\n",
            "  simplegeneric      pkgs/main/linux-64::simplegeneric-0.8.1-py37_2\n",
            "  singledispatch     pkgs/main/linux-64::singledispatch-3.4.0.3-py37_0\n",
            "  sip                pkgs/main/linux-64::sip-4.19.8-py37hf484d3e_0\n",
            "  six                pkgs/main/linux-64::six-1.12.0-py37_0\n",
            "  snappy             pkgs/main/linux-64::snappy-1.1.7-hbae5bb6_3\n",
            "  snowballstemmer    pkgs/main/noarch::snowballstemmer-2.0.0-py_0\n",
            "  sortedcollections  pkgs/main/linux-64::sortedcollections-1.1.2-py37_0\n",
            "  sortedcontainers   pkgs/main/linux-64::sortedcontainers-2.1.0-py37_0\n",
            "  soupsieve          pkgs/main/linux-64::soupsieve-1.9.3-py37_0\n",
            "  sphinx             pkgs/main/noarch::sphinx-2.2.0-py_0\n",
            "  sphinxcontrib      pkgs/main/linux-64::sphinxcontrib-1.0-py37_1\n",
            "  sphinxcontrib-app~ pkgs/main/noarch::sphinxcontrib-applehelp-1.0.1-py_0\n",
            "  sphinxcontrib-dev~ pkgs/main/noarch::sphinxcontrib-devhelp-1.0.1-py_0\n",
            "  sphinxcontrib-htm~ pkgs/main/noarch::sphinxcontrib-htmlhelp-1.0.2-py_0\n",
            "  sphinxcontrib-jsm~ pkgs/main/noarch::sphinxcontrib-jsmath-1.0.1-py_0\n",
            "  sphinxcontrib-qth~ pkgs/main/noarch::sphinxcontrib-qthelp-1.0.2-py_0\n",
            "  sphinxcontrib-ser~ pkgs/main/noarch::sphinxcontrib-serializinghtml-1.1.3-py_0\n",
            "  sphinxcontrib-web~ pkgs/main/noarch::sphinxcontrib-websupport-1.1.2-py_0\n",
            "  spyder             pkgs/main/linux-64::spyder-3.3.6-py37_0\n",
            "  spyder-kernels     pkgs/main/linux-64::spyder-kernels-0.5.2-py37_0\n",
            "  sqlalchemy         pkgs/main/linux-64::sqlalchemy-1.3.9-py37h7b6447c_0\n",
            "  sqlite             pkgs/main/linux-64::sqlite-3.30.0-h7b6447c_0\n",
            "  statsmodels        pkgs/main/linux-64::statsmodels-0.10.1-py37hdd07704_0\n",
            "  sympy              pkgs/main/linux-64::sympy-1.4-py37_0\n",
            "  tbb                pkgs/main/linux-64::tbb-2019.4-hfd86e86_0\n",
            "  tblib              pkgs/main/noarch::tblib-1.4.0-py_0\n",
            "  terminado          pkgs/main/linux-64::terminado-0.8.2-py37_0\n",
            "  testpath           pkgs/main/linux-64::testpath-0.4.2-py37_0\n",
            "  tk                 pkgs/main/linux-64::tk-8.6.8-hbc83047_0\n",
            "  toolz              pkgs/main/noarch::toolz-0.10.0-py_0\n",
            "  tornado            pkgs/main/linux-64::tornado-6.0.3-py37h7b6447c_0\n",
            "  tqdm               pkgs/main/noarch::tqdm-4.36.1-py_0\n",
            "  traitlets          pkgs/main/linux-64::traitlets-4.3.3-py37_0\n",
            "  unicodecsv         pkgs/main/linux-64::unicodecsv-0.14.1-py37_0\n",
            "  unixodbc           pkgs/main/linux-64::unixodbc-2.3.7-h14c3975_0\n",
            "  urllib3            pkgs/main/linux-64::urllib3-1.24.2-py37_0\n",
            "  wcwidth            pkgs/main/linux-64::wcwidth-0.1.7-py37_0\n",
            "  webencodings       pkgs/main/linux-64::webencodings-0.5.1-py37_1\n",
            "  werkzeug           pkgs/main/noarch::werkzeug-0.16.0-py_0\n",
            "  wheel              pkgs/main/linux-64::wheel-0.33.6-py37_0\n",
            "  widgetsnbextension pkgs/main/linux-64::widgetsnbextension-3.5.1-py37_0\n",
            "  wrapt              pkgs/main/linux-64::wrapt-1.11.2-py37h7b6447c_0\n",
            "  wurlitzer          pkgs/main/linux-64::wurlitzer-1.0.3-py37_0\n",
            "  xlrd               pkgs/main/linux-64::xlrd-1.2.0-py37_0\n",
            "  xlsxwriter         pkgs/main/noarch::xlsxwriter-1.2.1-py_0\n",
            "  xlwt               pkgs/main/linux-64::xlwt-1.3.0-py37_0\n",
            "  xz                 pkgs/main/linux-64::xz-5.2.4-h14c3975_4\n",
            "  yaml               pkgs/main/linux-64::yaml-0.1.7-had09818_2\n",
            "  zeromq             pkgs/main/linux-64::zeromq-4.3.1-he6710b0_3\n",
            "  zict               pkgs/main/noarch::zict-1.0.0-py_0\n",
            "  zipp               pkgs/main/noarch::zipp-0.6.0-py_0\n",
            "  zlib               pkgs/main/linux-64::zlib-1.2.11-h7b6447c_3\n",
            "  zstd               pkgs/main/linux-64::zstd-1.3.7-h0b5b093_0\n",
            "\n",
            "\n",
            "Preparing transaction: | \b\b/ \b\b- \b\b\\ \b\b| \b\b/ \b\b- \b\b\\ \b\b| \b\b/ \b\b- \b\b\\ \b\b| \b\b/ \b\b- \b\b\\ \b\b| \b\b/ \b\b- \b\b\\ \b\b| \b\b/ \b\b- \b\b\\ \b\b| \b\b/ \b\b- \b\b\\ \b\b| \b\b/ \b\b- \b\b\\ \b\b| \b\b/ \b\b- \b\b\\ \b\b| \b\bdone\n",
            "Executing transaction: - \b\b\\ \b\b| \b\b/ \b\b- \b\b\\ \b\b| \b\b/ \b\b- \b\b\\ \b\b| \b\b/ \b\b- \b\b\\ \b\b| \b\b/ \b\b- \b\b\\ \b\b| \b\b/ \b\b- \b\b\\ \b\b| \b\b/ \b\b- \b\b\\ \b\b| \b\b/ \b\b- \b\b\\ \b\b| \b\b/ \b\b- \b\b\\ \b\b| \b\b/ \b\b- \b\b\\ \b\b| \b\b/ \b\b- \b\b\\ \b\b| \b\b/ \b\b- \b\b\\ \b\b| \b\b/ \b\b- \b\b\\ \b\b| \b\b/ \b\b- \b\b\\ \b\b| \b\b/ \b\b- \b\b\\ \b\b| \b\b/ \b\b- \b\b\\ \b\b| \b\b/ \b\b- \b\b\\ \b\b| \b\b/ \b\b- \b\b\\ \b\b| \b\b/ \b\b- \b\b\\ \b\b| \b\b/ \b\b- \b\b\\ \b\b| \b\b/ \b\b- \b\b\\ \b\b| \b\b/ \b\b- \b\b\\ \b\b| \b\b/ \b\b- \b\b\\ \b\b| \b\b/ \b\b- \b\b\\ \b\b| \b\b/ \b\b- \b\b\\ \b\b| \b\b/ \b\b- \b\b\\ \b\b| \b\b/ \b\b- \b\b\\ \b\b| \b\b/ \b\b- \b\b\\ \b\b| \b\b/ \b\b- \b\b\\ \b\b| \b\b/ \b\b- \b\b\\ \b\b| \b\b/ \b\b- \b\b\\ \b\b| \b\b/ \b\b- \b\b\\ \b\b| \b\b/ \b\b- \b\b\\ \b\b| \b\b/ \b\b- \b\b\\ \b\b| \b\b/ \b\b- \b\b\\ \b\b| \b\b/ \b\b- \b\b\\ \b\b| \b\b/ \b\b- \b\b\\ \b\b| \b\b/ \b\b- \b\b\\ \b\b| \b\b/ \b\b- \b\b\\ \b\b| \b\b/ \b\b- \b\b\\ \b\b| \b\b/ \b\b- \b\b\\ \b\b| \b\b/ \b\b- \b\b\\ \b\b| \b\b/ \b\b- \b\b\\ \b\b| \b\b/ \b\b- \b\b\\ \b\b| \b\b/ \b\b- \b\b\\ \b\b| \b\b/ \b\b- \b\b\\ \b\b| \b\b/ \b\b- \b\b\\ \b\b| \b\b/ \b\b- \b\b\\ \b\b| \b\b/ \b\b- \b\b\\ \b\b| \b\b/ \b\b- \b\b\\ \b\b| \b\b/ \b\b- \b\b\\ \b\b| \b\b/ \b\b- \b\b\\ \b\b| \b\b/ \b\b- \b\b\\ \b\b| \b\b/ \b\b- \b\b\\ \b\b| \b\b/ \b\b- \b\b\\ \b\b| \b\b/ \b\b- \b\b\\ \b\b| \b\b/ \b\b- \b\b\\ \b\b| \b\b/ \b\b- \b\b\\ \b\b| \b\b/ \b\b- \b\b\\ \b\b| \b\b/ \b\b- \b\b\\ \b\b| \b\b/ \b\b- \b\b\\ \b\b| \b\b/ \b\b- \b\b\\ \b\b| \b\b/ \b\b- \b\b\\ \b\b| \b\b/ \b\b- \b\b\\ \b\b| \b\b/ \b\b- \b\b\\ \b\b| \b\b/ \b\b- \b\b\\ \b\b| \b\b/ \b\b- \b\b\\ \b\b| \b\b/ \b\b- \b\b\\ \b\b| \b\b/ \b\b- \b\b\\ \b\b| \b\b/ \b\bdone\n",
            "installation finished.\n",
            "WARNING:\n",
            "    You currently have a PYTHONPATH environment variable set. This may cause\n",
            "    unexpected behavior when running the Python interpreter in Anaconda3.\n",
            "    For best results, please verify that your PYTHONPATH only points to\n",
            "    directories of packages that are compatible with the Python interpreter\n",
            "    in Anaconda3: /usr/local\n",
            "Collecting package metadata (current_repodata.json): - \b\b\\ \b\b| \b\b/ \b\b- \b\b\\ \b\b| \b\b/ \b\b- \b\b\\ \b\b| \b\b/ \b\b- \b\b\\ \b\b| \b\b/ \b\b- \b\b\\ \b\b| \b\b/ \b\b- \b\b\\ \b\b| \b\b/ \b\b- \b\b\\ \b\b| \b\b/ \b\b- \b\b\\ \b\b| \b\b/ \b\b- \b\b\\ \b\b| \b\b/ \b\b- \b\b\\ \b\b| \b\b/ \b\b- \b\b\\ \b\b| \b\b/ \b\b- \b\b\\ \b\b| \b\b/ \b\b- \b\b\\ \b\b| \b\b/ \b\b- \b\b\\ \b\b| \b\b/ \b\b- \b\b\\ \b\b| \b\b/ \b\b- \b\b\\ \b\b| \b\b/ \b\b- \b\b\\ \b\b| \b\b/ \b\b- \b\b\\ \b\b| \b\b/ \b\b- \b\b\\ \b\b| \b\b/ \b\b- \b\b\\ \b\b| \b\b/ \b\b- \b\b\\ \b\b| \b\b/ \b\b- \b\b\\ \b\b| \b\b/ \b\b- \b\b\\ \b\b| \b\b/ \b\b- \b\b\\ \b\b| \b\b/ \b\b- \b\b\\ \b\b| \b\b/ \b\b- \b\b\\ \b\b| \b\b/ \b\b- \b\b\\ \b\b| \b\b/ \b\b- \b\b\\ \b\b| \b\b/ \b\b- \b\b\\ \b\b| \b\b/ \b\b- \b\b\\ \b\b| \b\b/ \b\b- \b\b\\ \b\b| \b\b/ \b\b- \b\b\\ \b\b| \b\b/ \b\b- \b\b\\ \b\b| \b\b/ \b\b- \b\b\\ \b\b| \b\b/ \b\b- \b\b\\ \b\b| \b\b/ \b\b- \b\b\\ \b\b| \b\b/ \b\b- \b\b\\ \b\b| \b\b/ \b\b- \b\b\\ \b\b| \b\b/ \b\b- \b\b\\ \b\b| \b\b/ \b\b- \b\b\\ \b\b| \b\b/ \b\b- \b\b\\ \b\b| \b\bdone\n",
            "Solving environment: - \b\b\\ \b\b| \b\b/ \b\b- \b\b\\ \b\b| \b\b/ \b\b- \b\b\\ \b\b| \b\b/ \b\b- \b\b\\ \b\b| \b\b/ \b\b- \b\b\\ \b\b| \b\b/ \b\b- \b\b\\ \b\b| \b\b/ \b\b- \b\b\\ \b\b| \b\b/ \b\b- \b\b\\ \b\b| \b\b/ \b\b- \b\b\\ \b\b| \b\b/ \b\b- \b\b\\ \b\b| \b\b/ \b\b- \b\b\\ \b\b| \b\b/ \b\b- \b\b\\ \b\b| \b\b/ \b\b- \b\b\\ \b\b| \b\b/ \b\b- \b\b\\ \b\b| \b\b/ \b\b- \b\b\\ \b\b| \b\b/ \b\b- \b\b\\ \b\b| \b\b/ \b\b- \b\b\\ \b\b| \b\b/ \b\b- \b\b\\ \b\b| \b\b/ \b\b- \b\b\\ \b\b| \b\b/ \b\b- \b\b\\ \b\b| \b\b/ \b\b- \b\b\\ \b\b| \b\b/ \b\b- \b\b\\ \b\b| \b\b/ \b\b- \b\b\\ \b\b| \b\b/ \b\b- \b\b\\ \b\b| \b\b/ \b\b- \b\b\\ \b\b| \b\b/ \b\b- \b\b\\ \b\b| \b\b/ \b\b- \b\b\\ \b\b| \b\b/ \b\b- \b\b\\ \b\b| \b\b/ \b\b- \b\b\\ \b\b| \b\b/ \b\b- \b\b\\ \b\b| \b\b/ \b\b- \b\b\\ \b\b| \b\b/ \b\b- \b\b\\ \b\b| \b\b/ \b\b- \b\b\\ \b\b| \b\b/ \b\b- \b\b\\ \b\b| \b\b/ \b\b- \b\b\\ \b\b| \b\b/ \b\b- \b\b\\ \b\b| \b\b/ \b\b- \b\b\\ \b\b| \b\b/ \b\b- \b\b\\ \b\b| \b\b/ \b\b- \b\b\\ \b\b| \b\b/ \b\b- \b\b\\ \b\b| \b\b/ \b\b- \b\b\\ \b\b| \b\b/ \b\b- \b\b\\ \b\b| \b\b/ \b\b- \b\b\\ \b\b| \b\b/ \b\b- \b\b\\ \b\b| \b\b/ \b\b- \b\b\\ \b\b| \b\b/ \b\b- \b\b\\ \b\b| \b\b/ \b\b- \b\b\\ \b\b| \b\b/ \b\b- \b\b\\ \b\b| \b\b/ \b\b- \b\b\\ \b\b| \b\b/ \b\b- \b\b\\ \b\b| \b\b/ \b\b- \b\b\\ \b\b| \b\b/ \b\b- \b\b\\ \b\b| \b\b/ \b\b- \b\b\\ \b\b| \b\b/ \b\b- \b\b\\ \b\b| \b\b/ \b\b- \b\b\\ \b\b| \b\b/ \b\b- \b\b\\ \b\b| \b\b/ \b\b- \b\b\\ \b\b| \b\b/ \b\b- \b\b\\ \b\b| \b\b/ \b\b- \b\b\\ \b\b| \b\b/ \b\b- \b\b\\ \b\b| \b\b/ \b\b- \b\b\\ \b\b| \b\b/ \b\b- \b\b\\ \b\b| \b\b/ \b\b- \b\b\\ \b\b| \b\b/ \b\b- \b\b\\ \b\b| \b\b/ \b\b- \b\b\\ \b\b| \b\b/ \b\b- \b\b\\ \b\b| \b\b/ \b\b- \b\b\\ \b\b| \b\b/ \b\b- \b\b\\ \b\b| \b\b/ \b\b- \b\b\\ \b\b| \b\b/ \b\b- \b\b\\ \b\b| \b\b/ \b\b- \b\b\\ \b\b| \b\b/ \b\b- \b\b\\ \b\b| \b\b/ \b\b- \b\b\\ \b\b| \b\b/ \b\b- \b\b\\ \b\b| \b\b/ \b\b- \b\b\\ \b\b| \b\b/ \b\b- \b\b\\ \b\b| \b\b/ \b\b- \b\b\\ \b\b| \b\b/ \b\b- \b\b\\ \b\b| \b\b/ \b\b- \b\b\\ \b\b| \b\b/ \b\b- \b\b\\ \b\b| \b\b/ \b\b- \b\b\\ \b\b| \b\b/ \b\b- \b\b\\ \b\b| \b\b/ \b\b- \b\b\\ \b\b| \b\b/ \b\b- \b\b\\ \b\b| \b\b/ \b\b- \b\b\\ \b\b| \b\b/ \b\b- \b\b\\ \b\b| \b\b/ \b\b- \b\b\\ \b\b| \b\b/ \b\b- \b\b\\ \b\b| \b\b/ \b\b- \b\b\\ \b\b| \b\b/ \b\b- \b\b\\ \b\b| \b\b/ \b\b- \b\b\\ \b\b| \b\b/ \b\b- \b\b\\ \b\b| \b\b/ \b\b- \b\b\\ \b\b| \b\b/ \b\b- \b\b\\ \b\b| \b\b/ \b\b- \b\b\\ \b\b| \b\b/ \b\b- \b\b\\ \b\b| \b\b/ \b\b- \b\b\\ \b\b| \b\b/ \b\b- \b\b\\ \b\b| \b\b/ \b\b- \b\b\\ \b\b| \b\b/ \b\b- \b\b\\ \b\b| \b\b/ \b\b- \b\b\\ \b\b| \b\b/ \b\b- \b\b\\ \b\b| \b\b/ \b\b- \b\b\\ \b\b| \b\b/ \b\b- \b\b\\ \b\b| \b\b/ \b\b- \b\b\\ \b\b| \b\b/ \b\b- \b\b\\ \b\b| \b\b/ \b\b- \b\b\\ \b\b| \b\b/ \b\b- \b\b\\ \b\b| \b\b/ \b\b- \b\b\\ \b\b| \b\b/ \b\b- \b\b\\ \b\b| \b\b/ \b\b- \b\b\\ \b\b| \b\b/ \b\b- \b\b\\ \b\b| \b\b/ \b\b- \b\b\\ \b\b| \b\b/ \b\b- \b\b\\ \b\b| \b\b/ \b\b- \b\b\\ \b\b| \b\b/ \b\b- \b\b\\ \b\b| \b\b/ \b\b- \b\b\\ \b\b| \b\b/ \b\b- \b\b\\ \b\b| \b\b/ \b\b- \b\b\\ \b\b| \b\b/ \b\b- \b\b\\ \b\b| \b\b/ \b\b- \b\b\\ \b\b| \b\b/ \b\b- \b\b\\ \b\b| \b\b/ \b\b- \b\b\\ \b\b| \b\b/ \b\b- \b\b\\ \b\b| \b\b/ \b\b- \b\b\\ \b\b| \b\b/ \b\b- \b\b\\ \b\b| \b\b/ \b\b- \b\b\\ \b\b| \b\b/ \b\b- \b\b\\ \b\b| \b\b/ \b\b- \b\b\\ \b\b| \b\b/ \b\b- \b\b\\ \b\b| \b\b/ \b\b- \b\b\\ \b\b| \b\b/ \b\b- \b\b\\ \b\b| \b\b/ \b\b- \b\b\\ \b\b| \b\b/ \b\b- \b\b\\ \b\b| \b\b/ \b\b- \b\b\\ \b\b| \b\b/ \b\b- \b\b\\ \b\b| \b\b/ \b\b- \b\b\\ \b\b| \b\b/ \b\b- \b\b\\ \b\b| \b\b/ \b\b- \b\b\\ \b\b| \b\b/ \b\b- \b\b\\ \b\b| \b\b/ \b\b- \b\b\\ \b\b| \b\b/ \b\b- \b\b\\ \b\b| \b\b/ \b\b- \b\b\\ \b\b| \b\b/ \b\b- \b\b\\ \b\b| \b\b/ \b\b- \b\b\\ \b\b| \b\b/ \b\b- \b\b\\ \b\b| \b\b/ \b\b- \b\b\\ \b\b| \b\b/ \b\b- \b\b\\ \b\b| \b\b/ \b\b- \b\b\\ \b\b| \b\b/ \b\b- \b\b\\ \b\b| \b\b/ \b\b- \b\b\\ \b\b| \b\b/ \b\b- \b\b\\ \b\b| \b\b/ \b\b- \b\b\\ \b\b| \b\b/ \b\b- \b\b\\ \b\b| \b\b/ \b\b- \b\b\\ \b\b| \b\b/ \b\b- \b\b\\ \b\b| \b\b/ \b\b- \b\b\\ \b\b| \b\b/ \b\b- \b\b\\ \b\b| \b\b/ \b\b- \b\b\\ \b\b| \b\b/ \b\b- \b\b\\ \b\b| \b\b/ \b\b- \b\b\\ \b\b| \b\b/ \b\b- \b\b\\ \b\b| \b\b/ \b\b- \b\b\\ \b\b| \b\b/ \b\bfailed with initial frozen solve. Retrying with flexible solve.\n",
            "Solving environment: \\ \b\b| \b\b/ \b\b- \b\b\\ \b\b| \b\b/ \b\b- \b\b\\ \b\b| \b\b/ \b\b- \b\b\\ \b\b| \b\b/ \b\b- \b\b\\ \b\b| \b\b/ \b\b- \b\b\\ \b\b| \b\b/ \b\b- \b\b\\ \b\b| \b\b/ \b\b- \b\b\\ \b\b| \b\b/ \b\b- \b\b\\ \b\b| \b\b/ \b\b- \b\b\\ \b\b| \b\b/ \b\b- \b\b\\ \b\b| \b\b/ \b\b- \b\b\\ \b\b| \b\b/ \b\b- \b\b\\ \b\b| \b\b/ \b\b- \b\b\\ \b\b| \b\b/ \b\b- \b\b\\ \b\b| \b\b/ \b\b- \b\b\\ \b\b| \b\b/ \b\b- \b\b\\ \b\b| \b\b/ \b\b- \b\b\\ \b\b| \b\b/ \b\b- \b\b\\ \b\b| \b\b/ \b\b- \b\b\\ \b\b| \b\b/ \b\b- \b\b\\ \b\b| \b\b/ \b\b- \b\b\\ \b\b| \b\b/ \b\b- \b\b\\ \b\b| \b\b/ \b\b- \b\b\\ \b\b| \b\b/ \b\b- \b\b\\ \b\b| \b\b/ \b\b- \b\b\\ \b\b| \b\b/ \b\b- \b\b\\ \b\b| \b\b/ \b\b- \b\b\\ \b\b| \b\b/ \b\b- \b\b\\ \b\b| \b\b/ \b\b- \b\b\\ \b\b| \b\b/ \b\b- \b\b\\ \b\b| \b\b/ \b\b- \b\b\\ \b\b| \b\b/ \b\b- \b\b\\ \b\b| \b\b/ \b\b- \b\b\\ \b\b| \b\b/ \b\b- \b\b\\ \b\b| \b\b/ \b\b- \b\b\\ \b\b| \b\b/ \b\b- \b\b\\ \b\b| \b\b/ \b\b- \b\b\\ \b\b| \b\b/ \b\b- \b\b\\ \b\b| \b\b/ \b\b- \b\b\\ \b\b| \b\b/ \b\b- \b\b\\ \b\b| \b\b/ \b\b- \b\b\\ \b\b| \b\b/ \b\b- \b\b\\ \b\b| \b\b/ \b\b- \b\b\\ \b\b| \b\b/ \b\b- \b\b\\ \b\b| \b\b/ \b\b- \b\b\\ \b\b| \b\b/ \b\b- \b\b\\ \b\b| \b\b/ \b\b- \b\b\\ \b\b| \b\b/ \b\b- \b\b\\ \b\b| \b\b/ \b\b- \b\b\\ \b\b| \b\b/ \b\b- \b\b\\ \b\b| \b\b/ \b\b- \b\b\\ \b\b| \b\b/ \b\b- \b\b\\ \b\b| \b\b/ \b\b- \b\b\\ \b\b| \b\b/ \b\b- \b\b\\ \b\b| \b\b/ \b\b- \b\b\\ \b\b| \b\b/ \b\b- \b\b\\ \b\b| \b\b/ \b\b- \b\b\\ \b\b| \b\b/ \b\b- \b\b\\ \b\b| \b\b/ \b\b- \b\b\\ \b\b| \b\b/ \b\b- \b\b\\ \b\b| \b\b/ \b\b- \b\b\\ \b\b| \b\b/ \b\b- \b\b\\ \b\b| \b\b/ \b\b- \b\b\\ \b\b| \b\b/ \b\b- \b\b\\ \b\b| \b\b/ \b\b- \b\b\\ \b\b| \b\b/ \b\b- \b\b\\ \b\b| \b\b/ \b\b- \b\b\\ \b\b| \b\b/ \b\b- \b\b\\ \b\b| \b\b/ \b\b- \b\b\\ \b\b| \b\b/ \b\b- \b\b\\ \b\b| \b\b/ \b\b- \b\b\\ \b\b| \b\b/ \b\b- \b\b\\ \b\b| \b\b/ \b\b- \b\b\\ \b\b| \b\b/ \b\b- \b\b\\ \b\b| \b\b/ \b\b- \b\b\\ \b\b| \b\b/ \b\b- \b\b\\ \b\b| \b\b/ \b\b- \b\b\\ \b\b| \b\b/ \b\b- \b\b\\ \b\b| \b\b/ \b\b- \b\b\\ \b\b| \b\b/ \b\b- \b\b\\ \b\b| \b\b/ \b\b- \b\b\\ \b\b| \b\b/ \b\b- \b\b\\ \b\b| \b\b/ \b\b- \b\b\\ \b\b| \b\b/ \b\b- \b\b\\ \b\b| \b\b/ \b\b- \b\b\\ \b\b| \b\b/ \b\b- \b\b\\ \b\b| \b\b/ \b\b- \b\b\\ \b\b| \b\b/ \b\b- \b\b\\ \b\b| \b\b/ \b\b- \b\b\\ \b\b| \b\b/ \b\b- \b\b\\ \b\b| \b\b/ \b\b- \b\b\\ \b\b| \b\b/ \b\b- \b\b\\ \b\b| \b\b/ \b\b- \b\b\\ \b\b| \b\b/ \b\b- \b\b\\ \b\b| \b\b/ \b\b- \b\b\\ \b\b| \b\b/ \b\b- \b\b\\ \b\b| \b\b/ \b\b- \b\b\\ \b\b| \b\b/ \b\b- \b\b\\ \b\b| \b\b/ \b\b- \b\b\\ \b\b| \b\b/ \b\b- \b\b\\ \b\b| \b\b/ \b\b- \b\b\\ \b\b| \b\b/ \b\b- \b\b\\ \b\b| \b\b/ \b\b- \b\b\\ \b\b| \b\b/ \b\b- \b\b\\ \b\b| \b\b/ \b\b- \b\b\\ \b\b| \b\b/ \b\b- \b\b\\ \b\b| \b\b/ \b\b- \b\b\\ \b\b| \b\b/ \b\b- \b\b\\ \b\b| \b\b/ \b\b- \b\b\\ \b\b| \b\b/ \b\b- \b\b\\ \b\b| \b\b/ \b\b- \b\b\\ \b\b| \b\b/ \b\b- \b\b\\ \b\b| \b\b/ \b\b- \b\b\\ \b\b| \b\b/ \b\b- \b\b\\ \b\b| \b\b/ \b\b- \b\b\\ \b\b| \b\b/ \b\b- \b\b\\ \b\b| \b\b/ \b\b- \b\b\\ \b\b| \b\b/ \b\b- \b\b\\ \b\b| \b\b/ \b\b- \b\b\\ \b\b| \b\b/ \b\b- \b\b\\ \b\b| \b\b/ \b\b- \b\b\\ \b\b| \b\b/ \b\b- \b\b\\ \b\b| \b\b/ \b\b- \b\b\\ \b\b| \b\b/ \b\b- \b\b\\ \b\b| \b\b/ \b\b- \b\b\\ \b\b| \b\b/ \b\b- \b\b\\ \b\b| \b\b/ \b\b- \b\b\\ \b\b| \b\b/ \b\b- \b\b\\ \b\b| \b\b/ \b\b- \b\b\\ \b\b| \b\b/ \b\b- \b\b\\ \b\b| \b\b/ \b\b- \b\b\\ \b\b| \b\b/ \b\b- \b\b\\ \b\b| \b\b/ \b\b- \b\b\\ \b\b| \b\b/ \b\b- \b\b\\ \b\b| \b\b/ \b\b- \b\b\\ \b\b| \b\b/ \b\b- \b\b\\ \b\b| \b\b/ \b\b- \b\b\\ \b\b| \b\b/ \b\b- \b\b\\ \b\b| \b\b/ \b\b- \b\b\\ \b\b| \b\b/ \b\b- \b\b\\ \b\b| \b\b/ \b\b- \b\b\\ \b\b| \b\b/ \b\b- \b\b\\ \b\b| \b\b/ \b\b- \b\b\\ \b\b| \b\b/ \b\b- \b\b\\ \b\b| \b\b/ \b\b- \b\b\\ \b\b| \b\b/ \b\b- \b\b\\ \b\b| \b\b/ \b\b- \b\b\\ \b\b| \b\b/ \b\b- \b\b\\ \b\b| \b\b/ \b\b- \b\b\\ \b\b| \b\b/ \b\b- \b\b\\ \b\b| \b\b/ \b\b- \b\b\\ \b\b| \b\b/ \b\b- \b\b\\ \b\b| \b\b/ \b\b- \b\b\\ \b\b| \b\b/ \b\b- \b\b\\ \b\b| \b\b/ \b\b- \b\b\\ \b\b| \b\b/ \b\b- \b\b\\ \b\b| \b\b/ \b\b- \b\b\\ \b\b| \b\b/ \b\b- \b\b\\ \b\b| \b\b/ \b\b- \b\b\\ \b\b| \b\b/ \b\b- \b\b\\ \b\b| \b\b/ \b\b- \b\b\\ \b\b| \b\b/ \b\b- \b\b\\ \b\b| \b\b/ \b\b- \b\b\\ \b\b| \b\b/ \b\b- \b\b\\ \b\b| \b\b/ \b\b- \b\b\\ \b\b| \b\b/ \b\b- \b\b\\ \b\b| \b\b/ \b\b- \b\b\\ \b\b| \b\b/ \b\b- \b\b\\ \b\b| \b\b/ \b\b- \b\b\\ \b\b| \b\bfailed with repodata from current_repodata.json, will retry with next repodata source.\n",
            "Collecting package metadata (repodata.json): - \b\b\\ \b\b| \b\b/ \b\b- \b\b\\ \b\b| \b\b/ \b\b- \b\b\\ \b\b| \b\b/ \b\b- \b\b\\ \b\b| \b\b/ \b\b- \b\b\\ \b\b| \b\b/ \b\b- \b\b\\ \b\b| \b\b/ \b\b- \b\b\\ \b\b| \b\b/ \b\b- \b\b\\ \b\b| \b\b/ \b\b- \b\b\\ \b\b| \b\b/ \b\b- \b\b\\ \b\b| \b\b/ \b\b- \b\b\\ \b\b| \b\b/ \b\b- \b\b\\ \b\b| \b\b/ \b\b- \b\b\\ \b\b| \b\b/ \b\b- \b\b\\ \b\b| \b\b/ \b\b- \b\b\\ \b\b| \b\b/ \b\b- \b\b\\ \b\b| \b\b/ \b\b- \b\b\\ \b\b| \b\b/ \b\b- \b\b\\ \b\b| \b\b/ \b\b- \b\b\\ \b\b| \b\b/ \b\b- \b\b\\ \b\b| \b\b/ \b\b- \b\b\\ \b\b| \b\b/ \b\b- \b\b\\ \b\b| \b\b/ \b\b- \b\b\\ \b\b| \b\b/ \b\b- \b\b\\ \b\b| \b\b/ \b\b- \b\b\\ \b\b| \b\b/ \b\b- \b\b\\ \b\b| \b\b/ \b\b- \b\b\\ \b\b| \b\b/ \b\b- \b\b\\ \b\b| \b\b/ \b\b- \b\b\\ \b\b| \b\b/ \b\b- \b\b\\ \b\b| \b\b/ \b\b- \b\b\\ \b\b| \b\b/ \b\b- \b\b\\ \b\b| \b\b/ \b\b- \b\b\\ \b\b| \b\b/ \b\b- \b\b\\ \b\b| \b\b/ \b\b- \b\b\\ \b\b| \b\b/ \b\b- \b\b\\ \b\b| \b\b/ \b\b- \b\b\\ \b\b| \b\b/ \b\b- \b\b\\ \b\b| \b\b/ \b\b- \b\b\\ \b\b| \b\b/ \b\b- \b\b\\ \b\b| \b\b/ \b\b- \b\b\\ \b\b| \b\b/ \b\b- \b\b\\ \b\b| \b\b/ \b\b- \b\b\\ \b\b| \b\b/ \b\b- \b\b\\ \b\b| \b\b/ \b\b- \b\b\\ \b\b| \b\b/ \b\b- \b\b\\ \b\b| \b\b/ \b\b- \b\b\\ \b\b| \b\b/ \b\b- \b\b\\ \b\b| \b\b/ \b\b- \b\b\\ \b\b| \b\b/ \b\b- \b\b\\ \b\b| \b\b/ \b\b- \b\b\\ \b\b| \b\b/ \b\b- \b\b\\ \b\b| \b\b/ \b\b- \b\b\\ \b\b| \b\b/ \b\b- \b\b\\ \b\b| \b\b/ \b\b- \b\b\\ \b\b| \b\b/ \b\b- \b\b\\ \b\b| \b\b/ \b\b- \b\b\\ \b\b| \b\b/ \b\b- \b\b\\ \b\b| \b\b/ \b\b- \b\b\\ \b\b| \b\b/ \b\b- \b\b\\ \b\b| \b\b/ \b\b- \b\b\\ \b\b| \b\b/ \b\b- \b\b\\ \b\b| \b\b/ \b\b- \b\b\\ \b\b| \b\b/ \b\b- \b\b\\ \b\b| \b\b/ \b\b- \b\b\\ \b\b| \b\b/ \b\b- \b\b\\ \b\b| \b\b/ \b\b- \b\b\\ \b\b| \b\b/ \b\b- \b\b\\ \b\b| \b\b/ \b\b- \b\b\\ \b\b| \b\b/ \b\b- \b\b\\ \b\b| \b\b/ \b\b- \b\b\\ \b\b| \b\b/ \b\b- \b\b\\ \b\b| \b\b/ \b\b- \b\b\\ \b\b| \b\b/ \b\b- \b\b\\ \b\b| \b\b/ \b\b- \b\b\\ \b\b| \b\b/ \b\b- \b\b\\ \b\b| \b\b/ \b\b- \b\b\\ \b\b| \b\b/ \b\b- \b\b\\ \b\b| \b\b/ \b\b- \b\b\\ \b\b| \b\b/ \b\b- \b\b\\ \b\b| \b\b/ \b\b- \b\b\\ \b\b| \b\b/ \b\b- \b\b\\ \b\b| \b\b/ \b\b- \b\b\\ \b\b| \b\b/ \b\b- \b\b\\ \b\b| \b\b/ \b\b- \b\b\\ \b\b| \b\b/ \b\b- \b\b\\ \b\b| \b\b/ \b\b- \b\b\\ \b\b| \b\b/ \b\b- \b\b\\ \b\b| \b\b/ \b\b- \b\b\\ \b\b| \b\b/ \b\b- \b\b\\ \b\b| \b\b/ \b\b- \b\b\\ \b\b| \b\b/ \b\b- \b\b\\ \b\b| \b\b/ \b\b- \b\b\\ \b\b| \b\b/ \b\b- \b\b\\ \b\b| \b\b/ \b\b- \b\b\\ \b\b| \b\b/ \b\b- \b\b\\ \b\b| \b\b/ \b\b- \b\b\\ \b\b| \b\b/ \b\b- \b\b\\ \b\b| \b\b/ \b\b- \b\b\\ \b\b| \b\b/ \b\b- \b\b\\ \b\b| \b\b/ \b\b- \b\b\\ \b\b| \b\b/ \b\b- \b\b\\ \b\b| \b\b/ \b\b- \b\b\\ \b\b| \b\b/ \b\b- \b\b\\ \b\b| \b\b/ \b\b- \b\b\\ \b\b| \b\b/ \b\b- \b\b\\ \b\b| \b\b/ \b\b- \b\b\\ \b\b| \b\b/ \b\b- \b\b\\ \b\b| \b\b/ \b\b- \b\b\\ \b\b| \b\b/ \b\b- \b\b\\ \b\b| \b\b/ \b\b- \b\b\\ \b\b| \b\b/ \b\b- \b\b\\ \b\b| \b\b/ \b\b- \b\b\\ \b\b| \b\b/ \b\b- \b\b\\ \b\b| \b\b/ \b\bdone\n",
            "Solving environment: \\ \b\b| \b\b/ \b\b- \b\b\\ \b\b| \b\b/ \b\b- \b\b\\ \b\b| \b\b/ \b\b- \b\b\\ \b\b| \b\b/ \b\b- \b\b\\ \b\b| \b\b/ \b\b- \b\b\\ \b\b| \b\b/ \b\b- \b\b\\ \b\b| \b\b/ \b\b- \b\b\\ \b\b| \b\b/ \b\b- \b\b\\ \b\b| \b\b/ \b\b- \b\b\\ \b\b| \b\b/ \b\b- \b\b\\ \b\b| \b\b/ \b\b- \b\b\\ \b\b| \b\b/ \b\b- \b\b\\ \b\b| \b\b/ \b\b- \b\b\\ \b\b| \b\b/ \b\b- \b\b\\ \b\b| \b\b/ \b\b- \b\b\\ \b\b| \b\b/ \b\b- \b\b\\ \b\b| \b\b/ \b\b- \b\b\\ \b\b| \b\b/ \b\b- \b\b\\ \b\b| \b\b/ \b\b- \b\b\\ \b\b| \b\b/ \b\b- \b\b\\ \b\b| \b\b/ \b\b- \b\b\\ \b\b| \b\b/ \b\b- \b\b\\ \b\b| \b\b/ \b\b- \b\b\\ \b\b| \b\b/ \b\b- \b\b\\ \b\b| \b\b/ \b\b- \b\b\\ \b\b| \b\b/ \b\b- \b\b\\ \b\b| \b\b/ \b\b- \b\b\\ \b\b| \b\b/ \b\b- \b\b\\ \b\b| \b\b/ \b\b- \b\b\\ \b\b| \b\b/ \b\b- \b\b\\ \b\b| \b\b/ \b\b- \b\b\\ \b\b| \b\b/ \b\b- \b\b\\ \b\b| \b\b/ \b\b- \b\b\\ \b\b| \b\b/ \b\b- \b\b\\ \b\b| \b\b/ \b\b- \b\b\\ \b\b| \b\b/ \b\b- \b\b\\ \b\b| \b\b/ \b\b- \b\b\\ \b\b| \b\b/ \b\b- \b\b\\ \b\b| \b\b/ \b\b- \b\b\\ \b\b| \b\b/ \b\b- \b\b\\ \b\b| \b\b/ \b\b- \b\b\\ \b\b| \b\b/ \b\b- \b\b\\ \b\b| \b\b/ \b\b- \b\b\\ \b\b| \b\b/ \b\b- \b\b\\ \b\b| \b\b/ \b\b- \b\b\\ \b\b| \b\b/ \b\b- \b\b\\ \b\b| \b\b/ \b\b- \b\b\\ \b\b| \b\b/ \b\b- \b\b\\ \b\b| \b\b/ \b\b- \b\b\\ \b\b| \b\b/ \b\b- \b\b\\ \b\b| \b\b/ \b\b- \b\b\\ \b\b| \b\b/ \b\b- \b\b\\ \b\b| \b\b/ \b\b- \b\b\\ \b\b| \b\b/ \b\b- \b\b\\ \b\b| \b\b/ \b\b- \b\b\\ \b\b| \b\b/ \b\b- \b\b\\ \b\b| \b\b/ \b\b- \b\b\\ \b\b| \b\b/ \b\b- \b\b\\ \b\b| \b\b/ \b\b- \b\b\\ \b\b| \b\b/ \b\b- \b\b\\ \b\b| \b\b/ \b\b- \b\b\\ \b\b| \b\b/ \b\b- \b\b\\ \b\b| \b\b/ \b\b- \b\b\\ \b\b| \b\b/ \b\b- \b\b\\ \b\b| \b\b/ \b\b- \b\b\\ \b\b| \b\b/ \b\b- \b\b\\ \b\b| \b\b/ \b\b- \b\b\\ \b\b| \b\b/ \b\b- \b\b\\ \b\b| \b\b/ \b\b- \b\b\\ \b\b| \b\b/ \b\b- \b\b\\ \b\b| \b\b/ \b\b- \b\b\\ \b\b| \b\b/ \b\b- \b\b\\ \b\b| \b\b/ \b\b- \b\b\\ \b\b| \b\b/ \b\b- \b\b\\ \b\b| \b\b/ \b\b- \b\b\\ \b\b| \b\bdone\n",
            "\n",
            "\n",
            "==> WARNING: A newer version of conda exists. <==\n",
            "  current version: 4.7.12\n",
            "  latest version: 4.10.0\n",
            "\n",
            "Please update conda by running\n",
            "\n",
            "    $ conda update -n base -c defaults conda\n",
            "\n",
            "\n",
            "\n",
            "## Package Plan ##\n",
            "\n",
            "  environment location: /usr/local\n",
            "\n",
            "  added / updated specs:\n",
            "    - deepchem-gpu=2.3.0\n",
            "\n",
            "\n",
            "The following packages will be downloaded:\n",
            "\n",
            "    package                    |            build\n",
            "    ---------------------------|-----------------\n",
            "    _py-xgboost-mutex-2.0      |            cpu_0           8 KB  conda-forge\n",
            "    _tflow_select-2.1.0        |              gpu           2 KB\n",
            "    absl-py-0.12.0             |     pyhd8ed1ab_0          96 KB  conda-forge\n",
            "    astor-0.8.1                |     pyh9f0ad1d_0          25 KB  conda-forge\n",
            "    astunparse-1.6.3           |     pyhd8ed1ab_0          15 KB  conda-forge\n",
            "    c-ares-1.17.1              |       h36c2ea0_0         111 KB  conda-forge\n",
            "    certifi-2019.9.11          |           py37_0         147 KB  conda-forge\n",
            "    conda-4.10.0               |   py37h89c1867_1         3.1 MB  conda-forge\n",
            "    cudatoolkit-10.1.243       |       h6bb024c_0       347.4 MB\n",
            "    cudnn-7.6.5.32             |       hc0a50b0_1       250.7 MB  conda-forge\n",
            "    cupti-10.1.168             |                0         1.4 MB\n",
            "    deepchem-gpu-2.3.0         |           py37_0         2.1 MB  deepchem\n",
            "    fftw3f-3.3.4               |                2         1.2 MB  omnia\n",
            "    gast-0.4.0                 |     pyh9f0ad1d_0          12 KB  conda-forge\n",
            "    google-pasta-0.2.0         |     pyh8c360ce_0          42 KB  conda-forge\n",
            "    grpcio-1.23.0              |   py37hb0870dc_1         1.1 MB  conda-forge\n",
            "    importlib-metadata-3.10.0  |   py37h89c1867_0          27 KB  conda-forge\n",
            "    keras-applications-1.0.8   |             py_1          30 KB  conda-forge\n",
            "    keras-preprocessing-1.1.2  |     pyhd8ed1ab_0          34 KB  conda-forge\n",
            "    libboost-1.67.0            |       h46d08c1_4        13.0 MB\n",
            "    libprotobuf-3.13.0.1       |       h8b12597_0         2.3 MB  conda-forge\n",
            "    libxgboost-1.2.0           |       he1b5a44_0         3.1 MB  conda-forge\n",
            "    markdown-3.3.4             |     pyhd8ed1ab_0          67 KB  conda-forge\n",
            "    mdtraj-1.9.5               |   py37h113d463_0         1.7 MB  conda-forge\n",
            "    openmm-7.4.2               |py37_cuda101_rc_1        11.9 MB  omnia\n",
            "    pdbfixer-1.6               |             py_1         167 KB  omnia\n",
            "    protobuf-3.13.0.1          |   py37h745909e_1         704 KB  conda-forge\n",
            "    py-boost-1.67.0            |   py37h04863e7_4         278 KB\n",
            "    py-xgboost-1.2.0           |   py37hc8dfbb8_0         1.7 MB  conda-forge\n",
            "    python_abi-3.7             |          1_cp37m           4 KB  conda-forge\n",
            "    rdkit-2020.03.3.0          |   py37hc20afe1_1        24.8 MB  rdkit\n",
            "    simdna-0.4.2               |             py_0         627 KB  deepchem\n",
            "    tensorboard-1.14.0         |           py37_0         3.2 MB  conda-forge\n",
            "    tensorflow-1.14.0          |gpu_py37h74c33d7_0           4 KB\n",
            "    tensorflow-base-1.14.0     |gpu_py37he45bfe2_0       146.3 MB\n",
            "    tensorflow-estimator-1.14.0|   py37h5ca1d4c_0         645 KB  conda-forge\n",
            "    tensorflow-gpu-1.14.0      |       h0d30ee6_0           3 KB\n",
            "    termcolor-1.1.0            |             py_2           6 KB  conda-forge\n",
            "    typing_extensions-3.7.4.3  |             py_0          25 KB  conda-forge\n",
            "    xgboost-1.2.0              |   py37h3340039_0          11 KB  conda-forge\n",
            "    ------------------------------------------------------------\n",
            "                                           Total:       817.9 MB\n",
            "\n",
            "The following NEW packages will be INSTALLED:\n",
            "\n",
            "  _py-xgboost-mutex  conda-forge/linux-64::_py-xgboost-mutex-2.0-cpu_0\n",
            "  _tflow_select      pkgs/main/linux-64::_tflow_select-2.1.0-gpu\n",
            "  absl-py            conda-forge/noarch::absl-py-0.12.0-pyhd8ed1ab_0\n",
            "  astor              conda-forge/noarch::astor-0.8.1-pyh9f0ad1d_0\n",
            "  astunparse         conda-forge/noarch::astunparse-1.6.3-pyhd8ed1ab_0\n",
            "  c-ares             conda-forge/linux-64::c-ares-1.17.1-h36c2ea0_0\n",
            "  cudatoolkit        pkgs/main/linux-64::cudatoolkit-10.1.243-h6bb024c_0\n",
            "  cudnn              conda-forge/linux-64::cudnn-7.6.5.32-hc0a50b0_1\n",
            "  cupti              pkgs/main/linux-64::cupti-10.1.168-0\n",
            "  deepchem-gpu       deepchem/linux-64::deepchem-gpu-2.3.0-py37_0\n",
            "  fftw3f             omnia/linux-64::fftw3f-3.3.4-2\n",
            "  gast               conda-forge/noarch::gast-0.4.0-pyh9f0ad1d_0\n",
            "  google-pasta       conda-forge/noarch::google-pasta-0.2.0-pyh8c360ce_0\n",
            "  grpcio             conda-forge/linux-64::grpcio-1.23.0-py37hb0870dc_1\n",
            "  importlib-metadata conda-forge/linux-64::importlib-metadata-3.10.0-py37h89c1867_0\n",
            "  keras-applications conda-forge/noarch::keras-applications-1.0.8-py_1\n",
            "  keras-preprocessi~ conda-forge/noarch::keras-preprocessing-1.1.2-pyhd8ed1ab_0\n",
            "  libboost           pkgs/main/linux-64::libboost-1.67.0-h46d08c1_4\n",
            "  libprotobuf        conda-forge/linux-64::libprotobuf-3.13.0.1-h8b12597_0\n",
            "  libxgboost         conda-forge/linux-64::libxgboost-1.2.0-he1b5a44_0\n",
            "  markdown           conda-forge/noarch::markdown-3.3.4-pyhd8ed1ab_0\n",
            "  mdtraj             conda-forge/linux-64::mdtraj-1.9.5-py37h113d463_0\n",
            "  openmm             omnia/linux-64::openmm-7.4.2-py37_cuda101_rc_1\n",
            "  pdbfixer           omnia/noarch::pdbfixer-1.6-py_1\n",
            "  protobuf           conda-forge/linux-64::protobuf-3.13.0.1-py37h745909e_1\n",
            "  py-boost           pkgs/main/linux-64::py-boost-1.67.0-py37h04863e7_4\n",
            "  py-xgboost         conda-forge/linux-64::py-xgboost-1.2.0-py37hc8dfbb8_0\n",
            "  python_abi         conda-forge/linux-64::python_abi-3.7-1_cp37m\n",
            "  rdkit              rdkit/linux-64::rdkit-2020.03.3.0-py37hc20afe1_1\n",
            "  simdna             deepchem/noarch::simdna-0.4.2-py_0\n",
            "  tensorboard        conda-forge/linux-64::tensorboard-1.14.0-py37_0\n",
            "  tensorflow         pkgs/main/linux-64::tensorflow-1.14.0-gpu_py37h74c33d7_0\n",
            "  tensorflow-base    pkgs/main/linux-64::tensorflow-base-1.14.0-gpu_py37he45bfe2_0\n",
            "  tensorflow-estima~ conda-forge/linux-64::tensorflow-estimator-1.14.0-py37h5ca1d4c_0\n",
            "  tensorflow-gpu     pkgs/main/linux-64::tensorflow-gpu-1.14.0-h0d30ee6_0\n",
            "  termcolor          conda-forge/noarch::termcolor-1.1.0-py_2\n",
            "  typing_extensions  conda-forge/noarch::typing_extensions-3.7.4.3-py_0\n",
            "  xgboost            conda-forge/linux-64::xgboost-1.2.0-py37h3340039_0\n",
            "\n",
            "The following packages will be UPDATED:\n",
            "\n",
            "  conda                      pkgs/main::conda-4.7.12-py37_0 --> conda-forge::conda-4.10.0-py37h89c1867_1\n",
            "\n",
            "The following packages will be SUPERSEDED by a higher-priority channel:\n",
            "\n",
            "  certifi                                         pkgs/main --> conda-forge\n",
            "\n",
            "\n",
            "\n",
            "Downloading and Extracting Packages\n",
            "cudnn-7.6.5.32       | 250.7 MB  | : 100% 1.0/1 [00:39<00:00, 39.40s/it]               \n",
            "certifi-2019.9.11    | 147 KB    | : 100% 1.0/1 [00:00<00:00,  6.03it/s]\n",
            "python_abi-3.7       | 4 KB      | : 100% 1.0/1 [00:00<00:00, 22.00it/s]\n",
            "c-ares-1.17.1        | 111 KB    | : 100% 1.0/1 [00:00<00:00, 10.81it/s]\n",
            "fftw3f-3.3.4         | 1.2 MB    | : 100% 1.0/1 [00:01<00:00,  1.77s/it]\n",
            "tensorflow-estimator | 645 KB    | : 100% 1.0/1 [00:00<00:00,  3.59it/s]\n",
            "xgboost-1.2.0        | 11 KB     | : 100% 1.0/1 [00:00<00:00, 22.92it/s]\n",
            "tensorflow-1.14.0    | 4 KB      | : 100% 1.0/1 [00:00<00:00,  5.38it/s]\n",
            "conda-4.10.0         | 3.1 MB    | : 100% 1.0/1 [00:00<00:00,  1.31it/s]\n",
            "importlib-metadata-3 | 27 KB     | : 100% 1.0/1 [00:00<00:00, 18.43it/s]\n",
            "py-boost-1.67.0      | 278 KB    | : 100% 1.0/1 [00:00<00:00,  5.53it/s]\n",
            "typing_extensions-3. | 25 KB     | : 100% 1.0/1 [00:00<00:00, 16.83it/s]\n",
            "grpcio-1.23.0        | 1.1 MB    | : 100% 1.0/1 [00:00<00:00,  3.36it/s]\n",
            "tensorboard-1.14.0   | 3.2 MB    | : 100% 1.0/1 [00:00<00:00,  1.58it/s]\n",
            "cupti-10.1.168       | 1.4 MB    | : 100% 1.0/1 [00:00<00:00,  5.31it/s]\n",
            "absl-py-0.12.0       | 96 KB     | : 100% 1.0/1 [00:00<00:00, 15.56it/s]\n",
            "keras-preprocessing- | 34 KB     | : 100% 1.0/1 [00:00<00:00, 19.42it/s]\n",
            "cudatoolkit-10.1.243 | 347.4 MB  | : 100% 1.0/1 [00:09<00:00,  9.70s/it]               \n",
            "protobuf-3.13.0.1    | 704 KB    | : 100% 1.0/1 [00:00<00:00,  2.98it/s]              \n",
            "gast-0.4.0           | 12 KB     | : 100% 1.0/1 [00:00<00:00, 24.23it/s]\n",
            "_tflow_select-2.1.0  | 2 KB      | : 100% 1.0/1 [00:00<00:00,  6.24it/s]\n",
            "tensorflow-gpu-1.14. | 3 KB      | : 100% 1.0/1 [00:00<00:00,  6.05it/s]\n",
            "google-pasta-0.2.0   | 42 KB     | : 100% 1.0/1 [00:00<00:00, 15.61it/s]\n",
            "markdown-3.3.4       | 67 KB     | : 100% 1.0/1 [00:00<00:00, 16.40it/s]\n",
            "libboost-1.67.0      | 13.0 MB   | : 100% 1.0/1 [00:01<00:00,  1.73s/it]               \n",
            "py-xgboost-1.2.0     | 1.7 MB    | : 100% 1.0/1 [00:00<00:00,  2.64it/s]\n",
            "astunparse-1.6.3     | 15 KB     | : 100% 1.0/1 [00:00<00:00, 21.05it/s]\n",
            "rdkit-2020.03.3.0    | 24.8 MB   | : 100% 1.0/1 [00:07<00:00,  7.75s/it]\n",
            "openmm-7.4.2         | 11.9 MB   | : 100% 1.0/1 [00:05<00:00,  5.19s/it]\n",
            "tensorflow-base-1.14 | 146.3 MB  | : 100% 1.0/1 [00:08<00:00,  8.73s/it]               \n",
            "keras-applications-1 | 30 KB     | : 100% 1.0/1 [00:00<00:00, 16.33it/s]\n",
            "deepchem-gpu-2.3.0   | 2.1 MB    | : 100% 1.0/1 [00:02<00:00,  2.07s/it]\n",
            "termcolor-1.1.0      | 6 KB      | : 100% 1.0/1 [00:00<00:00, 23.11it/s]\n",
            "_py-xgboost-mutex-2. | 8 KB      | : 100% 1.0/1 [00:00<00:00, 15.39it/s]\n",
            "pdbfixer-1.6         | 167 KB    | : 100% 1.0/1 [00:00<00:00,  1.07it/s]\n",
            "simdna-0.4.2         | 627 KB    | : 100% 1.0/1 [00:01<00:00,  1.48s/it]\n",
            "astor-0.8.1          | 25 KB     | : 100% 1.0/1 [00:00<00:00, 20.42it/s]\n",
            "mdtraj-1.9.5         | 1.7 MB    | : 100% 1.0/1 [00:00<00:00,  3.21it/s]\n",
            "libprotobuf-3.13.0.1 | 2.3 MB    | : 100% 1.0/1 [00:00<00:00,  1.70it/s]\n",
            "libxgboost-1.2.0     | 3.1 MB    | : 100% 1.0/1 [00:00<00:00,  1.47it/s]\n",
            "Preparing transaction: - \b\b\\ \b\b| \b\b/ \b\b- \b\b\\ \b\b| \b\b/ \b\b- \b\b\\ \b\b| \b\b/ \b\bdone\n",
            "Verifying transaction: \\ \b\b| \b\b/ \b\b- \b\b\\ \b\b| \b\b/ \b\b- \b\b\\ \b\b| \b\b/ \b\b- \b\b\\ \b\b| \b\b/ \b\b- \b\b\\ \b\b| \b\b/ \b\b- \b\b\\ \b\b| \b\b/ \b\b- \b\b\\ \b\b| \b\b/ \b\b- \b\b\\ \b\b| \b\b/ \b\b- \b\b\\ \b\b| \b\b/ \b\bdone\n",
            "Executing transaction: \\ \b\b| \b\b/ \b\b- \b\b\\ \b\b| \b\b/ \b\b- \b\b\\ \b\b| \b\b/ \b\b- \b\b\\ \b\b| \b\b/ \b\b- \b\b\\ \b\b| \b\b/ \b\b- \b\b\\ \b\b| \b\b/ \b\b- \b\b\\ \b\b| b'By downloading and using the cuDNN conda packages, you accept the terms and conditions of the NVIDIA cuDNN EULA -\\n  https://docs.nvidia.com/deeplearning/cudnn/sla/index.html\\n'\n",
            "\b\b/ \b\b- \b\b\\ \b\b| \b\b/ \b\b- \b\b\\ \b\b| \b\b/ \b\b- \b\b\\ \b\b| \b\b/ \b\b- \b\b\\ \b\b| \b\b/ \b\b- \b\b\\ \b\b| \b\b/ \b\b- \b\b\\ \b\bdone\n",
            "\n",
            "real\t6m5.004s\n",
            "user\t5m24.595s\n",
            "sys\t0m25.366s\n"
          ],
          "name": "stdout"
        }
      ]
    },
    {
      "cell_type": "code",
      "metadata": {
        "id": "yS2DjAnF9y49",
        "colab": {
          "base_uri": "https://localhost:8080/"
        },
        "outputId": "3606cd53-631d-47e3-ca08-52660c075ccb"
      },
      "source": [
        "!pip install mordred\n",
        "!pip install --upgrade bravado\n",
        "!pip install molvs"
      ],
      "execution_count": 3,
      "outputs": [
        {
          "output_type": "stream",
          "text": [
            "Collecting mordred\n",
            "\u001b[?25l  Downloading https://files.pythonhosted.org/packages/93/3d/26c908ece761adafcea06320bf8fe73f4de69979273fb164226dc6038c39/mordred-1.2.0.tar.gz (128kB)\n",
            "\u001b[K     |████████████████████████████████| 133kB 12.4MB/s \n",
            "\u001b[?25hRequirement already satisfied: six==1.* in /usr/local/lib/python3.7/site-packages (from mordred) (1.12.0)\n",
            "Requirement already satisfied: numpy==1.* in /usr/local/lib/python3.7/site-packages (from mordred) (1.17.2)\n",
            "Requirement already satisfied: networkx==2.* in /usr/local/lib/python3.7/site-packages (from mordred) (2.3)\n",
            "Requirement already satisfied: decorator>=4.3.0 in /usr/local/lib/python3.7/site-packages (from networkx==2.*->mordred) (4.4.0)\n",
            "Building wheels for collected packages: mordred\n",
            "  Building wheel for mordred (setup.py) ... \u001b[?25l\u001b[?25hdone\n",
            "  Created wheel for mordred: filename=mordred-1.2.0-cp37-none-any.whl size=176721 sha256=effae8378834b1889de934b153aa143a85093d21413ecdea4051d30b4a29743f\n",
            "  Stored in directory: /root/.cache/pip/wheels/ac/74/3f/2fd81b1187013f2eadb15620434813f1824c4c03b7bd1f94f6\n",
            "Successfully built mordred\n",
            "Installing collected packages: mordred\n",
            "Successfully installed mordred-1.2.0\n",
            "Collecting bravado\n",
            "  Downloading https://files.pythonhosted.org/packages/21/ed/03b0c36b5bcafbe2938ed222f9a164a6c0367ce99a9d2d502e462853571d/bravado-11.0.3-py2.py3-none-any.whl\n",
            "Collecting simplejson (from bravado)\n",
            "\u001b[?25l  Downloading https://files.pythonhosted.org/packages/a8/04/377418ac1e530ce2a196b54c6552c018fdf1fe776718053efb1f216bffcd/simplejson-3.17.2-cp37-cp37m-manylinux2010_x86_64.whl (128kB)\n",
            "\u001b[K     |████████████████████████████████| 133kB 12.1MB/s \n",
            "\u001b[?25hRequirement already satisfied, skipping upgrade: six in /usr/local/lib/python3.7/site-packages (from bravado) (1.12.0)\n",
            "Collecting bravado-core>=5.16.1 (from bravado)\n",
            "\u001b[?25l  Downloading https://files.pythonhosted.org/packages/76/11/18e9d28a156c33f2d5f15a5e155dc7130250acb0a569255a2b6b307b596d/bravado_core-5.17.0-py2.py3-none-any.whl (67kB)\n",
            "\u001b[K     |████████████████████████████████| 71kB 13.6MB/s \n",
            "\u001b[?25hRequirement already satisfied, skipping upgrade: msgpack in /usr/local/lib/python3.7/site-packages (from bravado) (0.6.1)\n",
            "Requirement already satisfied, skipping upgrade: pyyaml in /usr/local/lib/python3.7/site-packages (from bravado) (5.1.2)\n",
            "Collecting monotonic (from bravado)\n",
            "  Downloading https://files.pythonhosted.org/packages/ac/aa/063eca6a416f397bd99552c534c6d11d57f58f2e94c14780f3bbf818c4cf/monotonic-1.5-py2.py3-none-any.whl\n",
            "Requirement already satisfied, skipping upgrade: python-dateutil in /usr/local/lib/python3.7/site-packages (from bravado) (2.8.0)\n",
            "Requirement already satisfied, skipping upgrade: typing-extensions in /usr/local/lib/python3.7/site-packages (from bravado) (3.7.4.3)\n",
            "Requirement already satisfied, skipping upgrade: requests>=2.17 in /usr/local/lib/python3.7/site-packages (from bravado) (2.22.0)\n",
            "Collecting jsonref (from bravado-core>=5.16.1->bravado)\n",
            "  Downloading https://files.pythonhosted.org/packages/07/92/f8e4ac824b14af77e613984e480fa818397c72d4141fc466decb26752749/jsonref-0.2-py3-none-any.whl\n",
            "Requirement already satisfied, skipping upgrade: jsonschema[format]>=2.5.1 in /usr/local/lib/python3.7/site-packages (from bravado-core>=5.16.1->bravado) (3.0.2)\n",
            "Requirement already satisfied, skipping upgrade: pytz in /usr/local/lib/python3.7/site-packages (from bravado-core>=5.16.1->bravado) (2019.3)\n",
            "Collecting swagger-spec-validator>=2.0.1 (from bravado-core>=5.16.1->bravado)\n",
            "  Downloading https://files.pythonhosted.org/packages/09/de/e78cefbf5838b434b63a789264b79821cb2267f1498fbed23ef8590133e4/swagger_spec_validator-2.7.3-py2.py3-none-any.whl\n",
            "Requirement already satisfied, skipping upgrade: chardet<3.1.0,>=3.0.2 in /usr/local/lib/python3.7/site-packages (from requests>=2.17->bravado) (3.0.4)\n",
            "Requirement already satisfied, skipping upgrade: urllib3!=1.25.0,!=1.25.1,<1.26,>=1.21.1 in /usr/local/lib/python3.7/site-packages (from requests>=2.17->bravado) (1.24.2)\n",
            "Requirement already satisfied, skipping upgrade: certifi>=2017.4.17 in /usr/local/lib/python3.7/site-packages (from requests>=2.17->bravado) (2019.9.11)\n",
            "Requirement already satisfied, skipping upgrade: idna<2.9,>=2.5 in /usr/local/lib/python3.7/site-packages (from requests>=2.17->bravado) (2.8)\n",
            "Requirement already satisfied, skipping upgrade: setuptools in /usr/local/lib/python3.7/site-packages (from jsonschema[format]>=2.5.1->bravado-core>=5.16.1->bravado) (41.4.0)\n",
            "Requirement already satisfied, skipping upgrade: pyrsistent>=0.14.0 in /usr/local/lib/python3.7/site-packages (from jsonschema[format]>=2.5.1->bravado-core>=5.16.1->bravado) (0.15.4)\n",
            "Requirement already satisfied, skipping upgrade: attrs>=17.4.0 in /usr/local/lib/python3.7/site-packages (from jsonschema[format]>=2.5.1->bravado-core>=5.16.1->bravado) (19.2.0)\n",
            "Collecting jsonpointer>1.13; extra == \"format\" (from jsonschema[format]>=2.5.1->bravado-core>=5.16.1->bravado)\n",
            "  Downloading https://files.pythonhosted.org/packages/23/52/05f67532aa922e494c351344e0d9624a01f74f5dd8402fe0d1b563a6e6fc/jsonpointer-2.1-py2.py3-none-any.whl\n",
            "Collecting webcolors; extra == \"format\" (from jsonschema[format]>=2.5.1->bravado-core>=5.16.1->bravado)\n",
            "  Downloading https://files.pythonhosted.org/packages/12/05/3350559de9714b202e443a9e6312937341bd5f79f4e4f625744295e7dd17/webcolors-1.11.1-py3-none-any.whl\n",
            "Collecting rfc3987; extra == \"format\" (from jsonschema[format]>=2.5.1->bravado-core>=5.16.1->bravado)\n",
            "  Downloading https://files.pythonhosted.org/packages/65/d4/f7407c3d15d5ac779c3dd34fbbc6ea2090f77bd7dd12f207ccf881551208/rfc3987-1.3.8-py2.py3-none-any.whl\n",
            "Collecting strict-rfc3339; extra == \"format\" (from jsonschema[format]>=2.5.1->bravado-core>=5.16.1->bravado)\n",
            "  Downloading https://files.pythonhosted.org/packages/56/e4/879ef1dbd6ddea1c77c0078cd59b503368b0456bcca7d063a870ca2119d3/strict-rfc3339-0.7.tar.gz\n",
            "Building wheels for collected packages: strict-rfc3339\n",
            "  Building wheel for strict-rfc3339 (setup.py) ... \u001b[?25l\u001b[?25hdone\n",
            "  Created wheel for strict-rfc3339: filename=strict_rfc3339-0.7-cp37-none-any.whl size=18120 sha256=7bc09ed5a6e6636c85ce66586cc4f2e1fcfcd49bc7efce4f1120a16bce1c67b5\n",
            "  Stored in directory: /root/.cache/pip/wheels/bb/af/c9/b6e9fb5f9b2470e4ed2a7241c9ab3a8cdd3bc8555ae02ca2e6\n",
            "Successfully built strict-rfc3339\n",
            "Installing collected packages: simplejson, jsonref, swagger-spec-validator, bravado-core, monotonic, bravado, jsonpointer, webcolors, rfc3987, strict-rfc3339\n",
            "Successfully installed bravado-11.0.3 bravado-core-5.17.0 jsonpointer-2.1 jsonref-0.2 monotonic-1.5 rfc3987-1.3.8 simplejson-3.17.2 strict-rfc3339-0.7 swagger-spec-validator-2.7.3 webcolors-1.11.1\n",
            "Collecting molvs\n",
            "\u001b[?25l  Downloading https://files.pythonhosted.org/packages/08/dc/d948e83b97f2c420cb6c7e2143ae349560d3b5b061945f1b2a4eefb0231c/MolVS-0.1.1.tar.gz (61kB)\n",
            "\u001b[K     |████████████████████████████████| 71kB 13.7MB/s \n",
            "\u001b[?25hRequirement already satisfied: six in /usr/local/lib/python3.7/site-packages (from molvs) (1.12.0)\n",
            "Building wheels for collected packages: molvs\n",
            "  Building wheel for molvs (setup.py) ... \u001b[?25l\u001b[?25hdone\n",
            "  Created wheel for molvs: filename=MolVS-0.1.1-cp37-none-any.whl size=32376 sha256=f8ac0c3c388527085e24231bdfd46595a3924f5bd9652031c852a77f52d2ecd4\n",
            "  Stored in directory: /root/.cache/pip/wheels/30/37/a8/8ac8147605c9de6b45ffd66d1cc19761d41467db12b34a0de8\n",
            "Successfully built molvs\n",
            "Installing collected packages: molvs\n",
            "Successfully installed molvs-0.1.1\n"
          ],
          "name": "stdout"
        }
      ]
    },
    {
      "cell_type": "code",
      "metadata": {
        "id": "4AB0U-9gyJNB",
        "colab": {
          "base_uri": "https://localhost:8080/"
        },
        "outputId": "eea27c7d-5177-4aa2-b9bb-ef4c531c2fe3"
      },
      "source": [
        "!wget https://raw.githubusercontent.com/ravichas/AMPL-Tutorial/master/config/install_AMPL_GPU_test.sh"
      ],
      "execution_count": 4,
      "outputs": [
        {
          "output_type": "stream",
          "text": [
            "--2021-04-06 18:08:06--  https://raw.githubusercontent.com/ravichas/AMPL-Tutorial/master/config/install_AMPL_GPU_test.sh\n",
            "Resolving raw.githubusercontent.com (raw.githubusercontent.com)... 185.199.108.133, 185.199.109.133, 185.199.110.133, ...\n",
            "Connecting to raw.githubusercontent.com (raw.githubusercontent.com)|185.199.108.133|:443... connected.\n",
            "HTTP request sent, awaiting response... 200 OK\n",
            "Length: 1100 (1.1K) [text/plain]\n",
            "Saving to: ‘install_AMPL_GPU_test.sh’\n",
            "\n",
            "install_AMPL_GPU_te 100%[===================>]   1.07K  --.-KB/s    in 0s      \n",
            "\n",
            "2021-04-06 18:08:06 (33.1 MB/s) - ‘install_AMPL_GPU_test.sh’ saved [1100/1100]\n",
            "\n"
          ],
          "name": "stdout"
        }
      ]
    },
    {
      "cell_type": "code",
      "metadata": {
        "id": "aadk1g7ZzPdp",
        "colab": {
          "base_uri": "https://localhost:8080/"
        },
        "outputId": "6363b49d-b191-4a3b-9697-7b2fe1b62325"
      },
      "source": [
        "! chmod u+x install_AMPL_GPU_test.sh\n",
        "! ./install_AMPL_GPU_test.sh"
      ],
      "execution_count": 5,
      "outputs": [
        {
          "output_type": "stream",
          "text": [
            "Cloning into 'AMPL'...\n",
            "remote: Enumerating objects: 389, done.\u001b[K\n",
            "remote: Counting objects: 100% (389/389), done.\u001b[K\n",
            "remote: Compressing objects: 100% (223/223), done.\u001b[K\n",
            "remote: Total 1897 (delta 277), reused 232 (delta 166), pack-reused 1508\u001b[K\n",
            "Receiving objects: 100% (1897/1897), 9.69 MiB | 9.30 MiB/s, done.\n",
            "Resolving deltas: 100% (1089/1089), done.\n",
            "Branch 'pkg_upgrade' set up to track remote branch 'pkg_upgrade' from 'origin'.\n",
            "Switched to a new branch 'pkg_upgrade'\n",
            "patching file /content/github/AMPL/atomsci/ddm/pipeline/transformations.py\n",
            "patching file /content/github/AMPL/atomsci/ddm/__init__.py\n",
            "running build\n",
            "running build_py\n",
            "creating /content/github/AMPL.build/ampl/lib\n",
            "creating /content/github/AMPL.build/ampl/lib/atomsci\n",
            "copying atomsci/__init__.py -> /content/github/AMPL.build/ampl/lib/atomsci\n",
            "creating /content/github/AMPL.build/ampl/lib/atomsci/ddm\n",
            "copying atomsci/ddm/__init__.py -> /content/github/AMPL.build/ampl/lib/atomsci/ddm\n",
            "creating /content/github/AMPL.build/ampl/lib/atomsci/ddm/utils\n",
            "copying atomsci/ddm/utils/process_slurm.py -> /content/github/AMPL.build/ampl/lib/atomsci/ddm/utils\n",
            "copying atomsci/ddm/utils/curate_data.py -> /content/github/AMPL.build/ampl/lib/atomsci/ddm/utils\n",
            "copying atomsci/ddm/utils/hyperparam_search_wrapper.py -> /content/github/AMPL.build/ampl/lib/atomsci/ddm/utils\n",
            "copying atomsci/ddm/utils/pubchem_utils.py -> /content/github/AMPL.build/ampl/lib/atomsci/ddm/utils\n",
            "copying atomsci/ddm/utils/struct_utils.py -> /content/github/AMPL.build/ampl/lib/atomsci/ddm/utils\n",
            "copying atomsci/ddm/utils/rdkit_easy.py -> /content/github/AMPL.build/ampl/lib/atomsci/ddm/utils\n",
            "copying atomsci/ddm/utils/llnl_utils.py -> /content/github/AMPL.build/ampl/lib/atomsci/ddm/utils\n",
            "copying atomsci/ddm/utils/datastore_functions.py -> /content/github/AMPL.build/ampl/lib/atomsci/ddm/utils\n",
            "copying atomsci/ddm/utils/__init__.py -> /content/github/AMPL.build/ampl/lib/atomsci/ddm/utils\n",
            "copying atomsci/ddm/utils/genTestset.py -> /content/github/AMPL.build/ampl/lib/atomsci/ddm/utils\n",
            "copying atomsci/ddm/utils/open-docs.py -> /content/github/AMPL.build/ampl/lib/atomsci/ddm/utils\n",
            "copying atomsci/ddm/utils/data_curation_functions.py -> /content/github/AMPL.build/ampl/lib/atomsci/ddm/utils\n",
            "creating /content/github/AMPL.build/ampl/lib/atomsci/ddm/pipeline\n",
            "copying atomsci/ddm/pipeline/predict_from_model.py -> /content/github/AMPL.build/ampl/lib/atomsci/ddm/pipeline\n",
            "copying atomsci/ddm/pipeline/splitting.py -> /content/github/AMPL.build/ampl/lib/atomsci/ddm/pipeline\n",
            "copying atomsci/ddm/pipeline/hyper_perf_plots.py -> /content/github/AMPL.build/ampl/lib/atomsci/ddm/pipeline\n",
            "copying atomsci/ddm/pipeline/chem_diversity.py -> /content/github/AMPL.build/ampl/lib/atomsci/ddm/pipeline\n",
            "copying atomsci/ddm/pipeline/compare_models.py -> /content/github/AMPL.build/ampl/lib/atomsci/ddm/pipeline\n",
            "copying atomsci/ddm/pipeline/ave_splitter.py -> /content/github/AMPL.build/ampl/lib/atomsci/ddm/pipeline\n",
            "copying atomsci/ddm/pipeline/parameter_parser.py -> /content/github/AMPL.build/ampl/lib/atomsci/ddm/pipeline\n",
            "copying atomsci/ddm/pipeline/perf_plots.py -> /content/github/AMPL.build/ampl/lib/atomsci/ddm/pipeline\n",
            "copying atomsci/ddm/pipeline/dist_metrics.py -> /content/github/AMPL.build/ampl/lib/atomsci/ddm/pipeline\n",
            "copying atomsci/ddm/pipeline/model_datasets.py -> /content/github/AMPL.build/ampl/lib/atomsci/ddm/pipeline\n",
            "copying atomsci/ddm/pipeline/temporal_splitter.py -> /content/github/AMPL.build/ampl/lib/atomsci/ddm/pipeline\n",
            "copying atomsci/ddm/pipeline/transformations.py -> /content/github/AMPL.build/ampl/lib/atomsci/ddm/pipeline\n",
            "copying atomsci/ddm/pipeline/model_tracker.py -> /content/github/AMPL.build/ampl/lib/atomsci/ddm/pipeline\n",
            "copying atomsci/ddm/pipeline/model_pipeline.py -> /content/github/AMPL.build/ampl/lib/atomsci/ddm/pipeline\n",
            "copying atomsci/ddm/pipeline/diversity_plots.py -> /content/github/AMPL.build/ampl/lib/atomsci/ddm/pipeline\n",
            "copying atomsci/ddm/pipeline/model_wrapper.py -> /content/github/AMPL.build/ampl/lib/atomsci/ddm/pipeline\n",
            "copying atomsci/ddm/pipeline/__init__.py -> /content/github/AMPL.build/ampl/lib/atomsci/ddm/pipeline\n",
            "copying atomsci/ddm/pipeline/perf_data.py -> /content/github/AMPL.build/ampl/lib/atomsci/ddm/pipeline\n",
            "copying atomsci/ddm/pipeline/featurization.py -> /content/github/AMPL.build/ampl/lib/atomsci/ddm/pipeline\n",
            "running egg_info\n",
            "creating /content/github/AMPL.build/ampl/atomsci_ampl.egg-info\n",
            "writing /content/github/AMPL.build/ampl/atomsci_ampl.egg-info/PKG-INFO\n",
            "writing dependency_links to /content/github/AMPL.build/ampl/atomsci_ampl.egg-info/dependency_links.txt\n",
            "writing namespace_packages to /content/github/AMPL.build/ampl/atomsci_ampl.egg-info/namespace_packages.txt\n",
            "writing top-level names to /content/github/AMPL.build/ampl/atomsci_ampl.egg-info/top_level.txt\n",
            "writing manifest file '/content/github/AMPL.build/ampl/atomsci_ampl.egg-info/SOURCES.txt'\n",
            "reading manifest file '/content/github/AMPL.build/ampl/atomsci_ampl.egg-info/SOURCES.txt'\n",
            "reading manifest template 'MANIFEST.in'\n",
            "warning: no files found matching 'atomsci/*/*.yaml'\n",
            "writing manifest file '/content/github/AMPL.build/ampl/atomsci_ampl.egg-info/SOURCES.txt'\n",
            "creating /content/github/AMPL.build/ampl/lib/atomsci/ddm/data\n",
            "copying atomsci/ddm/data/descriptor_sets_sources_by_descr_type.csv -> /content/github/AMPL.build/ampl/lib/atomsci/ddm/data\n",
            "running bdist_wheel\n",
            "installing to /content/github/AMPL.build/ampl/bdist.linux-x86_64/wheel\n",
            "running install\n",
            "running install_lib\n",
            "Skipping installation of /content/github/AMPL.build/ampl/bdist.linux-x86_64/wheel/atomsci/__init__.py (namespace package)\n",
            "copying atomsci/ddm/__init__.py -> /content/github/AMPL.build/ampl/bdist.linux-x86_64/wheel/atomsci/ddm\n",
            "copying atomsci/ddm/utils/process_slurm.py -> /content/github/AMPL.build/ampl/bdist.linux-x86_64/wheel/atomsci/ddm/utils\n",
            "copying atomsci/ddm/utils/curate_data.py -> /content/github/AMPL.build/ampl/bdist.linux-x86_64/wheel/atomsci/ddm/utils\n",
            "copying atomsci/ddm/utils/hyperparam_search_wrapper.py -> /content/github/AMPL.build/ampl/bdist.linux-x86_64/wheel/atomsci/ddm/utils\n",
            "copying atomsci/ddm/utils/pubchem_utils.py -> /content/github/AMPL.build/ampl/bdist.linux-x86_64/wheel/atomsci/ddm/utils\n",
            "copying atomsci/ddm/utils/struct_utils.py -> /content/github/AMPL.build/ampl/bdist.linux-x86_64/wheel/atomsci/ddm/utils\n",
            "copying atomsci/ddm/utils/rdkit_easy.py -> /content/github/AMPL.build/ampl/bdist.linux-x86_64/wheel/atomsci/ddm/utils\n",
            "copying atomsci/ddm/utils/llnl_utils.py -> /content/github/AMPL.build/ampl/bdist.linux-x86_64/wheel/atomsci/ddm/utils\n",
            "copying atomsci/ddm/utils/datastore_functions.py -> /content/github/AMPL.build/ampl/bdist.linux-x86_64/wheel/atomsci/ddm/utils\n",
            "copying atomsci/ddm/utils/__init__.py -> /content/github/AMPL.build/ampl/bdist.linux-x86_64/wheel/atomsci/ddm/utils\n",
            "copying atomsci/ddm/utils/genTestset.py -> /content/github/AMPL.build/ampl/bdist.linux-x86_64/wheel/atomsci/ddm/utils\n",
            "copying atomsci/ddm/utils/open-docs.py -> /content/github/AMPL.build/ampl/bdist.linux-x86_64/wheel/atomsci/ddm/utils\n",
            "copying atomsci/ddm/utils/data_curation_functions.py -> /content/github/AMPL.build/ampl/bdist.linux-x86_64/wheel/atomsci/ddm/utils\n",
            "copying atomsci/ddm/data/descriptor_sets_sources_by_descr_type.csv -> /content/github/AMPL.build/ampl/bdist.linux-x86_64/wheel/atomsci/ddm/data\n",
            "copying atomsci/ddm/pipeline/predict_from_model.py -> /content/github/AMPL.build/ampl/bdist.linux-x86_64/wheel/atomsci/ddm/pipeline\n",
            "copying atomsci/ddm/pipeline/splitting.py -> /content/github/AMPL.build/ampl/bdist.linux-x86_64/wheel/atomsci/ddm/pipeline\n",
            "copying atomsci/ddm/pipeline/hyper_perf_plots.py -> /content/github/AMPL.build/ampl/bdist.linux-x86_64/wheel/atomsci/ddm/pipeline\n",
            "copying atomsci/ddm/pipeline/chem_diversity.py -> /content/github/AMPL.build/ampl/bdist.linux-x86_64/wheel/atomsci/ddm/pipeline\n",
            "copying atomsci/ddm/pipeline/compare_models.py -> /content/github/AMPL.build/ampl/bdist.linux-x86_64/wheel/atomsci/ddm/pipeline\n",
            "copying atomsci/ddm/pipeline/ave_splitter.py -> /content/github/AMPL.build/ampl/bdist.linux-x86_64/wheel/atomsci/ddm/pipeline\n",
            "copying atomsci/ddm/pipeline/parameter_parser.py -> /content/github/AMPL.build/ampl/bdist.linux-x86_64/wheel/atomsci/ddm/pipeline\n",
            "copying atomsci/ddm/pipeline/perf_plots.py -> /content/github/AMPL.build/ampl/bdist.linux-x86_64/wheel/atomsci/ddm/pipeline\n",
            "copying atomsci/ddm/pipeline/dist_metrics.py -> /content/github/AMPL.build/ampl/bdist.linux-x86_64/wheel/atomsci/ddm/pipeline\n",
            "copying atomsci/ddm/pipeline/model_datasets.py -> /content/github/AMPL.build/ampl/bdist.linux-x86_64/wheel/atomsci/ddm/pipeline\n",
            "copying atomsci/ddm/pipeline/temporal_splitter.py -> /content/github/AMPL.build/ampl/bdist.linux-x86_64/wheel/atomsci/ddm/pipeline\n",
            "copying atomsci/ddm/pipeline/transformations.py -> /content/github/AMPL.build/ampl/bdist.linux-x86_64/wheel/atomsci/ddm/pipeline\n",
            "copying atomsci/ddm/pipeline/model_tracker.py -> /content/github/AMPL.build/ampl/bdist.linux-x86_64/wheel/atomsci/ddm/pipeline\n",
            "copying atomsci/ddm/pipeline/model_pipeline.py -> /content/github/AMPL.build/ampl/bdist.linux-x86_64/wheel/atomsci/ddm/pipeline\n",
            "copying atomsci/ddm/pipeline/diversity_plots.py -> /content/github/AMPL.build/ampl/bdist.linux-x86_64/wheel/atomsci/ddm/pipeline\n",
            "copying atomsci/ddm/pipeline/model_wrapper.py -> /content/github/AMPL.build/ampl/bdist.linux-x86_64/wheel/atomsci/ddm/pipeline\n",
            "copying atomsci/ddm/pipeline/__init__.py -> /content/github/AMPL.build/ampl/bdist.linux-x86_64/wheel/atomsci/ddm/pipeline\n",
            "copying atomsci/ddm/pipeline/perf_data.py -> /content/github/AMPL.build/ampl/bdist.linux-x86_64/wheel/atomsci/ddm/pipeline\n",
            "copying atomsci/ddm/pipeline/featurization.py -> /content/github/AMPL.build/ampl/bdist.linux-x86_64/wheel/atomsci/ddm/pipeline\n",
            "running install_egg_info\n",
            "Copying /content/github/AMPL.build/ampl/atomsci_ampl.egg-info to /content/github/AMPL.build/ampl/bdist.linux-x86_64/wheel/atomsci_ampl-1.0.0.dev1-py3.7.egg-info\n",
            "Installing /content/github/AMPL.build/ampl/bdist.linux-x86_64/wheel/atomsci_ampl-1.0.0.dev1-py3.7-nspkg.pth\n",
            "running install_scripts\n",
            "adding license file \"LICENSE\" (matched pattern \"LICEN[CS]E*\")\n",
            "adding license file \"NOTICE\" (matched pattern \"NOTICE*\")\n",
            "creating /content/github/AMPL.build/ampl/bdist.linux-x86_64/wheel/atomsci_ampl-1.0.0.dev1.dist-info/WHEEL\n",
            "creating '/content/github/AMPL.dist/atomsci_ampl-1.0.0.dev1-py3-none-any.whl' and adding '/content/github/AMPL.build/ampl/bdist.linux-x86_64/wheel' to it\n",
            "adding 'atomsci_ampl-1.0.0.dev1-py3.7-nspkg.pth'\n",
            "adding 'atomsci/ddm/__init__.py'\n",
            "adding 'atomsci/ddm/data/descriptor_sets_sources_by_descr_type.csv'\n",
            "adding 'atomsci/ddm/pipeline/__init__.py'\n",
            "adding 'atomsci/ddm/pipeline/ave_splitter.py'\n",
            "adding 'atomsci/ddm/pipeline/chem_diversity.py'\n",
            "adding 'atomsci/ddm/pipeline/compare_models.py'\n",
            "adding 'atomsci/ddm/pipeline/dist_metrics.py'\n",
            "adding 'atomsci/ddm/pipeline/diversity_plots.py'\n",
            "adding 'atomsci/ddm/pipeline/featurization.py'\n",
            "adding 'atomsci/ddm/pipeline/hyper_perf_plots.py'\n",
            "adding 'atomsci/ddm/pipeline/model_datasets.py'\n",
            "adding 'atomsci/ddm/pipeline/model_pipeline.py'\n",
            "adding 'atomsci/ddm/pipeline/model_tracker.py'\n",
            "adding 'atomsci/ddm/pipeline/model_wrapper.py'\n",
            "adding 'atomsci/ddm/pipeline/parameter_parser.py'\n",
            "adding 'atomsci/ddm/pipeline/perf_data.py'\n",
            "adding 'atomsci/ddm/pipeline/perf_plots.py'\n",
            "adding 'atomsci/ddm/pipeline/predict_from_model.py'\n",
            "adding 'atomsci/ddm/pipeline/splitting.py'\n",
            "adding 'atomsci/ddm/pipeline/temporal_splitter.py'\n",
            "adding 'atomsci/ddm/pipeline/transformations.py'\n",
            "adding 'atomsci/ddm/utils/__init__.py'\n",
            "adding 'atomsci/ddm/utils/curate_data.py'\n",
            "adding 'atomsci/ddm/utils/data_curation_functions.py'\n",
            "adding 'atomsci/ddm/utils/datastore_functions.py'\n",
            "adding 'atomsci/ddm/utils/genTestset.py'\n",
            "adding 'atomsci/ddm/utils/hyperparam_search_wrapper.py'\n",
            "adding 'atomsci/ddm/utils/llnl_utils.py'\n",
            "adding 'atomsci/ddm/utils/open-docs.py'\n",
            "adding 'atomsci/ddm/utils/process_slurm.py'\n",
            "adding 'atomsci/ddm/utils/pubchem_utils.py'\n",
            "adding 'atomsci/ddm/utils/rdkit_easy.py'\n",
            "adding 'atomsci/ddm/utils/struct_utils.py'\n",
            "adding 'atomsci_ampl-1.0.0.dev1.dist-info/LICENSE'\n",
            "adding 'atomsci_ampl-1.0.0.dev1.dist-info/METADATA'\n",
            "adding 'atomsci_ampl-1.0.0.dev1.dist-info/NOTICE'\n",
            "adding 'atomsci_ampl-1.0.0.dev1.dist-info/WHEEL'\n",
            "adding 'atomsci_ampl-1.0.0.dev1.dist-info/namespace_packages.txt'\n",
            "adding 'atomsci_ampl-1.0.0.dev1.dist-info/top_level.txt'\n",
            "adding 'atomsci_ampl-1.0.0.dev1.dist-info/RECORD'\n",
            "removing /content/github/AMPL.build/ampl/bdist.linux-x86_64/wheel\n",
            "DIR: /content/github/AMPL\n",
            "Ignoring indexes: https://pypi.org/simple\n",
            "Created temporary directory: /tmp/pip-ephem-wheel-cache-s7khf756\n",
            "Created temporary directory: /tmp/pip-req-tracker-yq3ex11o\n",
            "Created requirements tracker '/tmp/pip-req-tracker-yq3ex11o'\n",
            "Created temporary directory: /tmp/pip-install-_fadphjr\n",
            "Looking in links: /content/github/AMPL.dist\n",
            "Collecting atomsci_ampl\n",
            "  0 location(s) to search for versions of atomsci-ampl:\n",
            "  Skipping link: unsupported archive format: .dist: /content/github/AMPL.dist (from -f)\n",
            "  Found link file:///content/github/AMPL.dist/atomsci_ampl-1.0.0.dev1-py3-none-any.whl, version: 1.0.0.dev1\n",
            "  Local files found: /content/github/AMPL.dist/atomsci_ampl-1.0.0.dev1-py3-none-any.whl\n",
            "  Given no hashes to check 1 links for project 'atomsci-ampl': discarding no candidates\n",
            "  Using version 1.0.0.dev1 (newest of versions: 1.0.0.dev1)\n",
            "  Added atomsci_ampl from file:///content/github/AMPL.dist/atomsci_ampl-1.0.0.dev1-py3-none-any.whl to build tracker '/tmp/pip-req-tracker-yq3ex11o'\n",
            "  Removed atomsci_ampl from file:///content/github/AMPL.dist/atomsci_ampl-1.0.0.dev1-py3-none-any.whl from build tracker '/tmp/pip-req-tracker-yq3ex11o'\n",
            "Installing collected packages: atomsci-ampl\n",
            "\n",
            "Successfully installed atomsci-ampl-1.0.0.dev1\n",
            "Cleaning up...\n",
            "Removed build tracker '/tmp/pip-req-tracker-yq3ex11o'\n"
          ],
          "name": "stdout"
        }
      ]
    },
    {
      "cell_type": "code",
      "metadata": {
        "id": "InUQE4II1noi",
        "colab": {
          "base_uri": "https://localhost:8080/"
        },
        "outputId": "797d96ab-d877-417a-eaa8-d2322d38626e"
      },
      "source": [
        "!wget https://raw.githubusercontent.com/ravichas/AMPL-Tutorial/master/datasets/H1_std.csv"
      ],
      "execution_count": 6,
      "outputs": [
        {
          "output_type": "stream",
          "text": [
            "--2021-04-06 18:08:11--  https://raw.githubusercontent.com/ravichas/AMPL-Tutorial/master/datasets/H1_std.csv\n",
            "Resolving raw.githubusercontent.com (raw.githubusercontent.com)... 185.199.108.133, 185.199.109.133, 185.199.110.133, ...\n",
            "Connecting to raw.githubusercontent.com (raw.githubusercontent.com)|185.199.108.133|:443... connected.\n",
            "HTTP request sent, awaiting response... 200 OK\n",
            "Length: 136759 (134K) [text/plain]\n",
            "Saving to: ‘H1_std.csv’\n",
            "\n",
            "H1_std.csv          100%[===================>] 133.55K  --.-KB/s    in 0.01s   \n",
            "\n",
            "2021-04-06 18:08:11 (12.9 MB/s) - ‘H1_std.csv’ saved [136759/136759]\n",
            "\n"
          ],
          "name": "stdout"
        }
      ]
    },
    {
      "cell_type": "code",
      "metadata": {
        "id": "2PO0-2HKvVpn",
        "colab": {
          "base_uri": "https://localhost:8080/"
        },
        "outputId": "c779be54-ff8f-4273-ab3f-4d4ba5f05296"
      },
      "source": [
        "!pip install hyperopt"
      ],
      "execution_count": 7,
      "outputs": [
        {
          "output_type": "stream",
          "text": [
            "Collecting hyperopt\n",
            "\u001b[?25l  Downloading https://files.pythonhosted.org/packages/a6/07/bd524635d218adae139be320eeac87fb4fbbd45c63b0bd58930c9e91f1fc/hyperopt-0.2.5-py2.py3-none-any.whl (965kB)\n",
            "\u001b[K     |████████████████████████████████| 972kB 14.6MB/s \n",
            "\u001b[?25hRequirement already satisfied: future in /usr/local/lib/python3.7/site-packages (from hyperopt) (0.17.1)\n",
            "Requirement already satisfied: cloudpickle in /usr/local/lib/python3.7/site-packages (from hyperopt) (1.2.2)\n",
            "Requirement already satisfied: scipy in /usr/local/lib/python3.7/site-packages (from hyperopt) (1.3.1)\n",
            "Requirement already satisfied: networkx>=2.2 in /usr/local/lib/python3.7/site-packages (from hyperopt) (2.3)\n",
            "Requirement already satisfied: tqdm in /usr/local/lib/python3.7/site-packages (from hyperopt) (4.36.1)\n",
            "Requirement already satisfied: six in /usr/local/lib/python3.7/site-packages (from hyperopt) (1.12.0)\n",
            "Requirement already satisfied: numpy in /usr/local/lib/python3.7/site-packages (from hyperopt) (1.17.2)\n",
            "Requirement already satisfied: decorator>=4.3.0 in /usr/local/lib/python3.7/site-packages (from networkx>=2.2->hyperopt) (4.4.0)\n",
            "Installing collected packages: hyperopt\n",
            "Successfully installed hyperopt-0.2.5\n"
          ],
          "name": "stdout"
        }
      ]
    },
    {
      "cell_type": "markdown",
      "metadata": {
        "id": "mTOwqhvR3xL3"
      },
      "source": [
        "### Load packages and dataset"
      ]
    },
    {
      "cell_type": "code",
      "metadata": {
        "id": "EeN9kEMO2R9Z",
        "colab": {
          "base_uri": "https://localhost:8080/"
        },
        "outputId": "eeaa1f62-81b0-4ea6-d9df-e5c8267aae96"
      },
      "source": [
        "import matplotlib.pyplot as plt\n",
        "import seaborn as sns\n",
        "import numpy as np\n",
        "sns.set_context(\"poster\")\n",
        "sns.set_style(\"whitegrid\")\n",
        "sns.set_palette(\"Set2\")\n",
        "\n",
        "import pandas as pd\n",
        "import os, json, sys, glob, pickle\n",
        "\n",
        "from atomsci.ddm.pipeline import model_pipeline as mp\n",
        "from atomsci.ddm.pipeline import parameter_parser as parse\n",
        "from atomsci.ddm.pipeline import perf_data\n",
        "\n",
        "from hyperopt import fmin, tpe, hp, Trials, STATUS_OK"
      ],
      "execution_count": 8,
      "outputs": [
        {
          "output_type": "stream",
          "text": [
            "/usr/local/lib/python3.7/dist-packages/sklearn/externals/joblib/__init__.py:15: FutureWarning: sklearn.externals.joblib is deprecated in 0.21 and will be removed in 0.23. Please import this functionality directly from joblib, which can be installed with: pip install joblib. If this warning is raised when loading pickled models, you may need to re-serialize those models with scikit-learn 0.21+.\n",
            "  warnings.warn(msg, category=FutureWarning)\n"
          ],
          "name": "stderr"
        },
        {
          "output_type": "stream",
          "text": [
            "WARNING:tensorflow:\n",
            "The TensorFlow contrib module will not be included in TensorFlow 2.0.\n",
            "For more information, please see:\n",
            "  * https://github.com/tensorflow/community/blob/master/rfcs/20180907-contrib-sunset.md\n",
            "  * https://github.com/tensorflow/addons\n",
            "  * https://github.com/tensorflow/io (for I/O related ops)\n",
            "If you depend on functionality not listed there, please file an issue.\n",
            "\n"
          ],
          "name": "stdout"
        }
      ]
    },
    {
      "cell_type": "code",
      "metadata": {
        "colab": {
          "base_uri": "https://localhost:8080/"
        },
        "id": "GVKYUnM9X4j0",
        "outputId": "91419381-a196-4258-fb82-0c3c7828053b"
      },
      "source": [
        "from google.colab import drive\n",
        "drive.mount('/content/drive')"
      ],
      "execution_count": 43,
      "outputs": [
        {
          "output_type": "stream",
          "text": [
            "Drive already mounted at /content/drive; to attempt to forcibly remount, call drive.mount(\"/content/drive\", force_remount=True).\n"
          ],
          "name": "stdout"
        }
      ]
    },
    {
      "cell_type": "code",
      "metadata": {
        "id": "NBOyQuZ6ltkh"
      },
      "source": [
        "h1 = pd.read_csv('/content/drive/MyDrive/Columbia_E4511/delaney_curated_final.csv')"
      ],
      "execution_count": 57,
      "outputs": []
    },
    {
      "cell_type": "code",
      "metadata": {
        "colab": {
          "base_uri": "https://localhost:8080/"
        },
        "id": "OUwrexJ6YgaM",
        "outputId": "4c983290-ef87-42e4-e04a-46c9d50f39bf"
      },
      "source": [
        "h1.shape"
      ],
      "execution_count": 58,
      "outputs": [
        {
          "output_type": "execute_result",
          "data": {
            "text/plain": [
              "(11292, 12)"
            ]
          },
          "metadata": {
            "tags": []
          },
          "execution_count": 58
        }
      ]
    },
    {
      "cell_type": "code",
      "metadata": {
        "id": "v_fQuS473N1M",
        "colab": {
          "base_uri": "https://localhost:8080/",
          "height": 609
        },
        "outputId": "e6ceed4d-5ab3-4d62-b7ea-cb67565725f9"
      },
      "source": [
        "h1"
      ],
      "execution_count": 59,
      "outputs": [
        {
          "output_type": "execute_result",
          "data": {
            "text/html": [
              "<div>\n",
              "<style scoped>\n",
              "    .dataframe tbody tr th:only-of-type {\n",
              "        vertical-align: middle;\n",
              "    }\n",
              "\n",
              "    .dataframe tbody tr th {\n",
              "        vertical-align: top;\n",
              "    }\n",
              "\n",
              "    .dataframe thead th {\n",
              "        text-align: right;\n",
              "    }\n",
              "</style>\n",
              "<table border=\"1\" class=\"dataframe\">\n",
              "  <thead>\n",
              "    <tr style=\"text-align: right;\">\n",
              "      <th></th>\n",
              "      <th>compound_id</th>\n",
              "      <th>base_rdkit_smiles</th>\n",
              "      <th>relation</th>\n",
              "      <th>pXC50</th>\n",
              "      <th>active</th>\n",
              "      <th>rdkit_smiles</th>\n",
              "      <th>inchi_key</th>\n",
              "      <th>Compound_Id</th>\n",
              "      <th>VALUE_NUM_mean</th>\n",
              "      <th>VALUE_NUM_std</th>\n",
              "      <th>Perc_Var</th>\n",
              "      <th>Remove_BadDuplicate</th>\n",
              "    </tr>\n",
              "  </thead>\n",
              "  <tbody>\n",
              "    <tr>\n",
              "      <th>0</th>\n",
              "      <td>CHEMBL245412</td>\n",
              "      <td>C/C1=C\\CC(C)(C)/C=C/C(=O)/C(C)=C/CC1</td>\n",
              "      <td>NaN</td>\n",
              "      <td>2.027809</td>\n",
              "      <td>0</td>\n",
              "      <td>C/C1=C\\CC(C)(C)/C=C/C(=O)/C(C)=C/CC1</td>\n",
              "      <td>GIHNTRQPEMKFKO-SKTNYSRSSA-N</td>\n",
              "      <td>GIHNTRQPEMKFKO-SKTNYSRSSA-N</td>\n",
              "      <td>2.027809</td>\n",
              "      <td>NaN</td>\n",
              "      <td>0.0</td>\n",
              "      <td>0</td>\n",
              "    </tr>\n",
              "    <tr>\n",
              "      <th>1</th>\n",
              "      <td>CHEMBL1419469</td>\n",
              "      <td>Cc1ccccc1NC(=O)Cc1c(O)nc2ccccc2c1O</td>\n",
              "      <td>NaN</td>\n",
              "      <td>2.050000</td>\n",
              "      <td>0</td>\n",
              "      <td>Cc1ccccc1NC(=O)Cc1c(O)nc2ccccc2c1O</td>\n",
              "      <td>HYBPGKKEHPSNRR-UHFFFAOYSA-N</td>\n",
              "      <td>HYBPGKKEHPSNRR-UHFFFAOYSA-N</td>\n",
              "      <td>2.050000</td>\n",
              "      <td>NaN</td>\n",
              "      <td>0.0</td>\n",
              "      <td>0</td>\n",
              "    </tr>\n",
              "    <tr>\n",
              "      <th>2</th>\n",
              "      <td>CHEMBL1093607</td>\n",
              "      <td>CC(c1c(CCN(C)C)sc2ccccc12)n1ccnc1</td>\n",
              "      <td>NaN</td>\n",
              "      <td>2.097506</td>\n",
              "      <td>0</td>\n",
              "      <td>CC(c1c(CCN(C)C)sc2ccccc12)n1ccnc1</td>\n",
              "      <td>MSPFRPWEGPBFTC-UHFFFAOYSA-N</td>\n",
              "      <td>MSPFRPWEGPBFTC-UHFFFAOYSA-N</td>\n",
              "      <td>2.097506</td>\n",
              "      <td>NaN</td>\n",
              "      <td>0.0</td>\n",
              "      <td>0</td>\n",
              "    </tr>\n",
              "    <tr>\n",
              "      <th>3</th>\n",
              "      <td>CHEMBL66654</td>\n",
              "      <td>Cc1cccc(C#Cc2ccccc2)n1</td>\n",
              "      <td>NaN</td>\n",
              "      <td>2.233919</td>\n",
              "      <td>0</td>\n",
              "      <td>Cc1cccc(C#Cc2ccccc2)n1</td>\n",
              "      <td>NEWKHUASLBMWRE-UHFFFAOYSA-N</td>\n",
              "      <td>NEWKHUASLBMWRE-UHFFFAOYSA-N</td>\n",
              "      <td>2.233919</td>\n",
              "      <td>NaN</td>\n",
              "      <td>0.0</td>\n",
              "      <td>0</td>\n",
              "    </tr>\n",
              "    <tr>\n",
              "      <th>4</th>\n",
              "      <td>CHEMBL1091782</td>\n",
              "      <td>C[C@@H](c1cscn1)c1c(CCN(C)C)sc2ccccc12</td>\n",
              "      <td>NaN</td>\n",
              "      <td>2.308753</td>\n",
              "      <td>0</td>\n",
              "      <td>C[C@@H](c1cscn1)c1c(CCN(C)C)sc2ccccc12</td>\n",
              "      <td>GUNAZEDORZMWRN-LBPRGKRZSA-N</td>\n",
              "      <td>GUNAZEDORZMWRN-LBPRGKRZSA-N</td>\n",
              "      <td>2.308753</td>\n",
              "      <td>NaN</td>\n",
              "      <td>0.0</td>\n",
              "      <td>0</td>\n",
              "    </tr>\n",
              "    <tr>\n",
              "      <th>...</th>\n",
              "      <td>...</td>\n",
              "      <td>...</td>\n",
              "      <td>...</td>\n",
              "      <td>...</td>\n",
              "      <td>...</td>\n",
              "      <td>...</td>\n",
              "      <td>...</td>\n",
              "      <td>...</td>\n",
              "      <td>...</td>\n",
              "      <td>...</td>\n",
              "      <td>...</td>\n",
              "      <td>...</td>\n",
              "    </tr>\n",
              "    <tr>\n",
              "      <th>11287</th>\n",
              "      <td>CHEMBL1089116</td>\n",
              "      <td>CCn1cc(-c2ccnc3[nH]ccc23)c(-c2ccc(NC(=O)Nc3ccc...</td>\n",
              "      <td>NaN</td>\n",
              "      <td>10.068432</td>\n",
              "      <td>1</td>\n",
              "      <td>CCn1cc(-c2ccnc3[nH]ccc23)c(-c2ccc(NC(=O)Nc3ccc...</td>\n",
              "      <td>CZVVMRNEBRFYTL-UHFFFAOYSA-N</td>\n",
              "      <td>CZVVMRNEBRFYTL-UHFFFAOYSA-N</td>\n",
              "      <td>10.068432</td>\n",
              "      <td>NaN</td>\n",
              "      <td>0.0</td>\n",
              "      <td>0</td>\n",
              "    </tr>\n",
              "    <tr>\n",
              "      <th>11288</th>\n",
              "      <td>CHEMBL1081870</td>\n",
              "      <td>Cc1cccc(C)c1CNc1nccc2c1nc(C)n2C</td>\n",
              "      <td>NaN</td>\n",
              "      <td>10.068432</td>\n",
              "      <td>1</td>\n",
              "      <td>Cc1cccc(C)c1CNc1nccc2c1nc(C)n2C</td>\n",
              "      <td>RFFMAFBDIYXZRC-UHFFFAOYSA-N</td>\n",
              "      <td>RFFMAFBDIYXZRC-UHFFFAOYSA-N</td>\n",
              "      <td>10.068432</td>\n",
              "      <td>NaN</td>\n",
              "      <td>0.0</td>\n",
              "      <td>0</td>\n",
              "    </tr>\n",
              "    <tr>\n",
              "      <th>11289</th>\n",
              "      <td>53392850</td>\n",
              "      <td>CN1C[C@H]2CCCC[C@@]2(Cc2ccc(Cl)c(Cl)c2)C1</td>\n",
              "      <td>NaN</td>\n",
              "      <td>10.369462</td>\n",
              "      <td>1</td>\n",
              "      <td>CN1C[C@H]2CCCC[C@@]2(Cc2ccc(Cl)c(Cl)c2)C1</td>\n",
              "      <td>CHWUQEOFMAPDHN-CZUORRHYSA-N</td>\n",
              "      <td>CHWUQEOFMAPDHN-CZUORRHYSA-N</td>\n",
              "      <td>10.369462</td>\n",
              "      <td>NaN</td>\n",
              "      <td>0.0</td>\n",
              "      <td>0</td>\n",
              "    </tr>\n",
              "    <tr>\n",
              "      <th>11290</th>\n",
              "      <td>53392852</td>\n",
              "      <td>Clc1ccc(C[C@@]23CCCC[C@@H]2CNC3)cc1Cl</td>\n",
              "      <td>NaN</td>\n",
              "      <td>10.369462</td>\n",
              "      <td>1</td>\n",
              "      <td>Clc1ccc(C[C@@]23CCCC[C@@H]2CNC3)cc1Cl</td>\n",
              "      <td>MEAWOAPXKTVYPU-IUODEOHRSA-N</td>\n",
              "      <td>MEAWOAPXKTVYPU-IUODEOHRSA-N</td>\n",
              "      <td>10.369462</td>\n",
              "      <td>NaN</td>\n",
              "      <td>0.0</td>\n",
              "      <td>0</td>\n",
              "    </tr>\n",
              "    <tr>\n",
              "      <th>11291</th>\n",
              "      <td>CHEMBL1094181</td>\n",
              "      <td>NC(=O)c1c(F)ccc(OCc2nc3ncc(Cl)cc3s2)c1F</td>\n",
              "      <td>&lt;</td>\n",
              "      <td>12.000000</td>\n",
              "      <td>0</td>\n",
              "      <td>NC(=O)c1c(F)ccc(OCc2nc3ncc(Cl)cc3s2)c1F</td>\n",
              "      <td>XRIOBMZSHACRBN-UHFFFAOYSA-N</td>\n",
              "      <td>XRIOBMZSHACRBN-UHFFFAOYSA-N</td>\n",
              "      <td>12.000000</td>\n",
              "      <td>NaN</td>\n",
              "      <td>0.0</td>\n",
              "      <td>0</td>\n",
              "    </tr>\n",
              "  </tbody>\n",
              "</table>\n",
              "<p>11292 rows × 12 columns</p>\n",
              "</div>"
            ],
            "text/plain": [
              "         compound_id  ... Remove_BadDuplicate\n",
              "0       CHEMBL245412  ...                   0\n",
              "1      CHEMBL1419469  ...                   0\n",
              "2      CHEMBL1093607  ...                   0\n",
              "3        CHEMBL66654  ...                   0\n",
              "4      CHEMBL1091782  ...                   0\n",
              "...              ...  ...                 ...\n",
              "11287  CHEMBL1089116  ...                   0\n",
              "11288  CHEMBL1081870  ...                   0\n",
              "11289       53392850  ...                   0\n",
              "11290       53392852  ...                   0\n",
              "11291  CHEMBL1094181  ...                   0\n",
              "\n",
              "[11292 rows x 12 columns]"
            ]
          },
          "metadata": {
            "tags": []
          },
          "execution_count": 59
        }
      ]
    },
    {
      "cell_type": "code",
      "metadata": {
        "id": "56BlUrocYVFh"
      },
      "source": [
        ""
      ],
      "execution_count": 59,
      "outputs": []
    },
    {
      "cell_type": "markdown",
      "metadata": {
        "id": "XA8ARleo3h53"
      },
      "source": [
        "### Split the dataset"
      ]
    },
    {
      "cell_type": "code",
      "metadata": {
        "id": "1eQC31_fA2wD",
        "colab": {
          "base_uri": "https://localhost:8080/"
        },
        "outputId": "95494e36-5b1f-404a-f209-dcc3f253ccbe"
      },
      "source": [
        "train_file = '/content/drive/MyDrive/Columbia_E4511/delaney_curated_final.csv'\n",
        "response_col = 'VALUE_NUM_mean'\n",
        "compound_id = \"compound_id\"\n",
        "smiles_col = \"rdkit_smiles\"\n",
        "\n",
        "params = {\n",
        "        \"system\": \"LC\",\n",
        "        \"lc_account\": 'None',\n",
        "        \"datastore\": \"False\",\n",
        "        \"save_results\": \"False\",\n",
        "        \"data_owner\": \"username\",\n",
        "        \"prediction_type\": \"regression\",\n",
        "        \"dataset_key\": train_file,\n",
        "        \"id_col\": compound_id,\n",
        "        \"smiles_col\": smiles_col,\n",
        "        \"response_cols\": response_col,\n",
        "        \"previously_split\": \"False\",\n",
        "        \"split_only\": \"True\",\n",
        "        \"featurizer\": \"ecfp\",\n",
        "        \"model_type\": \"RF\",\n",
        "        \"verbose\": \"True\",\n",
        "        \"transformers\": \"True\",\n",
        "        'max_epochs': '70',\n",
        "        \"rerun\": \"False\",\n",
        "        \"result_dir\": \"split\"\n",
        "    }\n",
        "\n",
        "ampl_param = parse.wrapper(params)\n",
        "pl = mp.ModelPipeline(ampl_param)\n",
        "pl.train_model()"
      ],
      "execution_count": 64,
      "outputs": [
        {
          "output_type": "stream",
          "text": [
            "number of features: 1024\n"
          ],
          "name": "stdout"
        },
        {
          "output_type": "stream",
          "text": [
            "2021-04-06 20:03:13,227 Splitting data by scaffold\n",
            "2021-04-06 20:03:21,422 Dataset split table saved to /content/drive/MyDrive/Columbia_E4511/delaney_curated_final_train_valid_test_scaffold_206f1158-2b23-4f65-ad75-1139af914103.csv\n"
          ],
          "name": "stderr"
        }
      ]
    },
    {
      "cell_type": "markdown",
      "metadata": {
        "id": "xSdgxZNU43TM"
      },
      "source": [
        "### Train an initial model"
      ]
    },
    {
      "cell_type": "code",
      "metadata": {
        "id": "IjhIVGpJ42eE"
      },
      "source": [
        "listing = glob.glob(os.path.join(\"/\", \"content/drive/MyDrive/Columbia_E4511/delaney_curated_final_train_valid_test_scaffold_*\"))\n",
        "name = listing[0]\n",
        "split_uuid = name.split(\"_\")[-1].split(\".\")[0]\n",
        "response_col = \"VALUE_NUM_mean\"\n",
        "\n",
        "params = {\n",
        "        \"system\": \"LC\",\n",
        "        \"lc_account\": 'None',\n",
        "        \"datastore\": \"False\",\n",
        "        \"save_results\": \"False\",\n",
        "        \"data_owner\": \"username\",\n",
        "        \"prediction_type\": \"regression\",\n",
        "        \"dataset_key\": train_file,\n",
        "        \"id_col\": compound_id,\n",
        "        \"smiles_col\": smiles_col,\n",
        "        \"response_cols\": response_col,\n",
        "        \"split_uuid\": split_uuid,\n",
        "        \"previously_split\": \"True\",\n",
        "        \"featurizer\": \"ecfp\",\n",
        "        \"model_type\": \"RF\",\n",
        "        \"verbose\": \"True\",\n",
        "        \"transformers\": \"True\",\n",
        "        'max_epochs': '70',\n",
        "        \"rerun\": \"False\",\n",
        "        \"result_dir\": \"ampl_output\"\n",
        "    }"
      ],
      "execution_count": 67,
      "outputs": []
    },
    {
      "cell_type": "code",
      "metadata": {
        "id": "qjbLbmri5Rhl",
        "colab": {
          "base_uri": "https://localhost:8080/"
        },
        "outputId": "d72fcd3c-10ea-46b1-8b61-e83ce062aea3"
      },
      "source": [
        "ampl_param = parse.wrapper(params)\n",
        "pl = mp.ModelPipeline(ampl_param)\n",
        "pl.train_model()"
      ],
      "execution_count": 68,
      "outputs": [
        {
          "output_type": "stream",
          "text": [
            "number of features: 1024\n"
          ],
          "name": "stdout"
        },
        {
          "output_type": "stream",
          "text": [
            "2021-04-06 20:06:11,783 Previous dataset split restored\n"
          ],
          "name": "stderr"
        },
        {
          "output_type": "stream",
          "text": [
            "n_cnt [11292.]\n",
            "y_means [5.16341151]\n",
            "y_stds [0.84529703]\n",
            "TIMING: dataset construction took 0.469 s\n",
            "Loading dataset from disk.\n",
            "TIMING: dataset construction took 0.073 s\n",
            "Loading dataset from disk.\n",
            "TIMING: dataset construction took 0.055 s\n",
            "Loading dataset from disk.\n"
          ],
          "name": "stdout"
        },
        {
          "output_type": "stream",
          "text": [
            "2021-04-06 20:06:43,533 Wrote model metadata to file ampl_output/delaney_curated_final/RF_ecfp_scaffold_regression/b29903eb-8358-40c0-ad92-d5679f802932/model_metadata.json\n",
            "2021-04-06 20:06:47,732 Wrote model metrics to file ampl_output/delaney_curated_final/RF_ecfp_scaffold_regression/b29903eb-8358-40c0-ad92-d5679f802932/model_metrics.json\n"
          ],
          "name": "stderr"
        },
        {
          "output_type": "stream",
          "text": [
            "Wrote model tarball to ampl_output/delaney_curated_final_model_b29903eb-8358-40c0-ad92-d5679f802932.tar.gz\n"
          ],
          "name": "stdout"
        }
      ]
    },
    {
      "cell_type": "code",
      "metadata": {
        "id": "ol3jooPm5Yd0",
        "colab": {
          "base_uri": "https://localhost:8080/"
        },
        "outputId": "a3c8bed7-d288-450c-ecba-a6ba3222a523"
      },
      "source": [
        "pred_data = pl.model_wrapper.get_perf_data(subset=\"valid\", epoch_label=\"best\")\n",
        "pred_results = pred_data.get_prediction_results()\n",
        "print(f\"R2 score of validation set: {pred_results['r2_score']:.3f}\")"
      ],
      "execution_count": 69,
      "outputs": [
        {
          "output_type": "stream",
          "text": [
            "R2 score of validation set: -45.575\n"
          ],
          "name": "stdout"
        }
      ]
    },
    {
      "cell_type": "code",
      "metadata": {
        "colab": {
          "base_uri": "https://localhost:8080/"
        },
        "id": "I25kL1aqfl06",
        "outputId": "76071af4-aa99-4fcf-8d54-38c341945b1d"
      },
      "source": [
        "pred_data = pl.model_wrapper.get_perf_data(subset=\"full\", epoch_label=\"best\")\n",
        "pred_results = pred_data.get_prediction_results()\n",
        "print(f\"R2 score of test set: {pred_results['r2_score']:.3f}\")"
      ],
      "execution_count": 70,
      "outputs": [
        {
          "output_type": "stream",
          "text": [
            "R2 score of test set: -34.273\n"
          ],
          "name": "stdout"
        }
      ]
    },
    {
      "cell_type": "markdown",
      "metadata": {
        "id": "vJ2mT3kfi_ed"
      },
      "source": [
        "### Train an model with uncertainty prediction"
      ]
    },
    {
      "cell_type": "code",
      "metadata": {
        "id": "WKUZYCUDi_en"
      },
      "source": [
        "listing = glob.glob(os.path.join(\"/\", \"/content/drive/MyDrive/Columbia_E4511/delaney_curated_final_train_valid_test_scaffold_*\"))\n",
        "name = listing[0]\n",
        "split_uuid = name.split(\"_\")[-1].split(\".\")[0]\n",
        "response_col = \"VALUE_NUM_mean\"\n",
        "\n",
        "params = {\n",
        "        \"system\": \"LC\",\n",
        "        \"lc_account\": 'None',\n",
        "        \"datastore\": \"False\",\n",
        "        \"save_results\": \"False\",\n",
        "        \"data_owner\": \"username\",\n",
        "        \"prediction_type\": \"regression\",\n",
        "        \"dataset_key\": train_file,\n",
        "        \"id_col\": compound_id,\n",
        "        \"smiles_col\": smiles_col,\n",
        "        \"response_cols\": response_col,\n",
        "        \"split_uuid\": split_uuid,\n",
        "        \"previously_split\": \"True\",\n",
        "        \"featurizer\": \"ecfp\",\n",
        "        \"model_type\": \"RF\",\n",
        "        \"verbose\": \"True\",\n",
        "        \"transformers\": \"True\",\n",
        "        'max_epochs': '70',\n",
        "        \"rerun\": \"False\",\n",
        "        \"result_dir\": \"ampl_output\",\n",
        "        \"uncertainty\": \"True\"\n",
        "    }"
      ],
      "execution_count": 71,
      "outputs": []
    },
    {
      "cell_type": "code",
      "metadata": {
        "id": "zwSTjKBei_eo",
        "colab": {
          "base_uri": "https://localhost:8080/"
        },
        "outputId": "b126f8e7-d6c0-4f5f-8179-ad6eba56cc85"
      },
      "source": [
        "ampl_param = parse.wrapper(params)\n",
        "pl = mp.ModelPipeline(ampl_param)\n",
        "pl.train_model()"
      ],
      "execution_count": 72,
      "outputs": [
        {
          "output_type": "stream",
          "text": [
            "number of features: 1024\n"
          ],
          "name": "stdout"
        },
        {
          "output_type": "stream",
          "text": [
            "2021-04-06 20:10:04,845 Previous dataset split restored\n"
          ],
          "name": "stderr"
        },
        {
          "output_type": "stream",
          "text": [
            "n_cnt [11292.]\n",
            "y_means [5.16341151]\n",
            "y_stds [0.84529703]\n",
            "TIMING: dataset construction took 0.469 s\n",
            "Loading dataset from disk.\n",
            "TIMING: dataset construction took 0.068 s\n",
            "Loading dataset from disk.\n",
            "TIMING: dataset construction took 0.052 s\n",
            "Loading dataset from disk.\n"
          ],
          "name": "stdout"
        },
        {
          "output_type": "stream",
          "text": [
            "2021-04-06 20:10:35,657 Wrote model metadata to file ampl_output/delaney_curated_final/RF_ecfp_scaffold_regression/aaf3bbdf-1ed2-45f5-b635-6515ee9cffd8/model_metadata.json\n",
            "2021-04-06 20:10:39,416 Wrote model metrics to file ampl_output/delaney_curated_final/RF_ecfp_scaffold_regression/aaf3bbdf-1ed2-45f5-b635-6515ee9cffd8/model_metrics.json\n"
          ],
          "name": "stderr"
        },
        {
          "output_type": "stream",
          "text": [
            "Wrote model tarball to ampl_output/delaney_curated_final_model_aaf3bbdf-1ed2-45f5-b635-6515ee9cffd8.tar.gz\n"
          ],
          "name": "stdout"
        }
      ]
    },
    {
      "cell_type": "code",
      "metadata": {
        "id": "wy8fLhm9i_eo",
        "colab": {
          "base_uri": "https://localhost:8080/"
        },
        "outputId": "6c81262c-9c10-4a1e-cfb2-bffa8a67a586"
      },
      "source": [
        "pred_data = pl.model_wrapper.get_perf_data(subset=\"valid\", epoch_label=\"best\")\n",
        "pred_results = pred_data.get_prediction_results()\n",
        "print(f\"R2 score of validation set: {pred_results['r2_score']:.3f}\")"
      ],
      "execution_count": 73,
      "outputs": [
        {
          "output_type": "stream",
          "text": [
            "R2 score of validation set: -45.786\n"
          ],
          "name": "stdout"
        }
      ]
    },
    {
      "cell_type": "code",
      "metadata": {
        "id": "wnaag-HhjY-X",
        "colab": {
          "base_uri": "https://localhost:8080/"
        },
        "outputId": "bac197d5-c4b2-43f6-9d5b-7e4a119a128b"
      },
      "source": [
        "pred_df = pl.predict_on_dataframe(h1)\n",
        "pred_df = pred_df.merge(h1[[\"rdkit_smiles\", \"VALUE_NUM_mean\"]], on=\"rdkit_smiles\")\n",
        "pred_df = pred_df.assign(pred_error=pred_df.VALUE_NUM_mean-pred_df.pred)"
      ],
      "execution_count": 74,
      "outputs": [
        {
          "output_type": "stream",
          "text": [
            "2021-04-06 20:10:39,449 Featurizing data...\n",
            "2021-04-06 20:11:45,853 Done\n"
          ],
          "name": "stderr"
        },
        {
          "output_type": "stream",
          "text": [
            "number of features: 1024\n",
            "TIMING: dataset construction took 0.574 s\n",
            "Loading dataset from disk.\n"
          ],
          "name": "stdout"
        }
      ]
    },
    {
      "cell_type": "code",
      "metadata": {
        "id": "h4dHK5omm0YJ",
        "colab": {
          "base_uri": "https://localhost:8080/",
          "height": 546
        },
        "outputId": "55d716c8-5214-442a-ceda-77c7ec3a755d"
      },
      "source": [
        "fig, ax = plt.subplots(1,1,figsize=(8,8))\n",
        "sns.scatterplot(data=pred_df, x=\"std\", y=\"pred_error\", ax=ax)"
      ],
      "execution_count": 75,
      "outputs": [
        {
          "output_type": "execute_result",
          "data": {
            "text/plain": [
              "<matplotlib.axes._subplots.AxesSubplot at 0x7f5823425f50>"
            ]
          },
          "metadata": {
            "tags": []
          },
          "execution_count": 75
        },
        {
          "output_type": "display_data",
          "data": {
            "image/png": "[encoded data removed]",
            "text/plain": [
              "<Figure size 576x576 with 1 Axes>"
            ]
          },
          "metadata": {
            "tags": []
          }
        }
      ]
    },
    {
      "cell_type": "markdown",
      "metadata": {
        "id": "pKP_mFuB5giz"
      },
      "source": [
        "### Grid search\n",
        "#### Tunable parameters for Random Forest models\n",
        "- rf_estimators: number of estimators to use in random forest models\n",
        "- rf_max_depth: the maximum depth of a decision tree in the random forest\n",
        "- rf_max_features: max number of features to split random forest nodes"
      ]
    },
    {
      "cell_type": "code",
      "metadata": {
        "id": "i6FBeUGh5mGJ",
        "colab": {
          "base_uri": "https://localhost:8080/"
        },
        "outputId": "2cdf31c9-0a59-4dfe-dd04-8cc772fd3bc6"
      },
      "source": [
        "param_choice = [16,32,64,128]\n",
        "\n",
        "rfe_list = []\n",
        "rfd_list = []\n",
        "rff_list = []\n",
        "valid_r2_list = []\n",
        "for rf_estimator in param_choice:\n",
        "    for rf_depth in param_choice:\n",
        "        for rf_feature in param_choice:\n",
        "            params[\"rf_estimators\"] = rf_estimator\n",
        "            params[\"rf_max_depth\"] = rf_depth\n",
        "            params[\"rf_max_features\"] = rf_feature\n",
        "            rfe_list.append(rf_estimator)\n",
        "            rfd_list.append(rf_depth)\n",
        "            rff_list.append(rf_feature)\n",
        "            tp = parse.wrapper(params)\n",
        "            pl = mp.ModelPipeline(tp)\n",
        "            pl.train_model()\n",
        "            pred_data = pl.model_wrapper.get_perf_data(subset=\"valid\", epoch_label=\"best\")\n",
        "            pred_results = pred_data.get_prediction_results()\n",
        "            valid_r2 = pred_results['r2_score']\n",
        "            valid_r2_list.append(valid_r2)\n",
        "            print(f\"rf_estimators: {rf_estimator}, rf_max_depth: {rf_depth}, rf_max_features: {rf_feature}, valid_r2: {valid_r2}\")"
      ],
      "execution_count": 76,
      "outputs": [
        {
          "output_type": "stream",
          "text": [
            "number of features: 1024\n"
          ],
          "name": "stdout"
        },
        {
          "output_type": "stream",
          "text": [
            "2021-04-06 20:15:03,042 Previous dataset split restored\n"
          ],
          "name": "stderr"
        },
        {
          "output_type": "stream",
          "text": [
            "n_cnt [11292.]\n",
            "y_means [5.16341151]\n",
            "y_stds [0.84529703]\n",
            "TIMING: dataset construction took 0.473 s\n",
            "Loading dataset from disk.\n",
            "TIMING: dataset construction took 0.067 s\n",
            "Loading dataset from disk.\n",
            "TIMING: dataset construction took 0.067 s\n",
            "Loading dataset from disk.\n"
          ],
          "name": "stdout"
        },
        {
          "output_type": "stream",
          "text": [
            "2021-04-06 20:15:06,783 Wrote model metadata to file ampl_output/delaney_curated_final/RF_ecfp_scaffold_regression/020c7604-8699-4d8b-99f1-473a498fbff2/model_metadata.json\n",
            "2021-04-06 20:15:06,813 Wrote model metrics to file ampl_output/delaney_curated_final/RF_ecfp_scaffold_regression/020c7604-8699-4d8b-99f1-473a498fbff2/model_metrics.json\n"
          ],
          "name": "stderr"
        },
        {
          "output_type": "stream",
          "text": [
            "Wrote model tarball to ampl_output/delaney_curated_final_model_020c7604-8699-4d8b-99f1-473a498fbff2.tar.gz\n",
            "rf_estimators: 16, rf_max_depth: 16, rf_max_features: 16, valid_r2: -48.51602819735919\n",
            "number of features: 1024\n"
          ],
          "name": "stdout"
        },
        {
          "output_type": "stream",
          "text": [
            "2021-04-06 20:16:19,025 Previous dataset split restored\n"
          ],
          "name": "stderr"
        },
        {
          "output_type": "stream",
          "text": [
            "n_cnt [11292.]\n",
            "y_means [5.16341151]\n",
            "y_stds [0.84529703]\n",
            "TIMING: dataset construction took 0.488 s\n",
            "Loading dataset from disk.\n",
            "TIMING: dataset construction took 0.062 s\n",
            "Loading dataset from disk.\n",
            "TIMING: dataset construction took 0.066 s\n",
            "Loading dataset from disk.\n"
          ],
          "name": "stdout"
        },
        {
          "output_type": "stream",
          "text": [
            "2021-04-06 20:16:22,786 Wrote model metadata to file ampl_output/delaney_curated_final/RF_ecfp_scaffold_regression/0346d9e7-dc5b-4887-8bc0-c0baa82c6e26/model_metadata.json\n",
            "2021-04-06 20:16:22,817 Wrote model metrics to file ampl_output/delaney_curated_final/RF_ecfp_scaffold_regression/0346d9e7-dc5b-4887-8bc0-c0baa82c6e26/model_metrics.json\n"
          ],
          "name": "stderr"
        },
        {
          "output_type": "stream",
          "text": [
            "Wrote model tarball to ampl_output/delaney_curated_final_model_0346d9e7-dc5b-4887-8bc0-c0baa82c6e26.tar.gz\n",
            "rf_estimators: 16, rf_max_depth: 16, rf_max_features: 32, valid_r2: -46.20365409134326\n",
            "number of features: 1024\n"
          ],
          "name": "stdout"
        },
        {
          "output_type": "stream",
          "text": [
            "2021-04-06 20:17:36,322 Previous dataset split restored\n"
          ],
          "name": "stderr"
        },
        {
          "output_type": "stream",
          "text": [
            "n_cnt [11292.]\n",
            "y_means [5.16341151]\n",
            "y_stds [0.84529703]\n",
            "TIMING: dataset construction took 0.479 s\n",
            "Loading dataset from disk.\n",
            "TIMING: dataset construction took 0.066 s\n",
            "Loading dataset from disk.\n",
            "TIMING: dataset construction took 0.067 s\n",
            "Loading dataset from disk.\n"
          ],
          "name": "stdout"
        },
        {
          "output_type": "stream",
          "text": [
            "2021-04-06 20:17:40,520 Wrote model metadata to file ampl_output/delaney_curated_final/RF_ecfp_scaffold_regression/959c9bcc-1c2b-407f-b851-773b5f3517a5/model_metadata.json\n",
            "2021-04-06 20:17:40,550 Wrote model metrics to file ampl_output/delaney_curated_final/RF_ecfp_scaffold_regression/959c9bcc-1c2b-407f-b851-773b5f3517a5/model_metrics.json\n"
          ],
          "name": "stderr"
        },
        {
          "output_type": "stream",
          "text": [
            "Wrote model tarball to ampl_output/delaney_curated_final_model_959c9bcc-1c2b-407f-b851-773b5f3517a5.tar.gz\n",
            "rf_estimators: 16, rf_max_depth: 16, rf_max_features: 64, valid_r2: -44.6512244324213\n",
            "number of features: 1024\n"
          ],
          "name": "stdout"
        },
        {
          "output_type": "stream",
          "text": [
            "2021-04-06 20:18:52,342 Previous dataset split restored\n"
          ],
          "name": "stderr"
        },
        {
          "output_type": "stream",
          "text": [
            "n_cnt [11292.]\n",
            "y_means [5.16341151]\n",
            "y_stds [0.84529703]\n",
            "TIMING: dataset construction took 0.478 s\n",
            "Loading dataset from disk.\n",
            "TIMING: dataset construction took 0.067 s\n",
            "Loading dataset from disk.\n",
            "TIMING: dataset construction took 0.067 s\n",
            "Loading dataset from disk.\n"
          ],
          "name": "stdout"
        },
        {
          "output_type": "stream",
          "text": [
            "2021-04-06 20:18:56,957 Wrote model metadata to file ampl_output/delaney_curated_final/RF_ecfp_scaffold_regression/17faafe0-6042-4a0a-a330-ac9ab4bf1c1c/model_metadata.json\n",
            "2021-04-06 20:18:56,992 Wrote model metrics to file ampl_output/delaney_curated_final/RF_ecfp_scaffold_regression/17faafe0-6042-4a0a-a330-ac9ab4bf1c1c/model_metrics.json\n"
          ],
          "name": "stderr"
        },
        {
          "output_type": "stream",
          "text": [
            "Wrote model tarball to ampl_output/delaney_curated_final_model_17faafe0-6042-4a0a-a330-ac9ab4bf1c1c.tar.gz\n",
            "rf_estimators: 16, rf_max_depth: 16, rf_max_features: 128, valid_r2: -45.331710524396684\n",
            "number of features: 1024\n"
          ],
          "name": "stdout"
        },
        {
          "output_type": "stream",
          "text": [
            "2021-04-06 20:20:10,584 Previous dataset split restored\n"
          ],
          "name": "stderr"
        },
        {
          "output_type": "stream",
          "text": [
            "n_cnt [11292.]\n",
            "y_means [5.16341151]\n",
            "y_stds [0.84529703]\n",
            "TIMING: dataset construction took 0.491 s\n",
            "Loading dataset from disk.\n",
            "TIMING: dataset construction took 0.069 s\n",
            "Loading dataset from disk.\n",
            "TIMING: dataset construction took 0.068 s\n",
            "Loading dataset from disk.\n"
          ],
          "name": "stdout"
        },
        {
          "output_type": "stream",
          "text": [
            "2021-04-06 20:20:14,507 Wrote model metadata to file ampl_output/delaney_curated_final/RF_ecfp_scaffold_regression/bc5197bd-bee7-45ac-b871-2c7fa7313d55/model_metadata.json\n",
            "2021-04-06 20:20:14,589 Wrote model metrics to file ampl_output/delaney_curated_final/RF_ecfp_scaffold_regression/bc5197bd-bee7-45ac-b871-2c7fa7313d55/model_metrics.json\n"
          ],
          "name": "stderr"
        },
        {
          "output_type": "stream",
          "text": [
            "Wrote model tarball to ampl_output/delaney_curated_final_model_bc5197bd-bee7-45ac-b871-2c7fa7313d55.tar.gz\n",
            "rf_estimators: 16, rf_max_depth: 32, rf_max_features: 16, valid_r2: -48.01330246851466\n",
            "number of features: 1024\n"
          ],
          "name": "stdout"
        },
        {
          "output_type": "stream",
          "text": [
            "2021-04-06 20:21:26,922 Previous dataset split restored\n"
          ],
          "name": "stderr"
        },
        {
          "output_type": "stream",
          "text": [
            "n_cnt [11292.]\n",
            "y_means [5.16341151]\n",
            "y_stds [0.84529703]\n",
            "TIMING: dataset construction took 0.479 s\n",
            "Loading dataset from disk.\n",
            "TIMING: dataset construction took 0.050 s\n",
            "Loading dataset from disk.\n",
            "TIMING: dataset construction took 0.068 s\n",
            "Loading dataset from disk.\n"
          ],
          "name": "stdout"
        },
        {
          "output_type": "stream",
          "text": [
            "2021-04-06 20:21:31,090 Wrote model metadata to file ampl_output/delaney_curated_final/RF_ecfp_scaffold_regression/1accd8b1-64a8-4602-8ca9-a7735bfaec61/model_metadata.json\n",
            "2021-04-06 20:21:31,177 Wrote model metrics to file ampl_output/delaney_curated_final/RF_ecfp_scaffold_regression/1accd8b1-64a8-4602-8ca9-a7735bfaec61/model_metrics.json\n"
          ],
          "name": "stderr"
        },
        {
          "output_type": "stream",
          "text": [
            "Wrote model tarball to ampl_output/delaney_curated_final_model_1accd8b1-64a8-4602-8ca9-a7735bfaec61.tar.gz\n",
            "rf_estimators: 16, rf_max_depth: 32, rf_max_features: 32, valid_r2: -48.94340447423731\n",
            "number of features: 1024\n"
          ],
          "name": "stdout"
        },
        {
          "output_type": "stream",
          "text": [
            "2021-04-06 20:22:41,459 Previous dataset split restored\n"
          ],
          "name": "stderr"
        },
        {
          "output_type": "stream",
          "text": [
            "n_cnt [11292.]\n",
            "y_means [5.16341151]\n",
            "y_stds [0.84529703]\n",
            "TIMING: dataset construction took 0.478 s\n",
            "Loading dataset from disk.\n",
            "TIMING: dataset construction took 0.065 s\n",
            "Loading dataset from disk.\n",
            "TIMING: dataset construction took 0.066 s\n",
            "Loading dataset from disk.\n"
          ],
          "name": "stdout"
        },
        {
          "output_type": "stream",
          "text": [
            "2021-04-06 20:22:45,954 Wrote model metadata to file ampl_output/delaney_curated_final/RF_ecfp_scaffold_regression/34bd1dbe-399c-4ba0-b791-04ed0823a73a/model_metadata.json\n",
            "2021-04-06 20:22:46,046 Wrote model metrics to file ampl_output/delaney_curated_final/RF_ecfp_scaffold_regression/34bd1dbe-399c-4ba0-b791-04ed0823a73a/model_metrics.json\n"
          ],
          "name": "stderr"
        },
        {
          "output_type": "stream",
          "text": [
            "Wrote model tarball to ampl_output/delaney_curated_final_model_34bd1dbe-399c-4ba0-b791-04ed0823a73a.tar.gz\n",
            "rf_estimators: 16, rf_max_depth: 32, rf_max_features: 64, valid_r2: -46.28138619931483\n",
            "number of features: 1024\n"
          ],
          "name": "stdout"
        },
        {
          "output_type": "stream",
          "text": [
            "2021-04-06 20:23:58,270 Previous dataset split restored\n"
          ],
          "name": "stderr"
        },
        {
          "output_type": "stream",
          "text": [
            "n_cnt [11292.]\n",
            "y_means [5.16341151]\n",
            "y_stds [0.84529703]\n",
            "TIMING: dataset construction took 0.483 s\n",
            "Loading dataset from disk.\n",
            "TIMING: dataset construction took 0.070 s\n",
            "Loading dataset from disk.\n",
            "TIMING: dataset construction took 0.068 s\n",
            "Loading dataset from disk.\n"
          ],
          "name": "stdout"
        },
        {
          "output_type": "stream",
          "text": [
            "2021-04-06 20:24:03,416 Wrote model metadata to file ampl_output/delaney_curated_final/RF_ecfp_scaffold_regression/59f2429f-0c0f-447b-99fe-46dbe7619db3/model_metadata.json\n",
            "2021-04-06 20:24:03,503 Wrote model metrics to file ampl_output/delaney_curated_final/RF_ecfp_scaffold_regression/59f2429f-0c0f-447b-99fe-46dbe7619db3/model_metrics.json\n"
          ],
          "name": "stderr"
        },
        {
          "output_type": "stream",
          "text": [
            "Wrote model tarball to ampl_output/delaney_curated_final_model_59f2429f-0c0f-447b-99fe-46dbe7619db3.tar.gz\n",
            "rf_estimators: 16, rf_max_depth: 32, rf_max_features: 128, valid_r2: -49.83382323342737\n",
            "number of features: 1024\n"
          ],
          "name": "stdout"
        },
        {
          "output_type": "stream",
          "text": [
            "2021-04-06 20:25:15,126 Previous dataset split restored\n"
          ],
          "name": "stderr"
        },
        {
          "output_type": "stream",
          "text": [
            "n_cnt [11292.]\n",
            "y_means [5.16341151]\n",
            "y_stds [0.84529703]\n",
            "TIMING: dataset construction took 0.367 s\n",
            "Loading dataset from disk.\n",
            "TIMING: dataset construction took 0.054 s\n",
            "Loading dataset from disk.\n",
            "TIMING: dataset construction took 0.067 s\n",
            "Loading dataset from disk.\n"
          ],
          "name": "stdout"
        },
        {
          "output_type": "stream",
          "text": [
            "2021-04-06 20:25:19,113 Wrote model metadata to file ampl_output/delaney_curated_final/RF_ecfp_scaffold_regression/da4870cf-5c42-467a-930f-897806d307f3/model_metadata.json\n",
            "2021-04-06 20:25:19,251 Wrote model metrics to file ampl_output/delaney_curated_final/RF_ecfp_scaffold_regression/da4870cf-5c42-467a-930f-897806d307f3/model_metrics.json\n"
          ],
          "name": "stderr"
        },
        {
          "output_type": "stream",
          "text": [
            "Wrote model tarball to ampl_output/delaney_curated_final_model_da4870cf-5c42-467a-930f-897806d307f3.tar.gz\n",
            "rf_estimators: 16, rf_max_depth: 64, rf_max_features: 16, valid_r2: -51.426359365450494\n",
            "number of features: 1024\n"
          ],
          "name": "stdout"
        },
        {
          "output_type": "stream",
          "text": [
            "2021-04-06 20:26:32,984 Previous dataset split restored\n"
          ],
          "name": "stderr"
        },
        {
          "output_type": "stream",
          "text": [
            "n_cnt [11292.]\n",
            "y_means [5.16341151]\n",
            "y_stds [0.84529703]\n",
            "TIMING: dataset construction took 0.491 s\n",
            "Loading dataset from disk.\n",
            "TIMING: dataset construction took 0.067 s\n",
            "Loading dataset from disk.\n",
            "TIMING: dataset construction took 0.066 s\n",
            "Loading dataset from disk.\n"
          ],
          "name": "stdout"
        },
        {
          "output_type": "stream",
          "text": [
            "2021-04-06 20:26:37,378 Wrote model metadata to file ampl_output/delaney_curated_final/RF_ecfp_scaffold_regression/a124f0c9-64d0-4cce-bfc4-c8a29bc323fd/model_metadata.json\n",
            "2021-04-06 20:26:37,515 Wrote model metrics to file ampl_output/delaney_curated_final/RF_ecfp_scaffold_regression/a124f0c9-64d0-4cce-bfc4-c8a29bc323fd/model_metrics.json\n"
          ],
          "name": "stderr"
        },
        {
          "output_type": "stream",
          "text": [
            "Wrote model tarball to ampl_output/delaney_curated_final_model_a124f0c9-64d0-4cce-bfc4-c8a29bc323fd.tar.gz\n",
            "rf_estimators: 16, rf_max_depth: 64, rf_max_features: 32, valid_r2: -49.01462085447499\n",
            "number of features: 1024\n"
          ],
          "name": "stdout"
        },
        {
          "output_type": "stream",
          "text": [
            "2021-04-06 20:27:52,050 Previous dataset split restored\n"
          ],
          "name": "stderr"
        },
        {
          "output_type": "stream",
          "text": [
            "n_cnt [11292.]\n",
            "y_means [5.16341151]\n",
            "y_stds [0.84529703]\n",
            "TIMING: dataset construction took 0.477 s\n",
            "Loading dataset from disk.\n",
            "TIMING: dataset construction took 0.066 s\n",
            "Loading dataset from disk.\n",
            "TIMING: dataset construction took 0.070 s\n",
            "Loading dataset from disk.\n"
          ],
          "name": "stdout"
        },
        {
          "output_type": "stream",
          "text": [
            "2021-04-06 20:27:56,928 Wrote model metadata to file ampl_output/delaney_curated_final/RF_ecfp_scaffold_regression/eb1e3572-f1c6-490a-a18f-964ed3a19986/model_metadata.json\n",
            "2021-04-06 20:27:57,059 Wrote model metrics to file ampl_output/delaney_curated_final/RF_ecfp_scaffold_regression/eb1e3572-f1c6-490a-a18f-964ed3a19986/model_metrics.json\n"
          ],
          "name": "stderr"
        },
        {
          "output_type": "stream",
          "text": [
            "Wrote model tarball to ampl_output/delaney_curated_final_model_eb1e3572-f1c6-490a-a18f-964ed3a19986.tar.gz\n",
            "rf_estimators: 16, rf_max_depth: 64, rf_max_features: 64, valid_r2: -48.00681950554829\n",
            "number of features: 1024\n"
          ],
          "name": "stdout"
        },
        {
          "output_type": "stream",
          "text": [
            "2021-04-06 20:29:11,639 Previous dataset split restored\n"
          ],
          "name": "stderr"
        },
        {
          "output_type": "stream",
          "text": [
            "n_cnt [11292.]\n",
            "y_means [5.16341151]\n",
            "y_stds [0.84529703]\n",
            "TIMING: dataset construction took 0.441 s\n",
            "Loading dataset from disk.\n",
            "TIMING: dataset construction took 0.068 s\n",
            "Loading dataset from disk.\n",
            "TIMING: dataset construction took 0.066 s\n",
            "Loading dataset from disk.\n"
          ],
          "name": "stdout"
        },
        {
          "output_type": "stream",
          "text": [
            "2021-04-06 20:29:17,006 Wrote model metadata to file ampl_output/delaney_curated_final/RF_ecfp_scaffold_regression/51622de4-5feb-4809-9899-5f081c479420/model_metadata.json\n",
            "2021-04-06 20:29:17,139 Wrote model metrics to file ampl_output/delaney_curated_final/RF_ecfp_scaffold_regression/51622de4-5feb-4809-9899-5f081c479420/model_metrics.json\n"
          ],
          "name": "stderr"
        },
        {
          "output_type": "stream",
          "text": [
            "Wrote model tarball to ampl_output/delaney_curated_final_model_51622de4-5feb-4809-9899-5f081c479420.tar.gz\n",
            "rf_estimators: 16, rf_max_depth: 64, rf_max_features: 128, valid_r2: -53.776153340269154\n",
            "number of features: 1024\n"
          ],
          "name": "stdout"
        },
        {
          "output_type": "stream",
          "text": [
            "2021-04-06 20:30:31,470 Previous dataset split restored\n"
          ],
          "name": "stderr"
        },
        {
          "output_type": "stream",
          "text": [
            "n_cnt [11292.]\n",
            "y_means [5.16341151]\n",
            "y_stds [0.84529703]\n",
            "TIMING: dataset construction took 0.452 s\n",
            "Loading dataset from disk.\n",
            "TIMING: dataset construction took 0.069 s\n",
            "Loading dataset from disk.\n",
            "TIMING: dataset construction took 0.070 s\n",
            "Loading dataset from disk.\n"
          ],
          "name": "stdout"
        },
        {
          "output_type": "stream",
          "text": [
            "2021-04-06 20:30:35,753 Wrote model metadata to file ampl_output/delaney_curated_final/RF_ecfp_scaffold_regression/3efcf5f2-9a38-4b73-9694-bb69266005a8/model_metadata.json\n",
            "2021-04-06 20:30:35,899 Wrote model metrics to file ampl_output/delaney_curated_final/RF_ecfp_scaffold_regression/3efcf5f2-9a38-4b73-9694-bb69266005a8/model_metrics.json\n"
          ],
          "name": "stderr"
        },
        {
          "output_type": "stream",
          "text": [
            "Wrote model tarball to ampl_output/delaney_curated_final_model_3efcf5f2-9a38-4b73-9694-bb69266005a8.tar.gz\n",
            "rf_estimators: 16, rf_max_depth: 128, rf_max_features: 16, valid_r2: -48.48201614733342\n",
            "number of features: 1024\n"
          ],
          "name": "stdout"
        },
        {
          "output_type": "stream",
          "text": [
            "2021-04-06 20:31:48,149 Previous dataset split restored\n"
          ],
          "name": "stderr"
        },
        {
          "output_type": "stream",
          "text": [
            "n_cnt [11292.]\n",
            "y_means [5.16341151]\n",
            "y_stds [0.84529703]\n",
            "TIMING: dataset construction took 0.484 s\n",
            "Loading dataset from disk.\n",
            "TIMING: dataset construction took 0.066 s\n",
            "Loading dataset from disk.\n",
            "TIMING: dataset construction took 0.065 s\n",
            "Loading dataset from disk.\n"
          ],
          "name": "stdout"
        },
        {
          "output_type": "stream",
          "text": [
            "2021-04-06 20:31:52,331 Wrote model metadata to file ampl_output/delaney_curated_final/RF_ecfp_scaffold_regression/d50a5006-cf9d-4b04-aa01-b85cc8e2c79e/model_metadata.json\n",
            "2021-04-06 20:31:52,472 Wrote model metrics to file ampl_output/delaney_curated_final/RF_ecfp_scaffold_regression/d50a5006-cf9d-4b04-aa01-b85cc8e2c79e/model_metrics.json\n"
          ],
          "name": "stderr"
        },
        {
          "output_type": "stream",
          "text": [
            "Wrote model tarball to ampl_output/delaney_curated_final_model_d50a5006-cf9d-4b04-aa01-b85cc8e2c79e.tar.gz\n",
            "rf_estimators: 16, rf_max_depth: 128, rf_max_features: 32, valid_r2: -51.41421704468205\n",
            "number of features: 1024\n"
          ],
          "name": "stdout"
        },
        {
          "output_type": "stream",
          "text": [
            "2021-04-06 20:33:03,418 Previous dataset split restored\n"
          ],
          "name": "stderr"
        },
        {
          "output_type": "stream",
          "text": [
            "n_cnt [11292.]\n",
            "y_means [5.16341151]\n",
            "y_stds [0.84529703]\n",
            "TIMING: dataset construction took 0.481 s\n",
            "Loading dataset from disk.\n",
            "TIMING: dataset construction took 0.065 s\n",
            "Loading dataset from disk.\n",
            "TIMING: dataset construction took 0.067 s\n",
            "Loading dataset from disk.\n"
          ],
          "name": "stdout"
        },
        {
          "output_type": "stream",
          "text": [
            "2021-04-06 20:33:08,051 Wrote model metadata to file ampl_output/delaney_curated_final/RF_ecfp_scaffold_regression/0b70c4c3-9735-422d-a599-8b9048dc4006/model_metadata.json\n",
            "2021-04-06 20:33:08,184 Wrote model metrics to file ampl_output/delaney_curated_final/RF_ecfp_scaffold_regression/0b70c4c3-9735-422d-a599-8b9048dc4006/model_metrics.json\n"
          ],
          "name": "stderr"
        },
        {
          "output_type": "stream",
          "text": [
            "Wrote model tarball to ampl_output/delaney_curated_final_model_0b70c4c3-9735-422d-a599-8b9048dc4006.tar.gz\n",
            "rf_estimators: 16, rf_max_depth: 128, rf_max_features: 64, valid_r2: -50.90140998195622\n",
            "number of features: 1024\n"
          ],
          "name": "stdout"
        },
        {
          "output_type": "stream",
          "text": [
            "2021-04-06 20:34:14,032 Previous dataset split restored\n"
          ],
          "name": "stderr"
        },
        {
          "output_type": "stream",
          "text": [
            "n_cnt [11292.]\n",
            "y_means [5.16341151]\n",
            "y_stds [0.84529703]\n",
            "TIMING: dataset construction took 0.435 s\n",
            "Loading dataset from disk.\n",
            "TIMING: dataset construction took 0.067 s\n",
            "Loading dataset from disk.\n",
            "TIMING: dataset construction took 0.067 s\n",
            "Loading dataset from disk.\n"
          ],
          "name": "stdout"
        },
        {
          "output_type": "stream",
          "text": [
            "2021-04-06 20:34:19,404 Wrote model metadata to file ampl_output/delaney_curated_final/RF_ecfp_scaffold_regression/9ea40260-c237-4004-a2ab-d70a3ba4b4bc/model_metadata.json\n",
            "2021-04-06 20:34:19,536 Wrote model metrics to file ampl_output/delaney_curated_final/RF_ecfp_scaffold_regression/9ea40260-c237-4004-a2ab-d70a3ba4b4bc/model_metrics.json\n"
          ],
          "name": "stderr"
        },
        {
          "output_type": "stream",
          "text": [
            "Wrote model tarball to ampl_output/delaney_curated_final_model_9ea40260-c237-4004-a2ab-d70a3ba4b4bc.tar.gz\n",
            "rf_estimators: 16, rf_max_depth: 128, rf_max_features: 128, valid_r2: -53.875384453946275\n",
            "number of features: 1024\n"
          ],
          "name": "stdout"
        },
        {
          "output_type": "stream",
          "text": [
            "2021-04-06 20:35:28,514 Previous dataset split restored\n"
          ],
          "name": "stderr"
        },
        {
          "output_type": "stream",
          "text": [
            "n_cnt [11292.]\n",
            "y_means [5.16341151]\n",
            "y_stds [0.84529703]\n",
            "TIMING: dataset construction took 0.348 s\n",
            "Loading dataset from disk.\n",
            "TIMING: dataset construction took 0.049 s\n",
            "Loading dataset from disk.\n",
            "TIMING: dataset construction took 0.048 s\n",
            "Loading dataset from disk.\n"
          ],
          "name": "stdout"
        },
        {
          "output_type": "stream",
          "text": [
            "2021-04-06 20:35:32,081 Wrote model metadata to file ampl_output/delaney_curated_final/RF_ecfp_scaffold_regression/9ed4f51e-2386-46c5-97bc-28e01ae57263/model_metadata.json\n",
            "2021-04-06 20:35:32,131 Wrote model metrics to file ampl_output/delaney_curated_final/RF_ecfp_scaffold_regression/9ed4f51e-2386-46c5-97bc-28e01ae57263/model_metrics.json\n"
          ],
          "name": "stderr"
        },
        {
          "output_type": "stream",
          "text": [
            "Wrote model tarball to ampl_output/delaney_curated_final_model_9ed4f51e-2386-46c5-97bc-28e01ae57263.tar.gz\n",
            "rf_estimators: 32, rf_max_depth: 16, rf_max_features: 16, valid_r2: -46.62341875034013\n",
            "number of features: 1024\n"
          ],
          "name": "stdout"
        },
        {
          "output_type": "stream",
          "text": [
            "2021-04-06 20:36:40,776 Previous dataset split restored\n"
          ],
          "name": "stderr"
        },
        {
          "output_type": "stream",
          "text": [
            "n_cnt [11292.]\n",
            "y_means [5.16341151]\n",
            "y_stds [0.84529703]\n",
            "TIMING: dataset construction took 0.475 s\n",
            "Loading dataset from disk.\n",
            "TIMING: dataset construction took 0.066 s\n",
            "Loading dataset from disk.\n",
            "TIMING: dataset construction took 0.065 s\n",
            "Loading dataset from disk.\n"
          ],
          "name": "stdout"
        },
        {
          "output_type": "stream",
          "text": [
            "2021-04-06 20:36:44,922 Wrote model metadata to file ampl_output/delaney_curated_final/RF_ecfp_scaffold_regression/1ab3a9b2-ad76-40fa-93e6-bf32f1bc0e08/model_metadata.json\n",
            "2021-04-06 20:36:44,978 Wrote model metrics to file ampl_output/delaney_curated_final/RF_ecfp_scaffold_regression/1ab3a9b2-ad76-40fa-93e6-bf32f1bc0e08/model_metrics.json\n"
          ],
          "name": "stderr"
        },
        {
          "output_type": "stream",
          "text": [
            "Wrote model tarball to ampl_output/delaney_curated_final_model_1ab3a9b2-ad76-40fa-93e6-bf32f1bc0e08.tar.gz\n",
            "rf_estimators: 32, rf_max_depth: 16, rf_max_features: 32, valid_r2: -45.525501603214934\n",
            "number of features: 1024\n"
          ],
          "name": "stdout"
        },
        {
          "output_type": "stream",
          "text": [
            "2021-04-06 20:37:54,496 Previous dataset split restored\n"
          ],
          "name": "stderr"
        },
        {
          "output_type": "stream",
          "text": [
            "n_cnt [11292.]\n",
            "y_means [5.16341151]\n",
            "y_stds [0.84529703]\n",
            "TIMING: dataset construction took 0.356 s\n",
            "Loading dataset from disk.\n",
            "TIMING: dataset construction took 0.057 s\n",
            "Loading dataset from disk.\n",
            "TIMING: dataset construction took 0.066 s\n",
            "Loading dataset from disk.\n"
          ],
          "name": "stdout"
        },
        {
          "output_type": "stream",
          "text": [
            "2021-04-06 20:37:58,748 Wrote model metadata to file ampl_output/delaney_curated_final/RF_ecfp_scaffold_regression/2840ca0d-e933-4d29-89b1-ec065f02f909/model_metadata.json\n",
            "2021-04-06 20:37:58,805 Wrote model metrics to file ampl_output/delaney_curated_final/RF_ecfp_scaffold_regression/2840ca0d-e933-4d29-89b1-ec065f02f909/model_metrics.json\n"
          ],
          "name": "stderr"
        },
        {
          "output_type": "stream",
          "text": [
            "Wrote model tarball to ampl_output/delaney_curated_final_model_2840ca0d-e933-4d29-89b1-ec065f02f909.tar.gz\n",
            "rf_estimators: 32, rf_max_depth: 16, rf_max_features: 64, valid_r2: -44.49006091850355\n",
            "number of features: 1024\n"
          ],
          "name": "stdout"
        },
        {
          "output_type": "stream",
          "text": [
            "2021-04-06 20:39:08,501 Previous dataset split restored\n"
          ],
          "name": "stderr"
        },
        {
          "output_type": "stream",
          "text": [
            "n_cnt [11292.]\n",
            "y_means [5.16341151]\n",
            "y_stds [0.84529703]\n",
            "TIMING: dataset construction took 0.482 s\n",
            "Loading dataset from disk.\n",
            "TIMING: dataset construction took 0.054 s\n",
            "Loading dataset from disk.\n",
            "TIMING: dataset construction took 0.070 s\n",
            "Loading dataset from disk.\n"
          ],
          "name": "stdout"
        },
        {
          "output_type": "stream",
          "text": [
            "2021-04-06 20:39:13,947 Wrote model metadata to file ampl_output/delaney_curated_final/RF_ecfp_scaffold_regression/3509cc29-44d1-40d9-a107-077ba33d3c30/model_metadata.json\n",
            "2021-04-06 20:39:14,004 Wrote model metrics to file ampl_output/delaney_curated_final/RF_ecfp_scaffold_regression/3509cc29-44d1-40d9-a107-077ba33d3c30/model_metrics.json\n"
          ],
          "name": "stderr"
        },
        {
          "output_type": "stream",
          "text": [
            "Wrote model tarball to ampl_output/delaney_curated_final_model_3509cc29-44d1-40d9-a107-077ba33d3c30.tar.gz\n",
            "rf_estimators: 32, rf_max_depth: 16, rf_max_features: 128, valid_r2: -44.19675215810067\n",
            "number of features: 1024\n"
          ],
          "name": "stdout"
        },
        {
          "output_type": "stream",
          "text": [
            "2021-04-06 20:40:24,375 Previous dataset split restored\n"
          ],
          "name": "stderr"
        },
        {
          "output_type": "stream",
          "text": [
            "n_cnt [11292.]\n",
            "y_means [5.16341151]\n",
            "y_stds [0.84529703]\n",
            "TIMING: dataset construction took 0.471 s\n",
            "Loading dataset from disk.\n",
            "TIMING: dataset construction took 0.064 s\n",
            "Loading dataset from disk.\n",
            "TIMING: dataset construction took 0.067 s\n",
            "Loading dataset from disk.\n"
          ],
          "name": "stdout"
        },
        {
          "output_type": "stream",
          "text": [
            "2021-04-06 20:40:28,577 Wrote model metadata to file ampl_output/delaney_curated_final/RF_ecfp_scaffold_regression/8d7ba2b9-dbe7-44f6-97f2-f40226e7d758/model_metadata.json\n",
            "2021-04-06 20:40:28,737 Wrote model metrics to file ampl_output/delaney_curated_final/RF_ecfp_scaffold_regression/8d7ba2b9-dbe7-44f6-97f2-f40226e7d758/model_metrics.json\n"
          ],
          "name": "stderr"
        },
        {
          "output_type": "stream",
          "text": [
            "Wrote model tarball to ampl_output/delaney_curated_final_model_8d7ba2b9-dbe7-44f6-97f2-f40226e7d758.tar.gz\n",
            "rf_estimators: 32, rf_max_depth: 32, rf_max_features: 16, valid_r2: -46.39488361523473\n",
            "number of features: 1024\n"
          ],
          "name": "stdout"
        },
        {
          "output_type": "stream",
          "text": [
            "2021-04-06 20:41:37,294 Previous dataset split restored\n"
          ],
          "name": "stderr"
        },
        {
          "output_type": "stream",
          "text": [
            "n_cnt [11292.]\n",
            "y_means [5.16341151]\n",
            "y_stds [0.84529703]\n",
            "TIMING: dataset construction took 0.484 s\n",
            "Loading dataset from disk.\n",
            "TIMING: dataset construction took 0.068 s\n",
            "Loading dataset from disk.\n",
            "TIMING: dataset construction took 0.065 s\n",
            "Loading dataset from disk.\n"
          ],
          "name": "stdout"
        },
        {
          "output_type": "stream",
          "text": [
            "2021-04-06 20:41:42,019 Wrote model metadata to file ampl_output/delaney_curated_final/RF_ecfp_scaffold_regression/f6fc42e3-9d5e-4d31-ae21-e1417a8278a2/model_metadata.json\n",
            "2021-04-06 20:41:42,190 Wrote model metrics to file ampl_output/delaney_curated_final/RF_ecfp_scaffold_regression/f6fc42e3-9d5e-4d31-ae21-e1417a8278a2/model_metrics.json\n"
          ],
          "name": "stderr"
        },
        {
          "output_type": "stream",
          "text": [
            "Wrote model tarball to ampl_output/delaney_curated_final_model_f6fc42e3-9d5e-4d31-ae21-e1417a8278a2.tar.gz\n",
            "rf_estimators: 32, rf_max_depth: 32, rf_max_features: 32, valid_r2: -45.65898009534854\n",
            "number of features: 1024\n"
          ],
          "name": "stdout"
        },
        {
          "output_type": "stream",
          "text": [
            "2021-04-06 20:42:56,151 Previous dataset split restored\n"
          ],
          "name": "stderr"
        },
        {
          "output_type": "stream",
          "text": [
            "n_cnt [11292.]\n",
            "y_means [5.16341151]\n",
            "y_stds [0.84529703]\n",
            "TIMING: dataset construction took 0.443 s\n",
            "Loading dataset from disk.\n",
            "TIMING: dataset construction took 0.066 s\n",
            "Loading dataset from disk.\n",
            "TIMING: dataset construction took 0.067 s\n",
            "Loading dataset from disk.\n"
          ],
          "name": "stdout"
        },
        {
          "output_type": "stream",
          "text": [
            "2021-04-06 20:43:01,425 Wrote model metadata to file ampl_output/delaney_curated_final/RF_ecfp_scaffold_regression/c9c21d58-7665-45a6-bcfa-a23e0f646cb6/model_metadata.json\n",
            "2021-04-06 20:43:01,591 Wrote model metrics to file ampl_output/delaney_curated_final/RF_ecfp_scaffold_regression/c9c21d58-7665-45a6-bcfa-a23e0f646cb6/model_metrics.json\n"
          ],
          "name": "stderr"
        },
        {
          "output_type": "stream",
          "text": [
            "Wrote model tarball to ampl_output/delaney_curated_final_model_c9c21d58-7665-45a6-bcfa-a23e0f646cb6.tar.gz\n",
            "rf_estimators: 32, rf_max_depth: 32, rf_max_features: 64, valid_r2: -47.9323083519335\n",
            "number of features: 1024\n"
          ],
          "name": "stdout"
        },
        {
          "output_type": "stream",
          "text": [
            "2021-04-06 20:44:15,374 Previous dataset split restored\n"
          ],
          "name": "stderr"
        },
        {
          "output_type": "stream",
          "text": [
            "n_cnt [11292.]\n",
            "y_means [5.16341151]\n",
            "y_stds [0.84529703]\n",
            "TIMING: dataset construction took 0.465 s\n",
            "Loading dataset from disk.\n",
            "TIMING: dataset construction took 0.050 s\n",
            "Loading dataset from disk.\n",
            "TIMING: dataset construction took 0.050 s\n",
            "Loading dataset from disk.\n"
          ],
          "name": "stdout"
        },
        {
          "output_type": "stream",
          "text": [
            "2021-04-06 20:44:21,659 Wrote model metadata to file ampl_output/delaney_curated_final/RF_ecfp_scaffold_regression/9323751f-0f88-4314-856c-6516410baf87/model_metadata.json\n",
            "2021-04-06 20:44:21,822 Wrote model metrics to file ampl_output/delaney_curated_final/RF_ecfp_scaffold_regression/9323751f-0f88-4314-856c-6516410baf87/model_metrics.json\n"
          ],
          "name": "stderr"
        },
        {
          "output_type": "stream",
          "text": [
            "Wrote model tarball to ampl_output/delaney_curated_final_model_9323751f-0f88-4314-856c-6516410baf87.tar.gz\n",
            "rf_estimators: 32, rf_max_depth: 32, rf_max_features: 128, valid_r2: -47.33646936185128\n",
            "number of features: 1024\n"
          ],
          "name": "stdout"
        },
        {
          "output_type": "stream",
          "text": [
            "2021-04-06 20:45:33,835 Previous dataset split restored\n"
          ],
          "name": "stderr"
        },
        {
          "output_type": "stream",
          "text": [
            "n_cnt [11292.]\n",
            "y_means [5.16341151]\n",
            "y_stds [0.84529703]\n",
            "TIMING: dataset construction took 0.476 s\n",
            "Loading dataset from disk.\n",
            "TIMING: dataset construction took 0.068 s\n",
            "Loading dataset from disk.\n",
            "TIMING: dataset construction took 0.068 s\n",
            "Loading dataset from disk.\n"
          ],
          "name": "stdout"
        },
        {
          "output_type": "stream",
          "text": [
            "2021-04-06 20:45:38,514 Wrote model metadata to file ampl_output/delaney_curated_final/RF_ecfp_scaffold_regression/8759895c-4358-4ad3-a491-f06ffa8b0607/model_metadata.json\n",
            "2021-04-06 20:45:38,785 Wrote model metrics to file ampl_output/delaney_curated_final/RF_ecfp_scaffold_regression/8759895c-4358-4ad3-a491-f06ffa8b0607/model_metrics.json\n"
          ],
          "name": "stderr"
        },
        {
          "output_type": "stream",
          "text": [
            "Wrote model tarball to ampl_output/delaney_curated_final_model_8759895c-4358-4ad3-a491-f06ffa8b0607.tar.gz\n",
            "rf_estimators: 32, rf_max_depth: 64, rf_max_features: 16, valid_r2: -47.970474149526574\n",
            "number of features: 1024\n"
          ],
          "name": "stdout"
        },
        {
          "output_type": "stream",
          "text": [
            "2021-04-06 20:46:49,849 Previous dataset split restored\n"
          ],
          "name": "stderr"
        },
        {
          "output_type": "stream",
          "text": [
            "n_cnt [11292.]\n",
            "y_means [5.16341151]\n",
            "y_stds [0.84529703]\n",
            "TIMING: dataset construction took 0.473 s\n",
            "Loading dataset from disk.\n",
            "TIMING: dataset construction took 0.068 s\n",
            "Loading dataset from disk.\n",
            "TIMING: dataset construction took 0.068 s\n",
            "Loading dataset from disk.\n"
          ],
          "name": "stdout"
        },
        {
          "output_type": "stream",
          "text": [
            "2021-04-06 20:46:54,889 Wrote model metadata to file ampl_output/delaney_curated_final/RF_ecfp_scaffold_regression/04e5ed95-5113-4e60-96b7-c0d1f4cd8877/model_metadata.json\n",
            "2021-04-06 20:46:55,161 Wrote model metrics to file ampl_output/delaney_curated_final/RF_ecfp_scaffold_regression/04e5ed95-5113-4e60-96b7-c0d1f4cd8877/model_metrics.json\n"
          ],
          "name": "stderr"
        },
        {
          "output_type": "stream",
          "text": [
            "Wrote model tarball to ampl_output/delaney_curated_final_model_04e5ed95-5113-4e60-96b7-c0d1f4cd8877.tar.gz\n",
            "rf_estimators: 32, rf_max_depth: 64, rf_max_features: 32, valid_r2: -48.390074495904614\n",
            "number of features: 1024\n"
          ],
          "name": "stdout"
        },
        {
          "output_type": "stream",
          "text": [
            "2021-04-06 20:48:09,620 Previous dataset split restored\n"
          ],
          "name": "stderr"
        },
        {
          "output_type": "stream",
          "text": [
            "n_cnt [11292.]\n",
            "y_means [5.16341151]\n",
            "y_stds [0.84529703]\n",
            "TIMING: dataset construction took 0.481 s\n",
            "Loading dataset from disk.\n",
            "TIMING: dataset construction took 0.066 s\n",
            "Loading dataset from disk.\n",
            "TIMING: dataset construction took 0.066 s\n",
            "Loading dataset from disk.\n"
          ],
          "name": "stdout"
        },
        {
          "output_type": "stream",
          "text": [
            "2021-04-06 20:48:15,412 Wrote model metadata to file ampl_output/delaney_curated_final/RF_ecfp_scaffold_regression/cc7a81fb-0d1f-44ec-9050-ab3fa48f1775/model_metadata.json\n",
            "2021-04-06 20:48:15,668 Wrote model metrics to file ampl_output/delaney_curated_final/RF_ecfp_scaffold_regression/cc7a81fb-0d1f-44ec-9050-ab3fa48f1775/model_metrics.json\n"
          ],
          "name": "stderr"
        },
        {
          "output_type": "stream",
          "text": [
            "Wrote model tarball to ampl_output/delaney_curated_final_model_cc7a81fb-0d1f-44ec-9050-ab3fa48f1775.tar.gz\n",
            "rf_estimators: 32, rf_max_depth: 64, rf_max_features: 64, valid_r2: -48.001546397708665\n",
            "number of features: 1024\n"
          ],
          "name": "stdout"
        },
        {
          "output_type": "stream",
          "text": [
            "2021-04-06 20:49:27,011 Previous dataset split restored\n"
          ],
          "name": "stderr"
        },
        {
          "output_type": "stream",
          "text": [
            "n_cnt [11292.]\n",
            "y_means [5.16341151]\n",
            "y_stds [0.84529703]\n",
            "TIMING: dataset construction took 0.469 s\n",
            "Loading dataset from disk.\n",
            "TIMING: dataset construction took 0.065 s\n",
            "Loading dataset from disk.\n",
            "TIMING: dataset construction took 0.055 s\n",
            "Loading dataset from disk.\n"
          ],
          "name": "stdout"
        },
        {
          "output_type": "stream",
          "text": [
            "2021-04-06 20:49:33,750 Wrote model metadata to file ampl_output/delaney_curated_final/RF_ecfp_scaffold_regression/43c5d086-eeb1-46c9-86da-957795453f9b/model_metadata.json\n",
            "2021-04-06 20:49:34,000 Wrote model metrics to file ampl_output/delaney_curated_final/RF_ecfp_scaffold_regression/43c5d086-eeb1-46c9-86da-957795453f9b/model_metrics.json\n"
          ],
          "name": "stderr"
        },
        {
          "output_type": "stream",
          "text": [
            "Wrote model tarball to ampl_output/delaney_curated_final_model_43c5d086-eeb1-46c9-86da-957795453f9b.tar.gz\n",
            "rf_estimators: 32, rf_max_depth: 64, rf_max_features: 128, valid_r2: -48.22727673515867\n",
            "number of features: 1024\n"
          ],
          "name": "stdout"
        },
        {
          "output_type": "stream",
          "text": [
            "2021-04-06 20:50:40,540 Previous dataset split restored\n"
          ],
          "name": "stderr"
        },
        {
          "output_type": "stream",
          "text": [
            "n_cnt [11292.]\n",
            "y_means [5.16341151]\n",
            "y_stds [0.84529703]\n",
            "TIMING: dataset construction took 0.477 s\n",
            "Loading dataset from disk.\n",
            "TIMING: dataset construction took 0.070 s\n",
            "Loading dataset from disk.\n",
            "TIMING: dataset construction took 0.068 s\n",
            "Loading dataset from disk.\n"
          ],
          "name": "stdout"
        },
        {
          "output_type": "stream",
          "text": [
            "2021-04-06 20:50:45,148 Wrote model metadata to file ampl_output/delaney_curated_final/RF_ecfp_scaffold_regression/9987baf8-16a0-4fe1-986a-64f946a30679/model_metadata.json\n",
            "2021-04-06 20:50:45,435 Wrote model metrics to file ampl_output/delaney_curated_final/RF_ecfp_scaffold_regression/9987baf8-16a0-4fe1-986a-64f946a30679/model_metrics.json\n"
          ],
          "name": "stderr"
        },
        {
          "output_type": "stream",
          "text": [
            "Wrote model tarball to ampl_output/delaney_curated_final_model_9987baf8-16a0-4fe1-986a-64f946a30679.tar.gz\n",
            "rf_estimators: 32, rf_max_depth: 128, rf_max_features: 16, valid_r2: -47.77224662736042\n",
            "number of features: 1024\n"
          ],
          "name": "stdout"
        },
        {
          "output_type": "stream",
          "text": [
            "2021-04-06 20:51:55,776 Previous dataset split restored\n"
          ],
          "name": "stderr"
        },
        {
          "output_type": "stream",
          "text": [
            "n_cnt [11292.]\n",
            "y_means [5.16341151]\n",
            "y_stds [0.84529703]\n",
            "TIMING: dataset construction took 0.471 s\n",
            "Loading dataset from disk.\n",
            "TIMING: dataset construction took 0.065 s\n",
            "Loading dataset from disk.\n",
            "TIMING: dataset construction took 0.068 s\n",
            "Loading dataset from disk.\n"
          ],
          "name": "stdout"
        },
        {
          "output_type": "stream",
          "text": [
            "2021-04-06 20:52:00,808 Wrote model metadata to file ampl_output/delaney_curated_final/RF_ecfp_scaffold_regression/07f08589-ac05-4c57-be9e-c84fbffffb7f/model_metadata.json\n",
            "2021-04-06 20:52:01,013 Wrote model metrics to file ampl_output/delaney_curated_final/RF_ecfp_scaffold_regression/07f08589-ac05-4c57-be9e-c84fbffffb7f/model_metrics.json\n"
          ],
          "name": "stderr"
        },
        {
          "output_type": "stream",
          "text": [
            "Wrote model tarball to ampl_output/delaney_curated_final_model_07f08589-ac05-4c57-be9e-c84fbffffb7f.tar.gz\n",
            "rf_estimators: 32, rf_max_depth: 128, rf_max_features: 32, valid_r2: -48.47205891787225\n",
            "number of features: 1024\n"
          ],
          "name": "stdout"
        },
        {
          "output_type": "stream",
          "text": [
            "2021-04-06 20:53:10,638 Previous dataset split restored\n"
          ],
          "name": "stderr"
        },
        {
          "output_type": "stream",
          "text": [
            "n_cnt [11292.]\n",
            "y_means [5.16341151]\n",
            "y_stds [0.84529703]\n",
            "TIMING: dataset construction took 0.471 s\n",
            "Loading dataset from disk.\n",
            "TIMING: dataset construction took 0.065 s\n",
            "Loading dataset from disk.\n",
            "TIMING: dataset construction took 0.066 s\n",
            "Loading dataset from disk.\n"
          ],
          "name": "stdout"
        },
        {
          "output_type": "stream",
          "text": [
            "2021-04-06 20:53:16,150 Wrote model metadata to file ampl_output/delaney_curated_final/RF_ecfp_scaffold_regression/2032df89-b3bd-46dc-b643-83d95a5fe46e/model_metadata.json\n",
            "2021-04-06 20:53:16,340 Wrote model metrics to file ampl_output/delaney_curated_final/RF_ecfp_scaffold_regression/2032df89-b3bd-46dc-b643-83d95a5fe46e/model_metrics.json\n"
          ],
          "name": "stderr"
        },
        {
          "output_type": "stream",
          "text": [
            "Wrote model tarball to ampl_output/delaney_curated_final_model_2032df89-b3bd-46dc-b643-83d95a5fe46e.tar.gz\n",
            "rf_estimators: 32, rf_max_depth: 128, rf_max_features: 64, valid_r2: -47.6185680452436\n",
            "number of features: 1024\n"
          ],
          "name": "stdout"
        },
        {
          "output_type": "stream",
          "text": [
            "2021-04-06 20:54:26,788 Previous dataset split restored\n"
          ],
          "name": "stderr"
        },
        {
          "output_type": "stream",
          "text": [
            "n_cnt [11292.]\n",
            "y_means [5.16341151]\n",
            "y_stds [0.84529703]\n",
            "TIMING: dataset construction took 0.477 s\n",
            "Loading dataset from disk.\n",
            "TIMING: dataset construction took 0.066 s\n",
            "Loading dataset from disk.\n",
            "TIMING: dataset construction took 0.067 s\n",
            "Loading dataset from disk.\n"
          ],
          "name": "stdout"
        },
        {
          "output_type": "stream",
          "text": [
            "2021-04-06 20:54:33,869 Wrote model metadata to file ampl_output/delaney_curated_final/RF_ecfp_scaffold_regression/5481e6cc-5e87-445a-ba87-85cd0dc9817f/model_metadata.json\n",
            "2021-04-06 20:54:34,129 Wrote model metrics to file ampl_output/delaney_curated_final/RF_ecfp_scaffold_regression/5481e6cc-5e87-445a-ba87-85cd0dc9817f/model_metrics.json\n"
          ],
          "name": "stderr"
        },
        {
          "output_type": "stream",
          "text": [
            "Wrote model tarball to ampl_output/delaney_curated_final_model_5481e6cc-5e87-445a-ba87-85cd0dc9817f.tar.gz\n",
            "rf_estimators: 32, rf_max_depth: 128, rf_max_features: 128, valid_r2: -50.17868406278316\n",
            "number of features: 1024\n"
          ],
          "name": "stdout"
        },
        {
          "output_type": "stream",
          "text": [
            "2021-04-06 20:55:42,642 Previous dataset split restored\n"
          ],
          "name": "stderr"
        },
        {
          "output_type": "stream",
          "text": [
            "n_cnt [11292.]\n",
            "y_means [5.16341151]\n",
            "y_stds [0.84529703]\n",
            "TIMING: dataset construction took 0.470 s\n",
            "Loading dataset from disk.\n",
            "TIMING: dataset construction took 0.052 s\n",
            "Loading dataset from disk.\n",
            "TIMING: dataset construction took 0.065 s\n",
            "Loading dataset from disk.\n"
          ],
          "name": "stdout"
        },
        {
          "output_type": "stream",
          "text": [
            "2021-04-06 20:55:46,855 Wrote model metadata to file ampl_output/delaney_curated_final/RF_ecfp_scaffold_regression/3727268f-428f-43eb-a4c3-8e021d4110c1/model_metadata.json\n",
            "2021-04-06 20:55:46,955 Wrote model metrics to file ampl_output/delaney_curated_final/RF_ecfp_scaffold_regression/3727268f-428f-43eb-a4c3-8e021d4110c1/model_metrics.json\n"
          ],
          "name": "stderr"
        },
        {
          "output_type": "stream",
          "text": [
            "Wrote model tarball to ampl_output/delaney_curated_final_model_3727268f-428f-43eb-a4c3-8e021d4110c1.tar.gz\n",
            "rf_estimators: 64, rf_max_depth: 16, rf_max_features: 16, valid_r2: -46.738123440097915\n",
            "number of features: 1024\n"
          ],
          "name": "stdout"
        },
        {
          "output_type": "stream",
          "text": [
            "2021-04-06 20:57:01,016 Previous dataset split restored\n"
          ],
          "name": "stderr"
        },
        {
          "output_type": "stream",
          "text": [
            "n_cnt [11292.]\n",
            "y_means [5.16341151]\n",
            "y_stds [0.84529703]\n",
            "TIMING: dataset construction took 0.476 s\n",
            "Loading dataset from disk.\n",
            "TIMING: dataset construction took 0.064 s\n",
            "Loading dataset from disk.\n",
            "TIMING: dataset construction took 0.065 s\n",
            "Loading dataset from disk.\n"
          ],
          "name": "stdout"
        },
        {
          "output_type": "stream",
          "text": [
            "2021-04-06 20:57:05,719 Wrote model metadata to file ampl_output/delaney_curated_final/RF_ecfp_scaffold_regression/b13e691e-cb4d-4149-9b71-bd54d731fad6/model_metadata.json\n",
            "2021-04-06 20:57:05,825 Wrote model metrics to file ampl_output/delaney_curated_final/RF_ecfp_scaffold_regression/b13e691e-cb4d-4149-9b71-bd54d731fad6/model_metrics.json\n"
          ],
          "name": "stderr"
        },
        {
          "output_type": "stream",
          "text": [
            "Wrote model tarball to ampl_output/delaney_curated_final_model_b13e691e-cb4d-4149-9b71-bd54d731fad6.tar.gz\n",
            "rf_estimators: 64, rf_max_depth: 16, rf_max_features: 32, valid_r2: -45.020186872919076\n",
            "number of features: 1024\n"
          ],
          "name": "stdout"
        },
        {
          "output_type": "stream",
          "text": [
            "2021-04-06 20:58:15,881 Previous dataset split restored\n"
          ],
          "name": "stderr"
        },
        {
          "output_type": "stream",
          "text": [
            "n_cnt [11292.]\n",
            "y_means [5.16341151]\n",
            "y_stds [0.84529703]\n",
            "TIMING: dataset construction took 0.396 s\n",
            "Loading dataset from disk.\n",
            "TIMING: dataset construction took 0.065 s\n",
            "Loading dataset from disk.\n",
            "TIMING: dataset construction took 0.066 s\n",
            "Loading dataset from disk.\n"
          ],
          "name": "stdout"
        },
        {
          "output_type": "stream",
          "text": [
            "2021-04-06 20:58:21,359 Wrote model metadata to file ampl_output/delaney_curated_final/RF_ecfp_scaffold_regression/a5224665-aabe-4d6d-9609-90d8d153beef/model_metadata.json\n",
            "2021-04-06 20:58:21,465 Wrote model metrics to file ampl_output/delaney_curated_final/RF_ecfp_scaffold_regression/a5224665-aabe-4d6d-9609-90d8d153beef/model_metrics.json\n"
          ],
          "name": "stderr"
        },
        {
          "output_type": "stream",
          "text": [
            "Wrote model tarball to ampl_output/delaney_curated_final_model_a5224665-aabe-4d6d-9609-90d8d153beef.tar.gz\n",
            "rf_estimators: 64, rf_max_depth: 16, rf_max_features: 64, valid_r2: -43.25972079444533\n",
            "number of features: 1024\n"
          ],
          "name": "stdout"
        },
        {
          "output_type": "stream",
          "text": [
            "2021-04-06 20:59:29,926 Previous dataset split restored\n"
          ],
          "name": "stderr"
        },
        {
          "output_type": "stream",
          "text": [
            "n_cnt [11292.]\n",
            "y_means [5.16341151]\n",
            "y_stds [0.84529703]\n",
            "TIMING: dataset construction took 0.475 s\n",
            "Loading dataset from disk.\n",
            "TIMING: dataset construction took 0.066 s\n",
            "Loading dataset from disk.\n",
            "TIMING: dataset construction took 0.065 s\n",
            "Loading dataset from disk.\n"
          ],
          "name": "stdout"
        },
        {
          "output_type": "stream",
          "text": [
            "2021-04-06 20:59:37,305 Wrote model metadata to file ampl_output/delaney_curated_final/RF_ecfp_scaffold_regression/df7f9012-4335-4c51-b8df-6f39eef9f789/model_metadata.json\n",
            "2021-04-06 20:59:37,407 Wrote model metrics to file ampl_output/delaney_curated_final/RF_ecfp_scaffold_regression/df7f9012-4335-4c51-b8df-6f39eef9f789/model_metrics.json\n"
          ],
          "name": "stderr"
        },
        {
          "output_type": "stream",
          "text": [
            "Wrote model tarball to ampl_output/delaney_curated_final_model_df7f9012-4335-4c51-b8df-6f39eef9f789.tar.gz\n",
            "rf_estimators: 64, rf_max_depth: 16, rf_max_features: 128, valid_r2: -44.01775195116196\n",
            "number of features: 1024\n"
          ],
          "name": "stdout"
        },
        {
          "output_type": "stream",
          "text": [
            "2021-04-06 21:00:47,186 Previous dataset split restored\n"
          ],
          "name": "stderr"
        },
        {
          "output_type": "stream",
          "text": [
            "n_cnt [11292.]\n",
            "y_means [5.16341151]\n",
            "y_stds [0.84529703]\n",
            "TIMING: dataset construction took 0.464 s\n",
            "Loading dataset from disk.\n",
            "TIMING: dataset construction took 0.066 s\n",
            "Loading dataset from disk.\n",
            "TIMING: dataset construction took 0.066 s\n",
            "Loading dataset from disk.\n"
          ],
          "name": "stdout"
        },
        {
          "output_type": "stream",
          "text": [
            "2021-04-06 21:00:52,339 Wrote model metadata to file ampl_output/delaney_curated_final/RF_ecfp_scaffold_regression/18f63c47-ae32-441f-9d22-e97bf787612e/model_metadata.json\n",
            "2021-04-06 21:00:52,642 Wrote model metrics to file ampl_output/delaney_curated_final/RF_ecfp_scaffold_regression/18f63c47-ae32-441f-9d22-e97bf787612e/model_metrics.json\n"
          ],
          "name": "stderr"
        },
        {
          "output_type": "stream",
          "text": [
            "Wrote model tarball to ampl_output/delaney_curated_final_model_18f63c47-ae32-441f-9d22-e97bf787612e.tar.gz\n",
            "rf_estimators: 64, rf_max_depth: 32, rf_max_features: 16, valid_r2: -46.64297964574098\n",
            "number of features: 1024\n"
          ],
          "name": "stdout"
        },
        {
          "output_type": "stream",
          "text": [
            "2021-04-06 21:02:02,227 Previous dataset split restored\n"
          ],
          "name": "stderr"
        },
        {
          "output_type": "stream",
          "text": [
            "n_cnt [11292.]\n",
            "y_means [5.16341151]\n",
            "y_stds [0.84529703]\n",
            "TIMING: dataset construction took 0.390 s\n",
            "Loading dataset from disk.\n",
            "TIMING: dataset construction took 0.063 s\n",
            "Loading dataset from disk.\n",
            "TIMING: dataset construction took 0.070 s\n",
            "Loading dataset from disk.\n"
          ],
          "name": "stdout"
        },
        {
          "output_type": "stream",
          "text": [
            "2021-04-06 21:02:07,583 Wrote model metadata to file ampl_output/delaney_curated_final/RF_ecfp_scaffold_regression/f2add239-9fd4-45dc-a4b9-c772eae30575/model_metadata.json\n",
            "2021-04-06 21:02:07,909 Wrote model metrics to file ampl_output/delaney_curated_final/RF_ecfp_scaffold_regression/f2add239-9fd4-45dc-a4b9-c772eae30575/model_metrics.json\n"
          ],
          "name": "stderr"
        },
        {
          "output_type": "stream",
          "text": [
            "Wrote model tarball to ampl_output/delaney_curated_final_model_f2add239-9fd4-45dc-a4b9-c772eae30575.tar.gz\n",
            "rf_estimators: 64, rf_max_depth: 32, rf_max_features: 32, valid_r2: -45.52577243987578\n",
            "number of features: 1024\n"
          ],
          "name": "stdout"
        },
        {
          "output_type": "stream",
          "text": [
            "2021-04-06 21:03:18,107 Previous dataset split restored\n"
          ],
          "name": "stderr"
        },
        {
          "output_type": "stream",
          "text": [
            "n_cnt [11292.]\n",
            "y_means [5.16341151]\n",
            "y_stds [0.84529703]\n",
            "TIMING: dataset construction took 0.471 s\n",
            "Loading dataset from disk.\n",
            "TIMING: dataset construction took 0.066 s\n",
            "Loading dataset from disk.\n",
            "TIMING: dataset construction took 0.066 s\n",
            "Loading dataset from disk.\n"
          ],
          "name": "stdout"
        },
        {
          "output_type": "stream",
          "text": [
            "2021-04-06 21:03:24,929 Wrote model metadata to file ampl_output/delaney_curated_final/RF_ecfp_scaffold_regression/dbab7082-b49c-4ce9-9be4-7e404cc0d4d9/model_metadata.json\n",
            "2021-04-06 21:03:25,258 Wrote model metrics to file ampl_output/delaney_curated_final/RF_ecfp_scaffold_regression/dbab7082-b49c-4ce9-9be4-7e404cc0d4d9/model_metrics.json\n"
          ],
          "name": "stderr"
        },
        {
          "output_type": "stream",
          "text": [
            "Wrote model tarball to ampl_output/delaney_curated_final_model_dbab7082-b49c-4ce9-9be4-7e404cc0d4d9.tar.gz\n",
            "rf_estimators: 64, rf_max_depth: 32, rf_max_features: 64, valid_r2: -45.49406768144577\n",
            "number of features: 1024\n"
          ],
          "name": "stdout"
        },
        {
          "output_type": "stream",
          "text": [
            "2021-04-06 21:04:34,415 Previous dataset split restored\n"
          ],
          "name": "stderr"
        },
        {
          "output_type": "stream",
          "text": [
            "n_cnt [11292.]\n",
            "y_means [5.16341151]\n",
            "y_stds [0.84529703]\n",
            "TIMING: dataset construction took 0.472 s\n",
            "Loading dataset from disk.\n",
            "TIMING: dataset construction took 0.066 s\n",
            "Loading dataset from disk.\n",
            "TIMING: dataset construction took 0.065 s\n",
            "Loading dataset from disk.\n"
          ],
          "name": "stdout"
        },
        {
          "output_type": "stream",
          "text": [
            "2021-04-06 21:04:43,376 Wrote model metadata to file ampl_output/delaney_curated_final/RF_ecfp_scaffold_regression/85533f96-17d7-425b-9961-b36b4696959a/model_metadata.json\n",
            "2021-04-06 21:04:43,702 Wrote model metrics to file ampl_output/delaney_curated_final/RF_ecfp_scaffold_regression/85533f96-17d7-425b-9961-b36b4696959a/model_metrics.json\n"
          ],
          "name": "stderr"
        },
        {
          "output_type": "stream",
          "text": [
            "Wrote model tarball to ampl_output/delaney_curated_final_model_85533f96-17d7-425b-9961-b36b4696959a.tar.gz\n",
            "rf_estimators: 64, rf_max_depth: 32, rf_max_features: 128, valid_r2: -46.82823546966847\n",
            "number of features: 1024\n"
          ],
          "name": "stdout"
        },
        {
          "output_type": "stream",
          "text": [
            "2021-04-06 21:05:51,718 Previous dataset split restored\n"
          ],
          "name": "stderr"
        },
        {
          "output_type": "stream",
          "text": [
            "n_cnt [11292.]\n",
            "y_means [5.16341151]\n",
            "y_stds [0.84529703]\n",
            "TIMING: dataset construction took 0.354 s\n",
            "Loading dataset from disk.\n",
            "TIMING: dataset construction took 0.058 s\n",
            "Loading dataset from disk.\n",
            "TIMING: dataset construction took 0.058 s\n",
            "Loading dataset from disk.\n"
          ],
          "name": "stdout"
        },
        {
          "output_type": "stream",
          "text": [
            "2021-04-06 21:05:57,139 Wrote model metadata to file ampl_output/delaney_curated_final/RF_ecfp_scaffold_regression/a77ef2d8-9bea-403e-8230-7456f61e29bc/model_metadata.json\n",
            "2021-04-06 21:05:57,640 Wrote model metrics to file ampl_output/delaney_curated_final/RF_ecfp_scaffold_regression/a77ef2d8-9bea-403e-8230-7456f61e29bc/model_metrics.json\n"
          ],
          "name": "stderr"
        },
        {
          "output_type": "stream",
          "text": [
            "Wrote model tarball to ampl_output/delaney_curated_final_model_a77ef2d8-9bea-403e-8230-7456f61e29bc.tar.gz\n",
            "rf_estimators: 64, rf_max_depth: 64, rf_max_features: 16, valid_r2: -46.52406090914003\n",
            "number of features: 1024\n"
          ],
          "name": "stdout"
        },
        {
          "output_type": "stream",
          "text": [
            "2021-04-06 21:07:05,885 Previous dataset split restored\n"
          ],
          "name": "stderr"
        },
        {
          "output_type": "stream",
          "text": [
            "n_cnt [11292.]\n",
            "y_means [5.16341151]\n",
            "y_stds [0.84529703]\n",
            "TIMING: dataset construction took 0.348 s\n",
            "Loading dataset from disk.\n",
            "TIMING: dataset construction took 0.059 s\n",
            "Loading dataset from disk.\n",
            "TIMING: dataset construction took 0.050 s\n",
            "Loading dataset from disk.\n"
          ],
          "name": "stdout"
        },
        {
          "output_type": "stream",
          "text": [
            "2021-04-06 21:07:12,026 Wrote model metadata to file ampl_output/delaney_curated_final/RF_ecfp_scaffold_regression/5097066e-9b01-4fc3-85d8-a1b8db65c087/model_metadata.json\n",
            "2021-04-06 21:07:12,550 Wrote model metrics to file ampl_output/delaney_curated_final/RF_ecfp_scaffold_regression/5097066e-9b01-4fc3-85d8-a1b8db65c087/model_metrics.json\n"
          ],
          "name": "stderr"
        },
        {
          "output_type": "stream",
          "text": [
            "Wrote model tarball to ampl_output/delaney_curated_final_model_5097066e-9b01-4fc3-85d8-a1b8db65c087.tar.gz\n",
            "rf_estimators: 64, rf_max_depth: 64, rf_max_features: 32, valid_r2: -47.26483719025349\n",
            "number of features: 1024\n"
          ],
          "name": "stdout"
        },
        {
          "output_type": "stream",
          "text": [
            "2021-04-06 21:08:21,795 Previous dataset split restored\n"
          ],
          "name": "stderr"
        },
        {
          "output_type": "stream",
          "text": [
            "n_cnt [11292.]\n",
            "y_means [5.16341151]\n",
            "y_stds [0.84529703]\n",
            "TIMING: dataset construction took 0.375 s\n",
            "Loading dataset from disk.\n",
            "TIMING: dataset construction took 0.068 s\n",
            "Loading dataset from disk.\n",
            "TIMING: dataset construction took 0.067 s\n",
            "Loading dataset from disk.\n"
          ],
          "name": "stdout"
        },
        {
          "output_type": "stream",
          "text": [
            "2021-04-06 21:08:29,461 Wrote model metadata to file ampl_output/delaney_curated_final/RF_ecfp_scaffold_regression/ac6a4adc-b7e2-415a-bd86-4d726ad93bf4/model_metadata.json\n",
            "2021-04-06 21:08:29,965 Wrote model metrics to file ampl_output/delaney_curated_final/RF_ecfp_scaffold_regression/ac6a4adc-b7e2-415a-bd86-4d726ad93bf4/model_metrics.json\n"
          ],
          "name": "stderr"
        },
        {
          "output_type": "stream",
          "text": [
            "Wrote model tarball to ampl_output/delaney_curated_final_model_ac6a4adc-b7e2-415a-bd86-4d726ad93bf4.tar.gz\n",
            "rf_estimators: 64, rf_max_depth: 64, rf_max_features: 64, valid_r2: -46.33725030201742\n",
            "number of features: 1024\n"
          ],
          "name": "stdout"
        },
        {
          "output_type": "stream",
          "text": [
            "2021-04-06 21:09:39,798 Previous dataset split restored\n"
          ],
          "name": "stderr"
        },
        {
          "output_type": "stream",
          "text": [
            "n_cnt [11292.]\n",
            "y_means [5.16341151]\n",
            "y_stds [0.84529703]\n",
            "TIMING: dataset construction took 0.475 s\n",
            "Loading dataset from disk.\n",
            "TIMING: dataset construction took 0.066 s\n",
            "Loading dataset from disk.\n",
            "TIMING: dataset construction took 0.065 s\n",
            "Loading dataset from disk.\n"
          ],
          "name": "stdout"
        },
        {
          "output_type": "stream",
          "text": [
            "2021-04-06 21:09:49,906 Wrote model metadata to file ampl_output/delaney_curated_final/RF_ecfp_scaffold_regression/d1446eef-5565-4ba2-8041-da042799f35c/model_metadata.json\n",
            "2021-04-06 21:09:50,334 Wrote model metrics to file ampl_output/delaney_curated_final/RF_ecfp_scaffold_regression/d1446eef-5565-4ba2-8041-da042799f35c/model_metrics.json\n"
          ],
          "name": "stderr"
        },
        {
          "output_type": "stream",
          "text": [
            "Wrote model tarball to ampl_output/delaney_curated_final_model_d1446eef-5565-4ba2-8041-da042799f35c.tar.gz\n",
            "rf_estimators: 64, rf_max_depth: 64, rf_max_features: 128, valid_r2: -47.833103237098726\n",
            "number of features: 1024\n"
          ],
          "name": "stdout"
        },
        {
          "output_type": "stream",
          "text": [
            "2021-04-06 21:10:59,294 Previous dataset split restored\n"
          ],
          "name": "stderr"
        },
        {
          "output_type": "stream",
          "text": [
            "n_cnt [11292.]\n",
            "y_means [5.16341151]\n",
            "y_stds [0.84529703]\n",
            "TIMING: dataset construction took 0.476 s\n",
            "Loading dataset from disk.\n",
            "TIMING: dataset construction took 0.068 s\n",
            "Loading dataset from disk.\n",
            "TIMING: dataset construction took 0.049 s\n",
            "Loading dataset from disk.\n"
          ],
          "name": "stdout"
        },
        {
          "output_type": "stream",
          "text": [
            "2021-04-06 21:11:04,802 Wrote model metadata to file ampl_output/delaney_curated_final/RF_ecfp_scaffold_regression/d86b3984-8a21-4b1b-b955-c849b22c1095/model_metadata.json\n",
            "2021-04-06 21:11:05,364 Wrote model metrics to file ampl_output/delaney_curated_final/RF_ecfp_scaffold_regression/d86b3984-8a21-4b1b-b955-c849b22c1095/model_metrics.json\n"
          ],
          "name": "stderr"
        },
        {
          "output_type": "stream",
          "text": [
            "Wrote model tarball to ampl_output/delaney_curated_final_model_d86b3984-8a21-4b1b-b955-c849b22c1095.tar.gz\n",
            "rf_estimators: 64, rf_max_depth: 128, rf_max_features: 16, valid_r2: -47.124203837314504\n",
            "number of features: 1024\n"
          ],
          "name": "stdout"
        },
        {
          "output_type": "stream",
          "text": [
            "2021-04-06 21:12:14,461 Previous dataset split restored\n"
          ],
          "name": "stderr"
        },
        {
          "output_type": "stream",
          "text": [
            "n_cnt [11292.]\n",
            "y_means [5.16341151]\n",
            "y_stds [0.84529703]\n",
            "TIMING: dataset construction took 0.480 s\n",
            "Loading dataset from disk.\n",
            "TIMING: dataset construction took 0.065 s\n",
            "Loading dataset from disk.\n",
            "TIMING: dataset construction took 0.048 s\n",
            "Loading dataset from disk.\n"
          ],
          "name": "stdout"
        },
        {
          "output_type": "stream",
          "text": [
            "2021-04-06 21:12:20,656 Wrote model metadata to file ampl_output/delaney_curated_final/RF_ecfp_scaffold_regression/54c97af9-a237-44d6-824f-126903b694e1/model_metadata.json\n",
            "2021-04-06 21:12:21,182 Wrote model metrics to file ampl_output/delaney_curated_final/RF_ecfp_scaffold_regression/54c97af9-a237-44d6-824f-126903b694e1/model_metrics.json\n"
          ],
          "name": "stderr"
        },
        {
          "output_type": "stream",
          "text": [
            "Wrote model tarball to ampl_output/delaney_curated_final_model_54c97af9-a237-44d6-824f-126903b694e1.tar.gz\n",
            "rf_estimators: 64, rf_max_depth: 128, rf_max_features: 32, valid_r2: -48.95807404642783\n",
            "number of features: 1024\n"
          ],
          "name": "stdout"
        },
        {
          "output_type": "stream",
          "text": [
            "2021-04-06 21:13:29,846 Previous dataset split restored\n"
          ],
          "name": "stderr"
        },
        {
          "output_type": "stream",
          "text": [
            "n_cnt [11292.]\n",
            "y_means [5.16341151]\n",
            "y_stds [0.84529703]\n",
            "TIMING: dataset construction took 0.473 s\n",
            "Loading dataset from disk.\n",
            "TIMING: dataset construction took 0.055 s\n",
            "Loading dataset from disk.\n",
            "TIMING: dataset construction took 0.066 s\n",
            "Loading dataset from disk.\n"
          ],
          "name": "stdout"
        },
        {
          "output_type": "stream",
          "text": [
            "2021-04-06 21:13:37,548 Wrote model metadata to file ampl_output/delaney_curated_final/RF_ecfp_scaffold_regression/21dad53d-6105-43d9-81a9-4e0599bad120/model_metadata.json\n",
            "2021-04-06 21:13:38,073 Wrote model metrics to file ampl_output/delaney_curated_final/RF_ecfp_scaffold_regression/21dad53d-6105-43d9-81a9-4e0599bad120/model_metrics.json\n"
          ],
          "name": "stderr"
        },
        {
          "output_type": "stream",
          "text": [
            "Wrote model tarball to ampl_output/delaney_curated_final_model_21dad53d-6105-43d9-81a9-4e0599bad120.tar.gz\n",
            "rf_estimators: 64, rf_max_depth: 128, rf_max_features: 64, valid_r2: -46.812020026314315\n",
            "number of features: 1024\n"
          ],
          "name": "stdout"
        },
        {
          "output_type": "stream",
          "text": [
            "2021-04-06 21:14:46,155 Previous dataset split restored\n"
          ],
          "name": "stderr"
        },
        {
          "output_type": "stream",
          "text": [
            "n_cnt [11292.]\n",
            "y_means [5.16341151]\n",
            "y_stds [0.84529703]\n",
            "TIMING: dataset construction took 0.477 s\n",
            "Loading dataset from disk.\n",
            "TIMING: dataset construction took 0.065 s\n",
            "Loading dataset from disk.\n",
            "TIMING: dataset construction took 0.065 s\n",
            "Loading dataset from disk.\n"
          ],
          "name": "stdout"
        },
        {
          "output_type": "stream",
          "text": [
            "2021-04-06 21:14:56,620 Wrote model metadata to file ampl_output/delaney_curated_final/RF_ecfp_scaffold_regression/a58be35b-d2bb-4791-91fc-39f0a223188c/model_metadata.json\n",
            "2021-04-06 21:14:57,137 Wrote model metrics to file ampl_output/delaney_curated_final/RF_ecfp_scaffold_regression/a58be35b-d2bb-4791-91fc-39f0a223188c/model_metrics.json\n"
          ],
          "name": "stderr"
        },
        {
          "output_type": "stream",
          "text": [
            "Wrote model tarball to ampl_output/delaney_curated_final_model_a58be35b-d2bb-4791-91fc-39f0a223188c.tar.gz\n",
            "rf_estimators: 64, rf_max_depth: 128, rf_max_features: 128, valid_r2: -48.57823498528429\n",
            "number of features: 1024\n"
          ],
          "name": "stdout"
        },
        {
          "output_type": "stream",
          "text": [
            "2021-04-06 21:16:06,939 Previous dataset split restored\n"
          ],
          "name": "stderr"
        },
        {
          "output_type": "stream",
          "text": [
            "n_cnt [11292.]\n",
            "y_means [5.16341151]\n",
            "y_stds [0.84529703]\n",
            "TIMING: dataset construction took 0.473 s\n",
            "Loading dataset from disk.\n",
            "TIMING: dataset construction took 0.065 s\n",
            "Loading dataset from disk.\n",
            "TIMING: dataset construction took 0.066 s\n",
            "Loading dataset from disk.\n"
          ],
          "name": "stdout"
        },
        {
          "output_type": "stream",
          "text": [
            "2021-04-06 21:16:12,039 Wrote model metadata to file ampl_output/delaney_curated_final/RF_ecfp_scaffold_regression/9d8b4ea8-4a0b-44cd-b4de-286c0d7c9601/model_metadata.json\n",
            "2021-04-06 21:16:12,216 Wrote model metrics to file ampl_output/delaney_curated_final/RF_ecfp_scaffold_regression/9d8b4ea8-4a0b-44cd-b4de-286c0d7c9601/model_metrics.json\n"
          ],
          "name": "stderr"
        },
        {
          "output_type": "stream",
          "text": [
            "Wrote model tarball to ampl_output/delaney_curated_final_model_9d8b4ea8-4a0b-44cd-b4de-286c0d7c9601.tar.gz\n",
            "rf_estimators: 128, rf_max_depth: 16, rf_max_features: 16, valid_r2: -46.34553277957816\n",
            "number of features: 1024\n"
          ],
          "name": "stdout"
        },
        {
          "output_type": "stream",
          "text": [
            "2021-04-06 21:17:20,554 Previous dataset split restored\n"
          ],
          "name": "stderr"
        },
        {
          "output_type": "stream",
          "text": [
            "n_cnt [11292.]\n",
            "y_means [5.16341151]\n",
            "y_stds [0.84529703]\n",
            "TIMING: dataset construction took 0.472 s\n",
            "Loading dataset from disk.\n",
            "TIMING: dataset construction took 0.069 s\n",
            "Loading dataset from disk.\n",
            "TIMING: dataset construction took 0.065 s\n",
            "Loading dataset from disk.\n"
          ],
          "name": "stdout"
        },
        {
          "output_type": "stream",
          "text": [
            "2021-04-06 21:17:26,410 Wrote model metadata to file ampl_output/delaney_curated_final/RF_ecfp_scaffold_regression/b44e4e81-7ce2-49df-9fee-a123e4108cf5/model_metadata.json\n",
            "2021-04-06 21:17:26,612 Wrote model metrics to file ampl_output/delaney_curated_final/RF_ecfp_scaffold_regression/b44e4e81-7ce2-49df-9fee-a123e4108cf5/model_metrics.json\n"
          ],
          "name": "stderr"
        },
        {
          "output_type": "stream",
          "text": [
            "Wrote model tarball to ampl_output/delaney_curated_final_model_b44e4e81-7ce2-49df-9fee-a123e4108cf5.tar.gz\n",
            "rf_estimators: 128, rf_max_depth: 16, rf_max_features: 32, valid_r2: -44.54939227909092\n",
            "number of features: 1024\n"
          ],
          "name": "stdout"
        },
        {
          "output_type": "stream",
          "text": [
            "2021-04-06 21:18:36,117 Previous dataset split restored\n"
          ],
          "name": "stderr"
        },
        {
          "output_type": "stream",
          "text": [
            "n_cnt [11292.]\n",
            "y_means [5.16341151]\n",
            "y_stds [0.84529703]\n",
            "TIMING: dataset construction took 0.378 s\n",
            "Loading dataset from disk.\n",
            "TIMING: dataset construction took 0.066 s\n",
            "Loading dataset from disk.\n",
            "TIMING: dataset construction took 0.068 s\n",
            "Loading dataset from disk.\n"
          ],
          "name": "stdout"
        },
        {
          "output_type": "stream",
          "text": [
            "2021-04-06 21:18:43,452 Wrote model metadata to file ampl_output/delaney_curated_final/RF_ecfp_scaffold_regression/45a12dde-50a3-4b2a-bcaa-aeec32e03741/model_metadata.json\n",
            "2021-04-06 21:18:43,658 Wrote model metrics to file ampl_output/delaney_curated_final/RF_ecfp_scaffold_regression/45a12dde-50a3-4b2a-bcaa-aeec32e03741/model_metrics.json\n"
          ],
          "name": "stderr"
        },
        {
          "output_type": "stream",
          "text": [
            "Wrote model tarball to ampl_output/delaney_curated_final_model_45a12dde-50a3-4b2a-bcaa-aeec32e03741.tar.gz\n",
            "rf_estimators: 128, rf_max_depth: 16, rf_max_features: 64, valid_r2: -44.23617527699837\n",
            "number of features: 1024\n"
          ],
          "name": "stdout"
        },
        {
          "output_type": "stream",
          "text": [
            "2021-04-06 21:19:54,256 Previous dataset split restored\n"
          ],
          "name": "stderr"
        },
        {
          "output_type": "stream",
          "text": [
            "n_cnt [11292.]\n",
            "y_means [5.16341151]\n",
            "y_stds [0.84529703]\n",
            "TIMING: dataset construction took 0.475 s\n",
            "Loading dataset from disk.\n",
            "TIMING: dataset construction took 0.067 s\n",
            "Loading dataset from disk.\n",
            "TIMING: dataset construction took 0.069 s\n",
            "Loading dataset from disk.\n"
          ],
          "name": "stdout"
        },
        {
          "output_type": "stream",
          "text": [
            "2021-04-06 21:20:05,024 Wrote model metadata to file ampl_output/delaney_curated_final/RF_ecfp_scaffold_regression/12c0f2cd-5381-469d-a4e4-905155bd0fb6/model_metadata.json\n",
            "2021-04-06 21:20:05,229 Wrote model metrics to file ampl_output/delaney_curated_final/RF_ecfp_scaffold_regression/12c0f2cd-5381-469d-a4e4-905155bd0fb6/model_metrics.json\n"
          ],
          "name": "stderr"
        },
        {
          "output_type": "stream",
          "text": [
            "Wrote model tarball to ampl_output/delaney_curated_final_model_12c0f2cd-5381-469d-a4e4-905155bd0fb6.tar.gz\n",
            "rf_estimators: 128, rf_max_depth: 16, rf_max_features: 128, valid_r2: -43.337705817077754\n",
            "number of features: 1024\n"
          ],
          "name": "stdout"
        },
        {
          "output_type": "stream",
          "text": [
            "2021-04-06 21:21:18,924 Previous dataset split restored\n"
          ],
          "name": "stderr"
        },
        {
          "output_type": "stream",
          "text": [
            "n_cnt [11292.]\n",
            "y_means [5.16341151]\n",
            "y_stds [0.84529703]\n",
            "TIMING: dataset construction took 0.474 s\n",
            "Loading dataset from disk.\n",
            "TIMING: dataset construction took 0.066 s\n",
            "Loading dataset from disk.\n",
            "TIMING: dataset construction took 0.065 s\n",
            "Loading dataset from disk.\n"
          ],
          "name": "stdout"
        },
        {
          "output_type": "stream",
          "text": [
            "2021-04-06 21:21:25,592 Wrote model metadata to file ampl_output/delaney_curated_final/RF_ecfp_scaffold_regression/73263a8a-6b5a-47ad-b70b-d17380ebc9bf/model_metadata.json\n",
            "2021-04-06 21:21:26,235 Wrote model metrics to file ampl_output/delaney_curated_final/RF_ecfp_scaffold_regression/73263a8a-6b5a-47ad-b70b-d17380ebc9bf/model_metrics.json\n"
          ],
          "name": "stderr"
        },
        {
          "output_type": "stream",
          "text": [
            "Wrote model tarball to ampl_output/delaney_curated_final_model_73263a8a-6b5a-47ad-b70b-d17380ebc9bf.tar.gz\n",
            "rf_estimators: 128, rf_max_depth: 32, rf_max_features: 16, valid_r2: -45.32717173864889\n",
            "number of features: 1024\n"
          ],
          "name": "stdout"
        },
        {
          "output_type": "stream",
          "text": [
            "2021-04-06 21:22:40,728 Previous dataset split restored\n"
          ],
          "name": "stderr"
        },
        {
          "output_type": "stream",
          "text": [
            "n_cnt [11292.]\n",
            "y_means [5.16341151]\n",
            "y_stds [0.84529703]\n",
            "TIMING: dataset construction took 0.452 s\n",
            "Loading dataset from disk.\n",
            "TIMING: dataset construction took 0.068 s\n",
            "Loading dataset from disk.\n",
            "TIMING: dataset construction took 0.049 s\n",
            "Loading dataset from disk.\n"
          ],
          "name": "stdout"
        },
        {
          "output_type": "stream",
          "text": [
            "2021-04-06 21:22:48,436 Wrote model metadata to file ampl_output/delaney_curated_final/RF_ecfp_scaffold_regression/7962444a-ee0a-4766-84af-bbc16fd54ebb/model_metadata.json\n",
            "2021-04-06 21:22:49,092 Wrote model metrics to file ampl_output/delaney_curated_final/RF_ecfp_scaffold_regression/7962444a-ee0a-4766-84af-bbc16fd54ebb/model_metrics.json\n"
          ],
          "name": "stderr"
        },
        {
          "output_type": "stream",
          "text": [
            "Wrote model tarball to ampl_output/delaney_curated_final_model_7962444a-ee0a-4766-84af-bbc16fd54ebb.tar.gz\n",
            "rf_estimators: 128, rf_max_depth: 32, rf_max_features: 32, valid_r2: -44.912755229040165\n",
            "number of features: 1024\n"
          ],
          "name": "stdout"
        },
        {
          "output_type": "stream",
          "text": [
            "2021-04-06 21:24:01,487 Previous dataset split restored\n"
          ],
          "name": "stderr"
        },
        {
          "output_type": "stream",
          "text": [
            "n_cnt [11292.]\n",
            "y_means [5.16341151]\n",
            "y_stds [0.84529703]\n",
            "TIMING: dataset construction took 0.362 s\n",
            "Loading dataset from disk.\n",
            "TIMING: dataset construction took 0.069 s\n",
            "Loading dataset from disk.\n",
            "TIMING: dataset construction took 0.070 s\n",
            "Loading dataset from disk.\n"
          ],
          "name": "stdout"
        },
        {
          "output_type": "stream",
          "text": [
            "2021-04-06 21:24:11,738 Wrote model metadata to file ampl_output/delaney_curated_final/RF_ecfp_scaffold_regression/f755b501-7d35-4db4-a37d-da2f481860d1/model_metadata.json\n",
            "2021-04-06 21:24:12,376 Wrote model metrics to file ampl_output/delaney_curated_final/RF_ecfp_scaffold_regression/f755b501-7d35-4db4-a37d-da2f481860d1/model_metrics.json\n"
          ],
          "name": "stderr"
        },
        {
          "output_type": "stream",
          "text": [
            "Wrote model tarball to ampl_output/delaney_curated_final_model_f755b501-7d35-4db4-a37d-da2f481860d1.tar.gz\n",
            "rf_estimators: 128, rf_max_depth: 32, rf_max_features: 64, valid_r2: -45.809686202870175\n",
            "number of features: 1024\n"
          ],
          "name": "stdout"
        },
        {
          "output_type": "stream",
          "text": [
            "2021-04-06 21:25:27,399 Previous dataset split restored\n"
          ],
          "name": "stderr"
        },
        {
          "output_type": "stream",
          "text": [
            "n_cnt [11292.]\n",
            "y_means [5.16341151]\n",
            "y_stds [0.84529703]\n",
            "TIMING: dataset construction took 0.482 s\n",
            "Loading dataset from disk.\n",
            "TIMING: dataset construction took 0.066 s\n",
            "Loading dataset from disk.\n",
            "TIMING: dataset construction took 0.066 s\n",
            "Loading dataset from disk.\n"
          ],
          "name": "stdout"
        },
        {
          "output_type": "stream",
          "text": [
            "2021-04-06 21:25:42,108 Wrote model metadata to file ampl_output/delaney_curated_final/RF_ecfp_scaffold_regression/b8ad5146-fd08-4885-80ab-7d7e03885ef8/model_metadata.json\n",
            "2021-04-06 21:25:42,725 Wrote model metrics to file ampl_output/delaney_curated_final/RF_ecfp_scaffold_regression/b8ad5146-fd08-4885-80ab-7d7e03885ef8/model_metrics.json\n"
          ],
          "name": "stderr"
        },
        {
          "output_type": "stream",
          "text": [
            "Wrote model tarball to ampl_output/delaney_curated_final_model_b8ad5146-fd08-4885-80ab-7d7e03885ef8.tar.gz\n",
            "rf_estimators: 128, rf_max_depth: 32, rf_max_features: 128, valid_r2: -45.67795223111961\n",
            "number of features: 1024\n"
          ],
          "name": "stdout"
        },
        {
          "output_type": "stream",
          "text": [
            "2021-04-06 21:26:54,306 Previous dataset split restored\n"
          ],
          "name": "stderr"
        },
        {
          "output_type": "stream",
          "text": [
            "n_cnt [11292.]\n",
            "y_means [5.16341151]\n",
            "y_stds [0.84529703]\n",
            "TIMING: dataset construction took 0.403 s\n",
            "Loading dataset from disk.\n",
            "TIMING: dataset construction took 0.050 s\n",
            "Loading dataset from disk.\n",
            "TIMING: dataset construction took 0.068 s\n",
            "Loading dataset from disk.\n"
          ],
          "name": "stdout"
        },
        {
          "output_type": "stream",
          "text": [
            "2021-04-06 21:27:02,004 Wrote model metadata to file ampl_output/delaney_curated_final/RF_ecfp_scaffold_regression/a30ca10a-b9c6-4e47-a283-74ef1548808f/model_metadata.json\n",
            "2021-04-06 21:27:02,905 Wrote model metrics to file ampl_output/delaney_curated_final/RF_ecfp_scaffold_regression/a30ca10a-b9c6-4e47-a283-74ef1548808f/model_metrics.json\n"
          ],
          "name": "stderr"
        },
        {
          "output_type": "stream",
          "text": [
            "Wrote model tarball to ampl_output/delaney_curated_final_model_a30ca10a-b9c6-4e47-a283-74ef1548808f.tar.gz\n",
            "rf_estimators: 128, rf_max_depth: 64, rf_max_features: 16, valid_r2: -46.397092679244096\n",
            "number of features: 1024\n"
          ],
          "name": "stdout"
        },
        {
          "output_type": "stream",
          "text": [
            "2021-04-06 21:28:14,230 Previous dataset split restored\n"
          ],
          "name": "stderr"
        },
        {
          "output_type": "stream",
          "text": [
            "n_cnt [11292.]\n",
            "y_means [5.16341151]\n",
            "y_stds [0.84529703]\n",
            "TIMING: dataset construction took 0.481 s\n",
            "Loading dataset from disk.\n",
            "TIMING: dataset construction took 0.067 s\n",
            "Loading dataset from disk.\n",
            "TIMING: dataset construction took 0.068 s\n",
            "Loading dataset from disk.\n"
          ],
          "name": "stdout"
        },
        {
          "output_type": "stream",
          "text": [
            "2021-04-06 21:28:23,669 Wrote model metadata to file ampl_output/delaney_curated_final/RF_ecfp_scaffold_regression/a511ac58-c7fa-4c86-bc1b-5a6d25165c7b/model_metadata.json\n",
            "2021-04-06 21:28:24,702 Wrote model metrics to file ampl_output/delaney_curated_final/RF_ecfp_scaffold_regression/a511ac58-c7fa-4c86-bc1b-5a6d25165c7b/model_metrics.json\n"
          ],
          "name": "stderr"
        },
        {
          "output_type": "stream",
          "text": [
            "Wrote model tarball to ampl_output/delaney_curated_final_model_a511ac58-c7fa-4c86-bc1b-5a6d25165c7b.tar.gz\n",
            "rf_estimators: 128, rf_max_depth: 64, rf_max_features: 32, valid_r2: -46.478672749902756\n",
            "number of features: 1024\n"
          ],
          "name": "stdout"
        },
        {
          "output_type": "stream",
          "text": [
            "2021-04-06 21:29:34,450 Previous dataset split restored\n"
          ],
          "name": "stderr"
        },
        {
          "output_type": "stream",
          "text": [
            "n_cnt [11292.]\n",
            "y_means [5.16341151]\n",
            "y_stds [0.84529703]\n",
            "TIMING: dataset construction took 0.380 s\n",
            "Loading dataset from disk.\n",
            "TIMING: dataset construction took 0.065 s\n",
            "Loading dataset from disk.\n",
            "TIMING: dataset construction took 0.072 s\n",
            "Loading dataset from disk.\n"
          ],
          "name": "stdout"
        },
        {
          "output_type": "stream",
          "text": [
            "2021-04-06 21:29:46,059 Wrote model metadata to file ampl_output/delaney_curated_final/RF_ecfp_scaffold_regression/5709d619-f215-4e01-86cd-a2e7857bfb50/model_metadata.json\n",
            "2021-04-06 21:29:47,073 Wrote model metrics to file ampl_output/delaney_curated_final/RF_ecfp_scaffold_regression/5709d619-f215-4e01-86cd-a2e7857bfb50/model_metrics.json\n"
          ],
          "name": "stderr"
        },
        {
          "output_type": "stream",
          "text": [
            "Wrote model tarball to ampl_output/delaney_curated_final_model_5709d619-f215-4e01-86cd-a2e7857bfb50.tar.gz\n",
            "rf_estimators: 128, rf_max_depth: 64, rf_max_features: 64, valid_r2: -46.86718350880285\n",
            "number of features: 1024\n"
          ],
          "name": "stdout"
        },
        {
          "output_type": "stream",
          "text": [
            "2021-04-06 21:31:01,313 Previous dataset split restored\n"
          ],
          "name": "stderr"
        },
        {
          "output_type": "stream",
          "text": [
            "n_cnt [11292.]\n",
            "y_means [5.16341151]\n",
            "y_stds [0.84529703]\n",
            "TIMING: dataset construction took 0.463 s\n",
            "Loading dataset from disk.\n",
            "TIMING: dataset construction took 0.066 s\n",
            "Loading dataset from disk.\n",
            "TIMING: dataset construction took 0.066 s\n",
            "Loading dataset from disk.\n"
          ],
          "name": "stdout"
        },
        {
          "output_type": "stream",
          "text": [
            "2021-04-06 21:31:18,547 Wrote model metadata to file ampl_output/delaney_curated_final/RF_ecfp_scaffold_regression/9b347d21-e20a-4753-a469-fcbf1b23dd98/model_metadata.json\n",
            "2021-04-06 21:31:19,503 Wrote model metrics to file ampl_output/delaney_curated_final/RF_ecfp_scaffold_regression/9b347d21-e20a-4753-a469-fcbf1b23dd98/model_metrics.json\n"
          ],
          "name": "stderr"
        },
        {
          "output_type": "stream",
          "text": [
            "Wrote model tarball to ampl_output/delaney_curated_final_model_9b347d21-e20a-4753-a469-fcbf1b23dd98.tar.gz\n",
            "rf_estimators: 128, rf_max_depth: 64, rf_max_features: 128, valid_r2: -47.008334454896385\n",
            "number of features: 1024\n"
          ],
          "name": "stdout"
        },
        {
          "output_type": "stream",
          "text": [
            "2021-04-06 21:32:31,967 Previous dataset split restored\n"
          ],
          "name": "stderr"
        },
        {
          "output_type": "stream",
          "text": [
            "n_cnt [11292.]\n",
            "y_means [5.16341151]\n",
            "y_stds [0.84529703]\n",
            "TIMING: dataset construction took 0.479 s\n",
            "Loading dataset from disk.\n",
            "TIMING: dataset construction took 0.065 s\n",
            "Loading dataset from disk.\n",
            "TIMING: dataset construction took 0.071 s\n",
            "Loading dataset from disk.\n"
          ],
          "name": "stdout"
        },
        {
          "output_type": "stream",
          "text": [
            "2021-04-06 21:32:40,202 Wrote model metadata to file ampl_output/delaney_curated_final/RF_ecfp_scaffold_regression/2c007122-dbfd-444b-8572-ce47556a9f0f/model_metadata.json\n",
            "2021-04-06 21:32:41,297 Wrote model metrics to file ampl_output/delaney_curated_final/RF_ecfp_scaffold_regression/2c007122-dbfd-444b-8572-ce47556a9f0f/model_metrics.json\n"
          ],
          "name": "stderr"
        },
        {
          "output_type": "stream",
          "text": [
            "Wrote model tarball to ampl_output/delaney_curated_final_model_2c007122-dbfd-444b-8572-ce47556a9f0f.tar.gz\n",
            "rf_estimators: 128, rf_max_depth: 128, rf_max_features: 16, valid_r2: -46.698061841138355\n",
            "number of features: 1024\n"
          ],
          "name": "stdout"
        },
        {
          "output_type": "stream",
          "text": [
            "2021-04-06 21:33:56,079 Previous dataset split restored\n"
          ],
          "name": "stderr"
        },
        {
          "output_type": "stream",
          "text": [
            "n_cnt [11292.]\n",
            "y_means [5.16341151]\n",
            "y_stds [0.84529703]\n",
            "TIMING: dataset construction took 0.484 s\n",
            "Loading dataset from disk.\n",
            "TIMING: dataset construction took 0.066 s\n",
            "Loading dataset from disk.\n",
            "TIMING: dataset construction took 0.066 s\n",
            "Loading dataset from disk.\n"
          ],
          "name": "stdout"
        },
        {
          "output_type": "stream",
          "text": [
            "2021-04-06 21:34:05,318 Wrote model metadata to file ampl_output/delaney_curated_final/RF_ecfp_scaffold_regression/d99175dd-f8c0-41af-afc8-8a46e3323bfc/model_metadata.json\n",
            "2021-04-06 21:34:06,368 Wrote model metrics to file ampl_output/delaney_curated_final/RF_ecfp_scaffold_regression/d99175dd-f8c0-41af-afc8-8a46e3323bfc/model_metrics.json\n"
          ],
          "name": "stderr"
        },
        {
          "output_type": "stream",
          "text": [
            "Wrote model tarball to ampl_output/delaney_curated_final_model_d99175dd-f8c0-41af-afc8-8a46e3323bfc.tar.gz\n",
            "rf_estimators: 128, rf_max_depth: 128, rf_max_features: 32, valid_r2: -46.22164577536299\n",
            "number of features: 1024\n"
          ],
          "name": "stdout"
        },
        {
          "output_type": "stream",
          "text": [
            "2021-04-06 21:35:21,016 Previous dataset split restored\n"
          ],
          "name": "stderr"
        },
        {
          "output_type": "stream",
          "text": [
            "n_cnt [11292.]\n",
            "y_means [5.16341151]\n",
            "y_stds [0.84529703]\n",
            "TIMING: dataset construction took 0.461 s\n",
            "Loading dataset from disk.\n",
            "TIMING: dataset construction took 0.065 s\n",
            "Loading dataset from disk.\n",
            "TIMING: dataset construction took 0.065 s\n",
            "Loading dataset from disk.\n"
          ],
          "name": "stdout"
        },
        {
          "output_type": "stream",
          "text": [
            "2021-04-06 21:35:33,093 Wrote model metadata to file ampl_output/delaney_curated_final/RF_ecfp_scaffold_regression/e60bf752-a62f-456a-b4df-967e679496c8/model_metadata.json\n",
            "2021-04-06 21:35:34,130 Wrote model metrics to file ampl_output/delaney_curated_final/RF_ecfp_scaffold_regression/e60bf752-a62f-456a-b4df-967e679496c8/model_metrics.json\n"
          ],
          "name": "stderr"
        },
        {
          "output_type": "stream",
          "text": [
            "Wrote model tarball to ampl_output/delaney_curated_final_model_e60bf752-a62f-456a-b4df-967e679496c8.tar.gz\n",
            "rf_estimators: 128, rf_max_depth: 128, rf_max_features: 64, valid_r2: -46.387528048197034\n",
            "number of features: 1024\n"
          ],
          "name": "stdout"
        },
        {
          "output_type": "stream",
          "text": [
            "2021-04-06 21:36:46,466 Previous dataset split restored\n"
          ],
          "name": "stderr"
        },
        {
          "output_type": "stream",
          "text": [
            "n_cnt [11292.]\n",
            "y_means [5.16341151]\n",
            "y_stds [0.84529703]\n",
            "TIMING: dataset construction took 0.475 s\n",
            "Loading dataset from disk.\n",
            "TIMING: dataset construction took 0.072 s\n",
            "Loading dataset from disk.\n",
            "TIMING: dataset construction took 0.071 s\n",
            "Loading dataset from disk.\n"
          ],
          "name": "stdout"
        },
        {
          "output_type": "stream",
          "text": [
            "2021-04-06 21:37:04,048 Wrote model metadata to file ampl_output/delaney_curated_final/RF_ecfp_scaffold_regression/f0719025-8fe3-42ca-bc3f-9f0d188035df/model_metadata.json\n",
            "2021-04-06 21:37:04,827 Wrote model metrics to file ampl_output/delaney_curated_final/RF_ecfp_scaffold_regression/f0719025-8fe3-42ca-bc3f-9f0d188035df/model_metrics.json\n"
          ],
          "name": "stderr"
        },
        {
          "output_type": "stream",
          "text": [
            "Wrote model tarball to ampl_output/delaney_curated_final_model_f0719025-8fe3-42ca-bc3f-9f0d188035df.tar.gz\n",
            "rf_estimators: 128, rf_max_depth: 128, rf_max_features: 128, valid_r2: -47.812637240241436\n"
          ],
          "name": "stdout"
        }
      ]
    },
    {
      "cell_type": "code",
      "metadata": {
        "id": "XSDa2HTH6wbD",
        "colab": {
          "base_uri": "https://localhost:8080/",
          "height": 419
        },
        "outputId": "c066e241-4af7-4f01-c5d3-4e4ae27632b6"
      },
      "source": [
        "perf_df = pd.DataFrame({\"rf_estimators\": rfe_list, \"rf_max_depth\": rfd_list, \"rf_max_features\": rff_list, \"valid_r2_score\": valid_r2_list})\n",
        "perf_df.sort_values(by=\"valid_r2_score\", ascending=False)"
      ],
      "execution_count": 77,
      "outputs": [
        {
          "output_type": "execute_result",
          "data": {
            "text/html": [
              "<div>\n",
              "<style scoped>\n",
              "    .dataframe tbody tr th:only-of-type {\n",
              "        vertical-align: middle;\n",
              "    }\n",
              "\n",
              "    .dataframe tbody tr th {\n",
              "        vertical-align: top;\n",
              "    }\n",
              "\n",
              "    .dataframe thead th {\n",
              "        text-align: right;\n",
              "    }\n",
              "</style>\n",
              "<table border=\"1\" class=\"dataframe\">\n",
              "  <thead>\n",
              "    <tr style=\"text-align: right;\">\n",
              "      <th></th>\n",
              "      <th>rf_estimators</th>\n",
              "      <th>rf_max_depth</th>\n",
              "      <th>rf_max_features</th>\n",
              "      <th>valid_r2_score</th>\n",
              "    </tr>\n",
              "  </thead>\n",
              "  <tbody>\n",
              "    <tr>\n",
              "      <th>34</th>\n",
              "      <td>64</td>\n",
              "      <td>16</td>\n",
              "      <td>64</td>\n",
              "      <td>-43.259721</td>\n",
              "    </tr>\n",
              "    <tr>\n",
              "      <th>51</th>\n",
              "      <td>128</td>\n",
              "      <td>16</td>\n",
              "      <td>128</td>\n",
              "      <td>-43.337706</td>\n",
              "    </tr>\n",
              "    <tr>\n",
              "      <th>35</th>\n",
              "      <td>64</td>\n",
              "      <td>16</td>\n",
              "      <td>128</td>\n",
              "      <td>-44.017752</td>\n",
              "    </tr>\n",
              "    <tr>\n",
              "      <th>19</th>\n",
              "      <td>32</td>\n",
              "      <td>16</td>\n",
              "      <td>128</td>\n",
              "      <td>-44.196752</td>\n",
              "    </tr>\n",
              "    <tr>\n",
              "      <th>50</th>\n",
              "      <td>128</td>\n",
              "      <td>16</td>\n",
              "      <td>64</td>\n",
              "      <td>-44.236175</td>\n",
              "    </tr>\n",
              "    <tr>\n",
              "      <th>...</th>\n",
              "      <td>...</td>\n",
              "      <td>...</td>\n",
              "      <td>...</td>\n",
              "      <td>...</td>\n",
              "    </tr>\n",
              "    <tr>\n",
              "      <th>14</th>\n",
              "      <td>16</td>\n",
              "      <td>128</td>\n",
              "      <td>64</td>\n",
              "      <td>-50.901410</td>\n",
              "    </tr>\n",
              "    <tr>\n",
              "      <th>13</th>\n",
              "      <td>16</td>\n",
              "      <td>128</td>\n",
              "      <td>32</td>\n",
              "      <td>-51.414217</td>\n",
              "    </tr>\n",
              "    <tr>\n",
              "      <th>8</th>\n",
              "      <td>16</td>\n",
              "      <td>64</td>\n",
              "      <td>16</td>\n",
              "      <td>-51.426359</td>\n",
              "    </tr>\n",
              "    <tr>\n",
              "      <th>11</th>\n",
              "      <td>16</td>\n",
              "      <td>64</td>\n",
              "      <td>128</td>\n",
              "      <td>-53.776153</td>\n",
              "    </tr>\n",
              "    <tr>\n",
              "      <th>15</th>\n",
              "      <td>16</td>\n",
              "      <td>128</td>\n",
              "      <td>128</td>\n",
              "      <td>-53.875384</td>\n",
              "    </tr>\n",
              "  </tbody>\n",
              "</table>\n",
              "<p>64 rows × 4 columns</p>\n",
              "</div>"
            ],
            "text/plain": [
              "    rf_estimators  rf_max_depth  rf_max_features  valid_r2_score\n",
              "34             64            16               64      -43.259721\n",
              "51            128            16              128      -43.337706\n",
              "35             64            16              128      -44.017752\n",
              "19             32            16              128      -44.196752\n",
              "50            128            16               64      -44.236175\n",
              "..            ...           ...              ...             ...\n",
              "14             16           128               64      -50.901410\n",
              "13             16           128               32      -51.414217\n",
              "8              16            64               16      -51.426359\n",
              "11             16            64              128      -53.776153\n",
              "15             16           128              128      -53.875384\n",
              "\n",
              "[64 rows x 4 columns]"
            ]
          },
          "metadata": {
            "tags": []
          },
          "execution_count": 77
        }
      ]
    },
    {
      "cell_type": "code",
      "metadata": {
        "id": "9bVXltSu6z0f",
        "colab": {
          "base_uri": "https://localhost:8080/",
          "height": 483
        },
        "outputId": "164dd4b5-8ae5-449f-f532-7f1145c8b6f2"
      },
      "source": [
        "fig, ax = plt.subplots(1,3,figsize=(21,7))\n",
        "sns.boxplot(data=perf_df, x=\"rf_estimators\", y=\"valid_r2_score\", ax=ax[0])\n",
        "sns.boxplot(data=perf_df, x=\"rf_max_depth\", y=\"valid_r2_score\", ax=ax[1])\n",
        "sns.boxplot(data=perf_df, x=\"rf_max_features\", y=\"valid_r2_score\", ax=ax[2])\n",
        "fig.tight_layout()"
      ],
      "execution_count": 78,
      "outputs": [
        {
          "output_type": "display_data",
          "data": {
            "image/png": "[encoded data removed]",
            "text/plain": [
              "<Figure size 1512x504 with 3 Axes>"
            ]
          },
          "metadata": {
            "tags": []
          }
        }
      ]
    },
    {
      "cell_type": "markdown",
      "metadata": {
        "id": "qpAq__JA61wy"
      },
      "source": [
        "### Random search"
      ]
    },
    {
      "cell_type": "code",
      "metadata": {
        "id": "LMNkU4rs648c",
        "colab": {
          "base_uri": "https://localhost:8080/"
        },
        "outputId": "acfa2e5d-4063-43e1-811e-00f1ce6d107c"
      },
      "source": [
        "rfe_list = []\n",
        "rfd_list = []\n",
        "rff_list = []\n",
        "valid_r2_list = []\n",
        "\n",
        "num_trials = 50\n",
        "\n",
        "for i in range(num_trials):\n",
        "    params[\"rf_estimators\"] = np.random.randint(8,256)\n",
        "    params[\"rf_max_depth\"] = np.random.randint(8,256)\n",
        "    params[\"rf_max_features\"] = np.random.randint(8,256)\n",
        "    rfe_list.append(params[\"rf_estimators\"])\n",
        "    rfd_list.append(params[\"rf_max_depth\"])\n",
        "    rff_list.append(params[\"rf_max_features\"])\n",
        "    tp = parse.wrapper(params)\n",
        "    pl = mp.ModelPipeline(tp)\n",
        "    pl.train_model()\n",
        "    pred_data = pl.model_wrapper.get_perf_data(subset=\"valid\", epoch_label=\"best\")\n",
        "    pred_results = pred_data.get_prediction_results()\n",
        "    valid_r2 = pred_results['r2_score']\n",
        "    valid_r2_list.append(valid_r2)\n",
        "    print(f\"rf_estimators: {rf_estimator}, rf_max_depth: {rf_depth}, rf_max_features: {rf_feature}, valid_r2: {valid_r2}\")"
      ],
      "execution_count": 79,
      "outputs": [
        {
          "output_type": "stream",
          "text": [
            "number of features: 1024\n"
          ],
          "name": "stdout"
        },
        {
          "output_type": "stream",
          "text": [
            "2021-04-06 21:38:16,717 Previous dataset split restored\n"
          ],
          "name": "stderr"
        },
        {
          "output_type": "stream",
          "text": [
            "n_cnt [11292.]\n",
            "y_means [5.16341151]\n",
            "y_stds [0.84529703]\n",
            "TIMING: dataset construction took 0.467 s\n",
            "Loading dataset from disk.\n",
            "TIMING: dataset construction took 0.064 s\n",
            "Loading dataset from disk.\n",
            "TIMING: dataset construction took 0.066 s\n",
            "Loading dataset from disk.\n"
          ],
          "name": "stdout"
        },
        {
          "output_type": "stream",
          "text": [
            "2021-04-06 21:38:30,053 Wrote model metadata to file ampl_output/delaney_curated_final/RF_ecfp_scaffold_regression/0a53f661-87bf-4e6c-af77-acbd428564b6/model_metadata.json\n",
            "2021-04-06 21:38:30,532 Wrote model metrics to file ampl_output/delaney_curated_final/RF_ecfp_scaffold_regression/0a53f661-87bf-4e6c-af77-acbd428564b6/model_metrics.json\n"
          ],
          "name": "stderr"
        },
        {
          "output_type": "stream",
          "text": [
            "Wrote model tarball to ampl_output/delaney_curated_final_model_0a53f661-87bf-4e6c-af77-acbd428564b6.tar.gz\n",
            "rf_estimators: 128, rf_max_depth: 128, rf_max_features: 128, valid_r2: -48.039880396334674\n",
            "number of features: 1024\n"
          ],
          "name": "stdout"
        },
        {
          "output_type": "stream",
          "text": [
            "2021-04-06 21:39:39,982 Previous dataset split restored\n"
          ],
          "name": "stderr"
        },
        {
          "output_type": "stream",
          "text": [
            "n_cnt [11292.]\n",
            "y_means [5.16341151]\n",
            "y_stds [0.84529703]\n",
            "TIMING: dataset construction took 0.463 s\n",
            "Loading dataset from disk.\n",
            "TIMING: dataset construction took 0.066 s\n",
            "Loading dataset from disk.\n",
            "TIMING: dataset construction took 0.068 s\n",
            "Loading dataset from disk.\n"
          ],
          "name": "stdout"
        },
        {
          "output_type": "stream",
          "text": [
            "2021-04-06 21:39:48,977 Wrote model metadata to file ampl_output/delaney_curated_final/RF_ecfp_scaffold_regression/50fe90ee-2f78-41c1-ad00-4dcd04739af4/model_metadata.json\n",
            "2021-04-06 21:39:49,337 Wrote model metrics to file ampl_output/delaney_curated_final/RF_ecfp_scaffold_regression/50fe90ee-2f78-41c1-ad00-4dcd04739af4/model_metrics.json\n"
          ],
          "name": "stderr"
        },
        {
          "output_type": "stream",
          "text": [
            "Wrote model tarball to ampl_output/delaney_curated_final_model_50fe90ee-2f78-41c1-ad00-4dcd04739af4.tar.gz\n",
            "rf_estimators: 128, rf_max_depth: 128, rf_max_features: 128, valid_r2: -48.723649774946765\n",
            "number of features: 1024\n"
          ],
          "name": "stdout"
        },
        {
          "output_type": "stream",
          "text": [
            "2021-04-06 21:41:03,016 Previous dataset split restored\n"
          ],
          "name": "stderr"
        },
        {
          "output_type": "stream",
          "text": [
            "n_cnt [11292.]\n",
            "y_means [5.16341151]\n",
            "y_stds [0.84529703]\n",
            "TIMING: dataset construction took 0.470 s\n",
            "Loading dataset from disk.\n",
            "TIMING: dataset construction took 0.066 s\n",
            "Loading dataset from disk.\n",
            "TIMING: dataset construction took 0.067 s\n",
            "Loading dataset from disk.\n"
          ],
          "name": "stdout"
        },
        {
          "output_type": "stream",
          "text": [
            "2021-04-06 21:42:00,381 Wrote model metadata to file ampl_output/delaney_curated_final/RF_ecfp_scaffold_regression/9308be78-79cf-4432-9bdc-5e5a0e658e85/model_metadata.json\n",
            "2021-04-06 21:42:02,118 Wrote model metrics to file ampl_output/delaney_curated_final/RF_ecfp_scaffold_regression/9308be78-79cf-4432-9bdc-5e5a0e658e85/model_metrics.json\n"
          ],
          "name": "stderr"
        },
        {
          "output_type": "stream",
          "text": [
            "Wrote model tarball to ampl_output/delaney_curated_final_model_9308be78-79cf-4432-9bdc-5e5a0e658e85.tar.gz\n",
            "rf_estimators: 128, rf_max_depth: 128, rf_max_features: 128, valid_r2: -48.330201472238166\n",
            "number of features: 1024\n"
          ],
          "name": "stdout"
        },
        {
          "output_type": "stream",
          "text": [
            "2021-04-06 21:43:12,435 Previous dataset split restored\n"
          ],
          "name": "stderr"
        },
        {
          "output_type": "stream",
          "text": [
            "n_cnt [11292.]\n",
            "y_means [5.16341151]\n",
            "y_stds [0.84529703]\n",
            "TIMING: dataset construction took 0.433 s\n",
            "Loading dataset from disk.\n",
            "TIMING: dataset construction took 0.067 s\n",
            "Loading dataset from disk.\n",
            "TIMING: dataset construction took 0.066 s\n",
            "Loading dataset from disk.\n"
          ],
          "name": "stdout"
        },
        {
          "output_type": "stream",
          "text": [
            "2021-04-06 21:43:54,584 Wrote model metadata to file ampl_output/delaney_curated_final/RF_ecfp_scaffold_regression/35231c23-c219-4324-b2c4-1e8fdb4cf6eb/model_metadata.json\n",
            "2021-04-06 21:43:55,922 Wrote model metrics to file ampl_output/delaney_curated_final/RF_ecfp_scaffold_regression/35231c23-c219-4324-b2c4-1e8fdb4cf6eb/model_metrics.json\n"
          ],
          "name": "stderr"
        },
        {
          "output_type": "stream",
          "text": [
            "Wrote model tarball to ampl_output/delaney_curated_final_model_35231c23-c219-4324-b2c4-1e8fdb4cf6eb.tar.gz\n",
            "rf_estimators: 128, rf_max_depth: 128, rf_max_features: 128, valid_r2: -49.48618742043846\n",
            "number of features: 1024\n"
          ],
          "name": "stdout"
        },
        {
          "output_type": "stream",
          "text": [
            "2021-04-06 21:45:09,673 Previous dataset split restored\n"
          ],
          "name": "stderr"
        },
        {
          "output_type": "stream",
          "text": [
            "n_cnt [11292.]\n",
            "y_means [5.16341151]\n",
            "y_stds [0.84529703]\n",
            "TIMING: dataset construction took 0.460 s\n",
            "Loading dataset from disk.\n",
            "TIMING: dataset construction took 0.069 s\n",
            "Loading dataset from disk.\n",
            "TIMING: dataset construction took 0.065 s\n",
            "Loading dataset from disk.\n"
          ],
          "name": "stdout"
        },
        {
          "output_type": "stream",
          "text": [
            "2021-04-06 21:45:20,346 Wrote model metadata to file ampl_output/delaney_curated_final/RF_ecfp_scaffold_regression/66fa266c-e9a8-4c18-9463-9781201890ab/model_metadata.json\n",
            "2021-04-06 21:45:21,049 Wrote model metrics to file ampl_output/delaney_curated_final/RF_ecfp_scaffold_regression/66fa266c-e9a8-4c18-9463-9781201890ab/model_metrics.json\n"
          ],
          "name": "stderr"
        },
        {
          "output_type": "stream",
          "text": [
            "Wrote model tarball to ampl_output/delaney_curated_final_model_66fa266c-e9a8-4c18-9463-9781201890ab.tar.gz\n",
            "rf_estimators: 128, rf_max_depth: 128, rf_max_features: 128, valid_r2: -47.10371580081879\n",
            "number of features: 1024\n"
          ],
          "name": "stdout"
        },
        {
          "output_type": "stream",
          "text": [
            "2021-04-06 21:46:35,450 Previous dataset split restored\n"
          ],
          "name": "stderr"
        },
        {
          "output_type": "stream",
          "text": [
            "n_cnt [11292.]\n",
            "y_means [5.16341151]\n",
            "y_stds [0.84529703]\n",
            "TIMING: dataset construction took 0.459 s\n",
            "Loading dataset from disk.\n",
            "TIMING: dataset construction took 0.066 s\n",
            "Loading dataset from disk.\n",
            "TIMING: dataset construction took 0.066 s\n",
            "Loading dataset from disk.\n"
          ],
          "name": "stdout"
        },
        {
          "output_type": "stream",
          "text": [
            "2021-04-06 21:46:39,556 Wrote model metadata to file ampl_output/delaney_curated_final/RF_ecfp_scaffold_regression/47ec0976-b8a9-4f1e-b164-178ae2585581/model_metadata.json\n",
            "2021-04-06 21:46:39,576 Wrote model metrics to file ampl_output/delaney_curated_final/RF_ecfp_scaffold_regression/47ec0976-b8a9-4f1e-b164-178ae2585581/model_metrics.json\n"
          ],
          "name": "stderr"
        },
        {
          "output_type": "stream",
          "text": [
            "Wrote model tarball to ampl_output/delaney_curated_final_model_47ec0976-b8a9-4f1e-b164-178ae2585581.tar.gz\n",
            "rf_estimators: 128, rf_max_depth: 128, rf_max_features: 128, valid_r2: -48.227287040850236\n",
            "number of features: 1024\n"
          ],
          "name": "stdout"
        },
        {
          "output_type": "stream",
          "text": [
            "2021-04-06 21:47:53,680 Previous dataset split restored\n"
          ],
          "name": "stderr"
        },
        {
          "output_type": "stream",
          "text": [
            "n_cnt [11292.]\n",
            "y_means [5.16341151]\n",
            "y_stds [0.84529703]\n",
            "TIMING: dataset construction took 0.459 s\n",
            "Loading dataset from disk.\n",
            "TIMING: dataset construction took 0.069 s\n",
            "Loading dataset from disk.\n",
            "TIMING: dataset construction took 0.065 s\n",
            "Loading dataset from disk.\n"
          ],
          "name": "stdout"
        },
        {
          "output_type": "stream",
          "text": [
            "2021-04-06 21:48:07,814 Wrote model metadata to file ampl_output/delaney_curated_final/RF_ecfp_scaffold_regression/35faf5e6-f230-4269-bc07-a1ce54f02dd9/model_metadata.json\n",
            "2021-04-06 21:48:08,542 Wrote model metrics to file ampl_output/delaney_curated_final/RF_ecfp_scaffold_regression/35faf5e6-f230-4269-bc07-a1ce54f02dd9/model_metrics.json\n"
          ],
          "name": "stderr"
        },
        {
          "output_type": "stream",
          "text": [
            "Wrote model tarball to ampl_output/delaney_curated_final_model_35faf5e6-f230-4269-bc07-a1ce54f02dd9.tar.gz\n",
            "rf_estimators: 128, rf_max_depth: 128, rf_max_features: 128, valid_r2: -47.494157306465596\n",
            "number of features: 1024\n"
          ],
          "name": "stdout"
        },
        {
          "output_type": "stream",
          "text": [
            "2021-04-06 21:49:22,740 Previous dataset split restored\n"
          ],
          "name": "stderr"
        },
        {
          "output_type": "stream",
          "text": [
            "n_cnt [11292.]\n",
            "y_means [5.16341151]\n",
            "y_stds [0.84529703]\n",
            "TIMING: dataset construction took 0.466 s\n",
            "Loading dataset from disk.\n",
            "TIMING: dataset construction took 0.069 s\n",
            "Loading dataset from disk.\n",
            "TIMING: dataset construction took 0.069 s\n",
            "Loading dataset from disk.\n"
          ],
          "name": "stdout"
        },
        {
          "output_type": "stream",
          "text": [
            "2021-04-06 21:50:12,361 Wrote model metadata to file ampl_output/delaney_curated_final/RF_ecfp_scaffold_regression/f03e1837-b032-4972-ab63-69e862e2f473/model_metadata.json\n",
            "2021-04-06 21:50:14,233 Wrote model metrics to file ampl_output/delaney_curated_final/RF_ecfp_scaffold_regression/f03e1837-b032-4972-ab63-69e862e2f473/model_metrics.json\n"
          ],
          "name": "stderr"
        },
        {
          "output_type": "stream",
          "text": [
            "Wrote model tarball to ampl_output/delaney_curated_final_model_f03e1837-b032-4972-ab63-69e862e2f473.tar.gz\n",
            "rf_estimators: 128, rf_max_depth: 128, rf_max_features: 128, valid_r2: -48.55923627213219\n",
            "number of features: 1024\n"
          ],
          "name": "stdout"
        },
        {
          "output_type": "stream",
          "text": [
            "2021-04-06 21:51:29,245 Previous dataset split restored\n"
          ],
          "name": "stderr"
        },
        {
          "output_type": "stream",
          "text": [
            "n_cnt [11292.]\n",
            "y_means [5.16341151]\n",
            "y_stds [0.84529703]\n",
            "TIMING: dataset construction took 0.474 s\n",
            "Loading dataset from disk.\n",
            "TIMING: dataset construction took 0.066 s\n",
            "Loading dataset from disk.\n",
            "TIMING: dataset construction took 0.066 s\n",
            "Loading dataset from disk.\n"
          ],
          "name": "stdout"
        },
        {
          "output_type": "stream",
          "text": [
            "2021-04-06 21:52:10,590 Wrote model metadata to file ampl_output/delaney_curated_final/RF_ecfp_scaffold_regression/ddf87765-d00b-4fce-8fd3-52d836a89c13/model_metadata.json\n",
            "2021-04-06 21:52:12,336 Wrote model metrics to file ampl_output/delaney_curated_final/RF_ecfp_scaffold_regression/ddf87765-d00b-4fce-8fd3-52d836a89c13/model_metrics.json\n"
          ],
          "name": "stderr"
        },
        {
          "output_type": "stream",
          "text": [
            "Wrote model tarball to ampl_output/delaney_curated_final_model_ddf87765-d00b-4fce-8fd3-52d836a89c13.tar.gz\n",
            "rf_estimators: 128, rf_max_depth: 128, rf_max_features: 128, valid_r2: -48.1836121918266\n",
            "number of features: 1024\n"
          ],
          "name": "stdout"
        },
        {
          "output_type": "stream",
          "text": [
            "2021-04-06 21:53:33,736 Previous dataset split restored\n"
          ],
          "name": "stderr"
        },
        {
          "output_type": "stream",
          "text": [
            "n_cnt [11292.]\n",
            "y_means [5.16341151]\n",
            "y_stds [0.84529703]\n",
            "TIMING: dataset construction took 0.483 s\n",
            "Loading dataset from disk.\n",
            "TIMING: dataset construction took 0.050 s\n",
            "Loading dataset from disk.\n",
            "TIMING: dataset construction took 0.051 s\n",
            "Loading dataset from disk.\n"
          ],
          "name": "stdout"
        },
        {
          "output_type": "stream",
          "text": [
            "2021-04-06 21:53:51,811 Wrote model metadata to file ampl_output/delaney_curated_final/RF_ecfp_scaffold_regression/de8d58ee-45a8-4cc6-b213-464f228a6279/model_metadata.json\n",
            "2021-04-06 21:53:52,230 Wrote model metrics to file ampl_output/delaney_curated_final/RF_ecfp_scaffold_regression/de8d58ee-45a8-4cc6-b213-464f228a6279/model_metrics.json\n"
          ],
          "name": "stderr"
        },
        {
          "output_type": "stream",
          "text": [
            "Wrote model tarball to ampl_output/delaney_curated_final_model_de8d58ee-45a8-4cc6-b213-464f228a6279.tar.gz\n",
            "rf_estimators: 128, rf_max_depth: 128, rf_max_features: 128, valid_r2: -43.62186925565711\n",
            "number of features: 1024\n"
          ],
          "name": "stdout"
        },
        {
          "output_type": "stream",
          "text": [
            "2021-04-06 21:55:00,889 Previous dataset split restored\n"
          ],
          "name": "stderr"
        },
        {
          "output_type": "stream",
          "text": [
            "n_cnt [11292.]\n",
            "y_means [5.16341151]\n",
            "y_stds [0.84529703]\n",
            "TIMING: dataset construction took 0.478 s\n",
            "Loading dataset from disk.\n",
            "TIMING: dataset construction took 0.065 s\n",
            "Loading dataset from disk.\n",
            "TIMING: dataset construction took 0.067 s\n",
            "Loading dataset from disk.\n"
          ],
          "name": "stdout"
        },
        {
          "output_type": "stream",
          "text": [
            "2021-04-06 21:55:12,529 Wrote model metadata to file ampl_output/delaney_curated_final/RF_ecfp_scaffold_regression/64623011-c5bf-4693-93cf-293ee6f18283/model_metadata.json\n",
            "2021-04-06 21:55:14,354 Wrote model metrics to file ampl_output/delaney_curated_final/RF_ecfp_scaffold_regression/64623011-c5bf-4693-93cf-293ee6f18283/model_metrics.json\n"
          ],
          "name": "stderr"
        },
        {
          "output_type": "stream",
          "text": [
            "Wrote model tarball to ampl_output/delaney_curated_final_model_64623011-c5bf-4693-93cf-293ee6f18283.tar.gz\n",
            "rf_estimators: 128, rf_max_depth: 128, rf_max_features: 128, valid_r2: -46.71384724969387\n",
            "number of features: 1024\n"
          ],
          "name": "stdout"
        },
        {
          "output_type": "stream",
          "text": [
            "2021-04-06 21:56:24,071 Previous dataset split restored\n"
          ],
          "name": "stderr"
        },
        {
          "output_type": "stream",
          "text": [
            "n_cnt [11292.]\n",
            "y_means [5.16341151]\n",
            "y_stds [0.84529703]\n",
            "TIMING: dataset construction took 0.470 s\n",
            "Loading dataset from disk.\n",
            "TIMING: dataset construction took 0.068 s\n",
            "Loading dataset from disk.\n",
            "TIMING: dataset construction took 0.065 s\n",
            "Loading dataset from disk.\n"
          ],
          "name": "stdout"
        },
        {
          "output_type": "stream",
          "text": [
            "2021-04-06 21:56:32,240 Wrote model metadata to file ampl_output/delaney_curated_final/RF_ecfp_scaffold_regression/d450d013-7a25-43ae-bf79-277778780866/model_metadata.json\n",
            "2021-04-06 21:56:32,709 Wrote model metrics to file ampl_output/delaney_curated_final/RF_ecfp_scaffold_regression/d450d013-7a25-43ae-bf79-277778780866/model_metrics.json\n"
          ],
          "name": "stderr"
        },
        {
          "output_type": "stream",
          "text": [
            "Wrote model tarball to ampl_output/delaney_curated_final_model_d450d013-7a25-43ae-bf79-277778780866.tar.gz\n",
            "rf_estimators: 128, rf_max_depth: 128, rf_max_features: 128, valid_r2: -44.84250408105866\n",
            "number of features: 1024\n"
          ],
          "name": "stdout"
        },
        {
          "output_type": "stream",
          "text": [
            "2021-04-06 21:57:40,510 Previous dataset split restored\n"
          ],
          "name": "stderr"
        },
        {
          "output_type": "stream",
          "text": [
            "n_cnt [11292.]\n",
            "y_means [5.16341151]\n",
            "y_stds [0.84529703]\n",
            "TIMING: dataset construction took 0.345 s\n",
            "Loading dataset from disk.\n",
            "TIMING: dataset construction took 0.048 s\n",
            "Loading dataset from disk.\n",
            "TIMING: dataset construction took 0.049 s\n",
            "Loading dataset from disk.\n"
          ],
          "name": "stdout"
        },
        {
          "output_type": "stream",
          "text": [
            "2021-04-06 21:57:50,964 Wrote model metadata to file ampl_output/delaney_curated_final/RF_ecfp_scaffold_regression/8a0d4107-7348-415f-ab78-e40bd103a49d/model_metadata.json\n",
            "2021-04-06 21:57:52,545 Wrote model metrics to file ampl_output/delaney_curated_final/RF_ecfp_scaffold_regression/8a0d4107-7348-415f-ab78-e40bd103a49d/model_metrics.json\n"
          ],
          "name": "stderr"
        },
        {
          "output_type": "stream",
          "text": [
            "Wrote model tarball to ampl_output/delaney_curated_final_model_8a0d4107-7348-415f-ab78-e40bd103a49d.tar.gz\n",
            "rf_estimators: 128, rf_max_depth: 128, rf_max_features: 128, valid_r2: -46.360642094049766\n",
            "number of features: 1024\n"
          ],
          "name": "stdout"
        },
        {
          "output_type": "stream",
          "text": [
            "2021-04-06 21:59:03,191 Previous dataset split restored\n"
          ],
          "name": "stderr"
        },
        {
          "output_type": "stream",
          "text": [
            "n_cnt [11292.]\n",
            "y_means [5.16341151]\n",
            "y_stds [0.84529703]\n",
            "TIMING: dataset construction took 0.390 s\n",
            "Loading dataset from disk.\n",
            "TIMING: dataset construction took 0.067 s\n",
            "Loading dataset from disk.\n",
            "TIMING: dataset construction took 0.067 s\n",
            "Loading dataset from disk.\n"
          ],
          "name": "stdout"
        },
        {
          "output_type": "stream",
          "text": [
            "2021-04-06 21:59:35,806 Wrote model metadata to file ampl_output/delaney_curated_final/RF_ecfp_scaffold_regression/e966a681-9a9f-4102-bb4c-4ead47fdcf36/model_metadata.json\n",
            "2021-04-06 21:59:37,573 Wrote model metrics to file ampl_output/delaney_curated_final/RF_ecfp_scaffold_regression/e966a681-9a9f-4102-bb4c-4ead47fdcf36/model_metrics.json\n"
          ],
          "name": "stderr"
        },
        {
          "output_type": "stream",
          "text": [
            "Wrote model tarball to ampl_output/delaney_curated_final_model_e966a681-9a9f-4102-bb4c-4ead47fdcf36.tar.gz\n",
            "rf_estimators: 128, rf_max_depth: 128, rf_max_features: 128, valid_r2: -47.07736198911932\n",
            "number of features: 1024\n"
          ],
          "name": "stdout"
        },
        {
          "output_type": "stream",
          "text": [
            "2021-04-06 22:00:46,800 Previous dataset split restored\n"
          ],
          "name": "stderr"
        },
        {
          "output_type": "stream",
          "text": [
            "n_cnt [11292.]\n",
            "y_means [5.16341151]\n",
            "y_stds [0.84529703]\n",
            "TIMING: dataset construction took 0.473 s\n",
            "Loading dataset from disk.\n",
            "TIMING: dataset construction took 0.066 s\n",
            "Loading dataset from disk.\n",
            "TIMING: dataset construction took 0.066 s\n",
            "Loading dataset from disk.\n"
          ],
          "name": "stdout"
        },
        {
          "output_type": "stream",
          "text": [
            "2021-04-06 22:01:01,191 Wrote model metadata to file ampl_output/delaney_curated_final/RF_ecfp_scaffold_regression/bf36dbce-224a-4ec5-8718-c36c72a6ecd9/model_metadata.json\n",
            "2021-04-06 22:01:01,592 Wrote model metrics to file ampl_output/delaney_curated_final/RF_ecfp_scaffold_regression/bf36dbce-224a-4ec5-8718-c36c72a6ecd9/model_metrics.json\n"
          ],
          "name": "stderr"
        },
        {
          "output_type": "stream",
          "text": [
            "Wrote model tarball to ampl_output/delaney_curated_final_model_bf36dbce-224a-4ec5-8718-c36c72a6ecd9.tar.gz\n",
            "rf_estimators: 128, rf_max_depth: 128, rf_max_features: 128, valid_r2: -48.783941402417874\n",
            "number of features: 1024\n"
          ],
          "name": "stdout"
        },
        {
          "output_type": "stream",
          "text": [
            "2021-04-06 22:02:12,118 Previous dataset split restored\n"
          ],
          "name": "stderr"
        },
        {
          "output_type": "stream",
          "text": [
            "n_cnt [11292.]\n",
            "y_means [5.16341151]\n",
            "y_stds [0.84529703]\n",
            "TIMING: dataset construction took 0.450 s\n",
            "Loading dataset from disk.\n",
            "TIMING: dataset construction took 0.066 s\n",
            "Loading dataset from disk.\n",
            "TIMING: dataset construction took 0.049 s\n",
            "Loading dataset from disk.\n"
          ],
          "name": "stdout"
        },
        {
          "output_type": "stream",
          "text": [
            "2021-04-06 22:02:23,571 Wrote model metadata to file ampl_output/delaney_curated_final/RF_ecfp_scaffold_regression/06c836dd-77df-4b9e-a206-b3dd0663f9f2/model_metadata.json\n",
            "2021-04-06 22:02:24,154 Wrote model metrics to file ampl_output/delaney_curated_final/RF_ecfp_scaffold_regression/06c836dd-77df-4b9e-a206-b3dd0663f9f2/model_metrics.json\n"
          ],
          "name": "stderr"
        },
        {
          "output_type": "stream",
          "text": [
            "Wrote model tarball to ampl_output/delaney_curated_final_model_06c836dd-77df-4b9e-a206-b3dd0663f9f2.tar.gz\n",
            "rf_estimators: 128, rf_max_depth: 128, rf_max_features: 128, valid_r2: -47.01964003227683\n",
            "number of features: 1024\n"
          ],
          "name": "stdout"
        },
        {
          "output_type": "stream",
          "text": [
            "2021-04-06 22:03:34,582 Previous dataset split restored\n"
          ],
          "name": "stderr"
        },
        {
          "output_type": "stream",
          "text": [
            "n_cnt [11292.]\n",
            "y_means [5.16341151]\n",
            "y_stds [0.84529703]\n",
            "TIMING: dataset construction took 0.348 s\n",
            "Loading dataset from disk.\n",
            "TIMING: dataset construction took 0.071 s\n",
            "Loading dataset from disk.\n",
            "TIMING: dataset construction took 0.066 s\n",
            "Loading dataset from disk.\n"
          ],
          "name": "stdout"
        },
        {
          "output_type": "stream",
          "text": [
            "2021-04-06 22:03:51,827 Wrote model metadata to file ampl_output/delaney_curated_final/RF_ecfp_scaffold_regression/231a3c59-3209-4e31-a248-5fc0e7db9bcb/model_metadata.json\n",
            "2021-04-06 22:03:53,585 Wrote model metrics to file ampl_output/delaney_curated_final/RF_ecfp_scaffold_regression/231a3c59-3209-4e31-a248-5fc0e7db9bcb/model_metrics.json\n"
          ],
          "name": "stderr"
        },
        {
          "output_type": "stream",
          "text": [
            "Wrote model tarball to ampl_output/delaney_curated_final_model_231a3c59-3209-4e31-a248-5fc0e7db9bcb.tar.gz\n",
            "rf_estimators: 128, rf_max_depth: 128, rf_max_features: 128, valid_r2: -45.987014415044854\n",
            "number of features: 1024\n"
          ],
          "name": "stdout"
        },
        {
          "output_type": "stream",
          "text": [
            "2021-04-06 22:05:00,745 Previous dataset split restored\n"
          ],
          "name": "stderr"
        },
        {
          "output_type": "stream",
          "text": [
            "n_cnt [11292.]\n",
            "y_means [5.16341151]\n",
            "y_stds [0.84529703]\n",
            "TIMING: dataset construction took 0.378 s\n",
            "Loading dataset from disk.\n",
            "TIMING: dataset construction took 0.066 s\n",
            "Loading dataset from disk.\n",
            "TIMING: dataset construction took 0.068 s\n",
            "Loading dataset from disk.\n"
          ],
          "name": "stdout"
        },
        {
          "output_type": "stream",
          "text": [
            "2021-04-06 22:05:13,363 Wrote model metadata to file ampl_output/delaney_curated_final/RF_ecfp_scaffold_regression/25639095-73ed-44a0-924d-7d1ffe5d7a13/model_metadata.json\n",
            "2021-04-06 22:05:14,718 Wrote model metrics to file ampl_output/delaney_curated_final/RF_ecfp_scaffold_regression/25639095-73ed-44a0-924d-7d1ffe5d7a13/model_metrics.json\n"
          ],
          "name": "stderr"
        },
        {
          "output_type": "stream",
          "text": [
            "Wrote model tarball to ampl_output/delaney_curated_final_model_25639095-73ed-44a0-924d-7d1ffe5d7a13.tar.gz\n",
            "rf_estimators: 128, rf_max_depth: 128, rf_max_features: 128, valid_r2: -45.876548109171424\n",
            "number of features: 1024\n"
          ],
          "name": "stdout"
        },
        {
          "output_type": "stream",
          "text": [
            "2021-04-06 22:06:23,181 Previous dataset split restored\n"
          ],
          "name": "stderr"
        },
        {
          "output_type": "stream",
          "text": [
            "n_cnt [11292.]\n",
            "y_means [5.16341151]\n",
            "y_stds [0.84529703]\n",
            "TIMING: dataset construction took 0.410 s\n",
            "Loading dataset from disk.\n",
            "TIMING: dataset construction took 0.065 s\n",
            "Loading dataset from disk.\n",
            "TIMING: dataset construction took 0.065 s\n",
            "Loading dataset from disk.\n"
          ],
          "name": "stdout"
        },
        {
          "output_type": "stream",
          "text": [
            "2021-04-06 22:06:36,788 Wrote model metadata to file ampl_output/delaney_curated_final/RF_ecfp_scaffold_regression/6bfe7f18-af14-438c-845e-c3646c236720/model_metadata.json\n",
            "2021-04-06 22:06:37,278 Wrote model metrics to file ampl_output/delaney_curated_final/RF_ecfp_scaffold_regression/6bfe7f18-af14-438c-845e-c3646c236720/model_metrics.json\n"
          ],
          "name": "stderr"
        },
        {
          "output_type": "stream",
          "text": [
            "Wrote model tarball to ampl_output/delaney_curated_final_model_6bfe7f18-af14-438c-845e-c3646c236720.tar.gz\n",
            "rf_estimators: 128, rf_max_depth: 128, rf_max_features: 128, valid_r2: -43.63169894485255\n",
            "number of features: 1024\n"
          ],
          "name": "stdout"
        },
        {
          "output_type": "stream",
          "text": [
            "2021-04-06 22:07:45,634 Previous dataset split restored\n"
          ],
          "name": "stderr"
        },
        {
          "output_type": "stream",
          "text": [
            "n_cnt [11292.]\n",
            "y_means [5.16341151]\n",
            "y_stds [0.84529703]\n",
            "TIMING: dataset construction took 0.344 s\n",
            "Loading dataset from disk.\n",
            "TIMING: dataset construction took 0.050 s\n",
            "Loading dataset from disk.\n",
            "TIMING: dataset construction took 0.054 s\n",
            "Loading dataset from disk.\n"
          ],
          "name": "stdout"
        },
        {
          "output_type": "stream",
          "text": [
            "2021-04-06 22:08:33,226 Wrote model metadata to file ampl_output/delaney_curated_final/RF_ecfp_scaffold_regression/622f7620-ca11-49ae-9f26-115b40bef90d/model_metadata.json\n",
            "2021-04-06 22:08:35,004 Wrote model metrics to file ampl_output/delaney_curated_final/RF_ecfp_scaffold_regression/622f7620-ca11-49ae-9f26-115b40bef90d/model_metrics.json\n"
          ],
          "name": "stderr"
        },
        {
          "output_type": "stream",
          "text": [
            "Wrote model tarball to ampl_output/delaney_curated_final_model_622f7620-ca11-49ae-9f26-115b40bef90d.tar.gz\n",
            "rf_estimators: 128, rf_max_depth: 128, rf_max_features: 128, valid_r2: -48.132881212768524\n",
            "number of features: 1024\n"
          ],
          "name": "stdout"
        },
        {
          "output_type": "stream",
          "text": [
            "2021-04-06 22:09:43,871 Previous dataset split restored\n"
          ],
          "name": "stderr"
        },
        {
          "output_type": "stream",
          "text": [
            "n_cnt [11292.]\n",
            "y_means [5.16341151]\n",
            "y_stds [0.84529703]\n",
            "TIMING: dataset construction took 0.465 s\n",
            "Loading dataset from disk.\n",
            "TIMING: dataset construction took 0.068 s\n",
            "Loading dataset from disk.\n",
            "TIMING: dataset construction took 0.066 s\n",
            "Loading dataset from disk.\n"
          ],
          "name": "stdout"
        },
        {
          "output_type": "stream",
          "text": [
            "2021-04-06 22:10:02,171 Wrote model metadata to file ampl_output/delaney_curated_final/RF_ecfp_scaffold_regression/c0bcbd63-6f66-41df-9de1-bcf0f0a23351/model_metadata.json\n",
            "2021-04-06 22:10:03,728 Wrote model metrics to file ampl_output/delaney_curated_final/RF_ecfp_scaffold_regression/c0bcbd63-6f66-41df-9de1-bcf0f0a23351/model_metrics.json\n"
          ],
          "name": "stderr"
        },
        {
          "output_type": "stream",
          "text": [
            "Wrote model tarball to ampl_output/delaney_curated_final_model_c0bcbd63-6f66-41df-9de1-bcf0f0a23351.tar.gz\n",
            "rf_estimators: 128, rf_max_depth: 128, rf_max_features: 128, valid_r2: -45.59392545092105\n",
            "number of features: 1024\n"
          ],
          "name": "stdout"
        },
        {
          "output_type": "stream",
          "text": [
            "2021-04-06 22:11:13,576 Previous dataset split restored\n"
          ],
          "name": "stderr"
        },
        {
          "output_type": "stream",
          "text": [
            "n_cnt [11292.]\n",
            "y_means [5.16341151]\n",
            "y_stds [0.84529703]\n",
            "TIMING: dataset construction took 0.479 s\n",
            "Loading dataset from disk.\n",
            "TIMING: dataset construction took 0.050 s\n",
            "Loading dataset from disk.\n",
            "TIMING: dataset construction took 0.052 s\n",
            "Loading dataset from disk.\n"
          ],
          "name": "stdout"
        },
        {
          "output_type": "stream",
          "text": [
            "2021-04-06 22:11:24,630 Wrote model metadata to file ampl_output/delaney_curated_final/RF_ecfp_scaffold_regression/fcf3d719-1dc1-4f8d-8b7d-7ff1050eb666/model_metadata.json\n",
            "2021-04-06 22:11:25,586 Wrote model metrics to file ampl_output/delaney_curated_final/RF_ecfp_scaffold_regression/fcf3d719-1dc1-4f8d-8b7d-7ff1050eb666/model_metrics.json\n"
          ],
          "name": "stderr"
        },
        {
          "output_type": "stream",
          "text": [
            "Wrote model tarball to ampl_output/delaney_curated_final_model_fcf3d719-1dc1-4f8d-8b7d-7ff1050eb666.tar.gz\n",
            "rf_estimators: 128, rf_max_depth: 128, rf_max_features: 128, valid_r2: -45.970960689918776\n",
            "number of features: 1024\n"
          ],
          "name": "stdout"
        },
        {
          "output_type": "stream",
          "text": [
            "2021-04-06 22:12:35,251 Previous dataset split restored\n"
          ],
          "name": "stderr"
        },
        {
          "output_type": "stream",
          "text": [
            "n_cnt [11292.]\n",
            "y_means [5.16341151]\n",
            "y_stds [0.84529703]\n",
            "TIMING: dataset construction took 0.484 s\n",
            "Loading dataset from disk.\n",
            "TIMING: dataset construction took 0.068 s\n",
            "Loading dataset from disk.\n",
            "TIMING: dataset construction took 0.066 s\n",
            "Loading dataset from disk.\n"
          ],
          "name": "stdout"
        },
        {
          "output_type": "stream",
          "text": [
            "2021-04-06 22:12:46,797 Wrote model metadata to file ampl_output/delaney_curated_final/RF_ecfp_scaffold_regression/c1d78a3b-8f35-43ab-a862-7675eb3b3eba/model_metadata.json\n",
            "2021-04-06 22:12:47,540 Wrote model metrics to file ampl_output/delaney_curated_final/RF_ecfp_scaffold_regression/c1d78a3b-8f35-43ab-a862-7675eb3b3eba/model_metrics.json\n"
          ],
          "name": "stderr"
        },
        {
          "output_type": "stream",
          "text": [
            "Wrote model tarball to ampl_output/delaney_curated_final_model_c1d78a3b-8f35-43ab-a862-7675eb3b3eba.tar.gz\n",
            "rf_estimators: 128, rf_max_depth: 128, rf_max_features: 128, valid_r2: -45.0965623705853\n",
            "number of features: 1024\n"
          ],
          "name": "stdout"
        },
        {
          "output_type": "stream",
          "text": [
            "2021-04-06 22:13:56,083 Previous dataset split restored\n"
          ],
          "name": "stderr"
        },
        {
          "output_type": "stream",
          "text": [
            "n_cnt [11292.]\n",
            "y_means [5.16341151]\n",
            "y_stds [0.84529703]\n",
            "TIMING: dataset construction took 0.469 s\n",
            "Loading dataset from disk.\n",
            "TIMING: dataset construction took 0.066 s\n",
            "Loading dataset from disk.\n",
            "TIMING: dataset construction took 0.067 s\n",
            "Loading dataset from disk.\n"
          ],
          "name": "stdout"
        },
        {
          "output_type": "stream",
          "text": [
            "2021-04-06 22:14:01,937 Wrote model metadata to file ampl_output/delaney_curated_final/RF_ecfp_scaffold_regression/0aab89d2-1262-40f7-9d02-cbddb04e136e/model_metadata.json\n",
            "2021-04-06 22:14:01,996 Wrote model metrics to file ampl_output/delaney_curated_final/RF_ecfp_scaffold_regression/0aab89d2-1262-40f7-9d02-cbddb04e136e/model_metrics.json\n"
          ],
          "name": "stderr"
        },
        {
          "output_type": "stream",
          "text": [
            "Wrote model tarball to ampl_output/delaney_curated_final_model_0aab89d2-1262-40f7-9d02-cbddb04e136e.tar.gz\n",
            "rf_estimators: 128, rf_max_depth: 128, rf_max_features: 128, valid_r2: -53.6832789162272\n",
            "number of features: 1024\n"
          ],
          "name": "stdout"
        },
        {
          "output_type": "stream",
          "text": [
            "2021-04-06 22:15:12,823 Previous dataset split restored\n"
          ],
          "name": "stderr"
        },
        {
          "output_type": "stream",
          "text": [
            "n_cnt [11292.]\n",
            "y_means [5.16341151]\n",
            "y_stds [0.84529703]\n",
            "TIMING: dataset construction took 0.398 s\n",
            "Loading dataset from disk.\n",
            "TIMING: dataset construction took 0.068 s\n",
            "Loading dataset from disk.\n",
            "TIMING: dataset construction took 0.067 s\n",
            "Loading dataset from disk.\n"
          ],
          "name": "stdout"
        },
        {
          "output_type": "stream",
          "text": [
            "2021-04-06 22:15:36,929 Wrote model metadata to file ampl_output/delaney_curated_final/RF_ecfp_scaffold_regression/b06fee62-3afa-4520-8654-78e70657f9d9/model_metadata.json\n",
            "2021-04-06 22:15:38,303 Wrote model metrics to file ampl_output/delaney_curated_final/RF_ecfp_scaffold_regression/b06fee62-3afa-4520-8654-78e70657f9d9/model_metrics.json\n"
          ],
          "name": "stderr"
        },
        {
          "output_type": "stream",
          "text": [
            "Wrote model tarball to ampl_output/delaney_curated_final_model_b06fee62-3afa-4520-8654-78e70657f9d9.tar.gz\n",
            "rf_estimators: 128, rf_max_depth: 128, rf_max_features: 128, valid_r2: -46.742338939208466\n",
            "number of features: 1024\n"
          ],
          "name": "stdout"
        },
        {
          "output_type": "stream",
          "text": [
            "2021-04-06 22:16:46,513 Previous dataset split restored\n"
          ],
          "name": "stderr"
        },
        {
          "output_type": "stream",
          "text": [
            "n_cnt [11292.]\n",
            "y_means [5.16341151]\n",
            "y_stds [0.84529703]\n",
            "TIMING: dataset construction took 0.477 s\n",
            "Loading dataset from disk.\n",
            "TIMING: dataset construction took 0.064 s\n",
            "Loading dataset from disk.\n",
            "TIMING: dataset construction took 0.083 s\n",
            "Loading dataset from disk.\n"
          ],
          "name": "stdout"
        },
        {
          "output_type": "stream",
          "text": [
            "2021-04-06 22:17:13,068 Wrote model metadata to file ampl_output/delaney_curated_final/RF_ecfp_scaffold_regression/393922dd-5e45-41de-9576-951b56add521/model_metadata.json\n",
            "2021-04-06 22:17:14,682 Wrote model metrics to file ampl_output/delaney_curated_final/RF_ecfp_scaffold_regression/393922dd-5e45-41de-9576-951b56add521/model_metrics.json\n"
          ],
          "name": "stderr"
        },
        {
          "output_type": "stream",
          "text": [
            "Wrote model tarball to ampl_output/delaney_curated_final_model_393922dd-5e45-41de-9576-951b56add521.tar.gz\n",
            "rf_estimators: 128, rf_max_depth: 128, rf_max_features: 128, valid_r2: -47.891394478087925\n",
            "number of features: 1024\n"
          ],
          "name": "stdout"
        },
        {
          "output_type": "stream",
          "text": [
            "2021-04-06 22:18:23,654 Previous dataset split restored\n"
          ],
          "name": "stderr"
        },
        {
          "output_type": "stream",
          "text": [
            "n_cnt [11292.]\n",
            "y_means [5.16341151]\n",
            "y_stds [0.84529703]\n",
            "TIMING: dataset construction took 0.480 s\n",
            "Loading dataset from disk.\n",
            "TIMING: dataset construction took 0.056 s\n",
            "Loading dataset from disk.\n",
            "TIMING: dataset construction took 0.050 s\n",
            "Loading dataset from disk.\n"
          ],
          "name": "stdout"
        },
        {
          "output_type": "stream",
          "text": [
            "2021-04-06 22:18:44,774 Wrote model metadata to file ampl_output/delaney_curated_final/RF_ecfp_scaffold_regression/f2f1c0b5-d4e0-4d1e-9be5-b32f4d8b54ed/model_metadata.json\n",
            "2021-04-06 22:18:45,553 Wrote model metrics to file ampl_output/delaney_curated_final/RF_ecfp_scaffold_regression/f2f1c0b5-d4e0-4d1e-9be5-b32f4d8b54ed/model_metrics.json\n"
          ],
          "name": "stderr"
        },
        {
          "output_type": "stream",
          "text": [
            "Wrote model tarball to ampl_output/delaney_curated_final_model_f2f1c0b5-d4e0-4d1e-9be5-b32f4d8b54ed.tar.gz\n",
            "rf_estimators: 128, rf_max_depth: 128, rf_max_features: 128, valid_r2: -48.58096460302834\n",
            "number of features: 1024\n"
          ],
          "name": "stdout"
        },
        {
          "output_type": "stream",
          "text": [
            "2021-04-06 22:19:52,649 Previous dataset split restored\n"
          ],
          "name": "stderr"
        },
        {
          "output_type": "stream",
          "text": [
            "n_cnt [11292.]\n",
            "y_means [5.16341151]\n",
            "y_stds [0.84529703]\n",
            "TIMING: dataset construction took 0.468 s\n",
            "Loading dataset from disk.\n",
            "TIMING: dataset construction took 0.065 s\n",
            "Loading dataset from disk.\n",
            "TIMING: dataset construction took 0.066 s\n",
            "Loading dataset from disk.\n"
          ],
          "name": "stdout"
        },
        {
          "output_type": "stream",
          "text": [
            "2021-04-06 22:20:13,687 Wrote model metadata to file ampl_output/delaney_curated_final/RF_ecfp_scaffold_regression/beaae223-3c64-4c54-bb15-2cb6f7a1cf18/model_metadata.json\n",
            "2021-04-06 22:20:14,678 Wrote model metrics to file ampl_output/delaney_curated_final/RF_ecfp_scaffold_regression/beaae223-3c64-4c54-bb15-2cb6f7a1cf18/model_metrics.json\n"
          ],
          "name": "stderr"
        },
        {
          "output_type": "stream",
          "text": [
            "Wrote model tarball to ampl_output/delaney_curated_final_model_beaae223-3c64-4c54-bb15-2cb6f7a1cf18.tar.gz\n",
            "rf_estimators: 128, rf_max_depth: 128, rf_max_features: 128, valid_r2: -47.7211313512013\n",
            "number of features: 1024\n"
          ],
          "name": "stdout"
        },
        {
          "output_type": "stream",
          "text": [
            "2021-04-06 22:21:25,982 Previous dataset split restored\n"
          ],
          "name": "stderr"
        },
        {
          "output_type": "stream",
          "text": [
            "n_cnt [11292.]\n",
            "y_means [5.16341151]\n",
            "y_stds [0.84529703]\n",
            "TIMING: dataset construction took 0.468 s\n",
            "Loading dataset from disk.\n",
            "TIMING: dataset construction took 0.066 s\n",
            "Loading dataset from disk.\n",
            "TIMING: dataset construction took 0.068 s\n",
            "Loading dataset from disk.\n"
          ],
          "name": "stdout"
        },
        {
          "output_type": "stream",
          "text": [
            "2021-04-06 22:21:33,034 Wrote model metadata to file ampl_output/delaney_curated_final/RF_ecfp_scaffold_regression/3cbd5545-b452-4d1e-8c50-dceb0513cb11/model_metadata.json\n",
            "2021-04-06 22:21:33,174 Wrote model metrics to file ampl_output/delaney_curated_final/RF_ecfp_scaffold_regression/3cbd5545-b452-4d1e-8c50-dceb0513cb11/model_metrics.json\n"
          ],
          "name": "stderr"
        },
        {
          "output_type": "stream",
          "text": [
            "Wrote model tarball to ampl_output/delaney_curated_final_model_3cbd5545-b452-4d1e-8c50-dceb0513cb11.tar.gz\n",
            "rf_estimators: 128, rf_max_depth: 128, rf_max_features: 128, valid_r2: -50.4476598331196\n",
            "number of features: 1024\n"
          ],
          "name": "stdout"
        },
        {
          "output_type": "stream",
          "text": [
            "2021-04-06 22:22:41,517 Previous dataset split restored\n"
          ],
          "name": "stderr"
        },
        {
          "output_type": "stream",
          "text": [
            "n_cnt [11292.]\n",
            "y_means [5.16341151]\n",
            "y_stds [0.84529703]\n",
            "TIMING: dataset construction took 0.438 s\n",
            "Loading dataset from disk.\n",
            "TIMING: dataset construction took 0.068 s\n",
            "Loading dataset from disk.\n",
            "TIMING: dataset construction took 0.067 s\n",
            "Loading dataset from disk.\n"
          ],
          "name": "stdout"
        },
        {
          "output_type": "stream",
          "text": [
            "2021-04-06 22:23:00,569 Wrote model metadata to file ampl_output/delaney_curated_final/RF_ecfp_scaffold_regression/99db974b-86c6-4fd3-afd9-220fd8244b57/model_metadata.json\n",
            "2021-04-06 22:23:02,478 Wrote model metrics to file ampl_output/delaney_curated_final/RF_ecfp_scaffold_regression/99db974b-86c6-4fd3-afd9-220fd8244b57/model_metrics.json\n"
          ],
          "name": "stderr"
        },
        {
          "output_type": "stream",
          "text": [
            "Wrote model tarball to ampl_output/delaney_curated_final_model_99db974b-86c6-4fd3-afd9-220fd8244b57.tar.gz\n",
            "rf_estimators: 128, rf_max_depth: 128, rf_max_features: 128, valid_r2: -45.73274175589246\n",
            "number of features: 1024\n"
          ],
          "name": "stdout"
        },
        {
          "output_type": "stream",
          "text": [
            "2021-04-06 22:24:12,107 Previous dataset split restored\n"
          ],
          "name": "stderr"
        },
        {
          "output_type": "stream",
          "text": [
            "n_cnt [11292.]\n",
            "y_means [5.16341151]\n",
            "y_stds [0.84529703]\n",
            "TIMING: dataset construction took 0.466 s\n",
            "Loading dataset from disk.\n",
            "TIMING: dataset construction took 0.050 s\n",
            "Loading dataset from disk.\n",
            "TIMING: dataset construction took 0.050 s\n",
            "Loading dataset from disk.\n"
          ],
          "name": "stdout"
        },
        {
          "output_type": "stream",
          "text": [
            "2021-04-06 22:24:33,056 Wrote model metadata to file ampl_output/delaney_curated_final/RF_ecfp_scaffold_regression/19a09667-d5fe-4002-9c0f-0fd11d04bc46/model_metadata.json\n",
            "2021-04-06 22:24:33,900 Wrote model metrics to file ampl_output/delaney_curated_final/RF_ecfp_scaffold_regression/19a09667-d5fe-4002-9c0f-0fd11d04bc46/model_metrics.json\n"
          ],
          "name": "stderr"
        },
        {
          "output_type": "stream",
          "text": [
            "Wrote model tarball to ampl_output/delaney_curated_final_model_19a09667-d5fe-4002-9c0f-0fd11d04bc46.tar.gz\n",
            "rf_estimators: 128, rf_max_depth: 128, rf_max_features: 128, valid_r2: -48.364992817362634\n",
            "number of features: 1024\n"
          ],
          "name": "stdout"
        },
        {
          "output_type": "stream",
          "text": [
            "2021-04-06 22:25:43,214 Previous dataset split restored\n"
          ],
          "name": "stderr"
        },
        {
          "output_type": "stream",
          "text": [
            "n_cnt [11292.]\n",
            "y_means [5.16341151]\n",
            "y_stds [0.84529703]\n",
            "TIMING: dataset construction took 0.429 s\n",
            "Loading dataset from disk.\n",
            "TIMING: dataset construction took 0.065 s\n",
            "Loading dataset from disk.\n",
            "TIMING: dataset construction took 0.053 s\n",
            "Loading dataset from disk.\n"
          ],
          "name": "stdout"
        },
        {
          "output_type": "stream",
          "text": [
            "2021-04-06 22:25:50,683 Wrote model metadata to file ampl_output/delaney_curated_final/RF_ecfp_scaffold_regression/913a0392-fd9e-4f9e-a3fc-afecd50d392f/model_metadata.json\n",
            "2021-04-06 22:25:50,840 Wrote model metrics to file ampl_output/delaney_curated_final/RF_ecfp_scaffold_regression/913a0392-fd9e-4f9e-a3fc-afecd50d392f/model_metrics.json\n"
          ],
          "name": "stderr"
        },
        {
          "output_type": "stream",
          "text": [
            "Wrote model tarball to ampl_output/delaney_curated_final_model_913a0392-fd9e-4f9e-a3fc-afecd50d392f.tar.gz\n",
            "rf_estimators: 128, rf_max_depth: 128, rf_max_features: 128, valid_r2: -43.77334750569215\n",
            "number of features: 1024\n"
          ],
          "name": "stdout"
        },
        {
          "output_type": "stream",
          "text": [
            "2021-04-06 22:27:00,903 Previous dataset split restored\n"
          ],
          "name": "stderr"
        },
        {
          "output_type": "stream",
          "text": [
            "n_cnt [11292.]\n",
            "y_means [5.16341151]\n",
            "y_stds [0.84529703]\n",
            "TIMING: dataset construction took 0.459 s\n",
            "Loading dataset from disk.\n",
            "TIMING: dataset construction took 0.066 s\n",
            "Loading dataset from disk.\n",
            "TIMING: dataset construction took 0.067 s\n",
            "Loading dataset from disk.\n"
          ],
          "name": "stdout"
        },
        {
          "output_type": "stream",
          "text": [
            "2021-04-06 22:27:22,837 Wrote model metadata to file ampl_output/delaney_curated_final/RF_ecfp_scaffold_regression/ca743ce2-32e4-4c81-8c3a-a957fb79cf92/model_metadata.json\n",
            "2021-04-06 22:27:23,281 Wrote model metrics to file ampl_output/delaney_curated_final/RF_ecfp_scaffold_regression/ca743ce2-32e4-4c81-8c3a-a957fb79cf92/model_metrics.json\n"
          ],
          "name": "stderr"
        },
        {
          "output_type": "stream",
          "text": [
            "Wrote model tarball to ampl_output/delaney_curated_final_model_ca743ce2-32e4-4c81-8c3a-a957fb79cf92.tar.gz\n",
            "rf_estimators: 128, rf_max_depth: 128, rf_max_features: 128, valid_r2: -44.128758458120394\n",
            "number of features: 1024\n"
          ],
          "name": "stdout"
        },
        {
          "output_type": "stream",
          "text": [
            "2021-04-06 22:28:33,422 Previous dataset split restored\n"
          ],
          "name": "stderr"
        },
        {
          "output_type": "stream",
          "text": [
            "n_cnt [11292.]\n",
            "y_means [5.16341151]\n",
            "y_stds [0.84529703]\n",
            "TIMING: dataset construction took 0.468 s\n",
            "Loading dataset from disk.\n",
            "TIMING: dataset construction took 0.065 s\n",
            "Loading dataset from disk.\n",
            "TIMING: dataset construction took 0.066 s\n",
            "Loading dataset from disk.\n"
          ],
          "name": "stdout"
        },
        {
          "output_type": "stream",
          "text": [
            "2021-04-06 22:28:56,935 Wrote model metadata to file ampl_output/delaney_curated_final/RF_ecfp_scaffold_regression/52b5ab07-e4bb-49a0-bf09-60ad01afb98a/model_metadata.json\n",
            "2021-04-06 22:28:59,054 Wrote model metrics to file ampl_output/delaney_curated_final/RF_ecfp_scaffold_regression/52b5ab07-e4bb-49a0-bf09-60ad01afb98a/model_metrics.json\n"
          ],
          "name": "stderr"
        },
        {
          "output_type": "stream",
          "text": [
            "Wrote model tarball to ampl_output/delaney_curated_final_model_52b5ab07-e4bb-49a0-bf09-60ad01afb98a.tar.gz\n",
            "rf_estimators: 128, rf_max_depth: 128, rf_max_features: 128, valid_r2: -46.01476525325198\n",
            "number of features: 1024\n"
          ],
          "name": "stdout"
        },
        {
          "output_type": "stream",
          "text": [
            "2021-04-06 22:30:16,902 Previous dataset split restored\n"
          ],
          "name": "stderr"
        },
        {
          "output_type": "stream",
          "text": [
            "n_cnt [11292.]\n",
            "y_means [5.16341151]\n",
            "y_stds [0.84529703]\n",
            "TIMING: dataset construction took 0.427 s\n",
            "Loading dataset from disk.\n",
            "TIMING: dataset construction took 0.068 s\n",
            "Loading dataset from disk.\n",
            "TIMING: dataset construction took 0.065 s\n",
            "Loading dataset from disk.\n"
          ],
          "name": "stdout"
        },
        {
          "output_type": "stream",
          "text": [
            "2021-04-06 22:30:59,886 Wrote model metadata to file ampl_output/delaney_curated_final/RF_ecfp_scaffold_regression/f3ab11b2-d6bf-4590-8f57-d441e2550598/model_metadata.json\n",
            "2021-04-06 22:31:01,439 Wrote model metrics to file ampl_output/delaney_curated_final/RF_ecfp_scaffold_regression/f3ab11b2-d6bf-4590-8f57-d441e2550598/model_metrics.json\n"
          ],
          "name": "stderr"
        },
        {
          "output_type": "stream",
          "text": [
            "Wrote model tarball to ampl_output/delaney_curated_final_model_f3ab11b2-d6bf-4590-8f57-d441e2550598.tar.gz\n",
            "rf_estimators: 128, rf_max_depth: 128, rf_max_features: 128, valid_r2: -49.04571831716853\n",
            "number of features: 1024\n"
          ],
          "name": "stdout"
        },
        {
          "output_type": "stream",
          "text": [
            "2021-04-06 22:32:12,753 Previous dataset split restored\n"
          ],
          "name": "stderr"
        },
        {
          "output_type": "stream",
          "text": [
            "n_cnt [11292.]\n",
            "y_means [5.16341151]\n",
            "y_stds [0.84529703]\n",
            "TIMING: dataset construction took 0.474 s\n",
            "Loading dataset from disk.\n",
            "TIMING: dataset construction took 0.067 s\n",
            "Loading dataset from disk.\n",
            "TIMING: dataset construction took 0.071 s\n",
            "Loading dataset from disk.\n"
          ],
          "name": "stdout"
        },
        {
          "output_type": "stream",
          "text": [
            "2021-04-06 22:32:33,903 Wrote model metadata to file ampl_output/delaney_curated_final/RF_ecfp_scaffold_regression/a61fe281-9044-4533-b766-3b612ea59915/model_metadata.json\n",
            "2021-04-06 22:32:35,323 Wrote model metrics to file ampl_output/delaney_curated_final/RF_ecfp_scaffold_regression/a61fe281-9044-4533-b766-3b612ea59915/model_metrics.json\n"
          ],
          "name": "stderr"
        },
        {
          "output_type": "stream",
          "text": [
            "Wrote model tarball to ampl_output/delaney_curated_final_model_a61fe281-9044-4533-b766-3b612ea59915.tar.gz\n",
            "rf_estimators: 128, rf_max_depth: 128, rf_max_features: 128, valid_r2: -46.14653386902199\n",
            "number of features: 1024\n"
          ],
          "name": "stdout"
        },
        {
          "output_type": "stream",
          "text": [
            "2021-04-06 22:33:44,675 Previous dataset split restored\n"
          ],
          "name": "stderr"
        },
        {
          "output_type": "stream",
          "text": [
            "n_cnt [11292.]\n",
            "y_means [5.16341151]\n",
            "y_stds [0.84529703]\n",
            "TIMING: dataset construction took 0.472 s\n",
            "Loading dataset from disk.\n",
            "TIMING: dataset construction took 0.066 s\n",
            "Loading dataset from disk.\n",
            "TIMING: dataset construction took 0.069 s\n",
            "Loading dataset from disk.\n"
          ],
          "name": "stdout"
        },
        {
          "output_type": "stream",
          "text": [
            "2021-04-06 22:34:03,014 Wrote model metadata to file ampl_output/delaney_curated_final/RF_ecfp_scaffold_regression/6a9cc86e-1f40-45c0-8ecb-eb710beaf67c/model_metadata.json\n",
            "2021-04-06 22:34:03,909 Wrote model metrics to file ampl_output/delaney_curated_final/RF_ecfp_scaffold_regression/6a9cc86e-1f40-45c0-8ecb-eb710beaf67c/model_metrics.json\n"
          ],
          "name": "stderr"
        },
        {
          "output_type": "stream",
          "text": [
            "Wrote model tarball to ampl_output/delaney_curated_final_model_6a9cc86e-1f40-45c0-8ecb-eb710beaf67c.tar.gz\n",
            "rf_estimators: 128, rf_max_depth: 128, rf_max_features: 128, valid_r2: -48.06760042550942\n",
            "number of features: 1024\n"
          ],
          "name": "stdout"
        },
        {
          "output_type": "stream",
          "text": [
            "2021-04-06 22:35:11,727 Previous dataset split restored\n"
          ],
          "name": "stderr"
        },
        {
          "output_type": "stream",
          "text": [
            "n_cnt [11292.]\n",
            "y_means [5.16341151]\n",
            "y_stds [0.84529703]\n",
            "TIMING: dataset construction took 0.382 s\n",
            "Loading dataset from disk.\n",
            "TIMING: dataset construction took 0.066 s\n",
            "Loading dataset from disk.\n",
            "TIMING: dataset construction took 0.067 s\n",
            "Loading dataset from disk.\n"
          ],
          "name": "stdout"
        },
        {
          "output_type": "stream",
          "text": [
            "2021-04-06 22:35:17,194 Wrote model metadata to file ampl_output/delaney_curated_final/RF_ecfp_scaffold_regression/00e9fc61-6960-4483-8354-bd1e000ab01c/model_metadata.json\n",
            "2021-04-06 22:35:17,259 Wrote model metrics to file ampl_output/delaney_curated_final/RF_ecfp_scaffold_regression/00e9fc61-6960-4483-8354-bd1e000ab01c/model_metrics.json\n"
          ],
          "name": "stderr"
        },
        {
          "output_type": "stream",
          "text": [
            "Wrote model tarball to ampl_output/delaney_curated_final_model_00e9fc61-6960-4483-8354-bd1e000ab01c.tar.gz\n",
            "rf_estimators: 128, rf_max_depth: 128, rf_max_features: 128, valid_r2: -54.072362267227874\n",
            "number of features: 1024\n"
          ],
          "name": "stdout"
        },
        {
          "output_type": "stream",
          "text": [
            "2021-04-06 22:36:28,495 Previous dataset split restored\n"
          ],
          "name": "stderr"
        },
        {
          "output_type": "stream",
          "text": [
            "n_cnt [11292.]\n",
            "y_means [5.16341151]\n",
            "y_stds [0.84529703]\n",
            "TIMING: dataset construction took 0.362 s\n",
            "Loading dataset from disk.\n",
            "TIMING: dataset construction took 0.069 s\n",
            "Loading dataset from disk.\n",
            "TIMING: dataset construction took 0.067 s\n",
            "Loading dataset from disk.\n"
          ],
          "name": "stdout"
        },
        {
          "output_type": "stream",
          "text": [
            "2021-04-06 22:36:35,584 Wrote model metadata to file ampl_output/delaney_curated_final/RF_ecfp_scaffold_regression/b2435d09-9a80-4001-b5a3-d7db1d6c9c5f/model_metadata.json\n",
            "2021-04-06 22:36:35,725 Wrote model metrics to file ampl_output/delaney_curated_final/RF_ecfp_scaffold_regression/b2435d09-9a80-4001-b5a3-d7db1d6c9c5f/model_metrics.json\n"
          ],
          "name": "stderr"
        },
        {
          "output_type": "stream",
          "text": [
            "Wrote model tarball to ampl_output/delaney_curated_final_model_b2435d09-9a80-4001-b5a3-d7db1d6c9c5f.tar.gz\n",
            "rf_estimators: 128, rf_max_depth: 128, rf_max_features: 128, valid_r2: -51.85235088367759\n",
            "number of features: 1024\n"
          ],
          "name": "stdout"
        },
        {
          "output_type": "stream",
          "text": [
            "2021-04-06 22:37:46,611 Previous dataset split restored\n"
          ],
          "name": "stderr"
        },
        {
          "output_type": "stream",
          "text": [
            "n_cnt [11292.]\n",
            "y_means [5.16341151]\n",
            "y_stds [0.84529703]\n",
            "TIMING: dataset construction took 0.460 s\n",
            "Loading dataset from disk.\n",
            "TIMING: dataset construction took 0.066 s\n",
            "Loading dataset from disk.\n",
            "TIMING: dataset construction took 0.068 s\n",
            "Loading dataset from disk.\n"
          ],
          "name": "stdout"
        },
        {
          "output_type": "stream",
          "text": [
            "2021-04-06 22:37:50,439 Wrote model metadata to file ampl_output/delaney_curated_final/RF_ecfp_scaffold_regression/e1a96ce9-c427-46ad-b03b-c7f3584e5567/model_metadata.json\n",
            "2021-04-06 22:37:50,507 Wrote model metrics to file ampl_output/delaney_curated_final/RF_ecfp_scaffold_regression/e1a96ce9-c427-46ad-b03b-c7f3584e5567/model_metrics.json\n"
          ],
          "name": "stderr"
        },
        {
          "output_type": "stream",
          "text": [
            "Wrote model tarball to ampl_output/delaney_curated_final_model_e1a96ce9-c427-46ad-b03b-c7f3584e5567.tar.gz\n",
            "rf_estimators: 128, rf_max_depth: 128, rf_max_features: 128, valid_r2: -59.630130907797856\n",
            "number of features: 1024\n"
          ],
          "name": "stdout"
        },
        {
          "output_type": "stream",
          "text": [
            "2021-04-06 22:39:00,027 Previous dataset split restored\n"
          ],
          "name": "stderr"
        },
        {
          "output_type": "stream",
          "text": [
            "n_cnt [11292.]\n",
            "y_means [5.16341151]\n",
            "y_stds [0.84529703]\n",
            "TIMING: dataset construction took 0.478 s\n",
            "Loading dataset from disk.\n",
            "TIMING: dataset construction took 0.066 s\n",
            "Loading dataset from disk.\n",
            "TIMING: dataset construction took 0.068 s\n",
            "Loading dataset from disk.\n"
          ],
          "name": "stdout"
        },
        {
          "output_type": "stream",
          "text": [
            "2021-04-06 22:39:07,707 Wrote model metadata to file ampl_output/delaney_curated_final/RF_ecfp_scaffold_regression/7a1e3057-78e8-4259-a251-b6b4b7a08fce/model_metadata.json\n",
            "2021-04-06 22:39:07,894 Wrote model metrics to file ampl_output/delaney_curated_final/RF_ecfp_scaffold_regression/7a1e3057-78e8-4259-a251-b6b4b7a08fce/model_metrics.json\n"
          ],
          "name": "stderr"
        },
        {
          "output_type": "stream",
          "text": [
            "Wrote model tarball to ampl_output/delaney_curated_final_model_7a1e3057-78e8-4259-a251-b6b4b7a08fce.tar.gz\n",
            "rf_estimators: 128, rf_max_depth: 128, rf_max_features: 128, valid_r2: -49.87762553563834\n",
            "number of features: 1024\n"
          ],
          "name": "stdout"
        },
        {
          "output_type": "stream",
          "text": [
            "2021-04-06 22:40:17,697 Previous dataset split restored\n"
          ],
          "name": "stderr"
        },
        {
          "output_type": "stream",
          "text": [
            "n_cnt [11292.]\n",
            "y_means [5.16341151]\n",
            "y_stds [0.84529703]\n",
            "TIMING: dataset construction took 0.463 s\n",
            "Loading dataset from disk.\n",
            "TIMING: dataset construction took 0.067 s\n",
            "Loading dataset from disk.\n",
            "TIMING: dataset construction took 0.067 s\n",
            "Loading dataset from disk.\n"
          ],
          "name": "stdout"
        },
        {
          "output_type": "stream",
          "text": [
            "2021-04-06 22:40:25,284 Wrote model metadata to file ampl_output/delaney_curated_final/RF_ecfp_scaffold_regression/7d01c220-5ede-432b-ba92-e6a36052d40e/model_metadata.json\n",
            "2021-04-06 22:40:25,409 Wrote model metrics to file ampl_output/delaney_curated_final/RF_ecfp_scaffold_regression/7d01c220-5ede-432b-ba92-e6a36052d40e/model_metrics.json\n"
          ],
          "name": "stderr"
        },
        {
          "output_type": "stream",
          "text": [
            "Wrote model tarball to ampl_output/delaney_curated_final_model_7d01c220-5ede-432b-ba92-e6a36052d40e.tar.gz\n",
            "rf_estimators: 128, rf_max_depth: 128, rf_max_features: 128, valid_r2: -50.12021302449095\n",
            "number of features: 1024\n"
          ],
          "name": "stdout"
        },
        {
          "output_type": "stream",
          "text": [
            "2021-04-06 22:41:35,317 Previous dataset split restored\n"
          ],
          "name": "stderr"
        },
        {
          "output_type": "stream",
          "text": [
            "n_cnt [11292.]\n",
            "y_means [5.16341151]\n",
            "y_stds [0.84529703]\n",
            "TIMING: dataset construction took 0.480 s\n",
            "Loading dataset from disk.\n",
            "TIMING: dataset construction took 0.066 s\n",
            "Loading dataset from disk.\n",
            "TIMING: dataset construction took 0.067 s\n",
            "Loading dataset from disk.\n"
          ],
          "name": "stdout"
        },
        {
          "output_type": "stream",
          "text": [
            "2021-04-06 22:41:50,957 Wrote model metadata to file ampl_output/delaney_curated_final/RF_ecfp_scaffold_regression/dea1c06a-6aae-42b3-a3ac-ced2843cc72b/model_metadata.json\n",
            "2021-04-06 22:41:52,656 Wrote model metrics to file ampl_output/delaney_curated_final/RF_ecfp_scaffold_regression/dea1c06a-6aae-42b3-a3ac-ced2843cc72b/model_metrics.json\n"
          ],
          "name": "stderr"
        },
        {
          "output_type": "stream",
          "text": [
            "Wrote model tarball to ampl_output/delaney_curated_final_model_dea1c06a-6aae-42b3-a3ac-ced2843cc72b.tar.gz\n",
            "rf_estimators: 128, rf_max_depth: 128, rf_max_features: 128, valid_r2: -45.712949632881596\n",
            "number of features: 1024\n"
          ],
          "name": "stdout"
        },
        {
          "output_type": "stream",
          "text": [
            "2021-04-06 22:43:02,806 Previous dataset split restored\n"
          ],
          "name": "stderr"
        },
        {
          "output_type": "stream",
          "text": [
            "n_cnt [11292.]\n",
            "y_means [5.16341151]\n",
            "y_stds [0.84529703]\n",
            "TIMING: dataset construction took 0.472 s\n",
            "Loading dataset from disk.\n",
            "TIMING: dataset construction took 0.068 s\n",
            "Loading dataset from disk.\n",
            "TIMING: dataset construction took 0.067 s\n",
            "Loading dataset from disk.\n"
          ],
          "name": "stdout"
        },
        {
          "output_type": "stream",
          "text": [
            "2021-04-06 22:43:49,817 Wrote model metadata to file ampl_output/delaney_curated_final/RF_ecfp_scaffold_regression/e931a0b3-096a-45fe-b123-a2245f23737f/model_metadata.json\n",
            "2021-04-06 22:43:51,482 Wrote model metrics to file ampl_output/delaney_curated_final/RF_ecfp_scaffold_regression/e931a0b3-096a-45fe-b123-a2245f23737f/model_metrics.json\n"
          ],
          "name": "stderr"
        },
        {
          "output_type": "stream",
          "text": [
            "Wrote model tarball to ampl_output/delaney_curated_final_model_e931a0b3-096a-45fe-b123-a2245f23737f.tar.gz\n",
            "rf_estimators: 128, rf_max_depth: 128, rf_max_features: 128, valid_r2: -48.5263810672758\n",
            "number of features: 1024\n"
          ],
          "name": "stdout"
        },
        {
          "output_type": "stream",
          "text": [
            "2021-04-06 22:45:01,153 Previous dataset split restored\n"
          ],
          "name": "stderr"
        },
        {
          "output_type": "stream",
          "text": [
            "n_cnt [11292.]\n",
            "y_means [5.16341151]\n",
            "y_stds [0.84529703]\n",
            "TIMING: dataset construction took 0.360 s\n",
            "Loading dataset from disk.\n",
            "TIMING: dataset construction took 0.068 s\n",
            "Loading dataset from disk.\n",
            "TIMING: dataset construction took 0.050 s\n",
            "Loading dataset from disk.\n"
          ],
          "name": "stdout"
        },
        {
          "output_type": "stream",
          "text": [
            "2021-04-06 22:45:11,336 Wrote model metadata to file ampl_output/delaney_curated_final/RF_ecfp_scaffold_regression/671cd739-2818-42a2-a9cf-09eae235fa0a/model_metadata.json\n",
            "2021-04-06 22:45:12,244 Wrote model metrics to file ampl_output/delaney_curated_final/RF_ecfp_scaffold_regression/671cd739-2818-42a2-a9cf-09eae235fa0a/model_metrics.json\n"
          ],
          "name": "stderr"
        },
        {
          "output_type": "stream",
          "text": [
            "Wrote model tarball to ampl_output/delaney_curated_final_model_671cd739-2818-42a2-a9cf-09eae235fa0a.tar.gz\n",
            "rf_estimators: 128, rf_max_depth: 128, rf_max_features: 128, valid_r2: -45.86232681227021\n",
            "number of features: 1024\n"
          ],
          "name": "stdout"
        },
        {
          "output_type": "stream",
          "text": [
            "2021-04-06 22:46:21,501 Previous dataset split restored\n"
          ],
          "name": "stderr"
        },
        {
          "output_type": "stream",
          "text": [
            "n_cnt [11292.]\n",
            "y_means [5.16341151]\n",
            "y_stds [0.84529703]\n",
            "TIMING: dataset construction took 0.433 s\n",
            "Loading dataset from disk.\n",
            "TIMING: dataset construction took 0.065 s\n",
            "Loading dataset from disk.\n",
            "TIMING: dataset construction took 0.070 s\n",
            "Loading dataset from disk.\n"
          ],
          "name": "stdout"
        },
        {
          "output_type": "stream",
          "text": [
            "2021-04-06 22:46:32,594 Wrote model metadata to file ampl_output/delaney_curated_final/RF_ecfp_scaffold_regression/bb9d294d-9f9e-439f-8823-347bfda7b7d0/model_metadata.json\n",
            "2021-04-06 22:46:33,883 Wrote model metrics to file ampl_output/delaney_curated_final/RF_ecfp_scaffold_regression/bb9d294d-9f9e-439f-8823-347bfda7b7d0/model_metrics.json\n"
          ],
          "name": "stderr"
        },
        {
          "output_type": "stream",
          "text": [
            "Wrote model tarball to ampl_output/delaney_curated_final_model_bb9d294d-9f9e-439f-8823-347bfda7b7d0.tar.gz\n",
            "rf_estimators: 128, rf_max_depth: 128, rf_max_features: 128, valid_r2: -46.74418843645016\n",
            "number of features: 1024\n"
          ],
          "name": "stdout"
        },
        {
          "output_type": "stream",
          "text": [
            "2021-04-06 22:47:43,468 Previous dataset split restored\n"
          ],
          "name": "stderr"
        },
        {
          "output_type": "stream",
          "text": [
            "n_cnt [11292.]\n",
            "y_means [5.16341151]\n",
            "y_stds [0.84529703]\n",
            "TIMING: dataset construction took 0.472 s\n",
            "Loading dataset from disk.\n",
            "TIMING: dataset construction took 0.067 s\n",
            "Loading dataset from disk.\n",
            "TIMING: dataset construction took 0.069 s\n",
            "Loading dataset from disk.\n"
          ],
          "name": "stdout"
        },
        {
          "output_type": "stream",
          "text": [
            "2021-04-06 22:47:50,607 Wrote model metadata to file ampl_output/delaney_curated_final/RF_ecfp_scaffold_regression/e615e593-0007-4639-953c-3c21a889e2d0/model_metadata.json\n",
            "2021-04-06 22:47:50,625 Wrote model metrics to file ampl_output/delaney_curated_final/RF_ecfp_scaffold_regression/e615e593-0007-4639-953c-3c21a889e2d0/model_metrics.json\n"
          ],
          "name": "stderr"
        },
        {
          "output_type": "stream",
          "text": [
            "Wrote model tarball to ampl_output/delaney_curated_final_model_e615e593-0007-4639-953c-3c21a889e2d0.tar.gz\n",
            "rf_estimators: 128, rf_max_depth: 128, rf_max_features: 128, valid_r2: -44.992661442585366\n",
            "number of features: 1024\n"
          ],
          "name": "stdout"
        },
        {
          "output_type": "stream",
          "text": [
            "2021-04-06 22:49:01,386 Previous dataset split restored\n"
          ],
          "name": "stderr"
        },
        {
          "output_type": "stream",
          "text": [
            "n_cnt [11292.]\n",
            "y_means [5.16341151]\n",
            "y_stds [0.84529703]\n",
            "TIMING: dataset construction took 0.476 s\n",
            "Loading dataset from disk.\n",
            "TIMING: dataset construction took 0.066 s\n",
            "Loading dataset from disk.\n",
            "TIMING: dataset construction took 0.062 s\n",
            "Loading dataset from disk.\n"
          ],
          "name": "stdout"
        },
        {
          "output_type": "stream",
          "text": [
            "2021-04-06 22:49:10,943 Wrote model metadata to file ampl_output/delaney_curated_final/RF_ecfp_scaffold_regression/cbe73770-718d-4fbd-bd4f-473ea58965b5/model_metadata.json\n",
            "2021-04-06 22:49:11,232 Wrote model metrics to file ampl_output/delaney_curated_final/RF_ecfp_scaffold_regression/cbe73770-718d-4fbd-bd4f-473ea58965b5/model_metrics.json\n"
          ],
          "name": "stderr"
        },
        {
          "output_type": "stream",
          "text": [
            "Wrote model tarball to ampl_output/delaney_curated_final_model_cbe73770-718d-4fbd-bd4f-473ea58965b5.tar.gz\n",
            "rf_estimators: 128, rf_max_depth: 128, rf_max_features: 128, valid_r2: -49.97688511191713\n",
            "number of features: 1024\n"
          ],
          "name": "stdout"
        },
        {
          "output_type": "stream",
          "text": [
            "2021-04-06 22:50:21,740 Previous dataset split restored\n"
          ],
          "name": "stderr"
        },
        {
          "output_type": "stream",
          "text": [
            "n_cnt [11292.]\n",
            "y_means [5.16341151]\n",
            "y_stds [0.84529703]\n",
            "TIMING: dataset construction took 0.388 s\n",
            "Loading dataset from disk.\n",
            "TIMING: dataset construction took 0.066 s\n",
            "Loading dataset from disk.\n",
            "TIMING: dataset construction took 0.068 s\n",
            "Loading dataset from disk.\n"
          ],
          "name": "stdout"
        },
        {
          "output_type": "stream",
          "text": [
            "2021-04-06 22:50:48,790 Wrote model metadata to file ampl_output/delaney_curated_final/RF_ecfp_scaffold_regression/4e5215eb-1d1f-421c-8405-32ca0f6dba87/model_metadata.json\n",
            "2021-04-06 22:50:49,751 Wrote model metrics to file ampl_output/delaney_curated_final/RF_ecfp_scaffold_regression/4e5215eb-1d1f-421c-8405-32ca0f6dba87/model_metrics.json\n"
          ],
          "name": "stderr"
        },
        {
          "output_type": "stream",
          "text": [
            "Wrote model tarball to ampl_output/delaney_curated_final_model_4e5215eb-1d1f-421c-8405-32ca0f6dba87.tar.gz\n",
            "rf_estimators: 128, rf_max_depth: 128, rf_max_features: 128, valid_r2: -48.641986616854595\n",
            "number of features: 1024\n"
          ],
          "name": "stdout"
        },
        {
          "output_type": "stream",
          "text": [
            "2021-04-06 22:51:59,341 Previous dataset split restored\n"
          ],
          "name": "stderr"
        },
        {
          "output_type": "stream",
          "text": [
            "n_cnt [11292.]\n",
            "y_means [5.16341151]\n",
            "y_stds [0.84529703]\n",
            "TIMING: dataset construction took 0.469 s\n",
            "Loading dataset from disk.\n",
            "TIMING: dataset construction took 0.066 s\n",
            "Loading dataset from disk.\n",
            "TIMING: dataset construction took 0.065 s\n",
            "Loading dataset from disk.\n"
          ],
          "name": "stdout"
        },
        {
          "output_type": "stream",
          "text": [
            "2021-04-06 22:52:12,830 Wrote model metadata to file ampl_output/delaney_curated_final/RF_ecfp_scaffold_regression/ecb49dcc-9da5-410f-81f5-03b826ecf172/model_metadata.json\n",
            "2021-04-06 22:52:13,933 Wrote model metrics to file ampl_output/delaney_curated_final/RF_ecfp_scaffold_regression/ecb49dcc-9da5-410f-81f5-03b826ecf172/model_metrics.json\n"
          ],
          "name": "stderr"
        },
        {
          "output_type": "stream",
          "text": [
            "Wrote model tarball to ampl_output/delaney_curated_final_model_ecb49dcc-9da5-410f-81f5-03b826ecf172.tar.gz\n",
            "rf_estimators: 128, rf_max_depth: 128, rf_max_features: 128, valid_r2: -45.82904033594186\n"
          ],
          "name": "stdout"
        }
      ]
    },
    {
      "cell_type": "code",
      "metadata": {
        "id": "EP7Oub5L67o_",
        "colab": {
          "base_uri": "https://localhost:8080/",
          "height": 1000
        },
        "outputId": "5daf9814-21bb-4925-9cc0-5be74db08161"
      },
      "source": [
        "perf_df = pd.DataFrame({\"rf_estimators\": rfe_list, \"rf_max_depth\": rfd_list, \"rf_max_features\": rff_list, \"valid_r2_score\": valid_r2_list})\n",
        "perf_df.sort_values(by=\"valid_r2_score\", ascending=False)"
      ],
      "execution_count": 80,
      "outputs": [
        {
          "output_type": "execute_result",
          "data": {
            "text/html": [
              "<div>\n",
              "<style scoped>\n",
              "    .dataframe tbody tr th:only-of-type {\n",
              "        vertical-align: middle;\n",
              "    }\n",
              "\n",
              "    .dataframe tbody tr th {\n",
              "        vertical-align: top;\n",
              "    }\n",
              "\n",
              "    .dataframe thead th {\n",
              "        text-align: right;\n",
              "    }\n",
              "</style>\n",
              "<table border=\"1\" class=\"dataframe\">\n",
              "  <thead>\n",
              "    <tr style=\"text-align: right;\">\n",
              "      <th></th>\n",
              "      <th>rf_estimators</th>\n",
              "      <th>rf_max_depth</th>\n",
              "      <th>rf_max_features</th>\n",
              "      <th>valid_r2_score</th>\n",
              "    </tr>\n",
              "  </thead>\n",
              "  <tbody>\n",
              "    <tr>\n",
              "      <th>9</th>\n",
              "      <td>202</td>\n",
              "      <td>18</td>\n",
              "      <td>114</td>\n",
              "      <td>-43.621869</td>\n",
              "    </tr>\n",
              "    <tr>\n",
              "      <th>18</th>\n",
              "      <td>247</td>\n",
              "      <td>18</td>\n",
              "      <td>60</td>\n",
              "      <td>-43.631699</td>\n",
              "    </tr>\n",
              "    <tr>\n",
              "      <th>31</th>\n",
              "      <td>96</td>\n",
              "      <td>16</td>\n",
              "      <td>72</td>\n",
              "      <td>-43.773348</td>\n",
              "    </tr>\n",
              "    <tr>\n",
              "      <th>32</th>\n",
              "      <td>176</td>\n",
              "      <td>20</td>\n",
              "      <td>174</td>\n",
              "      <td>-44.128758</td>\n",
              "    </tr>\n",
              "    <tr>\n",
              "      <th>11</th>\n",
              "      <td>119</td>\n",
              "      <td>26</td>\n",
              "      <td>41</td>\n",
              "      <td>-44.842504</td>\n",
              "    </tr>\n",
              "    <tr>\n",
              "      <th>46</th>\n",
              "      <td>39</td>\n",
              "      <td>9</td>\n",
              "      <td>248</td>\n",
              "      <td>-44.992661</td>\n",
              "    </tr>\n",
              "    <tr>\n",
              "      <th>22</th>\n",
              "      <td>149</td>\n",
              "      <td>32</td>\n",
              "      <td>56</td>\n",
              "      <td>-45.096562</td>\n",
              "    </tr>\n",
              "    <tr>\n",
              "      <th>20</th>\n",
              "      <td>195</td>\n",
              "      <td>103</td>\n",
              "      <td>66</td>\n",
              "      <td>-45.593925</td>\n",
              "    </tr>\n",
              "    <tr>\n",
              "      <th>42</th>\n",
              "      <td>207</td>\n",
              "      <td>196</td>\n",
              "      <td>40</td>\n",
              "      <td>-45.712950</td>\n",
              "    </tr>\n",
              "    <tr>\n",
              "      <th>29</th>\n",
              "      <td>236</td>\n",
              "      <td>224</td>\n",
              "      <td>52</td>\n",
              "      <td>-45.732742</td>\n",
              "    </tr>\n",
              "    <tr>\n",
              "      <th>49</th>\n",
              "      <td>152</td>\n",
              "      <td>72</td>\n",
              "      <td>53</td>\n",
              "      <td>-45.829040</td>\n",
              "    </tr>\n",
              "    <tr>\n",
              "      <th>44</th>\n",
              "      <td>122</td>\n",
              "      <td>193</td>\n",
              "      <td>42</td>\n",
              "      <td>-45.862327</td>\n",
              "    </tr>\n",
              "    <tr>\n",
              "      <th>17</th>\n",
              "      <td>195</td>\n",
              "      <td>58</td>\n",
              "      <td>32</td>\n",
              "      <td>-45.876548</td>\n",
              "    </tr>\n",
              "    <tr>\n",
              "      <th>21</th>\n",
              "      <td>115</td>\n",
              "      <td>143</td>\n",
              "      <td>53</td>\n",
              "      <td>-45.970961</td>\n",
              "    </tr>\n",
              "    <tr>\n",
              "      <th>16</th>\n",
              "      <td>231</td>\n",
              "      <td>191</td>\n",
              "      <td>46</td>\n",
              "      <td>-45.987014</td>\n",
              "    </tr>\n",
              "    <tr>\n",
              "      <th>33</th>\n",
              "      <td>251</td>\n",
              "      <td>86</td>\n",
              "      <td>71</td>\n",
              "      <td>-46.014765</td>\n",
              "    </tr>\n",
              "    <tr>\n",
              "      <th>35</th>\n",
              "      <td>187</td>\n",
              "      <td>199</td>\n",
              "      <td>88</td>\n",
              "      <td>-46.146534</td>\n",
              "    </tr>\n",
              "    <tr>\n",
              "      <th>12</th>\n",
              "      <td>194</td>\n",
              "      <td>243</td>\n",
              "      <td>15</td>\n",
              "      <td>-46.360642</td>\n",
              "    </tr>\n",
              "    <tr>\n",
              "      <th>10</th>\n",
              "      <td>232</td>\n",
              "      <td>111</td>\n",
              "      <td>11</td>\n",
              "      <td>-46.713847</td>\n",
              "    </tr>\n",
              "    <tr>\n",
              "      <th>24</th>\n",
              "      <td>182</td>\n",
              "      <td>160</td>\n",
              "      <td>117</td>\n",
              "      <td>-46.742339</td>\n",
              "    </tr>\n",
              "    <tr>\n",
              "      <th>45</th>\n",
              "      <td>161</td>\n",
              "      <td>246</td>\n",
              "      <td>30</td>\n",
              "      <td>-46.744188</td>\n",
              "    </tr>\n",
              "    <tr>\n",
              "      <th>15</th>\n",
              "      <td>92</td>\n",
              "      <td>80</td>\n",
              "      <td>81</td>\n",
              "      <td>-47.019640</td>\n",
              "    </tr>\n",
              "    <tr>\n",
              "      <th>13</th>\n",
              "      <td>222</td>\n",
              "      <td>211</td>\n",
              "      <td>141</td>\n",
              "      <td>-47.077362</td>\n",
              "    </tr>\n",
              "    <tr>\n",
              "      <th>4</th>\n",
              "      <td>86</td>\n",
              "      <td>165</td>\n",
              "      <td>88</td>\n",
              "      <td>-47.103716</td>\n",
              "    </tr>\n",
              "    <tr>\n",
              "      <th>6</th>\n",
              "      <td>97</td>\n",
              "      <td>200</td>\n",
              "      <td>127</td>\n",
              "      <td>-47.494157</td>\n",
              "    </tr>\n",
              "    <tr>\n",
              "      <th>27</th>\n",
              "      <td>139</td>\n",
              "      <td>115</td>\n",
              "      <td>134</td>\n",
              "      <td>-47.721131</td>\n",
              "    </tr>\n",
              "    <tr>\n",
              "      <th>25</th>\n",
              "      <td>202</td>\n",
              "      <td>241</td>\n",
              "      <td>119</td>\n",
              "      <td>-47.891394</td>\n",
              "    </tr>\n",
              "    <tr>\n",
              "      <th>0</th>\n",
              "      <td>66</td>\n",
              "      <td>58</td>\n",
              "      <td>170</td>\n",
              "      <td>-48.039880</td>\n",
              "    </tr>\n",
              "    <tr>\n",
              "      <th>36</th>\n",
              "      <td>111</td>\n",
              "      <td>113</td>\n",
              "      <td>141</td>\n",
              "      <td>-48.067600</td>\n",
              "    </tr>\n",
              "    <tr>\n",
              "      <th>19</th>\n",
              "      <td>245</td>\n",
              "      <td>105</td>\n",
              "      <td>211</td>\n",
              "      <td>-48.132881</td>\n",
              "    </tr>\n",
              "    <tr>\n",
              "      <th>8</th>\n",
              "      <td>224</td>\n",
              "      <td>152</td>\n",
              "      <td>224</td>\n",
              "      <td>-48.183612</td>\n",
              "    </tr>\n",
              "    <tr>\n",
              "      <th>5</th>\n",
              "      <td>62</td>\n",
              "      <td>8</td>\n",
              "      <td>15</td>\n",
              "      <td>-48.227287</td>\n",
              "    </tr>\n",
              "    <tr>\n",
              "      <th>2</th>\n",
              "      <td>240</td>\n",
              "      <td>134</td>\n",
              "      <td>247</td>\n",
              "      <td>-48.330201</td>\n",
              "    </tr>\n",
              "    <tr>\n",
              "      <th>30</th>\n",
              "      <td>107</td>\n",
              "      <td>228</td>\n",
              "      <td>185</td>\n",
              "      <td>-48.364993</td>\n",
              "    </tr>\n",
              "    <tr>\n",
              "      <th>43</th>\n",
              "      <td>218</td>\n",
              "      <td>233</td>\n",
              "      <td>236</td>\n",
              "      <td>-48.526381</td>\n",
              "    </tr>\n",
              "    <tr>\n",
              "      <th>7</th>\n",
              "      <td>253</td>\n",
              "      <td>74</td>\n",
              "      <td>252</td>\n",
              "      <td>-48.559236</td>\n",
              "    </tr>\n",
              "    <tr>\n",
              "      <th>26</th>\n",
              "      <td>103</td>\n",
              "      <td>69</td>\n",
              "      <td>200</td>\n",
              "      <td>-48.580965</td>\n",
              "    </tr>\n",
              "    <tr>\n",
              "      <th>48</th>\n",
              "      <td>121</td>\n",
              "      <td>252</td>\n",
              "      <td>225</td>\n",
              "      <td>-48.641987</td>\n",
              "    </tr>\n",
              "    <tr>\n",
              "      <th>1</th>\n",
              "      <td>44</td>\n",
              "      <td>212</td>\n",
              "      <td>123</td>\n",
              "      <td>-48.723650</td>\n",
              "    </tr>\n",
              "    <tr>\n",
              "      <th>14</th>\n",
              "      <td>56</td>\n",
              "      <td>76</td>\n",
              "      <td>230</td>\n",
              "      <td>-48.783941</td>\n",
              "    </tr>\n",
              "    <tr>\n",
              "      <th>34</th>\n",
              "      <td>197</td>\n",
              "      <td>85</td>\n",
              "      <td>235</td>\n",
              "      <td>-49.045718</td>\n",
              "    </tr>\n",
              "    <tr>\n",
              "      <th>3</th>\n",
              "      <td>169</td>\n",
              "      <td>98</td>\n",
              "      <td>254</td>\n",
              "      <td>-49.486187</td>\n",
              "    </tr>\n",
              "    <tr>\n",
              "      <th>40</th>\n",
              "      <td>23</td>\n",
              "      <td>248</td>\n",
              "      <td>215</td>\n",
              "      <td>-49.877626</td>\n",
              "    </tr>\n",
              "    <tr>\n",
              "      <th>47</th>\n",
              "      <td>42</td>\n",
              "      <td>48</td>\n",
              "      <td>170</td>\n",
              "      <td>-49.976885</td>\n",
              "    </tr>\n",
              "    <tr>\n",
              "      <th>41</th>\n",
              "      <td>22</td>\n",
              "      <td>35</td>\n",
              "      <td>252</td>\n",
              "      <td>-50.120213</td>\n",
              "    </tr>\n",
              "    <tr>\n",
              "      <th>28</th>\n",
              "      <td>17</td>\n",
              "      <td>90</td>\n",
              "      <td>225</td>\n",
              "      <td>-50.447660</td>\n",
              "    </tr>\n",
              "    <tr>\n",
              "      <th>38</th>\n",
              "      <td>17</td>\n",
              "      <td>70</td>\n",
              "      <td>250</td>\n",
              "      <td>-51.852351</td>\n",
              "    </tr>\n",
              "    <tr>\n",
              "      <th>23</th>\n",
              "      <td>10</td>\n",
              "      <td>152</td>\n",
              "      <td>249</td>\n",
              "      <td>-53.683279</td>\n",
              "    </tr>\n",
              "    <tr>\n",
              "      <th>37</th>\n",
              "      <td>11</td>\n",
              "      <td>95</td>\n",
              "      <td>214</td>\n",
              "      <td>-54.072362</td>\n",
              "    </tr>\n",
              "    <tr>\n",
              "      <th>39</th>\n",
              "      <td>8</td>\n",
              "      <td>128</td>\n",
              "      <td>38</td>\n",
              "      <td>-59.630131</td>\n",
              "    </tr>\n",
              "  </tbody>\n",
              "</table>\n",
              "</div>"
            ],
            "text/plain": [
              "    rf_estimators  rf_max_depth  rf_max_features  valid_r2_score\n",
              "9             202            18              114      -43.621869\n",
              "18            247            18               60      -43.631699\n",
              "31             96            16               72      -43.773348\n",
              "32            176            20              174      -44.128758\n",
              "11            119            26               41      -44.842504\n",
              "46             39             9              248      -44.992661\n",
              "22            149            32               56      -45.096562\n",
              "20            195           103               66      -45.593925\n",
              "42            207           196               40      -45.712950\n",
              "29            236           224               52      -45.732742\n",
              "49            152            72               53      -45.829040\n",
              "44            122           193               42      -45.862327\n",
              "17            195            58               32      -45.876548\n",
              "21            115           143               53      -45.970961\n",
              "16            231           191               46      -45.987014\n",
              "33            251            86               71      -46.014765\n",
              "35            187           199               88      -46.146534\n",
              "12            194           243               15      -46.360642\n",
              "10            232           111               11      -46.713847\n",
              "24            182           160              117      -46.742339\n",
              "45            161           246               30      -46.744188\n",
              "15             92            80               81      -47.019640\n",
              "13            222           211              141      -47.077362\n",
              "4              86           165               88      -47.103716\n",
              "6              97           200              127      -47.494157\n",
              "27            139           115              134      -47.721131\n",
              "25            202           241              119      -47.891394\n",
              "0              66            58              170      -48.039880\n",
              "36            111           113              141      -48.067600\n",
              "19            245           105              211      -48.132881\n",
              "8             224           152              224      -48.183612\n",
              "5              62             8               15      -48.227287\n",
              "2             240           134              247      -48.330201\n",
              "30            107           228              185      -48.364993\n",
              "43            218           233              236      -48.526381\n",
              "7             253            74              252      -48.559236\n",
              "26            103            69              200      -48.580965\n",
              "48            121           252              225      -48.641987\n",
              "1              44           212              123      -48.723650\n",
              "14             56            76              230      -48.783941\n",
              "34            197            85              235      -49.045718\n",
              "3             169            98              254      -49.486187\n",
              "40             23           248              215      -49.877626\n",
              "47             42            48              170      -49.976885\n",
              "41             22            35              252      -50.120213\n",
              "28             17            90              225      -50.447660\n",
              "38             17            70              250      -51.852351\n",
              "23             10           152              249      -53.683279\n",
              "37             11            95              214      -54.072362\n",
              "39              8           128               38      -59.630131"
            ]
          },
          "metadata": {
            "tags": []
          },
          "execution_count": 80
        }
      ]
    },
    {
      "cell_type": "code",
      "metadata": {
        "id": "hL40_7KF6-BT",
        "colab": {
          "base_uri": "https://localhost:8080/",
          "height": 483
        },
        "outputId": "dd83788a-ad61-4d53-bd07-fe0307500b6f"
      },
      "source": [
        "fig, ax = plt.subplots(1,3,figsize=(21,7))\n",
        "sns.scatterplot(data=perf_df, x=\"rf_estimators\", y=\"valid_r2_score\", ax=ax[0])\n",
        "sns.scatterplot(data=perf_df, x=\"rf_max_depth\", y=\"valid_r2_score\", ax=ax[1])\n",
        "sns.scatterplot(data=perf_df, x=\"rf_max_features\", y=\"valid_r2_score\", ax=ax[2])\n",
        "fig.tight_layout()"
      ],
      "execution_count": 81,
      "outputs": [
        {
          "output_type": "display_data",
          "data": {
            "image/png": "[encoded data removed]",
            "text/plain": [
              "<Figure size 1512x504 with 3 Axes>"
            ]
          },
          "metadata": {
            "tags": []
          }
        }
      ]
    },
    {
      "cell_type": "markdown",
      "metadata": {
        "id": "Za2roo8B7AfH"
      },
      "source": [
        "### Bayesian search"
      ]
    },
    {
      "cell_type": "code",
      "metadata": {
        "id": "iIHILV2R7Fz4"
      },
      "source": [
        "#define loss function\n",
        "def lossfn(p):\n",
        "    params[\"rf_estimators\"] = int(p[\"rf_estimator\"])\n",
        "    params[\"rf_max_depth\"] = int(p[\"rf_depth\"])\n",
        "    params[\"rf_max_features\"] = int(p[\"rf_feature\"])\n",
        "    \n",
        "    tparam = parse.wrapper(params)\n",
        "    pl = mp.ModelPipeline(tparam)\n",
        "    pl.train_model()\n",
        "    perf_data = pl.model_wrapper.get_perf_data(subset=\"valid\", epoch_label=\"best\")\n",
        "    pred_results = perf_data.get_prediction_results()\n",
        "    r2 = pred_results['r2_score']\n",
        "    return {'loss': 1-r2, \n",
        "            'status': STATUS_OK, \n",
        "            'model': tparam.model_tarball_path, \n",
        "            'rf_estimator': params[\"rf_estimators\"],\n",
        "            'rf_depth': params[\"rf_max_depth\"],\n",
        "            'rf_feature': params[\"rf_max_features\"]}\n",
        "\n",
        "space = {\n",
        "    \"rf_estimator\": hp.uniform(\"rf_estimator\", 8, 256),\n",
        "    \"rf_depth\": hp.uniform(\"rf_depth\", 8, 256),\n",
        "    \"rf_feature\": hp.uniform(\"rf_feature\", 8, 256)\n",
        "}"
      ],
      "execution_count": 82,
      "outputs": []
    },
    {
      "cell_type": "code",
      "metadata": {
        "id": "ndFs9n6f7G-Y",
        "colab": {
          "base_uri": "https://localhost:8080/"
        },
        "outputId": "2d73a479-cbd3-44ae-8dbf-ad1e244c6a60"
      },
      "source": [
        "trials = Trials()\n",
        "best = fmin(lossfn, space, algo=tpe.suggest, max_evals=20, trials=trials)"
      ],
      "execution_count": 83,
      "outputs": [
        {
          "output_type": "stream",
          "text": [
            "number of features: 1024\n",
            "  0%|          | 0/20 [01:06<?, ?it/s, best loss: ?]"
          ],
          "name": "stdout"
        },
        {
          "output_type": "stream",
          "text": [
            "2021-04-06 22:53:24,846 Previous dataset split restored\n"
          ],
          "name": "stderr"
        },
        {
          "output_type": "stream",
          "text": [
            "n_cnt\n",
            "[11292.]\n",
            "y_means\n",
            "[5.16341151]\n",
            "y_stds\n",
            "[0.84529703]\n",
            "TIMING: dataset construction took 0.450 s\n",
            "Loading dataset from disk.\n",
            "TIMING: dataset construction took 0.070 s\n",
            "Loading dataset from disk.\n",
            "TIMING: dataset construction took 0.050 s\n",
            "Loading dataset from disk.\n",
            "  0%|          | 0/20 [01:10<?, ?it/s, best loss: ?]"
          ],
          "name": "stdout"
        },
        {
          "output_type": "stream",
          "text": [
            "2021-04-06 22:53:50,610 Wrote model metadata to file ampl_output/delaney_curated_final/RF_ecfp_scaffold_regression/83b058af-9848-4c4f-92a9-6cf34b083b5a/model_metadata.json\n"
          ],
          "name": "stderr"
        },
        {
          "output_type": "stream",
          "text": [
            "Wrote model tarball to ampl_output/delaney_curated_final_model_83b058af-9848-4c4f-92a9-6cf34b083b5a.tar.gz\n",
            "  0%|          | 0/20 [01:36<?, ?it/s, best loss: ?]"
          ],
          "name": "stdout"
        },
        {
          "output_type": "stream",
          "text": [
            "2021-04-06 22:53:51,965 Wrote model metrics to file ampl_output/delaney_curated_final/RF_ecfp_scaffold_regression/83b058af-9848-4c4f-92a9-6cf34b083b5a/model_metrics.json\n"
          ],
          "name": "stderr"
        },
        {
          "output_type": "stream",
          "text": [
            "number of features: 1024\n",
            "  5%|▌         | 1/20 [02:43<30:37, 96.69s/it, best loss: 47.89046776730603]"
          ],
          "name": "stdout"
        },
        {
          "output_type": "stream",
          "text": [
            "2021-04-06 22:55:01,449 Previous dataset split restored\n"
          ],
          "name": "stderr"
        },
        {
          "output_type": "stream",
          "text": [
            "n_cnt\n",
            "[11292.]\n",
            "y_means\n",
            "[5.16341151]\n",
            "y_stds\n",
            "[0.84529703]\n",
            "TIMING: dataset construction took 0.361 s\n",
            "Loading dataset from disk.\n",
            "TIMING: dataset construction took 0.056 s\n",
            "Loading dataset from disk.\n",
            "TIMING: dataset construction took 0.067 s\n",
            "Loading dataset from disk.\n",
            "  5%|▌         | 1/20 [02:47<30:37, 96.69s/it, best loss: 47.89046776730603]"
          ],
          "name": "stdout"
        },
        {
          "output_type": "stream",
          "text": [
            "2021-04-06 22:55:21,744 Wrote model metadata to file ampl_output/delaney_curated_final/RF_ecfp_scaffold_regression/c7eea40c-1492-43c6-95d3-fe169785d30f/model_metadata.json\n"
          ],
          "name": "stderr"
        },
        {
          "output_type": "stream",
          "text": [
            "Wrote model tarball to ampl_output/delaney_curated_final_model_c7eea40c-1492-43c6-95d3-fe169785d30f.tar.gz\n",
            "  5%|▌         | 1/20 [03:07<30:37, 96.69s/it, best loss: 47.89046776730603]"
          ],
          "name": "stdout"
        },
        {
          "output_type": "stream",
          "text": [
            "2021-04-06 22:55:22,317 Wrote model metrics to file ampl_output/delaney_curated_final/RF_ecfp_scaffold_regression/c7eea40c-1492-43c6-95d3-fe169785d30f/model_metrics.json\n"
          ],
          "name": "stderr"
        },
        {
          "output_type": "stream",
          "text": [
            "number of features: 1024\n",
            " 10%|█         | 2/20 [04:14<28:26, 94.79s/it, best loss: 44.758669643985996]"
          ],
          "name": "stdout"
        },
        {
          "output_type": "stream",
          "text": [
            "2021-04-06 22:56:32,892 Previous dataset split restored\n"
          ],
          "name": "stderr"
        },
        {
          "output_type": "stream",
          "text": [
            "n_cnt\n",
            "[11292.]\n",
            "y_means\n",
            "[5.16341151]\n",
            "y_stds\n",
            "[0.84529703]\n",
            "TIMING: dataset construction took 0.473 s\n",
            "Loading dataset from disk.\n",
            "TIMING: dataset construction took 0.049 s\n",
            "Loading dataset from disk.\n",
            "TIMING: dataset construction took 0.051 s\n",
            "Loading dataset from disk.\n",
            " 10%|█         | 2/20 [04:18<28:26, 94.79s/it, best loss: 44.758669643985996]"
          ],
          "name": "stdout"
        },
        {
          "output_type": "stream",
          "text": [
            "2021-04-06 22:57:05,191 Wrote model metadata to file ampl_output/delaney_curated_final/RF_ecfp_scaffold_regression/b4af572f-c05d-4112-b86c-d3347cd9616d/model_metadata.json\n"
          ],
          "name": "stderr"
        },
        {
          "output_type": "stream",
          "text": [
            "Wrote model tarball to ampl_output/delaney_curated_final_model_b4af572f-c05d-4112-b86c-d3347cd9616d.tar.gz\n",
            " 10%|█         | 2/20 [04:51<28:26, 94.79s/it, best loss: 44.758669643985996]"
          ],
          "name": "stdout"
        },
        {
          "output_type": "stream",
          "text": [
            "2021-04-06 22:57:06,675 Wrote model metrics to file ampl_output/delaney_curated_final/RF_ecfp_scaffold_regression/b4af572f-c05d-4112-b86c-d3347cd9616d/model_metrics.json\n"
          ],
          "name": "stderr"
        },
        {
          "output_type": "stream",
          "text": [
            "number of features: 1024\n",
            " 15%|█▌        | 3/20 [05:58<27:40, 97.66s/it, best loss: 44.758669643985996]"
          ],
          "name": "stdout"
        },
        {
          "output_type": "stream",
          "text": [
            "2021-04-06 22:58:16,822 Previous dataset split restored\n"
          ],
          "name": "stderr"
        },
        {
          "output_type": "stream",
          "text": [
            "n_cnt\n",
            "[11292.]\n",
            "y_means\n",
            "[5.16341151]\n",
            "y_stds\n",
            "[0.84529703]\n",
            "TIMING: dataset construction took 0.456 s\n",
            "Loading dataset from disk.\n",
            "TIMING: dataset construction took 0.065 s\n",
            "Loading dataset from disk.\n",
            "TIMING: dataset construction took 0.068 s\n",
            "Loading dataset from disk.\n",
            " 15%|█▌        | 3/20 [06:02<27:40, 97.66s/it, best loss: 44.758669643985996]"
          ],
          "name": "stdout"
        },
        {
          "output_type": "stream",
          "text": [
            "2021-04-06 22:58:30,652 Wrote model metadata to file ampl_output/delaney_curated_final/RF_ecfp_scaffold_regression/6284a531-18fa-474d-a2c6-347c6a61d7bc/model_metadata.json\n"
          ],
          "name": "stderr"
        },
        {
          "output_type": "stream",
          "text": [
            "Wrote model tarball to ampl_output/delaney_curated_final_model_6284a531-18fa-474d-a2c6-347c6a61d7bc.tar.gz\n",
            " 15%|█▌        | 3/20 [06:15<27:40, 97.66s/it, best loss: 44.758669643985996]"
          ],
          "name": "stdout"
        },
        {
          "output_type": "stream",
          "text": [
            "2021-04-06 22:58:31,183 Wrote model metrics to file ampl_output/delaney_curated_final/RF_ecfp_scaffold_regression/6284a531-18fa-474d-a2c6-347c6a61d7bc/model_metrics.json\n"
          ],
          "name": "stderr"
        },
        {
          "output_type": "stream",
          "text": [
            "number of features: 1024\n",
            " 20%|██        | 4/20 [07:21<24:59, 93.71s/it, best loss: 44.758669643985996]"
          ],
          "name": "stdout"
        },
        {
          "output_type": "stream",
          "text": [
            "2021-04-06 22:59:39,574 Previous dataset split restored\n"
          ],
          "name": "stderr"
        },
        {
          "output_type": "stream",
          "text": [
            "n_cnt\n",
            "[11292.]\n",
            "y_means\n",
            "[5.16341151]\n",
            "y_stds\n",
            "[0.84529703]\n",
            "TIMING: dataset construction took 0.355 s\n",
            "Loading dataset from disk.\n",
            "TIMING: dataset construction took 0.066 s\n",
            "Loading dataset from disk.\n",
            "TIMING: dataset construction took 0.051 s\n",
            "Loading dataset from disk.\n",
            " 20%|██        | 4/20 [07:25<24:59, 93.71s/it, best loss: 44.758669643985996]"
          ],
          "name": "stdout"
        },
        {
          "output_type": "stream",
          "text": [
            "2021-04-06 23:00:06,699 Wrote model metadata to file ampl_output/delaney_curated_final/RF_ecfp_scaffold_regression/563944d7-afaf-439b-90c5-1c9b84f108fa/model_metadata.json\n"
          ],
          "name": "stderr"
        },
        {
          "output_type": "stream",
          "text": [
            "Wrote model tarball to ampl_output/delaney_curated_final_model_563944d7-afaf-439b-90c5-1c9b84f108fa.tar.gz\n",
            " 20%|██        | 4/20 [07:52<24:59, 93.71s/it, best loss: 44.758669643985996]"
          ],
          "name": "stdout"
        },
        {
          "output_type": "stream",
          "text": [
            "2021-04-06 23:00:07,869 Wrote model metrics to file ampl_output/delaney_curated_final/RF_ecfp_scaffold_regression/563944d7-afaf-439b-90c5-1c9b84f108fa/model_metrics.json\n"
          ],
          "name": "stderr"
        },
        {
          "output_type": "stream",
          "text": [
            "number of features: 1024\n",
            " 25%|██▌       | 5/20 [08:59<23:39, 94.61s/it, best loss: 44.758669643985996]"
          ],
          "name": "stdout"
        },
        {
          "output_type": "stream",
          "text": [
            "2021-04-06 23:01:17,519 Previous dataset split restored\n"
          ],
          "name": "stderr"
        },
        {
          "output_type": "stream",
          "text": [
            "n_cnt\n",
            "[11292.]\n",
            "y_means\n",
            "[5.16341151]\n",
            "y_stds\n",
            "[0.84529703]\n",
            "TIMING: dataset construction took 0.472 s\n",
            "Loading dataset from disk.\n",
            "TIMING: dataset construction took 0.068 s\n",
            "Loading dataset from disk.\n",
            "TIMING: dataset construction took 0.061 s\n",
            "Loading dataset from disk.\n",
            " 25%|██▌       | 5/20 [09:03<23:39, 94.61s/it, best loss: 44.758669643985996]"
          ],
          "name": "stdout"
        },
        {
          "output_type": "stream",
          "text": [
            "2021-04-06 23:01:34,243 Wrote model metadata to file ampl_output/delaney_curated_final/RF_ecfp_scaffold_regression/3428dcdc-ce34-461d-97e2-e9342d62ff3d/model_metadata.json\n"
          ],
          "name": "stderr"
        },
        {
          "output_type": "stream",
          "text": [
            "Wrote model tarball to ampl_output/delaney_curated_final_model_3428dcdc-ce34-461d-97e2-e9342d62ff3d.tar.gz\n",
            " 25%|██▌       | 5/20 [09:19<23:39, 94.61s/it, best loss: 44.758669643985996]"
          ],
          "name": "stdout"
        },
        {
          "output_type": "stream",
          "text": [
            "2021-04-06 23:01:34,688 Wrote model metrics to file ampl_output/delaney_curated_final/RF_ecfp_scaffold_regression/3428dcdc-ce34-461d-97e2-e9342d62ff3d/model_metrics.json\n"
          ],
          "name": "stderr"
        },
        {
          "output_type": "stream",
          "text": [
            "number of features: 1024\n",
            " 30%|███       | 6/20 [10:26<21:31, 92.27s/it, best loss: 44.758669643985996]"
          ],
          "name": "stdout"
        },
        {
          "output_type": "stream",
          "text": [
            "2021-04-06 23:02:44,656 Previous dataset split restored\n"
          ],
          "name": "stderr"
        },
        {
          "output_type": "stream",
          "text": [
            "n_cnt\n",
            "[11292.]\n",
            "y_means\n",
            "[5.16341151]\n",
            "y_stds\n",
            "[0.84529703]\n",
            "TIMING: dataset construction took 0.458 s\n",
            "Loading dataset from disk.\n",
            "TIMING: dataset construction took 0.050 s\n",
            "Loading dataset from disk.\n",
            "TIMING: dataset construction took 0.051 s\n",
            "Loading dataset from disk.\n",
            " 30%|███       | 6/20 [10:30<21:31, 92.27s/it, best loss: 44.758669643985996]"
          ],
          "name": "stdout"
        },
        {
          "output_type": "stream",
          "text": [
            "2021-04-06 23:03:02,428 Wrote model metadata to file ampl_output/delaney_curated_final/RF_ecfp_scaffold_regression/1e634942-70a7-42c7-b121-442faddf186a/model_metadata.json\n"
          ],
          "name": "stderr"
        },
        {
          "output_type": "stream",
          "text": [
            "Wrote model tarball to ampl_output/delaney_curated_final_model_1e634942-70a7-42c7-b121-442faddf186a.tar.gz\n",
            " 30%|███       | 6/20 [10:47<21:31, 92.27s/it, best loss: 44.758669643985996]"
          ],
          "name": "stdout"
        },
        {
          "output_type": "stream",
          "text": [
            "2021-04-06 23:03:02,725 Wrote model metrics to file ampl_output/delaney_curated_final/RF_ecfp_scaffold_regression/1e634942-70a7-42c7-b121-442faddf186a/model_metrics.json\n"
          ],
          "name": "stderr"
        },
        {
          "output_type": "stream",
          "text": [
            "number of features: 1024\n",
            " 35%|███▌      | 7/20 [11:53<19:43, 91.00s/it, best loss: 44.758669643985996]"
          ],
          "name": "stdout"
        },
        {
          "output_type": "stream",
          "text": [
            "2021-04-06 23:04:11,903 Previous dataset split restored\n"
          ],
          "name": "stderr"
        },
        {
          "output_type": "stream",
          "text": [
            "n_cnt\n",
            "[11292.]\n",
            "y_means\n",
            "[5.16341151]\n",
            "y_stds\n",
            "[0.84529703]\n",
            "TIMING: dataset construction took 0.444 s\n",
            "Loading dataset from disk.\n",
            "TIMING: dataset construction took 0.067 s\n",
            "Loading dataset from disk.\n",
            "TIMING: dataset construction took 0.052 s\n",
            "Loading dataset from disk.\n",
            " 35%|███▌      | 7/20 [11:57<19:43, 91.00s/it, best loss: 44.758669643985996]"
          ],
          "name": "stdout"
        },
        {
          "output_type": "stream",
          "text": [
            "2021-04-06 23:04:24,431 Wrote model metadata to file ampl_output/delaney_curated_final/RF_ecfp_scaffold_regression/790862a2-d15a-4e01-864a-def044245ab9/model_metadata.json\n"
          ],
          "name": "stderr"
        },
        {
          "output_type": "stream",
          "text": [
            "Wrote model tarball to ampl_output/delaney_curated_final_model_790862a2-d15a-4e01-864a-def044245ab9.tar.gz\n",
            " 35%|███▌      | 7/20 [12:10<19:43, 91.00s/it, best loss: 44.758669643985996]"
          ],
          "name": "stdout"
        },
        {
          "output_type": "stream",
          "text": [
            "2021-04-06 23:04:25,968 Wrote model metrics to file ampl_output/delaney_curated_final/RF_ecfp_scaffold_regression/790862a2-d15a-4e01-864a-def044245ab9/model_metrics.json\n"
          ],
          "name": "stderr"
        },
        {
          "output_type": "stream",
          "text": [
            "number of features: 1024\n",
            " 40%|████      | 8/20 [13:15<17:44, 88.67s/it, best loss: 44.758669643985996]"
          ],
          "name": "stdout"
        },
        {
          "output_type": "stream",
          "text": [
            "2021-04-06 23:05:33,799 Previous dataset split restored\n"
          ],
          "name": "stderr"
        },
        {
          "output_type": "stream",
          "text": [
            "n_cnt\n",
            "[11292.]\n",
            "y_means\n",
            "[5.16341151]\n",
            "y_stds\n",
            "[0.84529703]\n",
            "TIMING: dataset construction took 0.391 s\n",
            "Loading dataset from disk.\n",
            "TIMING: dataset construction took 0.053 s\n",
            "Loading dataset from disk.\n",
            "TIMING: dataset construction took 0.068 s\n",
            "Loading dataset from disk.\n",
            " 40%|████      | 8/20 [13:19<17:44, 88.67s/it, best loss: 44.758669643985996]"
          ],
          "name": "stdout"
        },
        {
          "output_type": "stream",
          "text": [
            "2021-04-06 23:05:53,893 Wrote model metadata to file ampl_output/delaney_curated_final/RF_ecfp_scaffold_regression/3621890e-2af8-4575-9439-1eca596b848d/model_metadata.json\n"
          ],
          "name": "stderr"
        },
        {
          "output_type": "stream",
          "text": [
            "Wrote model tarball to ampl_output/delaney_curated_final_model_3621890e-2af8-4575-9439-1eca596b848d.tar.gz\n",
            " 40%|████      | 8/20 [13:39<17:44, 88.67s/it, best loss: 44.758669643985996]"
          ],
          "name": "stdout"
        },
        {
          "output_type": "stream",
          "text": [
            "2021-04-06 23:05:54,894 Wrote model metrics to file ampl_output/delaney_curated_final/RF_ecfp_scaffold_regression/3621890e-2af8-4575-9439-1eca596b848d/model_metrics.json\n"
          ],
          "name": "stderr"
        },
        {
          "output_type": "stream",
          "text": [
            "number of features: 1024\n",
            " 45%|████▌     | 9/20 [14:47<16:16, 88.75s/it, best loss: 44.758669643985996]"
          ],
          "name": "stdout"
        },
        {
          "output_type": "stream",
          "text": [
            "2021-04-06 23:07:05,755 Previous dataset split restored\n"
          ],
          "name": "stderr"
        },
        {
          "output_type": "stream",
          "text": [
            "n_cnt\n",
            "[11292.]\n",
            "y_means\n",
            "[5.16341151]\n",
            "y_stds\n",
            "[0.84529703]\n",
            "TIMING: dataset construction took 0.477 s\n",
            "Loading dataset from disk.\n",
            "TIMING: dataset construction took 0.067 s\n",
            "Loading dataset from disk.\n",
            "TIMING: dataset construction took 0.067 s\n",
            "Loading dataset from disk.\n",
            " 45%|████▌     | 9/20 [14:51<16:16, 88.75s/it, best loss: 44.758669643985996]"
          ],
          "name": "stdout"
        },
        {
          "output_type": "stream",
          "text": [
            "2021-04-06 23:07:16,261 Wrote model metadata to file ampl_output/delaney_curated_final/RF_ecfp_scaffold_regression/bc5521b8-4ea8-4016-ad78-47301df18f96/model_metadata.json\n"
          ],
          "name": "stderr"
        },
        {
          "output_type": "stream",
          "text": [
            "Wrote model tarball to ampl_output/delaney_curated_final_model_bc5521b8-4ea8-4016-ad78-47301df18f96.tar.gz\n",
            " 45%|████▌     | 9/20 [15:01<16:16, 88.75s/it, best loss: 44.758669643985996]"
          ],
          "name": "stdout"
        },
        {
          "output_type": "stream",
          "text": [
            "2021-04-06 23:07:16,411 Wrote model metrics to file ampl_output/delaney_curated_final/RF_ecfp_scaffold_regression/bc5521b8-4ea8-4016-ad78-47301df18f96/model_metrics.json\n"
          ],
          "name": "stderr"
        },
        {
          "output_type": "stream",
          "text": [
            "number of features: 1024\n",
            " 50%|█████     | 10/20 [16:06<14:25, 86.58s/it, best loss: 44.60947385822959]"
          ],
          "name": "stdout"
        },
        {
          "output_type": "stream",
          "text": [
            "2021-04-06 23:08:24,940 Previous dataset split restored\n"
          ],
          "name": "stderr"
        },
        {
          "output_type": "stream",
          "text": [
            "n_cnt\n",
            "[11292.]\n",
            "y_means\n",
            "[5.16341151]\n",
            "y_stds\n",
            "[0.84529703]\n",
            "TIMING: dataset construction took 0.429 s\n",
            "Loading dataset from disk.\n",
            "TIMING: dataset construction took 0.068 s\n",
            "Loading dataset from disk.\n",
            "TIMING: dataset construction took 0.069 s\n",
            "Loading dataset from disk.\n",
            " 50%|█████     | 10/20 [16:10<14:25, 86.58s/it, best loss: 44.60947385822959]"
          ],
          "name": "stdout"
        },
        {
          "output_type": "stream",
          "text": [
            "2021-04-06 23:08:30,069 Wrote model metadata to file ampl_output/delaney_curated_final/RF_ecfp_scaffold_regression/aea86f6f-5b38-44f2-8241-03ba4b9fda75/model_metadata.json\n"
          ],
          "name": "stderr"
        },
        {
          "output_type": "stream",
          "text": [
            "Wrote model tarball to ampl_output/delaney_curated_final_model_aea86f6f-5b38-44f2-8241-03ba4b9fda75.tar.gz\n",
            " 50%|█████     | 10/20 [16:14<14:25, 86.58s/it, best loss: 44.60947385822959]"
          ],
          "name": "stdout"
        },
        {
          "output_type": "stream",
          "text": [
            "2021-04-06 23:08:30,201 Wrote model metrics to file ampl_output/delaney_curated_final/RF_ecfp_scaffold_regression/aea86f6f-5b38-44f2-8241-03ba4b9fda75/model_metrics.json\n"
          ],
          "name": "stderr"
        },
        {
          "output_type": "stream",
          "text": [
            "number of features: 1024\n",
            " 55%|█████▌    | 11/20 [17:20<12:24, 82.74s/it, best loss: 44.60947385822959]"
          ],
          "name": "stdout"
        },
        {
          "output_type": "stream",
          "text": [
            "2021-04-06 23:09:38,702 Previous dataset split restored\n"
          ],
          "name": "stderr"
        },
        {
          "output_type": "stream",
          "text": [
            "n_cnt\n",
            "[11292.]\n",
            "y_means\n",
            "[5.16341151]\n",
            "y_stds\n",
            "[0.84529703]\n",
            "TIMING: dataset construction took 0.439 s\n",
            "Loading dataset from disk.\n",
            "TIMING: dataset construction took 0.068 s\n",
            "Loading dataset from disk.\n",
            "TIMING: dataset construction took 0.068 s\n",
            "Loading dataset from disk.\n",
            " 55%|█████▌    | 11/20 [17:24<12:24, 82.74s/it, best loss: 44.60947385822959]"
          ],
          "name": "stdout"
        },
        {
          "output_type": "stream",
          "text": [
            "2021-04-06 23:09:45,325 Wrote model metadata to file ampl_output/delaney_curated_final/RF_ecfp_scaffold_regression/b6a4e9e0-e254-478e-8d90-0acda423cfab/model_metadata.json\n"
          ],
          "name": "stderr"
        },
        {
          "output_type": "stream",
          "text": [
            "Wrote model tarball to ampl_output/delaney_curated_final_model_b6a4e9e0-e254-478e-8d90-0acda423cfab.tar.gz\n",
            " 55%|█████▌    | 11/20 [17:30<12:24, 82.74s/it, best loss: 44.60947385822959]"
          ],
          "name": "stdout"
        },
        {
          "output_type": "stream",
          "text": [
            "2021-04-06 23:09:45,557 Wrote model metrics to file ampl_output/delaney_curated_final/RF_ecfp_scaffold_regression/b6a4e9e0-e254-478e-8d90-0acda423cfab/model_metrics.json\n"
          ],
          "name": "stderr"
        },
        {
          "output_type": "stream",
          "text": [
            "number of features: 1024\n",
            " 60%|██████    | 12/20 [18:36<10:44, 80.53s/it, best loss: 44.60947385822959]"
          ],
          "name": "stdout"
        },
        {
          "output_type": "stream",
          "text": [
            "2021-04-06 23:10:54,792 Previous dataset split restored\n"
          ],
          "name": "stderr"
        },
        {
          "output_type": "stream",
          "text": [
            "n_cnt\n",
            "[11292.]\n",
            "y_means\n",
            "[5.16341151]\n",
            "y_stds\n",
            "[0.84529703]\n",
            "TIMING: dataset construction took 0.406 s\n",
            "Loading dataset from disk.\n",
            "TIMING: dataset construction took 0.052 s\n",
            "Loading dataset from disk.\n",
            "TIMING: dataset construction took 0.067 s\n",
            "Loading dataset from disk.\n",
            " 60%|██████    | 12/20 [18:40<10:44, 80.53s/it, best loss: 44.60947385822959]"
          ],
          "name": "stdout"
        },
        {
          "output_type": "stream",
          "text": [
            "2021-04-06 23:11:45,463 Wrote model metadata to file ampl_output/delaney_curated_final/RF_ecfp_scaffold_regression/e7881964-e4d6-42cf-beff-e08d1b53f1ed/model_metadata.json\n"
          ],
          "name": "stderr"
        },
        {
          "output_type": "stream",
          "text": [
            "Wrote model tarball to ampl_output/delaney_curated_final_model_e7881964-e4d6-42cf-beff-e08d1b53f1ed.tar.gz\n",
            " 60%|██████    | 12/20 [19:31<10:44, 80.53s/it, best loss: 44.60947385822959]"
          ],
          "name": "stdout"
        },
        {
          "output_type": "stream",
          "text": [
            "2021-04-06 23:11:47,158 Wrote model metrics to file ampl_output/delaney_curated_final/RF_ecfp_scaffold_regression/e7881964-e4d6-42cf-beff-e08d1b53f1ed/model_metrics.json\n"
          ],
          "name": "stderr"
        },
        {
          "output_type": "stream",
          "text": [
            "number of features: 1024\n",
            " 65%|██████▌   | 13/20 [20:38<10:49, 92.85s/it, best loss: 44.60947385822959]"
          ],
          "name": "stdout"
        },
        {
          "output_type": "stream",
          "text": [
            "2021-04-06 23:12:57,102 Previous dataset split restored\n"
          ],
          "name": "stderr"
        },
        {
          "output_type": "stream",
          "text": [
            "n_cnt\n",
            "[11292.]\n",
            "y_means\n",
            "[5.16341151]\n",
            "y_stds\n",
            "[0.84529703]\n",
            "TIMING: dataset construction took 0.415 s\n",
            "Loading dataset from disk.\n",
            "TIMING: dataset construction took 0.066 s\n",
            "Loading dataset from disk.\n",
            "TIMING: dataset construction took 0.072 s\n",
            "Loading dataset from disk.\n",
            " 65%|██████▌   | 13/20 [20:42<10:49, 92.85s/it, best loss: 44.60947385822959]"
          ],
          "name": "stdout"
        },
        {
          "output_type": "stream",
          "text": [
            "2021-04-06 23:13:10,021 Wrote model metadata to file ampl_output/delaney_curated_final/RF_ecfp_scaffold_regression/741ca563-bbe8-4722-ade3-9b3e9df92f46/model_metadata.json\n"
          ],
          "name": "stderr"
        },
        {
          "output_type": "stream",
          "text": [
            "Wrote model tarball to ampl_output/delaney_curated_final_model_741ca563-bbe8-4722-ade3-9b3e9df92f46.tar.gz\n",
            " 65%|██████▌   | 13/20 [20:55<10:49, 92.85s/it, best loss: 44.60947385822959]"
          ],
          "name": "stdout"
        },
        {
          "output_type": "stream",
          "text": [
            "2021-04-06 23:13:11,040 Wrote model metrics to file ampl_output/delaney_curated_final/RF_ecfp_scaffold_regression/741ca563-bbe8-4722-ade3-9b3e9df92f46/model_metrics.json\n"
          ],
          "name": "stderr"
        },
        {
          "output_type": "stream",
          "text": [
            "number of features: 1024\n",
            " 70%|███████   | 14/20 [22:02<09:00, 90.16s/it, best loss: 44.60947385822959]"
          ],
          "name": "stdout"
        },
        {
          "output_type": "stream",
          "text": [
            "2021-04-06 23:14:20,650 Previous dataset split restored\n"
          ],
          "name": "stderr"
        },
        {
          "output_type": "stream",
          "text": [
            "n_cnt\n",
            "[11292.]\n",
            "y_means\n",
            "[5.16341151]\n",
            "y_stds\n",
            "[0.84529703]\n",
            "TIMING: dataset construction took 0.467 s\n",
            "Loading dataset from disk.\n",
            "TIMING: dataset construction took 0.065 s\n",
            "Loading dataset from disk.\n",
            "TIMING: dataset construction took 0.059 s\n",
            "Loading dataset from disk.\n",
            " 70%|███████   | 14/20 [22:06<09:00, 90.16s/it, best loss: 44.60947385822959]"
          ],
          "name": "stdout"
        },
        {
          "output_type": "stream",
          "text": [
            "2021-04-06 23:15:00,327 Wrote model metadata to file ampl_output/delaney_curated_final/RF_ecfp_scaffold_regression/e43e4b05-a8af-4e1b-b61f-cec39d7397a0/model_metadata.json\n"
          ],
          "name": "stderr"
        },
        {
          "output_type": "stream",
          "text": [
            "Wrote model tarball to ampl_output/delaney_curated_final_model_e43e4b05-a8af-4e1b-b61f-cec39d7397a0.tar.gz\n",
            " 70%|███████   | 14/20 [22:46<09:00, 90.16s/it, best loss: 44.60947385822959]"
          ],
          "name": "stdout"
        },
        {
          "output_type": "stream",
          "text": [
            "2021-04-06 23:15:01,491 Wrote model metrics to file ampl_output/delaney_curated_final/RF_ecfp_scaffold_regression/e43e4b05-a8af-4e1b-b61f-cec39d7397a0/model_metrics.json\n"
          ],
          "name": "stderr"
        },
        {
          "output_type": "stream",
          "text": [
            "number of features: 1024\n",
            " 75%|███████▌  | 15/20 [23:52<08:01, 96.25s/it, best loss: 44.60947385822959]"
          ],
          "name": "stdout"
        },
        {
          "output_type": "stream",
          "text": [
            "2021-04-06 23:16:10,980 Previous dataset split restored\n"
          ],
          "name": "stderr"
        },
        {
          "output_type": "stream",
          "text": [
            "n_cnt\n",
            "[11292.]\n",
            "y_means\n",
            "[5.16341151]\n",
            "y_stds\n",
            "[0.84529703]\n",
            "TIMING: dataset construction took 0.465 s\n",
            "Loading dataset from disk.\n",
            "TIMING: dataset construction took 0.069 s\n",
            "Loading dataset from disk.\n",
            "TIMING: dataset construction took 0.071 s\n",
            "Loading dataset from disk.\n",
            " 75%|███████▌  | 15/20 [23:56<08:01, 96.25s/it, best loss: 44.60947385822959]"
          ],
          "name": "stdout"
        },
        {
          "output_type": "stream",
          "text": [
            "2021-04-06 23:16:19,623 Wrote model metadata to file ampl_output/delaney_curated_final/RF_ecfp_scaffold_regression/1e24caae-c53e-4fba-b305-902558258429/model_metadata.json\n"
          ],
          "name": "stderr"
        },
        {
          "output_type": "stream",
          "text": [
            "Wrote model tarball to ampl_output/delaney_curated_final_model_1e24caae-c53e-4fba-b305-902558258429.tar.gz\n",
            " 75%|███████▌  | 15/20 [24:04<08:01, 96.25s/it, best loss: 44.60947385822959]"
          ],
          "name": "stdout"
        },
        {
          "output_type": "stream",
          "text": [
            "2021-04-06 23:16:19,823 Wrote model metrics to file ampl_output/delaney_curated_final/RF_ecfp_scaffold_regression/1e24caae-c53e-4fba-b305-902558258429/model_metrics.json\n"
          ],
          "name": "stderr"
        },
        {
          "output_type": "stream",
          "text": [
            "number of features: 1024\n",
            " 80%|████████  | 16/20 [25:12<06:03, 90.87s/it, best loss: 44.60947385822959]"
          ],
          "name": "stdout"
        },
        {
          "output_type": "stream",
          "text": [
            "2021-04-06 23:17:30,301 Previous dataset split restored\n"
          ],
          "name": "stderr"
        },
        {
          "output_type": "stream",
          "text": [
            "n_cnt\n",
            "[11292.]\n",
            "y_means\n",
            "[5.16341151]\n",
            "y_stds\n",
            "[0.84529703]\n",
            "TIMING: dataset construction took 0.451 s\n",
            "Loading dataset from disk.\n",
            "TIMING: dataset construction took 0.054 s\n",
            "Loading dataset from disk.\n",
            "TIMING: dataset construction took 0.058 s\n",
            "Loading dataset from disk.\n",
            " 80%|████████  | 16/20 [25:16<06:03, 90.87s/it, best loss: 44.60947385822959]"
          ],
          "name": "stdout"
        },
        {
          "output_type": "stream",
          "text": [
            "2021-04-06 23:18:01,260 Wrote model metadata to file ampl_output/delaney_curated_final/RF_ecfp_scaffold_regression/165cba07-ff89-403a-97f5-4c9a332e3b17/model_metadata.json\n"
          ],
          "name": "stderr"
        },
        {
          "output_type": "stream",
          "text": [
            "Wrote model tarball to ampl_output/delaney_curated_final_model_165cba07-ff89-403a-97f5-4c9a332e3b17.tar.gz\n",
            " 80%|████████  | 16/20 [25:47<06:03, 90.87s/it, best loss: 44.60947385822959]"
          ],
          "name": "stdout"
        },
        {
          "output_type": "stream",
          "text": [
            "2021-04-06 23:18:02,837 Wrote model metrics to file ampl_output/delaney_curated_final/RF_ecfp_scaffold_regression/165cba07-ff89-403a-97f5-4c9a332e3b17/model_metrics.json\n"
          ],
          "name": "stderr"
        },
        {
          "output_type": "stream",
          "text": [
            "number of features: 1024\n",
            " 85%|████████▌ | 17/20 [26:52<04:43, 94.52s/it, best loss: 44.60947385822959]"
          ],
          "name": "stdout"
        },
        {
          "output_type": "stream",
          "text": [
            "2021-04-06 23:19:11,091 Previous dataset split restored\n"
          ],
          "name": "stderr"
        },
        {
          "output_type": "stream",
          "text": [
            "n_cnt\n",
            "[11292.]\n",
            "y_means\n",
            "[5.16341151]\n",
            "y_stds\n",
            "[0.84529703]\n",
            "TIMING: dataset construction took 0.479 s\n",
            "Loading dataset from disk.\n",
            "TIMING: dataset construction took 0.070 s\n",
            "Loading dataset from disk.\n",
            "TIMING: dataset construction took 0.066 s\n",
            "Loading dataset from disk.\n",
            " 85%|████████▌ | 17/20 [26:56<04:43, 94.52s/it, best loss: 44.60947385822959]"
          ],
          "name": "stdout"
        },
        {
          "output_type": "stream",
          "text": [
            "2021-04-06 23:19:30,088 Wrote model metadata to file ampl_output/delaney_curated_final/RF_ecfp_scaffold_regression/762a7871-efe3-47e8-8342-20784ff9dbff/model_metadata.json\n"
          ],
          "name": "stderr"
        },
        {
          "output_type": "stream",
          "text": [
            "Wrote model tarball to ampl_output/delaney_curated_final_model_762a7871-efe3-47e8-8342-20784ff9dbff.tar.gz\n",
            " 85%|████████▌ | 17/20 [27:15<04:43, 94.52s/it, best loss: 44.60947385822959]"
          ],
          "name": "stdout"
        },
        {
          "output_type": "stream",
          "text": [
            "2021-04-06 23:19:31,019 Wrote model metrics to file ampl_output/delaney_curated_final/RF_ecfp_scaffold_regression/762a7871-efe3-47e8-8342-20784ff9dbff/model_metrics.json\n"
          ],
          "name": "stderr"
        },
        {
          "output_type": "stream",
          "text": [
            "number of features: 1024\n",
            " 90%|█████████ | 18/20 [28:22<03:05, 92.61s/it, best loss: 44.60947385822959]"
          ],
          "name": "stdout"
        },
        {
          "output_type": "stream",
          "text": [
            "2021-04-06 23:20:41,171 Previous dataset split restored\n"
          ],
          "name": "stderr"
        },
        {
          "output_type": "stream",
          "text": [
            "n_cnt\n",
            "[11292.]\n",
            "y_means\n",
            "[5.16341151]\n",
            "y_stds\n",
            "[0.84529703]\n",
            "TIMING: dataset construction took 0.470 s\n",
            "Loading dataset from disk.\n",
            "TIMING: dataset construction took 0.066 s\n",
            "Loading dataset from disk.\n",
            "TIMING: dataset construction took 0.072 s\n",
            "Loading dataset from disk.\n",
            " 90%|█████████ | 18/20 [28:27<03:05, 92.61s/it, best loss: 44.60947385822959]"
          ],
          "name": "stdout"
        },
        {
          "output_type": "stream",
          "text": [
            "2021-04-06 23:21:16,152 Wrote model metadata to file ampl_output/delaney_curated_final/RF_ecfp_scaffold_regression/0b803c6d-c299-4c1a-b590-35a5ce474181/model_metadata.json\n"
          ],
          "name": "stderr"
        },
        {
          "output_type": "stream",
          "text": [
            "Wrote model tarball to ampl_output/delaney_curated_final_model_0b803c6d-c299-4c1a-b590-35a5ce474181.tar.gz\n",
            " 90%|█████████ | 18/20 [29:02<03:05, 92.61s/it, best loss: 44.60947385822959]"
          ],
          "name": "stdout"
        },
        {
          "output_type": "stream",
          "text": [
            "2021-04-06 23:21:17,601 Wrote model metrics to file ampl_output/delaney_curated_final/RF_ecfp_scaffold_regression/0b803c6d-c299-4c1a-b590-35a5ce474181/model_metrics.json\n"
          ],
          "name": "stderr"
        },
        {
          "output_type": "stream",
          "text": [
            "number of features: 1024\n",
            " 95%|█████████▌| 19/20 [30:10<01:36, 96.81s/it, best loss: 44.60947385822959]"
          ],
          "name": "stdout"
        },
        {
          "output_type": "stream",
          "text": [
            "2021-04-06 23:22:29,871 Previous dataset split restored\n"
          ],
          "name": "stderr"
        },
        {
          "output_type": "stream",
          "text": [
            "n_cnt\n",
            "[11292.]\n",
            "y_means\n",
            "[5.16341151]\n",
            "y_stds\n",
            "[0.84529703]\n",
            "TIMING: dataset construction took 0.593 s\n",
            "Loading dataset from disk.\n",
            "TIMING: dataset construction took 0.099 s\n",
            "Loading dataset from disk.\n",
            "TIMING: dataset construction took 0.129 s\n",
            "Loading dataset from disk.\n",
            " 95%|█████████▌| 19/20 [30:16<01:36, 96.81s/it, best loss: 44.60947385822959]"
          ],
          "name": "stdout"
        },
        {
          "output_type": "stream",
          "text": [
            "2021-04-06 23:22:39,162 Wrote model metadata to file ampl_output/delaney_curated_final/RF_ecfp_scaffold_regression/c4bfa4a3-f27b-4f74-b7d7-22fa6cc92f0e/model_metadata.json\n"
          ],
          "name": "stderr"
        },
        {
          "output_type": "stream",
          "text": [
            "Wrote model tarball to ampl_output/delaney_curated_final_model_c4bfa4a3-f27b-4f74-b7d7-22fa6cc92f0e.tar.gz\n",
            " 95%|█████████▌| 19/20 [30:24<01:36, 96.81s/it, best loss: 44.60947385822959]"
          ],
          "name": "stdout"
        },
        {
          "output_type": "stream",
          "text": [
            "2021-04-06 23:22:39,543 Wrote model metrics to file ampl_output/delaney_curated_final/RF_ecfp_scaffold_regression/c4bfa4a3-f27b-4f74-b7d7-22fa6cc92f0e/model_metrics.json\n"
          ],
          "name": "stderr"
        },
        {
          "output_type": "stream",
          "text": [
            "100%|██████████| 20/20 [30:24<00:00, 91.21s/it, best loss: 44.60947385822959]\n"
          ],
          "name": "stdout"
        }
      ]
    },
    {
      "cell_type": "code",
      "metadata": {
        "id": "sC-LVt3VtPDc",
        "colab": {
          "base_uri": "https://localhost:8080/",
          "height": 635
        },
        "outputId": "87be9536-5f96-420a-c3e1-82974da9c8dc"
      },
      "source": [
        "r2_list = [1-trials.trials[i][\"result\"][\"loss\"] for i in range(len(trials.trials))]\n",
        "fig, ax = plt.subplots(1,1,figsize=(10,10))\n",
        "sns.lineplot(x=list(range(1,len(trials.trials)+1)), y=r2_list, ax=ax)\n",
        "ax.set_ylim(0.2,0.6)"
      ],
      "execution_count": 84,
      "outputs": [
        {
          "output_type": "execute_result",
          "data": {
            "text/plain": [
              "(0.2, 0.6)"
            ]
          },
          "metadata": {
            "tags": []
          },
          "execution_count": 84
        },
        {
          "output_type": "display_data",
          "data": {
            "image/png": "[encoded data removed]",
            "text/plain": [
              "<Figure size 720x720 with 1 Axes>"
            ]
          },
          "metadata": {
            "tags": []
          }
        }
      ]
    },
    {
      "cell_type": "code",
      "metadata": {
        "id": "-2_z-vFLtUYb"
      },
      "source": [
        "rfe_list = [trials.trials[i][\"result\"][\"rf_estimator\"] for i in range(len(trials.trials))]\n",
        "rfd_list = [trials.trials[i][\"result\"][\"rf_depth\"] for i in range(len(trials.trials))]\n",
        "rff_list = [trials.trials[i][\"result\"][\"rf_feature\"] for i in range(len(trials.trials))]"
      ],
      "execution_count": 85,
      "outputs": []
    },
    {
      "cell_type": "code",
      "metadata": {
        "id": "sDMxDhM5tXHa",
        "colab": {
          "base_uri": "https://localhost:8080/",
          "height": 669
        },
        "outputId": "865f466d-be25-41c0-bb6d-cf99ec2c929c"
      },
      "source": [
        "perf_df = pd.DataFrame({\"rf_estimators\": rfe_list, \"rf_max_depth\": rfd_list, \"rf_max_features\": rff_list, \"valid_r2_score\": r2_list})\n",
        "perf_df.sort_values(by=\"valid_r2_score\", ascending=False)"
      ],
      "execution_count": 86,
      "outputs": [
        {
          "output_type": "execute_result",
          "data": {
            "text/html": [
              "<div>\n",
              "<style scoped>\n",
              "    .dataframe tbody tr th:only-of-type {\n",
              "        vertical-align: middle;\n",
              "    }\n",
              "\n",
              "    .dataframe tbody tr th {\n",
              "        vertical-align: top;\n",
              "    }\n",
              "\n",
              "    .dataframe thead th {\n",
              "        text-align: right;\n",
              "    }\n",
              "</style>\n",
              "<table border=\"1\" class=\"dataframe\">\n",
              "  <thead>\n",
              "    <tr style=\"text-align: right;\">\n",
              "      <th></th>\n",
              "      <th>rf_estimators</th>\n",
              "      <th>rf_max_depth</th>\n",
              "      <th>rf_max_features</th>\n",
              "      <th>valid_r2_score</th>\n",
              "    </tr>\n",
              "  </thead>\n",
              "  <tbody>\n",
              "    <tr>\n",
              "      <th>9</th>\n",
              "      <td>100</td>\n",
              "      <td>15</td>\n",
              "      <td>131</td>\n",
              "      <td>-43.609474</td>\n",
              "    </tr>\n",
              "    <tr>\n",
              "      <th>1</th>\n",
              "      <td>191</td>\n",
              "      <td>22</td>\n",
              "      <td>134</td>\n",
              "      <td>-43.758670</td>\n",
              "    </tr>\n",
              "    <tr>\n",
              "      <th>6</th>\n",
              "      <td>144</td>\n",
              "      <td>20</td>\n",
              "      <td>161</td>\n",
              "      <td>-44.040470</td>\n",
              "    </tr>\n",
              "    <tr>\n",
              "      <th>13</th>\n",
              "      <td>157</td>\n",
              "      <td>209</td>\n",
              "      <td>46</td>\n",
              "      <td>-45.415008</td>\n",
              "    </tr>\n",
              "    <tr>\n",
              "      <th>7</th>\n",
              "      <td>209</td>\n",
              "      <td>131</td>\n",
              "      <td>24</td>\n",
              "      <td>-46.262057</td>\n",
              "    </tr>\n",
              "    <tr>\n",
              "      <th>19</th>\n",
              "      <td>50</td>\n",
              "      <td>81</td>\n",
              "      <td>48</td>\n",
              "      <td>-46.330948</td>\n",
              "    </tr>\n",
              "    <tr>\n",
              "      <th>16</th>\n",
              "      <td>224</td>\n",
              "      <td>62</td>\n",
              "      <td>134</td>\n",
              "      <td>-46.747230</td>\n",
              "    </tr>\n",
              "    <tr>\n",
              "      <th>0</th>\n",
              "      <td>189</td>\n",
              "      <td>204</td>\n",
              "      <td>123</td>\n",
              "      <td>-46.890468</td>\n",
              "    </tr>\n",
              "    <tr>\n",
              "      <th>2</th>\n",
              "      <td>209</td>\n",
              "      <td>92</td>\n",
              "      <td>152</td>\n",
              "      <td>-47.076587</td>\n",
              "    </tr>\n",
              "    <tr>\n",
              "      <th>18</th>\n",
              "      <td>198</td>\n",
              "      <td>77</td>\n",
              "      <td>184</td>\n",
              "      <td>-47.166097</td>\n",
              "    </tr>\n",
              "    <tr>\n",
              "      <th>4</th>\n",
              "      <td>150</td>\n",
              "      <td>110</td>\n",
              "      <td>182</td>\n",
              "      <td>-47.620553</td>\n",
              "    </tr>\n",
              "    <tr>\n",
              "      <th>8</th>\n",
              "      <td>136</td>\n",
              "      <td>130</td>\n",
              "      <td>133</td>\n",
              "      <td>-47.834101</td>\n",
              "    </tr>\n",
              "    <tr>\n",
              "      <th>17</th>\n",
              "      <td>114</td>\n",
              "      <td>205</td>\n",
              "      <td>149</td>\n",
              "      <td>-48.089854</td>\n",
              "    </tr>\n",
              "    <tr>\n",
              "      <th>14</th>\n",
              "      <td>180</td>\n",
              "      <td>154</td>\n",
              "      <td>244</td>\n",
              "      <td>-48.265651</td>\n",
              "    </tr>\n",
              "    <tr>\n",
              "      <th>5</th>\n",
              "      <td>63</td>\n",
              "      <td>254</td>\n",
              "      <td>247</td>\n",
              "      <td>-48.375294</td>\n",
              "    </tr>\n",
              "    <tr>\n",
              "      <th>12</th>\n",
              "      <td>251</td>\n",
              "      <td>119</td>\n",
              "      <td>223</td>\n",
              "      <td>-48.521828</td>\n",
              "    </tr>\n",
              "    <tr>\n",
              "      <th>3</th>\n",
              "      <td>74</td>\n",
              "      <td>61</td>\n",
              "      <td>154</td>\n",
              "      <td>-48.529736</td>\n",
              "    </tr>\n",
              "    <tr>\n",
              "      <th>11</th>\n",
              "      <td>27</td>\n",
              "      <td>195</td>\n",
              "      <td>121</td>\n",
              "      <td>-50.543749</td>\n",
              "    </tr>\n",
              "    <tr>\n",
              "      <th>15</th>\n",
              "      <td>24</td>\n",
              "      <td>78</td>\n",
              "      <td>246</td>\n",
              "      <td>-51.132506</td>\n",
              "    </tr>\n",
              "    <tr>\n",
              "      <th>10</th>\n",
              "      <td>15</td>\n",
              "      <td>79</td>\n",
              "      <td>104</td>\n",
              "      <td>-51.795383</td>\n",
              "    </tr>\n",
              "  </tbody>\n",
              "</table>\n",
              "</div>"
            ],
            "text/plain": [
              "    rf_estimators  rf_max_depth  rf_max_features  valid_r2_score\n",
              "9             100            15              131      -43.609474\n",
              "1             191            22              134      -43.758670\n",
              "6             144            20              161      -44.040470\n",
              "13            157           209               46      -45.415008\n",
              "7             209           131               24      -46.262057\n",
              "19             50            81               48      -46.330948\n",
              "16            224            62              134      -46.747230\n",
              "0             189           204              123      -46.890468\n",
              "2             209            92              152      -47.076587\n",
              "18            198            77              184      -47.166097\n",
              "4             150           110              182      -47.620553\n",
              "8             136           130              133      -47.834101\n",
              "17            114           205              149      -48.089854\n",
              "14            180           154              244      -48.265651\n",
              "5              63           254              247      -48.375294\n",
              "12            251           119              223      -48.521828\n",
              "3              74            61              154      -48.529736\n",
              "11             27           195              121      -50.543749\n",
              "15             24            78              246      -51.132506\n",
              "10             15            79              104      -51.795383"
            ]
          },
          "metadata": {
            "tags": []
          },
          "execution_count": 86
        }
      ]
    },
    {
      "cell_type": "markdown",
      "metadata": {
        "id": "XB0K5BimtYDS"
      },
      "source": [
        "#### Save Bayesian optimization trial object and continue later"
      ]
    },
    {
      "cell_type": "code",
      "metadata": {
        "id": "VzXDDEF_r8h8"
      },
      "source": [
        "# save the trial object\n",
        "trial_file = os.path.join(\"hp_trial.pkl\")\n",
        "with open(trial_file, \"wb\") as f:\n",
        "    pickle.dump(trials, f)"
      ],
      "execution_count": 87,
      "outputs": []
    },
    {
      "cell_type": "code",
      "metadata": {
        "id": "jSWVhsjfsINl"
      },
      "source": [
        "# load the trial object\n",
        "with open(trial_file, \"rb\") as f:\n",
        "    new_trials = pickle.load(f)"
      ],
      "execution_count": 88,
      "outputs": []
    },
    {
      "cell_type": "code",
      "metadata": {
        "id": "IXcOynF7sLMn",
        "colab": {
          "base_uri": "https://localhost:8080/"
        },
        "outputId": "060b9128-1dcb-4d45-d1e0-84fc3c00676a"
      },
      "source": [
        "# continue HPO\n",
        "best = fmin(lossfn, space, algo=tpe.suggest, max_evals=50, trials=new_trials)"
      ],
      "execution_count": 89,
      "outputs": [
        {
          "output_type": "stream",
          "text": [
            "number of features: 1024\n",
            "  0%|          | 0/30 [01:07<?, ?it/s, best loss: ?]"
          ],
          "name": "stdout"
        },
        {
          "output_type": "stream",
          "text": [
            "2021-04-06 23:23:50,309 Previous dataset split restored\n"
          ],
          "name": "stderr"
        },
        {
          "output_type": "stream",
          "text": [
            "n_cnt\n",
            "[11292.]\n",
            "y_means\n",
            "[5.16341151]\n",
            "y_stds\n",
            "[0.84529703]\n",
            "TIMING: dataset construction took 0.426 s\n",
            "Loading dataset from disk.\n",
            "TIMING: dataset construction took 0.067 s\n",
            "Loading dataset from disk.\n",
            "TIMING: dataset construction took 0.066 s\n",
            "Loading dataset from disk.\n",
            "  0%|          | 0/30 [01:10<?, ?it/s, best loss: ?]"
          ],
          "name": "stdout"
        },
        {
          "output_type": "stream",
          "text": [
            "2021-04-06 23:23:58,157 Wrote model metadata to file ampl_output/delaney_curated_final/RF_ecfp_scaffold_regression/18502331-0a1f-4072-92a3-2c2e248c6d82/model_metadata.json\n"
          ],
          "name": "stderr"
        },
        {
          "output_type": "stream",
          "text": [
            "Wrote model tarball to ampl_output/delaney_curated_final_model_18502331-0a1f-4072-92a3-2c2e248c6d82.tar.gz\n",
            "  0%|          | 0/30 [01:17<?, ?it/s, best loss: ?]"
          ],
          "name": "stdout"
        },
        {
          "output_type": "stream",
          "text": [
            "2021-04-06 23:23:58,208 Wrote model metrics to file ampl_output/delaney_curated_final/RF_ecfp_scaffold_regression/18502331-0a1f-4072-92a3-2c2e248c6d82/model_metrics.json\n"
          ],
          "name": "stderr"
        },
        {
          "output_type": "stream",
          "text": [
            "number of features: 1024\n",
            "  3%|▎         | 1/30 [02:23<37:39, 77.91s/it, best loss: 44.60947385822959]"
          ],
          "name": "stdout"
        },
        {
          "output_type": "stream",
          "text": [
            "2021-04-06 23:25:06,705 Previous dataset split restored\n"
          ],
          "name": "stderr"
        },
        {
          "output_type": "stream",
          "text": [
            "n_cnt\n",
            "[11292.]\n",
            "y_means\n",
            "[5.16341151]\n",
            "y_stds\n",
            "[0.84529703]\n",
            "TIMING: dataset construction took 0.475 s\n",
            "Loading dataset from disk.\n",
            "TIMING: dataset construction took 0.066 s\n",
            "Loading dataset from disk.\n",
            "TIMING: dataset construction took 0.076 s\n",
            "Loading dataset from disk.\n",
            "  3%|▎         | 1/30 [02:27<37:39, 77.91s/it, best loss: 44.60947385822959]"
          ],
          "name": "stdout"
        },
        {
          "output_type": "stream",
          "text": [
            "2021-04-06 23:25:28,906 Wrote model metadata to file ampl_output/delaney_curated_final/RF_ecfp_scaffold_regression/7dd43367-152b-4122-aeb0-21668aa98bb0/model_metadata.json\n"
          ],
          "name": "stderr"
        },
        {
          "output_type": "stream",
          "text": [
            "Wrote model tarball to ampl_output/delaney_curated_final_model_7dd43367-152b-4122-aeb0-21668aa98bb0.tar.gz\n",
            "  3%|▎         | 1/30 [02:50<37:39, 77.91s/it, best loss: 44.60947385822959]"
          ],
          "name": "stdout"
        },
        {
          "output_type": "stream",
          "text": [
            "2021-04-06 23:25:30,378 Wrote model metrics to file ampl_output/delaney_curated_final/RF_ecfp_scaffold_regression/7dd43367-152b-4122-aeb0-21668aa98bb0/model_metrics.json\n"
          ],
          "name": "stderr"
        },
        {
          "output_type": "stream",
          "text": [
            "number of features: 1024\n",
            "  7%|▋         | 2/30 [03:56<38:21, 82.19s/it, best loss: 44.60947385822959]"
          ],
          "name": "stdout"
        },
        {
          "output_type": "stream",
          "text": [
            "2021-04-06 23:26:40,024 Previous dataset split restored\n"
          ],
          "name": "stderr"
        },
        {
          "output_type": "stream",
          "text": [
            "n_cnt\n",
            "[11292.]\n",
            "y_means\n",
            "[5.16341151]\n",
            "y_stds\n",
            "[0.84529703]\n",
            "TIMING: dataset construction took 0.477 s\n",
            "Loading dataset from disk.\n",
            "TIMING: dataset construction took 0.072 s\n",
            "Loading dataset from disk.\n",
            "TIMING: dataset construction took 0.066 s\n",
            "Loading dataset from disk.\n",
            "  7%|▋         | 2/30 [04:00<38:21, 82.19s/it, best loss: 44.60947385822959]"
          ],
          "name": "stdout"
        },
        {
          "output_type": "stream",
          "text": [
            "2021-04-06 23:26:58,080 Wrote model metadata to file ampl_output/delaney_curated_final/RF_ecfp_scaffold_regression/cbdb3df1-7999-40fd-9f97-017ae3f3f6f3/model_metadata.json\n"
          ],
          "name": "stderr"
        },
        {
          "output_type": "stream",
          "text": [
            "Wrote model tarball to ampl_output/delaney_curated_final_model_cbdb3df1-7999-40fd-9f97-017ae3f3f6f3.tar.gz\n",
            "  7%|▋         | 2/30 [04:18<38:21, 82.19s/it, best loss: 44.60947385822959]"
          ],
          "name": "stdout"
        },
        {
          "output_type": "stream",
          "text": [
            "2021-04-06 23:26:58,554 Wrote model metrics to file ampl_output/delaney_curated_final/RF_ecfp_scaffold_regression/cbdb3df1-7999-40fd-9f97-017ae3f3f6f3/model_metrics.json\n"
          ],
          "name": "stderr"
        },
        {
          "output_type": "stream",
          "text": [
            "number of features: 1024\n",
            " 10%|█         | 3/30 [05:25<37:47, 83.98s/it, best loss: 44.60947385822959]"
          ],
          "name": "stdout"
        },
        {
          "output_type": "stream",
          "text": [
            "2021-04-06 23:28:08,860 Previous dataset split restored\n"
          ],
          "name": "stderr"
        },
        {
          "output_type": "stream",
          "text": [
            "n_cnt\n",
            "[11292.]\n",
            "y_means\n",
            "[5.16341151]\n",
            "y_stds\n",
            "[0.84529703]\n",
            "TIMING: dataset construction took 0.388 s\n",
            "Loading dataset from disk.\n",
            "TIMING: dataset construction took 0.067 s\n",
            "Loading dataset from disk.\n",
            "TIMING: dataset construction took 0.064 s\n",
            "Loading dataset from disk.\n",
            " 10%|█         | 3/30 [05:29<37:47, 83.98s/it, best loss: 44.60947385822959]"
          ],
          "name": "stdout"
        },
        {
          "output_type": "stream",
          "text": [
            "2021-04-06 23:28:29,418 Wrote model metadata to file ampl_output/delaney_curated_final/RF_ecfp_scaffold_regression/65b02ee1-9cc2-424c-bfc8-b3cd28b3aac3/model_metadata.json\n"
          ],
          "name": "stderr"
        },
        {
          "output_type": "stream",
          "text": [
            "Wrote model tarball to ampl_output/delaney_curated_final_model_65b02ee1-9cc2-424c-bfc8-b3cd28b3aac3.tar.gz\n",
            " 10%|█         | 3/30 [05:50<37:47, 83.98s/it, best loss: 44.60947385822959]"
          ],
          "name": "stdout"
        },
        {
          "output_type": "stream",
          "text": [
            "2021-04-06 23:28:30,470 Wrote model metrics to file ampl_output/delaney_curated_final/RF_ecfp_scaffold_regression/65b02ee1-9cc2-424c-bfc8-b3cd28b3aac3/model_metrics.json\n"
          ],
          "name": "stderr"
        },
        {
          "output_type": "stream",
          "text": [
            "number of features: 1024\n",
            " 13%|█▎        | 4/30 [06:56<37:25, 86.36s/it, best loss: 44.60947385822959]"
          ],
          "name": "stdout"
        },
        {
          "output_type": "stream",
          "text": [
            "2021-04-06 23:29:39,428 Previous dataset split restored\n"
          ],
          "name": "stderr"
        },
        {
          "output_type": "stream",
          "text": [
            "n_cnt\n",
            "[11292.]\n",
            "y_means\n",
            "[5.16341151]\n",
            "y_stds\n",
            "[0.84529703]\n",
            "TIMING: dataset construction took 0.478 s\n",
            "Loading dataset from disk.\n",
            "TIMING: dataset construction took 0.069 s\n",
            "Loading dataset from disk.\n",
            "TIMING: dataset construction took 0.072 s\n",
            "Loading dataset from disk.\n",
            " 13%|█▎        | 4/30 [07:00<37:25, 86.36s/it, best loss: 44.60947385822959]"
          ],
          "name": "stdout"
        },
        {
          "output_type": "stream",
          "text": [
            "2021-04-06 23:29:47,399 Wrote model metadata to file ampl_output/delaney_curated_final/RF_ecfp_scaffold_regression/9f13a7db-2097-42b1-b538-f31f78e1b503/model_metadata.json\n"
          ],
          "name": "stderr"
        },
        {
          "output_type": "stream",
          "text": [
            "Wrote model tarball to ampl_output/delaney_curated_final_model_9f13a7db-2097-42b1-b538-f31f78e1b503.tar.gz\n",
            " 13%|█▎        | 4/30 [07:07<37:25, 86.36s/it, best loss: 44.60947385822959]"
          ],
          "name": "stdout"
        },
        {
          "output_type": "stream",
          "text": [
            "2021-04-06 23:29:47,475 Wrote model metrics to file ampl_output/delaney_curated_final/RF_ecfp_scaffold_regression/9f13a7db-2097-42b1-b538-f31f78e1b503/model_metrics.json\n"
          ],
          "name": "stderr"
        },
        {
          "output_type": "stream",
          "text": [
            "number of features: 1024\n",
            " 17%|█▋        | 5/30 [08:13<34:48, 83.56s/it, best loss: 44.60947385822959]"
          ],
          "name": "stdout"
        },
        {
          "output_type": "stream",
          "text": [
            "2021-04-06 23:30:56,792 Previous dataset split restored\n"
          ],
          "name": "stderr"
        },
        {
          "output_type": "stream",
          "text": [
            "n_cnt\n",
            "[11292.]\n",
            "y_means\n",
            "[5.16341151]\n",
            "y_stds\n",
            "[0.84529703]\n",
            "TIMING: dataset construction took 0.375 s\n",
            "Loading dataset from disk.\n",
            "TIMING: dataset construction took 0.066 s\n",
            "Loading dataset from disk.\n",
            "TIMING: dataset construction took 0.073 s\n",
            "Loading dataset from disk.\n",
            " 17%|█▋        | 5/30 [08:17<34:48, 83.56s/it, best loss: 44.60947385822959]"
          ],
          "name": "stdout"
        },
        {
          "output_type": "stream",
          "text": [
            "2021-04-06 23:31:29,002 Wrote model metadata to file ampl_output/delaney_curated_final/RF_ecfp_scaffold_regression/6e0c0cda-6a34-49c4-a3b6-9166df3a2330/model_metadata.json\n"
          ],
          "name": "stderr"
        },
        {
          "output_type": "stream",
          "text": [
            "Wrote model tarball to ampl_output/delaney_curated_final_model_6e0c0cda-6a34-49c4-a3b6-9166df3a2330.tar.gz\n",
            " 17%|█▋        | 5/30 [08:49<34:48, 83.56s/it, best loss: 44.60947385822959]"
          ],
          "name": "stdout"
        },
        {
          "output_type": "stream",
          "text": [
            "2021-04-06 23:31:30,247 Wrote model metrics to file ampl_output/delaney_curated_final/RF_ecfp_scaffold_regression/6e0c0cda-6a34-49c4-a3b6-9166df3a2330/model_metrics.json\n"
          ],
          "name": "stderr"
        },
        {
          "output_type": "stream",
          "text": [
            "number of features: 1024\n",
            " 20%|██        | 6/30 [09:54<35:43, 89.32s/it, best loss: 44.60947385822959]"
          ],
          "name": "stdout"
        },
        {
          "output_type": "stream",
          "text": [
            "2021-04-06 23:32:38,256 Previous dataset split restored\n"
          ],
          "name": "stderr"
        },
        {
          "output_type": "stream",
          "text": [
            "n_cnt\n",
            "[11292.]\n",
            "y_means\n",
            "[5.16341151]\n",
            "y_stds\n",
            "[0.84529703]\n",
            "TIMING: dataset construction took 0.474 s\n",
            "Loading dataset from disk.\n",
            "TIMING: dataset construction took 0.065 s\n",
            "Loading dataset from disk.\n",
            "TIMING: dataset construction took 0.077 s\n",
            "Loading dataset from disk.\n",
            " 20%|██        | 6/30 [09:59<35:43, 89.32s/it, best loss: 44.60947385822959]"
          ],
          "name": "stdout"
        },
        {
          "output_type": "stream",
          "text": [
            "2021-04-06 23:32:47,481 Wrote model metadata to file ampl_output/delaney_curated_final/RF_ecfp_scaffold_regression/c49ceca2-d1e2-4589-a031-f1c9bdae7434/model_metadata.json\n"
          ],
          "name": "stderr"
        },
        {
          "output_type": "stream",
          "text": [
            "Wrote model tarball to ampl_output/delaney_curated_final_model_c49ceca2-d1e2-4589-a031-f1c9bdae7434.tar.gz\n",
            " 20%|██        | 6/30 [10:07<35:43, 89.32s/it, best loss: 44.60947385822959]"
          ],
          "name": "stdout"
        },
        {
          "output_type": "stream",
          "text": [
            "2021-04-06 23:32:47,529 Wrote model metrics to file ampl_output/delaney_curated_final/RF_ecfp_scaffold_regression/c49ceca2-d1e2-4589-a031-f1c9bdae7434/model_metrics.json\n"
          ],
          "name": "stderr"
        },
        {
          "output_type": "stream",
          "text": [
            "number of features: 1024\n",
            " 23%|██▎       | 7/30 [11:13<32:51, 85.71s/it, best loss: 44.60947385822959]"
          ],
          "name": "stdout"
        },
        {
          "output_type": "stream",
          "text": [
            "2021-04-06 23:33:56,895 Previous dataset split restored\n"
          ],
          "name": "stderr"
        },
        {
          "output_type": "stream",
          "text": [
            "n_cnt\n",
            "[11292.]\n",
            "y_means\n",
            "[5.16341151]\n",
            "y_stds\n",
            "[0.84529703]\n",
            "TIMING: dataset construction took 0.478 s\n",
            "Loading dataset from disk.\n",
            "TIMING: dataset construction took 0.058 s\n",
            "Loading dataset from disk.\n",
            "TIMING: dataset construction took 0.072 s\n",
            "Loading dataset from disk.\n",
            " 23%|██▎       | 7/30 [11:17<32:51, 85.71s/it, best loss: 44.60947385822959]"
          ],
          "name": "stdout"
        },
        {
          "output_type": "stream",
          "text": [
            "2021-04-06 23:34:12,043 Wrote model metadata to file ampl_output/delaney_curated_final/RF_ecfp_scaffold_regression/7235a3d1-de2f-41cd-8e73-03af9250dbd9/model_metadata.json\n"
          ],
          "name": "stderr"
        },
        {
          "output_type": "stream",
          "text": [
            "Wrote model tarball to ampl_output/delaney_curated_final_model_7235a3d1-de2f-41cd-8e73-03af9250dbd9.tar.gz\n",
            " 23%|██▎       | 7/30 [11:32<32:51, 85.71s/it, best loss: 44.60947385822959]"
          ],
          "name": "stdout"
        },
        {
          "output_type": "stream",
          "text": [
            "2021-04-06 23:34:12,884 Wrote model metrics to file ampl_output/delaney_curated_final/RF_ecfp_scaffold_regression/7235a3d1-de2f-41cd-8e73-03af9250dbd9/model_metrics.json\n"
          ],
          "name": "stderr"
        },
        {
          "output_type": "stream",
          "text": [
            "number of features: 1024\n",
            " 27%|██▋       | 8/30 [12:41<31:23, 85.60s/it, best loss: 44.60947385822959]"
          ],
          "name": "stdout"
        },
        {
          "output_type": "stream",
          "text": [
            "2021-04-06 23:35:24,536 Previous dataset split restored\n"
          ],
          "name": "stderr"
        },
        {
          "output_type": "stream",
          "text": [
            "n_cnt\n",
            "[11292.]\n",
            "y_means\n",
            "[5.16341151]\n",
            "y_stds\n",
            "[0.84529703]\n",
            "TIMING: dataset construction took 0.434 s\n",
            "Loading dataset from disk.\n",
            "TIMING: dataset construction took 0.066 s\n",
            "Loading dataset from disk.\n",
            "TIMING: dataset construction took 0.068 s\n",
            "Loading dataset from disk.\n",
            " 27%|██▋       | 8/30 [12:45<31:23, 85.60s/it, best loss: 44.60947385822959]"
          ],
          "name": "stdout"
        },
        {
          "output_type": "stream",
          "text": [
            "2021-04-06 23:35:43,651 Wrote model metadata to file ampl_output/delaney_curated_final/RF_ecfp_scaffold_regression/a4abc71e-68f7-4edb-aed5-a9e73f5ea5ba/model_metadata.json\n"
          ],
          "name": "stderr"
        },
        {
          "output_type": "stream",
          "text": [
            "Wrote model tarball to ampl_output/delaney_curated_final_model_a4abc71e-68f7-4edb-aed5-a9e73f5ea5ba.tar.gz\n",
            " 27%|██▋       | 8/30 [13:04<31:23, 85.60s/it, best loss: 44.60947385822959]"
          ],
          "name": "stdout"
        },
        {
          "output_type": "stream",
          "text": [
            "2021-04-06 23:35:44,397 Wrote model metrics to file ampl_output/delaney_curated_final/RF_ecfp_scaffold_regression/a4abc71e-68f7-4edb-aed5-a9e73f5ea5ba/model_metrics.json\n"
          ],
          "name": "stderr"
        },
        {
          "output_type": "stream",
          "text": [
            "number of features: 1024\n",
            " 30%|███       | 9/30 [14:15<30:34, 87.38s/it, best loss: 44.60947385822959]"
          ],
          "name": "stdout"
        },
        {
          "output_type": "stream",
          "text": [
            "2021-04-06 23:36:59,053 Previous dataset split restored\n"
          ],
          "name": "stderr"
        },
        {
          "output_type": "stream",
          "text": [
            "n_cnt\n",
            "[11292.]\n",
            "y_means\n",
            "[5.16341151]\n",
            "y_stds\n",
            "[0.84529703]\n",
            "TIMING: dataset construction took 0.441 s\n",
            "Loading dataset from disk.\n",
            "TIMING: dataset construction took 0.069 s\n",
            "Loading dataset from disk.\n",
            "TIMING: dataset construction took 0.071 s\n",
            "Loading dataset from disk.\n",
            " 30%|███       | 9/30 [14:19<30:34, 87.38s/it, best loss: 44.60947385822959]"
          ],
          "name": "stdout"
        },
        {
          "output_type": "stream",
          "text": [
            "2021-04-06 23:37:06,190 Wrote model metadata to file ampl_output/delaney_curated_final/RF_ecfp_scaffold_regression/a7dba264-475e-4cd9-9165-6dcef04c3341/model_metadata.json\n"
          ],
          "name": "stderr"
        },
        {
          "output_type": "stream",
          "text": [
            "Wrote model tarball to ampl_output/delaney_curated_final_model_a7dba264-475e-4cd9-9165-6dcef04c3341.tar.gz\n",
            " 30%|███       | 9/30 [14:26<30:34, 87.38s/it, best loss: 44.60947385822959]"
          ],
          "name": "stdout"
        },
        {
          "output_type": "stream",
          "text": [
            "2021-04-06 23:37:06,576 Wrote model metrics to file ampl_output/delaney_curated_final/RF_ecfp_scaffold_regression/a7dba264-475e-4cd9-9165-6dcef04c3341/model_metrics.json\n"
          ],
          "name": "stderr"
        },
        {
          "output_type": "stream",
          "text": [
            "number of features: 1024\n",
            " 33%|███▎      | 10/30 [15:37<28:36, 85.82s/it, best loss: 44.60947385822959]"
          ],
          "name": "stdout"
        },
        {
          "output_type": "stream",
          "text": [
            "2021-04-06 23:38:20,976 Previous dataset split restored\n"
          ],
          "name": "stderr"
        },
        {
          "output_type": "stream",
          "text": [
            "n_cnt\n",
            "[11292.]\n",
            "y_means\n",
            "[5.16341151]\n",
            "y_stds\n",
            "[0.84529703]\n",
            "TIMING: dataset construction took 0.477 s\n",
            "Loading dataset from disk.\n",
            "TIMING: dataset construction took 0.071 s\n",
            "Loading dataset from disk.\n",
            "TIMING: dataset construction took 0.071 s\n",
            "Loading dataset from disk.\n",
            " 33%|███▎      | 10/30 [15:41<28:36, 85.82s/it, best loss: 44.60947385822959]"
          ],
          "name": "stdout"
        },
        {
          "output_type": "stream",
          "text": [
            "2021-04-06 23:38:54,991 Wrote model metadata to file ampl_output/delaney_curated_final/RF_ecfp_scaffold_regression/d888bdef-2587-4bbf-a049-596460e1db24/model_metadata.json\n"
          ],
          "name": "stderr"
        },
        {
          "output_type": "stream",
          "text": [
            "Wrote model tarball to ampl_output/delaney_curated_final_model_d888bdef-2587-4bbf-a049-596460e1db24.tar.gz\n",
            " 33%|███▎      | 10/30 [16:16<28:36, 85.82s/it, best loss: 44.60947385822959]"
          ],
          "name": "stdout"
        },
        {
          "output_type": "stream",
          "text": [
            "2021-04-06 23:38:56,630 Wrote model metrics to file ampl_output/delaney_curated_final/RF_ecfp_scaffold_regression/d888bdef-2587-4bbf-a049-596460e1db24/model_metrics.json\n"
          ],
          "name": "stderr"
        },
        {
          "output_type": "stream",
          "text": [
            "number of features: 1024\n",
            " 37%|███▋      | 11/30 [17:28<29:28, 93.09s/it, best loss: 44.60947385822959]"
          ],
          "name": "stdout"
        },
        {
          "output_type": "stream",
          "text": [
            "2021-04-06 23:40:11,533 Previous dataset split restored\n"
          ],
          "name": "stderr"
        },
        {
          "output_type": "stream",
          "text": [
            "n_cnt\n",
            "[11292.]\n",
            "y_means\n",
            "[5.16341151]\n",
            "y_stds\n",
            "[0.84529703]\n",
            "TIMING: dataset construction took 0.493 s\n",
            "Loading dataset from disk.\n",
            "TIMING: dataset construction took 0.068 s\n",
            "Loading dataset from disk.\n",
            "TIMING: dataset construction took 0.071 s\n",
            "Loading dataset from disk.\n",
            " 37%|███▋      | 11/30 [17:32<29:28, 93.09s/it, best loss: 44.60947385822959]"
          ],
          "name": "stdout"
        },
        {
          "output_type": "stream",
          "text": [
            "2021-04-06 23:40:18,496 Wrote model metadata to file ampl_output/delaney_curated_final/RF_ecfp_scaffold_regression/92823c16-90db-4e8e-9603-577135e70d07/model_metadata.json\n"
          ],
          "name": "stderr"
        },
        {
          "output_type": "stream",
          "text": [
            "Wrote model tarball to ampl_output/delaney_curated_final_model_92823c16-90db-4e8e-9603-577135e70d07.tar.gz\n",
            " 37%|███▋      | 11/30 [17:38<29:28, 93.09s/it, best loss: 44.60947385822959]"
          ],
          "name": "stdout"
        },
        {
          "output_type": "stream",
          "text": [
            "2021-04-06 23:40:19,199 Wrote model metrics to file ampl_output/delaney_curated_final/RF_ecfp_scaffold_regression/92823c16-90db-4e8e-9603-577135e70d07/model_metrics.json\n"
          ],
          "name": "stderr"
        },
        {
          "output_type": "stream",
          "text": [
            "number of features: 1024\n",
            " 40%|████      | 12/30 [18:49<26:58, 89.93s/it, best loss: 44.60947385822959]"
          ],
          "name": "stdout"
        },
        {
          "output_type": "stream",
          "text": [
            "2021-04-06 23:41:33,363 Previous dataset split restored\n"
          ],
          "name": "stderr"
        },
        {
          "output_type": "stream",
          "text": [
            "n_cnt\n",
            "[11292.]\n",
            "y_means\n",
            "[5.16341151]\n",
            "y_stds\n",
            "[0.84529703]\n",
            "TIMING: dataset construction took 0.513 s\n",
            "Loading dataset from disk.\n",
            "TIMING: dataset construction took 0.068 s\n",
            "Loading dataset from disk.\n",
            "TIMING: dataset construction took 0.066 s\n",
            "Loading dataset from disk.\n",
            " 40%|████      | 12/30 [18:54<26:58, 89.93s/it, best loss: 44.60947385822959]"
          ],
          "name": "stdout"
        },
        {
          "output_type": "stream",
          "text": [
            "2021-04-06 23:42:10,882 Wrote model metadata to file ampl_output/delaney_curated_final/RF_ecfp_scaffold_regression/7e7daee7-f97b-413a-97bc-c54263ca88ae/model_metadata.json\n"
          ],
          "name": "stderr"
        },
        {
          "output_type": "stream",
          "text": [
            "Wrote model tarball to ampl_output/delaney_curated_final_model_7e7daee7-f97b-413a-97bc-c54263ca88ae.tar.gz\n",
            " 40%|████      | 12/30 [19:32<26:58, 89.93s/it, best loss: 44.60947385822959]"
          ],
          "name": "stdout"
        },
        {
          "output_type": "stream",
          "text": [
            "2021-04-06 23:42:12,424 Wrote model metrics to file ampl_output/delaney_curated_final/RF_ecfp_scaffold_regression/7e7daee7-f97b-413a-97bc-c54263ca88ae/model_metrics.json\n"
          ],
          "name": "stderr"
        },
        {
          "output_type": "stream",
          "text": [
            "number of features: 1024\n",
            " 43%|████▎     | 13/30 [20:43<27:27, 96.92s/it, best loss: 44.60947385822959]"
          ],
          "name": "stdout"
        },
        {
          "output_type": "stream",
          "text": [
            "2021-04-06 23:43:26,499 Previous dataset split restored\n"
          ],
          "name": "stderr"
        },
        {
          "output_type": "stream",
          "text": [
            "n_cnt\n",
            "[11292.]\n",
            "y_means\n",
            "[5.16341151]\n",
            "y_stds\n",
            "[0.84529703]\n",
            "TIMING: dataset construction took 0.488 s\n",
            "Loading dataset from disk.\n",
            "TIMING: dataset construction took 0.065 s\n",
            "Loading dataset from disk.\n",
            "TIMING: dataset construction took 0.074 s\n",
            "Loading dataset from disk.\n",
            " 43%|████▎     | 13/30 [20:47<27:27, 96.92s/it, best loss: 44.60947385822959]"
          ],
          "name": "stdout"
        },
        {
          "output_type": "stream",
          "text": [
            "2021-04-06 23:43:50,388 Wrote model metadata to file ampl_output/delaney_curated_final/RF_ecfp_scaffold_regression/a5f38715-8047-41ef-bd5f-cb2a49b1f469/model_metadata.json\n"
          ],
          "name": "stderr"
        },
        {
          "output_type": "stream",
          "text": [
            "Wrote model tarball to ampl_output/delaney_curated_final_model_a5f38715-8047-41ef-bd5f-cb2a49b1f469.tar.gz\n",
            " 43%|████▎     | 13/30 [21:11<27:27, 96.92s/it, best loss: 44.60947385822959]"
          ],
          "name": "stdout"
        },
        {
          "output_type": "stream",
          "text": [
            "2021-04-06 23:43:51,503 Wrote model metrics to file ampl_output/delaney_curated_final/RF_ecfp_scaffold_regression/a5f38715-8047-41ef-bd5f-cb2a49b1f469/model_metrics.json\n"
          ],
          "name": "stderr"
        },
        {
          "output_type": "stream",
          "text": [
            "number of features: 1024\n",
            " 47%|████▋     | 14/30 [22:22<26:01, 97.57s/it, best loss: 44.60947385822959]"
          ],
          "name": "stdout"
        },
        {
          "output_type": "stream",
          "text": [
            "2021-04-06 23:45:06,062 Previous dataset split restored\n"
          ],
          "name": "stderr"
        },
        {
          "output_type": "stream",
          "text": [
            "n_cnt\n",
            "[11292.]\n",
            "y_means\n",
            "[5.16341151]\n",
            "y_stds\n",
            "[0.84529703]\n",
            "TIMING: dataset construction took 0.483 s\n",
            "Loading dataset from disk.\n",
            "TIMING: dataset construction took 0.067 s\n",
            "Loading dataset from disk.\n",
            "TIMING: dataset construction took 0.069 s\n",
            "Loading dataset from disk.\n",
            " 47%|████▋     | 14/30 [22:26<26:01, 97.57s/it, best loss: 44.60947385822959]"
          ],
          "name": "stdout"
        },
        {
          "output_type": "stream",
          "text": [
            "2021-04-06 23:45:18,279 Wrote model metadata to file ampl_output/delaney_curated_final/RF_ecfp_scaffold_regression/fa22c019-7a32-4d36-8182-902e1e86fa05/model_metadata.json\n"
          ],
          "name": "stderr"
        },
        {
          "output_type": "stream",
          "text": [
            "Wrote model tarball to ampl_output/delaney_curated_final_model_fa22c019-7a32-4d36-8182-902e1e86fa05.tar.gz\n",
            " 47%|████▋     | 14/30 [22:38<26:01, 97.57s/it, best loss: 44.60947385822959]"
          ],
          "name": "stdout"
        },
        {
          "output_type": "stream",
          "text": [
            "2021-04-06 23:45:18,875 Wrote model metrics to file ampl_output/delaney_curated_final/RF_ecfp_scaffold_regression/fa22c019-7a32-4d36-8182-902e1e86fa05/model_metrics.json\n"
          ],
          "name": "stderr"
        },
        {
          "output_type": "stream",
          "text": [
            "number of features: 1024\n",
            " 50%|█████     | 15/30 [23:49<23:37, 94.51s/it, best loss: 44.60947385822959]"
          ],
          "name": "stdout"
        },
        {
          "output_type": "stream",
          "text": [
            "2021-04-06 23:46:33,429 Previous dataset split restored\n"
          ],
          "name": "stderr"
        },
        {
          "output_type": "stream",
          "text": [
            "n_cnt\n",
            "[11292.]\n",
            "y_means\n",
            "[5.16341151]\n",
            "y_stds\n",
            "[0.84529703]\n",
            "TIMING: dataset construction took 0.489 s\n",
            "Loading dataset from disk.\n",
            "TIMING: dataset construction took 0.070 s\n",
            "Loading dataset from disk.\n",
            "TIMING: dataset construction took 0.068 s\n",
            "Loading dataset from disk.\n",
            " 50%|█████     | 15/30 [23:54<23:37, 94.51s/it, best loss: 44.60947385822959]"
          ],
          "name": "stdout"
        },
        {
          "output_type": "stream",
          "text": [
            "2021-04-06 23:46:58,504 Wrote model metadata to file ampl_output/delaney_curated_final/RF_ecfp_scaffold_regression/23ffaec0-0047-4e37-8646-18568a29ee18/model_metadata.json\n"
          ],
          "name": "stderr"
        },
        {
          "output_type": "stream",
          "text": [
            "Wrote model tarball to ampl_output/delaney_curated_final_model_23ffaec0-0047-4e37-8646-18568a29ee18.tar.gz\n",
            " 50%|█████     | 15/30 [24:18<23:37, 94.51s/it, best loss: 44.60947385822959]"
          ],
          "name": "stdout"
        },
        {
          "output_type": "stream",
          "text": [
            "2021-04-06 23:46:59,255 Wrote model metrics to file ampl_output/delaney_curated_final/RF_ecfp_scaffold_regression/23ffaec0-0047-4e37-8646-18568a29ee18/model_metrics.json\n"
          ],
          "name": "stderr"
        },
        {
          "output_type": "stream",
          "text": [
            "number of features: 1024\n",
            " 53%|█████▎    | 16/30 [25:30<22:27, 96.27s/it, best loss: 44.60947385822959]"
          ],
          "name": "stdout"
        },
        {
          "output_type": "stream",
          "text": [
            "2021-04-06 23:48:13,619 Previous dataset split restored\n"
          ],
          "name": "stderr"
        },
        {
          "output_type": "stream",
          "text": [
            "n_cnt\n",
            "[11292.]\n",
            "y_means\n",
            "[5.16341151]\n",
            "y_stds\n",
            "[0.84529703]\n",
            "TIMING: dataset construction took 0.471 s\n",
            "Loading dataset from disk.\n",
            "TIMING: dataset construction took 0.067 s\n",
            "Loading dataset from disk.\n",
            "TIMING: dataset construction took 0.068 s\n",
            "Loading dataset from disk.\n",
            " 53%|█████▎    | 16/30 [25:34<22:27, 96.27s/it, best loss: 44.60947385822959]"
          ],
          "name": "stdout"
        },
        {
          "output_type": "stream",
          "text": [
            "2021-04-06 23:48:58,618 Wrote model metadata to file ampl_output/delaney_curated_final/RF_ecfp_scaffold_regression/07a5d11b-8ed1-4f12-b804-d864813550ab/model_metadata.json\n"
          ],
          "name": "stderr"
        },
        {
          "output_type": "stream",
          "text": [
            "Wrote model tarball to ampl_output/delaney_curated_final_model_07a5d11b-8ed1-4f12-b804-d864813550ab.tar.gz\n",
            " 53%|█████▎    | 16/30 [26:19<22:27, 96.27s/it, best loss: 44.60947385822959]"
          ],
          "name": "stdout"
        },
        {
          "output_type": "stream",
          "text": [
            "2021-04-06 23:49:00,163 Wrote model metrics to file ampl_output/delaney_curated_final/RF_ecfp_scaffold_regression/07a5d11b-8ed1-4f12-b804-d864813550ab/model_metrics.json\n"
          ],
          "name": "stderr"
        },
        {
          "output_type": "stream",
          "text": [
            "number of features: 1024\n",
            " 57%|█████▋    | 17/30 [27:30<22:27, 103.66s/it, best loss: 44.60947385822959]"
          ],
          "name": "stdout"
        },
        {
          "output_type": "stream",
          "text": [
            "2021-04-06 23:50:14,331 Previous dataset split restored\n"
          ],
          "name": "stderr"
        },
        {
          "output_type": "stream",
          "text": [
            "n_cnt\n",
            "[11292.]\n",
            "y_means\n",
            "[5.16341151]\n",
            "y_stds\n",
            "[0.84529703]\n",
            "TIMING: dataset construction took 0.482 s\n",
            "Loading dataset from disk.\n",
            "TIMING: dataset construction took 0.067 s\n",
            "Loading dataset from disk.\n",
            "TIMING: dataset construction took 0.053 s\n",
            "Loading dataset from disk.\n",
            " 57%|█████▋    | 17/30 [27:35<22:27, 103.66s/it, best loss: 44.60947385822959]"
          ],
          "name": "stdout"
        },
        {
          "output_type": "stream",
          "text": [
            "2021-04-06 23:50:42,530 Wrote model metadata to file ampl_output/delaney_curated_final/RF_ecfp_scaffold_regression/fa3ab78e-9f1f-499e-a245-ffd2199f116c/model_metadata.json\n"
          ],
          "name": "stderr"
        },
        {
          "output_type": "stream",
          "text": [
            "Wrote model tarball to ampl_output/delaney_curated_final_model_fa3ab78e-9f1f-499e-a245-ffd2199f116c.tar.gz\n",
            " 57%|█████▋    | 17/30 [28:04<22:27, 103.66s/it, best loss: 44.60947385822959]"
          ],
          "name": "stdout"
        },
        {
          "output_type": "stream",
          "text": [
            "2021-04-06 23:50:44,540 Wrote model metrics to file ampl_output/delaney_curated_final/RF_ecfp_scaffold_regression/fa3ab78e-9f1f-499e-a245-ffd2199f116c/model_metrics.json\n"
          ],
          "name": "stderr"
        },
        {
          "output_type": "stream",
          "text": [
            "number of features: 1024\n",
            " 60%|██████    | 18/30 [29:14<20:46, 103.88s/it, best loss: 44.60947385822959]"
          ],
          "name": "stdout"
        },
        {
          "output_type": "stream",
          "text": [
            "2021-04-06 23:51:58,191 Previous dataset split restored\n"
          ],
          "name": "stderr"
        },
        {
          "output_type": "stream",
          "text": [
            "n_cnt\n",
            "[11292.]\n",
            "y_means\n",
            "[5.16341151]\n",
            "y_stds\n",
            "[0.84529703]\n",
            "TIMING: dataset construction took 0.439 s\n",
            "Loading dataset from disk.\n",
            "TIMING: dataset construction took 0.068 s\n",
            "Loading dataset from disk.\n",
            "TIMING: dataset construction took 0.070 s\n",
            "Loading dataset from disk.\n",
            " 60%|██████    | 18/30 [29:18<20:46, 103.88s/it, best loss: 44.60947385822959]"
          ],
          "name": "stdout"
        },
        {
          "output_type": "stream",
          "text": [
            "2021-04-06 23:52:08,735 Wrote model metadata to file ampl_output/delaney_curated_final/RF_ecfp_scaffold_regression/1430376b-ed77-4738-83a7-4216b59649aa/model_metadata.json\n"
          ],
          "name": "stderr"
        },
        {
          "output_type": "stream",
          "text": [
            "Wrote model tarball to ampl_output/delaney_curated_final_model_1430376b-ed77-4738-83a7-4216b59649aa.tar.gz\n",
            " 60%|██████    | 18/30 [29:29<20:46, 103.88s/it, best loss: 44.60947385822959]"
          ],
          "name": "stdout"
        },
        {
          "output_type": "stream",
          "text": [
            "2021-04-06 23:52:09,823 Wrote model metrics to file ampl_output/delaney_curated_final/RF_ecfp_scaffold_regression/1430376b-ed77-4738-83a7-4216b59649aa/model_metrics.json\n"
          ],
          "name": "stderr"
        },
        {
          "output_type": "stream",
          "text": [
            "number of features: 1024\n",
            " 63%|██████▎   | 19/30 [30:40<18:01, 98.30s/it, best loss: 44.60947385822959]"
          ],
          "name": "stdout"
        },
        {
          "output_type": "stream",
          "text": [
            "2021-04-06 23:53:23,716 Previous dataset split restored\n"
          ],
          "name": "stderr"
        },
        {
          "output_type": "stream",
          "text": [
            "n_cnt\n",
            "[11292.]\n",
            "y_means\n",
            "[5.16341151]\n",
            "y_stds\n",
            "[0.84529703]\n",
            "TIMING: dataset construction took 0.478 s\n",
            "Loading dataset from disk.\n",
            "TIMING: dataset construction took 0.068 s\n",
            "Loading dataset from disk.\n",
            "TIMING: dataset construction took 0.070 s\n",
            "Loading dataset from disk.\n",
            " 63%|██████▎   | 19/30 [30:44<18:01, 98.30s/it, best loss: 44.60947385822959]"
          ],
          "name": "stdout"
        },
        {
          "output_type": "stream",
          "text": [
            "2021-04-06 23:53:34,497 Wrote model metadata to file ampl_output/delaney_curated_final/RF_ecfp_scaffold_regression/5dc3f3ae-85b8-468d-8e61-cdba4254be67/model_metadata.json\n"
          ],
          "name": "stderr"
        },
        {
          "output_type": "stream",
          "text": [
            "Wrote model tarball to ampl_output/delaney_curated_final_model_5dc3f3ae-85b8-468d-8e61-cdba4254be67.tar.gz\n",
            " 63%|██████▎   | 19/30 [30:54<18:01, 98.30s/it, best loss: 44.60947385822959]"
          ],
          "name": "stdout"
        },
        {
          "output_type": "stream",
          "text": [
            "2021-04-06 23:53:34,656 Wrote model metrics to file ampl_output/delaney_curated_final/RF_ecfp_scaffold_regression/5dc3f3ae-85b8-468d-8e61-cdba4254be67/model_metrics.json\n"
          ],
          "name": "stderr"
        },
        {
          "output_type": "stream",
          "text": [
            "number of features: 1024\n",
            " 67%|██████▋   | 20/30 [32:06<15:42, 94.26s/it, best loss: 44.60947385822959]"
          ],
          "name": "stdout"
        },
        {
          "output_type": "stream",
          "text": [
            "2021-04-06 23:54:49,407 Previous dataset split restored\n"
          ],
          "name": "stderr"
        },
        {
          "output_type": "stream",
          "text": [
            "n_cnt\n",
            "[11292.]\n",
            "y_means\n",
            "[5.16341151]\n",
            "y_stds\n",
            "[0.84529703]\n",
            "TIMING: dataset construction took 0.499 s\n",
            "Loading dataset from disk.\n",
            "TIMING: dataset construction took 0.066 s\n",
            "Loading dataset from disk.\n",
            "TIMING: dataset construction took 0.065 s\n",
            "Loading dataset from disk.\n",
            " 67%|██████▋   | 20/30 [32:10<15:42, 94.26s/it, best loss: 44.60947385822959]"
          ],
          "name": "stdout"
        },
        {
          "output_type": "stream",
          "text": [
            "2021-04-06 23:55:25,942 Wrote model metadata to file ampl_output/delaney_curated_final/RF_ecfp_scaffold_regression/39494d1b-b8ec-4549-aa01-7f71054e6619/model_metadata.json\n"
          ],
          "name": "stderr"
        },
        {
          "output_type": "stream",
          "text": [
            "Wrote model tarball to ampl_output/delaney_curated_final_model_39494d1b-b8ec-4549-aa01-7f71054e6619.tar.gz\n",
            " 67%|██████▋   | 20/30 [32:47<15:42, 94.26s/it, best loss: 44.60947385822959]"
          ],
          "name": "stdout"
        },
        {
          "output_type": "stream",
          "text": [
            "2021-04-06 23:55:27,649 Wrote model metrics to file ampl_output/delaney_curated_final/RF_ecfp_scaffold_regression/39494d1b-b8ec-4549-aa01-7f71054e6619/model_metrics.json\n"
          ],
          "name": "stderr"
        },
        {
          "output_type": "stream",
          "text": [
            "number of features: 1024\n",
            " 70%|███████   | 21/30 [33:57<14:58, 99.88s/it, best loss: 44.60947385822959]"
          ],
          "name": "stdout"
        },
        {
          "output_type": "stream",
          "text": [
            "2021-04-06 23:56:40,678 Previous dataset split restored\n"
          ],
          "name": "stderr"
        },
        {
          "output_type": "stream",
          "text": [
            "n_cnt\n",
            "[11292.]\n",
            "y_means\n",
            "[5.16341151]\n",
            "y_stds\n",
            "[0.84529703]\n",
            "TIMING: dataset construction took 0.520 s\n",
            "Loading dataset from disk.\n",
            "TIMING: dataset construction took 0.071 s\n",
            "Loading dataset from disk.\n",
            "TIMING: dataset construction took 0.077 s\n",
            "Loading dataset from disk.\n",
            " 70%|███████   | 21/30 [34:01<14:58, 99.88s/it, best loss: 44.60947385822959]"
          ],
          "name": "stdout"
        },
        {
          "output_type": "stream",
          "text": [
            "2021-04-06 23:57:07,654 Wrote model metadata to file ampl_output/delaney_curated_final/RF_ecfp_scaffold_regression/1561f88d-a613-4769-9e58-929efe54643e/model_metadata.json\n"
          ],
          "name": "stderr"
        },
        {
          "output_type": "stream",
          "text": [
            "Wrote model tarball to ampl_output/delaney_curated_final_model_1561f88d-a613-4769-9e58-929efe54643e.tar.gz\n",
            " 70%|███████   | 21/30 [34:28<14:58, 99.88s/it, best loss: 44.60947385822959]"
          ],
          "name": "stdout"
        },
        {
          "output_type": "stream",
          "text": [
            "2021-04-06 23:57:09,107 Wrote model metrics to file ampl_output/delaney_curated_final/RF_ecfp_scaffold_regression/1561f88d-a613-4769-9e58-929efe54643e/model_metrics.json\n"
          ],
          "name": "stderr"
        },
        {
          "output_type": "stream",
          "text": [
            "number of features: 1024\n",
            " 73%|███████▎  | 22/30 [35:40<13:22, 100.35s/it, best loss: 44.60947385822959]"
          ],
          "name": "stdout"
        },
        {
          "output_type": "stream",
          "text": [
            "2021-04-06 23:58:24,056 Previous dataset split restored\n"
          ],
          "name": "stderr"
        },
        {
          "output_type": "stream",
          "text": [
            "n_cnt\n",
            "[11292.]\n",
            "y_means\n",
            "[5.16341151]\n",
            "y_stds\n",
            "[0.84529703]\n",
            "TIMING: dataset construction took 0.492 s\n",
            "Loading dataset from disk.\n",
            "TIMING: dataset construction took 0.068 s\n",
            "Loading dataset from disk.\n",
            "TIMING: dataset construction took 0.078 s\n",
            "Loading dataset from disk.\n",
            " 73%|███████▎  | 22/30 [35:44<13:22, 100.35s/it, best loss: 44.60947385822959]"
          ],
          "name": "stdout"
        },
        {
          "output_type": "stream",
          "text": [
            "2021-04-06 23:58:50,512 Wrote model metadata to file ampl_output/delaney_curated_final/RF_ecfp_scaffold_regression/f653291e-66c4-45d5-a936-7d08dae8e5cc/model_metadata.json\n"
          ],
          "name": "stderr"
        },
        {
          "output_type": "stream",
          "text": [
            "Wrote model tarball to ampl_output/delaney_curated_final_model_f653291e-66c4-45d5-a936-7d08dae8e5cc.tar.gz\n",
            " 73%|███████▎  | 22/30 [36:11<13:22, 100.35s/it, best loss: 44.60947385822959]"
          ],
          "name": "stdout"
        },
        {
          "output_type": "stream",
          "text": [
            "2021-04-06 23:58:51,649 Wrote model metrics to file ampl_output/delaney_curated_final/RF_ecfp_scaffold_regression/f653291e-66c4-45d5-a936-7d08dae8e5cc/model_metrics.json\n"
          ],
          "name": "stderr"
        },
        {
          "output_type": "stream",
          "text": [
            "number of features: 1024\n",
            " 77%|███████▋  | 23/30 [37:22<11:47, 101.01s/it, best loss: 44.60947385822959]"
          ],
          "name": "stdout"
        },
        {
          "output_type": "stream",
          "text": [
            "2021-04-07 00:00:06,292 Previous dataset split restored\n"
          ],
          "name": "stderr"
        },
        {
          "output_type": "stream",
          "text": [
            "n_cnt\n",
            "[11292.]\n",
            "y_means\n",
            "[5.16341151]\n",
            "y_stds\n",
            "[0.84529703]\n",
            "TIMING: dataset construction took 0.508 s\n",
            "Loading dataset from disk.\n",
            "TIMING: dataset construction took 0.067 s\n",
            "Loading dataset from disk.\n",
            "TIMING: dataset construction took 0.068 s\n",
            "Loading dataset from disk.\n",
            " 77%|███████▋  | 23/30 [37:27<11:47, 101.01s/it, best loss: 44.60947385822959]"
          ],
          "name": "stdout"
        },
        {
          "output_type": "stream",
          "text": [
            "2021-04-07 00:00:35,444 Wrote model metadata to file ampl_output/delaney_curated_final/RF_ecfp_scaffold_regression/57d22aca-26f3-48db-a8d2-b9f873770b2a/model_metadata.json\n"
          ],
          "name": "stderr"
        },
        {
          "output_type": "stream",
          "text": [
            "Wrote model tarball to ampl_output/delaney_curated_final_model_57d22aca-26f3-48db-a8d2-b9f873770b2a.tar.gz\n",
            " 77%|███████▋  | 23/30 [37:55<11:47, 101.01s/it, best loss: 44.60947385822959]"
          ],
          "name": "stdout"
        },
        {
          "output_type": "stream",
          "text": [
            "2021-04-07 00:00:36,289 Wrote model metrics to file ampl_output/delaney_curated_final/RF_ecfp_scaffold_regression/57d22aca-26f3-48db-a8d2-b9f873770b2a/model_metrics.json\n"
          ],
          "name": "stderr"
        },
        {
          "output_type": "stream",
          "text": [
            "number of features: 1024\n",
            " 80%|████████  | 24/30 [39:06<10:12, 102.10s/it, best loss: 44.60947385822959]"
          ],
          "name": "stdout"
        },
        {
          "output_type": "stream",
          "text": [
            "2021-04-07 00:01:50,311 Previous dataset split restored\n"
          ],
          "name": "stderr"
        },
        {
          "output_type": "stream",
          "text": [
            "n_cnt\n",
            "[11292.]\n",
            "y_means\n",
            "[5.16341151]\n",
            "y_stds\n",
            "[0.84529703]\n",
            "TIMING: dataset construction took 0.450 s\n",
            "Loading dataset from disk.\n",
            "TIMING: dataset construction took 0.068 s\n",
            "Loading dataset from disk.\n",
            "TIMING: dataset construction took 0.068 s\n",
            "Loading dataset from disk.\n",
            " 80%|████████  | 24/30 [39:11<10:12, 102.10s/it, best loss: 44.60947385822959]"
          ],
          "name": "stdout"
        },
        {
          "output_type": "stream",
          "text": [
            "2021-04-07 00:02:04,426 Wrote model metadata to file ampl_output/delaney_curated_final/RF_ecfp_scaffold_regression/39d8d8d3-88e7-4ef1-ae48-9762851e3881/model_metadata.json\n"
          ],
          "name": "stderr"
        },
        {
          "output_type": "stream",
          "text": [
            "Wrote model tarball to ampl_output/delaney_curated_final_model_39d8d8d3-88e7-4ef1-ae48-9762851e3881.tar.gz\n",
            " 80%|████████  | 24/30 [39:24<10:12, 102.10s/it, best loss: 44.60947385822959]"
          ],
          "name": "stdout"
        },
        {
          "output_type": "stream",
          "text": [
            "2021-04-07 00:02:05,312 Wrote model metrics to file ampl_output/delaney_curated_final/RF_ecfp_scaffold_regression/39d8d8d3-88e7-4ef1-ae48-9762851e3881/model_metrics.json\n"
          ],
          "name": "stderr"
        },
        {
          "output_type": "stream",
          "text": [
            "number of features: 1024\n",
            " 83%|████████▎ | 25/30 [40:36<08:10, 98.18s/it, best loss: 44.60947385822959]"
          ],
          "name": "stdout"
        },
        {
          "output_type": "stream",
          "text": [
            "2021-04-07 00:03:19,823 Previous dataset split restored\n"
          ],
          "name": "stderr"
        },
        {
          "output_type": "stream",
          "text": [
            "n_cnt\n",
            "[11292.]\n",
            "y_means\n",
            "[5.16341151]\n",
            "y_stds\n",
            "[0.84529703]\n",
            "TIMING: dataset construction took 0.502 s\n",
            "Loading dataset from disk.\n",
            "TIMING: dataset construction took 0.066 s\n",
            "Loading dataset from disk.\n",
            "TIMING: dataset construction took 0.071 s\n",
            "Loading dataset from disk.\n",
            " 83%|████████▎ | 25/30 [40:40<08:10, 98.18s/it, best loss: 44.60947385822959]"
          ],
          "name": "stdout"
        },
        {
          "output_type": "stream",
          "text": [
            "2021-04-07 00:03:27,630 Wrote model metadata to file ampl_output/delaney_curated_final/RF_ecfp_scaffold_regression/59f8886e-f3a1-48fa-a1da-fbbe847976a2/model_metadata.json\n"
          ],
          "name": "stderr"
        },
        {
          "output_type": "stream",
          "text": [
            "Wrote model tarball to ampl_output/delaney_curated_final_model_59f8886e-f3a1-48fa-a1da-fbbe847976a2.tar.gz\n",
            " 83%|████████▎ | 25/30 [40:47<08:10, 98.18s/it, best loss: 44.60947385822959]"
          ],
          "name": "stdout"
        },
        {
          "output_type": "stream",
          "text": [
            "2021-04-07 00:03:27,936 Wrote model metrics to file ampl_output/delaney_curated_final/RF_ecfp_scaffold_regression/59f8886e-f3a1-48fa-a1da-fbbe847976a2/model_metrics.json\n"
          ],
          "name": "stderr"
        },
        {
          "output_type": "stream",
          "text": [
            "number of features: 1024\n",
            " 87%|████████▋ | 26/30 [42:08<06:14, 93.51s/it, best loss: 44.60947385822959]"
          ],
          "name": "stdout"
        },
        {
          "output_type": "stream",
          "text": [
            "2021-04-07 00:04:52,086 Previous dataset split restored\n"
          ],
          "name": "stderr"
        },
        {
          "output_type": "stream",
          "text": [
            "n_cnt\n",
            "[11292.]\n",
            "y_means\n",
            "[5.16341151]\n",
            "y_stds\n",
            "[0.84529703]\n",
            "TIMING: dataset construction took 0.503 s\n",
            "Loading dataset from disk.\n",
            "TIMING: dataset construction took 0.068 s\n",
            "Loading dataset from disk.\n",
            "TIMING: dataset construction took 0.067 s\n",
            "Loading dataset from disk.\n",
            " 87%|████████▋ | 26/30 [42:12<06:14, 93.51s/it, best loss: 44.60947385822959]"
          ],
          "name": "stdout"
        },
        {
          "output_type": "stream",
          "text": [
            "2021-04-07 00:05:04,611 Wrote model metadata to file ampl_output/delaney_curated_final/RF_ecfp_scaffold_regression/a4f396f9-d2fd-4380-9b2a-f39438539df6/model_metadata.json\n"
          ],
          "name": "stderr"
        },
        {
          "output_type": "stream",
          "text": [
            "Wrote model tarball to ampl_output/delaney_curated_final_model_a4f396f9-d2fd-4380-9b2a-f39438539df6.tar.gz\n",
            " 87%|████████▋ | 26/30 [42:24<06:14, 93.51s/it, best loss: 44.60947385822959]"
          ],
          "name": "stdout"
        },
        {
          "output_type": "stream",
          "text": [
            "2021-04-07 00:05:05,190 Wrote model metrics to file ampl_output/delaney_curated_final/RF_ecfp_scaffold_regression/a4f396f9-d2fd-4380-9b2a-f39438539df6/model_metrics.json\n"
          ],
          "name": "stderr"
        },
        {
          "output_type": "stream",
          "text": [
            "number of features: 1024\n",
            " 90%|█████████ | 27/30 [43:36<04:43, 94.63s/it, best loss: 44.60947385822959]"
          ],
          "name": "stdout"
        },
        {
          "output_type": "stream",
          "text": [
            "2021-04-07 00:06:20,150 Previous dataset split restored\n"
          ],
          "name": "stderr"
        },
        {
          "output_type": "stream",
          "text": [
            "n_cnt\n",
            "[11292.]\n",
            "y_means\n",
            "[5.16341151]\n",
            "y_stds\n",
            "[0.84529703]\n",
            "TIMING: dataset construction took 0.486 s\n",
            "Loading dataset from disk.\n",
            "TIMING: dataset construction took 0.050 s\n",
            "Loading dataset from disk.\n",
            "TIMING: dataset construction took 0.067 s\n",
            "Loading dataset from disk.\n",
            " 90%|█████████ | 27/30 [43:40<04:43, 94.63s/it, best loss: 44.60947385822959]"
          ],
          "name": "stdout"
        },
        {
          "output_type": "stream",
          "text": [
            "2021-04-07 00:06:32,102 Wrote model metadata to file ampl_output/delaney_curated_final/RF_ecfp_scaffold_regression/78d97c83-6df0-4224-8626-4e41f8f18141/model_metadata.json\n"
          ],
          "name": "stderr"
        },
        {
          "output_type": "stream",
          "text": [
            "Wrote model tarball to ampl_output/delaney_curated_final_model_78d97c83-6df0-4224-8626-4e41f8f18141.tar.gz\n",
            " 90%|█████████ | 27/30 [43:52<04:43, 94.63s/it, best loss: 44.60947385822959]"
          ],
          "name": "stdout"
        },
        {
          "output_type": "stream",
          "text": [
            "2021-04-07 00:06:32,840 Wrote model metrics to file ampl_output/delaney_curated_final/RF_ecfp_scaffold_regression/78d97c83-6df0-4224-8626-4e41f8f18141/model_metrics.json\n"
          ],
          "name": "stderr"
        },
        {
          "output_type": "stream",
          "text": [
            "number of features: 1024\n",
            " 93%|█████████▎| 28/30 [45:03<03:05, 92.54s/it, best loss: 44.60947385822959]"
          ],
          "name": "stdout"
        },
        {
          "output_type": "stream",
          "text": [
            "2021-04-07 00:07:47,023 Previous dataset split restored\n"
          ],
          "name": "stderr"
        },
        {
          "output_type": "stream",
          "text": [
            "n_cnt\n",
            "[11292.]\n",
            "y_means\n",
            "[5.16341151]\n",
            "y_stds\n",
            "[0.84529703]\n",
            "TIMING: dataset construction took 0.495 s\n",
            "Loading dataset from disk.\n",
            "TIMING: dataset construction took 0.066 s\n",
            "Loading dataset from disk.\n",
            "TIMING: dataset construction took 0.069 s\n",
            "Loading dataset from disk.\n",
            " 93%|█████████▎| 28/30 [45:07<03:05, 92.54s/it, best loss: 44.60947385822959]"
          ],
          "name": "stdout"
        },
        {
          "output_type": "stream",
          "text": [
            "2021-04-07 00:07:51,950 Wrote model metadata to file ampl_output/delaney_curated_final/RF_ecfp_scaffold_regression/b1d856b0-f96f-4bc6-9c6a-d67fa723362d/model_metadata.json\n"
          ],
          "name": "stderr"
        },
        {
          "output_type": "stream",
          "text": [
            "Wrote model tarball to ampl_output/delaney_curated_final_model_b1d856b0-f96f-4bc6-9c6a-d67fa723362d.tar.gz\n",
            " 93%|█████████▎| 28/30 [45:11<03:05, 92.54s/it, best loss: 44.60947385822959]"
          ],
          "name": "stdout"
        },
        {
          "output_type": "stream",
          "text": [
            "2021-04-07 00:07:52,058 Wrote model metrics to file ampl_output/delaney_curated_final/RF_ecfp_scaffold_regression/b1d856b0-f96f-4bc6-9c6a-d67fa723362d/model_metrics.json\n"
          ],
          "name": "stderr"
        },
        {
          "output_type": "stream",
          "text": [
            "number of features: 1024\n",
            " 97%|█████████▋| 29/30 [46:22<01:28, 88.54s/it, best loss: 44.60947385822959]"
          ],
          "name": "stdout"
        },
        {
          "output_type": "stream",
          "text": [
            "2021-04-07 00:09:05,981 Previous dataset split restored\n"
          ],
          "name": "stderr"
        },
        {
          "output_type": "stream",
          "text": [
            "n_cnt\n",
            "[11292.]\n",
            "y_means\n",
            "[5.16341151]\n",
            "y_stds\n",
            "[0.84529703]\n",
            "TIMING: dataset construction took 0.504 s\n",
            "Loading dataset from disk.\n",
            "TIMING: dataset construction took 0.068 s\n",
            "Loading dataset from disk.\n",
            "TIMING: dataset construction took 0.070 s\n",
            "Loading dataset from disk.\n",
            " 97%|█████████▋| 29/30 [46:26<01:28, 88.54s/it, best loss: 44.60947385822959]"
          ],
          "name": "stdout"
        },
        {
          "output_type": "stream",
          "text": [
            "2021-04-07 00:09:24,668 Wrote model metadata to file ampl_output/delaney_curated_final/RF_ecfp_scaffold_regression/3b020115-4851-403c-9245-1b235e6ae01f/model_metadata.json\n"
          ],
          "name": "stderr"
        },
        {
          "output_type": "stream",
          "text": [
            "Wrote model tarball to ampl_output/delaney_curated_final_model_3b020115-4851-403c-9245-1b235e6ae01f.tar.gz\n",
            " 97%|█████████▋| 29/30 [46:44<01:28, 88.54s/it, best loss: 44.60947385822959]"
          ],
          "name": "stdout"
        },
        {
          "output_type": "stream",
          "text": [
            "2021-04-07 00:09:25,055 Wrote model metrics to file ampl_output/delaney_curated_final/RF_ecfp_scaffold_regression/3b020115-4851-403c-9245-1b235e6ae01f/model_metrics.json\n"
          ],
          "name": "stderr"
        },
        {
          "output_type": "stream",
          "text": [
            "100%|██████████| 30/30 [46:44<00:00, 93.49s/it, best loss: 44.60947385822959]\n"
          ],
          "name": "stdout"
        }
      ]
    },
    {
      "cell_type": "code",
      "metadata": {
        "id": "2l-of-gh7Jaq",
        "colab": {
          "base_uri": "https://localhost:8080/",
          "height": 635
        },
        "outputId": "be9cb149-4cdc-4c05-d0ba-2f1f9596778e"
      },
      "source": [
        "r2_list = [1-new_trials.trials[i][\"result\"][\"loss\"] for i in range(len(new_trials.trials))]\n",
        "fig, ax = plt.subplots(1,1,figsize=(10,10))\n",
        "sns.lineplot(x=list(range(1,len(new_trials.trials)+1)), y=r2_list, ax=ax)\n",
        "ax.set_ylim(0.2,0.6)"
      ],
      "execution_count": 90,
      "outputs": [
        {
          "output_type": "execute_result",
          "data": {
            "text/plain": [
              "(0.2, 0.6)"
            ]
          },
          "metadata": {
            "tags": []
          },
          "execution_count": 90
        },
        {
          "output_type": "display_data",
          "data": {
            "image/png": "[encoded data removed]",
            "text/plain": [
              "<Figure size 720x720 with 1 Axes>"
            ]
          },
          "metadata": {
            "tags": []
          }
        }
      ]
    },
    {
      "cell_type": "code",
      "metadata": {
        "id": "lhvjj4tx7LQB"
      },
      "source": [
        "rfe_list = [new_trials.trials[i][\"result\"][\"rf_estimator\"] for i in range(len(new_trials.trials))]\n",
        "rfd_list = [new_trials.trials[i][\"result\"][\"rf_depth\"] for i in range(len(new_trials.trials))]\n",
        "rff_list = [new_trials.trials[i][\"result\"][\"rf_feature\"] for i in range(len(new_trials.trials))]"
      ],
      "execution_count": 91,
      "outputs": []
    },
    {
      "cell_type": "code",
      "metadata": {
        "id": "1ELOR0Ij7OVJ",
        "colab": {
          "base_uri": "https://localhost:8080/",
          "height": 1000
        },
        "outputId": "f190c6e1-5535-4011-9e75-2a0ba9a4624f"
      },
      "source": [
        "perf_df = pd.DataFrame({\"rf_estimators\": rfe_list, \"rf_max_depth\": rfd_list, \"rf_max_features\": rff_list, \"valid_r2_score\": r2_list})\n",
        "perf_df.sort_values(by=\"valid_r2_score\", ascending=False)"
      ],
      "execution_count": 92,
      "outputs": [
        {
          "output_type": "execute_result",
          "data": {
            "text/html": [
              "<div>\n",
              "<style scoped>\n",
              "    .dataframe tbody tr th:only-of-type {\n",
              "        vertical-align: middle;\n",
              "    }\n",
              "\n",
              "    .dataframe tbody tr th {\n",
              "        vertical-align: top;\n",
              "    }\n",
              "\n",
              "    .dataframe thead th {\n",
              "        text-align: right;\n",
              "    }\n",
              "</style>\n",
              "<table border=\"1\" class=\"dataframe\">\n",
              "  <thead>\n",
              "    <tr style=\"text-align: right;\">\n",
              "      <th></th>\n",
              "      <th>rf_estimators</th>\n",
              "      <th>rf_max_depth</th>\n",
              "      <th>rf_max_features</th>\n",
              "      <th>valid_r2_score</th>\n",
              "    </tr>\n",
              "  </thead>\n",
              "  <tbody>\n",
              "    <tr>\n",
              "      <th>9</th>\n",
              "      <td>100</td>\n",
              "      <td>15</td>\n",
              "      <td>131</td>\n",
              "      <td>-43.609474</td>\n",
              "    </tr>\n",
              "    <tr>\n",
              "      <th>1</th>\n",
              "      <td>191</td>\n",
              "      <td>22</td>\n",
              "      <td>134</td>\n",
              "      <td>-43.758670</td>\n",
              "    </tr>\n",
              "    <tr>\n",
              "      <th>39</th>\n",
              "      <td>57</td>\n",
              "      <td>20</td>\n",
              "      <td>196</td>\n",
              "      <td>-43.918076</td>\n",
              "    </tr>\n",
              "    <tr>\n",
              "      <th>6</th>\n",
              "      <td>144</td>\n",
              "      <td>20</td>\n",
              "      <td>161</td>\n",
              "      <td>-44.040470</td>\n",
              "    </tr>\n",
              "    <tr>\n",
              "      <th>26</th>\n",
              "      <td>84</td>\n",
              "      <td>9</td>\n",
              "      <td>169</td>\n",
              "      <td>-44.187393</td>\n",
              "    </tr>\n",
              "    <tr>\n",
              "      <th>24</th>\n",
              "      <td>117</td>\n",
              "      <td>12</td>\n",
              "      <td>67</td>\n",
              "      <td>-44.599352</td>\n",
              "    </tr>\n",
              "    <tr>\n",
              "      <th>49</th>\n",
              "      <td>133</td>\n",
              "      <td>21</td>\n",
              "      <td>236</td>\n",
              "      <td>-44.772572</td>\n",
              "    </tr>\n",
              "    <tr>\n",
              "      <th>20</th>\n",
              "      <td>102</td>\n",
              "      <td>9</td>\n",
              "      <td>87</td>\n",
              "      <td>-44.915981</td>\n",
              "    </tr>\n",
              "    <tr>\n",
              "      <th>21</th>\n",
              "      <td>240</td>\n",
              "      <td>40</td>\n",
              "      <td>78</td>\n",
              "      <td>-44.979670</td>\n",
              "    </tr>\n",
              "    <tr>\n",
              "      <th>35</th>\n",
              "      <td>166</td>\n",
              "      <td>29</td>\n",
              "      <td>165</td>\n",
              "      <td>-45.305525</td>\n",
              "    </tr>\n",
              "    <tr>\n",
              "      <th>28</th>\n",
              "      <td>172</td>\n",
              "      <td>28</td>\n",
              "      <td>116</td>\n",
              "      <td>-45.324018</td>\n",
              "    </tr>\n",
              "    <tr>\n",
              "      <th>13</th>\n",
              "      <td>157</td>\n",
              "      <td>209</td>\n",
              "      <td>46</td>\n",
              "      <td>-45.415008</td>\n",
              "    </tr>\n",
              "    <tr>\n",
              "      <th>38</th>\n",
              "      <td>129</td>\n",
              "      <td>224</td>\n",
              "      <td>33</td>\n",
              "      <td>-45.854014</td>\n",
              "    </tr>\n",
              "    <tr>\n",
              "      <th>7</th>\n",
              "      <td>209</td>\n",
              "      <td>131</td>\n",
              "      <td>24</td>\n",
              "      <td>-46.262057</td>\n",
              "    </tr>\n",
              "    <tr>\n",
              "      <th>19</th>\n",
              "      <td>50</td>\n",
              "      <td>81</td>\n",
              "      <td>48</td>\n",
              "      <td>-46.330948</td>\n",
              "    </tr>\n",
              "    <tr>\n",
              "      <th>23</th>\n",
              "      <td>176</td>\n",
              "      <td>46</td>\n",
              "      <td>100</td>\n",
              "      <td>-46.360771</td>\n",
              "    </tr>\n",
              "    <tr>\n",
              "      <th>16</th>\n",
              "      <td>224</td>\n",
              "      <td>62</td>\n",
              "      <td>134</td>\n",
              "      <td>-46.747230</td>\n",
              "    </tr>\n",
              "    <tr>\n",
              "      <th>41</th>\n",
              "      <td>186</td>\n",
              "      <td>68</td>\n",
              "      <td>127</td>\n",
              "      <td>-46.815958</td>\n",
              "    </tr>\n",
              "    <tr>\n",
              "      <th>31</th>\n",
              "      <td>89</td>\n",
              "      <td>58</td>\n",
              "      <td>14</td>\n",
              "      <td>-46.889417</td>\n",
              "    </tr>\n",
              "    <tr>\n",
              "      <th>0</th>\n",
              "      <td>189</td>\n",
              "      <td>204</td>\n",
              "      <td>123</td>\n",
              "      <td>-46.890468</td>\n",
              "    </tr>\n",
              "    <tr>\n",
              "      <th>30</th>\n",
              "      <td>226</td>\n",
              "      <td>151</td>\n",
              "      <td>137</td>\n",
              "      <td>-46.897851</td>\n",
              "    </tr>\n",
              "    <tr>\n",
              "      <th>27</th>\n",
              "      <td>123</td>\n",
              "      <td>46</td>\n",
              "      <td>99</td>\n",
              "      <td>-46.928753</td>\n",
              "    </tr>\n",
              "    <tr>\n",
              "      <th>37</th>\n",
              "      <td>255</td>\n",
              "      <td>114</td>\n",
              "      <td>87</td>\n",
              "      <td>-46.936478</td>\n",
              "    </tr>\n",
              "    <tr>\n",
              "      <th>2</th>\n",
              "      <td>209</td>\n",
              "      <td>92</td>\n",
              "      <td>152</td>\n",
              "      <td>-47.076587</td>\n",
              "    </tr>\n",
              "    <tr>\n",
              "      <th>18</th>\n",
              "      <td>198</td>\n",
              "      <td>77</td>\n",
              "      <td>184</td>\n",
              "      <td>-47.166097</td>\n",
              "    </tr>\n",
              "    <tr>\n",
              "      <th>22</th>\n",
              "      <td>100</td>\n",
              "      <td>30</td>\n",
              "      <td>199</td>\n",
              "      <td>-47.170118</td>\n",
              "    </tr>\n",
              "    <tr>\n",
              "      <th>43</th>\n",
              "      <td>155</td>\n",
              "      <td>41</td>\n",
              "      <td>222</td>\n",
              "      <td>-47.204475</td>\n",
              "    </tr>\n",
              "    <tr>\n",
              "      <th>36</th>\n",
              "      <td>210</td>\n",
              "      <td>59</td>\n",
              "      <td>222</td>\n",
              "      <td>-47.264450</td>\n",
              "    </tr>\n",
              "    <tr>\n",
              "      <th>47</th>\n",
              "      <td>88</td>\n",
              "      <td>187</td>\n",
              "      <td>106</td>\n",
              "      <td>-47.348186</td>\n",
              "    </tr>\n",
              "    <tr>\n",
              "      <th>44</th>\n",
              "      <td>108</td>\n",
              "      <td>126</td>\n",
              "      <td>114</td>\n",
              "      <td>-47.388867</td>\n",
              "    </tr>\n",
              "    <tr>\n",
              "      <th>42</th>\n",
              "      <td>145</td>\n",
              "      <td>89</td>\n",
              "      <td>172</td>\n",
              "      <td>-47.389535</td>\n",
              "    </tr>\n",
              "    <tr>\n",
              "      <th>40</th>\n",
              "      <td>223</td>\n",
              "      <td>169</td>\n",
              "      <td>153</td>\n",
              "      <td>-47.413086</td>\n",
              "    </tr>\n",
              "    <tr>\n",
              "      <th>33</th>\n",
              "      <td>140</td>\n",
              "      <td>244</td>\n",
              "      <td>147</td>\n",
              "      <td>-47.470750</td>\n",
              "    </tr>\n",
              "    <tr>\n",
              "      <th>4</th>\n",
              "      <td>150</td>\n",
              "      <td>110</td>\n",
              "      <td>182</td>\n",
              "      <td>-47.620553</td>\n",
              "    </tr>\n",
              "    <tr>\n",
              "      <th>8</th>\n",
              "      <td>136</td>\n",
              "      <td>130</td>\n",
              "      <td>133</td>\n",
              "      <td>-47.834101</td>\n",
              "    </tr>\n",
              "    <tr>\n",
              "      <th>29</th>\n",
              "      <td>45</td>\n",
              "      <td>101</td>\n",
              "      <td>62</td>\n",
              "      <td>-47.855466</td>\n",
              "    </tr>\n",
              "    <tr>\n",
              "      <th>32</th>\n",
              "      <td>197</td>\n",
              "      <td>174</td>\n",
              "      <td>182</td>\n",
              "      <td>-48.040620</td>\n",
              "    </tr>\n",
              "    <tr>\n",
              "      <th>17</th>\n",
              "      <td>114</td>\n",
              "      <td>205</td>\n",
              "      <td>149</td>\n",
              "      <td>-48.089854</td>\n",
              "    </tr>\n",
              "    <tr>\n",
              "      <th>34</th>\n",
              "      <td>72</td>\n",
              "      <td>96</td>\n",
              "      <td>114</td>\n",
              "      <td>-48.095605</td>\n",
              "    </tr>\n",
              "    <tr>\n",
              "      <th>14</th>\n",
              "      <td>180</td>\n",
              "      <td>154</td>\n",
              "      <td>244</td>\n",
              "      <td>-48.265651</td>\n",
              "    </tr>\n",
              "    <tr>\n",
              "      <th>25</th>\n",
              "      <td>160</td>\n",
              "      <td>150</td>\n",
              "      <td>205</td>\n",
              "      <td>-48.323893</td>\n",
              "    </tr>\n",
              "    <tr>\n",
              "      <th>46</th>\n",
              "      <td>69</td>\n",
              "      <td>142</td>\n",
              "      <td>159</td>\n",
              "      <td>-48.327582</td>\n",
              "    </tr>\n",
              "    <tr>\n",
              "      <th>5</th>\n",
              "      <td>63</td>\n",
              "      <td>254</td>\n",
              "      <td>247</td>\n",
              "      <td>-48.375294</td>\n",
              "    </tr>\n",
              "    <tr>\n",
              "      <th>12</th>\n",
              "      <td>251</td>\n",
              "      <td>119</td>\n",
              "      <td>223</td>\n",
              "      <td>-48.521828</td>\n",
              "    </tr>\n",
              "    <tr>\n",
              "      <th>3</th>\n",
              "      <td>74</td>\n",
              "      <td>61</td>\n",
              "      <td>154</td>\n",
              "      <td>-48.529736</td>\n",
              "    </tr>\n",
              "    <tr>\n",
              "      <th>45</th>\n",
              "      <td>36</td>\n",
              "      <td>108</td>\n",
              "      <td>143</td>\n",
              "      <td>-48.943772</td>\n",
              "    </tr>\n",
              "    <tr>\n",
              "      <th>11</th>\n",
              "      <td>27</td>\n",
              "      <td>195</td>\n",
              "      <td>121</td>\n",
              "      <td>-50.543749</td>\n",
              "    </tr>\n",
              "    <tr>\n",
              "      <th>48</th>\n",
              "      <td>16</td>\n",
              "      <td>53</td>\n",
              "      <td>72</td>\n",
              "      <td>-50.855292</td>\n",
              "    </tr>\n",
              "    <tr>\n",
              "      <th>15</th>\n",
              "      <td>24</td>\n",
              "      <td>78</td>\n",
              "      <td>246</td>\n",
              "      <td>-51.132506</td>\n",
              "    </tr>\n",
              "    <tr>\n",
              "      <th>10</th>\n",
              "      <td>15</td>\n",
              "      <td>79</td>\n",
              "      <td>104</td>\n",
              "      <td>-51.795383</td>\n",
              "    </tr>\n",
              "  </tbody>\n",
              "</table>\n",
              "</div>"
            ],
            "text/plain": [
              "    rf_estimators  rf_max_depth  rf_max_features  valid_r2_score\n",
              "9             100            15              131      -43.609474\n",
              "1             191            22              134      -43.758670\n",
              "39             57            20              196      -43.918076\n",
              "6             144            20              161      -44.040470\n",
              "26             84             9              169      -44.187393\n",
              "24            117            12               67      -44.599352\n",
              "49            133            21              236      -44.772572\n",
              "20            102             9               87      -44.915981\n",
              "21            240            40               78      -44.979670\n",
              "35            166            29              165      -45.305525\n",
              "28            172            28              116      -45.324018\n",
              "13            157           209               46      -45.415008\n",
              "38            129           224               33      -45.854014\n",
              "7             209           131               24      -46.262057\n",
              "19             50            81               48      -46.330948\n",
              "23            176            46              100      -46.360771\n",
              "16            224            62              134      -46.747230\n",
              "41            186            68              127      -46.815958\n",
              "31             89            58               14      -46.889417\n",
              "0             189           204              123      -46.890468\n",
              "30            226           151              137      -46.897851\n",
              "27            123            46               99      -46.928753\n",
              "37            255           114               87      -46.936478\n",
              "2             209            92              152      -47.076587\n",
              "18            198            77              184      -47.166097\n",
              "22            100            30              199      -47.170118\n",
              "43            155            41              222      -47.204475\n",
              "36            210            59              222      -47.264450\n",
              "47             88           187              106      -47.348186\n",
              "44            108           126              114      -47.388867\n",
              "42            145            89              172      -47.389535\n",
              "40            223           169              153      -47.413086\n",
              "33            140           244              147      -47.470750\n",
              "4             150           110              182      -47.620553\n",
              "8             136           130              133      -47.834101\n",
              "29             45           101               62      -47.855466\n",
              "32            197           174              182      -48.040620\n",
              "17            114           205              149      -48.089854\n",
              "34             72            96              114      -48.095605\n",
              "14            180           154              244      -48.265651\n",
              "25            160           150              205      -48.323893\n",
              "46             69           142              159      -48.327582\n",
              "5              63           254              247      -48.375294\n",
              "12            251           119              223      -48.521828\n",
              "3              74            61              154      -48.529736\n",
              "45             36           108              143      -48.943772\n",
              "11             27           195              121      -50.543749\n",
              "48             16            53               72      -50.855292\n",
              "15             24            78              246      -51.132506\n",
              "10             15            79              104      -51.795383"
            ]
          },
          "metadata": {
            "tags": []
          },
          "execution_count": 92
        }
      ]
    }
  ]
}