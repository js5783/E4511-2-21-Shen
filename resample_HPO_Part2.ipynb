{
  "nbformat": 4,
  "nbformat_minor": 0,
  "metadata": {
    "accelerator": "GPU",
    "colab": {
      "name": "resample_HPO_Part2.ipynb",
      "provenance": [],
      "collapsed_sections": [
        "SZ70ierx3pq2",
        "mTOwqhvR3xL3",
        "XA8ARleo3h53",
        "pKP_mFuB5giz",
        "dBQ-bRaW9oq5",
        "vK6rAXyO9rL8",
        "quStVkT996lA",
        "o1rIVfBKCPT5",
        "oHjYDaTNBYjQ"
      ],
      "machine_shape": "hm",
      "include_colab_link": true
    },
    "kernelspec": {
      "display_name": "Python 3",
      "name": "python3"
    }
  },
  "cells": [
    {
      "cell_type": "markdown",
      "metadata": {
        "id": "view-in-github",
        "colab_type": "text"
      },
      "source": [
        "<a href=\"https://colab.research.google.com/github/js5783/E4511-2021-Shen/blob/main/resample_HPO_Part2.ipynb\" target=\"_parent\"><img src=\"https://colab.research.google.com/assets/colab-badge.svg\" alt=\"Open In Colab\"/></a>"
      ]
    },
    {
      "cell_type": "markdown",
      "metadata": {
        "id": "SZ70ierx3pq2"
      },
      "source": [
        "### Install AMPL packages"
      ]
    },
    {
      "cell_type": "code",
      "metadata": {
        "colab": {
          "base_uri": "https://localhost:8080/"
        },
        "id": "dYPEij6rwDmP",
        "outputId": "2bdc8d59-236f-4060-db00-85be68c9fdb2"
      },
      "source": [
        "%tensorflow_version 1.x"
      ],
      "execution_count": null,
      "outputs": [
        {
          "output_type": "stream",
          "text": [
            "TensorFlow 1.x selected.\n"
          ],
          "name": "stdout"
        }
      ]
    },
    {
      "cell_type": "code",
      "metadata": {
        "colab": {
          "base_uri": "https://localhost:8080/"
        },
        "id": "nNuv4Q5KFABw",
        "outputId": "29b101d6-9ed6-4f1e-a45e-11de9cce549c"
      },
      "source": [
        "! wget -c https://repo.anaconda.com/archive/Anaconda3-2019.10-Linux-x86_64.sh\n",
        "! chmod +x Anaconda3-2019.10-Linux-x86_64.sh\n",
        "! bash ./Anaconda3-2019.10-Linux-x86_64.sh -b -f -p /usr/local\n",
        "\n",
        "# ! wget -c https://repo.anaconda.com/miniconda/Miniconda3-py37_4.9.2-Linux-x86_64.sh \n",
        "# ! chmod +x Miniconda3-py37_4.9.2-Linux-x86_64.sh\n",
        "# ! time bash Miniconda3-py37_4.9.2-Linux-x86_64.sh -b -f -p /usr/local\n",
        "\n",
        "! time conda install -y -c deepchem -c rdkit -c conda-forge -c omnia deepchem-gpu=2.3.0\n",
        "import sys\n",
        "sys.path.append('/usr/local/lib/python3.7/site-packages/')"
      ],
      "execution_count": null,
      "outputs": [
        {
          "output_type": "stream",
          "text": [
            "--2021-04-27 22:37:10--  https://repo.anaconda.com/archive/Anaconda3-2019.10-Linux-x86_64.sh\n",
            "Resolving repo.anaconda.com (repo.anaconda.com)... 104.16.130.3, 104.16.131.3, 2606:4700::6810:8303, ...\n",
            "Connecting to repo.anaconda.com (repo.anaconda.com)|104.16.130.3|:443... connected.\n",
            "HTTP request sent, awaiting response... 200 OK\n",
            "Length: 530308481 (506M) [application/x-sh]\n",
            "Saving to: ‘Anaconda3-2019.10-Linux-x86_64.sh’\n",
            "\n",
            "Anaconda3-2019.10-L 100%[===================>] 505.74M   120MB/s    in 4.0s    \n",
            "\n",
            "2021-04-27 22:37:14 (127 MB/s) - ‘Anaconda3-2019.10-Linux-x86_64.sh’ saved [530308481/530308481]\n",
            "\n",
            "PREFIX=/usr/local\n",
            "Unpacking payload ...\n",
            "Collecting package metadata (current_repodata.json): - \b\b\\ \b\b| \b\b/ \b\b- \b\b\\ \b\b| \b\b/ \b\b- \b\bdone\n",
            "Solving environment: | \b\b/ \b\b- \b\b\\ \b\b| \b\b/ \b\b- \b\b\\ \b\b| \b\b/ \b\b- \b\b\\ \b\b| \b\b/ \b\b- \b\b\\ \b\b| \b\b/ \b\b- \b\bdone\n",
            "\n",
            "## Package Plan ##\n",
            "\n",
            "  environment location: /usr/local\n",
            "\n",
            "  added / updated specs:\n",
            "    - _ipyw_jlab_nb_ext_conf==0.1.0=py37_0\n",
            "    - _libgcc_mutex==0.1=main\n",
            "    - alabaster==0.7.12=py37_0\n",
            "    - anaconda-client==1.7.2=py37_0\n",
            "    - anaconda-navigator==1.9.7=py37_0\n",
            "    - anaconda-project==0.8.3=py_0\n",
            "    - anaconda==2019.10=py37_0\n",
            "    - asn1crypto==1.0.1=py37_0\n",
            "    - astroid==2.3.1=py37_0\n",
            "    - astropy==3.2.2=py37h7b6447c_0\n",
            "    - atomicwrites==1.3.0=py37_1\n",
            "    - attrs==19.2.0=py_0\n",
            "    - babel==2.7.0=py_0\n",
            "    - backcall==0.1.0=py37_0\n",
            "    - backports.functools_lru_cache==1.5=py_2\n",
            "    - backports.os==0.1.1=py37_0\n",
            "    - backports.shutil_get_terminal_size==1.0.0=py37_2\n",
            "    - backports.tempfile==1.0=py_1\n",
            "    - backports.weakref==1.0.post1=py_1\n",
            "    - backports==1.0=py_2\n",
            "    - beautifulsoup4==4.8.0=py37_0\n",
            "    - bitarray==1.0.1=py37h7b6447c_0\n",
            "    - bkcharts==0.2=py37_0\n",
            "    - blas==1.0=mkl\n",
            "    - bleach==3.1.0=py37_0\n",
            "    - blosc==1.16.3=hd408876_0\n",
            "    - bokeh==1.3.4=py37_0\n",
            "    - boto==2.49.0=py37_0\n",
            "    - bottleneck==1.2.1=py37h035aef0_1\n",
            "    - bzip2==1.0.8=h7b6447c_0\n",
            "    - ca-certificates==2019.8.28=0\n",
            "    - cairo==1.14.12=h8948797_3\n",
            "    - certifi==2019.9.11=py37_0\n",
            "    - cffi==1.12.3=py37h2e261b9_0\n",
            "    - chardet==3.0.4=py37_1003\n",
            "    - click==7.0=py37_0\n",
            "    - cloudpickle==1.2.2=py_0\n",
            "    - clyent==1.2.2=py37_1\n",
            "    - colorama==0.4.1=py37_0\n",
            "    - conda-build==3.18.9=py37_3\n",
            "    - conda-env==2.6.0=1\n",
            "    - conda-package-handling==1.6.0=py37h7b6447c_0\n",
            "    - conda-verify==3.4.2=py_1\n",
            "    - conda==4.7.12=py37_0\n",
            "    - contextlib2==0.6.0=py_0\n",
            "    - cryptography==2.7=py37h1ba5d50_0\n",
            "    - curl==7.65.3=hbc83047_0\n",
            "    - cycler==0.10.0=py37_0\n",
            "    - cython==0.29.13=py37he6710b0_0\n",
            "    - cytoolz==0.10.0=py37h7b6447c_0\n",
            "    - dask-core==2.5.2=py_0\n",
            "    - dask==2.5.2=py_0\n",
            "    - dbus==1.13.6=h746ee38_0\n",
            "    - decorator==4.4.0=py37_1\n",
            "    - defusedxml==0.6.0=py_0\n",
            "    - distributed==2.5.2=py_0\n",
            "    - docutils==0.15.2=py37_0\n",
            "    - entrypoints==0.3=py37_0\n",
            "    - et_xmlfile==1.0.1=py37_0\n",
            "    - expat==2.2.6=he6710b0_0\n",
            "    - fastcache==1.1.0=py37h7b6447c_0\n",
            "    - filelock==3.0.12=py_0\n",
            "    - flask==1.1.1=py_0\n",
            "    - fontconfig==2.13.0=h9420a91_0\n",
            "    - freetype==2.9.1=h8a8886c_1\n",
            "    - fribidi==1.0.5=h7b6447c_0\n",
            "    - fsspec==0.5.2=py_0\n",
            "    - future==0.17.1=py37_0\n",
            "    - get_terminal_size==1.0.0=haa9412d_0\n",
            "    - gevent==1.4.0=py37h7b6447c_0\n",
            "    - glib==2.56.2=hd408876_0\n",
            "    - glob2==0.7=py_0\n",
            "    - gmp==6.1.2=h6c8ec71_1\n",
            "    - gmpy2==2.0.8=py37h10f8cd9_2\n",
            "    - graphite2==1.3.13=h23475e2_0\n",
            "    - greenlet==0.4.15=py37h7b6447c_0\n",
            "    - gst-plugins-base==1.14.0=hbbd80ab_1\n",
            "    - gstreamer==1.14.0=hb453b48_1\n",
            "    - h5py==2.9.0=py37h7918eee_0\n",
            "    - harfbuzz==1.8.8=hffaf4a1_0\n",
            "    - hdf5==1.10.4=hb1b8bf9_0\n",
            "    - heapdict==1.0.1=py_0\n",
            "    - html5lib==1.0.1=py37_0\n",
            "    - icu==58.2=h9c2bf20_1\n",
            "    - idna==2.8=py37_0\n",
            "    - imageio==2.6.0=py37_0\n",
            "    - imagesize==1.1.0=py37_0\n",
            "    - importlib_metadata==0.23=py37_0\n",
            "    - intel-openmp==2019.4=243\n",
            "    - ipykernel==5.1.2=py37h39e3cac_0\n",
            "    - ipython==7.8.0=py37h39e3cac_0\n",
            "    - ipython_genutils==0.2.0=py37_0\n",
            "    - ipywidgets==7.5.1=py_0\n",
            "    - isort==4.3.21=py37_0\n",
            "    - itsdangerous==1.1.0=py37_0\n",
            "    - jbig==2.1=hdba287a_0\n",
            "    - jdcal==1.4.1=py_0\n",
            "    - jedi==0.15.1=py37_0\n",
            "    - jeepney==0.4.1=py_0\n",
            "    - jinja2==2.10.3=py_0\n",
            "    - joblib==0.13.2=py37_0\n",
            "    - jpeg==9b=h024ee3a_2\n",
            "    - json5==0.8.5=py_0\n",
            "    - jsonschema==3.0.2=py37_0\n",
            "    - jupyter==1.0.0=py37_7\n",
            "    - jupyter_client==5.3.3=py37_1\n",
            "    - jupyter_console==6.0.0=py37_0\n",
            "    - jupyter_core==4.5.0=py_0\n",
            "    - jupyterlab==1.1.4=pyhf63ae98_0\n",
            "    - jupyterlab_server==1.0.6=py_0\n",
            "    - keyring==18.0.0=py37_0\n",
            "    - kiwisolver==1.1.0=py37he6710b0_0\n",
            "    - krb5==1.16.1=h173b8e3_7\n",
            "    - lazy-object-proxy==1.4.2=py37h7b6447c_0\n",
            "    - libarchive==3.3.3=h5d8350f_5\n",
            "    - libcurl==7.65.3=h20c2e04_0\n",
            "    - libedit==3.1.20181209=hc058e9b_0\n",
            "    - libffi==3.2.1=hd88cf55_4\n",
            "    - libgcc-ng==9.1.0=hdf63c60_0\n",
            "    - libgfortran-ng==7.3.0=hdf63c60_0\n",
            "    - liblief==0.9.0=h7725739_2\n",
            "    - libpng==1.6.37=hbc83047_0\n",
            "    - libsodium==1.0.16=h1bed415_0\n",
            "    - libssh2==1.8.2=h1ba5d50_0\n",
            "    - libstdcxx-ng==9.1.0=hdf63c60_0\n",
            "    - libtiff==4.0.10=h2733197_2\n",
            "    - libtool==2.4.6=h7b6447c_5\n",
            "    - libuuid==1.0.3=h1bed415_2\n",
            "    - libxcb==1.13=h1bed415_1\n",
            "    - libxml2==2.9.9=hea5a465_1\n",
            "    - libxslt==1.1.33=h7d1a2b0_0\n",
            "    - llvmlite==0.29.0=py37hd408876_0\n",
            "    - locket==0.2.0=py37_1\n",
            "    - lxml==4.4.1=py37hefd8a0e_0\n",
            "    - lz4-c==1.8.1.2=h14c3975_0\n",
            "    - lzo==2.10=h49e0be7_2\n",
            "    - markupsafe==1.1.1=py37h7b6447c_0\n",
            "    - matplotlib==3.1.1=py37h5429711_0\n",
            "    - mccabe==0.6.1=py37_1\n",
            "    - mistune==0.8.4=py37h7b6447c_0\n",
            "    - mkl-service==2.3.0=py37he904b0f_0\n",
            "    - mkl==2019.4=243\n",
            "    - mkl_fft==1.0.14=py37ha843d7b_0\n",
            "    - mkl_random==1.1.0=py37hd6b4f25_0\n",
            "    - mock==3.0.5=py37_0\n",
            "    - more-itertools==7.2.0=py37_0\n",
            "    - mpc==1.1.0=h10f8cd9_1\n",
            "    - mpfr==4.0.1=hdf1c602_3\n",
            "    - mpmath==1.1.0=py37_0\n",
            "    - msgpack-python==0.6.1=py37hfd86e86_1\n",
            "    - multipledispatch==0.6.0=py37_0\n",
            "    - navigator-updater==0.2.1=py37_0\n",
            "    - nbconvert==5.6.0=py37_1\n",
            "    - nbformat==4.4.0=py37_0\n",
            "    - ncurses==6.1=he6710b0_1\n",
            "    - networkx==2.3=py_0\n",
            "    - nltk==3.4.5=py37_0\n",
            "    - nose==1.3.7=py37_2\n",
            "    - notebook==6.0.1=py37_0\n",
            "    - numba==0.45.1=py37h962f231_0\n",
            "    - numexpr==2.7.0=py37h9e4a6bb_0\n",
            "    - numpy-base==1.17.2=py37hde5b4d6_0\n",
            "    - numpy==1.17.2=py37haad9e8e_0\n",
            "    - numpydoc==0.9.1=py_0\n",
            "    - olefile==0.46=py37_0\n",
            "    - openpyxl==3.0.0=py_0\n",
            "    - openssl==1.1.1d=h7b6447c_2\n",
            "    - packaging==19.2=py_0\n",
            "    - pandas==0.25.1=py37he6710b0_0\n",
            "    - pandoc==2.2.3.2=0\n",
            "    - pandocfilters==1.4.2=py37_1\n",
            "    - pango==1.42.4=h049681c_0\n",
            "    - parso==0.5.1=py_0\n",
            "    - partd==1.0.0=py_0\n",
            "    - patchelf==0.9=he6710b0_3\n",
            "    - path.py==12.0.1=py_0\n",
            "    - pathlib2==2.3.5=py37_0\n",
            "    - patsy==0.5.1=py37_0\n",
            "    - pcre==8.43=he6710b0_0\n",
            "    - pep8==1.7.1=py37_0\n",
            "    - pexpect==4.7.0=py37_0\n",
            "    - pickleshare==0.7.5=py37_0\n",
            "    - pillow==6.2.0=py37h34e0f95_0\n",
            "    - pip==19.2.3=py37_0\n",
            "    - pixman==0.38.0=h7b6447c_0\n",
            "    - pkginfo==1.5.0.1=py37_0\n",
            "    - pluggy==0.13.0=py37_0\n",
            "    - ply==3.11=py37_0\n",
            "    - prometheus_client==0.7.1=py_0\n",
            "    - prompt_toolkit==2.0.10=py_0\n",
            "    - psutil==5.6.3=py37h7b6447c_0\n",
            "    - ptyprocess==0.6.0=py37_0\n",
            "    - py-lief==0.9.0=py37h7725739_2\n",
            "    - py==1.8.0=py37_0\n",
            "    - pycodestyle==2.5.0=py37_0\n",
            "    - pycosat==0.6.3=py37h14c3975_0\n",
            "    - pycparser==2.19=py37_0\n",
            "    - pycrypto==2.6.1=py37h14c3975_9\n",
            "    - pycurl==7.43.0.3=py37h1ba5d50_0\n",
            "    - pyflakes==2.1.1=py37_0\n",
            "    - pygments==2.4.2=py_0\n",
            "    - pylint==2.4.2=py37_0\n",
            "    - pyodbc==4.0.27=py37he6710b0_0\n",
            "    - pyopenssl==19.0.0=py37_0\n",
            "    - pyparsing==2.4.2=py_0\n",
            "    - pyqt==5.9.2=py37h05f1152_2\n",
            "    - pyrsistent==0.15.4=py37h7b6447c_0\n",
            "    - pysocks==1.7.1=py37_0\n",
            "    - pytables==3.5.2=py37h71ec239_1\n",
            "    - pytest-arraydiff==0.3=py37h39e3cac_0\n",
            "    - pytest-astropy==0.5.0=py37_0\n",
            "    - pytest-doctestplus==0.4.0=py_0\n",
            "    - pytest-openfiles==0.4.0=py_0\n",
            "    - pytest-remotedata==0.3.2=py37_0\n",
            "    - pytest==5.2.1=py37_0\n",
            "    - python-dateutil==2.8.0=py37_0\n",
            "    - python-libarchive-c==2.8=py37_13\n",
            "    - python==3.7.4=h265db76_1\n",
            "    - pytz==2019.3=py_0\n",
            "    - pywavelets==1.0.3=py37hdd07704_1\n",
            "    - pyyaml==5.1.2=py37h7b6447c_0\n",
            "    - pyzmq==18.1.0=py37he6710b0_0\n",
            "    - qt==5.9.7=h5867ecd_1\n",
            "    - qtawesome==0.6.0=py_0\n",
            "    - qtconsole==4.5.5=py_0\n",
            "    - qtpy==1.9.0=py_0\n",
            "    - readline==7.0=h7b6447c_5\n",
            "    - requests==2.22.0=py37_0\n",
            "    - ripgrep==0.10.0=hc07d326_0\n",
            "    - rope==0.14.0=py_0\n",
            "    - ruamel_yaml==0.15.46=py37h14c3975_0\n",
            "    - scikit-image==0.15.0=py37he6710b0_0\n",
            "    - scikit-learn==0.21.3=py37hd81dba3_0\n",
            "    - scipy==1.3.1=py37h7c811a0_0\n",
            "    - seaborn==0.9.0=py37_0\n",
            "    - secretstorage==3.1.1=py37_0\n",
            "    - send2trash==1.5.0=py37_0\n",
            "    - setuptools==41.4.0=py37_0\n",
            "    - simplegeneric==0.8.1=py37_2\n",
            "    - singledispatch==3.4.0.3=py37_0\n",
            "    - sip==4.19.8=py37hf484d3e_0\n",
            "    - six==1.12.0=py37_0\n",
            "    - snappy==1.1.7=hbae5bb6_3\n",
            "    - snowballstemmer==2.0.0=py_0\n",
            "    - sortedcollections==1.1.2=py37_0\n",
            "    - sortedcontainers==2.1.0=py37_0\n",
            "    - soupsieve==1.9.3=py37_0\n",
            "    - sphinx==2.2.0=py_0\n",
            "    - sphinxcontrib-applehelp==1.0.1=py_0\n",
            "    - sphinxcontrib-devhelp==1.0.1=py_0\n",
            "    - sphinxcontrib-htmlhelp==1.0.2=py_0\n",
            "    - sphinxcontrib-jsmath==1.0.1=py_0\n",
            "    - sphinxcontrib-qthelp==1.0.2=py_0\n",
            "    - sphinxcontrib-serializinghtml==1.1.3=py_0\n",
            "    - sphinxcontrib-websupport==1.1.2=py_0\n",
            "    - sphinxcontrib==1.0=py37_1\n",
            "    - spyder-kernels==0.5.2=py37_0\n",
            "    - spyder==3.3.6=py37_0\n",
            "    - sqlalchemy==1.3.9=py37h7b6447c_0\n",
            "    - sqlite==3.30.0=h7b6447c_0\n",
            "    - statsmodels==0.10.1=py37hdd07704_0\n",
            "    - sympy==1.4=py37_0\n",
            "    - tbb==2019.4=hfd86e86_0\n",
            "    - tblib==1.4.0=py_0\n",
            "    - terminado==0.8.2=py37_0\n",
            "    - testpath==0.4.2=py37_0\n",
            "    - tk==8.6.8=hbc83047_0\n",
            "    - toolz==0.10.0=py_0\n",
            "    - tornado==6.0.3=py37h7b6447c_0\n",
            "    - tqdm==4.36.1=py_0\n",
            "    - traitlets==4.3.3=py37_0\n",
            "    - unicodecsv==0.14.1=py37_0\n",
            "    - unixodbc==2.3.7=h14c3975_0\n",
            "    - urllib3==1.24.2=py37_0\n",
            "    - wcwidth==0.1.7=py37_0\n",
            "    - webencodings==0.5.1=py37_1\n",
            "    - werkzeug==0.16.0=py_0\n",
            "    - wheel==0.33.6=py37_0\n",
            "    - widgetsnbextension==3.5.1=py37_0\n",
            "    - wrapt==1.11.2=py37h7b6447c_0\n",
            "    - wurlitzer==1.0.3=py37_0\n",
            "    - xlrd==1.2.0=py37_0\n",
            "    - xlsxwriter==1.2.1=py_0\n",
            "    - xlwt==1.3.0=py37_0\n",
            "    - xz==5.2.4=h14c3975_4\n",
            "    - yaml==0.1.7=had09818_2\n",
            "    - zeromq==4.3.1=he6710b0_3\n",
            "    - zict==1.0.0=py_0\n",
            "    - zipp==0.6.0=py_0\n",
            "    - zlib==1.2.11=h7b6447c_3\n",
            "    - zstd==1.3.7=h0b5b093_0\n",
            "\n",
            "\n",
            "The following NEW packages will be INSTALLED:\n",
            "\n",
            "  _ipyw_jlab_nb_ext~ pkgs/main/linux-64::_ipyw_jlab_nb_ext_conf-0.1.0-py37_0\n",
            "  _libgcc_mutex      pkgs/main/linux-64::_libgcc_mutex-0.1-main\n",
            "  alabaster          pkgs/main/linux-64::alabaster-0.7.12-py37_0\n",
            "  anaconda           pkgs/main/linux-64::anaconda-2019.10-py37_0\n",
            "  anaconda-client    pkgs/main/linux-64::anaconda-client-1.7.2-py37_0\n",
            "  anaconda-navigator pkgs/main/linux-64::anaconda-navigator-1.9.7-py37_0\n",
            "  anaconda-project   pkgs/main/noarch::anaconda-project-0.8.3-py_0\n",
            "  asn1crypto         pkgs/main/linux-64::asn1crypto-1.0.1-py37_0\n",
            "  astroid            pkgs/main/linux-64::astroid-2.3.1-py37_0\n",
            "  astropy            pkgs/main/linux-64::astropy-3.2.2-py37h7b6447c_0\n",
            "  atomicwrites       pkgs/main/linux-64::atomicwrites-1.3.0-py37_1\n",
            "  attrs              pkgs/main/noarch::attrs-19.2.0-py_0\n",
            "  babel              pkgs/main/noarch::babel-2.7.0-py_0\n",
            "  backcall           pkgs/main/linux-64::backcall-0.1.0-py37_0\n",
            "  backports          pkgs/main/noarch::backports-1.0-py_2\n",
            "  backports.functoo~ pkgs/main/noarch::backports.functools_lru_cache-1.5-py_2\n",
            "  backports.os       pkgs/main/linux-64::backports.os-0.1.1-py37_0\n",
            "  backports.shutil_~ pkgs/main/linux-64::backports.shutil_get_terminal_size-1.0.0-py37_2\n",
            "  backports.tempfile pkgs/main/noarch::backports.tempfile-1.0-py_1\n",
            "  backports.weakref  pkgs/main/noarch::backports.weakref-1.0.post1-py_1\n",
            "  beautifulsoup4     pkgs/main/linux-64::beautifulsoup4-4.8.0-py37_0\n",
            "  bitarray           pkgs/main/linux-64::bitarray-1.0.1-py37h7b6447c_0\n",
            "  bkcharts           pkgs/main/linux-64::bkcharts-0.2-py37_0\n",
            "  blas               pkgs/main/linux-64::blas-1.0-mkl\n",
            "  bleach             pkgs/main/linux-64::bleach-3.1.0-py37_0\n",
            "  blosc              pkgs/main/linux-64::blosc-1.16.3-hd408876_0\n",
            "  bokeh              pkgs/main/linux-64::bokeh-1.3.4-py37_0\n",
            "  boto               pkgs/main/linux-64::boto-2.49.0-py37_0\n",
            "  bottleneck         pkgs/main/linux-64::bottleneck-1.2.1-py37h035aef0_1\n",
            "  bzip2              pkgs/main/linux-64::bzip2-1.0.8-h7b6447c_0\n",
            "  ca-certificates    pkgs/main/linux-64::ca-certificates-2019.8.28-0\n",
            "  cairo              pkgs/main/linux-64::cairo-1.14.12-h8948797_3\n",
            "  certifi            pkgs/main/linux-64::certifi-2019.9.11-py37_0\n",
            "  cffi               pkgs/main/linux-64::cffi-1.12.3-py37h2e261b9_0\n",
            "  chardet            pkgs/main/linux-64::chardet-3.0.4-py37_1003\n",
            "  click              pkgs/main/linux-64::click-7.0-py37_0\n",
            "  cloudpickle        pkgs/main/noarch::cloudpickle-1.2.2-py_0\n",
            "  clyent             pkgs/main/linux-64::clyent-1.2.2-py37_1\n",
            "  colorama           pkgs/main/linux-64::colorama-0.4.1-py37_0\n",
            "  conda              pkgs/main/linux-64::conda-4.7.12-py37_0\n",
            "  conda-build        pkgs/main/linux-64::conda-build-3.18.9-py37_3\n",
            "  conda-env          pkgs/main/linux-64::conda-env-2.6.0-1\n",
            "  conda-package-han~ pkgs/main/linux-64::conda-package-handling-1.6.0-py37h7b6447c_0\n",
            "  conda-verify       pkgs/main/noarch::conda-verify-3.4.2-py_1\n",
            "  contextlib2        pkgs/main/noarch::contextlib2-0.6.0-py_0\n",
            "  cryptography       pkgs/main/linux-64::cryptography-2.7-py37h1ba5d50_0\n",
            "  curl               pkgs/main/linux-64::curl-7.65.3-hbc83047_0\n",
            "  cycler             pkgs/main/linux-64::cycler-0.10.0-py37_0\n",
            "  cython             pkgs/main/linux-64::cython-0.29.13-py37he6710b0_0\n",
            "  cytoolz            pkgs/main/linux-64::cytoolz-0.10.0-py37h7b6447c_0\n",
            "  dask               pkgs/main/noarch::dask-2.5.2-py_0\n",
            "  dask-core          pkgs/main/noarch::dask-core-2.5.2-py_0\n",
            "  dbus               pkgs/main/linux-64::dbus-1.13.6-h746ee38_0\n",
            "  decorator          pkgs/main/linux-64::decorator-4.4.0-py37_1\n",
            "  defusedxml         pkgs/main/noarch::defusedxml-0.6.0-py_0\n",
            "  distributed        pkgs/main/noarch::distributed-2.5.2-py_0\n",
            "  docutils           pkgs/main/linux-64::docutils-0.15.2-py37_0\n",
            "  entrypoints        pkgs/main/linux-64::entrypoints-0.3-py37_0\n",
            "  et_xmlfile         pkgs/main/linux-64::et_xmlfile-1.0.1-py37_0\n",
            "  expat              pkgs/main/linux-64::expat-2.2.6-he6710b0_0\n",
            "  fastcache          pkgs/main/linux-64::fastcache-1.1.0-py37h7b6447c_0\n",
            "  filelock           pkgs/main/noarch::filelock-3.0.12-py_0\n",
            "  flask              pkgs/main/noarch::flask-1.1.1-py_0\n",
            "  fontconfig         pkgs/main/linux-64::fontconfig-2.13.0-h9420a91_0\n",
            "  freetype           pkgs/main/linux-64::freetype-2.9.1-h8a8886c_1\n",
            "  fribidi            pkgs/main/linux-64::fribidi-1.0.5-h7b6447c_0\n",
            "  fsspec             pkgs/main/noarch::fsspec-0.5.2-py_0\n",
            "  future             pkgs/main/linux-64::future-0.17.1-py37_0\n",
            "  get_terminal_size  pkgs/main/linux-64::get_terminal_size-1.0.0-haa9412d_0\n",
            "  gevent             pkgs/main/linux-64::gevent-1.4.0-py37h7b6447c_0\n",
            "  glib               pkgs/main/linux-64::glib-2.56.2-hd408876_0\n",
            "  glob2              pkgs/main/noarch::glob2-0.7-py_0\n",
            "  gmp                pkgs/main/linux-64::gmp-6.1.2-h6c8ec71_1\n",
            "  gmpy2              pkgs/main/linux-64::gmpy2-2.0.8-py37h10f8cd9_2\n",
            "  graphite2          pkgs/main/linux-64::graphite2-1.3.13-h23475e2_0\n",
            "  greenlet           pkgs/main/linux-64::greenlet-0.4.15-py37h7b6447c_0\n",
            "  gst-plugins-base   pkgs/main/linux-64::gst-plugins-base-1.14.0-hbbd80ab_1\n",
            "  gstreamer          pkgs/main/linux-64::gstreamer-1.14.0-hb453b48_1\n",
            "  h5py               pkgs/main/linux-64::h5py-2.9.0-py37h7918eee_0\n",
            "  harfbuzz           pkgs/main/linux-64::harfbuzz-1.8.8-hffaf4a1_0\n",
            "  hdf5               pkgs/main/linux-64::hdf5-1.10.4-hb1b8bf9_0\n",
            "  heapdict           pkgs/main/noarch::heapdict-1.0.1-py_0\n",
            "  html5lib           pkgs/main/linux-64::html5lib-1.0.1-py37_0\n",
            "  icu                pkgs/main/linux-64::icu-58.2-h9c2bf20_1\n",
            "  idna               pkgs/main/linux-64::idna-2.8-py37_0\n",
            "  imageio            pkgs/main/linux-64::imageio-2.6.0-py37_0\n",
            "  imagesize          pkgs/main/linux-64::imagesize-1.1.0-py37_0\n",
            "  importlib_metadata pkgs/main/linux-64::importlib_metadata-0.23-py37_0\n",
            "  intel-openmp       pkgs/main/linux-64::intel-openmp-2019.4-243\n",
            "  ipykernel          pkgs/main/linux-64::ipykernel-5.1.2-py37h39e3cac_0\n",
            "  ipython            pkgs/main/linux-64::ipython-7.8.0-py37h39e3cac_0\n",
            "  ipython_genutils   pkgs/main/linux-64::ipython_genutils-0.2.0-py37_0\n",
            "  ipywidgets         pkgs/main/noarch::ipywidgets-7.5.1-py_0\n",
            "  isort              pkgs/main/linux-64::isort-4.3.21-py37_0\n",
            "  itsdangerous       pkgs/main/linux-64::itsdangerous-1.1.0-py37_0\n",
            "  jbig               pkgs/main/linux-64::jbig-2.1-hdba287a_0\n",
            "  jdcal              pkgs/main/noarch::jdcal-1.4.1-py_0\n",
            "  jedi               pkgs/main/linux-64::jedi-0.15.1-py37_0\n",
            "  jeepney            pkgs/main/noarch::jeepney-0.4.1-py_0\n",
            "  jinja2             pkgs/main/noarch::jinja2-2.10.3-py_0\n",
            "  joblib             pkgs/main/linux-64::joblib-0.13.2-py37_0\n",
            "  jpeg               pkgs/main/linux-64::jpeg-9b-h024ee3a_2\n",
            "  json5              pkgs/main/noarch::json5-0.8.5-py_0\n",
            "  jsonschema         pkgs/main/linux-64::jsonschema-3.0.2-py37_0\n",
            "  jupyter            pkgs/main/linux-64::jupyter-1.0.0-py37_7\n",
            "  jupyter_client     pkgs/main/linux-64::jupyter_client-5.3.3-py37_1\n",
            "  jupyter_console    pkgs/main/linux-64::jupyter_console-6.0.0-py37_0\n",
            "  jupyter_core       pkgs/main/noarch::jupyter_core-4.5.0-py_0\n",
            "  jupyterlab         pkgs/main/noarch::jupyterlab-1.1.4-pyhf63ae98_0\n",
            "  jupyterlab_server  pkgs/main/noarch::jupyterlab_server-1.0.6-py_0\n",
            "  keyring            pkgs/main/linux-64::keyring-18.0.0-py37_0\n",
            "  kiwisolver         pkgs/main/linux-64::kiwisolver-1.1.0-py37he6710b0_0\n",
            "  krb5               pkgs/main/linux-64::krb5-1.16.1-h173b8e3_7\n",
            "  lazy-object-proxy  pkgs/main/linux-64::lazy-object-proxy-1.4.2-py37h7b6447c_0\n",
            "  libarchive         pkgs/main/linux-64::libarchive-3.3.3-h5d8350f_5\n",
            "  libcurl            pkgs/main/linux-64::libcurl-7.65.3-h20c2e04_0\n",
            "  libedit            pkgs/main/linux-64::libedit-3.1.20181209-hc058e9b_0\n",
            "  libffi             pkgs/main/linux-64::libffi-3.2.1-hd88cf55_4\n",
            "  libgcc-ng          pkgs/main/linux-64::libgcc-ng-9.1.0-hdf63c60_0\n",
            "  libgfortran-ng     pkgs/main/linux-64::libgfortran-ng-7.3.0-hdf63c60_0\n",
            "  liblief            pkgs/main/linux-64::liblief-0.9.0-h7725739_2\n",
            "  libpng             pkgs/main/linux-64::libpng-1.6.37-hbc83047_0\n",
            "  libsodium          pkgs/main/linux-64::libsodium-1.0.16-h1bed415_0\n",
            "  libssh2            pkgs/main/linux-64::libssh2-1.8.2-h1ba5d50_0\n",
            "  libstdcxx-ng       pkgs/main/linux-64::libstdcxx-ng-9.1.0-hdf63c60_0\n",
            "  libtiff            pkgs/main/linux-64::libtiff-4.0.10-h2733197_2\n",
            "  libtool            pkgs/main/linux-64::libtool-2.4.6-h7b6447c_5\n",
            "  libuuid            pkgs/main/linux-64::libuuid-1.0.3-h1bed415_2\n",
            "  libxcb             pkgs/main/linux-64::libxcb-1.13-h1bed415_1\n",
            "  libxml2            pkgs/main/linux-64::libxml2-2.9.9-hea5a465_1\n",
            "  libxslt            pkgs/main/linux-64::libxslt-1.1.33-h7d1a2b0_0\n",
            "  llvmlite           pkgs/main/linux-64::llvmlite-0.29.0-py37hd408876_0\n",
            "  locket             pkgs/main/linux-64::locket-0.2.0-py37_1\n",
            "  lxml               pkgs/main/linux-64::lxml-4.4.1-py37hefd8a0e_0\n",
            "  lz4-c              pkgs/main/linux-64::lz4-c-1.8.1.2-h14c3975_0\n",
            "  lzo                pkgs/main/linux-64::lzo-2.10-h49e0be7_2\n",
            "  markupsafe         pkgs/main/linux-64::markupsafe-1.1.1-py37h7b6447c_0\n",
            "  matplotlib         pkgs/main/linux-64::matplotlib-3.1.1-py37h5429711_0\n",
            "  mccabe             pkgs/main/linux-64::mccabe-0.6.1-py37_1\n",
            "  mistune            pkgs/main/linux-64::mistune-0.8.4-py37h7b6447c_0\n",
            "  mkl                pkgs/main/linux-64::mkl-2019.4-243\n",
            "  mkl-service        pkgs/main/linux-64::mkl-service-2.3.0-py37he904b0f_0\n",
            "  mkl_fft            pkgs/main/linux-64::mkl_fft-1.0.14-py37ha843d7b_0\n",
            "  mkl_random         pkgs/main/linux-64::mkl_random-1.1.0-py37hd6b4f25_0\n",
            "  mock               pkgs/main/linux-64::mock-3.0.5-py37_0\n",
            "  more-itertools     pkgs/main/linux-64::more-itertools-7.2.0-py37_0\n",
            "  mpc                pkgs/main/linux-64::mpc-1.1.0-h10f8cd9_1\n",
            "  mpfr               pkgs/main/linux-64::mpfr-4.0.1-hdf1c602_3\n",
            "  mpmath             pkgs/main/linux-64::mpmath-1.1.0-py37_0\n",
            "  msgpack-python     pkgs/main/linux-64::msgpack-python-0.6.1-py37hfd86e86_1\n",
            "  multipledispatch   pkgs/main/linux-64::multipledispatch-0.6.0-py37_0\n",
            "  navigator-updater  pkgs/main/linux-64::navigator-updater-0.2.1-py37_0\n",
            "  nbconvert          pkgs/main/linux-64::nbconvert-5.6.0-py37_1\n",
            "  nbformat           pkgs/main/linux-64::nbformat-4.4.0-py37_0\n",
            "  ncurses            pkgs/main/linux-64::ncurses-6.1-he6710b0_1\n",
            "  networkx           pkgs/main/noarch::networkx-2.3-py_0\n",
            "  nltk               pkgs/main/linux-64::nltk-3.4.5-py37_0\n",
            "  nose               pkgs/main/linux-64::nose-1.3.7-py37_2\n",
            "  notebook           pkgs/main/linux-64::notebook-6.0.1-py37_0\n",
            "  numba              pkgs/main/linux-64::numba-0.45.1-py37h962f231_0\n",
            "  numexpr            pkgs/main/linux-64::numexpr-2.7.0-py37h9e4a6bb_0\n",
            "  numpy              pkgs/main/linux-64::numpy-1.17.2-py37haad9e8e_0\n",
            "  numpy-base         pkgs/main/linux-64::numpy-base-1.17.2-py37hde5b4d6_0\n",
            "  numpydoc           pkgs/main/noarch::numpydoc-0.9.1-py_0\n",
            "  olefile            pkgs/main/linux-64::olefile-0.46-py37_0\n",
            "  openpyxl           pkgs/main/noarch::openpyxl-3.0.0-py_0\n",
            "  openssl            pkgs/main/linux-64::openssl-1.1.1d-h7b6447c_2\n",
            "  packaging          pkgs/main/noarch::packaging-19.2-py_0\n",
            "  pandas             pkgs/main/linux-64::pandas-0.25.1-py37he6710b0_0\n",
            "  pandoc             pkgs/main/linux-64::pandoc-2.2.3.2-0\n",
            "  pandocfilters      pkgs/main/linux-64::pandocfilters-1.4.2-py37_1\n",
            "  pango              pkgs/main/linux-64::pango-1.42.4-h049681c_0\n",
            "  parso              pkgs/main/noarch::parso-0.5.1-py_0\n",
            "  partd              pkgs/main/noarch::partd-1.0.0-py_0\n",
            "  patchelf           pkgs/main/linux-64::patchelf-0.9-he6710b0_3\n",
            "  path.py            pkgs/main/noarch::path.py-12.0.1-py_0\n",
            "  pathlib2           pkgs/main/linux-64::pathlib2-2.3.5-py37_0\n",
            "  patsy              pkgs/main/linux-64::patsy-0.5.1-py37_0\n",
            "  pcre               pkgs/main/linux-64::pcre-8.43-he6710b0_0\n",
            "  pep8               pkgs/main/linux-64::pep8-1.7.1-py37_0\n",
            "  pexpect            pkgs/main/linux-64::pexpect-4.7.0-py37_0\n",
            "  pickleshare        pkgs/main/linux-64::pickleshare-0.7.5-py37_0\n",
            "  pillow             pkgs/main/linux-64::pillow-6.2.0-py37h34e0f95_0\n",
            "  pip                pkgs/main/linux-64::pip-19.2.3-py37_0\n",
            "  pixman             pkgs/main/linux-64::pixman-0.38.0-h7b6447c_0\n",
            "  pkginfo            pkgs/main/linux-64::pkginfo-1.5.0.1-py37_0\n",
            "  pluggy             pkgs/main/linux-64::pluggy-0.13.0-py37_0\n",
            "  ply                pkgs/main/linux-64::ply-3.11-py37_0\n",
            "  prometheus_client  pkgs/main/noarch::prometheus_client-0.7.1-py_0\n",
            "  prompt_toolkit     pkgs/main/noarch::prompt_toolkit-2.0.10-py_0\n",
            "  psutil             pkgs/main/linux-64::psutil-5.6.3-py37h7b6447c_0\n",
            "  ptyprocess         pkgs/main/linux-64::ptyprocess-0.6.0-py37_0\n",
            "  py                 pkgs/main/linux-64::py-1.8.0-py37_0\n",
            "  py-lief            pkgs/main/linux-64::py-lief-0.9.0-py37h7725739_2\n",
            "  pycodestyle        pkgs/main/linux-64::pycodestyle-2.5.0-py37_0\n",
            "  pycosat            pkgs/main/linux-64::pycosat-0.6.3-py37h14c3975_0\n",
            "  pycparser          pkgs/main/linux-64::pycparser-2.19-py37_0\n",
            "  pycrypto           pkgs/main/linux-64::pycrypto-2.6.1-py37h14c3975_9\n",
            "  pycurl             pkgs/main/linux-64::pycurl-7.43.0.3-py37h1ba5d50_0\n",
            "  pyflakes           pkgs/main/linux-64::pyflakes-2.1.1-py37_0\n",
            "  pygments           pkgs/main/noarch::pygments-2.4.2-py_0\n",
            "  pylint             pkgs/main/linux-64::pylint-2.4.2-py37_0\n",
            "  pyodbc             pkgs/main/linux-64::pyodbc-4.0.27-py37he6710b0_0\n",
            "  pyopenssl          pkgs/main/linux-64::pyopenssl-19.0.0-py37_0\n",
            "  pyparsing          pkgs/main/noarch::pyparsing-2.4.2-py_0\n",
            "  pyqt               pkgs/main/linux-64::pyqt-5.9.2-py37h05f1152_2\n",
            "  pyrsistent         pkgs/main/linux-64::pyrsistent-0.15.4-py37h7b6447c_0\n",
            "  pysocks            pkgs/main/linux-64::pysocks-1.7.1-py37_0\n",
            "  pytables           pkgs/main/linux-64::pytables-3.5.2-py37h71ec239_1\n",
            "  pytest             pkgs/main/linux-64::pytest-5.2.1-py37_0\n",
            "  pytest-arraydiff   pkgs/main/linux-64::pytest-arraydiff-0.3-py37h39e3cac_0\n",
            "  pytest-astropy     pkgs/main/linux-64::pytest-astropy-0.5.0-py37_0\n",
            "  pytest-doctestplus pkgs/main/noarch::pytest-doctestplus-0.4.0-py_0\n",
            "  pytest-openfiles   pkgs/main/noarch::pytest-openfiles-0.4.0-py_0\n",
            "  pytest-remotedata  pkgs/main/linux-64::pytest-remotedata-0.3.2-py37_0\n",
            "  python             pkgs/main/linux-64::python-3.7.4-h265db76_1\n",
            "  python-dateutil    pkgs/main/linux-64::python-dateutil-2.8.0-py37_0\n",
            "  python-libarchive~ pkgs/main/linux-64::python-libarchive-c-2.8-py37_13\n",
            "  pytz               pkgs/main/noarch::pytz-2019.3-py_0\n",
            "  pywavelets         pkgs/main/linux-64::pywavelets-1.0.3-py37hdd07704_1\n",
            "  pyyaml             pkgs/main/linux-64::pyyaml-5.1.2-py37h7b6447c_0\n",
            "  pyzmq              pkgs/main/linux-64::pyzmq-18.1.0-py37he6710b0_0\n",
            "  qt                 pkgs/main/linux-64::qt-5.9.7-h5867ecd_1\n",
            "  qtawesome          pkgs/main/noarch::qtawesome-0.6.0-py_0\n",
            "  qtconsole          pkgs/main/noarch::qtconsole-4.5.5-py_0\n",
            "  qtpy               pkgs/main/noarch::qtpy-1.9.0-py_0\n",
            "  readline           pkgs/main/linux-64::readline-7.0-h7b6447c_5\n",
            "  requests           pkgs/main/linux-64::requests-2.22.0-py37_0\n",
            "  ripgrep            pkgs/main/linux-64::ripgrep-0.10.0-hc07d326_0\n",
            "  rope               pkgs/main/noarch::rope-0.14.0-py_0\n",
            "  ruamel_yaml        pkgs/main/linux-64::ruamel_yaml-0.15.46-py37h14c3975_0\n",
            "  scikit-image       pkgs/main/linux-64::scikit-image-0.15.0-py37he6710b0_0\n",
            "  scikit-learn       pkgs/main/linux-64::scikit-learn-0.21.3-py37hd81dba3_0\n",
            "  scipy              pkgs/main/linux-64::scipy-1.3.1-py37h7c811a0_0\n",
            "  seaborn            pkgs/main/linux-64::seaborn-0.9.0-py37_0\n",
            "  secretstorage      pkgs/main/linux-64::secretstorage-3.1.1-py37_0\n",
            "  send2trash         pkgs/main/linux-64::send2trash-1.5.0-py37_0\n",
            "  setuptools         pkgs/main/linux-64::setuptools-41.4.0-py37_0\n",
            "  simplegeneric      pkgs/main/linux-64::simplegeneric-0.8.1-py37_2\n",
            "  singledispatch     pkgs/main/linux-64::singledispatch-3.4.0.3-py37_0\n",
            "  sip                pkgs/main/linux-64::sip-4.19.8-py37hf484d3e_0\n",
            "  six                pkgs/main/linux-64::six-1.12.0-py37_0\n",
            "  snappy             pkgs/main/linux-64::snappy-1.1.7-hbae5bb6_3\n",
            "  snowballstemmer    pkgs/main/noarch::snowballstemmer-2.0.0-py_0\n",
            "  sortedcollections  pkgs/main/linux-64::sortedcollections-1.1.2-py37_0\n",
            "  sortedcontainers   pkgs/main/linux-64::sortedcontainers-2.1.0-py37_0\n",
            "  soupsieve          pkgs/main/linux-64::soupsieve-1.9.3-py37_0\n",
            "  sphinx             pkgs/main/noarch::sphinx-2.2.0-py_0\n",
            "  sphinxcontrib      pkgs/main/linux-64::sphinxcontrib-1.0-py37_1\n",
            "  sphinxcontrib-app~ pkgs/main/noarch::sphinxcontrib-applehelp-1.0.1-py_0\n",
            "  sphinxcontrib-dev~ pkgs/main/noarch::sphinxcontrib-devhelp-1.0.1-py_0\n",
            "  sphinxcontrib-htm~ pkgs/main/noarch::sphinxcontrib-htmlhelp-1.0.2-py_0\n",
            "  sphinxcontrib-jsm~ pkgs/main/noarch::sphinxcontrib-jsmath-1.0.1-py_0\n",
            "  sphinxcontrib-qth~ pkgs/main/noarch::sphinxcontrib-qthelp-1.0.2-py_0\n",
            "  sphinxcontrib-ser~ pkgs/main/noarch::sphinxcontrib-serializinghtml-1.1.3-py_0\n",
            "  sphinxcontrib-web~ pkgs/main/noarch::sphinxcontrib-websupport-1.1.2-py_0\n",
            "  spyder             pkgs/main/linux-64::spyder-3.3.6-py37_0\n",
            "  spyder-kernels     pkgs/main/linux-64::spyder-kernels-0.5.2-py37_0\n",
            "  sqlalchemy         pkgs/main/linux-64::sqlalchemy-1.3.9-py37h7b6447c_0\n",
            "  sqlite             pkgs/main/linux-64::sqlite-3.30.0-h7b6447c_0\n",
            "  statsmodels        pkgs/main/linux-64::statsmodels-0.10.1-py37hdd07704_0\n",
            "  sympy              pkgs/main/linux-64::sympy-1.4-py37_0\n",
            "  tbb                pkgs/main/linux-64::tbb-2019.4-hfd86e86_0\n",
            "  tblib              pkgs/main/noarch::tblib-1.4.0-py_0\n",
            "  terminado          pkgs/main/linux-64::terminado-0.8.2-py37_0\n",
            "  testpath           pkgs/main/linux-64::testpath-0.4.2-py37_0\n",
            "  tk                 pkgs/main/linux-64::tk-8.6.8-hbc83047_0\n",
            "  toolz              pkgs/main/noarch::toolz-0.10.0-py_0\n",
            "  tornado            pkgs/main/linux-64::tornado-6.0.3-py37h7b6447c_0\n",
            "  tqdm               pkgs/main/noarch::tqdm-4.36.1-py_0\n",
            "  traitlets          pkgs/main/linux-64::traitlets-4.3.3-py37_0\n",
            "  unicodecsv         pkgs/main/linux-64::unicodecsv-0.14.1-py37_0\n",
            "  unixodbc           pkgs/main/linux-64::unixodbc-2.3.7-h14c3975_0\n",
            "  urllib3            pkgs/main/linux-64::urllib3-1.24.2-py37_0\n",
            "  wcwidth            pkgs/main/linux-64::wcwidth-0.1.7-py37_0\n",
            "  webencodings       pkgs/main/linux-64::webencodings-0.5.1-py37_1\n",
            "  werkzeug           pkgs/main/noarch::werkzeug-0.16.0-py_0\n",
            "  wheel              pkgs/main/linux-64::wheel-0.33.6-py37_0\n",
            "  widgetsnbextension pkgs/main/linux-64::widgetsnbextension-3.5.1-py37_0\n",
            "  wrapt              pkgs/main/linux-64::wrapt-1.11.2-py37h7b6447c_0\n",
            "  wurlitzer          pkgs/main/linux-64::wurlitzer-1.0.3-py37_0\n",
            "  xlrd               pkgs/main/linux-64::xlrd-1.2.0-py37_0\n",
            "  xlsxwriter         pkgs/main/noarch::xlsxwriter-1.2.1-py_0\n",
            "  xlwt               pkgs/main/linux-64::xlwt-1.3.0-py37_0\n",
            "  xz                 pkgs/main/linux-64::xz-5.2.4-h14c3975_4\n",
            "  yaml               pkgs/main/linux-64::yaml-0.1.7-had09818_2\n",
            "  zeromq             pkgs/main/linux-64::zeromq-4.3.1-he6710b0_3\n",
            "  zict               pkgs/main/noarch::zict-1.0.0-py_0\n",
            "  zipp               pkgs/main/noarch::zipp-0.6.0-py_0\n",
            "  zlib               pkgs/main/linux-64::zlib-1.2.11-h7b6447c_3\n",
            "  zstd               pkgs/main/linux-64::zstd-1.3.7-h0b5b093_0\n",
            "\n",
            "\n",
            "Preparing transaction: | \b\b/ \b\b- \b\b\\ \b\b| \b\b/ \b\b- \b\b\\ \b\b| \b\b/ \b\b- \b\b\\ \b\b| \b\b/ \b\b- \b\b\\ \b\b| \b\b/ \b\b- \b\b\\ \b\b| \b\b/ \b\b- \b\b\\ \b\b| \b\b/ \b\b- \b\b\\ \b\b| \b\b/ \b\b- \b\bdone\n",
            "Executing transaction: | \b\b/ \b\b- \b\b\\ \b\b| \b\b/ \b\b- \b\b\\ \b\b| \b\b/ \b\b- \b\b\\ \b\b| \b\b/ \b\b- \b\b\\ \b\b| \b\b/ \b\b- \b\b\\ \b\b| \b\b/ \b\b- \b\b\\ \b\b| \b\b/ \b\b- \b\b\\ \b\b| \b\b/ \b\b- \b\b\\ \b\b| \b\b/ \b\b- \b\b\\ \b\b| \b\b/ \b\b- \b\b\\ \b\b| \b\b/ \b\b- \b\b\\ \b\b| \b\b/ \b\b- \b\b\\ \b\b| \b\b/ \b\b- \b\b\\ \b\b| \b\b/ \b\b- \b\b\\ \b\b| \b\b/ \b\b- \b\b\\ \b\b| \b\b/ \b\b- \b\b\\ \b\b| \b\b/ \b\b- \b\b\\ \b\b| \b\b/ \b\b- \b\b\\ \b\b| \b\b/ \b\b- \b\b\\ \b\b| \b\b/ \b\b- \b\b\\ \b\b| \b\b/ \b\b- \b\b\\ \b\b| \b\b/ \b\b- \b\b\\ \b\b| \b\b/ \b\b- \b\b\\ \b\b| \b\b/ \b\b- \b\b\\ \b\b| \b\b/ \b\b- \b\b\\ \b\b| \b\b/ \b\b- \b\b\\ \b\b| \b\b/ \b\b- \b\b\\ \b\b| \b\b/ \b\b- \b\b\\ \b\b| \b\b/ \b\b- \b\b\\ \b\b| \b\b/ \b\b- \b\b\\ \b\b| \b\b/ \b\b- \b\b\\ \b\b| \b\b/ \b\b- \b\b\\ \b\b| \b\b/ \b\b- \b\b\\ \b\b| \b\b/ \b\b- \b\b\\ \b\b| \b\b/ \b\b- \b\b\\ \b\b| \b\b/ \b\b- \b\b\\ \b\b| \b\b/ \b\b- \b\b\\ \b\b| \b\b/ \b\b- \b\b\\ \b\b| \b\b/ \b\b- \b\b\\ \b\b| \b\b/ \b\b- \b\b\\ \b\b| \b\b/ \b\b- \b\b\\ \b\b| \b\b/ \b\b- \b\b\\ \b\b| \b\b/ \b\b- \b\b\\ \b\b| \b\b/ \b\b- \b\b\\ \b\b| \b\b/ \b\b- \b\b\\ \b\b| \b\b/ \b\b- \b\b\\ \b\b| \b\b/ \b\b- \b\b\\ \b\b| \b\b/ \b\b- \b\b\\ \b\b| \b\b/ \b\b- \b\b\\ \b\b| \b\b/ \b\b- \b\b\\ \b\b| \b\b/ \b\b- \b\b\\ \b\b| \b\b/ \b\b- \b\b\\ \b\b| \b\b/ \b\b- \b\b\\ \b\b| \b\b/ \b\b- \b\b\\ \b\b| \b\b/ \b\b- \b\b\\ \b\b| \b\b/ \b\b- \b\b\\ \b\b| \b\b/ \b\b- \b\b\\ \b\b| \b\b/ \b\b- \b\b\\ \b\b| \b\b/ \b\b- \b\b\\ \b\b| \b\b/ \b\b- \b\b\\ \b\b| \b\b/ \b\b- \b\b\\ \b\b| \b\b/ \b\b- \b\b\\ \b\b| \b\b/ \b\b- \b\b\\ \b\b| \b\b/ \b\b- \b\b\\ \b\b| \b\b/ \b\b- \b\b\\ \b\b| \b\b/ \b\b- \b\b\\ \b\b| \b\b/ \b\b- \b\b\\ \b\b| \b\b/ \b\b- \b\b\\ \b\b| \b\b/ \b\b- \b\b\\ \b\b| \b\b/ \b\b- \b\b\\ \b\b| \b\b/ \b\b- \b\b\\ \b\b| \b\b/ \b\b- \b\b\\ \b\b| \b\b/ \b\b- \b\b\\ \b\b| \b\b/ \b\b- \b\b\\ \b\b| \b\b/ \b\b- \b\b\\ \b\b| \b\b/ \b\b- \b\b\\ \b\b| \b\b/ \b\b- \b\b\\ \b\b| \b\b/ \b\b- \b\b\\ \b\b| \b\b/ \b\b- \b\b\\ \b\b| \b\b/ \b\b- \b\b\\ \b\b| \b\b/ \b\b- \b\bdone\n",
            "installation finished.\n",
            "WARNING:\n",
            "    You currently have a PYTHONPATH environment variable set. This may cause\n",
            "    unexpected behavior when running the Python interpreter in Anaconda3.\n",
            "    For best results, please verify that your PYTHONPATH only points to\n",
            "    directories of packages that are compatible with the Python interpreter\n",
            "    in Anaconda3: /usr/local\n",
            "Collecting package metadata (current_repodata.json): - \b\b\\ \b\b| \b\b/ \b\b- \b\b\\ \b\b| \b\b/ \b\b- \b\b\\ \b\b| \b\b/ \b\b- \b\b\\ \b\b| \b\b/ \b\b- \b\b\\ \b\b| \b\b/ \b\b- \b\b\\ \b\b| \b\b/ \b\b- \b\b\\ \b\b| \b\b/ \b\b- \b\b\\ \b\b| \b\b/ \b\b- \b\b\\ \b\b| \b\b/ \b\b- \b\b\\ \b\b| \b\b/ \b\b- \b\b\\ \b\b| \b\b/ \b\b- \b\b\\ \b\b| \b\b/ \b\b- \b\b\\ \b\b| \b\b/ \b\b- \b\b\\ \b\b| \b\b/ \b\b- \b\b\\ \b\b| \b\b/ \b\b- \b\b\\ \b\b| \b\b/ \b\b- \b\b\\ \b\b| \b\b/ \b\b- \b\b\\ \b\b| \b\b/ \b\b- \b\b\\ \b\b| \b\b/ \b\b- \b\b\\ \b\b| \b\b/ \b\b- \b\b\\ \b\b| \b\b/ \b\b- \b\b\\ \b\b| \b\b/ \b\b- \b\b\\ \b\b| \b\b/ \b\b- \b\b\\ \b\b| \b\b/ \b\b- \b\b\\ \b\b| \b\b/ \b\b- \b\b\\ \b\b| \b\b/ \b\b- \b\b\\ \b\b| \b\b/ \b\b- \b\b\\ \b\b| \b\b/ \b\b- \b\b\\ \b\b| \b\b/ \b\b- \b\b\\ \b\b| \b\b/ \b\b- \b\b\\ \b\b| \b\b/ \b\bdone\n",
            "Solving environment: \\ \b\b| \b\b/ \b\b- \b\b\\ \b\b| \b\b/ \b\b- \b\b\\ \b\b| \b\b/ \b\b- \b\b\\ \b\b| \b\b/ \b\b- \b\b\\ \b\b| \b\b/ \b\b- \b\b\\ \b\b| \b\b/ \b\b- \b\b\\ \b\b| \b\b/ \b\b- \b\b\\ \b\b| \b\b/ \b\b- \b\b\\ \b\b| \b\b/ \b\b- \b\b\\ \b\b| \b\b/ \b\b- \b\b\\ \b\b| \b\b/ \b\b- \b\b\\ \b\b| \b\b/ \b\b- \b\b\\ \b\b| \b\b/ \b\b- \b\b\\ \b\b| \b\b/ \b\b- \b\b\\ \b\b| \b\b/ \b\b- \b\b\\ \b\b| \b\b/ \b\b- \b\b\\ \b\b| \b\b/ \b\b- \b\b\\ \b\b| \b\b/ \b\b- \b\b\\ \b\b| \b\b/ \b\b- \b\b\\ \b\b| \b\b/ \b\b- \b\b\\ \b\b| \b\b/ \b\b- \b\b\\ \b\b| \b\b/ \b\b- \b\b\\ \b\b| \b\b/ \b\b- \b\b\\ \b\b| \b\b/ \b\b- \b\b\\ \b\b| \b\b/ \b\b- \b\b\\ \b\b| \b\b/ \b\b- \b\b\\ \b\b| \b\b/ \b\b- \b\b\\ \b\b| \b\b/ \b\b- \b\b\\ \b\b| \b\b/ \b\b- \b\b\\ \b\b| \b\b/ \b\b- \b\b\\ \b\b| \b\b/ \b\b- \b\b\\ \b\b| \b\b/ \b\b- \b\b\\ \b\b| \b\b/ \b\b- \b\b\\ \b\b| \b\b/ \b\b- \b\b\\ \b\b| \b\b/ \b\b- \b\b\\ \b\b| \b\b/ \b\b- \b\b\\ \b\b| \b\b/ \b\b- \b\b\\ \b\b| \b\b/ \b\b- \b\b\\ \b\b| \b\b/ \b\b- \b\b\\ \b\b| \b\b/ \b\b- \b\b\\ \b\b| \b\b/ \b\b- \b\b\\ \b\b| \b\b/ \b\b- \b\b\\ \b\b| \b\b/ \b\b- \b\b\\ \b\b| \b\b/ \b\b- \b\b\\ \b\b| \b\b/ \b\b- \b\b\\ \b\b| \b\b/ \b\b- \b\b\\ \b\b| \b\b/ \b\b- \b\b\\ \b\b| \b\b/ \b\b- \b\b\\ \b\b| \b\b/ \b\b- \b\b\\ \b\b| \b\b/ \b\b- \b\b\\ \b\b| \b\b/ \b\b- \b\b\\ \b\b| \b\b/ \b\b- \b\b\\ \b\b| \b\b/ \b\b- \b\b\\ \b\b| \b\b/ \b\b- \b\b\\ \b\b| \b\b/ \b\b- \b\b\\ \b\b| \b\b/ \b\b- \b\b\\ \b\b| \b\b/ \b\b- \b\b\\ \b\b| \b\b/ \b\b- \b\b\\ \b\b| \b\b/ \b\b- \b\b\\ \b\b| \b\b/ \b\b- \b\b\\ \b\b| \b\b/ \b\b- \b\b\\ \b\b| \b\b/ \b\b- \b\b\\ \b\b| \b\b/ \b\b- \b\b\\ \b\b| \b\b/ \b\b- \b\b\\ \b\b| \b\b/ \b\b- \b\b\\ \b\b| \b\b/ \b\b- \b\b\\ \b\b| \b\b/ \b\b- \b\b\\ \b\b| \b\b/ \b\b- \b\b\\ \b\b| \b\b/ \b\b- \b\b\\ \b\b| \b\b/ \b\b- \b\b\\ \b\b| \b\b/ \b\b- \b\b\\ \b\b| \b\b/ \b\b- \b\b\\ \b\b| \b\b/ \b\b- \b\b\\ \b\b| \b\b/ \b\b- \b\b\\ \b\b| \b\b/ \b\b- \b\b\\ \b\b| \b\b/ \b\b- \b\b\\ \b\b| \b\b/ \b\b- \b\b\\ \b\b| \b\b/ \b\b- \b\b\\ \b\b| \b\b/ \b\b- \b\b\\ \b\b| \b\b/ \b\b- \b\b\\ \b\b| \b\b/ \b\b- \b\b\\ \b\b| \b\b/ \b\b- \b\b\\ \b\b| \b\b/ \b\b- \b\b\\ \b\b| \b\b/ \b\b- \b\b\\ \b\b| \b\b/ \b\b- \b\b\\ \b\b| \b\b/ \b\b- \b\b\\ \b\b| \b\b/ \b\b- \b\b\\ \b\b| \b\b/ \b\b- \b\b\\ \b\b| \b\b/ \b\b- \b\b\\ \b\b| \b\b/ \b\b- \b\b\\ \b\b| \b\b/ \b\b- \b\b\\ \b\b| \b\b/ \b\b- \b\b\\ \b\b| \b\b/ \b\b- \b\b\\ \b\b| \b\b/ \b\b- \b\b\\ \b\b| \b\b/ \b\b- \b\b\\ \b\b| \b\b/ \b\b- \b\b\\ \b\b| \b\b/ \b\b- \b\b\\ \b\b| \b\b/ \b\b- \b\b\\ \b\b| \b\b/ \b\b- \b\b\\ \b\b| \b\b/ \b\b- \b\b\\ \b\b| \b\b/ \b\b- \b\b\\ \b\b| \b\b/ \b\b- \b\b\\ \b\b| \b\b/ \b\b- \b\b\\ \b\b| \b\b/ \b\b- \b\b\\ \b\b| \b\b/ \b\b- \b\b\\ \b\b| \b\b/ \b\b- \b\b\\ \b\b| \b\b/ \b\b- \b\b\\ \b\b| \b\b/ \b\b- \b\b\\ \b\b| \b\b/ \b\b- \b\b\\ \b\b| \b\b/ \b\b- \b\b\\ \b\b| \b\b/ \b\b- \b\b\\ \b\b| \b\b/ \b\b- \b\b\\ \b\b| \b\b/ \b\b- \b\b\\ \b\b| \b\b/ \b\b- \b\b\\ \b\b| \b\b/ \b\b- \b\b\\ \b\b| \b\b/ \b\b- \b\b\\ \b\b| \b\b/ \b\b- \b\b\\ \b\b| \b\b/ \b\b- \b\b\\ \b\b| \b\b/ \b\b- \b\b\\ \b\b| \b\b/ \b\b- \b\b\\ \b\b| \b\b/ \b\b- \b\b\\ \b\b| \b\b/ \b\b- \b\b\\ \b\b| \b\b/ \b\b- \b\b\\ \b\b| \b\b/ \b\b- \b\b\\ \b\b| \b\b/ \b\b- \b\b\\ \b\b| \b\b/ \b\b- \b\b\\ \b\b| \b\b/ \b\b- \b\b\\ \b\b| \b\b/ \b\b- \b\b\\ \b\b| \b\b/ \b\b- \b\b\\ \b\b| \b\b/ \b\b- \b\b\\ \b\b| \b\b/ \b\b- \b\b\\ \b\b| \b\b/ \b\b- \b\b\\ \b\b| \b\b/ \b\b- \b\b\\ \b\b| \b\b/ \b\b- \b\b\\ \b\b| \b\b/ \b\b- \b\b\\ \b\b| \b\b/ \b\b- \b\bfailed with initial frozen solve. Retrying with flexible solve.\n",
            "Solving environment: | \b\b/ \b\b- \b\b\\ \b\b| \b\b/ \b\b- \b\b\\ \b\b| \b\b/ \b\b- \b\b\\ \b\b| \b\b/ \b\b- \b\b\\ \b\b| \b\b/ \b\b- \b\b\\ \b\b| \b\b/ \b\b- \b\b\\ \b\b| \b\b/ \b\b- \b\b\\ \b\b| \b\b/ \b\b- \b\b\\ \b\b| \b\b/ \b\b- \b\b\\ \b\b| \b\b/ \b\b- \b\b\\ \b\b| \b\b/ \b\b- \b\b\\ \b\b| \b\b/ \b\b- \b\b\\ \b\b| \b\b/ \b\b- \b\b\\ \b\b| \b\b/ \b\b- \b\b\\ \b\b| \b\b/ \b\b- \b\b\\ \b\b| \b\b/ \b\b- \b\b\\ \b\b| \b\b/ \b\b- \b\b\\ \b\b| \b\b/ \b\b- \b\b\\ \b\b| \b\b/ \b\b- \b\b\\ \b\b| \b\b/ \b\b- \b\b\\ \b\b| \b\b/ \b\b- \b\b\\ \b\b| \b\b/ \b\b- \b\b\\ \b\b| \b\b/ \b\b- \b\b\\ \b\b| \b\b/ \b\b- \b\b\\ \b\b| \b\b/ \b\b- \b\b\\ \b\b| \b\b/ \b\b- \b\b\\ \b\b| \b\b/ \b\b- \b\b\\ \b\b| \b\b/ \b\b- \b\b\\ \b\b| \b\b/ \b\b- \b\b\\ \b\b| \b\b/ \b\b- \b\b\\ \b\b| \b\b/ \b\b- \b\b\\ \b\b| \b\b/ \b\b- \b\b\\ \b\b| \b\b/ \b\b- \b\b\\ \b\b| \b\b/ \b\b- \b\b\\ \b\b| \b\b/ \b\b- \b\b\\ \b\b| \b\b/ \b\b- \b\b\\ \b\b| \b\b/ \b\b- \b\b\\ \b\b| \b\b/ \b\b- \b\b\\ \b\b| \b\b/ \b\b- \b\b\\ \b\b| \b\b/ \b\b- \b\b\\ \b\b| \b\b/ \b\b- \b\b\\ \b\b| \b\b/ \b\b- \b\b\\ \b\b| \b\b/ \b\b- \b\b\\ \b\b| \b\b/ \b\b- \b\b\\ \b\b| \b\b/ \b\b- \b\b\\ \b\b| \b\b/ \b\b- \b\b\\ \b\b| \b\b/ \b\b- \b\b\\ \b\b| \b\b/ \b\b- \b\b\\ \b\b| \b\b/ \b\b- \b\b\\ \b\b| \b\b/ \b\b- \b\b\\ \b\b| \b\b/ \b\b- \b\b\\ \b\b| \b\b/ \b\b- \b\b\\ \b\b| \b\b/ \b\b- \b\b\\ \b\b| \b\b/ \b\b- \b\b\\ \b\b| \b\b/ \b\b- \b\b\\ \b\b| \b\b/ \b\b- \b\b\\ \b\b| \b\b/ \b\b- \b\b\\ \b\b| \b\b/ \b\b- \b\b\\ \b\b| \b\b/ \b\b- \b\b\\ \b\b| \b\b/ \b\b- \b\b\\ \b\b| \b\b/ \b\b- \b\b\\ \b\b| \b\b/ \b\b- \b\b\\ \b\b| \b\b/ \b\b- \b\b\\ \b\b| \b\b/ \b\b- \b\b\\ \b\b| \b\b/ \b\b- \b\b\\ \b\b| \b\b/ \b\b- \b\b\\ \b\b| \b\b/ \b\b- \b\b\\ \b\b| \b\b/ \b\b- \b\b\\ \b\b| \b\b/ \b\b- \b\b\\ \b\b| \b\b/ \b\b- \b\b\\ \b\b| \b\b/ \b\b- \b\b\\ \b\b| \b\b/ \b\b- \b\b\\ \b\b| \b\b/ \b\b- \b\b\\ \b\b| \b\b/ \b\b- \b\b\\ \b\b| \b\b/ \b\b- \b\b\\ \b\b| \b\b/ \b\b- \b\b\\ \b\b| \b\b/ \b\b- \b\b\\ \b\b| \b\b/ \b\b- \b\b\\ \b\b| \b\b/ \b\b- \b\b\\ \b\b| \b\b/ \b\b- \b\b\\ \b\b| \b\b/ \b\b- \b\b\\ \b\b| \b\b/ \b\b- \b\b\\ \b\b| \b\b/ \b\b- \b\b\\ \b\b| \b\b/ \b\b- \b\b\\ \b\b| \b\b/ \b\b- \b\b\\ \b\b| \b\b/ \b\b- \b\b\\ \b\b| \b\b/ \b\b- \b\b\\ \b\b| \b\b/ \b\b- \b\b\\ \b\b| \b\b/ \b\b- \b\b\\ \b\b| \b\b/ \b\b- \b\b\\ \b\b| \b\b/ \b\b- \b\b\\ \b\b| \b\b/ \b\b- \b\b\\ \b\b| \b\b/ \b\b- \b\b\\ \b\b| \b\b/ \b\b- \b\b\\ \b\b| \b\b/ \b\b- \b\b\\ \b\b| \b\b/ \b\b- \b\b\\ \b\b| \b\b/ \b\b- \b\b\\ \b\b| \b\b/ \b\b- \b\b\\ \b\b| \b\b/ \b\b- \b\b\\ \b\b| \b\b/ \b\b- \b\b\\ \b\b| \b\b/ \b\b- \b\b\\ \b\b| \b\b/ \b\b- \b\b\\ \b\b| \b\b/ \b\b- \b\b\\ \b\b| \b\b/ \b\b- \b\b\\ \b\b| \b\b/ \b\b- \b\b\\ \b\b| \b\b/ \b\b- \b\b\\ \b\b| \b\b/ \b\b- \b\b\\ \b\b| \b\b/ \b\b- \b\b\\ \b\b| \b\b/ \b\b- \b\b\\ \b\b| \b\b/ \b\b- \b\b\\ \b\b| \b\b/ \b\b- \b\b\\ \b\b| \b\b/ \b\b- \b\b\\ \b\b| \b\b/ \b\b- \b\b\\ \b\b| \b\b/ \b\b- \b\b\\ \b\b| \b\b/ \b\b- \b\b\\ \b\b| \b\b/ \b\b- \b\b\\ \b\b| \b\b/ \b\b- \b\b\\ \b\b| \b\b/ \b\b- \b\b\\ \b\b| \b\b/ \b\b- \b\b\\ \b\b| \b\b/ \b\b- \b\b\\ \b\b| \b\b/ \b\b- \b\b\\ \b\b| \b\b/ \b\b- \b\b\\ \b\b| \b\b/ \b\b- \b\b\\ \b\b| \b\b/ \b\b- \b\b\\ \b\b| \b\b/ \b\b- \b\b\\ \b\b| \b\b/ \b\b- \b\b\\ \b\b| \b\b/ \b\b- \b\b\\ \b\b| \b\b/ \b\b- \b\b\\ \b\b| \b\b/ \b\b- \b\b\\ \b\b| \b\b/ \b\b- \b\b\\ \b\b| \b\b/ \b\b- \b\b\\ \b\b| \b\b/ \b\b- \b\b\\ \b\b| \b\b/ \b\b- \b\b\\ \b\b| \b\b/ \b\b- \b\b\\ \b\b| \b\b/ \b\b- \b\b\\ \b\b| \b\b/ \b\b- \b\b\\ \b\b| \b\b/ \b\b- \b\b\\ \b\b| \b\b/ \b\bfailed with repodata from current_repodata.json, will retry with next repodata source.\n",
            "Collecting package metadata (repodata.json): \\ \b\b| \b\b/ \b\b- \b\b\\ \b\b| \b\b/ \b\b- \b\b\\ \b\b| \b\b/ \b\b- \b\b\\ \b\b| \b\b/ \b\b- \b\b\\ \b\b| \b\b/ \b\b- \b\b\\ \b\b| \b\b/ \b\b- \b\b\\ \b\b| \b\b/ \b\b- \b\b\\ \b\b| \b\b/ \b\b- \b\b\\ \b\b| \b\b/ \b\b- \b\b\\ \b\b| \b\b/ \b\b- \b\b\\ \b\b| \b\b/ \b\b- \b\b\\ \b\b| \b\b/ \b\b- \b\b\\ \b\b| \b\b/ \b\b- \b\b\\ \b\b| \b\b/ \b\b- \b\b\\ \b\b| \b\b/ \b\b- \b\b\\ \b\b| \b\b/ \b\b- \b\b\\ \b\b| \b\b/ \b\b- \b\b\\ \b\b| \b\b/ \b\b- \b\b\\ \b\b| \b\b/ \b\b- \b\b\\ \b\b| \b\b/ \b\b- \b\b\\ \b\b| \b\b/ \b\b- \b\b\\ \b\b| \b\b/ \b\b- \b\b\\ \b\b| \b\b/ \b\b- \b\b\\ \b\b| \b\b/ \b\b- \b\b\\ \b\b| \b\b/ \b\b- \b\b\\ \b\b| \b\b/ \b\b- \b\b\\ \b\b| \b\b/ \b\b- \b\b\\ \b\b| \b\b/ \b\b- \b\b\\ \b\b| \b\b/ \b\b- \b\b\\ \b\b| \b\b/ \b\b- \b\b\\ \b\b| \b\b/ \b\b- \b\b\\ \b\b| \b\b/ \b\b- \b\b\\ \b\b| \b\b/ \b\b- \b\b\\ \b\b| \b\b/ \b\b- \b\b\\ \b\b| \b\b/ \b\b- \b\b\\ \b\b| \b\b/ \b\b- \b\b\\ \b\b| \b\b/ \b\b- \b\b\\ \b\b| \b\b/ \b\b- \b\b\\ \b\b| \b\b/ \b\b- \b\b\\ \b\b| \b\b/ \b\b- \b\b\\ \b\b| \b\b/ \b\b- \b\b\\ \b\b| \b\b/ \b\b- \b\b\\ \b\b| \b\b/ \b\b- \b\b\\ \b\b| \b\b/ \b\b- \b\b\\ \b\b| \b\b/ \b\b- \b\b\\ \b\b| \b\b/ \b\b- \b\b\\ \b\b| \b\b/ \b\b- \b\b\\ \b\b| \b\b/ \b\b- \b\b\\ \b\b| \b\b/ \b\b- \b\b\\ \b\b| \b\b/ \b\b- \b\b\\ \b\b| \b\b/ \b\b- \b\b\\ \b\b| \b\b/ \b\b- \b\b\\ \b\b| \b\b/ \b\b- \b\b\\ \b\b| \b\b/ \b\b- \b\b\\ \b\b| \b\b/ \b\b- \b\b\\ \b\b| \b\b/ \b\b- \b\b\\ \b\b| \b\b/ \b\b- \b\b\\ \b\b| \b\b/ \b\b- \b\b\\ \b\b| \b\b/ \b\b- \b\b\\ \b\b| \b\b/ \b\b- \b\b\\ \b\b| \b\b/ \b\b- \b\b\\ \b\b| \b\b/ \b\b- \b\b\\ \b\b| \b\b/ \b\b- \b\b\\ \b\b| \b\b/ \b\b- \b\b\\ \b\b| \b\b/ \b\b- \b\b\\ \b\b| \b\b/ \b\b- \b\b\\ \b\b| \b\b/ \b\b- \b\b\\ \b\b| \b\b/ \b\b- \b\b\\ \b\b| \b\b/ \b\b- \b\b\\ \b\b| \b\b/ \b\b- \b\b\\ \b\b| \b\b/ \b\b- \b\b\\ \b\b| \b\b/ \b\b- \b\b\\ \b\b| \b\b/ \b\b- \b\b\\ \b\b| \b\b/ \b\b- \b\b\\ \b\b| \b\b/ \b\b- \b\b\\ \b\b| \b\b/ \b\b- \b\b\\ \b\b| \b\b/ \b\b- \b\b\\ \b\b| \b\b/ \b\b- \b\b\\ \b\b| \b\b/ \b\b- \b\b\\ \b\b| \b\b/ \b\b- \b\b\\ \b\b| \b\b/ \b\b- \b\b\\ \b\b| \b\b/ \b\b- \b\b\\ \b\b| \b\b/ \b\b- \b\b\\ \b\b| \b\b/ \b\b- \b\b\\ \b\b| \b\b/ \b\b- \b\b\\ \b\b| \b\b/ \b\b- \b\b\\ \b\b| \b\b/ \b\b- \b\b\\ \b\b| \b\b/ \b\b- \b\b\\ \b\b| \b\b/ \b\b- \b\b\\ \b\b| \b\b/ \b\b- \b\b\\ \b\b| \b\b/ \b\b- \b\b\\ \b\b| \b\b/ \b\bdone\n",
            "Solving environment: \\ \b\b| \b\b/ \b\b- \b\b\\ \b\b| \b\b/ \b\b- \b\b\\ \b\b| \b\b/ \b\b- \b\b\\ \b\b| \b\b/ \b\b- \b\b\\ \b\b| \b\b/ \b\b- \b\b\\ \b\b| \b\b/ \b\b- \b\b\\ \b\b| \b\b/ \b\b- \b\b\\ \b\b| \b\b/ \b\b- \b\b\\ \b\b| \b\b/ \b\b- \b\b\\ \b\b| \b\b/ \b\b- \b\b\\ \b\b| \b\b/ \b\b- \b\b\\ \b\b| \b\b/ \b\b- \b\b\\ \b\b| \b\b/ \b\b- \b\b\\ \b\b| \b\b/ \b\b- \b\b\\ \b\b| \b\b/ \b\b- \b\b\\ \b\b| \b\b/ \b\b- \b\b\\ \b\b| \b\b/ \b\b- \b\b\\ \b\b| \b\b/ \b\b- \b\b\\ \b\b| \b\b/ \b\b- \b\b\\ \b\b| \b\b/ \b\b- \b\b\\ \b\b| \b\b/ \b\b- \b\b\\ \b\b| \b\b/ \b\b- \b\b\\ \b\b| \b\b/ \b\b- \b\b\\ \b\b| \b\b/ \b\b- \b\b\\ \b\b| \b\b/ \b\b- \b\b\\ \b\b| \b\b/ \b\b- \b\b\\ \b\b| \b\b/ \b\b- \b\b\\ \b\b| \b\b/ \b\b- \b\b\\ \b\b| \b\b/ \b\b- \b\b\\ \b\b| \b\b/ \b\b- \b\b\\ \b\b| \b\b/ \b\b- \b\b\\ \b\b| \b\b/ \b\b- \b\b\\ \b\b| \b\b/ \b\b- \b\b\\ \b\b| \b\b/ \b\b- \b\b\\ \b\b| \b\b/ \b\b- \b\b\\ \b\b| \b\b/ \b\b- \b\b\\ \b\b| \b\b/ \b\b- \b\b\\ \b\b| \b\b/ \b\b- \b\b\\ \b\b| \b\b/ \b\b- \b\b\\ \b\b| \b\b/ \b\b- \b\b\\ \b\b| \b\b/ \b\b- \b\b\\ \b\b| \b\b/ \b\b- \b\b\\ \b\b| \b\b/ \b\b- \b\b\\ \b\b| \b\b/ \b\b- \b\b\\ \b\b| \b\b/ \b\b- \b\b\\ \b\b| \b\b/ \b\b- \b\b\\ \b\b| \b\b/ \b\b- \b\b\\ \b\b| \b\b/ \b\b- \b\b\\ \b\b| \b\b/ \b\b- \b\b\\ \b\b| \b\b/ \b\b- \b\b\\ \b\b| \b\b/ \b\b- \b\b\\ \b\b| \b\b/ \b\b- \b\b\\ \b\b| \b\b/ \b\b- \b\b\\ \b\b| \b\b/ \b\b- \b\b\\ \b\b| \b\b/ \b\b- \b\b\\ \b\b| \b\b/ \b\b- \b\b\\ \b\b| \b\b/ \b\b- \b\b\\ \b\b| \b\b/ \b\b- \b\b\\ \b\b| \b\b/ \b\b- \b\b\\ \b\bdone\n",
            "\n",
            "\n",
            "==> WARNING: A newer version of conda exists. <==\n",
            "  current version: 4.7.12\n",
            "  latest version: 4.10.1\n",
            "\n",
            "Please update conda by running\n",
            "\n",
            "    $ conda update -n base -c defaults conda\n",
            "\n",
            "\n",
            "\n",
            "## Package Plan ##\n",
            "\n",
            "  environment location: /usr/local\n",
            "\n",
            "  added / updated specs:\n",
            "    - deepchem-gpu=2.3.0\n",
            "\n",
            "\n",
            "The following packages will be downloaded:\n",
            "\n",
            "    package                    |            build\n",
            "    ---------------------------|-----------------\n",
            "    _py-xgboost-mutex-2.0      |            cpu_0           8 KB  conda-forge\n",
            "    _tflow_select-2.1.0        |              gpu           2 KB\n",
            "    absl-py-0.12.0             |     pyhd8ed1ab_0          96 KB  conda-forge\n",
            "    astor-0.8.1                |     pyh9f0ad1d_0          25 KB  conda-forge\n",
            "    astunparse-1.6.3           |     pyhd8ed1ab_0          15 KB  conda-forge\n",
            "    c-ares-1.17.1              |       h36c2ea0_0         111 KB  conda-forge\n",
            "    certifi-2019.9.11          |           py37_0         147 KB  conda-forge\n",
            "    conda-4.10.1               |   py37h89c1867_0         3.1 MB  conda-forge\n",
            "    cudatoolkit-10.1.243       |       h6bb024c_0       347.4 MB\n",
            "    cudnn-7.6.5.32             |       hc0a50b0_1       250.7 MB  conda-forge\n",
            "    cupti-10.1.168             |                0         1.4 MB\n",
            "    deepchem-gpu-2.3.0         |           py37_0         2.1 MB  deepchem\n",
            "    fftw3f-3.3.4               |                2         1.2 MB  omnia\n",
            "    gast-0.4.0                 |     pyh9f0ad1d_0          12 KB  conda-forge\n",
            "    google-pasta-0.2.0         |     pyh8c360ce_0          42 KB  conda-forge\n",
            "    grpcio-1.23.0              |   py37hb0870dc_1         1.1 MB  conda-forge\n",
            "    importlib-metadata-4.0.1   |   py37h89c1867_0          30 KB  conda-forge\n",
            "    keras-applications-1.0.8   |             py_1          30 KB  conda-forge\n",
            "    keras-preprocessing-1.1.2  |     pyhd8ed1ab_0          34 KB  conda-forge\n",
            "    libboost-1.67.0            |       h46d08c1_4        13.0 MB\n",
            "    libprotobuf-3.13.0.1       |       h8b12597_0         2.3 MB  conda-forge\n",
            "    libxgboost-1.2.0           |       he1b5a44_0         3.1 MB  conda-forge\n",
            "    markdown-3.3.4             |     pyhd8ed1ab_0          67 KB  conda-forge\n",
            "    mdtraj-1.9.5               |   py37h113d463_0         1.7 MB  conda-forge\n",
            "    openmm-7.4.2               |py37_cuda101_rc_1        11.9 MB  omnia\n",
            "    pdbfixer-1.6               |             py_1         167 KB  omnia\n",
            "    protobuf-3.13.0.1          |   py37h745909e_1         704 KB  conda-forge\n",
            "    py-boost-1.67.0            |   py37h04863e7_4         278 KB\n",
            "    py-xgboost-1.2.0           |   py37hc8dfbb8_0         1.7 MB  conda-forge\n",
            "    python_abi-3.7             |          1_cp37m           4 KB  conda-forge\n",
            "    rdkit-2020.03.3.0          |   py37hc20afe1_1        24.8 MB  rdkit\n",
            "    simdna-0.4.2               |             py_0         627 KB  deepchem\n",
            "    tensorboard-1.14.0         |           py37_0         3.2 MB  conda-forge\n",
            "    tensorflow-1.14.0          |gpu_py37h74c33d7_0           4 KB\n",
            "    tensorflow-base-1.14.0     |gpu_py37he45bfe2_0       146.3 MB\n",
            "    tensorflow-estimator-1.14.0|   py37h5ca1d4c_0         645 KB  conda-forge\n",
            "    tensorflow-gpu-1.14.0      |       h0d30ee6_0           3 KB\n",
            "    termcolor-1.1.0            |             py_2           6 KB  conda-forge\n",
            "    typing_extensions-3.7.4.3  |             py_0          25 KB  conda-forge\n",
            "    xgboost-1.2.0              |   py37h3340039_0          11 KB  conda-forge\n",
            "    ------------------------------------------------------------\n",
            "                                           Total:       817.9 MB\n",
            "\n",
            "The following NEW packages will be INSTALLED:\n",
            "\n",
            "  _py-xgboost-mutex  conda-forge/linux-64::_py-xgboost-mutex-2.0-cpu_0\n",
            "  _tflow_select      pkgs/main/linux-64::_tflow_select-2.1.0-gpu\n",
            "  absl-py            conda-forge/noarch::absl-py-0.12.0-pyhd8ed1ab_0\n",
            "  astor              conda-forge/noarch::astor-0.8.1-pyh9f0ad1d_0\n",
            "  astunparse         conda-forge/noarch::astunparse-1.6.3-pyhd8ed1ab_0\n",
            "  c-ares             conda-forge/linux-64::c-ares-1.17.1-h36c2ea0_0\n",
            "  cudatoolkit        pkgs/main/linux-64::cudatoolkit-10.1.243-h6bb024c_0\n",
            "  cudnn              conda-forge/linux-64::cudnn-7.6.5.32-hc0a50b0_1\n",
            "  cupti              pkgs/main/linux-64::cupti-10.1.168-0\n",
            "  deepchem-gpu       deepchem/linux-64::deepchem-gpu-2.3.0-py37_0\n",
            "  fftw3f             omnia/linux-64::fftw3f-3.3.4-2\n",
            "  gast               conda-forge/noarch::gast-0.4.0-pyh9f0ad1d_0\n",
            "  google-pasta       conda-forge/noarch::google-pasta-0.2.0-pyh8c360ce_0\n",
            "  grpcio             conda-forge/linux-64::grpcio-1.23.0-py37hb0870dc_1\n",
            "  importlib-metadata conda-forge/linux-64::importlib-metadata-4.0.1-py37h89c1867_0\n",
            "  keras-applications conda-forge/noarch::keras-applications-1.0.8-py_1\n",
            "  keras-preprocessi~ conda-forge/noarch::keras-preprocessing-1.1.2-pyhd8ed1ab_0\n",
            "  libboost           pkgs/main/linux-64::libboost-1.67.0-h46d08c1_4\n",
            "  libprotobuf        conda-forge/linux-64::libprotobuf-3.13.0.1-h8b12597_0\n",
            "  libxgboost         conda-forge/linux-64::libxgboost-1.2.0-he1b5a44_0\n",
            "  markdown           conda-forge/noarch::markdown-3.3.4-pyhd8ed1ab_0\n",
            "  mdtraj             conda-forge/linux-64::mdtraj-1.9.5-py37h113d463_0\n",
            "  openmm             omnia/linux-64::openmm-7.4.2-py37_cuda101_rc_1\n",
            "  pdbfixer           omnia/noarch::pdbfixer-1.6-py_1\n",
            "  protobuf           conda-forge/linux-64::protobuf-3.13.0.1-py37h745909e_1\n",
            "  py-boost           pkgs/main/linux-64::py-boost-1.67.0-py37h04863e7_4\n",
            "  py-xgboost         conda-forge/linux-64::py-xgboost-1.2.0-py37hc8dfbb8_0\n",
            "  python_abi         conda-forge/linux-64::python_abi-3.7-1_cp37m\n",
            "  rdkit              rdkit/linux-64::rdkit-2020.03.3.0-py37hc20afe1_1\n",
            "  simdna             deepchem/noarch::simdna-0.4.2-py_0\n",
            "  tensorboard        conda-forge/linux-64::tensorboard-1.14.0-py37_0\n",
            "  tensorflow         pkgs/main/linux-64::tensorflow-1.14.0-gpu_py37h74c33d7_0\n",
            "  tensorflow-base    pkgs/main/linux-64::tensorflow-base-1.14.0-gpu_py37he45bfe2_0\n",
            "  tensorflow-estima~ conda-forge/linux-64::tensorflow-estimator-1.14.0-py37h5ca1d4c_0\n",
            "  tensorflow-gpu     pkgs/main/linux-64::tensorflow-gpu-1.14.0-h0d30ee6_0\n",
            "  termcolor          conda-forge/noarch::termcolor-1.1.0-py_2\n",
            "  typing_extensions  conda-forge/noarch::typing_extensions-3.7.4.3-py_0\n",
            "  xgboost            conda-forge/linux-64::xgboost-1.2.0-py37h3340039_0\n",
            "\n",
            "The following packages will be UPDATED:\n",
            "\n",
            "  conda                      pkgs/main::conda-4.7.12-py37_0 --> conda-forge::conda-4.10.1-py37h89c1867_0\n",
            "\n",
            "The following packages will be SUPERSEDED by a higher-priority channel:\n",
            "\n",
            "  certifi                                         pkgs/main --> conda-forge\n",
            "\n",
            "\n",
            "\n",
            "Downloading and Extracting Packages\n",
            "typing_extensions-3. | 25 KB     | : 100% 1.0/1 [00:00<00:00,  8.38it/s]               \n",
            "cudatoolkit-10.1.243 | 347.4 MB  | : 100% 1.0/1 [00:07<00:00,  7.86s/it]               \n",
            "mdtraj-1.9.5         | 1.7 MB    | : 100% 1.0/1 [00:00<00:00,  2.77it/s]               \n",
            "gast-0.4.0           | 12 KB     | : 100% 1.0/1 [00:00<00:00, 20.95it/s]\n",
            "google-pasta-0.2.0   | 42 KB     | : 100% 1.0/1 [00:00<00:00, 16.06it/s]\n",
            "simdna-0.4.2         | 627 KB    | : 100% 1.0/1 [00:01<00:00,  1.35s/it]\n",
            "fftw3f-3.3.4         | 1.2 MB    | : 100% 1.0/1 [00:00<00:00,  2.43it/s]\n",
            "xgboost-1.2.0        | 11 KB     | : 100% 1.0/1 [00:00<00:00, 21.15it/s]\n",
            "keras-preprocessing- | 34 KB     | : 100% 1.0/1 [00:00<00:00, 19.11it/s]\n",
            "grpcio-1.23.0        | 1.1 MB    | : 100% 1.0/1 [00:00<00:00,  4.22it/s]\n",
            "c-ares-1.17.1        | 111 KB    | : 100% 1.0/1 [00:00<00:00, 16.02it/s]\n",
            "libxgboost-1.2.0     | 3.1 MB    | : 100% 1.0/1 [00:00<00:00,  1.99it/s]\n",
            "conda-4.10.1         | 3.1 MB    | : 100% 1.0/1 [00:00<00:00,  1.71it/s]\n",
            "py-boost-1.67.0      | 278 KB    | : 100% 1.0/1 [00:00<00:00,  7.29it/s]\n",
            "rdkit-2020.03.3.0    | 24.8 MB   | : 100% 1.0/1 [00:05<00:00,  5.81s/it]\n",
            "py-xgboost-1.2.0     | 1.7 MB    | : 100% 1.0/1 [00:00<00:00,  2.91it/s]\n",
            "tensorflow-estimator | 645 KB    | : 100% 1.0/1 [00:00<00:00,  4.32it/s]\n",
            "astunparse-1.6.3     | 15 KB     | : 100% 1.0/1 [00:00<00:00, 21.68it/s]\n",
            "cudnn-7.6.5.32       | 250.7 MB  | : 100% 1.0/1 [00:33<00:00, 33.20s/it]               \n",
            "tensorboard-1.14.0   | 3.2 MB    | : 100% 1.0/1 [00:00<00:00,  1.96it/s]\n",
            "termcolor-1.1.0      | 6 KB      | : 100% 1.0/1 [00:00<00:00, 18.13it/s]\n",
            "libprotobuf-3.13.0.1 | 2.3 MB    | : 100% 1.0/1 [00:00<00:00,  2.01it/s]\n",
            "markdown-3.3.4       | 67 KB     | : 100% 1.0/1 [00:00<00:00, 20.12it/s]\n",
            "cupti-10.1.168       | 1.4 MB    | : 100% 1.0/1 [00:00<00:00,  6.97it/s]\n",
            "openmm-7.4.2         | 11.9 MB   | : 100% 1.0/1 [00:02<00:00,  2.99s/it]\n",
            "astor-0.8.1          | 25 KB     | : 100% 1.0/1 [00:00<00:00, 23.65it/s]\n",
            "_py-xgboost-mutex-2. | 8 KB      | : 100% 1.0/1 [00:00<00:00, 27.84it/s]\n",
            "tensorflow-gpu-1.14. | 3 KB      | : 100% 1.0/1 [00:00<00:00, 10.01it/s]\n",
            "keras-applications-1 | 30 KB     | : 100% 1.0/1 [00:00<00:00, 18.98it/s]\n",
            "pdbfixer-1.6         | 167 KB    | : 100% 1.0/1 [00:00<00:00,  5.30it/s]\n",
            "absl-py-0.12.0       | 96 KB     | : 100% 1.0/1 [00:00<00:00, 15.30it/s]\n",
            "tensorflow-base-1.14 | 146.3 MB  | : 100% 1.0/1 [00:07<00:00,  7.48s/it]              \n",
            "libboost-1.67.0      | 13.0 MB   | : 100% 1.0/1 [00:05<00:00,  3.56s/it]               \n",
            "python_abi-3.7       | 4 KB      | : 100% 1.0/1 [00:00<00:00, 20.82it/s]\n",
            "certifi-2019.9.11    | 147 KB    | : 100% 1.0/1 [00:00<00:00,  8.62it/s]\n",
            "protobuf-3.13.0.1    | 704 KB    | : 100% 1.0/1 [00:00<00:00,  4.56it/s]\n",
            "tensorflow-1.14.0    | 4 KB      | : 100% 1.0/1 [00:00<00:00,  7.57it/s]\n",
            "_tflow_select-2.1.0  | 2 KB      | : 100% 1.0/1 [00:00<00:00,  8.51it/s]\n",
            "importlib-metadata-4 | 30 KB     | : 100% 1.0/1 [00:00<00:00, 17.70it/s]\n",
            "deepchem-gpu-2.3.0   | 2.1 MB    | : 100% 1.0/1 [00:01<00:00,  1.79s/it]\n",
            "Preparing transaction: / \b\b- \b\b\\ \b\b| \b\b/ \b\b- \b\b\\ \b\b| \b\b/ \b\b- \b\bdone\n",
            "Verifying transaction: | \b\b/ \b\b- \b\b\\ \b\b| \b\b/ \b\b- \b\b\\ \b\b| \b\b/ \b\b- \b\b\\ \b\b| \b\b/ \b\b- \b\b\\ \b\b| \b\b/ \b\b- \b\b\\ \b\b| \b\b/ \b\b- \b\b\\ \b\b| \b\b/ \b\b- \b\b\\ \b\b| \b\b/ \b\b- \b\b\\ \b\bdone\n",
            "Executing transaction: / \b\b- \b\b\\ \b\b| \b\b/ \b\b- \b\b\\ \b\b| \b\b/ \b\b- \b\b\\ \b\b| \b\b/ \b\b- \b\b\\ \b\b| \b\b/ \b\b- \b\b\\ \b\b| \b\b/ \b\b- \b\b\\ b'By downloading and using the cuDNN conda packages, you accept the terms and conditions of the NVIDIA cuDNN EULA -\\n  https://docs.nvidia.com/deeplearning/cudnn/sla/index.html\\n'\n",
            "\b\b| \b\b/ \b\b- \b\b\\ \b\b| \b\b/ \b\b- \b\b\\ \b\b| \b\b/ \b\b- \b\b\\ \b\b| \b\b/ \b\b- \b\b\\ \b\b| \b\b/ \b\b- \b\bdone\n",
            "\n",
            "real\t4m59.197s\n",
            "user\t4m28.986s\n",
            "sys\t0m16.823s\n"
          ],
          "name": "stdout"
        }
      ]
    },
    {
      "cell_type": "code",
      "metadata": {
        "colab": {
          "base_uri": "https://localhost:8080/"
        },
        "id": "4AB0U-9gyJNB",
        "outputId": "0ca343fb-703c-467f-d908-f414d52a559b"
      },
      "source": [
        "!wget https://raw.githubusercontent.com/ravichas/AMPL-Tutorial/master/config/install_AMPL_GPU_test.sh"
      ],
      "execution_count": null,
      "outputs": [
        {
          "output_type": "stream",
          "text": [
            "--2021-04-27 22:43:44--  https://raw.githubusercontent.com/ravichas/AMPL-Tutorial/master/config/install_AMPL_GPU_test.sh\n",
            "Resolving raw.githubusercontent.com (raw.githubusercontent.com)... 185.199.108.133, 185.199.109.133, 185.199.110.133, ...\n",
            "Connecting to raw.githubusercontent.com (raw.githubusercontent.com)|185.199.108.133|:443... connected.\n",
            "HTTP request sent, awaiting response... 200 OK\n",
            "Length: 1100 (1.1K) [text/plain]\n",
            "Saving to: ‘install_AMPL_GPU_test.sh’\n",
            "\n",
            "install_AMPL_GPU_te 100%[===================>]   1.07K  --.-KB/s    in 0s      \n",
            "\n",
            "2021-04-27 22:43:44 (75.5 MB/s) - ‘install_AMPL_GPU_test.sh’ saved [1100/1100]\n",
            "\n"
          ],
          "name": "stdout"
        }
      ]
    },
    {
      "cell_type": "code",
      "metadata": {
        "colab": {
          "base_uri": "https://localhost:8080/"
        },
        "id": "aadk1g7ZzPdp",
        "outputId": "3d4e7c50-97b8-42c9-f825-a9873d05d0a0"
      },
      "source": [
        "! chmod u+x install_AMPL_GPU_test.sh\n",
        "! time ./install_AMPL_GPU_test.sh"
      ],
      "execution_count": null,
      "outputs": [
        {
          "output_type": "stream",
          "text": [
            "Cloning into 'AMPL'...\n",
            "remote: Enumerating objects: 2070, done.\u001b[K\n",
            "remote: Counting objects: 100% (562/562), done.\u001b[K\n",
            "remote: Compressing objects: 100% (314/314), done.\u001b[K\n",
            "remote: Total 2070 (delta 388), reused 381 (delta 247), pack-reused 1508\u001b[K\n",
            "Receiving objects: 100% (2070/2070), 9.83 MiB | 16.11 MiB/s, done.\n",
            "Resolving deltas: 100% (1200/1200), done.\n",
            "Branch 'pkg_upgrade' set up to track remote branch 'pkg_upgrade' from 'origin'.\n",
            "Switched to a new branch 'pkg_upgrade'\n",
            "patching file /content/github/AMPL/atomsci/ddm/pipeline/transformations.py\n",
            "patching file /content/github/AMPL/atomsci/ddm/__init__.py\n",
            "running build\n",
            "running build_py\n",
            "creating /content/github/AMPL.build/ampl/lib\n",
            "creating /content/github/AMPL.build/ampl/lib/atomsci\n",
            "copying atomsci/__init__.py -> /content/github/AMPL.build/ampl/lib/atomsci\n",
            "creating /content/github/AMPL.build/ampl/lib/atomsci/ddm\n",
            "copying atomsci/ddm/__init__.py -> /content/github/AMPL.build/ampl/lib/atomsci/ddm\n",
            "creating /content/github/AMPL.build/ampl/lib/atomsci/ddm/utils\n",
            "copying atomsci/ddm/utils/llnl_utils.py -> /content/github/AMPL.build/ampl/lib/atomsci/ddm/utils\n",
            "copying atomsci/ddm/utils/data_curation_functions.py -> /content/github/AMPL.build/ampl/lib/atomsci/ddm/utils\n",
            "copying atomsci/ddm/utils/open-docs.py -> /content/github/AMPL.build/ampl/lib/atomsci/ddm/utils\n",
            "copying atomsci/ddm/utils/pubchem_utils.py -> /content/github/AMPL.build/ampl/lib/atomsci/ddm/utils\n",
            "copying atomsci/ddm/utils/hyperparam_search_wrapper.py -> /content/github/AMPL.build/ampl/lib/atomsci/ddm/utils\n",
            "copying atomsci/ddm/utils/__init__.py -> /content/github/AMPL.build/ampl/lib/atomsci/ddm/utils\n",
            "copying atomsci/ddm/utils/curate_data.py -> /content/github/AMPL.build/ampl/lib/atomsci/ddm/utils\n",
            "copying atomsci/ddm/utils/datastore_functions.py -> /content/github/AMPL.build/ampl/lib/atomsci/ddm/utils\n",
            "copying atomsci/ddm/utils/process_slurm.py -> /content/github/AMPL.build/ampl/lib/atomsci/ddm/utils\n",
            "copying atomsci/ddm/utils/genTestset.py -> /content/github/AMPL.build/ampl/lib/atomsci/ddm/utils\n",
            "copying atomsci/ddm/utils/struct_utils.py -> /content/github/AMPL.build/ampl/lib/atomsci/ddm/utils\n",
            "copying atomsci/ddm/utils/rdkit_easy.py -> /content/github/AMPL.build/ampl/lib/atomsci/ddm/utils\n",
            "creating /content/github/AMPL.build/ampl/lib/atomsci/ddm/pipeline\n",
            "copying atomsci/ddm/pipeline/temporal_splitter.py -> /content/github/AMPL.build/ampl/lib/atomsci/ddm/pipeline\n",
            "copying atomsci/ddm/pipeline/ave_splitter.py -> /content/github/AMPL.build/ampl/lib/atomsci/ddm/pipeline\n",
            "copying atomsci/ddm/pipeline/perf_plots.py -> /content/github/AMPL.build/ampl/lib/atomsci/ddm/pipeline\n",
            "copying atomsci/ddm/pipeline/perf_data.py -> /content/github/AMPL.build/ampl/lib/atomsci/ddm/pipeline\n",
            "copying atomsci/ddm/pipeline/parameter_parser.py -> /content/github/AMPL.build/ampl/lib/atomsci/ddm/pipeline\n",
            "copying atomsci/ddm/pipeline/model_wrapper.py -> /content/github/AMPL.build/ampl/lib/atomsci/ddm/pipeline\n",
            "copying atomsci/ddm/pipeline/chem_diversity.py -> /content/github/AMPL.build/ampl/lib/atomsci/ddm/pipeline\n",
            "copying atomsci/ddm/pipeline/featurization.py -> /content/github/AMPL.build/ampl/lib/atomsci/ddm/pipeline\n",
            "copying atomsci/ddm/pipeline/model_tracker.py -> /content/github/AMPL.build/ampl/lib/atomsci/ddm/pipeline\n",
            "copying atomsci/ddm/pipeline/model_pipeline.py -> /content/github/AMPL.build/ampl/lib/atomsci/ddm/pipeline\n",
            "copying atomsci/ddm/pipeline/diversity_plots.py -> /content/github/AMPL.build/ampl/lib/atomsci/ddm/pipeline\n",
            "copying atomsci/ddm/pipeline/model_datasets.py -> /content/github/AMPL.build/ampl/lib/atomsci/ddm/pipeline\n",
            "copying atomsci/ddm/pipeline/__init__.py -> /content/github/AMPL.build/ampl/lib/atomsci/ddm/pipeline\n",
            "copying atomsci/ddm/pipeline/hyper_perf_plots.py -> /content/github/AMPL.build/ampl/lib/atomsci/ddm/pipeline\n",
            "copying atomsci/ddm/pipeline/splitting.py -> /content/github/AMPL.build/ampl/lib/atomsci/ddm/pipeline\n",
            "copying atomsci/ddm/pipeline/compare_models.py -> /content/github/AMPL.build/ampl/lib/atomsci/ddm/pipeline\n",
            "copying atomsci/ddm/pipeline/dist_metrics.py -> /content/github/AMPL.build/ampl/lib/atomsci/ddm/pipeline\n",
            "copying atomsci/ddm/pipeline/predict_from_model.py -> /content/github/AMPL.build/ampl/lib/atomsci/ddm/pipeline\n",
            "copying atomsci/ddm/pipeline/transformations.py -> /content/github/AMPL.build/ampl/lib/atomsci/ddm/pipeline\n",
            "running egg_info\n",
            "creating /content/github/AMPL.build/ampl/atomsci_ampl.egg-info\n",
            "writing /content/github/AMPL.build/ampl/atomsci_ampl.egg-info/PKG-INFO\n",
            "writing dependency_links to /content/github/AMPL.build/ampl/atomsci_ampl.egg-info/dependency_links.txt\n",
            "writing namespace_packages to /content/github/AMPL.build/ampl/atomsci_ampl.egg-info/namespace_packages.txt\n",
            "writing top-level names to /content/github/AMPL.build/ampl/atomsci_ampl.egg-info/top_level.txt\n",
            "writing manifest file '/content/github/AMPL.build/ampl/atomsci_ampl.egg-info/SOURCES.txt'\n",
            "reading manifest file '/content/github/AMPL.build/ampl/atomsci_ampl.egg-info/SOURCES.txt'\n",
            "reading manifest template 'MANIFEST.in'\n",
            "warning: no files found matching 'atomsci/*/*.yaml'\n",
            "writing manifest file '/content/github/AMPL.build/ampl/atomsci_ampl.egg-info/SOURCES.txt'\n",
            "creating /content/github/AMPL.build/ampl/lib/atomsci/ddm/data\n",
            "copying atomsci/ddm/data/descriptor_sets_sources_by_descr_type.csv -> /content/github/AMPL.build/ampl/lib/atomsci/ddm/data\n",
            "running bdist_wheel\n",
            "installing to /content/github/AMPL.build/ampl/bdist.linux-x86_64/wheel\n",
            "running install\n",
            "running install_lib\n",
            "Skipping installation of /content/github/AMPL.build/ampl/bdist.linux-x86_64/wheel/atomsci/__init__.py (namespace package)\n",
            "copying atomsci/ddm/__init__.py -> /content/github/AMPL.build/ampl/bdist.linux-x86_64/wheel/atomsci/ddm\n",
            "copying atomsci/ddm/utils/llnl_utils.py -> /content/github/AMPL.build/ampl/bdist.linux-x86_64/wheel/atomsci/ddm/utils\n",
            "copying atomsci/ddm/utils/data_curation_functions.py -> /content/github/AMPL.build/ampl/bdist.linux-x86_64/wheel/atomsci/ddm/utils\n",
            "copying atomsci/ddm/utils/open-docs.py -> /content/github/AMPL.build/ampl/bdist.linux-x86_64/wheel/atomsci/ddm/utils\n",
            "copying atomsci/ddm/utils/pubchem_utils.py -> /content/github/AMPL.build/ampl/bdist.linux-x86_64/wheel/atomsci/ddm/utils\n",
            "copying atomsci/ddm/utils/hyperparam_search_wrapper.py -> /content/github/AMPL.build/ampl/bdist.linux-x86_64/wheel/atomsci/ddm/utils\n",
            "copying atomsci/ddm/utils/__init__.py -> /content/github/AMPL.build/ampl/bdist.linux-x86_64/wheel/atomsci/ddm/utils\n",
            "copying atomsci/ddm/utils/curate_data.py -> /content/github/AMPL.build/ampl/bdist.linux-x86_64/wheel/atomsci/ddm/utils\n",
            "copying atomsci/ddm/utils/datastore_functions.py -> /content/github/AMPL.build/ampl/bdist.linux-x86_64/wheel/atomsci/ddm/utils\n",
            "copying atomsci/ddm/utils/process_slurm.py -> /content/github/AMPL.build/ampl/bdist.linux-x86_64/wheel/atomsci/ddm/utils\n",
            "copying atomsci/ddm/utils/genTestset.py -> /content/github/AMPL.build/ampl/bdist.linux-x86_64/wheel/atomsci/ddm/utils\n",
            "copying atomsci/ddm/utils/struct_utils.py -> /content/github/AMPL.build/ampl/bdist.linux-x86_64/wheel/atomsci/ddm/utils\n",
            "copying atomsci/ddm/utils/rdkit_easy.py -> /content/github/AMPL.build/ampl/bdist.linux-x86_64/wheel/atomsci/ddm/utils\n",
            "copying atomsci/ddm/data/descriptor_sets_sources_by_descr_type.csv -> /content/github/AMPL.build/ampl/bdist.linux-x86_64/wheel/atomsci/ddm/data\n",
            "copying atomsci/ddm/pipeline/temporal_splitter.py -> /content/github/AMPL.build/ampl/bdist.linux-x86_64/wheel/atomsci/ddm/pipeline\n",
            "copying atomsci/ddm/pipeline/ave_splitter.py -> /content/github/AMPL.build/ampl/bdist.linux-x86_64/wheel/atomsci/ddm/pipeline\n",
            "copying atomsci/ddm/pipeline/perf_plots.py -> /content/github/AMPL.build/ampl/bdist.linux-x86_64/wheel/atomsci/ddm/pipeline\n",
            "copying atomsci/ddm/pipeline/perf_data.py -> /content/github/AMPL.build/ampl/bdist.linux-x86_64/wheel/atomsci/ddm/pipeline\n",
            "copying atomsci/ddm/pipeline/parameter_parser.py -> /content/github/AMPL.build/ampl/bdist.linux-x86_64/wheel/atomsci/ddm/pipeline\n",
            "copying atomsci/ddm/pipeline/model_wrapper.py -> /content/github/AMPL.build/ampl/bdist.linux-x86_64/wheel/atomsci/ddm/pipeline\n",
            "copying atomsci/ddm/pipeline/chem_diversity.py -> /content/github/AMPL.build/ampl/bdist.linux-x86_64/wheel/atomsci/ddm/pipeline\n",
            "copying atomsci/ddm/pipeline/featurization.py -> /content/github/AMPL.build/ampl/bdist.linux-x86_64/wheel/atomsci/ddm/pipeline\n",
            "copying atomsci/ddm/pipeline/model_tracker.py -> /content/github/AMPL.build/ampl/bdist.linux-x86_64/wheel/atomsci/ddm/pipeline\n",
            "copying atomsci/ddm/pipeline/model_pipeline.py -> /content/github/AMPL.build/ampl/bdist.linux-x86_64/wheel/atomsci/ddm/pipeline\n",
            "copying atomsci/ddm/pipeline/diversity_plots.py -> /content/github/AMPL.build/ampl/bdist.linux-x86_64/wheel/atomsci/ddm/pipeline\n",
            "copying atomsci/ddm/pipeline/model_datasets.py -> /content/github/AMPL.build/ampl/bdist.linux-x86_64/wheel/atomsci/ddm/pipeline\n",
            "copying atomsci/ddm/pipeline/__init__.py -> /content/github/AMPL.build/ampl/bdist.linux-x86_64/wheel/atomsci/ddm/pipeline\n",
            "copying atomsci/ddm/pipeline/hyper_perf_plots.py -> /content/github/AMPL.build/ampl/bdist.linux-x86_64/wheel/atomsci/ddm/pipeline\n",
            "copying atomsci/ddm/pipeline/splitting.py -> /content/github/AMPL.build/ampl/bdist.linux-x86_64/wheel/atomsci/ddm/pipeline\n",
            "copying atomsci/ddm/pipeline/compare_models.py -> /content/github/AMPL.build/ampl/bdist.linux-x86_64/wheel/atomsci/ddm/pipeline\n",
            "copying atomsci/ddm/pipeline/dist_metrics.py -> /content/github/AMPL.build/ampl/bdist.linux-x86_64/wheel/atomsci/ddm/pipeline\n",
            "copying atomsci/ddm/pipeline/predict_from_model.py -> /content/github/AMPL.build/ampl/bdist.linux-x86_64/wheel/atomsci/ddm/pipeline\n",
            "copying atomsci/ddm/pipeline/transformations.py -> /content/github/AMPL.build/ampl/bdist.linux-x86_64/wheel/atomsci/ddm/pipeline\n",
            "running install_egg_info\n",
            "Copying /content/github/AMPL.build/ampl/atomsci_ampl.egg-info to /content/github/AMPL.build/ampl/bdist.linux-x86_64/wheel/atomsci_ampl-1.1.0-py3.7.egg-info\n",
            "Installing /content/github/AMPL.build/ampl/bdist.linux-x86_64/wheel/atomsci_ampl-1.1.0-py3.7-nspkg.pth\n",
            "running install_scripts\n",
            "adding license file \"LICENSE\" (matched pattern \"LICEN[CS]E*\")\n",
            "adding license file \"NOTICE\" (matched pattern \"NOTICE*\")\n",
            "creating /content/github/AMPL.build/ampl/bdist.linux-x86_64/wheel/atomsci_ampl-1.1.0.dist-info/WHEEL\n",
            "creating '/content/github/AMPL.dist/atomsci_ampl-1.1.0-py3-none-any.whl' and adding '/content/github/AMPL.build/ampl/bdist.linux-x86_64/wheel' to it\n",
            "adding 'atomsci_ampl-1.1.0-py3.7-nspkg.pth'\n",
            "adding 'atomsci/ddm/__init__.py'\n",
            "adding 'atomsci/ddm/data/descriptor_sets_sources_by_descr_type.csv'\n",
            "adding 'atomsci/ddm/pipeline/__init__.py'\n",
            "adding 'atomsci/ddm/pipeline/ave_splitter.py'\n",
            "adding 'atomsci/ddm/pipeline/chem_diversity.py'\n",
            "adding 'atomsci/ddm/pipeline/compare_models.py'\n",
            "adding 'atomsci/ddm/pipeline/dist_metrics.py'\n",
            "adding 'atomsci/ddm/pipeline/diversity_plots.py'\n",
            "adding 'atomsci/ddm/pipeline/featurization.py'\n",
            "adding 'atomsci/ddm/pipeline/hyper_perf_plots.py'\n",
            "adding 'atomsci/ddm/pipeline/model_datasets.py'\n",
            "adding 'atomsci/ddm/pipeline/model_pipeline.py'\n",
            "adding 'atomsci/ddm/pipeline/model_tracker.py'\n",
            "adding 'atomsci/ddm/pipeline/model_wrapper.py'\n",
            "adding 'atomsci/ddm/pipeline/parameter_parser.py'\n",
            "adding 'atomsci/ddm/pipeline/perf_data.py'\n",
            "adding 'atomsci/ddm/pipeline/perf_plots.py'\n",
            "adding 'atomsci/ddm/pipeline/predict_from_model.py'\n",
            "adding 'atomsci/ddm/pipeline/splitting.py'\n",
            "adding 'atomsci/ddm/pipeline/temporal_splitter.py'\n",
            "adding 'atomsci/ddm/pipeline/transformations.py'\n",
            "adding 'atomsci/ddm/utils/__init__.py'\n",
            "adding 'atomsci/ddm/utils/curate_data.py'\n",
            "adding 'atomsci/ddm/utils/data_curation_functions.py'\n",
            "adding 'atomsci/ddm/utils/datastore_functions.py'\n",
            "adding 'atomsci/ddm/utils/genTestset.py'\n",
            "adding 'atomsci/ddm/utils/hyperparam_search_wrapper.py'\n",
            "adding 'atomsci/ddm/utils/llnl_utils.py'\n",
            "adding 'atomsci/ddm/utils/open-docs.py'\n",
            "adding 'atomsci/ddm/utils/process_slurm.py'\n",
            "adding 'atomsci/ddm/utils/pubchem_utils.py'\n",
            "adding 'atomsci/ddm/utils/rdkit_easy.py'\n",
            "adding 'atomsci/ddm/utils/struct_utils.py'\n",
            "adding 'atomsci_ampl-1.1.0.dist-info/LICENSE'\n",
            "adding 'atomsci_ampl-1.1.0.dist-info/METADATA'\n",
            "adding 'atomsci_ampl-1.1.0.dist-info/NOTICE'\n",
            "adding 'atomsci_ampl-1.1.0.dist-info/WHEEL'\n",
            "adding 'atomsci_ampl-1.1.0.dist-info/namespace_packages.txt'\n",
            "adding 'atomsci_ampl-1.1.0.dist-info/top_level.txt'\n",
            "adding 'atomsci_ampl-1.1.0.dist-info/RECORD'\n",
            "removing /content/github/AMPL.build/ampl/bdist.linux-x86_64/wheel\n",
            "DIR: /content/github/AMPL\n",
            "Ignoring indexes: https://pypi.org/simple\n",
            "Created temporary directory: /tmp/pip-ephem-wheel-cache-7rbtgrpw\n",
            "Created temporary directory: /tmp/pip-req-tracker-_dfkw6zb\n",
            "Created requirements tracker '/tmp/pip-req-tracker-_dfkw6zb'\n",
            "Created temporary directory: /tmp/pip-install-n_btb716\n",
            "Looking in links: /content/github/AMPL.dist\n",
            "Collecting atomsci_ampl\n",
            "  0 location(s) to search for versions of atomsci-ampl:\n",
            "  Skipping link: unsupported archive format: .dist: /content/github/AMPL.dist (from -f)\n",
            "  Found link file:///content/github/AMPL.dist/atomsci_ampl-1.1.0-py3-none-any.whl, version: 1.1.0\n",
            "  Local files found: /content/github/AMPL.dist/atomsci_ampl-1.1.0-py3-none-any.whl\n",
            "  Given no hashes to check 1 links for project 'atomsci-ampl': discarding no candidates\n",
            "  Using version 1.1.0 (newest of versions: 1.1.0)\n",
            "  Added atomsci_ampl from file:///content/github/AMPL.dist/atomsci_ampl-1.1.0-py3-none-any.whl to build tracker '/tmp/pip-req-tracker-_dfkw6zb'\n",
            "  Removed atomsci_ampl from file:///content/github/AMPL.dist/atomsci_ampl-1.1.0-py3-none-any.whl from build tracker '/tmp/pip-req-tracker-_dfkw6zb'\n",
            "Installing collected packages: atomsci-ampl\n",
            "\n",
            "Successfully installed atomsci-ampl-1.1.0\n",
            "Cleaning up...\n",
            "Removed build tracker '/tmp/pip-req-tracker-_dfkw6zb'\n",
            "\n",
            "real\t0m3.528s\n",
            "user\t0m1.940s\n",
            "sys\t0m0.563s\n"
          ],
          "name": "stdout"
        }
      ]
    },
    {
      "cell_type": "code",
      "metadata": {
        "colab": {
          "base_uri": "https://localhost:8080/"
        },
        "id": "Gvmh_JjmFYbJ",
        "outputId": "b0995460-7f27-414a-c7c3-308103c2f099"
      },
      "source": [
        "! time pip install mordred bravado molvs"
      ],
      "execution_count": null,
      "outputs": [
        {
          "output_type": "stream",
          "text": [
            "Collecting mordred\n",
            "\u001b[?25l  Downloading https://files.pythonhosted.org/packages/93/3d/26c908ece761adafcea06320bf8fe73f4de69979273fb164226dc6038c39/mordred-1.2.0.tar.gz (128kB)\n",
            "\u001b[K     |████████████████████████████████| 133kB 7.9MB/s \n",
            "\u001b[?25hCollecting bravado\n",
            "  Downloading https://files.pythonhosted.org/packages/21/ed/03b0c36b5bcafbe2938ed222f9a164a6c0367ce99a9d2d502e462853571d/bravado-11.0.3-py2.py3-none-any.whl\n",
            "Collecting molvs\n",
            "\u001b[?25l  Downloading https://files.pythonhosted.org/packages/08/dc/d948e83b97f2c420cb6c7e2143ae349560d3b5b061945f1b2a4eefb0231c/MolVS-0.1.1.tar.gz (61kB)\n",
            "\u001b[K     |████████████████████████████████| 71kB 14.4MB/s \n",
            "\u001b[?25hRequirement already satisfied: six==1.* in /usr/local/lib/python3.7/site-packages (from mordred) (1.12.0)\n",
            "Requirement already satisfied: numpy==1.* in /usr/local/lib/python3.7/site-packages (from mordred) (1.17.2)\n",
            "Requirement already satisfied: networkx==2.* in /usr/local/lib/python3.7/site-packages (from mordred) (2.3)\n",
            "Requirement already satisfied: requests>=2.17 in /usr/local/lib/python3.7/site-packages (from bravado) (2.22.0)\n",
            "Collecting monotonic (from bravado)\n",
            "  Downloading https://files.pythonhosted.org/packages/9a/67/7e8406a29b6c45be7af7740456f7f37025f0506ae2e05fb9009a53946860/monotonic-1.6-py2.py3-none-any.whl\n",
            "Requirement already satisfied: msgpack in /usr/local/lib/python3.7/site-packages (from bravado) (0.6.1)\n",
            "Collecting bravado-core>=5.16.1 (from bravado)\n",
            "\u001b[?25l  Downloading https://files.pythonhosted.org/packages/76/11/18e9d28a156c33f2d5f15a5e155dc7130250acb0a569255a2b6b307b596d/bravado_core-5.17.0-py2.py3-none-any.whl (67kB)\n",
            "\u001b[K     |████████████████████████████████| 71kB 13.5MB/s \n",
            "\u001b[?25hRequirement already satisfied: typing-extensions in /usr/local/lib/python3.7/site-packages (from bravado) (3.7.4.3)\n",
            "Requirement already satisfied: pyyaml in /usr/local/lib/python3.7/site-packages (from bravado) (5.1.2)\n",
            "Collecting simplejson (from bravado)\n",
            "\u001b[?25l  Downloading https://files.pythonhosted.org/packages/a8/04/377418ac1e530ce2a196b54c6552c018fdf1fe776718053efb1f216bffcd/simplejson-3.17.2-cp37-cp37m-manylinux2010_x86_64.whl (128kB)\n",
            "\u001b[K     |████████████████████████████████| 133kB 12.0MB/s \n",
            "\u001b[?25hRequirement already satisfied: python-dateutil in /usr/local/lib/python3.7/site-packages (from bravado) (2.8.0)\n",
            "Requirement already satisfied: decorator>=4.3.0 in /usr/local/lib/python3.7/site-packages (from networkx==2.*->mordred) (4.4.0)\n",
            "Requirement already satisfied: certifi>=2017.4.17 in /usr/local/lib/python3.7/site-packages (from requests>=2.17->bravado) (2019.9.11)\n",
            "Requirement already satisfied: idna<2.9,>=2.5 in /usr/local/lib/python3.7/site-packages (from requests>=2.17->bravado) (2.8)\n",
            "Requirement already satisfied: chardet<3.1.0,>=3.0.2 in /usr/local/lib/python3.7/site-packages (from requests>=2.17->bravado) (3.0.4)\n",
            "Requirement already satisfied: urllib3!=1.25.0,!=1.25.1,<1.26,>=1.21.1 in /usr/local/lib/python3.7/site-packages (from requests>=2.17->bravado) (1.24.2)\n",
            "Collecting swagger-spec-validator>=2.0.1 (from bravado-core>=5.16.1->bravado)\n",
            "  Downloading https://files.pythonhosted.org/packages/09/de/e78cefbf5838b434b63a789264b79821cb2267f1498fbed23ef8590133e4/swagger_spec_validator-2.7.3-py2.py3-none-any.whl\n",
            "Requirement already satisfied: jsonschema[format]>=2.5.1 in /usr/local/lib/python3.7/site-packages (from bravado-core>=5.16.1->bravado) (3.0.2)\n",
            "Requirement already satisfied: pytz in /usr/local/lib/python3.7/site-packages (from bravado-core>=5.16.1->bravado) (2019.3)\n",
            "Collecting jsonref (from bravado-core>=5.16.1->bravado)\n",
            "  Downloading https://files.pythonhosted.org/packages/07/92/f8e4ac824b14af77e613984e480fa818397c72d4141fc466decb26752749/jsonref-0.2-py3-none-any.whl\n",
            "Requirement already satisfied: attrs>=17.4.0 in /usr/local/lib/python3.7/site-packages (from jsonschema[format]>=2.5.1->bravado-core>=5.16.1->bravado) (19.2.0)\n",
            "Requirement already satisfied: pyrsistent>=0.14.0 in /usr/local/lib/python3.7/site-packages (from jsonschema[format]>=2.5.1->bravado-core>=5.16.1->bravado) (0.15.4)\n",
            "Requirement already satisfied: setuptools in /usr/local/lib/python3.7/site-packages (from jsonschema[format]>=2.5.1->bravado-core>=5.16.1->bravado) (41.4.0)\n",
            "Collecting strict-rfc3339; extra == \"format\" (from jsonschema[format]>=2.5.1->bravado-core>=5.16.1->bravado)\n",
            "  Downloading https://files.pythonhosted.org/packages/56/e4/879ef1dbd6ddea1c77c0078cd59b503368b0456bcca7d063a870ca2119d3/strict-rfc3339-0.7.tar.gz\n",
            "Collecting jsonpointer>1.13; extra == \"format\" (from jsonschema[format]>=2.5.1->bravado-core>=5.16.1->bravado)\n",
            "  Downloading https://files.pythonhosted.org/packages/23/52/05f67532aa922e494c351344e0d9624a01f74f5dd8402fe0d1b563a6e6fc/jsonpointer-2.1-py2.py3-none-any.whl\n",
            "Collecting webcolors; extra == \"format\" (from jsonschema[format]>=2.5.1->bravado-core>=5.16.1->bravado)\n",
            "  Downloading https://files.pythonhosted.org/packages/12/05/3350559de9714b202e443a9e6312937341bd5f79f4e4f625744295e7dd17/webcolors-1.11.1-py3-none-any.whl\n",
            "Collecting rfc3987; extra == \"format\" (from jsonschema[format]>=2.5.1->bravado-core>=5.16.1->bravado)\n",
            "  Downloading https://files.pythonhosted.org/packages/65/d4/f7407c3d15d5ac779c3dd34fbbc6ea2090f77bd7dd12f207ccf881551208/rfc3987-1.3.8-py2.py3-none-any.whl\n",
            "Building wheels for collected packages: mordred, molvs, strict-rfc3339\n",
            "  Building wheel for mordred (setup.py) ... \u001b[?25l\u001b[?25hdone\n",
            "  Created wheel for mordred: filename=mordred-1.2.0-cp37-none-any.whl size=176721 sha256=596b66d26df3d65c911ee50f24c20c1a964def1848e4a7b9a1331cb44ee94625\n",
            "  Stored in directory: /root/.cache/pip/wheels/ac/74/3f/2fd81b1187013f2eadb15620434813f1824c4c03b7bd1f94f6\n",
            "  Building wheel for molvs (setup.py) ... \u001b[?25l\u001b[?25hdone\n",
            "  Created wheel for molvs: filename=MolVS-0.1.1-cp37-none-any.whl size=32376 sha256=cbf18c9f6132b031ee24d30916520a5cec3616530c72f89e887801b38a28ba07\n",
            "  Stored in directory: /root/.cache/pip/wheels/30/37/a8/8ac8147605c9de6b45ffd66d1cc19761d41467db12b34a0de8\n",
            "  Building wheel for strict-rfc3339 (setup.py) ... \u001b[?25l\u001b[?25hdone\n",
            "  Created wheel for strict-rfc3339: filename=strict_rfc3339-0.7-cp37-none-any.whl size=18120 sha256=41d7ee610dc7375982f81650aafb08de0055481ef7ffbf65b7dc05016fc37c39\n",
            "  Stored in directory: /root/.cache/pip/wheels/bb/af/c9/b6e9fb5f9b2470e4ed2a7241c9ab3a8cdd3bc8555ae02ca2e6\n",
            "Successfully built mordred molvs strict-rfc3339\n",
            "Installing collected packages: mordred, monotonic, swagger-spec-validator, jsonref, simplejson, bravado-core, bravado, molvs, strict-rfc3339, jsonpointer, webcolors, rfc3987\n",
            "Successfully installed bravado-11.0.3 bravado-core-5.17.0 jsonpointer-2.1 jsonref-0.2 molvs-0.1.1 monotonic-1.6 mordred-1.2.0 rfc3987-1.3.8 simplejson-3.17.2 strict-rfc3339-0.7 swagger-spec-validator-2.7.3 webcolors-1.11.1\n",
            "\n",
            "real\t0m6.957s\n",
            "user\t0m5.478s\n",
            "sys\t0m0.950s\n"
          ],
          "name": "stdout"
        }
      ]
    },
    {
      "cell_type": "code",
      "metadata": {
        "colab": {
          "base_uri": "https://localhost:8080/"
        },
        "id": "InUQE4II1noi",
        "outputId": "40d9f836-18af-45e8-e7da-d3a92fbc9865"
      },
      "source": [
        "!wget https://raw.githubusercontent.com/ravichas/AMPL-Tutorial/master/datasets/H1_std.csv"
      ],
      "execution_count": null,
      "outputs": [
        {
          "output_type": "stream",
          "text": [
            "--2021-04-27 22:43:55--  https://raw.githubusercontent.com/ravichas/AMPL-Tutorial/master/datasets/H1_std.csv\n",
            "Resolving raw.githubusercontent.com (raw.githubusercontent.com)... 185.199.108.133, 185.199.110.133, 185.199.109.133, ...\n",
            "Connecting to raw.githubusercontent.com (raw.githubusercontent.com)|185.199.108.133|:443... connected.\n",
            "HTTP request sent, awaiting response... 200 OK\n",
            "Length: 136759 (134K) [text/plain]\n",
            "Saving to: ‘H1_std.csv’\n",
            "\n",
            "\rH1_std.csv            0%[                    ]       0  --.-KB/s               \rH1_std.csv          100%[===================>] 133.55K  --.-KB/s    in 0.02s   \n",
            "\n",
            "2021-04-27 22:43:55 (7.99 MB/s) - ‘H1_std.csv’ saved [136759/136759]\n",
            "\n"
          ],
          "name": "stdout"
        }
      ]
    },
    {
      "cell_type": "code",
      "metadata": {
        "colab": {
          "base_uri": "https://localhost:8080/"
        },
        "id": "2PO0-2HKvVpn",
        "outputId": "f8a72d50-14e3-4872-a28b-5e37d8aae835"
      },
      "source": [
        "!pip install hyperopt"
      ],
      "execution_count": null,
      "outputs": [
        {
          "output_type": "stream",
          "text": [
            "Collecting hyperopt\n",
            "\u001b[?25l  Downloading https://files.pythonhosted.org/packages/a6/07/bd524635d218adae139be320eeac87fb4fbbd45c63b0bd58930c9e91f1fc/hyperopt-0.2.5-py2.py3-none-any.whl (965kB)\n",
            "\u001b[K     |████████████████████████████████| 972kB 8.0MB/s \n",
            "\u001b[?25hRequirement already satisfied: six in /usr/local/lib/python3.7/site-packages (from hyperopt) (1.12.0)\n",
            "Requirement already satisfied: networkx>=2.2 in /usr/local/lib/python3.7/site-packages (from hyperopt) (2.3)\n",
            "Requirement already satisfied: numpy in /usr/local/lib/python3.7/site-packages (from hyperopt) (1.17.2)\n",
            "Requirement already satisfied: future in /usr/local/lib/python3.7/site-packages (from hyperopt) (0.17.1)\n",
            "Requirement already satisfied: cloudpickle in /usr/local/lib/python3.7/site-packages (from hyperopt) (1.2.2)\n",
            "Requirement already satisfied: scipy in /usr/local/lib/python3.7/site-packages (from hyperopt) (1.3.1)\n",
            "Requirement already satisfied: tqdm in /usr/local/lib/python3.7/site-packages (from hyperopt) (4.36.1)\n",
            "Requirement already satisfied: decorator>=4.3.0 in /usr/local/lib/python3.7/site-packages (from networkx>=2.2->hyperopt) (4.4.0)\n",
            "Installing collected packages: hyperopt\n",
            "Successfully installed hyperopt-0.2.5\n"
          ],
          "name": "stdout"
        }
      ]
    },
    {
      "cell_type": "markdown",
      "metadata": {
        "id": "mTOwqhvR3xL3"
      },
      "source": [
        "### Load packages and dataset"
      ]
    },
    {
      "cell_type": "code",
      "metadata": {
        "colab": {
          "base_uri": "https://localhost:8080/"
        },
        "id": "EeN9kEMO2R9Z",
        "outputId": "1a72bcac-5eb0-4e3a-bdd9-200c3f9d52d2"
      },
      "source": [
        "import matplotlib.pyplot as plt\n",
        "import seaborn as sns\n",
        "import numpy as np\n",
        "sns.set_context(\"poster\")\n",
        "sns.set_style(\"whitegrid\")\n",
        "sns.set_palette(\"Set2\")\n",
        "\n",
        "import pandas as pd\n",
        "import os, json, sys, glob, pickle\n",
        "\n",
        "from atomsci.ddm.pipeline import model_pipeline as mp\n",
        "from atomsci.ddm.pipeline import parameter_parser as parse\n",
        "from atomsci.ddm.pipeline import perf_data\n",
        "from atomsci.ddm.pipeline import compare_models as cmp\n",
        "\n",
        "from hyperopt import fmin, tpe, hp, Trials, STATUS_OK"
      ],
      "execution_count": null,
      "outputs": [
        {
          "output_type": "stream",
          "text": [
            "/usr/local/lib/python3.7/dist-packages/sklearn/externals/joblib/__init__.py:15: FutureWarning: sklearn.externals.joblib is deprecated in 0.21 and will be removed in 0.23. Please import this functionality directly from joblib, which can be installed with: pip install joblib. If this warning is raised when loading pickled models, you may need to re-serialize those models with scikit-learn 0.21+.\n",
            "  warnings.warn(msg, category=FutureWarning)\n"
          ],
          "name": "stderr"
        },
        {
          "output_type": "stream",
          "text": [
            "WARNING:tensorflow:\n",
            "The TensorFlow contrib module will not be included in TensorFlow 2.0.\n",
            "For more information, please see:\n",
            "  * https://github.com/tensorflow/community/blob/master/rfcs/20180907-contrib-sunset.md\n",
            "  * https://github.com/tensorflow/addons\n",
            "  * https://github.com/tensorflow/io (for I/O related ops)\n",
            "If you depend on functionality not listed there, please file an issue.\n",
            "\n"
          ],
          "name": "stdout"
        }
      ]
    },
    {
      "cell_type": "code",
      "metadata": {
        "colab": {
          "base_uri": "https://localhost:8080/"
        },
        "id": "e0zYnjPsU1TZ",
        "outputId": "7103eca1-4687-44cd-f56f-f900a97fb8b4"
      },
      "source": [
        "# clean up unnecessary files\n",
        "! conda clean -a -y"
      ],
      "execution_count": null,
      "outputs": [
        {
          "output_type": "stream",
          "text": [
            "Cache location: /usr/local/pkgs\n",
            "Will remove the following tarballs:\n",
            "\n",
            "/usr/local/pkgs\n",
            "---------------\n",
            "numba-0.45.1-py37h962f231_0.conda            2.8 MB\n",
            "libxslt-1.1.33-h7d1a2b0_0.conda              426 KB\n",
            "pdbfixer-1.6-py_1.tar.bz2                    167 KB\n",
            "jdcal-1.4.1-py_0.tar.bz2                      11 KB\n",
            "mccabe-0.6.1-py37_1.conda                     14 KB\n",
            "psutil-5.6.3-py37h7b6447c_0.conda            313 KB\n",
            "keras-preprocessing-1.1.2-pyhd8ed1ab_0.tar.bz2      34 KB\n",
            "sortedcontainers-2.1.0-py37_0.conda           43 KB\n",
            "gast-0.4.0-pyh9f0ad1d_0.tar.bz2               12 KB\n",
            "joblib-0.13.2-py37_0.conda                   343 KB\n",
            "typing_extensions-3.7.4.3-py_0.tar.bz2        25 KB\n",
            "anaconda-project-0.8.3-py_0.tar.bz2          212 KB\n",
            "ripgrep-0.10.0-hc07d326_0.conda              1.2 MB\n",
            "get_terminal_size-1.0.0-haa9412d_0.conda       3 KB\n",
            "libffi-3.2.1-hd88cf55_4.conda                 40 KB\n",
            "navigator-updater-0.2.1-py37_0.conda         691 KB\n",
            "clyent-1.2.2-py37_1.conda                     19 KB\n",
            "urllib3-1.24.2-py37_0.conda                  159 KB\n",
            "sphinxcontrib-htmlhelp-1.0.2-py_0.tar.bz2      28 KB\n",
            "ca-certificates-2019.8.28-0.tar.bz2          132 KB\n",
            "wrapt-1.11.2-py37h7b6447c_0.conda             49 KB\n",
            "sphinxcontrib-serializinghtml-1.1.3-py_0.tar.bz2      24 KB\n",
            "pycurl-7.43.0.3-py37h1ba5d50_0.conda          67 KB\n",
            "mock-3.0.5-py37_0.conda                       49 KB\n",
            "webencodings-0.5.1-py37_1.conda               19 KB\n",
            "sqlite-3.30.0-h7b6447c_0.tar.bz2             1.9 MB\n",
            "tensorboard-1.14.0-py37_0.tar.bz2            3.2 MB\n",
            "libgcc-ng-9.1.0-hdf63c60_0.conda             5.1 MB\n",
            "traitlets-4.3.3-py37_0.tar.bz2               138 KB\n",
            "pytest-arraydiff-0.3-py37h39e3cac_0.conda      15 KB\n",
            "notebook-6.0.1-py37_0.tar.bz2                6.0 MB\n",
            "jupyter-1.0.0-py37_7.conda                     6 KB\n",
            "tqdm-4.36.1-py_0.conda                        50 KB\n",
            "parso-0.5.1-py_0.tar.bz2                      68 KB\n",
            "jupyterlab_server-1.0.6-py_0.tar.bz2          26 KB\n",
            "python-libarchive-c-2.8-py37_13.conda         24 KB\n",
            "jupyter_core-4.5.0-py_0.tar.bz2               48 KB\n",
            "pango-1.42.4-h049681c_0.conda                464 KB\n",
            "keras-applications-1.0.8-py_1.tar.bz2         30 KB\n",
            "mdtraj-1.9.5-py37h113d463_0.tar.bz2          1.7 MB\n",
            "conda-build-3.18.9-py37_3.conda              506 KB\n",
            "pandas-0.25.1-py37he6710b0_0.conda           8.8 MB\n",
            "jbig-2.1-hdba287a_0.conda                     40 KB\n",
            "matplotlib-3.1.1-py37h5429711_0.conda        5.0 MB\n",
            "nbconvert-5.6.0-py37_1.tar.bz2               491 KB\n",
            "jedi-0.15.1-py37_0.conda                     704 KB\n",
            "h5py-2.9.0-py37h7918eee_0.conda              991 KB\n",
            "soupsieve-1.9.3-py37_0.tar.bz2                60 KB\n",
            "fontconfig-2.13.0-h9420a91_0.conda           227 KB\n",
            "pillow-6.2.0-py37h34e0f95_0.tar.bz2          643 KB\n",
            "asn1crypto-1.0.1-py37_0.tar.bz2              161 KB\n",
            "bzip2-1.0.8-h7b6447c_0.conda                  78 KB\n",
            "decorator-4.4.0-py37_1.conda                  19 KB\n",
            "sympy-1.4-py37_0.conda                       7.9 MB\n",
            "pyodbc-4.0.27-py37he6710b0_0.conda            68 KB\n",
            "cython-0.29.13-py37he6710b0_0.conda          2.0 MB\n",
            "icu-58.2-h9c2bf20_1.conda                   10.3 MB\n",
            "prompt_toolkit-2.0.10-py_0.tar.bz2           227 KB\n",
            "pyqt-5.9.2-py37h05f1152_2.conda              4.5 MB\n",
            "send2trash-1.5.0-py37_0.conda                 16 KB\n",
            "snowballstemmer-2.0.0-py_0.tar.bz2            58 KB\n",
            "nose-1.3.7-py37_2.conda                      214 KB\n",
            "rope-0.14.0-py_0.tar.bz2                     113 KB\n",
            "click-7.0-py37_0.conda                       120 KB\n",
            "toolz-0.10.0-py_0.tar.bz2                     50 KB\n",
            "wcwidth-0.1.7-py37_0.conda                    22 KB\n",
            "pylint-2.4.2-py37_0.tar.bz2                  429 KB\n",
            "pywavelets-1.0.3-py37hdd07704_1.conda        3.5 MB\n",
            "xlsxwriter-1.2.1-py_0.tar.bz2                106 KB\n",
            "deepchem-gpu-2.3.0-py37_0.tar.bz2            2.1 MB\n",
            "six-1.12.0-py37_0.conda                       23 KB\n",
            "importlib_metadata-0.23-py37_0.tar.bz2        43 KB\n",
            "sphinx-2.2.0-py_0.tar.bz2                    1.5 MB\n",
            "libsodium-1.0.16-h1bed415_0.conda            214 KB\n",
            "pytest-remotedata-0.3.2-py37_0.conda          15 KB\n",
            "openpyxl-3.0.0-py_0.tar.bz2                  157 KB\n",
            "pytz-2019.3-py_0.tar.bz2                     231 KB\n",
            "tblib-1.4.0-py_0.tar.bz2                      14 KB\n",
            "pyzmq-18.1.0-py37he6710b0_0.conda            455 KB\n",
            "cudnn-7.6.5.32-hc0a50b0_1.tar.bz2          250.7 MB\n",
            "pixman-0.38.0-h7b6447c_0.conda               364 KB\n",
            "docutils-0.15.2-py37_0.conda                 660 KB\n",
            "termcolor-1.1.0-py_2.tar.bz2                   6 KB\n",
            "gevent-1.4.0-py37h7b6447c_0.conda            2.0 MB\n",
            "ipython_genutils-0.2.0-py37_0.conda           39 KB\n",
            "astroid-2.3.1-py37_0.tar.bz2                 288 KB\n",
            "pkginfo-1.5.0.1-py37_0.conda                  44 KB\n",
            "liblief-0.9.0-h7725739_2.conda               2.9 MB\n",
            "secretstorage-3.1.1-py37_0.conda              24 KB\n",
            "mpc-1.1.0-h10f8cd9_1.conda                    90 KB\n",
            "xlwt-1.3.0-py37_0.conda                      158 KB\n",
            "bleach-3.1.0-py37_0.conda                    220 KB\n",
            "google-pasta-0.2.0-pyh8c360ce_0.tar.bz2       42 KB\n",
            "jinja2-2.10.3-py_0.tar.bz2                    95 KB\n",
            "libxcb-1.13-h1bed415_1.conda                 421 KB\n",
            "libuuid-1.0.3-h1bed415_2.conda                15 KB\n",
            "cryptography-2.7-py37h1ba5d50_0.conda        544 KB\n",
            "lz4-c-1.8.1.2-h14c3975_0.conda               130 KB\n",
            "bokeh-1.3.4-py37_0.conda                     3.6 MB\n",
            "wurlitzer-1.0.3-py37_0.conda                  14 KB\n",
            "nltk-3.4.5-py37_0.conda                      1.7 MB\n",
            "atomicwrites-1.3.0-py37_1.conda               13 KB\n",
            "bitarray-1.0.1-py37h7b6447c_0.conda           60 KB\n",
            "grpcio-1.23.0-py37hb0870dc_1.tar.bz2         1.1 MB\n",
            "colorama-0.4.1-py37_0.conda                   25 KB\n",
            "markupsafe-1.1.1-py37h7b6447c_0.conda         29 KB\n",
            "pep8-1.7.1-py37_0.conda                       53 KB\n",
            "sphinxcontrib-devhelp-1.0.1-py_0.tar.bz2      23 KB\n",
            "tbb-2019.4-hfd86e86_0.conda                  1.1 MB\n",
            "backports.weakref-1.0.post1-py_1.tar.bz2       7 KB\n",
            "fftw3f-3.3.4-2.tar.bz2                       1.2 MB\n",
            "beautifulsoup4-4.8.0-py37_0.conda            152 KB\n",
            "pyopenssl-19.0.0-py37_0.conda                 84 KB\n",
            "lzo-2.10-h49e0be7_2.conda                    182 KB\n",
            "c-ares-1.17.1-h36c2ea0_0.tar.bz2             111 KB\n",
            "_py-xgboost-mutex-2.0-cpu_0.tar.bz2            8 KB\n",
            "future-0.17.1-py37_0.conda                   616 KB\n",
            "tensorflow-1.14.0-gpu_py37h74c33d7_0.conda       4 KB\n",
            "krb5-1.16.1-h173b8e3_7.conda                 1.2 MB\n",
            "backports.shutil_get_terminal_size-1.0.0-py37_2.conda       8 KB\n",
            "astropy-3.2.2-py37h7b6447c_0.tar.bz2         7.1 MB\n",
            "partd-1.0.0-py_0.tar.bz2                      19 KB\n",
            "llvmlite-0.29.0-py37hd408876_0.conda        14.9 MB\n",
            "conda-verify-3.4.2-py_1.tar.bz2               25 KB\n",
            "scipy-1.3.1-py37h7c811a0_0.conda            14.0 MB\n",
            "pyrsistent-0.15.4-py37h7b6447c_0.tar.bz2      92 KB\n",
            "sortedcollections-1.1.2-py37_0.conda          18 KB\n",
            "anaconda-2019.10-py37_0.tar.bz2               11 KB\n",
            "pycparser-2.19-py37_0.conda                  171 KB\n",
            "python_abi-3.7-1_cp37m.tar.bz2                 4 KB\n",
            "gmpy2-2.0.8-py37h10f8cd9_2.conda             150 KB\n",
            "glob2-0.7-py_0.tar.bz2                        14 KB\n",
            "lazy-object-proxy-1.4.2-py37h7b6447c_0.conda      29 KB\n",
            "unixodbc-2.3.7-h14c3975_0.conda              285 KB\n",
            "singledispatch-3.4.0.3-py37_0.conda           16 KB\n",
            "pycodestyle-2.5.0-py37_0.conda                61 KB\n",
            "xlrd-1.2.0-py37_0.conda                      175 KB\n",
            "cffi-1.12.3-py37h2e261b9_0.conda             222 KB\n",
            "prometheus_client-0.7.1-py_0.tar.bz2          42 KB\n",
            "graphite2-1.3.13-h23475e2_0.conda             98 KB\n",
            "intel-openmp-2019.4-243.conda                729 KB\n",
            "jupyter_console-6.0.0-py37_0.conda            37 KB\n",
            "numexpr-2.7.0-py37h9e4a6bb_0.conda           183 KB\n",
            "sphinxcontrib-applehelp-1.0.1-py_0.tar.bz2      29 KB\n",
            "libedit-3.1.20181209-hc058e9b_0.conda        163 KB\n",
            "python-dateutil-2.8.0-py37_0.conda           266 KB\n",
            "wheel-0.33.6-py37_0.tar.bz2                   40 KB\n",
            "simplegeneric-0.8.1-py37_2.conda              10 KB\n",
            "libssh2-1.8.2-h1ba5d50_0.conda               226 KB\n",
            "qt-5.9.7-h5867ecd_1.conda                   68.5 MB\n",
            "libgfortran-ng-7.3.0-hdf63c60_0.conda       1006 KB\n",
            "zstd-1.3.7-h0b5b093_0.conda                  401 KB\n",
            "gst-plugins-base-1.14.0-hbbd80ab_1.conda     4.8 MB\n",
            "dask-core-2.5.2-py_0.tar.bz2                 579 KB\n",
            "fastcache-1.1.0-py37h7b6447c_0.conda          30 KB\n",
            "cairo-1.14.12-h8948797_3.conda               906 KB\n",
            "chardet-3.0.4-py37_1003.conda                174 KB\n",
            "python-3.7.4-h265db76_1.conda               32.1 MB\n",
            "pyparsing-2.4.2-py_0.tar.bz2                  61 KB\n",
            "expat-2.2.6-he6710b0_0.conda                 146 KB\n",
            "sphinxcontrib-websupport-1.1.2-py_0.tar.bz2      35 KB\n",
            "conda-package-handling-1.6.0-py37h7b6447c_0.conda     797 KB\n",
            "defusedxml-0.6.0-py_0.tar.bz2                 23 KB\n",
            "pycosat-0.6.3-py37h14c3975_0.conda            79 KB\n",
            "networkx-2.3-py_0.tar.bz2                    1.1 MB\n",
            "numpy-1.17.2-py37haad9e8e_0.conda              4 KB\n",
            "pytest-astropy-0.5.0-py37_0.conda              7 KB\n",
            "ipython-7.8.0-py37h39e3cac_0.conda           985 KB\n",
            "packaging-19.2-py_0.tar.bz2                   30 KB\n",
            "py-xgboost-1.2.0-py37hc8dfbb8_0.tar.bz2      1.7 MB\n",
            "libtiff-4.0.10-h2733197_2.conda              435 KB\n",
            "simdna-0.4.2-py_0.tar.bz2                    627 KB\n",
            "html5lib-1.0.1-py37_0.conda                  185 KB\n",
            "py-lief-0.9.0-py37h7725739_2.conda           1.3 MB\n",
            "jeepney-0.4.1-py_0.tar.bz2                    21 KB\n",
            "absl-py-0.12.0-pyhd8ed1ab_0.tar.bz2           96 KB\n",
            "scikit-learn-0.21.3-py37hd81dba3_0.conda     4.9 MB\n",
            "tensorflow-base-1.14.0-gpu_py37he45bfe2_0.conda   146.3 MB\n",
            "pyyaml-5.1.2-py37h7b6447c_0.conda            179 KB\n",
            "libpng-1.6.37-hbc83047_0.conda               278 KB\n",
            "sphinxcontrib-qthelp-1.0.2-py_0.tar.bz2       26 KB\n",
            "flask-1.1.1-py_0.tar.bz2                      73 KB\n",
            "sip-4.19.8-py37hf484d3e_0.conda              274 KB\n",
            "unicodecsv-0.14.1-py37_0.conda                25 KB\n",
            "pygments-2.4.2-py_0.tar.bz2                  664 KB\n",
            "libcurl-7.65.3-h20c2e04_0.conda              431 KB\n",
            "blas-1.0-mkl.conda                             6 KB\n",
            "pyflakes-2.1.1-py37_0.conda                  106 KB\n",
            "contextlib2-0.6.0-py_0.tar.bz2                16 KB\n",
            "astor-0.8.1-pyh9f0ad1d_0.tar.bz2              25 KB\n",
            "locket-0.2.0-py37_1.conda                      9 KB\n",
            "itsdangerous-1.1.0-py37_0.conda               28 KB\n",
            "readline-7.0-h7b6447c_5.conda                324 KB\n",
            "pysocks-1.7.1-py37_0.tar.bz2                  30 KB\n",
            "ipykernel-5.1.2-py37h39e3cac_0.conda         170 KB\n",
            "sqlalchemy-1.3.9-py37h7b6447c_0.tar.bz2      1.8 MB\n",
            "distributed-2.5.2-py_0.tar.bz2               396 KB\n",
            "glib-2.56.2-hd408876_0.conda                 3.9 MB\n",
            "pytest-5.2.1-py37_0.tar.bz2                  364 KB\n",
            "pandoc-2.2.3.2-0.conda                      14.0 MB\n",
            "pickleshare-0.7.5-py37_0.conda                13 KB\n",
            "ruamel_yaml-0.15.46-py37h14c3975_0.conda     237 KB\n",
            "idna-2.8-py37_0.conda                         85 KB\n",
            "mkl-2019.4-243.conda                       131.2 MB\n",
            "lxml-4.4.1-py37hefd8a0e_0.conda              1.4 MB\n",
            "requests-2.22.0-py37_0.conda                  90 KB\n",
            "snappy-1.1.7-hbae5bb6_3.conda                 35 KB\n",
            "qtpy-1.9.0-py_0.tar.bz2                       39 KB\n",
            "spyder-3.3.6-py37_0.conda                    2.2 MB\n",
            "bkcharts-0.2-py37_0.conda                    133 KB\n",
            "rdkit-2020.03.3.0-py37hc20afe1_1.tar.bz2    24.8 MB\n",
            "imagesize-1.1.0-py37_0.conda                   9 KB\n",
            "zipp-0.6.0-py_0.tar.bz2                        9 KB\n",
            "openssl-1.1.1d-h7b6447c_2.conda              2.5 MB\n",
            "mkl_fft-1.0.14-py37ha843d7b_0.conda          155 KB\n",
            "numpydoc-0.9.1-py_0.tar.bz2                   31 KB\n",
            "libstdcxx-ng-9.1.0-hdf63c60_0.conda          3.1 MB\n",
            "anaconda-client-1.7.2-py37_0.conda           147 KB\n",
            "backports.tempfile-1.0-py_1.tar.bz2           12 KB\n",
            "cytoolz-0.10.0-py37h7b6447c_0.conda          374 KB\n",
            "sphinxcontrib-jsmath-1.0.1-py_0.tar.bz2        8 KB\n",
            "widgetsnbextension-3.5.1-py37_0.conda        862 KB\n",
            "anaconda-navigator-1.9.7-py37_0.tar.bz2      4.8 MB\n",
            "msgpack-python-0.6.1-py37hfd86e86_1.conda      87 KB\n",
            "libxgboost-1.2.0-he1b5a44_0.tar.bz2          3.1 MB\n",
            "pexpect-4.7.0-py37_0.conda                    80 KB\n",
            "hdf5-1.10.4-hb1b8bf9_0.conda                 3.9 MB\n",
            "curl-7.65.3-hbc83047_0.conda                 130 KB\n",
            "certifi-2019.9.11-py37_0.tar.bz2             147 KB\n",
            "harfbuzz-1.8.8-hffaf4a1_0.conda              507 KB\n",
            "patchelf-0.9-he6710b0_3.conda                 68 KB\n",
            "gstreamer-1.14.0-hb453b48_1.conda            3.1 MB\n",
            "zict-1.0.0-py_0.tar.bz2                       12 KB\n",
            "yaml-0.1.7-had09818_2.conda                   73 KB\n",
            "freetype-2.9.1-h8a8886c_1.conda              550 KB\n",
            "testpath-0.4.2-py37_0.conda                   86 KB\n",
            "gmp-6.1.2-h6c8ec71_1.conda                   514 KB\n",
            "py-boost-1.67.0-py37h04863e7_4.conda         278 KB\n",
            "pluggy-0.13.0-py37_0.tar.bz2                  31 KB\n",
            "werkzeug-0.16.0-py_0.tar.bz2                 255 KB\n",
            "zeromq-4.3.1-he6710b0_3.conda                496 KB\n",
            "py-1.8.0-py37_0.conda                        148 KB\n",
            "sphinxcontrib-1.0-py37_1.conda                 4 KB\n",
            "attrs-19.2.0-py_0.tar.bz2                     39 KB\n",
            "cudatoolkit-10.1.243-h6bb024c_0.conda      347.4 MB\n",
            "fsspec-0.5.2-py_0.tar.bz2                     46 KB\n",
            "xz-5.2.4-h14c3975_4.conda                    283 KB\n",
            "seaborn-0.9.0-py37_0.conda                   355 KB\n",
            "backports.os-0.1.1-py37_0.conda               15 KB\n",
            "pathlib2-2.3.5-py37_0.tar.bz2                 37 KB\n",
            "fribidi-1.0.5-h7b6447c_0.conda               101 KB\n",
            "mpfr-4.0.1-hdf1c602_3.conda                  429 KB\n",
            "_tflow_select-2.1.0-gpu.conda                  2 KB\n",
            "statsmodels-0.10.1-py37hdd07704_0.conda      7.4 MB\n",
            "jsonschema-3.0.2-py37_0.conda                 92 KB\n",
            "backcall-0.1.0-py37_0.conda                   20 KB\n",
            "ply-3.11-py37_0.conda                         82 KB\n",
            "ipywidgets-7.5.1-py_0.tar.bz2                107 KB\n",
            "spyder-kernels-0.5.2-py37_0.tar.bz2           69 KB\n",
            "cycler-0.10.0-py37_0.conda                    13 KB\n",
            "json5-0.8.5-py_0.tar.bz2                      25 KB\n",
            "conda-4.10.1-py37h89c1867_0.tar.bz2          3.1 MB\n",
            "blosc-1.16.3-hd408876_0.conda                 71 KB\n",
            "conda-env-2.6.0-1.conda                        3 KB\n",
            "scikit-image-0.15.0-py37he6710b0_0.conda    24.8 MB\n",
            "markdown-3.3.4-pyhd8ed1ab_0.tar.bz2           67 KB\n",
            "nbformat-4.4.0-py37_0.conda                  128 KB\n",
            "heapdict-1.0.1-py_0.conda                      9 KB\n",
            "protobuf-3.13.0.1-py37h745909e_1.tar.bz2     704 KB\n",
            "mkl_random-1.1.0-py37hd6b4f25_0.conda        321 KB\n",
            "pytest-openfiles-0.4.0-py_0.tar.bz2           10 KB\n",
            "entrypoints-0.3-py37_0.conda                  12 KB\n",
            "imageio-2.6.0-py37_0.tar.bz2                 3.4 MB\n",
            "path.py-12.0.1-py_0.tar.bz2                   23 KB\n",
            "pcre-8.43-he6710b0_0.conda                   209 KB\n",
            "ptyprocess-0.6.0-py37_0.conda                 23 KB\n",
            "qtconsole-4.5.5-py_0.tar.bz2                  94 KB\n",
            "pip-19.2.3-py37_0.tar.bz2                    1.9 MB\n",
            "jpeg-9b-h024ee3a_2.conda                     214 KB\n",
            "terminado-0.8.2-py37_0.conda                  23 KB\n",
            "libtool-2.4.6-h7b6447c_5.conda               389 KB\n",
            "mpmath-1.1.0-py37_0.conda                    766 KB\n",
            "pytest-doctestplus-0.4.0-py_0.tar.bz2         18 KB\n",
            "backports-1.0-py_2.tar.bz2                   139 KB\n",
            "dask-2.5.2-py_0.tar.bz2                       12 KB\n",
            "libboost-1.67.0-h46d08c1_4.conda            13.0 MB\n",
            "dbus-1.13.6-h746ee38_0.conda                 499 KB\n",
            "pycrypto-2.6.1-py37h14c3975_9.conda          362 KB\n",
            "libxml2-2.9.9-hea5a465_1.conda               1.6 MB\n",
            "pytables-3.5.2-py37h71ec239_1.conda          1.2 MB\n",
            "tk-8.6.8-hbc83047_0.conda                    2.8 MB\n",
            "numpy-base-1.17.2-py37hde5b4d6_0.conda       4.2 MB\n",
            "_libgcc_mutex-0.1-main.conda                   3 KB\n",
            "importlib-metadata-4.0.1-py37h89c1867_0.tar.bz2      30 KB\n",
            "libprotobuf-3.13.0.1-h8b12597_0.tar.bz2      2.3 MB\n",
            "babel-2.7.0-py_0.tar.bz2                     5.8 MB\n",
            "cloudpickle-1.2.2-py_0.tar.bz2                29 KB\n",
            "mistune-0.8.4-py37h7b6447c_0.conda            55 KB\n",
            "patsy-0.5.1-py37_0.conda                     274 KB\n",
            "openmm-7.4.2-py37_cuda101_rc_1.tar.bz2      11.9 MB\n",
            "backports.functools_lru_cache-1.5-py_2.tar.bz2       9 KB\n",
            "zlib-1.2.11-h7b6447c_3.conda                 103 KB\n",
            "conda-4.7.12-py37_0.tar.bz2                  3.0 MB\n",
            "filelock-3.0.12-py_0.tar.bz2                  12 KB\n",
            "isort-4.3.21-py37_0.conda                     69 KB\n",
            "xgboost-1.2.0-py37h3340039_0.tar.bz2          11 KB\n",
            "bottleneck-1.2.1-py37h035aef0_1.conda        120 KB\n",
            "mkl-service-2.3.0-py37he904b0f_0.conda       218 KB\n",
            "libarchive-3.3.3-h5d8350f_5.conda            725 KB\n",
            "pandocfilters-1.4.2-py37_1.conda              13 KB\n",
            "alabaster-0.7.12-py37_0.conda                 18 KB\n",
            "tornado-6.0.3-py37h7b6447c_0.conda           584 KB\n",
            "jupyterlab-1.1.4-pyhf63ae98_0.conda          4.4 MB\n",
            "kiwisolver-1.1.0-py37he6710b0_0.conda         82 KB\n",
            "jupyter_client-5.3.3-py37_1.tar.bz2          137 KB\n",
            "tensorflow-gpu-1.14.0-h0d30ee6_0.conda         3 KB\n",
            "ncurses-6.1-he6710b0_1.conda                 777 KB\n",
            "setuptools-41.4.0-py37_0.tar.bz2             651 KB\n",
            "_ipyw_jlab_nb_ext_conf-0.1.0-py37_0.conda       4 KB\n",
            "tensorflow-estimator-1.14.0-py37h5ca1d4c_0.tar.bz2     645 KB\n",
            "olefile-0.46-py37_0.conda                     50 KB\n",
            "greenlet-0.4.15-py37h7b6447c_0.conda          20 KB\n",
            "astunparse-1.6.3-pyhd8ed1ab_0.tar.bz2         15 KB\n",
            "more-itertools-7.2.0-py37_0.conda            100 KB\n",
            "keyring-18.0.0-py37_0.conda                   59 KB\n",
            "qtawesome-0.6.0-py_0.tar.bz2                 671 KB\n",
            "cupti-10.1.168-0.conda                       1.4 MB\n",
            "multipledispatch-0.6.0-py37_0.conda           22 KB\n",
            "boto-2.49.0-py37_0.conda                     1.2 MB\n",
            "et_xmlfile-1.0.1-py37_0.conda                 21 KB\n",
            "\n",
            "---------------------------------------------------\n",
            "Total:                                      1.28 GB\n",
            "\n",
            "Removed numba-0.45.1-py37h962f231_0.conda\n",
            "Removed libxslt-1.1.33-h7d1a2b0_0.conda\n",
            "Removed pdbfixer-1.6-py_1.tar.bz2\n",
            "Removed jdcal-1.4.1-py_0.tar.bz2\n",
            "Removed mccabe-0.6.1-py37_1.conda\n",
            "Removed psutil-5.6.3-py37h7b6447c_0.conda\n",
            "Removed keras-preprocessing-1.1.2-pyhd8ed1ab_0.tar.bz2\n",
            "Removed sortedcontainers-2.1.0-py37_0.conda\n",
            "Removed gast-0.4.0-pyh9f0ad1d_0.tar.bz2\n",
            "Removed joblib-0.13.2-py37_0.conda\n",
            "Removed typing_extensions-3.7.4.3-py_0.tar.bz2\n",
            "Removed anaconda-project-0.8.3-py_0.tar.bz2\n",
            "Removed ripgrep-0.10.0-hc07d326_0.conda\n",
            "Removed get_terminal_size-1.0.0-haa9412d_0.conda\n",
            "Removed libffi-3.2.1-hd88cf55_4.conda\n",
            "Removed navigator-updater-0.2.1-py37_0.conda\n",
            "Removed clyent-1.2.2-py37_1.conda\n",
            "Removed urllib3-1.24.2-py37_0.conda\n",
            "Removed sphinxcontrib-htmlhelp-1.0.2-py_0.tar.bz2\n",
            "Removed ca-certificates-2019.8.28-0.tar.bz2\n",
            "Removed wrapt-1.11.2-py37h7b6447c_0.conda\n",
            "Removed sphinxcontrib-serializinghtml-1.1.3-py_0.tar.bz2\n",
            "Removed pycurl-7.43.0.3-py37h1ba5d50_0.conda\n",
            "Removed mock-3.0.5-py37_0.conda\n",
            "Removed webencodings-0.5.1-py37_1.conda\n",
            "Removed sqlite-3.30.0-h7b6447c_0.tar.bz2\n",
            "Removed tensorboard-1.14.0-py37_0.tar.bz2\n",
            "Removed libgcc-ng-9.1.0-hdf63c60_0.conda\n",
            "Removed traitlets-4.3.3-py37_0.tar.bz2\n",
            "Removed pytest-arraydiff-0.3-py37h39e3cac_0.conda\n",
            "Removed notebook-6.0.1-py37_0.tar.bz2\n",
            "Removed jupyter-1.0.0-py37_7.conda\n",
            "Removed tqdm-4.36.1-py_0.conda\n",
            "Removed parso-0.5.1-py_0.tar.bz2\n",
            "Removed jupyterlab_server-1.0.6-py_0.tar.bz2\n",
            "Removed python-libarchive-c-2.8-py37_13.conda\n",
            "Removed jupyter_core-4.5.0-py_0.tar.bz2\n",
            "Removed pango-1.42.4-h049681c_0.conda\n",
            "Removed keras-applications-1.0.8-py_1.tar.bz2\n",
            "Removed mdtraj-1.9.5-py37h113d463_0.tar.bz2\n",
            "Removed conda-build-3.18.9-py37_3.conda\n",
            "Removed pandas-0.25.1-py37he6710b0_0.conda\n",
            "Removed jbig-2.1-hdba287a_0.conda\n",
            "Removed matplotlib-3.1.1-py37h5429711_0.conda\n",
            "Removed nbconvert-5.6.0-py37_1.tar.bz2\n",
            "Removed jedi-0.15.1-py37_0.conda\n",
            "Removed h5py-2.9.0-py37h7918eee_0.conda\n",
            "Removed soupsieve-1.9.3-py37_0.tar.bz2\n",
            "Removed fontconfig-2.13.0-h9420a91_0.conda\n",
            "Removed pillow-6.2.0-py37h34e0f95_0.tar.bz2\n",
            "Removed asn1crypto-1.0.1-py37_0.tar.bz2\n",
            "Removed bzip2-1.0.8-h7b6447c_0.conda\n",
            "Removed decorator-4.4.0-py37_1.conda\n",
            "Removed sympy-1.4-py37_0.conda\n",
            "Removed pyodbc-4.0.27-py37he6710b0_0.conda\n",
            "Removed cython-0.29.13-py37he6710b0_0.conda\n",
            "Removed icu-58.2-h9c2bf20_1.conda\n",
            "Removed prompt_toolkit-2.0.10-py_0.tar.bz2\n",
            "Removed pyqt-5.9.2-py37h05f1152_2.conda\n",
            "Removed send2trash-1.5.0-py37_0.conda\n",
            "Removed snowballstemmer-2.0.0-py_0.tar.bz2\n",
            "Removed nose-1.3.7-py37_2.conda\n",
            "Removed rope-0.14.0-py_0.tar.bz2\n",
            "Removed click-7.0-py37_0.conda\n",
            "Removed toolz-0.10.0-py_0.tar.bz2\n",
            "Removed wcwidth-0.1.7-py37_0.conda\n",
            "Removed pylint-2.4.2-py37_0.tar.bz2\n",
            "Removed pywavelets-1.0.3-py37hdd07704_1.conda\n",
            "Removed xlsxwriter-1.2.1-py_0.tar.bz2\n",
            "Removed deepchem-gpu-2.3.0-py37_0.tar.bz2\n",
            "Removed six-1.12.0-py37_0.conda\n",
            "Removed importlib_metadata-0.23-py37_0.tar.bz2\n",
            "Removed sphinx-2.2.0-py_0.tar.bz2\n",
            "Removed libsodium-1.0.16-h1bed415_0.conda\n",
            "Removed pytest-remotedata-0.3.2-py37_0.conda\n",
            "Removed openpyxl-3.0.0-py_0.tar.bz2\n",
            "Removed pytz-2019.3-py_0.tar.bz2\n",
            "Removed tblib-1.4.0-py_0.tar.bz2\n",
            "Removed pyzmq-18.1.0-py37he6710b0_0.conda\n",
            "Removed cudnn-7.6.5.32-hc0a50b0_1.tar.bz2\n",
            "Removed pixman-0.38.0-h7b6447c_0.conda\n",
            "Removed docutils-0.15.2-py37_0.conda\n",
            "Removed termcolor-1.1.0-py_2.tar.bz2\n",
            "Removed gevent-1.4.0-py37h7b6447c_0.conda\n",
            "Removed ipython_genutils-0.2.0-py37_0.conda\n",
            "Removed astroid-2.3.1-py37_0.tar.bz2\n",
            "Removed pkginfo-1.5.0.1-py37_0.conda\n",
            "Removed liblief-0.9.0-h7725739_2.conda\n",
            "Removed secretstorage-3.1.1-py37_0.conda\n",
            "Removed mpc-1.1.0-h10f8cd9_1.conda\n",
            "Removed xlwt-1.3.0-py37_0.conda\n",
            "Removed bleach-3.1.0-py37_0.conda\n",
            "Removed google-pasta-0.2.0-pyh8c360ce_0.tar.bz2\n",
            "Removed jinja2-2.10.3-py_0.tar.bz2\n",
            "Removed libxcb-1.13-h1bed415_1.conda\n",
            "Removed libuuid-1.0.3-h1bed415_2.conda\n",
            "Removed cryptography-2.7-py37h1ba5d50_0.conda\n",
            "Removed lz4-c-1.8.1.2-h14c3975_0.conda\n",
            "Removed bokeh-1.3.4-py37_0.conda\n",
            "Removed wurlitzer-1.0.3-py37_0.conda\n",
            "Removed nltk-3.4.5-py37_0.conda\n",
            "Removed atomicwrites-1.3.0-py37_1.conda\n",
            "Removed bitarray-1.0.1-py37h7b6447c_0.conda\n",
            "Removed grpcio-1.23.0-py37hb0870dc_1.tar.bz2\n",
            "Removed colorama-0.4.1-py37_0.conda\n",
            "Removed markupsafe-1.1.1-py37h7b6447c_0.conda\n",
            "Removed pep8-1.7.1-py37_0.conda\n",
            "Removed sphinxcontrib-devhelp-1.0.1-py_0.tar.bz2\n",
            "Removed tbb-2019.4-hfd86e86_0.conda\n",
            "Removed backports.weakref-1.0.post1-py_1.tar.bz2\n",
            "Removed fftw3f-3.3.4-2.tar.bz2\n",
            "Removed beautifulsoup4-4.8.0-py37_0.conda\n",
            "Removed pyopenssl-19.0.0-py37_0.conda\n",
            "Removed lzo-2.10-h49e0be7_2.conda\n",
            "Removed c-ares-1.17.1-h36c2ea0_0.tar.bz2\n",
            "Removed _py-xgboost-mutex-2.0-cpu_0.tar.bz2\n",
            "Removed future-0.17.1-py37_0.conda\n",
            "Removed tensorflow-1.14.0-gpu_py37h74c33d7_0.conda\n",
            "Removed krb5-1.16.1-h173b8e3_7.conda\n",
            "Removed backports.shutil_get_terminal_size-1.0.0-py37_2.conda\n",
            "Removed astropy-3.2.2-py37h7b6447c_0.tar.bz2\n",
            "Removed partd-1.0.0-py_0.tar.bz2\n",
            "Removed llvmlite-0.29.0-py37hd408876_0.conda\n",
            "Removed conda-verify-3.4.2-py_1.tar.bz2\n",
            "Removed scipy-1.3.1-py37h7c811a0_0.conda\n",
            "Removed pyrsistent-0.15.4-py37h7b6447c_0.tar.bz2\n",
            "Removed sortedcollections-1.1.2-py37_0.conda\n",
            "Removed anaconda-2019.10-py37_0.tar.bz2\n",
            "Removed pycparser-2.19-py37_0.conda\n",
            "Removed python_abi-3.7-1_cp37m.tar.bz2\n",
            "Removed gmpy2-2.0.8-py37h10f8cd9_2.conda\n",
            "Removed glob2-0.7-py_0.tar.bz2\n",
            "Removed lazy-object-proxy-1.4.2-py37h7b6447c_0.conda\n",
            "Removed unixodbc-2.3.7-h14c3975_0.conda\n",
            "Removed singledispatch-3.4.0.3-py37_0.conda\n",
            "Removed pycodestyle-2.5.0-py37_0.conda\n",
            "Removed xlrd-1.2.0-py37_0.conda\n",
            "Removed cffi-1.12.3-py37h2e261b9_0.conda\n",
            "Removed prometheus_client-0.7.1-py_0.tar.bz2\n",
            "Removed graphite2-1.3.13-h23475e2_0.conda\n",
            "Removed intel-openmp-2019.4-243.conda\n",
            "Removed jupyter_console-6.0.0-py37_0.conda\n",
            "Removed numexpr-2.7.0-py37h9e4a6bb_0.conda\n",
            "Removed sphinxcontrib-applehelp-1.0.1-py_0.tar.bz2\n",
            "Removed libedit-3.1.20181209-hc058e9b_0.conda\n",
            "Removed python-dateutil-2.8.0-py37_0.conda\n",
            "Removed wheel-0.33.6-py37_0.tar.bz2\n",
            "Removed simplegeneric-0.8.1-py37_2.conda\n",
            "Removed libssh2-1.8.2-h1ba5d50_0.conda\n",
            "Removed qt-5.9.7-h5867ecd_1.conda\n",
            "Removed libgfortran-ng-7.3.0-hdf63c60_0.conda\n",
            "Removed zstd-1.3.7-h0b5b093_0.conda\n",
            "Removed gst-plugins-base-1.14.0-hbbd80ab_1.conda\n",
            "Removed dask-core-2.5.2-py_0.tar.bz2\n",
            "Removed fastcache-1.1.0-py37h7b6447c_0.conda\n",
            "Removed cairo-1.14.12-h8948797_3.conda\n",
            "Removed chardet-3.0.4-py37_1003.conda\n",
            "Removed python-3.7.4-h265db76_1.conda\n",
            "Removed pyparsing-2.4.2-py_0.tar.bz2\n",
            "Removed expat-2.2.6-he6710b0_0.conda\n",
            "Removed sphinxcontrib-websupport-1.1.2-py_0.tar.bz2\n",
            "Removed conda-package-handling-1.6.0-py37h7b6447c_0.conda\n",
            "Removed defusedxml-0.6.0-py_0.tar.bz2\n",
            "Removed pycosat-0.6.3-py37h14c3975_0.conda\n",
            "Removed networkx-2.3-py_0.tar.bz2\n",
            "Removed numpy-1.17.2-py37haad9e8e_0.conda\n",
            "Removed pytest-astropy-0.5.0-py37_0.conda\n",
            "Removed ipython-7.8.0-py37h39e3cac_0.conda\n",
            "Removed packaging-19.2-py_0.tar.bz2\n",
            "Removed py-xgboost-1.2.0-py37hc8dfbb8_0.tar.bz2\n",
            "Removed libtiff-4.0.10-h2733197_2.conda\n",
            "Removed simdna-0.4.2-py_0.tar.bz2\n",
            "Removed html5lib-1.0.1-py37_0.conda\n",
            "Removed py-lief-0.9.0-py37h7725739_2.conda\n",
            "Removed jeepney-0.4.1-py_0.tar.bz2\n",
            "Removed absl-py-0.12.0-pyhd8ed1ab_0.tar.bz2\n",
            "Removed scikit-learn-0.21.3-py37hd81dba3_0.conda\n",
            "Removed tensorflow-base-1.14.0-gpu_py37he45bfe2_0.conda\n",
            "Removed pyyaml-5.1.2-py37h7b6447c_0.conda\n",
            "Removed libpng-1.6.37-hbc83047_0.conda\n",
            "Removed sphinxcontrib-qthelp-1.0.2-py_0.tar.bz2\n",
            "Removed flask-1.1.1-py_0.tar.bz2\n",
            "Removed sip-4.19.8-py37hf484d3e_0.conda\n",
            "Removed unicodecsv-0.14.1-py37_0.conda\n",
            "Removed pygments-2.4.2-py_0.tar.bz2\n",
            "Removed libcurl-7.65.3-h20c2e04_0.conda\n",
            "Removed blas-1.0-mkl.conda\n",
            "Removed pyflakes-2.1.1-py37_0.conda\n",
            "Removed contextlib2-0.6.0-py_0.tar.bz2\n",
            "Removed astor-0.8.1-pyh9f0ad1d_0.tar.bz2\n",
            "Removed locket-0.2.0-py37_1.conda\n",
            "Removed itsdangerous-1.1.0-py37_0.conda\n",
            "Removed readline-7.0-h7b6447c_5.conda\n",
            "Removed pysocks-1.7.1-py37_0.tar.bz2\n",
            "Removed ipykernel-5.1.2-py37h39e3cac_0.conda\n",
            "Removed sqlalchemy-1.3.9-py37h7b6447c_0.tar.bz2\n",
            "Removed distributed-2.5.2-py_0.tar.bz2\n",
            "Removed glib-2.56.2-hd408876_0.conda\n",
            "Removed pytest-5.2.1-py37_0.tar.bz2\n",
            "Removed pandoc-2.2.3.2-0.conda\n",
            "Removed pickleshare-0.7.5-py37_0.conda\n",
            "Removed ruamel_yaml-0.15.46-py37h14c3975_0.conda\n",
            "Removed idna-2.8-py37_0.conda\n",
            "Removed mkl-2019.4-243.conda\n",
            "Removed lxml-4.4.1-py37hefd8a0e_0.conda\n",
            "Removed requests-2.22.0-py37_0.conda\n",
            "Removed snappy-1.1.7-hbae5bb6_3.conda\n",
            "Removed qtpy-1.9.0-py_0.tar.bz2\n",
            "Removed spyder-3.3.6-py37_0.conda\n",
            "Removed bkcharts-0.2-py37_0.conda\n",
            "Removed rdkit-2020.03.3.0-py37hc20afe1_1.tar.bz2\n",
            "Removed imagesize-1.1.0-py37_0.conda\n",
            "Removed zipp-0.6.0-py_0.tar.bz2\n",
            "Removed openssl-1.1.1d-h7b6447c_2.conda\n",
            "Removed mkl_fft-1.0.14-py37ha843d7b_0.conda\n",
            "Removed numpydoc-0.9.1-py_0.tar.bz2\n",
            "Removed libstdcxx-ng-9.1.0-hdf63c60_0.conda\n",
            "Removed anaconda-client-1.7.2-py37_0.conda\n",
            "Removed backports.tempfile-1.0-py_1.tar.bz2\n",
            "Removed cytoolz-0.10.0-py37h7b6447c_0.conda\n",
            "Removed sphinxcontrib-jsmath-1.0.1-py_0.tar.bz2\n",
            "Removed widgetsnbextension-3.5.1-py37_0.conda\n",
            "Removed anaconda-navigator-1.9.7-py37_0.tar.bz2\n",
            "Removed msgpack-python-0.6.1-py37hfd86e86_1.conda\n",
            "Removed libxgboost-1.2.0-he1b5a44_0.tar.bz2\n",
            "Removed pexpect-4.7.0-py37_0.conda\n",
            "Removed hdf5-1.10.4-hb1b8bf9_0.conda\n",
            "Removed curl-7.65.3-hbc83047_0.conda\n",
            "Removed certifi-2019.9.11-py37_0.tar.bz2\n",
            "Removed harfbuzz-1.8.8-hffaf4a1_0.conda\n",
            "Removed patchelf-0.9-he6710b0_3.conda\n",
            "Removed gstreamer-1.14.0-hb453b48_1.conda\n",
            "Removed zict-1.0.0-py_0.tar.bz2\n",
            "Removed yaml-0.1.7-had09818_2.conda\n",
            "Removed freetype-2.9.1-h8a8886c_1.conda\n",
            "Removed testpath-0.4.2-py37_0.conda\n",
            "Removed gmp-6.1.2-h6c8ec71_1.conda\n",
            "Removed py-boost-1.67.0-py37h04863e7_4.conda\n",
            "Removed pluggy-0.13.0-py37_0.tar.bz2\n",
            "Removed werkzeug-0.16.0-py_0.tar.bz2\n",
            "Removed zeromq-4.3.1-he6710b0_3.conda\n",
            "Removed py-1.8.0-py37_0.conda\n",
            "Removed sphinxcontrib-1.0-py37_1.conda\n",
            "Removed attrs-19.2.0-py_0.tar.bz2\n",
            "Removed cudatoolkit-10.1.243-h6bb024c_0.conda\n",
            "Removed fsspec-0.5.2-py_0.tar.bz2\n",
            "Removed xz-5.2.4-h14c3975_4.conda\n",
            "Removed seaborn-0.9.0-py37_0.conda\n",
            "Removed backports.os-0.1.1-py37_0.conda\n",
            "Removed pathlib2-2.3.5-py37_0.tar.bz2\n",
            "Removed fribidi-1.0.5-h7b6447c_0.conda\n",
            "Removed mpfr-4.0.1-hdf1c602_3.conda\n",
            "Removed _tflow_select-2.1.0-gpu.conda\n",
            "Removed statsmodels-0.10.1-py37hdd07704_0.conda\n",
            "Removed jsonschema-3.0.2-py37_0.conda\n",
            "Removed backcall-0.1.0-py37_0.conda\n",
            "Removed ply-3.11-py37_0.conda\n",
            "Removed ipywidgets-7.5.1-py_0.tar.bz2\n",
            "Removed spyder-kernels-0.5.2-py37_0.tar.bz2\n",
            "Removed cycler-0.10.0-py37_0.conda\n",
            "Removed json5-0.8.5-py_0.tar.bz2\n",
            "Removed conda-4.10.1-py37h89c1867_0.tar.bz2\n",
            "Removed blosc-1.16.3-hd408876_0.conda\n",
            "Removed conda-env-2.6.0-1.conda\n",
            "Removed scikit-image-0.15.0-py37he6710b0_0.conda\n",
            "Removed markdown-3.3.4-pyhd8ed1ab_0.tar.bz2\n",
            "Removed nbformat-4.4.0-py37_0.conda\n",
            "Removed heapdict-1.0.1-py_0.conda\n",
            "Removed protobuf-3.13.0.1-py37h745909e_1.tar.bz2\n",
            "Removed mkl_random-1.1.0-py37hd6b4f25_0.conda\n",
            "Removed pytest-openfiles-0.4.0-py_0.tar.bz2\n",
            "Removed entrypoints-0.3-py37_0.conda\n",
            "Removed imageio-2.6.0-py37_0.tar.bz2\n",
            "Removed path.py-12.0.1-py_0.tar.bz2\n",
            "Removed pcre-8.43-he6710b0_0.conda\n",
            "Removed ptyprocess-0.6.0-py37_0.conda\n",
            "Removed qtconsole-4.5.5-py_0.tar.bz2\n",
            "Removed pip-19.2.3-py37_0.tar.bz2\n",
            "Removed jpeg-9b-h024ee3a_2.conda\n",
            "Removed terminado-0.8.2-py37_0.conda\n",
            "Removed libtool-2.4.6-h7b6447c_5.conda\n",
            "Removed mpmath-1.1.0-py37_0.conda\n",
            "Removed pytest-doctestplus-0.4.0-py_0.tar.bz2\n",
            "Removed backports-1.0-py_2.tar.bz2\n",
            "Removed dask-2.5.2-py_0.tar.bz2\n",
            "Removed libboost-1.67.0-h46d08c1_4.conda\n",
            "Removed dbus-1.13.6-h746ee38_0.conda\n",
            "Removed pycrypto-2.6.1-py37h14c3975_9.conda\n",
            "Removed libxml2-2.9.9-hea5a465_1.conda\n",
            "Removed pytables-3.5.2-py37h71ec239_1.conda\n",
            "Removed tk-8.6.8-hbc83047_0.conda\n",
            "Removed numpy-base-1.17.2-py37hde5b4d6_0.conda\n",
            "Removed _libgcc_mutex-0.1-main.conda\n",
            "Removed importlib-metadata-4.0.1-py37h89c1867_0.tar.bz2\n",
            "Removed libprotobuf-3.13.0.1-h8b12597_0.tar.bz2\n",
            "Removed babel-2.7.0-py_0.tar.bz2\n",
            "Removed cloudpickle-1.2.2-py_0.tar.bz2\n",
            "Removed mistune-0.8.4-py37h7b6447c_0.conda\n",
            "Removed patsy-0.5.1-py37_0.conda\n",
            "Removed openmm-7.4.2-py37_cuda101_rc_1.tar.bz2\n",
            "Removed backports.functools_lru_cache-1.5-py_2.tar.bz2\n",
            "Removed zlib-1.2.11-h7b6447c_3.conda\n",
            "Removed conda-4.7.12-py37_0.tar.bz2\n",
            "Removed filelock-3.0.12-py_0.tar.bz2\n",
            "Removed isort-4.3.21-py37_0.conda\n",
            "Removed xgboost-1.2.0-py37h3340039_0.tar.bz2\n",
            "Removed bottleneck-1.2.1-py37h035aef0_1.conda\n",
            "Removed mkl-service-2.3.0-py37he904b0f_0.conda\n",
            "Removed libarchive-3.3.3-h5d8350f_5.conda\n",
            "Removed pandocfilters-1.4.2-py37_1.conda\n",
            "Removed alabaster-0.7.12-py37_0.conda\n",
            "Removed tornado-6.0.3-py37h7b6447c_0.conda\n",
            "Removed jupyterlab-1.1.4-pyhf63ae98_0.conda\n",
            "Removed kiwisolver-1.1.0-py37he6710b0_0.conda\n",
            "Removed jupyter_client-5.3.3-py37_1.tar.bz2\n",
            "Removed tensorflow-gpu-1.14.0-h0d30ee6_0.conda\n",
            "Removed ncurses-6.1-he6710b0_1.conda\n",
            "Removed setuptools-41.4.0-py37_0.tar.bz2\n",
            "Removed _ipyw_jlab_nb_ext_conf-0.1.0-py37_0.conda\n",
            "Removed tensorflow-estimator-1.14.0-py37h5ca1d4c_0.tar.bz2\n",
            "Removed olefile-0.46-py37_0.conda\n",
            "Removed greenlet-0.4.15-py37h7b6447c_0.conda\n",
            "Removed astunparse-1.6.3-pyhd8ed1ab_0.tar.bz2\n",
            "Removed more-itertools-7.2.0-py37_0.conda\n",
            "Removed keyring-18.0.0-py37_0.conda\n",
            "Removed qtawesome-0.6.0-py_0.tar.bz2\n",
            "Removed cupti-10.1.168-0.conda\n",
            "Removed multipledispatch-0.6.0-py37_0.conda\n",
            "Removed boto-2.49.0-py37_0.conda\n",
            "Removed et_xmlfile-1.0.1-py37_0.conda\n",
            "WARNING: /root/.conda/pkgs does not exist\n",
            "Cache location: /usr/local/pkgs\n",
            "Will remove the following packages:\n",
            "/usr/local/pkgs\n",
            "---------------\n",
            "\n",
            "get_terminal_size-1.0.0-haa9412d_0             7 KB\n",
            "_libgcc_mutex-0.1-main                         7 KB\n",
            "blas-1.0-mkl                                  15 KB\n",
            "tensorflow-gpu-1.14.0-h0d30ee6_0              18 KB\n",
            "python_abi-3.7-1_cp37m                        10 KB\n",
            "conda-env-2.6.0-1                              6 KB\n",
            "conda-4.7.12-py37_0                         11.4 MB\n",
            "anaconda-2019.10-py37_0                       60 KB\n",
            "tensorflow-1.14.0-gpu_py37h74c33d7_0          12 KB\n",
            "xgboost-1.2.0-py37h3340039_0                  32 KB\n",
            "dask-2.5.2-py_0                               40 KB\n",
            "_py-xgboost-mutex-2.0-cpu_0                   22 KB\n",
            "numpy-1.17.2-py37haad9e8e_0                   11 KB\n",
            "_tflow_select-2.1.0-gpu                        5 KB\n",
            "\n",
            "---------------------------------------------------\n",
            "Total:                                      11.6 MB\n",
            "\n",
            "removing get_terminal_size-1.0.0-haa9412d_0\n",
            "removing _libgcc_mutex-0.1-main\n",
            "removing blas-1.0-mkl\n",
            "removing tensorflow-gpu-1.14.0-h0d30ee6_0\n",
            "removing python_abi-3.7-1_cp37m\n",
            "removing conda-env-2.6.0-1\n",
            "removing conda-4.7.12-py37_0\n",
            "removing anaconda-2019.10-py37_0\n",
            "removing tensorflow-1.14.0-gpu_py37h74c33d7_0\n",
            "removing xgboost-1.2.0-py37h3340039_0\n",
            "removing dask-2.5.2-py_0\n",
            "removing _py-xgboost-mutex-2.0-cpu_0\n",
            "removing numpy-1.17.2-py37haad9e8e_0\n",
            "removing _tflow_select-2.1.0-gpu\n"
          ],
          "name": "stdout"
        }
      ]
    },
    {
      "cell_type": "code",
      "metadata": {
        "colab": {
          "base_uri": "https://localhost:8080/"
        },
        "id": "coNNIQafgoSC",
        "outputId": "0d8da53d-69d3-4592-a530-eaf00d00bc68"
      },
      "source": [
        "from google.colab import drive\n",
        "drive.mount('/content/drive')"
      ],
      "execution_count": null,
      "outputs": [
        {
          "output_type": "stream",
          "text": [
            "Mounted at /content/drive\n"
          ],
          "name": "stdout"
        }
      ]
    },
    {
      "cell_type": "code",
      "metadata": {
        "id": "C5J-cJNz2V5w"
      },
      "source": [
        "h1 = pd.read_csv(\"/content/drive/MyDrive/Columbia_E4511/resample_delaney_cur_final.csv\", index_col=0)"
      ],
      "execution_count": null,
      "outputs": []
    },
    {
      "cell_type": "code",
      "metadata": {
        "id": "v_fQuS473N1M"
      },
      "source": [
        "h1=h1[~h1.VALUE_NUM_mean.isna()]\n",
        "h1=h1[h1.VALUE_NUM_mean>2]"
      ],
      "execution_count": null,
      "outputs": []
    },
    {
      "cell_type": "code",
      "metadata": {
        "colab": {
          "base_uri": "https://localhost:8080/",
          "height": 309
        },
        "id": "j36a920lYq-B",
        "outputId": "117fb800-3e0d-41b0-855e-8edc7ef26954"
      },
      "source": [
        "h1.head()"
      ],
      "execution_count": null,
      "outputs": [
        {
          "output_type": "execute_result",
          "data": {
            "text/html": [
              "<div>\n",
              "<style scoped>\n",
              "    .dataframe tbody tr th:only-of-type {\n",
              "        vertical-align: middle;\n",
              "    }\n",
              "\n",
              "    .dataframe tbody tr th {\n",
              "        vertical-align: top;\n",
              "    }\n",
              "\n",
              "    .dataframe thead th {\n",
              "        text-align: right;\n",
              "    }\n",
              "</style>\n",
              "<table border=\"1\" class=\"dataframe\">\n",
              "  <thead>\n",
              "    <tr style=\"text-align: right;\">\n",
              "      <th></th>\n",
              "      <th>compound_id</th>\n",
              "      <th>base_rdkit_smiles</th>\n",
              "      <th>relation</th>\n",
              "      <th>pXC50</th>\n",
              "      <th>active</th>\n",
              "      <th>rdkit_smiles</th>\n",
              "      <th>inchi_key</th>\n",
              "      <th>Compound_Id</th>\n",
              "      <th>VALUE_NUM_mean</th>\n",
              "      <th>VALUE_NUM_std</th>\n",
              "      <th>Perc_Var</th>\n",
              "      <th>Remove_BadDuplicate</th>\n",
              "    </tr>\n",
              "  </thead>\n",
              "  <tbody>\n",
              "    <tr>\n",
              "      <th>0</th>\n",
              "      <td>CHEMBL1611225</td>\n",
              "      <td>C[C@@H](Cc1cccc(C(F)(F)F)c1)NCCCc1ccccc1</td>\n",
              "      <td>NaN</td>\n",
              "      <td>7.900000</td>\n",
              "      <td>1</td>\n",
              "      <td>C[C@@H](Cc1cccc(C(F)(F)F)c1)NCCCc1ccccc1</td>\n",
              "      <td>QQJPJXPWFWDIGG-HNNXBMFYSA-N</td>\n",
              "      <td>QQJPJXPWFWDIGG-HNNXBMFYSA-N</td>\n",
              "      <td>7.900000</td>\n",
              "      <td>NaN</td>\n",
              "      <td>0.0</td>\n",
              "      <td>0</td>\n",
              "    </tr>\n",
              "    <tr>\n",
              "      <th>1</th>\n",
              "      <td>CHEMBL249060</td>\n",
              "      <td>CC(=O)c1sc(NC(=O)N[C@@H]2CCN(C)C[C@H]2CN2CCC[C...</td>\n",
              "      <td>NaN</td>\n",
              "      <td>5.658385</td>\n",
              "      <td>0</td>\n",
              "      <td>CC(=O)c1sc(NC(=O)N[C@@H]2CCN(C)C[C@H]2CN2CCC[C...</td>\n",
              "      <td>CRSGHEPGTAUWJO-QNWVGRARSA-N</td>\n",
              "      <td>CRSGHEPGTAUWJO-QNWVGRARSA-N</td>\n",
              "      <td>5.658385</td>\n",
              "      <td>NaN</td>\n",
              "      <td>0.0</td>\n",
              "      <td>0</td>\n",
              "    </tr>\n",
              "    <tr>\n",
              "      <th>2</th>\n",
              "      <td>6604564</td>\n",
              "      <td>Cc1ccc2c(c1)c1c3n2CCN[C@H]3CCC1</td>\n",
              "      <td>NaN</td>\n",
              "      <td>5.900010</td>\n",
              "      <td>0</td>\n",
              "      <td>Cc1ccc2c(c1)c1c3n2CCN[C@H]3CCC1</td>\n",
              "      <td>IWVRVEIKCBFZNF-ZDUSSCGKSA-N</td>\n",
              "      <td>IWVRVEIKCBFZNF-ZDUSSCGKSA-N</td>\n",
              "      <td>5.900010</td>\n",
              "      <td>NaN</td>\n",
              "      <td>0.0</td>\n",
              "      <td>0</td>\n",
              "    </tr>\n",
              "    <tr>\n",
              "      <th>3</th>\n",
              "      <td>CHEMBL1489961</td>\n",
              "      <td>CCc1ccc(NC(=S)N2CCN(c3cccc(C(F)(F)F)c3)CC2)cc1</td>\n",
              "      <td>NaN</td>\n",
              "      <td>8.000000</td>\n",
              "      <td>1</td>\n",
              "      <td>CCc1ccc(NC(=S)N2CCN(c3cccc(C(F)(F)F)c3)CC2)cc1</td>\n",
              "      <td>WPEHROQONRMYHX-UHFFFAOYSA-N</td>\n",
              "      <td>WPEHROQONRMYHX-UHFFFAOYSA-N</td>\n",
              "      <td>8.000000</td>\n",
              "      <td>NaN</td>\n",
              "      <td>0.0</td>\n",
              "      <td>0</td>\n",
              "    </tr>\n",
              "    <tr>\n",
              "      <th>4</th>\n",
              "      <td>CHEMBL3331507</td>\n",
              "      <td>Clc1cccc(N(Cc2ccc3ccccc3c2)C2CNC2)c1</td>\n",
              "      <td>NaN</td>\n",
              "      <td>4.863279</td>\n",
              "      <td>0</td>\n",
              "      <td>Clc1cccc(N(Cc2ccc3ccccc3c2)C2CNC2)c1</td>\n",
              "      <td>ZEIUBTWYEVLKJP-UHFFFAOYSA-N</td>\n",
              "      <td>ZEIUBTWYEVLKJP-UHFFFAOYSA-N</td>\n",
              "      <td>4.863279</td>\n",
              "      <td>NaN</td>\n",
              "      <td>0.0</td>\n",
              "      <td>0</td>\n",
              "    </tr>\n",
              "  </tbody>\n",
              "</table>\n",
              "</div>"
            ],
            "text/plain": [
              "     compound_id  ... Remove_BadDuplicate\n",
              "0  CHEMBL1611225  ...                   0\n",
              "1   CHEMBL249060  ...                   0\n",
              "2        6604564  ...                   0\n",
              "3  CHEMBL1489961  ...                   0\n",
              "4  CHEMBL3331507  ...                   0\n",
              "\n",
              "[5 rows x 12 columns]"
            ]
          },
          "metadata": {
            "tags": []
          },
          "execution_count": 14
        }
      ]
    },
    {
      "cell_type": "code",
      "metadata": {
        "id": "jSvE6iL8eehh"
      },
      "source": [
        ""
      ],
      "execution_count": null,
      "outputs": []
    },
    {
      "cell_type": "markdown",
      "metadata": {
        "id": "XA8ARleo3h53"
      },
      "source": [
        "### Split (and featurize) the dataset\n",
        "- if you want to calculate molecular descriptors, do it here\n",
        "- change `featurizer` to 'computed_descriptors' and `descriptor_type` to 'rdkit_raw' or 'mordred_filtered'\n",
        "- each time you featurize, a new split table will be generated. moving forward, only pick one to use"
      ]
    },
    {
      "cell_type": "code",
      "metadata": {
        "id": "1eQC31_fA2wD"
      },
      "source": [
        "train_file = \"/content/drive/MyDrive/Columbia_E4511/resample_delaney_cur_final.csv\"\n",
        "response_col = \"VALUE_NUM_mean\"\n",
        "compound_id = \"compound_id\"\n",
        "smiles_col = \"base_rdkit_smiles\"\n",
        "result_dir = \"/content/drive/MyDrive/Columbia_E4511\"\n",
        "params = {\n",
        "        \"system\": \"LC\",\n",
        "        \"lc_account\": 'None',\n",
        "        \"datastore\": \"False\",\n",
        "        \"save_results\": \"False\",\n",
        "        \"data_owner\": \"username\",\n",
        "        \"prediction_type\": \"regression\",\n",
        "        \"dataset_key\": train_file,\n",
        "        \"id_col\": compound_id,\n",
        "        \"smiles_col\": smiles_col,\n",
        "        \"response_cols\": response_col,\n",
        "        \"previously_split\": \"False\",\n",
        "        \"split_only\": \"True\",\n",
        "        \"featurizer\": \"computed_descriptors\",\n",
        "        \"model_type\": \"RF\",\n",
        "        \"verbose\": \"True\",\n",
        "        \"transformers\": \"True\",\n",
        "        'max_epochs': '70',\n",
        "        \"rerun\": \"False\",\n",
        "        \"result_dir\": result_dir,\n",
        "        \"descriptor_type\": \"rdkit_raw\",\n",
        "        \"split_valid_frac\": \"0.10\",\n",
        "        \"split_test_frac\": \"0.10\"\n",
        "    }"
      ],
      "execution_count": null,
      "outputs": []
    },
    {
      "cell_type": "code",
      "metadata": {
        "colab": {
          "base_uri": "https://localhost:8080/"
        },
        "id": "TcrEY3Bc471H",
        "outputId": "8be4623d-513b-4a84-c9b9-81d711bb5696"
      },
      "source": [
        "# # # dataset csv file needs to not have an unnamed first column in order to \n",
        "# # # compute moe descriptors for some reason /shrug\n",
        "# # # naming it index works, naming it idx messes up the id columns\n",
        "# # name it manually before running this\n",
        "\n",
        "pparams = parse.wrapper(params)\n",
        "MP = mp.ModelPipeline(pparams)\n",
        "\n",
        "# # # comment out this line after splitting once so you don't re-split\n",
        "\n",
        "split_uuid = MP.split_dataset()\n",
        "pparams"
      ],
      "execution_count": null,
      "outputs": [
        {
          "output_type": "stream",
          "text": [
            "2021-04-27 22:49:15,295 Splitting data by scaffold\n"
          ],
          "name": "stderr"
        },
        {
          "output_type": "stream",
          "text": [
            "number of features: 200\n"
          ],
          "name": "stdout"
        },
        {
          "output_type": "stream",
          "text": [
            "2021-04-27 22:49:15,912 Dataset split table saved to /content/drive/MyDrive/Columbia_E4511/resample_delaney_cur_final_train_valid_test_scaffold_e01a3bfa-41c0-4fe1-96b3-e717df1146e5.csv\n"
          ],
          "name": "stderr"
        },
        {
          "output_type": "execute_result",
          "data": {
            "text/plain": [
              "Namespace(autoencoder_bucket=None, autoencoder_key=None, autoencoder_type='molvae', base_splitter='scaffold', baseline_epoch=30, batch_size=50, bias_init_consts=None, bucket='public', butina_cutoff=0.18, class_name=None, class_number=2, collection_name='model_tracker', config_file=None, cutoff_date=None, data_owner='username', data_owner_group='gsk_craa', dataset_key='/content/drive/MyDrive/Columbia_E4511/resample_delaney_cur_final.csv', dataset_name='resample_delaney_cur_final', dataset_oid=None, datastore=False, date_col=None, descriptor_bucket='public', descriptor_key=None, descriptor_oid=None, descriptor_spec_bucket='', descriptor_spec_key='/usr/local/lib/python3.7/site-packages/atomsci/ddm/data/descriptor_sets_sources_by_descr_type.csv', descriptor_type='rdkit_raw', dp=None, dropout_list=None, dropouts=None, early_stopping_min_improvement=0.0, early_stopping_patience=30, ecfp_radius=2, ecfp_size=1024, feature_transform_type='normalization', featurizer='computed_descriptors', hyperparam=False, hyperparam_uuid=None, id_col='compound_id', layer_nums=None, layer_sizes=None, lc_account=None, learning_rate=0.0005, lr=None, ls=None, ls_ratio=None, max_epochs=70, max_final_layer_size=32, max_jobs=80, min_compound_number=200, model_bucket='public', model_choice_score_type='r2', model_dataset_oid=None, model_filter=None, model_tarball_path='/content/drive/MyDrive/Columbia_E4511/resample_delaney_cur_final_model_c82f7533-126f-4791-bf55-c5024f632dcd.tar.gz', model_type='RF', model_uuid='c82f7533-126f-4791-bf55-c5024f632dcd', moe_threads=-1, mol_vae_model_file=None, mordred_cpus=None, nn_size_scale_factor=1.0, node_nums=None, num_folds=5, num_model_tasks=1, optimizer_type='adam', output_dir='/content/drive/MyDrive/Columbia_E4511/resample_delaney_cur_final/RF_computed_descriptors_scaffold_regression/c82f7533-126f-4791-bf55-c5024f632dcd', prediction_type='regression', previously_featurized=True, previously_split=False, python_path='python', rerun=False, response_cols=['VALUE_NUM_mean'], response_transform_type='normalization', result_dir='/content/drive/MyDrive/Columbia_E4511', rf_estimators=500, rf_max_depth=None, rf_max_features=32, rfd=None, rfe=None, rff=None, save_results=False, script_dir='.', search_type='grid', shortlist_key=None, slurm_account=None, slurm_export='ALL', slurm_nodes=1, slurm_options=None, slurm_partition='pbatch', slurm_time_limit=1440, smiles_col='base_rdkit_smiles', split_only=True, split_strategy='train_valid_test', split_test_frac=0.1, split_uuid=None, split_valid_frac=0.1, splitter='scaffold', system='LC', transformer_bucket='public', transformer_key=None, transformer_oid=None, transformers=True, umap_dim=10, umap_metric='euclidean', umap_min_dist=0.05, umap_neighbors=20, umap_targ_wt=0.0, uncertainty=True, use_shortlist=False, verbose=True, weight_decay_penalty=0.0001, weight_decay_penalty_type='l2', weight_init_stddevs=None, xgb_colsample_bytree=1.0, xgb_gamma=0.0, xgb_learning_rate=0.1, xgb_max_depth=6, xgb_min_child_weight=1.0, xgb_n_estimators=100, xgb_subsample=1.0, xgbg=None, xgbl=None)"
            ]
          },
          "metadata": {
            "tags": []
          },
          "execution_count": 16
        }
      ]
    },
    {
      "cell_type": "code",
      "metadata": {
        "colab": {
          "base_uri": "https://localhost:8080/",
          "height": 35
        },
        "id": "wSrHN7pU5Cvs",
        "outputId": "5583f729-1d39-4770-b056-9e3112b61821"
      },
      "source": [
        "split_uuid\n",
        "# copy/paste this into the next cell to use the same split_uuid each time"
      ],
      "execution_count": null,
      "outputs": [
        {
          "output_type": "execute_result",
          "data": {
            "application/vnd.google.colaboratory.intrinsic+json": {
              "type": "string"
            },
            "text/plain": [
              "'e01a3bfa-41c0-4fe1-96b3-e717df1146e5'"
            ]
          },
          "metadata": {
            "tags": []
          },
          "execution_count": 17
        }
      ]
    },
    {
      "cell_type": "code",
      "metadata": {
        "id": "PivCHbJZgtX9"
      },
      "source": [
        "#split_uuid = 'c80c74b3-5c7e-4945-9979-94ccd26cdbf6' # 15/15/70 split\n",
        "#split_uuid = 'ead9410d-7abc-41cc-8713-f78dac0106a8' # 10/10/80 split\n",
        "split_uuid = 'e01a3bfa-41c0-4fe1-96b3-e717df1146e5'"
      ],
      "execution_count": null,
      "outputs": []
    },
    {
      "cell_type": "markdown",
      "metadata": {
        "id": "pKP_mFuB5giz"
      },
      "source": [
        "### Grid search\n",
        "#### Tunable parameters for Random Forest models\n",
        "- rf_estimators: number of estimators to use in random forest models\n",
        "- rf_max_depth: the maximum depth of a decision tree in the random forest\n",
        "- rf_max_features: max number of features to split random forest nodes (can't be greater than total number of features)\n",
        "\n",
        "#### NN models\n",
        "- learning_rate: >0.05 is probably too high\n",
        "- layer_sizes: ordered list of layer sizes. due to architecture of NNs you usually want this to be a power of 2 and reduce in size for each layer\n",
        "- dropouts: list of dropouts associated with each layer.\n",
        "- since dropouts and layer sizes must be the same length, either only do a grid search with 2 layers or 3 layers, or create a tuple of layers and dropouts\n",
        "\n",
        "#### XGBoost models\n",
        "- xgb_gamma\n",
        "- xgb_learning_rate: higher values can do better than NN learning rates"
      ]
    },
    {
      "cell_type": "markdown",
      "metadata": {
        "id": "dBQ-bRaW9oq5"
      },
      "source": [
        "##### RF Models\n",
        "add 'active' column to featurized data or the features will be recalculated for each model"
      ]
    },
    {
      "cell_type": "code",
      "metadata": {
        "id": "B0YQ1dfZZn8K"
      },
      "source": [
        "#mf = pd.read_csv(\"/content/drive/MyDrive/Columbia_E4511/scaled_descriptors/HTR3A_curated_with_mordred_filtered_descriptors.csv\")\n",
        "#mf = pd.read_csv(\"/content/drive/MyDrive/Columbia_E4511/scaled_descriptors/delaney_curated_final_with_rdkit_raw_descriptors.csv\")\n",
        "\n",
        "#mf=mf.merge(h1[['base_rdkit_smiles','active']])\n",
        "#mf.to_csv(\"/content/drive/MyDrive/Columbia_E4511/scaled_descriptors/delaney_curated_final_with_rdkit_raw_descriptors.csv\", index=False)"
      ],
      "execution_count": null,
      "outputs": []
    },
    {
      "cell_type": "code",
      "metadata": {
        "id": "25hhGGh3IvqR"
      },
      "source": [
        "params={'data_owner': 'username',\n",
        " 'dataset_key': '/content/drive/MyDrive/Columbia_E4511/resample_delaney_cur_final.csv',\n",
        " 'datastore': 'False',\n",
        " 'featurizer': 'ecfp',\n",
        "#  'descriptor_type':'mordred_filtered',\n",
        " 'id_col': 'compound_id',\n",
        " 'lc_account': 'None',\n",
        " 'max_epochs': '70',\n",
        " 'model_type': 'RF',\n",
        " 'prediction_type': 'classification',\n",
        " 'previously_split': 'True',\n",
        " 'rerun': 'False',\n",
        " 'response_cols': 'active',\n",
        " 'result_dir': '/content/drive/MyDrive/Columbia_E4511/resample_CYP2D6_models',\n",
        " 'save_results': 'False',\n",
        " 'smiles_col': 'base_rdkit_smiles',\n",
        " #'split_uuid': 'ead9410d-7abc-41cc-8713-f78dac0106a8',\n",
        " 'split_uuid': 'e01a3bfa-41c0-4fe1-96b3-e717df1146e5',\n",
        " 'system': 'LC',\n",
        " 'transformers': 'True',\n",
        " 'uncertainty': 'True',\n",
        " 'verbose': 'True'}"
      ],
      "execution_count": null,
      "outputs": []
    },
    {
      "cell_type": "code",
      "metadata": {
        "colab": {
          "base_uri": "https://localhost:8080/"
        },
        "id": "i6FBeUGh5mGJ",
        "outputId": "f2ba2eeb-36a2-4859-f87d-fb6b81f11259"
      },
      "source": [
        "# 210 models per feature set\n",
        "estimator_choice = [16,24,32,64,128,256,512]\n",
        "depth_choice = [16,24,32,64,128,256]\n",
        "features_choice = [256,512] #16,24,32,64,128, # can only be < total number of features\n",
        "\n",
        "for rf_estimator in estimator_choice:\n",
        "    for rf_depth in depth_choice:\n",
        "        for rf_feature in features_choice:\n",
        "            params[\"rf_estimators\"] = rf_estimator\n",
        "            params[\"rf_max_depth\"] = rf_depth\n",
        "            params[\"rf_max_features\"] = rf_feature\n",
        "            tp = parse.wrapper(params)\n",
        "            pl = mp.ModelPipeline(tp)\n",
        "            pl.train_model()\n",
        "            pred_data = pl.model_wrapper.get_perf_data(subset=\"valid\", epoch_label=\"best\")\n",
        "            pred_results = pred_data.get_prediction_results()\n",
        "            print(f\"rf_estimators: {rf_estimator}, rf_max_depth: {rf_depth}, rf_max_features: {rf_feature}, valid_roc_auc: {pred_results['roc_auc_score']}\")\n"
      ],
      "execution_count": null,
      "outputs": [
        {
          "output_type": "stream",
          "text": [
            "number of features: 1024\n"
          ],
          "name": "stdout"
        },
        {
          "output_type": "stream",
          "text": [
            "2021-04-27 22:54:03,514 Previous dataset split restored\n",
            "2021-04-27 22:54:04,318 Wrote model metadata to file /content/drive/MyDrive/Columbia_E4511/resample_CYP2D6_models/resample_delaney_cur_final/RF_ecfp_scaffold_classification/c7f81949-8f9e-43bb-b8de-e3e9769a13fa/model_metadata.json\n",
            "2021-04-27 22:54:04,334 Wrote model metrics to file /content/drive/MyDrive/Columbia_E4511/resample_CYP2D6_models/resample_delaney_cur_final/RF_ecfp_scaffold_classification/c7f81949-8f9e-43bb-b8de-e3e9769a13fa/model_metrics.json\n"
          ],
          "name": "stderr"
        },
        {
          "output_type": "stream",
          "text": [
            "Wrote model tarball to /content/drive/MyDrive/Columbia_E4511/resample_CYP2D6_models/resample_delaney_cur_final_model_c7f81949-8f9e-43bb-b8de-e3e9769a13fa.tar.gz\n",
            "rf_estimators: 16, rf_max_depth: 16, rf_max_features: 256, valid_roc_auc: 0.5497448979591837\n",
            "number of features: 1024\n"
          ],
          "name": "stdout"
        },
        {
          "output_type": "stream",
          "text": [
            "2021-04-27 22:54:09,442 Previous dataset split restored\n",
            "2021-04-27 22:54:10,326 Wrote model metadata to file /content/drive/MyDrive/Columbia_E4511/resample_CYP2D6_models/resample_delaney_cur_final/RF_ecfp_scaffold_classification/acdce389-2aef-4adc-81d5-d680600542c9/model_metadata.json\n",
            "2021-04-27 22:54:10,345 Wrote model metrics to file /content/drive/MyDrive/Columbia_E4511/resample_CYP2D6_models/resample_delaney_cur_final/RF_ecfp_scaffold_classification/acdce389-2aef-4adc-81d5-d680600542c9/model_metrics.json\n"
          ],
          "name": "stderr"
        },
        {
          "output_type": "stream",
          "text": [
            "Wrote model tarball to /content/drive/MyDrive/Columbia_E4511/resample_CYP2D6_models/resample_delaney_cur_final_model_acdce389-2aef-4adc-81d5-d680600542c9.tar.gz\n",
            "rf_estimators: 16, rf_max_depth: 16, rf_max_features: 512, valid_roc_auc: 0.596938775510204\n",
            "number of features: 1024\n"
          ],
          "name": "stdout"
        },
        {
          "output_type": "stream",
          "text": [
            "2021-04-27 22:54:15,497 Previous dataset split restored\n",
            "2021-04-27 22:54:16,289 Wrote model metadata to file /content/drive/MyDrive/Columbia_E4511/resample_CYP2D6_models/resample_delaney_cur_final/RF_ecfp_scaffold_classification/d2af4748-d309-409d-97a2-22614e7d14ab/model_metadata.json\n",
            "2021-04-27 22:54:16,309 Wrote model metrics to file /content/drive/MyDrive/Columbia_E4511/resample_CYP2D6_models/resample_delaney_cur_final/RF_ecfp_scaffold_classification/d2af4748-d309-409d-97a2-22614e7d14ab/model_metrics.json\n"
          ],
          "name": "stderr"
        },
        {
          "output_type": "stream",
          "text": [
            "Wrote model tarball to /content/drive/MyDrive/Columbia_E4511/resample_CYP2D6_models/resample_delaney_cur_final_model_d2af4748-d309-409d-97a2-22614e7d14ab.tar.gz\n",
            "rf_estimators: 16, rf_max_depth: 24, rf_max_features: 256, valid_roc_auc: 0.5860969387755103\n",
            "number of features: 1024\n"
          ],
          "name": "stdout"
        },
        {
          "output_type": "stream",
          "text": [
            "2021-04-27 22:54:21,471 Previous dataset split restored\n",
            "2021-04-27 22:54:22,362 Wrote model metadata to file /content/drive/MyDrive/Columbia_E4511/resample_CYP2D6_models/resample_delaney_cur_final/RF_ecfp_scaffold_classification/63879875-f2ac-4bf1-9c98-9ffa8bbe8c35/model_metadata.json\n",
            "2021-04-27 22:54:22,381 Wrote model metrics to file /content/drive/MyDrive/Columbia_E4511/resample_CYP2D6_models/resample_delaney_cur_final/RF_ecfp_scaffold_classification/63879875-f2ac-4bf1-9c98-9ffa8bbe8c35/model_metrics.json\n"
          ],
          "name": "stderr"
        },
        {
          "output_type": "stream",
          "text": [
            "Wrote model tarball to /content/drive/MyDrive/Columbia_E4511/resample_CYP2D6_models/resample_delaney_cur_final_model_63879875-f2ac-4bf1-9c98-9ffa8bbe8c35.tar.gz\n",
            "rf_estimators: 16, rf_max_depth: 24, rf_max_features: 512, valid_roc_auc: 0.633609693877551\n",
            "number of features: 1024\n"
          ],
          "name": "stdout"
        },
        {
          "output_type": "stream",
          "text": [
            "2021-04-27 22:54:27,547 Previous dataset split restored\n",
            "2021-04-27 22:54:28,360 Wrote model metadata to file /content/drive/MyDrive/Columbia_E4511/resample_CYP2D6_models/resample_delaney_cur_final/RF_ecfp_scaffold_classification/b0361f94-935d-4fb5-b370-28591fb3cb7a/model_metadata.json\n",
            "2021-04-27 22:54:28,378 Wrote model metrics to file /content/drive/MyDrive/Columbia_E4511/resample_CYP2D6_models/resample_delaney_cur_final/RF_ecfp_scaffold_classification/b0361f94-935d-4fb5-b370-28591fb3cb7a/model_metrics.json\n"
          ],
          "name": "stderr"
        },
        {
          "output_type": "stream",
          "text": [
            "Wrote model tarball to /content/drive/MyDrive/Columbia_E4511/resample_CYP2D6_models/resample_delaney_cur_final_model_b0361f94-935d-4fb5-b370-28591fb3cb7a.tar.gz\n",
            "rf_estimators: 16, rf_max_depth: 32, rf_max_features: 256, valid_roc_auc: 0.5911989795918368\n",
            "number of features: 1024\n"
          ],
          "name": "stdout"
        },
        {
          "output_type": "stream",
          "text": [
            "2021-04-27 22:54:33,545 Previous dataset split restored\n",
            "2021-04-27 22:54:34,444 Wrote model metadata to file /content/drive/MyDrive/Columbia_E4511/resample_CYP2D6_models/resample_delaney_cur_final/RF_ecfp_scaffold_classification/1539516c-0ead-449a-a9fa-bd49bbfae1fd/model_metadata.json\n",
            "2021-04-27 22:54:34,464 Wrote model metrics to file /content/drive/MyDrive/Columbia_E4511/resample_CYP2D6_models/resample_delaney_cur_final/RF_ecfp_scaffold_classification/1539516c-0ead-449a-a9fa-bd49bbfae1fd/model_metrics.json\n"
          ],
          "name": "stderr"
        },
        {
          "output_type": "stream",
          "text": [
            "Wrote model tarball to /content/drive/MyDrive/Columbia_E4511/resample_CYP2D6_models/resample_delaney_cur_final_model_1539516c-0ead-449a-a9fa-bd49bbfae1fd.tar.gz\n",
            "rf_estimators: 16, rf_max_depth: 32, rf_max_features: 512, valid_roc_auc: 0.602997448979592\n",
            "number of features: 1024\n"
          ],
          "name": "stdout"
        },
        {
          "output_type": "stream",
          "text": [
            "2021-04-27 22:54:39,649 Previous dataset split restored\n",
            "2021-04-27 22:54:40,451 Wrote model metadata to file /content/drive/MyDrive/Columbia_E4511/resample_CYP2D6_models/resample_delaney_cur_final/RF_ecfp_scaffold_classification/8217b859-7b18-484f-ba93-c8711d2caee8/model_metadata.json\n",
            "2021-04-27 22:54:40,471 Wrote model metrics to file /content/drive/MyDrive/Columbia_E4511/resample_CYP2D6_models/resample_delaney_cur_final/RF_ecfp_scaffold_classification/8217b859-7b18-484f-ba93-c8711d2caee8/model_metrics.json\n"
          ],
          "name": "stderr"
        },
        {
          "output_type": "stream",
          "text": [
            "Wrote model tarball to /content/drive/MyDrive/Columbia_E4511/resample_CYP2D6_models/resample_delaney_cur_final_model_8217b859-7b18-484f-ba93-c8711d2caee8.tar.gz\n",
            "rf_estimators: 16, rf_max_depth: 64, rf_max_features: 256, valid_roc_auc: 0.5293367346938775\n",
            "number of features: 1024\n"
          ],
          "name": "stdout"
        },
        {
          "output_type": "stream",
          "text": [
            "2021-04-27 22:54:45,609 Previous dataset split restored\n",
            "2021-04-27 22:54:46,496 Wrote model metadata to file /content/drive/MyDrive/Columbia_E4511/resample_CYP2D6_models/resample_delaney_cur_final/RF_ecfp_scaffold_classification/49e2663c-15b6-4de7-9ecd-1627d32d6d9a/model_metadata.json\n",
            "2021-04-27 22:54:46,537 Wrote model metrics to file /content/drive/MyDrive/Columbia_E4511/resample_CYP2D6_models/resample_delaney_cur_final/RF_ecfp_scaffold_classification/49e2663c-15b6-4de7-9ecd-1627d32d6d9a/model_metrics.json\n"
          ],
          "name": "stderr"
        },
        {
          "output_type": "stream",
          "text": [
            "Wrote model tarball to /content/drive/MyDrive/Columbia_E4511/resample_CYP2D6_models/resample_delaney_cur_final_model_49e2663c-15b6-4de7-9ecd-1627d32d6d9a.tar.gz\n",
            "rf_estimators: 16, rf_max_depth: 64, rf_max_features: 512, valid_roc_auc: 0.6246811224489796\n",
            "number of features: 1024\n"
          ],
          "name": "stdout"
        },
        {
          "output_type": "stream",
          "text": [
            "2021-04-27 22:54:51,690 Previous dataset split restored\n",
            "2021-04-27 22:54:52,476 Wrote model metadata to file /content/drive/MyDrive/Columbia_E4511/resample_CYP2D6_models/resample_delaney_cur_final/RF_ecfp_scaffold_classification/a0007c0d-ba3d-4d04-b26e-b8b4b8b9f9d5/model_metadata.json\n",
            "2021-04-27 22:54:52,493 Wrote model metrics to file /content/drive/MyDrive/Columbia_E4511/resample_CYP2D6_models/resample_delaney_cur_final/RF_ecfp_scaffold_classification/a0007c0d-ba3d-4d04-b26e-b8b4b8b9f9d5/model_metrics.json\n"
          ],
          "name": "stderr"
        },
        {
          "output_type": "stream",
          "text": [
            "Wrote model tarball to /content/drive/MyDrive/Columbia_E4511/resample_CYP2D6_models/resample_delaney_cur_final_model_a0007c0d-ba3d-4d04-b26e-b8b4b8b9f9d5.tar.gz\n",
            "rf_estimators: 16, rf_max_depth: 128, rf_max_features: 256, valid_roc_auc: 0.567283163265306\n",
            "number of features: 1024\n"
          ],
          "name": "stdout"
        },
        {
          "output_type": "stream",
          "text": [
            "2021-04-27 22:54:57,616 Previous dataset split restored\n",
            "2021-04-27 22:54:58,504 Wrote model metadata to file /content/drive/MyDrive/Columbia_E4511/resample_CYP2D6_models/resample_delaney_cur_final/RF_ecfp_scaffold_classification/84313f74-22c0-4ced-8ef7-1d72e74b25e1/model_metadata.json\n",
            "2021-04-27 22:54:58,523 Wrote model metrics to file /content/drive/MyDrive/Columbia_E4511/resample_CYP2D6_models/resample_delaney_cur_final/RF_ecfp_scaffold_classification/84313f74-22c0-4ced-8ef7-1d72e74b25e1/model_metrics.json\n"
          ],
          "name": "stderr"
        },
        {
          "output_type": "stream",
          "text": [
            "Wrote model tarball to /content/drive/MyDrive/Columbia_E4511/resample_CYP2D6_models/resample_delaney_cur_final_model_84313f74-22c0-4ced-8ef7-1d72e74b25e1.tar.gz\n",
            "rf_estimators: 16, rf_max_depth: 128, rf_max_features: 512, valid_roc_auc: 0.5612244897959184\n",
            "number of features: 1024\n"
          ],
          "name": "stdout"
        },
        {
          "output_type": "stream",
          "text": [
            "2021-04-27 22:55:03,699 Previous dataset split restored\n",
            "2021-04-27 22:55:04,486 Wrote model metadata to file /content/drive/MyDrive/Columbia_E4511/resample_CYP2D6_models/resample_delaney_cur_final/RF_ecfp_scaffold_classification/2b08a6a8-c2f3-45ee-8da8-1a9edc29530f/model_metadata.json\n",
            "2021-04-27 22:55:04,504 Wrote model metrics to file /content/drive/MyDrive/Columbia_E4511/resample_CYP2D6_models/resample_delaney_cur_final/RF_ecfp_scaffold_classification/2b08a6a8-c2f3-45ee-8da8-1a9edc29530f/model_metrics.json\n"
          ],
          "name": "stderr"
        },
        {
          "output_type": "stream",
          "text": [
            "Wrote model tarball to /content/drive/MyDrive/Columbia_E4511/resample_CYP2D6_models/resample_delaney_cur_final_model_2b08a6a8-c2f3-45ee-8da8-1a9edc29530f.tar.gz\n",
            "rf_estimators: 16, rf_max_depth: 256, rf_max_features: 256, valid_roc_auc: 0.6112882653061225\n",
            "number of features: 1024\n"
          ],
          "name": "stdout"
        },
        {
          "output_type": "stream",
          "text": [
            "2021-04-27 22:55:09,645 Previous dataset split restored\n",
            "2021-04-27 22:55:10,522 Wrote model metadata to file /content/drive/MyDrive/Columbia_E4511/resample_CYP2D6_models/resample_delaney_cur_final/RF_ecfp_scaffold_classification/75571edd-6d04-4967-9343-dc20dc7e4da2/model_metadata.json\n",
            "2021-04-27 22:55:10,540 Wrote model metrics to file /content/drive/MyDrive/Columbia_E4511/resample_CYP2D6_models/resample_delaney_cur_final/RF_ecfp_scaffold_classification/75571edd-6d04-4967-9343-dc20dc7e4da2/model_metrics.json\n"
          ],
          "name": "stderr"
        },
        {
          "output_type": "stream",
          "text": [
            "Wrote model tarball to /content/drive/MyDrive/Columbia_E4511/resample_CYP2D6_models/resample_delaney_cur_final_model_75571edd-6d04-4967-9343-dc20dc7e4da2.tar.gz\n",
            "rf_estimators: 16, rf_max_depth: 256, rf_max_features: 512, valid_roc_auc: 0.5714285714285714\n",
            "number of features: 1024\n"
          ],
          "name": "stdout"
        },
        {
          "output_type": "stream",
          "text": [
            "2021-04-27 22:55:15,670 Previous dataset split restored\n",
            "2021-04-27 22:55:16,575 Wrote model metadata to file /content/drive/MyDrive/Columbia_E4511/resample_CYP2D6_models/resample_delaney_cur_final/RF_ecfp_scaffold_classification/16f88394-f264-4e40-811f-7e99fd70d799/model_metadata.json\n",
            "2021-04-27 22:55:16,593 Wrote model metrics to file /content/drive/MyDrive/Columbia_E4511/resample_CYP2D6_models/resample_delaney_cur_final/RF_ecfp_scaffold_classification/16f88394-f264-4e40-811f-7e99fd70d799/model_metrics.json\n"
          ],
          "name": "stderr"
        },
        {
          "output_type": "stream",
          "text": [
            "Wrote model tarball to /content/drive/MyDrive/Columbia_E4511/resample_CYP2D6_models/resample_delaney_cur_final_model_16f88394-f264-4e40-811f-7e99fd70d799.tar.gz\n",
            "rf_estimators: 24, rf_max_depth: 16, rf_max_features: 256, valid_roc_auc: 0.5829081632653061\n",
            "number of features: 1024\n"
          ],
          "name": "stdout"
        },
        {
          "output_type": "stream",
          "text": [
            "2021-04-27 22:55:21,752 Previous dataset split restored\n",
            "2021-04-27 22:55:22,647 Wrote model metadata to file /content/drive/MyDrive/Columbia_E4511/resample_CYP2D6_models/resample_delaney_cur_final/RF_ecfp_scaffold_classification/ea786cd3-05ed-414c-9253-15b2aaebc4b2/model_metadata.json\n",
            "2021-04-27 22:55:22,666 Wrote model metrics to file /content/drive/MyDrive/Columbia_E4511/resample_CYP2D6_models/resample_delaney_cur_final/RF_ecfp_scaffold_classification/ea786cd3-05ed-414c-9253-15b2aaebc4b2/model_metrics.json\n"
          ],
          "name": "stderr"
        },
        {
          "output_type": "stream",
          "text": [
            "Wrote model tarball to /content/drive/MyDrive/Columbia_E4511/resample_CYP2D6_models/resample_delaney_cur_final_model_ea786cd3-05ed-414c-9253-15b2aaebc4b2.tar.gz\n",
            "rf_estimators: 24, rf_max_depth: 16, rf_max_features: 512, valid_roc_auc: 0.514030612244898\n",
            "number of features: 1024\n"
          ],
          "name": "stdout"
        },
        {
          "output_type": "stream",
          "text": [
            "2021-04-27 22:55:27,819 Previous dataset split restored\n",
            "2021-04-27 22:55:28,732 Wrote model metadata to file /content/drive/MyDrive/Columbia_E4511/resample_CYP2D6_models/resample_delaney_cur_final/RF_ecfp_scaffold_classification/1c61039c-4b9b-47b4-aae2-005919342bdf/model_metadata.json\n",
            "2021-04-27 22:55:28,750 Wrote model metrics to file /content/drive/MyDrive/Columbia_E4511/resample_CYP2D6_models/resample_delaney_cur_final/RF_ecfp_scaffold_classification/1c61039c-4b9b-47b4-aae2-005919342bdf/model_metrics.json\n"
          ],
          "name": "stderr"
        },
        {
          "output_type": "stream",
          "text": [
            "Wrote model tarball to /content/drive/MyDrive/Columbia_E4511/resample_CYP2D6_models/resample_delaney_cur_final_model_1c61039c-4b9b-47b4-aae2-005919342bdf.tar.gz\n",
            "rf_estimators: 24, rf_max_depth: 24, rf_max_features: 256, valid_roc_auc: 0.534438775510204\n",
            "number of features: 1024\n"
          ],
          "name": "stdout"
        },
        {
          "output_type": "stream",
          "text": [
            "2021-04-27 22:55:33,861 Previous dataset split restored\n",
            "2021-04-27 22:55:34,768 Wrote model metadata to file /content/drive/MyDrive/Columbia_E4511/resample_CYP2D6_models/resample_delaney_cur_final/RF_ecfp_scaffold_classification/94347cdd-9980-4e3d-a4d8-37bbeef3b140/model_metadata.json\n",
            "2021-04-27 22:55:34,789 Wrote model metrics to file /content/drive/MyDrive/Columbia_E4511/resample_CYP2D6_models/resample_delaney_cur_final/RF_ecfp_scaffold_classification/94347cdd-9980-4e3d-a4d8-37bbeef3b140/model_metrics.json\n"
          ],
          "name": "stderr"
        },
        {
          "output_type": "stream",
          "text": [
            "Wrote model tarball to /content/drive/MyDrive/Columbia_E4511/resample_CYP2D6_models/resample_delaney_cur_final_model_94347cdd-9980-4e3d-a4d8-37bbeef3b140.tar.gz\n",
            "rf_estimators: 24, rf_max_depth: 24, rf_max_features: 512, valid_roc_auc: 0.5771683673469389\n",
            "number of features: 1024\n"
          ],
          "name": "stdout"
        },
        {
          "output_type": "stream",
          "text": [
            "2021-04-27 22:55:39,992 Previous dataset split restored\n",
            "2021-04-27 22:55:40,887 Wrote model metadata to file /content/drive/MyDrive/Columbia_E4511/resample_CYP2D6_models/resample_delaney_cur_final/RF_ecfp_scaffold_classification/a3329eb3-b6c0-4604-92e8-65b234a4a33a/model_metadata.json\n",
            "2021-04-27 22:55:40,906 Wrote model metrics to file /content/drive/MyDrive/Columbia_E4511/resample_CYP2D6_models/resample_delaney_cur_final/RF_ecfp_scaffold_classification/a3329eb3-b6c0-4604-92e8-65b234a4a33a/model_metrics.json\n"
          ],
          "name": "stderr"
        },
        {
          "output_type": "stream",
          "text": [
            "Wrote model tarball to /content/drive/MyDrive/Columbia_E4511/resample_CYP2D6_models/resample_delaney_cur_final_model_a3329eb3-b6c0-4604-92e8-65b234a4a33a.tar.gz\n",
            "rf_estimators: 24, rf_max_depth: 32, rf_max_features: 256, valid_roc_auc: 0.5806760204081632\n",
            "number of features: 1024\n"
          ],
          "name": "stdout"
        },
        {
          "output_type": "stream",
          "text": [
            "2021-04-27 22:55:46,015 Previous dataset split restored\n",
            "2021-04-27 22:55:47,014 Wrote model metadata to file /content/drive/MyDrive/Columbia_E4511/resample_CYP2D6_models/resample_delaney_cur_final/RF_ecfp_scaffold_classification/648c132f-20c9-4ebd-8596-88e144c38fce/model_metadata.json\n",
            "2021-04-27 22:55:47,083 Wrote model metrics to file /content/drive/MyDrive/Columbia_E4511/resample_CYP2D6_models/resample_delaney_cur_final/RF_ecfp_scaffold_classification/648c132f-20c9-4ebd-8596-88e144c38fce/model_metrics.json\n"
          ],
          "name": "stderr"
        },
        {
          "output_type": "stream",
          "text": [
            "Wrote model tarball to /content/drive/MyDrive/Columbia_E4511/resample_CYP2D6_models/resample_delaney_cur_final_model_648c132f-20c9-4ebd-8596-88e144c38fce.tar.gz\n",
            "rf_estimators: 24, rf_max_depth: 32, rf_max_features: 512, valid_roc_auc: 0.6339285714285715\n",
            "number of features: 1024\n"
          ],
          "name": "stdout"
        },
        {
          "output_type": "stream",
          "text": [
            "2021-04-27 22:55:52,185 Previous dataset split restored\n",
            "2021-04-27 22:55:53,079 Wrote model metadata to file /content/drive/MyDrive/Columbia_E4511/resample_CYP2D6_models/resample_delaney_cur_final/RF_ecfp_scaffold_classification/17c962f7-1845-41f8-b792-872bbf822d49/model_metadata.json\n",
            "2021-04-27 22:55:53,099 Wrote model metrics to file /content/drive/MyDrive/Columbia_E4511/resample_CYP2D6_models/resample_delaney_cur_final/RF_ecfp_scaffold_classification/17c962f7-1845-41f8-b792-872bbf822d49/model_metrics.json\n"
          ],
          "name": "stderr"
        },
        {
          "output_type": "stream",
          "text": [
            "Wrote model tarball to /content/drive/MyDrive/Columbia_E4511/resample_CYP2D6_models/resample_delaney_cur_final_model_17c962f7-1845-41f8-b792-872bbf822d49.tar.gz\n",
            "rf_estimators: 24, rf_max_depth: 64, rf_max_features: 256, valid_roc_auc: 0.6256377551020408\n",
            "number of features: 1024\n"
          ],
          "name": "stdout"
        },
        {
          "output_type": "stream",
          "text": [
            "2021-04-27 22:55:58,179 Previous dataset split restored\n",
            "2021-04-27 22:55:59,081 Wrote model metadata to file /content/drive/MyDrive/Columbia_E4511/resample_CYP2D6_models/resample_delaney_cur_final/RF_ecfp_scaffold_classification/c2745849-ff7d-48cc-9276-9582c394805f/model_metadata.json\n",
            "2021-04-27 22:55:59,103 Wrote model metrics to file /content/drive/MyDrive/Columbia_E4511/resample_CYP2D6_models/resample_delaney_cur_final/RF_ecfp_scaffold_classification/c2745849-ff7d-48cc-9276-9582c394805f/model_metrics.json\n"
          ],
          "name": "stderr"
        },
        {
          "output_type": "stream",
          "text": [
            "Wrote model tarball to /content/drive/MyDrive/Columbia_E4511/resample_CYP2D6_models/resample_delaney_cur_final_model_c2745849-ff7d-48cc-9276-9582c394805f.tar.gz\n",
            "rf_estimators: 24, rf_max_depth: 64, rf_max_features: 512, valid_roc_auc: 0.6396683673469388\n",
            "number of features: 1024\n"
          ],
          "name": "stdout"
        },
        {
          "output_type": "stream",
          "text": [
            "2021-04-27 22:56:04,233 Previous dataset split restored\n",
            "2021-04-27 22:56:05,134 Wrote model metadata to file /content/drive/MyDrive/Columbia_E4511/resample_CYP2D6_models/resample_delaney_cur_final/RF_ecfp_scaffold_classification/ebb26fe2-0995-412a-b4a5-542ec70838f4/model_metadata.json\n",
            "2021-04-27 22:56:05,154 Wrote model metrics to file /content/drive/MyDrive/Columbia_E4511/resample_CYP2D6_models/resample_delaney_cur_final/RF_ecfp_scaffold_classification/ebb26fe2-0995-412a-b4a5-542ec70838f4/model_metrics.json\n"
          ],
          "name": "stderr"
        },
        {
          "output_type": "stream",
          "text": [
            "Wrote model tarball to /content/drive/MyDrive/Columbia_E4511/resample_CYP2D6_models/resample_delaney_cur_final_model_ebb26fe2-0995-412a-b4a5-542ec70838f4.tar.gz\n",
            "rf_estimators: 24, rf_max_depth: 128, rf_max_features: 256, valid_roc_auc: 0.5991709183673469\n",
            "number of features: 1024\n"
          ],
          "name": "stdout"
        },
        {
          "output_type": "stream",
          "text": [
            "2021-04-27 22:56:10,200 Previous dataset split restored\n",
            "2021-04-27 22:56:11,194 Wrote model metadata to file /content/drive/MyDrive/Columbia_E4511/resample_CYP2D6_models/resample_delaney_cur_final/RF_ecfp_scaffold_classification/74c17010-4993-4943-a6b9-df72d76d6072/model_metadata.json\n",
            "2021-04-27 22:56:11,218 Wrote model metrics to file /content/drive/MyDrive/Columbia_E4511/resample_CYP2D6_models/resample_delaney_cur_final/RF_ecfp_scaffold_classification/74c17010-4993-4943-a6b9-df72d76d6072/model_metrics.json\n"
          ],
          "name": "stderr"
        },
        {
          "output_type": "stream",
          "text": [
            "Wrote model tarball to /content/drive/MyDrive/Columbia_E4511/resample_CYP2D6_models/resample_delaney_cur_final_model_74c17010-4993-4943-a6b9-df72d76d6072.tar.gz\n",
            "rf_estimators: 24, rf_max_depth: 128, rf_max_features: 512, valid_roc_auc: 0.5526147959183674\n",
            "number of features: 1024\n"
          ],
          "name": "stdout"
        },
        {
          "output_type": "stream",
          "text": [
            "2021-04-27 22:56:16,326 Previous dataset split restored\n",
            "2021-04-27 22:56:17,238 Wrote model metadata to file /content/drive/MyDrive/Columbia_E4511/resample_CYP2D6_models/resample_delaney_cur_final/RF_ecfp_scaffold_classification/76caa644-a384-4539-b2b4-6cd2e9c669d6/model_metadata.json\n",
            "2021-04-27 22:56:17,259 Wrote model metrics to file /content/drive/MyDrive/Columbia_E4511/resample_CYP2D6_models/resample_delaney_cur_final/RF_ecfp_scaffold_classification/76caa644-a384-4539-b2b4-6cd2e9c669d6/model_metrics.json\n"
          ],
          "name": "stderr"
        },
        {
          "output_type": "stream",
          "text": [
            "Wrote model tarball to /content/drive/MyDrive/Columbia_E4511/resample_CYP2D6_models/resample_delaney_cur_final_model_76caa644-a384-4539-b2b4-6cd2e9c669d6.tar.gz\n",
            "rf_estimators: 24, rf_max_depth: 256, rf_max_features: 256, valid_roc_auc: 0.6106505102040816\n",
            "number of features: 1024\n"
          ],
          "name": "stdout"
        },
        {
          "output_type": "stream",
          "text": [
            "2021-04-27 22:56:22,344 Previous dataset split restored\n",
            "2021-04-27 22:56:23,238 Wrote model metadata to file /content/drive/MyDrive/Columbia_E4511/resample_CYP2D6_models/resample_delaney_cur_final/RF_ecfp_scaffold_classification/b337c66f-07cc-40cb-8f23-37f2559ae619/model_metadata.json\n",
            "2021-04-27 22:56:23,260 Wrote model metrics to file /content/drive/MyDrive/Columbia_E4511/resample_CYP2D6_models/resample_delaney_cur_final/RF_ecfp_scaffold_classification/b337c66f-07cc-40cb-8f23-37f2559ae619/model_metrics.json\n"
          ],
          "name": "stderr"
        },
        {
          "output_type": "stream",
          "text": [
            "Wrote model tarball to /content/drive/MyDrive/Columbia_E4511/resample_CYP2D6_models/resample_delaney_cur_final_model_b337c66f-07cc-40cb-8f23-37f2559ae619.tar.gz\n",
            "rf_estimators: 24, rf_max_depth: 256, rf_max_features: 512, valid_roc_auc: 0.5762117346938775\n",
            "number of features: 1024\n"
          ],
          "name": "stdout"
        },
        {
          "output_type": "stream",
          "text": [
            "2021-04-27 22:56:28,342 Previous dataset split restored\n",
            "2021-04-27 22:56:29,260 Wrote model metadata to file /content/drive/MyDrive/Columbia_E4511/resample_CYP2D6_models/resample_delaney_cur_final/RF_ecfp_scaffold_classification/629073de-3585-49e5-b0b5-40f183779544/model_metadata.json\n",
            "2021-04-27 22:56:29,279 Wrote model metrics to file /content/drive/MyDrive/Columbia_E4511/resample_CYP2D6_models/resample_delaney_cur_final/RF_ecfp_scaffold_classification/629073de-3585-49e5-b0b5-40f183779544/model_metrics.json\n"
          ],
          "name": "stderr"
        },
        {
          "output_type": "stream",
          "text": [
            "Wrote model tarball to /content/drive/MyDrive/Columbia_E4511/resample_CYP2D6_models/resample_delaney_cur_final_model_629073de-3585-49e5-b0b5-40f183779544.tar.gz\n",
            "rf_estimators: 32, rf_max_depth: 16, rf_max_features: 256, valid_roc_auc: 0.5688775510204082\n",
            "number of features: 1024\n"
          ],
          "name": "stdout"
        },
        {
          "output_type": "stream",
          "text": [
            "2021-04-27 22:56:34,363 Previous dataset split restored\n",
            "2021-04-27 22:56:35,380 Wrote model metadata to file /content/drive/MyDrive/Columbia_E4511/resample_CYP2D6_models/resample_delaney_cur_final/RF_ecfp_scaffold_classification/536af56f-0e1c-4480-ac2a-92849d472a8e/model_metadata.json\n",
            "2021-04-27 22:56:35,401 Wrote model metrics to file /content/drive/MyDrive/Columbia_E4511/resample_CYP2D6_models/resample_delaney_cur_final/RF_ecfp_scaffold_classification/536af56f-0e1c-4480-ac2a-92849d472a8e/model_metrics.json\n"
          ],
          "name": "stderr"
        },
        {
          "output_type": "stream",
          "text": [
            "Wrote model tarball to /content/drive/MyDrive/Columbia_E4511/resample_CYP2D6_models/resample_delaney_cur_final_model_536af56f-0e1c-4480-ac2a-92849d472a8e.tar.gz\n",
            "rf_estimators: 32, rf_max_depth: 16, rf_max_features: 512, valid_roc_auc: 0.6186224489795918\n",
            "number of features: 1024\n"
          ],
          "name": "stdout"
        },
        {
          "output_type": "stream",
          "text": [
            "2021-04-27 22:56:40,548 Previous dataset split restored\n",
            "2021-04-27 22:56:41,456 Wrote model metadata to file /content/drive/MyDrive/Columbia_E4511/resample_CYP2D6_models/resample_delaney_cur_final/RF_ecfp_scaffold_classification/1e0b8051-cf8f-4a8b-90f3-007f017d3a40/model_metadata.json\n",
            "2021-04-27 22:56:41,475 Wrote model metrics to file /content/drive/MyDrive/Columbia_E4511/resample_CYP2D6_models/resample_delaney_cur_final/RF_ecfp_scaffold_classification/1e0b8051-cf8f-4a8b-90f3-007f017d3a40/model_metrics.json\n"
          ],
          "name": "stderr"
        },
        {
          "output_type": "stream",
          "text": [
            "Wrote model tarball to /content/drive/MyDrive/Columbia_E4511/resample_CYP2D6_models/resample_delaney_cur_final_model_1e0b8051-cf8f-4a8b-90f3-007f017d3a40.tar.gz\n",
            "rf_estimators: 32, rf_max_depth: 24, rf_max_features: 256, valid_roc_auc: 0.5720663265306123\n",
            "number of features: 1024\n"
          ],
          "name": "stdout"
        },
        {
          "output_type": "stream",
          "text": [
            "2021-04-27 22:56:46,560 Previous dataset split restored\n",
            "2021-04-27 22:56:47,565 Wrote model metadata to file /content/drive/MyDrive/Columbia_E4511/resample_CYP2D6_models/resample_delaney_cur_final/RF_ecfp_scaffold_classification/43189401-c893-4057-8180-e7ec4a928b68/model_metadata.json\n",
            "2021-04-27 22:56:47,606 Wrote model metrics to file /content/drive/MyDrive/Columbia_E4511/resample_CYP2D6_models/resample_delaney_cur_final/RF_ecfp_scaffold_classification/43189401-c893-4057-8180-e7ec4a928b68/model_metrics.json\n"
          ],
          "name": "stderr"
        },
        {
          "output_type": "stream",
          "text": [
            "Wrote model tarball to /content/drive/MyDrive/Columbia_E4511/resample_CYP2D6_models/resample_delaney_cur_final_model_43189401-c893-4057-8180-e7ec4a928b68.tar.gz\n",
            "rf_estimators: 32, rf_max_depth: 24, rf_max_features: 512, valid_roc_auc: 0.59375\n",
            "number of features: 1024\n"
          ],
          "name": "stdout"
        },
        {
          "output_type": "stream",
          "text": [
            "2021-04-27 22:56:52,761 Previous dataset split restored\n",
            "2021-04-27 22:56:53,658 Wrote model metadata to file /content/drive/MyDrive/Columbia_E4511/resample_CYP2D6_models/resample_delaney_cur_final/RF_ecfp_scaffold_classification/d55c4d21-2d0a-4f8e-bcba-ebdd6a448689/model_metadata.json\n",
            "2021-04-27 22:56:53,679 Wrote model metrics to file /content/drive/MyDrive/Columbia_E4511/resample_CYP2D6_models/resample_delaney_cur_final/RF_ecfp_scaffold_classification/d55c4d21-2d0a-4f8e-bcba-ebdd6a448689/model_metrics.json\n"
          ],
          "name": "stderr"
        },
        {
          "output_type": "stream",
          "text": [
            "Wrote model tarball to /content/drive/MyDrive/Columbia_E4511/resample_CYP2D6_models/resample_delaney_cur_final_model_d55c4d21-2d0a-4f8e-bcba-ebdd6a448689.tar.gz\n",
            "rf_estimators: 32, rf_max_depth: 32, rf_max_features: 256, valid_roc_auc: 0.565688775510204\n",
            "number of features: 1024\n"
          ],
          "name": "stdout"
        },
        {
          "output_type": "stream",
          "text": [
            "2021-04-27 22:56:58,802 Previous dataset split restored\n",
            "2021-04-27 22:56:59,793 Wrote model metadata to file /content/drive/MyDrive/Columbia_E4511/resample_CYP2D6_models/resample_delaney_cur_final/RF_ecfp_scaffold_classification/aea63e00-62ec-45da-b2e0-93bdd9c1bf9b/model_metadata.json\n",
            "2021-04-27 22:56:59,815 Wrote model metrics to file /content/drive/MyDrive/Columbia_E4511/resample_CYP2D6_models/resample_delaney_cur_final/RF_ecfp_scaffold_classification/aea63e00-62ec-45da-b2e0-93bdd9c1bf9b/model_metrics.json\n"
          ],
          "name": "stderr"
        },
        {
          "output_type": "stream",
          "text": [
            "Wrote model tarball to /content/drive/MyDrive/Columbia_E4511/resample_CYP2D6_models/resample_delaney_cur_final_model_aea63e00-62ec-45da-b2e0-93bdd9c1bf9b.tar.gz\n",
            "rf_estimators: 32, rf_max_depth: 32, rf_max_features: 512, valid_roc_auc: 0.5982142857142857\n",
            "number of features: 1024\n"
          ],
          "name": "stdout"
        },
        {
          "output_type": "stream",
          "text": [
            "2021-04-27 22:57:04,932 Previous dataset split restored\n",
            "2021-04-27 22:57:05,843 Wrote model metadata to file /content/drive/MyDrive/Columbia_E4511/resample_CYP2D6_models/resample_delaney_cur_final/RF_ecfp_scaffold_classification/5602d1cb-2ece-4e65-8a2c-9ec462a16d98/model_metadata.json\n",
            "2021-04-27 22:57:05,863 Wrote model metrics to file /content/drive/MyDrive/Columbia_E4511/resample_CYP2D6_models/resample_delaney_cur_final/RF_ecfp_scaffold_classification/5602d1cb-2ece-4e65-8a2c-9ec462a16d98/model_metrics.json\n"
          ],
          "name": "stderr"
        },
        {
          "output_type": "stream",
          "text": [
            "Wrote model tarball to /content/drive/MyDrive/Columbia_E4511/resample_CYP2D6_models/resample_delaney_cur_final_model_5602d1cb-2ece-4e65-8a2c-9ec462a16d98.tar.gz\n",
            "rf_estimators: 32, rf_max_depth: 64, rf_max_features: 256, valid_roc_auc: 0.6447704081632653\n",
            "number of features: 1024\n"
          ],
          "name": "stdout"
        },
        {
          "output_type": "stream",
          "text": [
            "2021-04-27 22:57:11,006 Previous dataset split restored\n",
            "2021-04-27 22:57:12,018 Wrote model metadata to file /content/drive/MyDrive/Columbia_E4511/resample_CYP2D6_models/resample_delaney_cur_final/RF_ecfp_scaffold_classification/49ae3d2a-17f8-4ae8-8fc0-c854a7c2a772/model_metadata.json\n",
            "2021-04-27 22:57:12,039 Wrote model metrics to file /content/drive/MyDrive/Columbia_E4511/resample_CYP2D6_models/resample_delaney_cur_final/RF_ecfp_scaffold_classification/49ae3d2a-17f8-4ae8-8fc0-c854a7c2a772/model_metrics.json\n"
          ],
          "name": "stderr"
        },
        {
          "output_type": "stream",
          "text": [
            "Wrote model tarball to /content/drive/MyDrive/Columbia_E4511/resample_CYP2D6_models/resample_delaney_cur_final_model_49ae3d2a-17f8-4ae8-8fc0-c854a7c2a772.tar.gz\n",
            "rf_estimators: 32, rf_max_depth: 64, rf_max_features: 512, valid_roc_auc: 0.5475127551020408\n",
            "number of features: 1024\n"
          ],
          "name": "stdout"
        },
        {
          "output_type": "stream",
          "text": [
            "2021-04-27 22:57:17,164 Previous dataset split restored\n",
            "2021-04-27 22:57:18,067 Wrote model metadata to file /content/drive/MyDrive/Columbia_E4511/resample_CYP2D6_models/resample_delaney_cur_final/RF_ecfp_scaffold_classification/dc266513-13de-4b5e-8189-0ad99b01dd0a/model_metadata.json\n",
            "2021-04-27 22:57:18,090 Wrote model metrics to file /content/drive/MyDrive/Columbia_E4511/resample_CYP2D6_models/resample_delaney_cur_final/RF_ecfp_scaffold_classification/dc266513-13de-4b5e-8189-0ad99b01dd0a/model_metrics.json\n"
          ],
          "name": "stderr"
        },
        {
          "output_type": "stream",
          "text": [
            "Wrote model tarball to /content/drive/MyDrive/Columbia_E4511/resample_CYP2D6_models/resample_delaney_cur_final_model_dc266513-13de-4b5e-8189-0ad99b01dd0a.tar.gz\n",
            "rf_estimators: 32, rf_max_depth: 128, rf_max_features: 256, valid_roc_auc: 0.6100127551020408\n",
            "number of features: 1024\n"
          ],
          "name": "stdout"
        },
        {
          "output_type": "stream",
          "text": [
            "2021-04-27 22:57:23,169 Previous dataset split restored\n",
            "2021-04-27 22:57:24,174 Wrote model metadata to file /content/drive/MyDrive/Columbia_E4511/resample_CYP2D6_models/resample_delaney_cur_final/RF_ecfp_scaffold_classification/00779f6d-690f-45ae-b9ec-1af6564da4f3/model_metadata.json\n",
            "2021-04-27 22:57:24,195 Wrote model metrics to file /content/drive/MyDrive/Columbia_E4511/resample_CYP2D6_models/resample_delaney_cur_final/RF_ecfp_scaffold_classification/00779f6d-690f-45ae-b9ec-1af6564da4f3/model_metrics.json\n"
          ],
          "name": "stderr"
        },
        {
          "output_type": "stream",
          "text": [
            "Wrote model tarball to /content/drive/MyDrive/Columbia_E4511/resample_CYP2D6_models/resample_delaney_cur_final_model_00779f6d-690f-45ae-b9ec-1af6564da4f3.tar.gz\n",
            "rf_estimators: 32, rf_max_depth: 128, rf_max_features: 512, valid_roc_auc: 0.590561224489796\n",
            "number of features: 1024\n"
          ],
          "name": "stdout"
        },
        {
          "output_type": "stream",
          "text": [
            "2021-04-27 22:57:29,305 Previous dataset split restored\n",
            "2021-04-27 22:57:30,254 Wrote model metadata to file /content/drive/MyDrive/Columbia_E4511/resample_CYP2D6_models/resample_delaney_cur_final/RF_ecfp_scaffold_classification/8b1fabb2-2a23-491d-a53b-6e6b52cc1008/model_metadata.json\n",
            "2021-04-27 22:57:30,275 Wrote model metrics to file /content/drive/MyDrive/Columbia_E4511/resample_CYP2D6_models/resample_delaney_cur_final/RF_ecfp_scaffold_classification/8b1fabb2-2a23-491d-a53b-6e6b52cc1008/model_metrics.json\n"
          ],
          "name": "stderr"
        },
        {
          "output_type": "stream",
          "text": [
            "Wrote model tarball to /content/drive/MyDrive/Columbia_E4511/resample_CYP2D6_models/resample_delaney_cur_final_model_8b1fabb2-2a23-491d-a53b-6e6b52cc1008.tar.gz\n",
            "rf_estimators: 32, rf_max_depth: 256, rf_max_features: 256, valid_roc_auc: 0.5902423469387755\n",
            "number of features: 1024\n"
          ],
          "name": "stdout"
        },
        {
          "output_type": "stream",
          "text": [
            "2021-04-27 22:57:35,364 Previous dataset split restored\n",
            "2021-04-27 22:57:36,375 Wrote model metadata to file /content/drive/MyDrive/Columbia_E4511/resample_CYP2D6_models/resample_delaney_cur_final/RF_ecfp_scaffold_classification/365ffe16-8d23-4928-9f13-3d96e7720d4c/model_metadata.json\n",
            "2021-04-27 22:57:36,403 Wrote model metrics to file /content/drive/MyDrive/Columbia_E4511/resample_CYP2D6_models/resample_delaney_cur_final/RF_ecfp_scaffold_classification/365ffe16-8d23-4928-9f13-3d96e7720d4c/model_metrics.json\n"
          ],
          "name": "stderr"
        },
        {
          "output_type": "stream",
          "text": [
            "Wrote model tarball to /content/drive/MyDrive/Columbia_E4511/resample_CYP2D6_models/resample_delaney_cur_final_model_365ffe16-8d23-4928-9f13-3d96e7720d4c.tar.gz\n",
            "rf_estimators: 32, rf_max_depth: 256, rf_max_features: 512, valid_roc_auc: 0.5714285714285715\n",
            "number of features: 1024\n"
          ],
          "name": "stdout"
        },
        {
          "output_type": "stream",
          "text": [
            "2021-04-27 22:57:41,550 Previous dataset split restored\n",
            "2021-04-27 22:57:42,587 Wrote model metadata to file /content/drive/MyDrive/Columbia_E4511/resample_CYP2D6_models/resample_delaney_cur_final/RF_ecfp_scaffold_classification/04df13b7-e2bd-4a04-af1f-c2a7b80a3bff/model_metadata.json\n",
            "2021-04-27 22:57:42,617 Wrote model metrics to file /content/drive/MyDrive/Columbia_E4511/resample_CYP2D6_models/resample_delaney_cur_final/RF_ecfp_scaffold_classification/04df13b7-e2bd-4a04-af1f-c2a7b80a3bff/model_metrics.json\n"
          ],
          "name": "stderr"
        },
        {
          "output_type": "stream",
          "text": [
            "Wrote model tarball to /content/drive/MyDrive/Columbia_E4511/resample_CYP2D6_models/resample_delaney_cur_final_model_04df13b7-e2bd-4a04-af1f-c2a7b80a3bff.tar.gz\n",
            "rf_estimators: 64, rf_max_depth: 16, rf_max_features: 256, valid_roc_auc: 0.5612244897959183\n",
            "number of features: 1024\n"
          ],
          "name": "stdout"
        },
        {
          "output_type": "stream",
          "text": [
            "2021-04-27 22:57:47,729 Previous dataset split restored\n",
            "2021-04-27 22:57:48,987 Wrote model metadata to file /content/drive/MyDrive/Columbia_E4511/resample_CYP2D6_models/resample_delaney_cur_final/RF_ecfp_scaffold_classification/0a7d0591-fb5a-44aa-b162-a2e70570568b/model_metadata.json\n",
            "2021-04-27 22:57:49,011 Wrote model metrics to file /content/drive/MyDrive/Columbia_E4511/resample_CYP2D6_models/resample_delaney_cur_final/RF_ecfp_scaffold_classification/0a7d0591-fb5a-44aa-b162-a2e70570568b/model_metrics.json\n"
          ],
          "name": "stderr"
        },
        {
          "output_type": "stream",
          "text": [
            "Wrote model tarball to /content/drive/MyDrive/Columbia_E4511/resample_CYP2D6_models/resample_delaney_cur_final_model_0a7d0591-fb5a-44aa-b162-a2e70570568b.tar.gz\n",
            "rf_estimators: 64, rf_max_depth: 16, rf_max_features: 512, valid_roc_auc: 0.5465561224489796\n",
            "number of features: 1024\n"
          ],
          "name": "stdout"
        },
        {
          "output_type": "stream",
          "text": [
            "2021-04-27 22:57:54,081 Previous dataset split restored\n",
            "2021-04-27 22:57:55,225 Wrote model metadata to file /content/drive/MyDrive/Columbia_E4511/resample_CYP2D6_models/resample_delaney_cur_final/RF_ecfp_scaffold_classification/6d04fbdc-72ec-48f6-8610-a06952b60c6d/model_metadata.json\n",
            "2021-04-27 22:57:55,252 Wrote model metrics to file /content/drive/MyDrive/Columbia_E4511/resample_CYP2D6_models/resample_delaney_cur_final/RF_ecfp_scaffold_classification/6d04fbdc-72ec-48f6-8610-a06952b60c6d/model_metrics.json\n"
          ],
          "name": "stderr"
        },
        {
          "output_type": "stream",
          "text": [
            "Wrote model tarball to /content/drive/MyDrive/Columbia_E4511/resample_CYP2D6_models/resample_delaney_cur_final_model_6d04fbdc-72ec-48f6-8610-a06952b60c6d.tar.gz\n",
            "rf_estimators: 64, rf_max_depth: 24, rf_max_features: 256, valid_roc_auc: 0.5676020408163265\n",
            "number of features: 1024\n"
          ],
          "name": "stdout"
        },
        {
          "output_type": "stream",
          "text": [
            "2021-04-27 22:58:00,560 Previous dataset split restored\n",
            "2021-04-27 22:58:01,899 Wrote model metadata to file /content/drive/MyDrive/Columbia_E4511/resample_CYP2D6_models/resample_delaney_cur_final/RF_ecfp_scaffold_classification/55d4e647-41ca-4d1f-92b9-fe12677b0eca/model_metadata.json\n",
            "2021-04-27 22:58:01,926 Wrote model metrics to file /content/drive/MyDrive/Columbia_E4511/resample_CYP2D6_models/resample_delaney_cur_final/RF_ecfp_scaffold_classification/55d4e647-41ca-4d1f-92b9-fe12677b0eca/model_metrics.json\n"
          ],
          "name": "stderr"
        },
        {
          "output_type": "stream",
          "text": [
            "Wrote model tarball to /content/drive/MyDrive/Columbia_E4511/resample_CYP2D6_models/resample_delaney_cur_final_model_55d4e647-41ca-4d1f-92b9-fe12677b0eca.tar.gz\n",
            "rf_estimators: 64, rf_max_depth: 24, rf_max_features: 512, valid_roc_auc: 0.5752551020408163\n",
            "number of features: 1024\n"
          ],
          "name": "stdout"
        },
        {
          "output_type": "stream",
          "text": [
            "2021-04-27 22:58:07,092 Previous dataset split restored\n",
            "2021-04-27 22:58:08,258 Wrote model metadata to file /content/drive/MyDrive/Columbia_E4511/resample_CYP2D6_models/resample_delaney_cur_final/RF_ecfp_scaffold_classification/c1fe141c-7750-4e52-a8a6-22e67378c95c/model_metadata.json\n",
            "2021-04-27 22:58:08,301 Wrote model metrics to file /content/drive/MyDrive/Columbia_E4511/resample_CYP2D6_models/resample_delaney_cur_final/RF_ecfp_scaffold_classification/c1fe141c-7750-4e52-a8a6-22e67378c95c/model_metrics.json\n"
          ],
          "name": "stderr"
        },
        {
          "output_type": "stream",
          "text": [
            "Wrote model tarball to /content/drive/MyDrive/Columbia_E4511/resample_CYP2D6_models/resample_delaney_cur_final_model_c1fe141c-7750-4e52-a8a6-22e67378c95c.tar.gz\n",
            "rf_estimators: 64, rf_max_depth: 32, rf_max_features: 256, valid_roc_auc: 0.5669642857142857\n",
            "number of features: 1024\n"
          ],
          "name": "stdout"
        },
        {
          "output_type": "stream",
          "text": [
            "2021-04-27 22:58:13,471 Previous dataset split restored\n",
            "2021-04-27 22:58:14,816 Wrote model metadata to file /content/drive/MyDrive/Columbia_E4511/resample_CYP2D6_models/resample_delaney_cur_final/RF_ecfp_scaffold_classification/2609a16f-ea83-4412-a8ff-18914ee05e3d/model_metadata.json\n",
            "2021-04-27 22:58:14,839 Wrote model metrics to file /content/drive/MyDrive/Columbia_E4511/resample_CYP2D6_models/resample_delaney_cur_final/RF_ecfp_scaffold_classification/2609a16f-ea83-4412-a8ff-18914ee05e3d/model_metrics.json\n"
          ],
          "name": "stderr"
        },
        {
          "output_type": "stream",
          "text": [
            "Wrote model tarball to /content/drive/MyDrive/Columbia_E4511/resample_CYP2D6_models/resample_delaney_cur_final_model_2609a16f-ea83-4412-a8ff-18914ee05e3d.tar.gz\n",
            "rf_estimators: 64, rf_max_depth: 32, rf_max_features: 512, valid_roc_auc: 0.6377551020408163\n",
            "number of features: 1024\n"
          ],
          "name": "stdout"
        },
        {
          "output_type": "stream",
          "text": [
            "2021-04-27 22:58:19,983 Previous dataset split restored\n",
            "2021-04-27 22:58:21,126 Wrote model metadata to file /content/drive/MyDrive/Columbia_E4511/resample_CYP2D6_models/resample_delaney_cur_final/RF_ecfp_scaffold_classification/25fcf088-cd12-479f-9710-aec0646f7e0e/model_metadata.json\n",
            "2021-04-27 22:58:21,155 Wrote model metrics to file /content/drive/MyDrive/Columbia_E4511/resample_CYP2D6_models/resample_delaney_cur_final/RF_ecfp_scaffold_classification/25fcf088-cd12-479f-9710-aec0646f7e0e/model_metrics.json\n"
          ],
          "name": "stderr"
        },
        {
          "output_type": "stream",
          "text": [
            "Wrote model tarball to /content/drive/MyDrive/Columbia_E4511/resample_CYP2D6_models/resample_delaney_cur_final_model_25fcf088-cd12-479f-9710-aec0646f7e0e.tar.gz\n",
            "rf_estimators: 64, rf_max_depth: 64, rf_max_features: 256, valid_roc_auc: 0.5462372448979591\n",
            "number of features: 1024\n"
          ],
          "name": "stdout"
        },
        {
          "output_type": "stream",
          "text": [
            "2021-04-27 22:58:26,262 Previous dataset split restored\n",
            "2021-04-27 22:58:27,617 Wrote model metadata to file /content/drive/MyDrive/Columbia_E4511/resample_CYP2D6_models/resample_delaney_cur_final/RF_ecfp_scaffold_classification/2f446af1-3925-445e-812c-0831f1a8d595/model_metadata.json\n",
            "2021-04-27 22:58:27,643 Wrote model metrics to file /content/drive/MyDrive/Columbia_E4511/resample_CYP2D6_models/resample_delaney_cur_final/RF_ecfp_scaffold_classification/2f446af1-3925-445e-812c-0831f1a8d595/model_metrics.json\n"
          ],
          "name": "stderr"
        },
        {
          "output_type": "stream",
          "text": [
            "Wrote model tarball to /content/drive/MyDrive/Columbia_E4511/resample_CYP2D6_models/resample_delaney_cur_final_model_2f446af1-3925-445e-812c-0831f1a8d595.tar.gz\n",
            "rf_estimators: 64, rf_max_depth: 64, rf_max_features: 512, valid_roc_auc: 0.6409438775510204\n",
            "number of features: 1024\n"
          ],
          "name": "stdout"
        },
        {
          "output_type": "stream",
          "text": [
            "2021-04-27 22:58:32,946 Previous dataset split restored\n",
            "2021-04-27 22:58:34,110 Wrote model metadata to file /content/drive/MyDrive/Columbia_E4511/resample_CYP2D6_models/resample_delaney_cur_final/RF_ecfp_scaffold_classification/ad286659-f5af-40ab-86a2-6060b5dba512/model_metadata.json\n",
            "2021-04-27 22:58:34,134 Wrote model metrics to file /content/drive/MyDrive/Columbia_E4511/resample_CYP2D6_models/resample_delaney_cur_final/RF_ecfp_scaffold_classification/ad286659-f5af-40ab-86a2-6060b5dba512/model_metrics.json\n"
          ],
          "name": "stderr"
        },
        {
          "output_type": "stream",
          "text": [
            "Wrote model tarball to /content/drive/MyDrive/Columbia_E4511/resample_CYP2D6_models/resample_delaney_cur_final_model_ad286659-f5af-40ab-86a2-6060b5dba512.tar.gz\n",
            "rf_estimators: 64, rf_max_depth: 128, rf_max_features: 256, valid_roc_auc: 0.6001275510204082\n",
            "number of features: 1024\n"
          ],
          "name": "stdout"
        },
        {
          "output_type": "stream",
          "text": [
            "2021-04-27 22:58:39,396 Previous dataset split restored\n",
            "2021-04-27 22:58:40,771 Wrote model metadata to file /content/drive/MyDrive/Columbia_E4511/resample_CYP2D6_models/resample_delaney_cur_final/RF_ecfp_scaffold_classification/c865b418-a076-4d94-8a1b-78e51168c928/model_metadata.json\n",
            "2021-04-27 22:58:40,801 Wrote model metrics to file /content/drive/MyDrive/Columbia_E4511/resample_CYP2D6_models/resample_delaney_cur_final/RF_ecfp_scaffold_classification/c865b418-a076-4d94-8a1b-78e51168c928/model_metrics.json\n"
          ],
          "name": "stderr"
        },
        {
          "output_type": "stream",
          "text": [
            "Wrote model tarball to /content/drive/MyDrive/Columbia_E4511/resample_CYP2D6_models/resample_delaney_cur_final_model_c865b418-a076-4d94-8a1b-78e51168c928.tar.gz\n",
            "rf_estimators: 64, rf_max_depth: 128, rf_max_features: 512, valid_roc_auc: 0.6176658163265306\n",
            "number of features: 1024\n"
          ],
          "name": "stdout"
        },
        {
          "output_type": "stream",
          "text": [
            "2021-04-27 22:58:46,038 Previous dataset split restored\n",
            "2021-04-27 22:58:47,183 Wrote model metadata to file /content/drive/MyDrive/Columbia_E4511/resample_CYP2D6_models/resample_delaney_cur_final/RF_ecfp_scaffold_classification/1064bf95-9e12-4895-93a4-c33e4cadf815/model_metadata.json\n",
            "2021-04-27 22:58:47,208 Wrote model metrics to file /content/drive/MyDrive/Columbia_E4511/resample_CYP2D6_models/resample_delaney_cur_final/RF_ecfp_scaffold_classification/1064bf95-9e12-4895-93a4-c33e4cadf815/model_metrics.json\n"
          ],
          "name": "stderr"
        },
        {
          "output_type": "stream",
          "text": [
            "Wrote model tarball to /content/drive/MyDrive/Columbia_E4511/resample_CYP2D6_models/resample_delaney_cur_final_model_1064bf95-9e12-4895-93a4-c33e4cadf815.tar.gz\n",
            "rf_estimators: 64, rf_max_depth: 256, rf_max_features: 256, valid_roc_auc: 0.6183035714285715\n",
            "number of features: 1024\n"
          ],
          "name": "stdout"
        },
        {
          "output_type": "stream",
          "text": [
            "2021-04-27 22:58:52,398 Previous dataset split restored\n",
            "2021-04-27 22:58:53,791 Wrote model metadata to file /content/drive/MyDrive/Columbia_E4511/resample_CYP2D6_models/resample_delaney_cur_final/RF_ecfp_scaffold_classification/1c1aa964-3454-4f13-b50c-b8a6a055992d/model_metadata.json\n",
            "2021-04-27 22:58:53,818 Wrote model metrics to file /content/drive/MyDrive/Columbia_E4511/resample_CYP2D6_models/resample_delaney_cur_final/RF_ecfp_scaffold_classification/1c1aa964-3454-4f13-b50c-b8a6a055992d/model_metrics.json\n"
          ],
          "name": "stderr"
        },
        {
          "output_type": "stream",
          "text": [
            "Wrote model tarball to /content/drive/MyDrive/Columbia_E4511/resample_CYP2D6_models/resample_delaney_cur_final_model_1c1aa964-3454-4f13-b50c-b8a6a055992d.tar.gz\n",
            "rf_estimators: 64, rf_max_depth: 256, rf_max_features: 512, valid_roc_auc: 0.5752551020408164\n",
            "number of features: 1024\n"
          ],
          "name": "stdout"
        },
        {
          "output_type": "stream",
          "text": [
            "2021-04-27 22:58:59,082 Previous dataset split restored\n",
            "2021-04-27 22:59:00,540 Wrote model metadata to file /content/drive/MyDrive/Columbia_E4511/resample_CYP2D6_models/resample_delaney_cur_final/RF_ecfp_scaffold_classification/510de14e-fdc0-4b7a-9d4b-c0fd5f678212/model_metadata.json\n",
            "2021-04-27 22:59:00,570 Wrote model metrics to file /content/drive/MyDrive/Columbia_E4511/resample_CYP2D6_models/resample_delaney_cur_final/RF_ecfp_scaffold_classification/510de14e-fdc0-4b7a-9d4b-c0fd5f678212/model_metrics.json\n"
          ],
          "name": "stderr"
        },
        {
          "output_type": "stream",
          "text": [
            "Wrote model tarball to /content/drive/MyDrive/Columbia_E4511/resample_CYP2D6_models/resample_delaney_cur_final_model_510de14e-fdc0-4b7a-9d4b-c0fd5f678212.tar.gz\n",
            "rf_estimators: 128, rf_max_depth: 16, rf_max_features: 256, valid_roc_auc: 0.5752551020408163\n",
            "number of features: 1024\n"
          ],
          "name": "stdout"
        },
        {
          "output_type": "stream",
          "text": [
            "2021-04-27 22:59:05,785 Previous dataset split restored\n",
            "2021-04-27 22:59:07,519 Wrote model metadata to file /content/drive/MyDrive/Columbia_E4511/resample_CYP2D6_models/resample_delaney_cur_final/RF_ecfp_scaffold_classification/1eab3217-c4ad-4c89-9857-0db3b6b54c74/model_metadata.json\n",
            "2021-04-27 22:59:07,550 Wrote model metrics to file /content/drive/MyDrive/Columbia_E4511/resample_CYP2D6_models/resample_delaney_cur_final/RF_ecfp_scaffold_classification/1eab3217-c4ad-4c89-9857-0db3b6b54c74/model_metrics.json\n"
          ],
          "name": "stderr"
        },
        {
          "output_type": "stream",
          "text": [
            "Wrote model tarball to /content/drive/MyDrive/Columbia_E4511/resample_CYP2D6_models/resample_delaney_cur_final_model_1eab3217-c4ad-4c89-9857-0db3b6b54c74.tar.gz\n",
            "rf_estimators: 128, rf_max_depth: 16, rf_max_features: 512, valid_roc_auc: 0.5701530612244897\n",
            "number of features: 1024\n"
          ],
          "name": "stdout"
        },
        {
          "output_type": "stream",
          "text": [
            "2021-04-27 22:59:12,807 Previous dataset split restored\n",
            "2021-04-27 22:59:14,362 Wrote model metadata to file /content/drive/MyDrive/Columbia_E4511/resample_CYP2D6_models/resample_delaney_cur_final/RF_ecfp_scaffold_classification/50be94f9-002c-4f51-a4ac-ec12c7195f8d/model_metadata.json\n",
            "2021-04-27 22:59:14,396 Wrote model metrics to file /content/drive/MyDrive/Columbia_E4511/resample_CYP2D6_models/resample_delaney_cur_final/RF_ecfp_scaffold_classification/50be94f9-002c-4f51-a4ac-ec12c7195f8d/model_metrics.json\n"
          ],
          "name": "stderr"
        },
        {
          "output_type": "stream",
          "text": [
            "Wrote model tarball to /content/drive/MyDrive/Columbia_E4511/resample_CYP2D6_models/resample_delaney_cur_final_model_50be94f9-002c-4f51-a4ac-ec12c7195f8d.tar.gz\n",
            "rf_estimators: 128, rf_max_depth: 24, rf_max_features: 256, valid_roc_auc: 0.5867346938775511\n",
            "number of features: 1024\n"
          ],
          "name": "stdout"
        },
        {
          "output_type": "stream",
          "text": [
            "2021-04-27 22:59:19,571 Previous dataset split restored\n",
            "2021-04-27 22:59:21,405 Wrote model metadata to file /content/drive/MyDrive/Columbia_E4511/resample_CYP2D6_models/resample_delaney_cur_final/RF_ecfp_scaffold_classification/51461099-c02e-42b1-a084-9ed6e2e38e25/model_metadata.json\n",
            "2021-04-27 22:59:21,437 Wrote model metrics to file /content/drive/MyDrive/Columbia_E4511/resample_CYP2D6_models/resample_delaney_cur_final/RF_ecfp_scaffold_classification/51461099-c02e-42b1-a084-9ed6e2e38e25/model_metrics.json\n"
          ],
          "name": "stderr"
        },
        {
          "output_type": "stream",
          "text": [
            "Wrote model tarball to /content/drive/MyDrive/Columbia_E4511/resample_CYP2D6_models/resample_delaney_cur_final_model_51461099-c02e-42b1-a084-9ed6e2e38e25.tar.gz\n",
            "rf_estimators: 128, rf_max_depth: 24, rf_max_features: 512, valid_roc_auc: 0.5943877551020409\n",
            "number of features: 1024\n"
          ],
          "name": "stdout"
        },
        {
          "output_type": "stream",
          "text": [
            "2021-04-27 22:59:26,670 Previous dataset split restored\n",
            "2021-04-27 22:59:28,207 Wrote model metadata to file /content/drive/MyDrive/Columbia_E4511/resample_CYP2D6_models/resample_delaney_cur_final/RF_ecfp_scaffold_classification/1748b50a-6af9-42a4-a645-bb7b088f3673/model_metadata.json\n",
            "2021-04-27 22:59:28,238 Wrote model metrics to file /content/drive/MyDrive/Columbia_E4511/resample_CYP2D6_models/resample_delaney_cur_final/RF_ecfp_scaffold_classification/1748b50a-6af9-42a4-a645-bb7b088f3673/model_metrics.json\n"
          ],
          "name": "stderr"
        },
        {
          "output_type": "stream",
          "text": [
            "Wrote model tarball to /content/drive/MyDrive/Columbia_E4511/resample_CYP2D6_models/resample_delaney_cur_final_model_1748b50a-6af9-42a4-a645-bb7b088f3673.tar.gz\n",
            "rf_estimators: 128, rf_max_depth: 32, rf_max_features: 256, valid_roc_auc: 0.5963010204081631\n",
            "number of features: 1024\n"
          ],
          "name": "stdout"
        },
        {
          "output_type": "stream",
          "text": [
            "2021-04-27 22:59:33,338 Previous dataset split restored\n",
            "2021-04-27 22:59:35,256 Wrote model metadata to file /content/drive/MyDrive/Columbia_E4511/resample_CYP2D6_models/resample_delaney_cur_final/RF_ecfp_scaffold_classification/9315e2cb-2531-41fb-b986-04ac40cf8304/model_metadata.json\n",
            "2021-04-27 22:59:35,315 Wrote model metrics to file /content/drive/MyDrive/Columbia_E4511/resample_CYP2D6_models/resample_delaney_cur_final/RF_ecfp_scaffold_classification/9315e2cb-2531-41fb-b986-04ac40cf8304/model_metrics.json\n"
          ],
          "name": "stderr"
        },
        {
          "output_type": "stream",
          "text": [
            "Wrote model tarball to /content/drive/MyDrive/Columbia_E4511/resample_CYP2D6_models/resample_delaney_cur_final_model_9315e2cb-2531-41fb-b986-04ac40cf8304.tar.gz\n",
            "rf_estimators: 128, rf_max_depth: 32, rf_max_features: 512, valid_roc_auc: 0.5733418367346939\n",
            "number of features: 1024\n"
          ],
          "name": "stdout"
        },
        {
          "output_type": "stream",
          "text": [
            "2021-04-27 22:59:40,505 Previous dataset split restored\n",
            "2021-04-27 22:59:42,019 Wrote model metadata to file /content/drive/MyDrive/Columbia_E4511/resample_CYP2D6_models/resample_delaney_cur_final/RF_ecfp_scaffold_classification/6c367180-907f-4333-abf6-56255750cbe1/model_metadata.json\n",
            "2021-04-27 22:59:42,054 Wrote model metrics to file /content/drive/MyDrive/Columbia_E4511/resample_CYP2D6_models/resample_delaney_cur_final/RF_ecfp_scaffold_classification/6c367180-907f-4333-abf6-56255750cbe1/model_metrics.json\n"
          ],
          "name": "stderr"
        },
        {
          "output_type": "stream",
          "text": [
            "Wrote model tarball to /content/drive/MyDrive/Columbia_E4511/resample_CYP2D6_models/resample_delaney_cur_final_model_6c367180-907f-4333-abf6-56255750cbe1.tar.gz\n",
            "rf_estimators: 128, rf_max_depth: 64, rf_max_features: 256, valid_roc_auc: 0.6026785714285714\n",
            "number of features: 1024\n"
          ],
          "name": "stdout"
        },
        {
          "output_type": "stream",
          "text": [
            "2021-04-27 22:59:47,143 Previous dataset split restored\n",
            "2021-04-27 22:59:49,093 Wrote model metadata to file /content/drive/MyDrive/Columbia_E4511/resample_CYP2D6_models/resample_delaney_cur_final/RF_ecfp_scaffold_classification/f0c32698-8a48-4164-b3a8-92597ec9a98e/model_metadata.json\n",
            "2021-04-27 22:59:49,124 Wrote model metrics to file /content/drive/MyDrive/Columbia_E4511/resample_CYP2D6_models/resample_delaney_cur_final/RF_ecfp_scaffold_classification/f0c32698-8a48-4164-b3a8-92597ec9a98e/model_metrics.json\n"
          ],
          "name": "stderr"
        },
        {
          "output_type": "stream",
          "text": [
            "Wrote model tarball to /content/drive/MyDrive/Columbia_E4511/resample_CYP2D6_models/resample_delaney_cur_final_model_f0c32698-8a48-4164-b3a8-92597ec9a98e.tar.gz\n",
            "rf_estimators: 128, rf_max_depth: 64, rf_max_features: 512, valid_roc_auc: 0.5720663265306123\n",
            "number of features: 1024\n"
          ],
          "name": "stdout"
        },
        {
          "output_type": "stream",
          "text": [
            "2021-04-27 22:59:54,186 Previous dataset split restored\n",
            "2021-04-27 22:59:55,732 Wrote model metadata to file /content/drive/MyDrive/Columbia_E4511/resample_CYP2D6_models/resample_delaney_cur_final/RF_ecfp_scaffold_classification/03889ae4-d800-4a9a-ba10-1b66b7c0e16a/model_metadata.json\n",
            "2021-04-27 22:59:55,788 Wrote model metrics to file /content/drive/MyDrive/Columbia_E4511/resample_CYP2D6_models/resample_delaney_cur_final/RF_ecfp_scaffold_classification/03889ae4-d800-4a9a-ba10-1b66b7c0e16a/model_metrics.json\n"
          ],
          "name": "stderr"
        },
        {
          "output_type": "stream",
          "text": [
            "Wrote model tarball to /content/drive/MyDrive/Columbia_E4511/resample_CYP2D6_models/resample_delaney_cur_final_model_03889ae4-d800-4a9a-ba10-1b66b7c0e16a.tar.gz\n",
            "rf_estimators: 128, rf_max_depth: 128, rf_max_features: 256, valid_roc_auc: 0.5790816326530612\n",
            "number of features: 1024\n"
          ],
          "name": "stdout"
        },
        {
          "output_type": "stream",
          "text": [
            "2021-04-27 23:00:00,963 Previous dataset split restored\n",
            "2021-04-27 23:00:02,872 Wrote model metadata to file /content/drive/MyDrive/Columbia_E4511/resample_CYP2D6_models/resample_delaney_cur_final/RF_ecfp_scaffold_classification/616aa7f0-fbee-423c-be85-67ee14f00bc9/model_metadata.json\n",
            "2021-04-27 23:00:02,904 Wrote model metrics to file /content/drive/MyDrive/Columbia_E4511/resample_CYP2D6_models/resample_delaney_cur_final/RF_ecfp_scaffold_classification/616aa7f0-fbee-423c-be85-67ee14f00bc9/model_metrics.json\n"
          ],
          "name": "stderr"
        },
        {
          "output_type": "stream",
          "text": [
            "Wrote model tarball to /content/drive/MyDrive/Columbia_E4511/resample_CYP2D6_models/resample_delaney_cur_final_model_616aa7f0-fbee-423c-be85-67ee14f00bc9.tar.gz\n",
            "rf_estimators: 128, rf_max_depth: 128, rf_max_features: 512, valid_roc_auc: 0.5838647959183674\n",
            "number of features: 1024\n"
          ],
          "name": "stdout"
        },
        {
          "output_type": "stream",
          "text": [
            "2021-04-27 23:00:08,031 Previous dataset split restored\n",
            "2021-04-27 23:00:09,554 Wrote model metadata to file /content/drive/MyDrive/Columbia_E4511/resample_CYP2D6_models/resample_delaney_cur_final/RF_ecfp_scaffold_classification/546a4ada-3899-44ab-add8-4fa52f6be4e0/model_metadata.json\n",
            "2021-04-27 23:00:09,586 Wrote model metrics to file /content/drive/MyDrive/Columbia_E4511/resample_CYP2D6_models/resample_delaney_cur_final/RF_ecfp_scaffold_classification/546a4ada-3899-44ab-add8-4fa52f6be4e0/model_metrics.json\n"
          ],
          "name": "stderr"
        },
        {
          "output_type": "stream",
          "text": [
            "Wrote model tarball to /content/drive/MyDrive/Columbia_E4511/resample_CYP2D6_models/resample_delaney_cur_final_model_546a4ada-3899-44ab-add8-4fa52f6be4e0.tar.gz\n",
            "rf_estimators: 128, rf_max_depth: 256, rf_max_features: 256, valid_roc_auc: 0.6132015306122449\n",
            "number of features: 1024\n"
          ],
          "name": "stdout"
        },
        {
          "output_type": "stream",
          "text": [
            "2021-04-27 23:00:14,729 Previous dataset split restored\n",
            "2021-04-27 23:00:16,667 Wrote model metadata to file /content/drive/MyDrive/Columbia_E4511/resample_CYP2D6_models/resample_delaney_cur_final/RF_ecfp_scaffold_classification/57b94aaa-46f8-48a9-a588-3b10c7371ea8/model_metadata.json\n",
            "2021-04-27 23:00:16,716 Wrote model metrics to file /content/drive/MyDrive/Columbia_E4511/resample_CYP2D6_models/resample_delaney_cur_final/RF_ecfp_scaffold_classification/57b94aaa-46f8-48a9-a588-3b10c7371ea8/model_metrics.json\n"
          ],
          "name": "stderr"
        },
        {
          "output_type": "stream",
          "text": [
            "Wrote model tarball to /content/drive/MyDrive/Columbia_E4511/resample_CYP2D6_models/resample_delaney_cur_final_model_57b94aaa-46f8-48a9-a588-3b10c7371ea8.tar.gz\n",
            "rf_estimators: 128, rf_max_depth: 256, rf_max_features: 512, valid_roc_auc: 0.579719387755102\n",
            "number of features: 1024\n"
          ],
          "name": "stdout"
        },
        {
          "output_type": "stream",
          "text": [
            "2021-04-27 23:00:21,812 Previous dataset split restored\n",
            "2021-04-27 23:00:23,979 Wrote model metadata to file /content/drive/MyDrive/Columbia_E4511/resample_CYP2D6_models/resample_delaney_cur_final/RF_ecfp_scaffold_classification/f295924a-bf2f-4fc4-a367-95b586a7b9e6/model_metadata.json\n",
            "2021-04-27 23:00:24,021 Wrote model metrics to file /content/drive/MyDrive/Columbia_E4511/resample_CYP2D6_models/resample_delaney_cur_final/RF_ecfp_scaffold_classification/f295924a-bf2f-4fc4-a367-95b586a7b9e6/model_metrics.json\n"
          ],
          "name": "stderr"
        },
        {
          "output_type": "stream",
          "text": [
            "Wrote model tarball to /content/drive/MyDrive/Columbia_E4511/resample_CYP2D6_models/resample_delaney_cur_final_model_f295924a-bf2f-4fc4-a367-95b586a7b9e6.tar.gz\n",
            "rf_estimators: 256, rf_max_depth: 16, rf_max_features: 256, valid_roc_auc: 0.5625\n",
            "number of features: 1024\n"
          ],
          "name": "stdout"
        },
        {
          "output_type": "stream",
          "text": [
            "2021-04-27 23:00:29,134 Previous dataset split restored\n",
            "2021-04-27 23:00:31,910 Wrote model metadata to file /content/drive/MyDrive/Columbia_E4511/resample_CYP2D6_models/resample_delaney_cur_final/RF_ecfp_scaffold_classification/8fc9dbd7-6dbc-4159-bbca-a0df89968410/model_metadata.json\n",
            "2021-04-27 23:00:31,950 Wrote model metrics to file /content/drive/MyDrive/Columbia_E4511/resample_CYP2D6_models/resample_delaney_cur_final/RF_ecfp_scaffold_classification/8fc9dbd7-6dbc-4159-bbca-a0df89968410/model_metrics.json\n"
          ],
          "name": "stderr"
        },
        {
          "output_type": "stream",
          "text": [
            "Wrote model tarball to /content/drive/MyDrive/Columbia_E4511/resample_CYP2D6_models/resample_delaney_cur_final_model_8fc9dbd7-6dbc-4159-bbca-a0df89968410.tar.gz\n",
            "rf_estimators: 256, rf_max_depth: 16, rf_max_features: 512, valid_roc_auc: 0.5803571428571428\n",
            "number of features: 1024\n"
          ],
          "name": "stdout"
        },
        {
          "output_type": "stream",
          "text": [
            "2021-04-27 23:00:37,095 Previous dataset split restored\n",
            "2021-04-27 23:00:39,474 Wrote model metadata to file /content/drive/MyDrive/Columbia_E4511/resample_CYP2D6_models/resample_delaney_cur_final/RF_ecfp_scaffold_classification/3c465091-e2f5-4e49-aaf1-383aa6f3e0b3/model_metadata.json\n",
            "2021-04-27 23:00:39,523 Wrote model metrics to file /content/drive/MyDrive/Columbia_E4511/resample_CYP2D6_models/resample_delaney_cur_final/RF_ecfp_scaffold_classification/3c465091-e2f5-4e49-aaf1-383aa6f3e0b3/model_metrics.json\n"
          ],
          "name": "stderr"
        },
        {
          "output_type": "stream",
          "text": [
            "Wrote model tarball to /content/drive/MyDrive/Columbia_E4511/resample_CYP2D6_models/resample_delaney_cur_final_model_3c465091-e2f5-4e49-aaf1-383aa6f3e0b3.tar.gz\n",
            "rf_estimators: 256, rf_max_depth: 24, rf_max_features: 256, valid_roc_auc: 0.5758928571428571\n",
            "number of features: 1024\n"
          ],
          "name": "stdout"
        },
        {
          "output_type": "stream",
          "text": [
            "2021-04-27 23:00:44,582 Previous dataset split restored\n",
            "2021-04-27 23:00:47,654 Wrote model metadata to file /content/drive/MyDrive/Columbia_E4511/resample_CYP2D6_models/resample_delaney_cur_final/RF_ecfp_scaffold_classification/4c6dc6df-d37d-4b52-8d69-c36d06e735fe/model_metadata.json\n",
            "2021-04-27 23:00:47,700 Wrote model metrics to file /content/drive/MyDrive/Columbia_E4511/resample_CYP2D6_models/resample_delaney_cur_final/RF_ecfp_scaffold_classification/4c6dc6df-d37d-4b52-8d69-c36d06e735fe/model_metrics.json\n"
          ],
          "name": "stderr"
        },
        {
          "output_type": "stream",
          "text": [
            "Wrote model tarball to /content/drive/MyDrive/Columbia_E4511/resample_CYP2D6_models/resample_delaney_cur_final_model_4c6dc6df-d37d-4b52-8d69-c36d06e735fe.tar.gz\n",
            "rf_estimators: 256, rf_max_depth: 24, rf_max_features: 512, valid_roc_auc: 0.5739795918367347\n",
            "number of features: 1024\n"
          ],
          "name": "stdout"
        },
        {
          "output_type": "stream",
          "text": [
            "2021-04-27 23:00:52,786 Previous dataset split restored\n",
            "2021-04-27 23:00:55,158 Wrote model metadata to file /content/drive/MyDrive/Columbia_E4511/resample_CYP2D6_models/resample_delaney_cur_final/RF_ecfp_scaffold_classification/9522b28e-2272-4e0b-af8b-ad62ec2388ce/model_metadata.json\n",
            "2021-04-27 23:00:55,205 Wrote model metrics to file /content/drive/MyDrive/Columbia_E4511/resample_CYP2D6_models/resample_delaney_cur_final/RF_ecfp_scaffold_classification/9522b28e-2272-4e0b-af8b-ad62ec2388ce/model_metrics.json\n"
          ],
          "name": "stderr"
        },
        {
          "output_type": "stream",
          "text": [
            "Wrote model tarball to /content/drive/MyDrive/Columbia_E4511/resample_CYP2D6_models/resample_delaney_cur_final_model_9522b28e-2272-4e0b-af8b-ad62ec2388ce.tar.gz\n",
            "rf_estimators: 256, rf_max_depth: 32, rf_max_features: 256, valid_roc_auc: 0.5931122448979591\n",
            "number of features: 1024\n"
          ],
          "name": "stdout"
        },
        {
          "output_type": "stream",
          "text": [
            "2021-04-27 23:01:00,285 Previous dataset split restored\n",
            "2021-04-27 23:01:03,483 Wrote model metadata to file /content/drive/MyDrive/Columbia_E4511/resample_CYP2D6_models/resample_delaney_cur_final/RF_ecfp_scaffold_classification/e3447de0-79b3-405c-bc11-8ed69395868f/model_metadata.json\n",
            "2021-04-27 23:01:03,532 Wrote model metrics to file /content/drive/MyDrive/Columbia_E4511/resample_CYP2D6_models/resample_delaney_cur_final/RF_ecfp_scaffold_classification/e3447de0-79b3-405c-bc11-8ed69395868f/model_metrics.json\n"
          ],
          "name": "stderr"
        },
        {
          "output_type": "stream",
          "text": [
            "Wrote model tarball to /content/drive/MyDrive/Columbia_E4511/resample_CYP2D6_models/resample_delaney_cur_final_model_e3447de0-79b3-405c-bc11-8ed69395868f.tar.gz\n",
            "rf_estimators: 256, rf_max_depth: 32, rf_max_features: 512, valid_roc_auc: 0.5752551020408163\n",
            "number of features: 1024\n"
          ],
          "name": "stdout"
        },
        {
          "output_type": "stream",
          "text": [
            "2021-04-27 23:01:08,569 Previous dataset split restored\n",
            "2021-04-27 23:01:10,955 Wrote model metadata to file /content/drive/MyDrive/Columbia_E4511/resample_CYP2D6_models/resample_delaney_cur_final/RF_ecfp_scaffold_classification/a732bd95-f334-499b-aebe-6417c0ad06da/model_metadata.json\n",
            "2021-04-27 23:01:11,032 Wrote model metrics to file /content/drive/MyDrive/Columbia_E4511/resample_CYP2D6_models/resample_delaney_cur_final/RF_ecfp_scaffold_classification/a732bd95-f334-499b-aebe-6417c0ad06da/model_metrics.json\n"
          ],
          "name": "stderr"
        },
        {
          "output_type": "stream",
          "text": [
            "Wrote model tarball to /content/drive/MyDrive/Columbia_E4511/resample_CYP2D6_models/resample_delaney_cur_final_model_a732bd95-f334-499b-aebe-6417c0ad06da.tar.gz\n",
            "rf_estimators: 256, rf_max_depth: 64, rf_max_features: 256, valid_roc_auc: 0.5701530612244897\n",
            "number of features: 1024\n"
          ],
          "name": "stdout"
        },
        {
          "output_type": "stream",
          "text": [
            "2021-04-27 23:01:16,130 Previous dataset split restored\n",
            "2021-04-27 23:01:19,330 Wrote model metadata to file /content/drive/MyDrive/Columbia_E4511/resample_CYP2D6_models/resample_delaney_cur_final/RF_ecfp_scaffold_classification/da4435ac-13bd-4d46-923d-03fbfb042782/model_metadata.json\n",
            "2021-04-27 23:01:19,380 Wrote model metrics to file /content/drive/MyDrive/Columbia_E4511/resample_CYP2D6_models/resample_delaney_cur_final/RF_ecfp_scaffold_classification/da4435ac-13bd-4d46-923d-03fbfb042782/model_metrics.json\n"
          ],
          "name": "stderr"
        },
        {
          "output_type": "stream",
          "text": [
            "Wrote model tarball to /content/drive/MyDrive/Columbia_E4511/resample_CYP2D6_models/resample_delaney_cur_final_model_da4435ac-13bd-4d46-923d-03fbfb042782.tar.gz\n",
            "rf_estimators: 256, rf_max_depth: 64, rf_max_features: 512, valid_roc_auc: 0.5615433673469388\n",
            "number of features: 1024\n"
          ],
          "name": "stdout"
        },
        {
          "output_type": "stream",
          "text": [
            "2021-04-27 23:01:24,465 Previous dataset split restored\n",
            "2021-04-27 23:01:26,863 Wrote model metadata to file /content/drive/MyDrive/Columbia_E4511/resample_CYP2D6_models/resample_delaney_cur_final/RF_ecfp_scaffold_classification/8d7612df-6f7e-4350-9f58-2c2e105c2405/model_metadata.json\n",
            "2021-04-27 23:01:26,910 Wrote model metrics to file /content/drive/MyDrive/Columbia_E4511/resample_CYP2D6_models/resample_delaney_cur_final/RF_ecfp_scaffold_classification/8d7612df-6f7e-4350-9f58-2c2e105c2405/model_metrics.json\n"
          ],
          "name": "stderr"
        },
        {
          "output_type": "stream",
          "text": [
            "Wrote model tarball to /content/drive/MyDrive/Columbia_E4511/resample_CYP2D6_models/resample_delaney_cur_final_model_8d7612df-6f7e-4350-9f58-2c2e105c2405.tar.gz\n",
            "rf_estimators: 256, rf_max_depth: 128, rf_max_features: 256, valid_roc_auc: 0.6106505102040816\n",
            "number of features: 1024\n"
          ],
          "name": "stdout"
        },
        {
          "output_type": "stream",
          "text": [
            "2021-04-27 23:01:31,970 Previous dataset split restored\n",
            "2021-04-27 23:01:35,166 Wrote model metadata to file /content/drive/MyDrive/Columbia_E4511/resample_CYP2D6_models/resample_delaney_cur_final/RF_ecfp_scaffold_classification/14aed314-4276-4d90-b580-479b31b89a21/model_metadata.json\n",
            "2021-04-27 23:01:35,239 Wrote model metrics to file /content/drive/MyDrive/Columbia_E4511/resample_CYP2D6_models/resample_delaney_cur_final/RF_ecfp_scaffold_classification/14aed314-4276-4d90-b580-479b31b89a21/model_metrics.json\n"
          ],
          "name": "stderr"
        },
        {
          "output_type": "stream",
          "text": [
            "Wrote model tarball to /content/drive/MyDrive/Columbia_E4511/resample_CYP2D6_models/resample_delaney_cur_final_model_14aed314-4276-4d90-b580-479b31b89a21.tar.gz\n",
            "rf_estimators: 256, rf_max_depth: 128, rf_max_features: 512, valid_roc_auc: 0.5867346938775511\n",
            "number of features: 1024\n"
          ],
          "name": "stdout"
        },
        {
          "output_type": "stream",
          "text": [
            "2021-04-27 23:01:40,359 Previous dataset split restored\n",
            "2021-04-27 23:01:42,726 Wrote model metadata to file /content/drive/MyDrive/Columbia_E4511/resample_CYP2D6_models/resample_delaney_cur_final/RF_ecfp_scaffold_classification/36a3dd04-2117-4ab1-a353-e48ff81ecdd7/model_metadata.json\n",
            "2021-04-27 23:01:42,776 Wrote model metrics to file /content/drive/MyDrive/Columbia_E4511/resample_CYP2D6_models/resample_delaney_cur_final/RF_ecfp_scaffold_classification/36a3dd04-2117-4ab1-a353-e48ff81ecdd7/model_metrics.json\n"
          ],
          "name": "stderr"
        },
        {
          "output_type": "stream",
          "text": [
            "Wrote model tarball to /content/drive/MyDrive/Columbia_E4511/resample_CYP2D6_models/resample_delaney_cur_final_model_36a3dd04-2117-4ab1-a353-e48ff81ecdd7.tar.gz\n",
            "rf_estimators: 256, rf_max_depth: 256, rf_max_features: 256, valid_roc_auc: 0.5835459183673469\n",
            "number of features: 1024\n"
          ],
          "name": "stdout"
        },
        {
          "output_type": "stream",
          "text": [
            "2021-04-27 23:01:47,849 Previous dataset split restored\n",
            "2021-04-27 23:01:51,036 Wrote model metadata to file /content/drive/MyDrive/Columbia_E4511/resample_CYP2D6_models/resample_delaney_cur_final/RF_ecfp_scaffold_classification/fe7d3fc5-af19-4e21-9f24-4a72cd877a51/model_metadata.json\n",
            "2021-04-27 23:01:51,084 Wrote model metrics to file /content/drive/MyDrive/Columbia_E4511/resample_CYP2D6_models/resample_delaney_cur_final/RF_ecfp_scaffold_classification/fe7d3fc5-af19-4e21-9f24-4a72cd877a51/model_metrics.json\n"
          ],
          "name": "stderr"
        },
        {
          "output_type": "stream",
          "text": [
            "Wrote model tarball to /content/drive/MyDrive/Columbia_E4511/resample_CYP2D6_models/resample_delaney_cur_final_model_fe7d3fc5-af19-4e21-9f24-4a72cd877a51.tar.gz\n",
            "rf_estimators: 256, rf_max_depth: 256, rf_max_features: 512, valid_roc_auc: 0.569515306122449\n",
            "number of features: 1024\n"
          ],
          "name": "stdout"
        },
        {
          "output_type": "stream",
          "text": [
            "2021-04-27 23:01:56,120 Previous dataset split restored\n",
            "2021-04-27 23:02:00,071 Wrote model metadata to file /content/drive/MyDrive/Columbia_E4511/resample_CYP2D6_models/resample_delaney_cur_final/RF_ecfp_scaffold_classification/e5dc1c7c-194d-45a9-bf59-da342d8b3954/model_metadata.json\n",
            "2021-04-27 23:02:00,135 Wrote model metrics to file /content/drive/MyDrive/Columbia_E4511/resample_CYP2D6_models/resample_delaney_cur_final/RF_ecfp_scaffold_classification/e5dc1c7c-194d-45a9-bf59-da342d8b3954/model_metrics.json\n"
          ],
          "name": "stderr"
        },
        {
          "output_type": "stream",
          "text": [
            "Wrote model tarball to /content/drive/MyDrive/Columbia_E4511/resample_CYP2D6_models/resample_delaney_cur_final_model_e5dc1c7c-194d-45a9-bf59-da342d8b3954.tar.gz\n",
            "rf_estimators: 512, rf_max_depth: 16, rf_max_features: 256, valid_roc_auc: 0.5848214285714286\n",
            "number of features: 1024\n"
          ],
          "name": "stdout"
        },
        {
          "output_type": "stream",
          "text": [
            "2021-04-27 23:02:05,224 Previous dataset split restored\n",
            "2021-04-27 23:02:10,283 Wrote model metadata to file /content/drive/MyDrive/Columbia_E4511/resample_CYP2D6_models/resample_delaney_cur_final/RF_ecfp_scaffold_classification/9d63819a-449e-4d66-af1e-50b52d3257c1/model_metadata.json\n",
            "2021-04-27 23:02:10,348 Wrote model metrics to file /content/drive/MyDrive/Columbia_E4511/resample_CYP2D6_models/resample_delaney_cur_final/RF_ecfp_scaffold_classification/9d63819a-449e-4d66-af1e-50b52d3257c1/model_metrics.json\n"
          ],
          "name": "stderr"
        },
        {
          "output_type": "stream",
          "text": [
            "Wrote model tarball to /content/drive/MyDrive/Columbia_E4511/resample_CYP2D6_models/resample_delaney_cur_final_model_9d63819a-449e-4d66-af1e-50b52d3257c1.tar.gz\n",
            "rf_estimators: 512, rf_max_depth: 16, rf_max_features: 512, valid_roc_auc: 0.583545918367347\n",
            "number of features: 1024\n"
          ],
          "name": "stdout"
        },
        {
          "output_type": "stream",
          "text": [
            "2021-04-27 23:02:15,434 Previous dataset split restored\n",
            "2021-04-27 23:02:19,629 Wrote model metadata to file /content/drive/MyDrive/Columbia_E4511/resample_CYP2D6_models/resample_delaney_cur_final/RF_ecfp_scaffold_classification/f6c1605f-3eb8-4165-8671-568697d85bf2/model_metadata.json\n",
            "2021-04-27 23:02:19,705 Wrote model metrics to file /content/drive/MyDrive/Columbia_E4511/resample_CYP2D6_models/resample_delaney_cur_final/RF_ecfp_scaffold_classification/f6c1605f-3eb8-4165-8671-568697d85bf2/model_metrics.json\n"
          ],
          "name": "stderr"
        },
        {
          "output_type": "stream",
          "text": [
            "Wrote model tarball to /content/drive/MyDrive/Columbia_E4511/resample_CYP2D6_models/resample_delaney_cur_final_model_f6c1605f-3eb8-4165-8671-568697d85bf2.tar.gz\n",
            "rf_estimators: 512, rf_max_depth: 24, rf_max_features: 256, valid_roc_auc: 0.5899234693877551\n",
            "number of features: 1024\n"
          ],
          "name": "stdout"
        },
        {
          "output_type": "stream",
          "text": [
            "2021-04-27 23:02:24,770 Previous dataset split restored\n",
            "2021-04-27 23:02:30,497 Wrote model metadata to file /content/drive/MyDrive/Columbia_E4511/resample_CYP2D6_models/resample_delaney_cur_final/RF_ecfp_scaffold_classification/1b832a78-056a-42c0-a8f1-7e82426cf2c7/model_metadata.json\n",
            "2021-04-27 23:02:30,572 Wrote model metrics to file /content/drive/MyDrive/Columbia_E4511/resample_CYP2D6_models/resample_delaney_cur_final/RF_ecfp_scaffold_classification/1b832a78-056a-42c0-a8f1-7e82426cf2c7/model_metrics.json\n"
          ],
          "name": "stderr"
        },
        {
          "output_type": "stream",
          "text": [
            "Wrote model tarball to /content/drive/MyDrive/Columbia_E4511/resample_CYP2D6_models/resample_delaney_cur_final_model_1b832a78-056a-42c0-a8f1-7e82426cf2c7.tar.gz\n",
            "rf_estimators: 512, rf_max_depth: 24, rf_max_features: 512, valid_roc_auc: 0.5790816326530612\n",
            "number of features: 1024\n"
          ],
          "name": "stdout"
        },
        {
          "output_type": "stream",
          "text": [
            "2021-04-27 23:02:35,649 Previous dataset split restored\n",
            "2021-04-27 23:02:39,959 Wrote model metadata to file /content/drive/MyDrive/Columbia_E4511/resample_CYP2D6_models/resample_delaney_cur_final/RF_ecfp_scaffold_classification/363f935c-53e1-4781-86bb-e4b1085fecf9/model_metadata.json\n",
            "2021-04-27 23:02:40,057 Wrote model metrics to file /content/drive/MyDrive/Columbia_E4511/resample_CYP2D6_models/resample_delaney_cur_final/RF_ecfp_scaffold_classification/363f935c-53e1-4781-86bb-e4b1085fecf9/model_metrics.json\n"
          ],
          "name": "stderr"
        },
        {
          "output_type": "stream",
          "text": [
            "Wrote model tarball to /content/drive/MyDrive/Columbia_E4511/resample_CYP2D6_models/resample_delaney_cur_final_model_363f935c-53e1-4781-86bb-e4b1085fecf9.tar.gz\n",
            "rf_estimators: 512, rf_max_depth: 32, rf_max_features: 256, valid_roc_auc: 0.5975765306122449\n",
            "number of features: 1024\n"
          ],
          "name": "stdout"
        },
        {
          "output_type": "stream",
          "text": [
            "2021-04-27 23:02:45,144 Previous dataset split restored\n",
            "2021-04-27 23:02:50,931 Wrote model metadata to file /content/drive/MyDrive/Columbia_E4511/resample_CYP2D6_models/resample_delaney_cur_final/RF_ecfp_scaffold_classification/b57af0a3-25df-4231-b894-e914adcc976f/model_metadata.json\n",
            "2021-04-27 23:02:51,009 Wrote model metrics to file /content/drive/MyDrive/Columbia_E4511/resample_CYP2D6_models/resample_delaney_cur_final/RF_ecfp_scaffold_classification/b57af0a3-25df-4231-b894-e914adcc976f/model_metrics.json\n"
          ],
          "name": "stderr"
        },
        {
          "output_type": "stream",
          "text": [
            "Wrote model tarball to /content/drive/MyDrive/Columbia_E4511/resample_CYP2D6_models/resample_delaney_cur_final_model_b57af0a3-25df-4231-b894-e914adcc976f.tar.gz\n",
            "rf_estimators: 512, rf_max_depth: 32, rf_max_features: 512, valid_roc_auc: 0.5739795918367347\n",
            "number of features: 1024\n"
          ],
          "name": "stdout"
        },
        {
          "output_type": "stream",
          "text": [
            "2021-04-27 23:02:56,048 Previous dataset split restored\n",
            "2021-04-27 23:03:00,344 Wrote model metadata to file /content/drive/MyDrive/Columbia_E4511/resample_CYP2D6_models/resample_delaney_cur_final/RF_ecfp_scaffold_classification/a77829d2-2a87-48bf-8aa8-69f0c5c00860/model_metadata.json\n",
            "2021-04-27 23:03:00,425 Wrote model metrics to file /content/drive/MyDrive/Columbia_E4511/resample_CYP2D6_models/resample_delaney_cur_final/RF_ecfp_scaffold_classification/a77829d2-2a87-48bf-8aa8-69f0c5c00860/model_metrics.json\n"
          ],
          "name": "stderr"
        },
        {
          "output_type": "stream",
          "text": [
            "Wrote model tarball to /content/drive/MyDrive/Columbia_E4511/resample_CYP2D6_models/resample_delaney_cur_final_model_a77829d2-2a87-48bf-8aa8-69f0c5c00860.tar.gz\n",
            "rf_estimators: 512, rf_max_depth: 64, rf_max_features: 256, valid_roc_auc: 0.5806760204081632\n",
            "number of features: 1024\n"
          ],
          "name": "stdout"
        },
        {
          "output_type": "stream",
          "text": [
            "2021-04-27 23:03:05,569 Previous dataset split restored\n",
            "2021-04-27 23:03:11,479 Wrote model metadata to file /content/drive/MyDrive/Columbia_E4511/resample_CYP2D6_models/resample_delaney_cur_final/RF_ecfp_scaffold_classification/5d6e6dc8-5b7e-4b15-adc4-6be08a2477ec/model_metadata.json\n",
            "2021-04-27 23:03:11,558 Wrote model metrics to file /content/drive/MyDrive/Columbia_E4511/resample_CYP2D6_models/resample_delaney_cur_final/RF_ecfp_scaffold_classification/5d6e6dc8-5b7e-4b15-adc4-6be08a2477ec/model_metrics.json\n"
          ],
          "name": "stderr"
        },
        {
          "output_type": "stream",
          "text": [
            "Wrote model tarball to /content/drive/MyDrive/Columbia_E4511/resample_CYP2D6_models/resample_delaney_cur_final_model_5d6e6dc8-5b7e-4b15-adc4-6be08a2477ec.tar.gz\n",
            "rf_estimators: 512, rf_max_depth: 64, rf_max_features: 512, valid_roc_auc: 0.5899234693877551\n",
            "number of features: 1024\n"
          ],
          "name": "stdout"
        },
        {
          "output_type": "stream",
          "text": [
            "2021-04-27 23:03:16,670 Previous dataset split restored\n",
            "2021-04-27 23:03:20,959 Wrote model metadata to file /content/drive/MyDrive/Columbia_E4511/resample_CYP2D6_models/resample_delaney_cur_final/RF_ecfp_scaffold_classification/0c661724-a117-4e5b-ae5d-461d067ebe51/model_metadata.json\n",
            "2021-04-27 23:03:21,041 Wrote model metrics to file /content/drive/MyDrive/Columbia_E4511/resample_CYP2D6_models/resample_delaney_cur_final/RF_ecfp_scaffold_classification/0c661724-a117-4e5b-ae5d-461d067ebe51/model_metrics.json\n"
          ],
          "name": "stderr"
        },
        {
          "output_type": "stream",
          "text": [
            "Wrote model tarball to /content/drive/MyDrive/Columbia_E4511/resample_CYP2D6_models/resample_delaney_cur_final_model_0c661724-a117-4e5b-ae5d-461d067ebe51.tar.gz\n",
            "rf_estimators: 512, rf_max_depth: 128, rf_max_features: 256, valid_roc_auc: 0.5580357142857142\n",
            "number of features: 1024\n"
          ],
          "name": "stdout"
        },
        {
          "output_type": "stream",
          "text": [
            "2021-04-27 23:03:26,202 Previous dataset split restored\n",
            "2021-04-27 23:03:32,008 Wrote model metadata to file /content/drive/MyDrive/Columbia_E4511/resample_CYP2D6_models/resample_delaney_cur_final/RF_ecfp_scaffold_classification/6d80e314-1820-4386-ba4b-e14683ecee9c/model_metadata.json\n",
            "2021-04-27 23:03:32,086 Wrote model metrics to file /content/drive/MyDrive/Columbia_E4511/resample_CYP2D6_models/resample_delaney_cur_final/RF_ecfp_scaffold_classification/6d80e314-1820-4386-ba4b-e14683ecee9c/model_metrics.json\n"
          ],
          "name": "stderr"
        },
        {
          "output_type": "stream",
          "text": [
            "Wrote model tarball to /content/drive/MyDrive/Columbia_E4511/resample_CYP2D6_models/resample_delaney_cur_final_model_6d80e314-1820-4386-ba4b-e14683ecee9c.tar.gz\n",
            "rf_estimators: 512, rf_max_depth: 128, rf_max_features: 512, valid_roc_auc: 0.5739795918367346\n",
            "number of features: 1024\n"
          ],
          "name": "stdout"
        },
        {
          "output_type": "stream",
          "text": [
            "2021-04-27 23:03:37,194 Previous dataset split restored\n",
            "2021-04-27 23:03:41,491 Wrote model metadata to file /content/drive/MyDrive/Columbia_E4511/resample_CYP2D6_models/resample_delaney_cur_final/RF_ecfp_scaffold_classification/009c92a5-9500-4aa6-bc10-4e1bb91a8267/model_metadata.json\n",
            "2021-04-27 23:03:41,617 Wrote model metrics to file /content/drive/MyDrive/Columbia_E4511/resample_CYP2D6_models/resample_delaney_cur_final/RF_ecfp_scaffold_classification/009c92a5-9500-4aa6-bc10-4e1bb91a8267/model_metrics.json\n"
          ],
          "name": "stderr"
        },
        {
          "output_type": "stream",
          "text": [
            "Wrote model tarball to /content/drive/MyDrive/Columbia_E4511/resample_CYP2D6_models/resample_delaney_cur_final_model_009c92a5-9500-4aa6-bc10-4e1bb91a8267.tar.gz\n",
            "rf_estimators: 512, rf_max_depth: 256, rf_max_features: 256, valid_roc_auc: 0.5835459183673469\n",
            "number of features: 1024\n"
          ],
          "name": "stdout"
        },
        {
          "output_type": "stream",
          "text": [
            "2021-04-27 23:03:46,749 Previous dataset split restored\n",
            "2021-04-27 23:03:52,636 Wrote model metadata to file /content/drive/MyDrive/Columbia_E4511/resample_CYP2D6_models/resample_delaney_cur_final/RF_ecfp_scaffold_classification/7dc5c319-97ec-419a-86cf-4d0c6f8e8daf/model_metadata.json\n",
            "2021-04-27 23:03:52,715 Wrote model metrics to file /content/drive/MyDrive/Columbia_E4511/resample_CYP2D6_models/resample_delaney_cur_final/RF_ecfp_scaffold_classification/7dc5c319-97ec-419a-86cf-4d0c6f8e8daf/model_metrics.json\n"
          ],
          "name": "stderr"
        },
        {
          "output_type": "stream",
          "text": [
            "Wrote model tarball to /content/drive/MyDrive/Columbia_E4511/resample_CYP2D6_models/resample_delaney_cur_final_model_7dc5c319-97ec-419a-86cf-4d0c6f8e8daf.tar.gz\n",
            "rf_estimators: 512, rf_max_depth: 256, rf_max_features: 512, valid_roc_auc: 0.5998086734693877\n"
          ],
          "name": "stdout"
        }
      ]
    },
    {
      "cell_type": "code",
      "metadata": {
        "colab": {
          "base_uri": "https://localhost:8080/"
        },
        "id": "Bp86dseMwT8D",
        "outputId": "010ddbce-01ef-411a-fec8-1da71400a69d"
      },
      "source": [
        "pred_results"
      ],
      "execution_count": null,
      "outputs": [
        {
          "output_type": "execute_result",
          "data": {
            "text/plain": [
              "{'accuracy_score': 0.6296296296296297,\n",
              " 'bal_accuracy': 0.5746173469387755,\n",
              " 'confusion_matrix': [[[41, 8], [22, 10]]],\n",
              " 'cross_entropy': 0.6551321242400507,\n",
              " 'kappa': 0.16149068322981364,\n",
              " 'matthews_cc': 0.17548350532571264,\n",
              " 'model_choice_score': 0.5998086734693877,\n",
              " 'npv': 0.6507936507936508,\n",
              " 'num_compounds': 81,\n",
              " 'prc_auc_score': 0.5507438783509527,\n",
              " 'precision': 0.5555555555555556,\n",
              " 'recall_score': 0.3125,\n",
              " 'roc_auc_score': 0.5998086734693877}"
            ]
          },
          "metadata": {
            "tags": []
          },
          "execution_count": 22
        }
      ]
    },
    {
      "cell_type": "markdown",
      "metadata": {
        "id": "88-r0j8atNKr"
      },
      "source": [
        "RF (Regression) Models"
      ]
    },
    {
      "cell_type": "code",
      "metadata": {
        "id": "hIeoX0CptJuh"
      },
      "source": [
        "params={'data_owner': 'username',\n",
        " 'dataset_key': '/content/drive/MyDrive/Columbia_E4511/resample_delaney_cur_final.csv',\n",
        " 'datastore': 'False',\n",
        " 'featurizer': 'ecfp',\n",
        "#  'descriptor_type':'mordred_filtered',\n",
        " 'id_col': 'compound_id',\n",
        " 'lc_account': 'None',\n",
        " 'max_epochs': '70',\n",
        " 'model_type': 'RF',\n",
        " 'prediction_type': 'regression',\n",
        " 'previously_split': 'True',\n",
        " 'rerun': 'False',\n",
        " 'response_cols': 'active',\n",
        " 'result_dir': '/content/drive/MyDrive/Columbia_E4511/resample_CYP2D6_models',\n",
        " 'save_results': 'False',\n",
        " 'smiles_col': 'base_rdkit_smiles',\n",
        " 'split_uuid': 'e01a3bfa-41c0-4fe1-96b3-e717df1146e5',\n",
        " 'system': 'LC',\n",
        " 'transformers': 'True',\n",
        " 'uncertainty': 'True',\n",
        " 'verbose': 'True'}"
      ],
      "execution_count": null,
      "outputs": []
    },
    {
      "cell_type": "code",
      "metadata": {
        "colab": {
          "base_uri": "https://localhost:8080/"
        },
        "id": "l5BkbBeBuHE6",
        "outputId": "4a2b0d8c-9f5a-4c8d-fbc3-e81700f0174f"
      },
      "source": [
        "ampl_param = parse.wrapper(params)\n",
        "pl = mp.ModelPipeline(ampl_param)\n",
        "pl.train_model()"
      ],
      "execution_count": null,
      "outputs": [
        {
          "output_type": "stream",
          "text": [
            "number of features: 1024\n"
          ],
          "name": "stdout"
        },
        {
          "output_type": "stream",
          "text": [
            "2021-04-27 23:03:58,278 Previous dataset split restored\n"
          ],
          "name": "stderr"
        },
        {
          "output_type": "stream",
          "text": [
            "TIMING: dataset construction took 0.037 s\n",
            "Loading dataset from disk.\n",
            "TIMING: dataset construction took 0.011 s\n",
            "Loading dataset from disk.\n",
            "TIMING: dataset construction took 0.009 s\n",
            "Loading dataset from disk.\n"
          ],
          "name": "stdout"
        },
        {
          "output_type": "stream",
          "text": [
            "2021-04-27 23:04:00,901 Wrote model metadata to file /content/drive/MyDrive/Columbia_E4511/resample_CYP2D6_models/resample_delaney_cur_final/RF_ecfp_scaffold_regression/adfe6080-1353-4b55-ba1c-c3cb6b58b671/model_metadata.json\n",
            "2021-04-27 23:04:01,020 Wrote model metrics to file /content/drive/MyDrive/Columbia_E4511/resample_CYP2D6_models/resample_delaney_cur_final/RF_ecfp_scaffold_regression/adfe6080-1353-4b55-ba1c-c3cb6b58b671/model_metrics.json\n"
          ],
          "name": "stderr"
        },
        {
          "output_type": "stream",
          "text": [
            "Wrote model tarball to /content/drive/MyDrive/Columbia_E4511/resample_CYP2D6_models/resample_delaney_cur_final_model_adfe6080-1353-4b55-ba1c-c3cb6b58b671.tar.gz\n"
          ],
          "name": "stdout"
        }
      ]
    },
    {
      "cell_type": "code",
      "metadata": {
        "colab": {
          "base_uri": "https://localhost:8080/"
        },
        "id": "3PL-kPTUuN7b",
        "outputId": "37703a91-fdf1-4fc9-c28e-f47f565cf76e"
      },
      "source": [
        "pred_data = pl.model_wrapper.get_perf_data(subset=\"valid\", epoch_label=\"best\")\n",
        "pred_results = pred_data.get_prediction_results()\n",
        "print(f\"R2 score of validation set: {pred_results['r2_score']:.3f}\")"
      ],
      "execution_count": null,
      "outputs": [
        {
          "output_type": "stream",
          "text": [
            "R2 score of validation set: 0.031\n"
          ],
          "name": "stdout"
        }
      ]
    },
    {
      "cell_type": "code",
      "metadata": {
        "colab": {
          "base_uri": "https://localhost:8080/"
        },
        "id": "CB3ltthmuPTV",
        "outputId": "e69ed376-1242-4d63-ef86-27757e7fb8d4"
      },
      "source": [
        "param_choice = [16,32,64,128]\n",
        "\n",
        "rfe_list = []\n",
        "rfd_list = []\n",
        "rff_list = []\n",
        "valid_r2_list = []\n",
        "for rf_estimator in param_choice:\n",
        "    for rf_depth in param_choice:\n",
        "        for rf_feature in param_choice:\n",
        "            params[\"rf_estimators\"] = rf_estimator\n",
        "            params[\"rf_max_depth\"] = rf_depth\n",
        "            params[\"rf_max_features\"] = rf_feature\n",
        "            rfe_list.append(rf_estimator)\n",
        "            rfd_list.append(rf_depth)\n",
        "            rff_list.append(rf_feature)\n",
        "            tp = parse.wrapper(params)\n",
        "            pl = mp.ModelPipeline(tp)\n",
        "            pl.train_model()\n",
        "            pred_data = pl.model_wrapper.get_perf_data(subset=\"valid\", epoch_label=\"best\")\n",
        "            pred_results = pred_data.get_prediction_results()\n",
        "            valid_r2 = pred_results['r2_score']\n",
        "            valid_r2_list.append(valid_r2)\n",
        "            print(f\"rf_estimators: {rf_estimator}, rf_max_depth: {rf_depth}, rf_max_features: {rf_feature}, valid_r2: {valid_r2}\")"
      ],
      "execution_count": null,
      "outputs": [
        {
          "output_type": "stream",
          "text": [
            "number of features: 1024\n"
          ],
          "name": "stdout"
        },
        {
          "output_type": "stream",
          "text": [
            "2021-04-27 23:04:06,177 Previous dataset split restored\n"
          ],
          "name": "stderr"
        },
        {
          "output_type": "stream",
          "text": [
            "TIMING: dataset construction took 0.045 s\n",
            "Loading dataset from disk.\n",
            "TIMING: dataset construction took 0.015 s\n",
            "Loading dataset from disk.\n",
            "TIMING: dataset construction took 0.014 s\n",
            "Loading dataset from disk.\n"
          ],
          "name": "stdout"
        },
        {
          "output_type": "stream",
          "text": [
            "2021-04-27 23:04:06,959 Wrote model metadata to file /content/drive/MyDrive/Columbia_E4511/resample_CYP2D6_models/resample_delaney_cur_final/RF_ecfp_scaffold_regression/8c6473af-b4c1-4076-ae0d-c96df5bdfbc7/model_metadata.json\n",
            "2021-04-27 23:04:07,003 Wrote model metrics to file /content/drive/MyDrive/Columbia_E4511/resample_CYP2D6_models/resample_delaney_cur_final/RF_ecfp_scaffold_regression/8c6473af-b4c1-4076-ae0d-c96df5bdfbc7/model_metrics.json\n"
          ],
          "name": "stderr"
        },
        {
          "output_type": "stream",
          "text": [
            "Wrote model tarball to /content/drive/MyDrive/Columbia_E4511/resample_CYP2D6_models/resample_delaney_cur_final_model_8c6473af-b4c1-4076-ae0d-c96df5bdfbc7.tar.gz\n",
            "rf_estimators: 16, rf_max_depth: 16, rf_max_features: 16, valid_r2: -0.020945541376569565\n",
            "number of features: 1024\n"
          ],
          "name": "stdout"
        },
        {
          "output_type": "stream",
          "text": [
            "2021-04-27 23:04:12,073 Previous dataset split restored\n"
          ],
          "name": "stderr"
        },
        {
          "output_type": "stream",
          "text": [
            "TIMING: dataset construction took 0.038 s\n",
            "Loading dataset from disk.\n",
            "TIMING: dataset construction took 0.010 s\n",
            "Loading dataset from disk.\n",
            "TIMING: dataset construction took 0.010 s\n",
            "Loading dataset from disk.\n"
          ],
          "name": "stdout"
        },
        {
          "output_type": "stream",
          "text": [
            "2021-04-27 23:04:12,835 Wrote model metadata to file /content/drive/MyDrive/Columbia_E4511/resample_CYP2D6_models/resample_delaney_cur_final/RF_ecfp_scaffold_regression/21053304-86fc-4d68-8d93-b096256e9ac1/model_metadata.json\n",
            "2021-04-27 23:04:12,853 Wrote model metrics to file /content/drive/MyDrive/Columbia_E4511/resample_CYP2D6_models/resample_delaney_cur_final/RF_ecfp_scaffold_regression/21053304-86fc-4d68-8d93-b096256e9ac1/model_metrics.json\n"
          ],
          "name": "stderr"
        },
        {
          "output_type": "stream",
          "text": [
            "Wrote model tarball to /content/drive/MyDrive/Columbia_E4511/resample_CYP2D6_models/resample_delaney_cur_final_model_21053304-86fc-4d68-8d93-b096256e9ac1.tar.gz\n",
            "rf_estimators: 16, rf_max_depth: 16, rf_max_features: 32, valid_r2: 0.003202093374554238\n",
            "number of features: 1024\n"
          ],
          "name": "stdout"
        },
        {
          "output_type": "stream",
          "text": [
            "2021-04-27 23:04:17,943 Previous dataset split restored\n"
          ],
          "name": "stderr"
        },
        {
          "output_type": "stream",
          "text": [
            "TIMING: dataset construction took 0.040 s\n",
            "Loading dataset from disk.\n",
            "TIMING: dataset construction took 0.010 s\n",
            "Loading dataset from disk.\n",
            "TIMING: dataset construction took 0.009 s\n",
            "Loading dataset from disk.\n"
          ],
          "name": "stdout"
        },
        {
          "output_type": "stream",
          "text": [
            "2021-04-27 23:04:18,703 Wrote model metadata to file /content/drive/MyDrive/Columbia_E4511/resample_CYP2D6_models/resample_delaney_cur_final/RF_ecfp_scaffold_regression/88c89876-4dd1-49a5-a9a8-ef251ba72b8e/model_metadata.json\n",
            "2021-04-27 23:04:18,722 Wrote model metrics to file /content/drive/MyDrive/Columbia_E4511/resample_CYP2D6_models/resample_delaney_cur_final/RF_ecfp_scaffold_regression/88c89876-4dd1-49a5-a9a8-ef251ba72b8e/model_metrics.json\n"
          ],
          "name": "stderr"
        },
        {
          "output_type": "stream",
          "text": [
            "Wrote model tarball to /content/drive/MyDrive/Columbia_E4511/resample_CYP2D6_models/resample_delaney_cur_final_model_88c89876-4dd1-49a5-a9a8-ef251ba72b8e.tar.gz\n",
            "rf_estimators: 16, rf_max_depth: 16, rf_max_features: 64, valid_r2: -0.026590024726146133\n",
            "number of features: 1024\n"
          ],
          "name": "stdout"
        },
        {
          "output_type": "stream",
          "text": [
            "2021-04-27 23:04:23,877 Previous dataset split restored\n"
          ],
          "name": "stderr"
        },
        {
          "output_type": "stream",
          "text": [
            "TIMING: dataset construction took 0.040 s\n",
            "Loading dataset from disk.\n",
            "TIMING: dataset construction took 0.009 s\n",
            "Loading dataset from disk.\n",
            "TIMING: dataset construction took 0.010 s\n",
            "Loading dataset from disk.\n"
          ],
          "name": "stdout"
        },
        {
          "output_type": "stream",
          "text": [
            "2021-04-27 23:04:24,792 Wrote model metadata to file /content/drive/MyDrive/Columbia_E4511/resample_CYP2D6_models/resample_delaney_cur_final/RF_ecfp_scaffold_regression/425a5158-1e6b-40e7-ab77-eb2a8aca0606/model_metadata.json\n",
            "2021-04-27 23:04:24,811 Wrote model metrics to file /content/drive/MyDrive/Columbia_E4511/resample_CYP2D6_models/resample_delaney_cur_final/RF_ecfp_scaffold_regression/425a5158-1e6b-40e7-ab77-eb2a8aca0606/model_metrics.json\n"
          ],
          "name": "stderr"
        },
        {
          "output_type": "stream",
          "text": [
            "Wrote model tarball to /content/drive/MyDrive/Columbia_E4511/resample_CYP2D6_models/resample_delaney_cur_final_model_425a5158-1e6b-40e7-ab77-eb2a8aca0606.tar.gz\n",
            "rf_estimators: 16, rf_max_depth: 16, rf_max_features: 128, valid_r2: -0.04605866005545889\n",
            "number of features: 1024\n"
          ],
          "name": "stdout"
        },
        {
          "output_type": "stream",
          "text": [
            "2021-04-27 23:04:29,908 Previous dataset split restored\n"
          ],
          "name": "stderr"
        },
        {
          "output_type": "stream",
          "text": [
            "TIMING: dataset construction took 0.042 s\n",
            "Loading dataset from disk.\n",
            "TIMING: dataset construction took 0.010 s\n",
            "Loading dataset from disk.\n",
            "TIMING: dataset construction took 0.010 s\n",
            "Loading dataset from disk.\n"
          ],
          "name": "stdout"
        },
        {
          "output_type": "stream",
          "text": [
            "2021-04-27 23:04:30,671 Wrote model metadata to file /content/drive/MyDrive/Columbia_E4511/resample_CYP2D6_models/resample_delaney_cur_final/RF_ecfp_scaffold_regression/3d0561c7-9c0f-43e6-8d17-d93c35aa3dc8/model_metadata.json\n",
            "2021-04-27 23:04:30,694 Wrote model metrics to file /content/drive/MyDrive/Columbia_E4511/resample_CYP2D6_models/resample_delaney_cur_final/RF_ecfp_scaffold_regression/3d0561c7-9c0f-43e6-8d17-d93c35aa3dc8/model_metrics.json\n"
          ],
          "name": "stderr"
        },
        {
          "output_type": "stream",
          "text": [
            "Wrote model tarball to /content/drive/MyDrive/Columbia_E4511/resample_CYP2D6_models/resample_delaney_cur_final_model_3d0561c7-9c0f-43e6-8d17-d93c35aa3dc8.tar.gz\n",
            "rf_estimators: 16, rf_max_depth: 32, rf_max_features: 16, valid_r2: 0.023610057740061308\n",
            "number of features: 1024\n"
          ],
          "name": "stdout"
        },
        {
          "output_type": "stream",
          "text": [
            "2021-04-27 23:04:35,836 Previous dataset split restored\n"
          ],
          "name": "stderr"
        },
        {
          "output_type": "stream",
          "text": [
            "TIMING: dataset construction took 0.038 s\n",
            "Loading dataset from disk.\n",
            "TIMING: dataset construction took 0.010 s\n",
            "Loading dataset from disk.\n",
            "TIMING: dataset construction took 0.012 s\n",
            "Loading dataset from disk.\n"
          ],
          "name": "stdout"
        },
        {
          "output_type": "stream",
          "text": [
            "2021-04-27 23:04:36,607 Wrote model metadata to file /content/drive/MyDrive/Columbia_E4511/resample_CYP2D6_models/resample_delaney_cur_final/RF_ecfp_scaffold_regression/a9283e34-c138-4190-83c6-412cf8223917/model_metadata.json\n",
            "2021-04-27 23:04:36,627 Wrote model metrics to file /content/drive/MyDrive/Columbia_E4511/resample_CYP2D6_models/resample_delaney_cur_final/RF_ecfp_scaffold_regression/a9283e34-c138-4190-83c6-412cf8223917/model_metrics.json\n"
          ],
          "name": "stderr"
        },
        {
          "output_type": "stream",
          "text": [
            "Wrote model tarball to /content/drive/MyDrive/Columbia_E4511/resample_CYP2D6_models/resample_delaney_cur_final_model_a9283e34-c138-4190-83c6-412cf8223917.tar.gz\n",
            "rf_estimators: 16, rf_max_depth: 32, rf_max_features: 32, valid_r2: -0.09748934156616174\n",
            "number of features: 1024\n"
          ],
          "name": "stdout"
        },
        {
          "output_type": "stream",
          "text": [
            "2021-04-27 23:04:41,733 Previous dataset split restored\n"
          ],
          "name": "stderr"
        },
        {
          "output_type": "stream",
          "text": [
            "TIMING: dataset construction took 0.038 s\n",
            "Loading dataset from disk.\n",
            "TIMING: dataset construction took 0.009 s\n",
            "Loading dataset from disk.\n",
            "TIMING: dataset construction took 0.009 s\n",
            "Loading dataset from disk.\n"
          ],
          "name": "stdout"
        },
        {
          "output_type": "stream",
          "text": [
            "2021-04-27 23:04:42,513 Wrote model metadata to file /content/drive/MyDrive/Columbia_E4511/resample_CYP2D6_models/resample_delaney_cur_final/RF_ecfp_scaffold_regression/1f2b770a-ed0e-4ae9-adfc-bc220ff6e696/model_metadata.json\n",
            "2021-04-27 23:04:42,532 Wrote model metrics to file /content/drive/MyDrive/Columbia_E4511/resample_CYP2D6_models/resample_delaney_cur_final/RF_ecfp_scaffold_regression/1f2b770a-ed0e-4ae9-adfc-bc220ff6e696/model_metrics.json\n"
          ],
          "name": "stderr"
        },
        {
          "output_type": "stream",
          "text": [
            "Wrote model tarball to /content/drive/MyDrive/Columbia_E4511/resample_CYP2D6_models/resample_delaney_cur_final_model_1f2b770a-ed0e-4ae9-adfc-bc220ff6e696.tar.gz\n",
            "rf_estimators: 16, rf_max_depth: 32, rf_max_features: 64, valid_r2: 0.048492232566080484\n",
            "number of features: 1024\n"
          ],
          "name": "stdout"
        },
        {
          "output_type": "stream",
          "text": [
            "2021-04-27 23:04:47,646 Previous dataset split restored\n"
          ],
          "name": "stderr"
        },
        {
          "output_type": "stream",
          "text": [
            "TIMING: dataset construction took 0.039 s\n",
            "Loading dataset from disk.\n",
            "TIMING: dataset construction took 0.009 s\n",
            "Loading dataset from disk.\n",
            "TIMING: dataset construction took 0.009 s\n",
            "Loading dataset from disk.\n"
          ],
          "name": "stdout"
        },
        {
          "output_type": "stream",
          "text": [
            "2021-04-27 23:04:48,401 Wrote model metadata to file /content/drive/MyDrive/Columbia_E4511/resample_CYP2D6_models/resample_delaney_cur_final/RF_ecfp_scaffold_regression/618b98cd-08b6-4c14-b318-638e9a752011/model_metadata.json\n",
            "2021-04-27 23:04:48,420 Wrote model metrics to file /content/drive/MyDrive/Columbia_E4511/resample_CYP2D6_models/resample_delaney_cur_final/RF_ecfp_scaffold_regression/618b98cd-08b6-4c14-b318-638e9a752011/model_metrics.json\n"
          ],
          "name": "stderr"
        },
        {
          "output_type": "stream",
          "text": [
            "Wrote model tarball to /content/drive/MyDrive/Columbia_E4511/resample_CYP2D6_models/resample_delaney_cur_final_model_618b98cd-08b6-4c14-b318-638e9a752011.tar.gz\n",
            "rf_estimators: 16, rf_max_depth: 32, rf_max_features: 128, valid_r2: -0.08262507856221402\n",
            "number of features: 1024\n"
          ],
          "name": "stdout"
        },
        {
          "output_type": "stream",
          "text": [
            "2021-04-27 23:04:53,486 Previous dataset split restored\n"
          ],
          "name": "stderr"
        },
        {
          "output_type": "stream",
          "text": [
            "TIMING: dataset construction took 0.037 s\n",
            "Loading dataset from disk.\n",
            "TIMING: dataset construction took 0.009 s\n",
            "Loading dataset from disk.\n",
            "TIMING: dataset construction took 0.009 s\n",
            "Loading dataset from disk.\n"
          ],
          "name": "stdout"
        },
        {
          "output_type": "stream",
          "text": [
            "2021-04-27 23:04:54,237 Wrote model metadata to file /content/drive/MyDrive/Columbia_E4511/resample_CYP2D6_models/resample_delaney_cur_final/RF_ecfp_scaffold_regression/c67de3c6-738a-48eb-9627-f70a24724d14/model_metadata.json\n",
            "2021-04-27 23:04:54,263 Wrote model metrics to file /content/drive/MyDrive/Columbia_E4511/resample_CYP2D6_models/resample_delaney_cur_final/RF_ecfp_scaffold_regression/c67de3c6-738a-48eb-9627-f70a24724d14/model_metrics.json\n"
          ],
          "name": "stderr"
        },
        {
          "output_type": "stream",
          "text": [
            "Wrote model tarball to /content/drive/MyDrive/Columbia_E4511/resample_CYP2D6_models/resample_delaney_cur_final_model_c67de3c6-738a-48eb-9627-f70a24724d14.tar.gz\n",
            "rf_estimators: 16, rf_max_depth: 64, rf_max_features: 16, valid_r2: 0.024750378667091733\n",
            "number of features: 1024\n"
          ],
          "name": "stdout"
        },
        {
          "output_type": "stream",
          "text": [
            "2021-04-27 23:04:59,367 Previous dataset split restored\n"
          ],
          "name": "stderr"
        },
        {
          "output_type": "stream",
          "text": [
            "TIMING: dataset construction took 0.038 s\n",
            "Loading dataset from disk.\n",
            "TIMING: dataset construction took 0.013 s\n",
            "Loading dataset from disk.\n",
            "TIMING: dataset construction took 0.009 s\n",
            "Loading dataset from disk.\n"
          ],
          "name": "stdout"
        },
        {
          "output_type": "stream",
          "text": [
            "2021-04-27 23:05:00,128 Wrote model metadata to file /content/drive/MyDrive/Columbia_E4511/resample_CYP2D6_models/resample_delaney_cur_final/RF_ecfp_scaffold_regression/29b3208a-f82c-43dd-89eb-2632e3e2c720/model_metadata.json\n",
            "2021-04-27 23:05:00,149 Wrote model metrics to file /content/drive/MyDrive/Columbia_E4511/resample_CYP2D6_models/resample_delaney_cur_final/RF_ecfp_scaffold_regression/29b3208a-f82c-43dd-89eb-2632e3e2c720/model_metrics.json\n"
          ],
          "name": "stderr"
        },
        {
          "output_type": "stream",
          "text": [
            "Wrote model tarball to /content/drive/MyDrive/Columbia_E4511/resample_CYP2D6_models/resample_delaney_cur_final_model_29b3208a-f82c-43dd-89eb-2632e3e2c720.tar.gz\n",
            "rf_estimators: 16, rf_max_depth: 64, rf_max_features: 32, valid_r2: -0.004307338169643016\n",
            "number of features: 1024\n"
          ],
          "name": "stdout"
        },
        {
          "output_type": "stream",
          "text": [
            "2021-04-27 23:05:05,262 Previous dataset split restored\n"
          ],
          "name": "stderr"
        },
        {
          "output_type": "stream",
          "text": [
            "TIMING: dataset construction took 0.036 s\n",
            "Loading dataset from disk.\n",
            "TIMING: dataset construction took 0.010 s\n",
            "Loading dataset from disk.\n",
            "TIMING: dataset construction took 0.009 s\n",
            "Loading dataset from disk.\n"
          ],
          "name": "stdout"
        },
        {
          "output_type": "stream",
          "text": [
            "2021-04-27 23:05:06,026 Wrote model metadata to file /content/drive/MyDrive/Columbia_E4511/resample_CYP2D6_models/resample_delaney_cur_final/RF_ecfp_scaffold_regression/6df4de8f-1050-462c-8d49-5d83932c1c08/model_metadata.json\n",
            "2021-04-27 23:05:06,050 Wrote model metrics to file /content/drive/MyDrive/Columbia_E4511/resample_CYP2D6_models/resample_delaney_cur_final/RF_ecfp_scaffold_regression/6df4de8f-1050-462c-8d49-5d83932c1c08/model_metrics.json\n"
          ],
          "name": "stderr"
        },
        {
          "output_type": "stream",
          "text": [
            "Wrote model tarball to /content/drive/MyDrive/Columbia_E4511/resample_CYP2D6_models/resample_delaney_cur_final_model_6df4de8f-1050-462c-8d49-5d83932c1c08.tar.gz\n",
            "rf_estimators: 16, rf_max_depth: 64, rf_max_features: 64, valid_r2: 0.038673867984693744\n",
            "number of features: 1024\n"
          ],
          "name": "stdout"
        },
        {
          "output_type": "stream",
          "text": [
            "2021-04-27 23:05:11,086 Previous dataset split restored\n"
          ],
          "name": "stderr"
        },
        {
          "output_type": "stream",
          "text": [
            "TIMING: dataset construction took 0.047 s\n",
            "Loading dataset from disk.\n",
            "TIMING: dataset construction took 0.010 s\n",
            "Loading dataset from disk.\n",
            "TIMING: dataset construction took 0.010 s\n",
            "Loading dataset from disk.\n"
          ],
          "name": "stdout"
        },
        {
          "output_type": "stream",
          "text": [
            "2021-04-27 23:05:11,857 Wrote model metadata to file /content/drive/MyDrive/Columbia_E4511/resample_CYP2D6_models/resample_delaney_cur_final/RF_ecfp_scaffold_regression/984d7840-19e6-49ca-8ef6-8447c12fb3ca/model_metadata.json\n",
            "2021-04-27 23:05:11,878 Wrote model metrics to file /content/drive/MyDrive/Columbia_E4511/resample_CYP2D6_models/resample_delaney_cur_final/RF_ecfp_scaffold_regression/984d7840-19e6-49ca-8ef6-8447c12fb3ca/model_metrics.json\n"
          ],
          "name": "stderr"
        },
        {
          "output_type": "stream",
          "text": [
            "Wrote model tarball to /content/drive/MyDrive/Columbia_E4511/resample_CYP2D6_models/resample_delaney_cur_final_model_984d7840-19e6-49ca-8ef6-8447c12fb3ca.tar.gz\n",
            "rf_estimators: 16, rf_max_depth: 64, rf_max_features: 128, valid_r2: -0.027714943399234748\n",
            "number of features: 1024\n"
          ],
          "name": "stdout"
        },
        {
          "output_type": "stream",
          "text": [
            "2021-04-27 23:05:16,981 Previous dataset split restored\n"
          ],
          "name": "stderr"
        },
        {
          "output_type": "stream",
          "text": [
            "TIMING: dataset construction took 0.036 s\n",
            "Loading dataset from disk.\n",
            "TIMING: dataset construction took 0.010 s\n",
            "Loading dataset from disk.\n",
            "TIMING: dataset construction took 0.010 s\n",
            "Loading dataset from disk.\n"
          ],
          "name": "stdout"
        },
        {
          "output_type": "stream",
          "text": [
            "2021-04-27 23:05:17,735 Wrote model metadata to file /content/drive/MyDrive/Columbia_E4511/resample_CYP2D6_models/resample_delaney_cur_final/RF_ecfp_scaffold_regression/68d09a83-60a4-4158-a1ba-c2dfb04f3a44/model_metadata.json\n",
            "2021-04-27 23:05:17,757 Wrote model metrics to file /content/drive/MyDrive/Columbia_E4511/resample_CYP2D6_models/resample_delaney_cur_final/RF_ecfp_scaffold_regression/68d09a83-60a4-4158-a1ba-c2dfb04f3a44/model_metrics.json\n"
          ],
          "name": "stderr"
        },
        {
          "output_type": "stream",
          "text": [
            "Wrote model tarball to /content/drive/MyDrive/Columbia_E4511/resample_CYP2D6_models/resample_delaney_cur_final_model_68d09a83-60a4-4158-a1ba-c2dfb04f3a44.tar.gz\n",
            "rf_estimators: 16, rf_max_depth: 128, rf_max_features: 16, valid_r2: 0.05562420280612235\n",
            "number of features: 1024\n"
          ],
          "name": "stdout"
        },
        {
          "output_type": "stream",
          "text": [
            "2021-04-27 23:05:22,894 Previous dataset split restored\n"
          ],
          "name": "stderr"
        },
        {
          "output_type": "stream",
          "text": [
            "TIMING: dataset construction took 0.037 s\n",
            "Loading dataset from disk.\n",
            "TIMING: dataset construction took 0.009 s\n",
            "Loading dataset from disk.\n",
            "TIMING: dataset construction took 0.011 s\n",
            "Loading dataset from disk.\n"
          ],
          "name": "stdout"
        },
        {
          "output_type": "stream",
          "text": [
            "2021-04-27 23:05:23,652 Wrote model metadata to file /content/drive/MyDrive/Columbia_E4511/resample_CYP2D6_models/resample_delaney_cur_final/RF_ecfp_scaffold_regression/2b1110f1-a432-43ec-b207-3ba9b4ca6b85/model_metadata.json\n",
            "2021-04-27 23:05:23,674 Wrote model metrics to file /content/drive/MyDrive/Columbia_E4511/resample_CYP2D6_models/resample_delaney_cur_final/RF_ecfp_scaffold_regression/2b1110f1-a432-43ec-b207-3ba9b4ca6b85/model_metrics.json\n"
          ],
          "name": "stderr"
        },
        {
          "output_type": "stream",
          "text": [
            "Wrote model tarball to /content/drive/MyDrive/Columbia_E4511/resample_CYP2D6_models/resample_delaney_cur_final_model_2b1110f1-a432-43ec-b207-3ba9b4ca6b85.tar.gz\n",
            "rf_estimators: 16, rf_max_depth: 128, rf_max_features: 32, valid_r2: 0.022934271364795755\n",
            "number of features: 1024\n"
          ],
          "name": "stdout"
        },
        {
          "output_type": "stream",
          "text": [
            "2021-04-27 23:05:28,787 Previous dataset split restored\n"
          ],
          "name": "stderr"
        },
        {
          "output_type": "stream",
          "text": [
            "TIMING: dataset construction took 0.037 s\n",
            "Loading dataset from disk.\n",
            "TIMING: dataset construction took 0.010 s\n",
            "Loading dataset from disk.\n",
            "TIMING: dataset construction took 0.010 s\n",
            "Loading dataset from disk.\n"
          ],
          "name": "stdout"
        },
        {
          "output_type": "stream",
          "text": [
            "2021-04-27 23:05:29,542 Wrote model metadata to file /content/drive/MyDrive/Columbia_E4511/resample_CYP2D6_models/resample_delaney_cur_final/RF_ecfp_scaffold_regression/376795aa-10db-4926-90f4-6d3902e6d597/model_metadata.json\n",
            "2021-04-27 23:05:29,581 Wrote model metrics to file /content/drive/MyDrive/Columbia_E4511/resample_CYP2D6_models/resample_delaney_cur_final/RF_ecfp_scaffold_regression/376795aa-10db-4926-90f4-6d3902e6d597/model_metrics.json\n"
          ],
          "name": "stderr"
        },
        {
          "output_type": "stream",
          "text": [
            "Wrote model tarball to /content/drive/MyDrive/Columbia_E4511/resample_CYP2D6_models/resample_delaney_cur_final_model_376795aa-10db-4926-90f4-6d3902e6d597.tar.gz\n",
            "rf_estimators: 16, rf_max_depth: 128, rf_max_features: 64, valid_r2: -0.10681650589923475\n",
            "number of features: 1024\n"
          ],
          "name": "stdout"
        },
        {
          "output_type": "stream",
          "text": [
            "2021-04-27 23:05:34,694 Previous dataset split restored\n"
          ],
          "name": "stderr"
        },
        {
          "output_type": "stream",
          "text": [
            "TIMING: dataset construction took 0.039 s\n",
            "Loading dataset from disk.\n",
            "TIMING: dataset construction took 0.010 s\n",
            "Loading dataset from disk.\n",
            "TIMING: dataset construction took 0.009 s\n",
            "Loading dataset from disk.\n"
          ],
          "name": "stdout"
        },
        {
          "output_type": "stream",
          "text": [
            "2021-04-27 23:05:35,446 Wrote model metadata to file /content/drive/MyDrive/Columbia_E4511/resample_CYP2D6_models/resample_delaney_cur_final/RF_ecfp_scaffold_regression/d2dffab9-b4ec-40f1-8e31-934edfc5ae24/model_metadata.json\n",
            "2021-04-27 23:05:35,467 Wrote model metrics to file /content/drive/MyDrive/Columbia_E4511/resample_CYP2D6_models/resample_delaney_cur_final/RF_ecfp_scaffold_regression/d2dffab9-b4ec-40f1-8e31-934edfc5ae24/model_metrics.json\n"
          ],
          "name": "stderr"
        },
        {
          "output_type": "stream",
          "text": [
            "Wrote model tarball to /content/drive/MyDrive/Columbia_E4511/resample_CYP2D6_models/resample_delaney_cur_final_model_d2dffab9-b4ec-40f1-8e31-934edfc5ae24.tar.gz\n",
            "rf_estimators: 16, rf_max_depth: 128, rf_max_features: 128, valid_r2: -0.047288544323979664\n",
            "number of features: 1024\n"
          ],
          "name": "stdout"
        },
        {
          "output_type": "stream",
          "text": [
            "2021-04-27 23:05:40,581 Previous dataset split restored\n"
          ],
          "name": "stderr"
        },
        {
          "output_type": "stream",
          "text": [
            "TIMING: dataset construction took 0.043 s\n",
            "Loading dataset from disk.\n",
            "TIMING: dataset construction took 0.010 s\n",
            "Loading dataset from disk.\n",
            "TIMING: dataset construction took 0.010 s\n",
            "Loading dataset from disk.\n"
          ],
          "name": "stdout"
        },
        {
          "output_type": "stream",
          "text": [
            "2021-04-27 23:05:41,356 Wrote model metadata to file /content/drive/MyDrive/Columbia_E4511/resample_CYP2D6_models/resample_delaney_cur_final/RF_ecfp_scaffold_regression/e440a009-6fc5-4427-a094-6787d56a74de/model_metadata.json\n",
            "2021-04-27 23:05:41,378 Wrote model metrics to file /content/drive/MyDrive/Columbia_E4511/resample_CYP2D6_models/resample_delaney_cur_final/RF_ecfp_scaffold_regression/e440a009-6fc5-4427-a094-6787d56a74de/model_metrics.json\n"
          ],
          "name": "stderr"
        },
        {
          "output_type": "stream",
          "text": [
            "Wrote model tarball to /content/drive/MyDrive/Columbia_E4511/resample_CYP2D6_models/resample_delaney_cur_final_model_e440a009-6fc5-4427-a094-6787d56a74de.tar.gz\n",
            "rf_estimators: 32, rf_max_depth: 16, rf_max_features: 16, valid_r2: -0.023820329720561473\n",
            "number of features: 1024\n"
          ],
          "name": "stdout"
        },
        {
          "output_type": "stream",
          "text": [
            "2021-04-27 23:05:46,424 Previous dataset split restored\n"
          ],
          "name": "stderr"
        },
        {
          "output_type": "stream",
          "text": [
            "TIMING: dataset construction took 0.037 s\n",
            "Loading dataset from disk.\n",
            "TIMING: dataset construction took 0.009 s\n",
            "Loading dataset from disk.\n",
            "TIMING: dataset construction took 0.009 s\n",
            "Loading dataset from disk.\n"
          ],
          "name": "stdout"
        },
        {
          "output_type": "stream",
          "text": [
            "2021-04-27 23:05:47,199 Wrote model metadata to file /content/drive/MyDrive/Columbia_E4511/resample_CYP2D6_models/resample_delaney_cur_final/RF_ecfp_scaffold_regression/fcb09d6c-dd3f-4188-b0b1-549dd7b502d1/model_metadata.json\n",
            "2021-04-27 23:05:47,250 Wrote model metrics to file /content/drive/MyDrive/Columbia_E4511/resample_CYP2D6_models/resample_delaney_cur_final/RF_ecfp_scaffold_regression/fcb09d6c-dd3f-4188-b0b1-549dd7b502d1/model_metrics.json\n"
          ],
          "name": "stderr"
        },
        {
          "output_type": "stream",
          "text": [
            "Wrote model tarball to /content/drive/MyDrive/Columbia_E4511/resample_CYP2D6_models/resample_delaney_cur_final_model_fcb09d6c-dd3f-4188-b0b1-549dd7b502d1.tar.gz\n",
            "rf_estimators: 32, rf_max_depth: 16, rf_max_features: 32, valid_r2: 0.055488058946295826\n",
            "number of features: 1024\n"
          ],
          "name": "stdout"
        },
        {
          "output_type": "stream",
          "text": [
            "2021-04-27 23:05:52,318 Previous dataset split restored\n"
          ],
          "name": "stderr"
        },
        {
          "output_type": "stream",
          "text": [
            "TIMING: dataset construction took 0.037 s\n",
            "Loading dataset from disk.\n",
            "TIMING: dataset construction took 0.010 s\n",
            "Loading dataset from disk.\n",
            "TIMING: dataset construction took 0.010 s\n",
            "Loading dataset from disk.\n"
          ],
          "name": "stdout"
        },
        {
          "output_type": "stream",
          "text": [
            "2021-04-27 23:05:53,091 Wrote model metadata to file /content/drive/MyDrive/Columbia_E4511/resample_CYP2D6_models/resample_delaney_cur_final/RF_ecfp_scaffold_regression/f09245da-6389-41ea-b09b-ed6d16503487/model_metadata.json\n",
            "2021-04-27 23:05:53,113 Wrote model metrics to file /content/drive/MyDrive/Columbia_E4511/resample_CYP2D6_models/resample_delaney_cur_final/RF_ecfp_scaffold_regression/f09245da-6389-41ea-b09b-ed6d16503487/model_metrics.json\n"
          ],
          "name": "stderr"
        },
        {
          "output_type": "stream",
          "text": [
            "Wrote model tarball to /content/drive/MyDrive/Columbia_E4511/resample_CYP2D6_models/resample_delaney_cur_final_model_f09245da-6389-41ea-b09b-ed6d16503487.tar.gz\n",
            "rf_estimators: 32, rf_max_depth: 16, rf_max_features: 64, valid_r2: 0.052746994589426444\n",
            "number of features: 1024\n"
          ],
          "name": "stdout"
        },
        {
          "output_type": "stream",
          "text": [
            "2021-04-27 23:05:58,141 Previous dataset split restored\n"
          ],
          "name": "stderr"
        },
        {
          "output_type": "stream",
          "text": [
            "TIMING: dataset construction took 0.038 s\n",
            "Loading dataset from disk.\n",
            "TIMING: dataset construction took 0.010 s\n",
            "Loading dataset from disk.\n",
            "TIMING: dataset construction took 0.009 s\n",
            "Loading dataset from disk.\n"
          ],
          "name": "stdout"
        },
        {
          "output_type": "stream",
          "text": [
            "2021-04-27 23:05:58,920 Wrote model metadata to file /content/drive/MyDrive/Columbia_E4511/resample_CYP2D6_models/resample_delaney_cur_final/RF_ecfp_scaffold_regression/f3219fcb-935d-4275-b307-512da53fae62/model_metadata.json\n",
            "2021-04-27 23:05:58,940 Wrote model metrics to file /content/drive/MyDrive/Columbia_E4511/resample_CYP2D6_models/resample_delaney_cur_final/RF_ecfp_scaffold_regression/f3219fcb-935d-4275-b307-512da53fae62/model_metrics.json\n"
          ],
          "name": "stderr"
        },
        {
          "output_type": "stream",
          "text": [
            "Wrote model tarball to /content/drive/MyDrive/Columbia_E4511/resample_CYP2D6_models/resample_delaney_cur_final_model_f3219fcb-935d-4275-b307-512da53fae62.tar.gz\n",
            "rf_estimators: 32, rf_max_depth: 16, rf_max_features: 128, valid_r2: 0.026536935652687776\n",
            "number of features: 1024\n"
          ],
          "name": "stdout"
        },
        {
          "output_type": "stream",
          "text": [
            "2021-04-27 23:06:04,022 Previous dataset split restored\n"
          ],
          "name": "stderr"
        },
        {
          "output_type": "stream",
          "text": [
            "TIMING: dataset construction took 0.037 s\n",
            "Loading dataset from disk.\n",
            "TIMING: dataset construction took 0.009 s\n",
            "Loading dataset from disk.\n",
            "TIMING: dataset construction took 0.009 s\n",
            "Loading dataset from disk.\n"
          ],
          "name": "stdout"
        },
        {
          "output_type": "stream",
          "text": [
            "2021-04-27 23:06:04,805 Wrote model metadata to file /content/drive/MyDrive/Columbia_E4511/resample_CYP2D6_models/resample_delaney_cur_final/RF_ecfp_scaffold_regression/9b8de289-b8d4-41f0-9061-415ba5f7184a/model_metadata.json\n",
            "2021-04-27 23:06:04,829 Wrote model metrics to file /content/drive/MyDrive/Columbia_E4511/resample_CYP2D6_models/resample_delaney_cur_final/RF_ecfp_scaffold_regression/9b8de289-b8d4-41f0-9061-415ba5f7184a/model_metrics.json\n"
          ],
          "name": "stderr"
        },
        {
          "output_type": "stream",
          "text": [
            "Wrote model tarball to /content/drive/MyDrive/Columbia_E4511/resample_CYP2D6_models/resample_delaney_cur_final_model_9b8de289-b8d4-41f0-9061-415ba5f7184a.tar.gz\n",
            "rf_estimators: 32, rf_max_depth: 32, rf_max_features: 16, valid_r2: 0.010960442902484546\n",
            "number of features: 1024\n"
          ],
          "name": "stdout"
        },
        {
          "output_type": "stream",
          "text": [
            "2021-04-27 23:06:09,876 Previous dataset split restored\n"
          ],
          "name": "stderr"
        },
        {
          "output_type": "stream",
          "text": [
            "TIMING: dataset construction took 0.037 s\n",
            "Loading dataset from disk.\n",
            "TIMING: dataset construction took 0.009 s\n",
            "Loading dataset from disk.\n",
            "TIMING: dataset construction took 0.011 s\n",
            "Loading dataset from disk.\n"
          ],
          "name": "stdout"
        },
        {
          "output_type": "stream",
          "text": [
            "2021-04-27 23:06:10,645 Wrote model metadata to file /content/drive/MyDrive/Columbia_E4511/resample_CYP2D6_models/resample_delaney_cur_final/RF_ecfp_scaffold_regression/d66f9b92-4aae-482e-aa3f-373b01fdad1c/model_metadata.json\n",
            "2021-04-27 23:06:10,671 Wrote model metrics to file /content/drive/MyDrive/Columbia_E4511/resample_CYP2D6_models/resample_delaney_cur_final/RF_ecfp_scaffold_regression/d66f9b92-4aae-482e-aa3f-373b01fdad1c/model_metrics.json\n"
          ],
          "name": "stderr"
        },
        {
          "output_type": "stream",
          "text": [
            "Wrote model tarball to /content/drive/MyDrive/Columbia_E4511/resample_CYP2D6_models/resample_delaney_cur_final_model_d66f9b92-4aae-482e-aa3f-373b01fdad1c.tar.gz\n",
            "rf_estimators: 32, rf_max_depth: 32, rf_max_features: 32, valid_r2: -0.028164281079938958\n",
            "number of features: 1024\n"
          ],
          "name": "stdout"
        },
        {
          "output_type": "stream",
          "text": [
            "2021-04-27 23:06:15,763 Previous dataset split restored\n"
          ],
          "name": "stderr"
        },
        {
          "output_type": "stream",
          "text": [
            "TIMING: dataset construction took 0.038 s\n",
            "Loading dataset from disk.\n",
            "TIMING: dataset construction took 0.010 s\n",
            "Loading dataset from disk.\n",
            "TIMING: dataset construction took 0.010 s\n",
            "Loading dataset from disk.\n"
          ],
          "name": "stdout"
        },
        {
          "output_type": "stream",
          "text": [
            "2021-04-27 23:06:16,544 Wrote model metadata to file /content/drive/MyDrive/Columbia_E4511/resample_CYP2D6_models/resample_delaney_cur_final/RF_ecfp_scaffold_regression/e2290439-1086-4465-b2c9-44ef11716ac2/model_metadata.json\n",
            "2021-04-27 23:06:16,568 Wrote model metrics to file /content/drive/MyDrive/Columbia_E4511/resample_CYP2D6_models/resample_delaney_cur_final/RF_ecfp_scaffold_regression/e2290439-1086-4465-b2c9-44ef11716ac2/model_metrics.json\n"
          ],
          "name": "stderr"
        },
        {
          "output_type": "stream",
          "text": [
            "Wrote model tarball to /content/drive/MyDrive/Columbia_E4511/resample_CYP2D6_models/resample_delaney_cur_final_model_e2290439-1086-4465-b2c9-44ef11716ac2.tar.gz\n",
            "rf_estimators: 32, rf_max_depth: 32, rf_max_features: 64, valid_r2: -0.006237166253611148\n",
            "number of features: 1024\n"
          ],
          "name": "stdout"
        },
        {
          "output_type": "stream",
          "text": [
            "2021-04-27 23:06:21,648 Previous dataset split restored\n"
          ],
          "name": "stderr"
        },
        {
          "output_type": "stream",
          "text": [
            "TIMING: dataset construction took 0.038 s\n",
            "Loading dataset from disk.\n",
            "TIMING: dataset construction took 0.010 s\n",
            "Loading dataset from disk.\n",
            "TIMING: dataset construction took 0.010 s\n",
            "Loading dataset from disk.\n"
          ],
          "name": "stdout"
        },
        {
          "output_type": "stream",
          "text": [
            "2021-04-27 23:06:22,554 Wrote model metadata to file /content/drive/MyDrive/Columbia_E4511/resample_CYP2D6_models/resample_delaney_cur_final/RF_ecfp_scaffold_regression/589690bf-d885-4ef9-88fe-8522c7ec85ab/model_metadata.json\n",
            "2021-04-27 23:06:22,576 Wrote model metrics to file /content/drive/MyDrive/Columbia_E4511/resample_CYP2D6_models/resample_delaney_cur_final/RF_ecfp_scaffold_regression/589690bf-d885-4ef9-88fe-8522c7ec85ab/model_metrics.json\n"
          ],
          "name": "stderr"
        },
        {
          "output_type": "stream",
          "text": [
            "Wrote model tarball to /content/drive/MyDrive/Columbia_E4511/resample_CYP2D6_models/resample_delaney_cur_final_model_589690bf-d885-4ef9-88fe-8522c7ec85ab.tar.gz\n",
            "rf_estimators: 32, rf_max_depth: 32, rf_max_features: 128, valid_r2: -0.008341474111653202\n",
            "number of features: 1024\n"
          ],
          "name": "stdout"
        },
        {
          "output_type": "stream",
          "text": [
            "2021-04-27 23:06:27,646 Previous dataset split restored\n"
          ],
          "name": "stderr"
        },
        {
          "output_type": "stream",
          "text": [
            "TIMING: dataset construction took 0.038 s\n",
            "Loading dataset from disk.\n",
            "TIMING: dataset construction took 0.010 s\n",
            "Loading dataset from disk.\n",
            "TIMING: dataset construction took 0.010 s\n",
            "Loading dataset from disk.\n"
          ],
          "name": "stdout"
        },
        {
          "output_type": "stream",
          "text": [
            "2021-04-27 23:06:28,428 Wrote model metadata to file /content/drive/MyDrive/Columbia_E4511/resample_CYP2D6_models/resample_delaney_cur_final/RF_ecfp_scaffold_regression/6561275b-a37b-4156-9171-fcd9e789eb4c/model_metadata.json\n",
            "2021-04-27 23:06:28,457 Wrote model metrics to file /content/drive/MyDrive/Columbia_E4511/resample_CYP2D6_models/resample_delaney_cur_final/RF_ecfp_scaffold_regression/6561275b-a37b-4156-9171-fcd9e789eb4c/model_metrics.json\n"
          ],
          "name": "stderr"
        },
        {
          "output_type": "stream",
          "text": [
            "Wrote model tarball to /content/drive/MyDrive/Columbia_E4511/resample_CYP2D6_models/resample_delaney_cur_final_model_6561275b-a37b-4156-9171-fcd9e789eb4c.tar.gz\n",
            "rf_estimators: 32, rf_max_depth: 64, rf_max_features: 16, valid_r2: -0.006375682597257848\n",
            "number of features: 1024\n"
          ],
          "name": "stdout"
        },
        {
          "output_type": "stream",
          "text": [
            "2021-04-27 23:06:33,542 Previous dataset split restored\n"
          ],
          "name": "stderr"
        },
        {
          "output_type": "stream",
          "text": [
            "TIMING: dataset construction took 0.038 s\n",
            "Loading dataset from disk.\n",
            "TIMING: dataset construction took 0.011 s\n",
            "Loading dataset from disk.\n",
            "TIMING: dataset construction took 0.009 s\n",
            "Loading dataset from disk.\n"
          ],
          "name": "stdout"
        },
        {
          "output_type": "stream",
          "text": [
            "2021-04-27 23:06:34,322 Wrote model metadata to file /content/drive/MyDrive/Columbia_E4511/resample_CYP2D6_models/resample_delaney_cur_final/RF_ecfp_scaffold_regression/7f9e20c6-9ce8-45e5-b95f-b18c35acc60a/model_metadata.json\n",
            "2021-04-27 23:06:34,348 Wrote model metrics to file /content/drive/MyDrive/Columbia_E4511/resample_CYP2D6_models/resample_delaney_cur_final/RF_ecfp_scaffold_regression/7f9e20c6-9ce8-45e5-b95f-b18c35acc60a/model_metrics.json\n"
          ],
          "name": "stderr"
        },
        {
          "output_type": "stream",
          "text": [
            "Wrote model tarball to /content/drive/MyDrive/Columbia_E4511/resample_CYP2D6_models/resample_delaney_cur_final_model_7f9e20c6-9ce8-45e5-b95f-b18c35acc60a.tar.gz\n",
            "rf_estimators: 32, rf_max_depth: 64, rf_max_features: 32, valid_r2: 0.014913130779655503\n",
            "number of features: 1024\n"
          ],
          "name": "stdout"
        },
        {
          "output_type": "stream",
          "text": [
            "2021-04-27 23:06:39,526 Previous dataset split restored\n"
          ],
          "name": "stderr"
        },
        {
          "output_type": "stream",
          "text": [
            "TIMING: dataset construction took 0.041 s\n",
            "Loading dataset from disk.\n",
            "TIMING: dataset construction took 0.010 s\n",
            "Loading dataset from disk.\n",
            "TIMING: dataset construction took 0.010 s\n",
            "Loading dataset from disk.\n"
          ],
          "name": "stdout"
        },
        {
          "output_type": "stream",
          "text": [
            "2021-04-27 23:06:40,334 Wrote model metadata to file /content/drive/MyDrive/Columbia_E4511/resample_CYP2D6_models/resample_delaney_cur_final/RF_ecfp_scaffold_regression/4bd7704d-1abb-48dd-8c9d-03a695f9e345/model_metadata.json\n",
            "2021-04-27 23:06:40,357 Wrote model metrics to file /content/drive/MyDrive/Columbia_E4511/resample_CYP2D6_models/resample_delaney_cur_final/RF_ecfp_scaffold_regression/4bd7704d-1abb-48dd-8c9d-03a695f9e345/model_metrics.json\n"
          ],
          "name": "stderr"
        },
        {
          "output_type": "stream",
          "text": [
            "Wrote model tarball to /content/drive/MyDrive/Columbia_E4511/resample_CYP2D6_models/resample_delaney_cur_final_model_4bd7704d-1abb-48dd-8c9d-03a695f9e345.tar.gz\n",
            "rf_estimators: 32, rf_max_depth: 64, rf_max_features: 64, valid_r2: 0.03453717912946419\n",
            "number of features: 1024\n"
          ],
          "name": "stdout"
        },
        {
          "output_type": "stream",
          "text": [
            "2021-04-27 23:06:45,417 Previous dataset split restored\n"
          ],
          "name": "stderr"
        },
        {
          "output_type": "stream",
          "text": [
            "TIMING: dataset construction took 0.041 s\n",
            "Loading dataset from disk.\n",
            "TIMING: dataset construction took 0.010 s\n",
            "Loading dataset from disk.\n",
            "TIMING: dataset construction took 0.010 s\n",
            "Loading dataset from disk.\n"
          ],
          "name": "stdout"
        },
        {
          "output_type": "stream",
          "text": [
            "2021-04-27 23:06:46,307 Wrote model metadata to file /content/drive/MyDrive/Columbia_E4511/resample_CYP2D6_models/resample_delaney_cur_final/RF_ecfp_scaffold_regression/891be076-cd3f-4aa7-bd8b-8ae4d739ba78/model_metadata.json\n",
            "2021-04-27 23:06:46,332 Wrote model metrics to file /content/drive/MyDrive/Columbia_E4511/resample_CYP2D6_models/resample_delaney_cur_final/RF_ecfp_scaffold_regression/891be076-cd3f-4aa7-bd8b-8ae4d739ba78/model_metrics.json\n"
          ],
          "name": "stderr"
        },
        {
          "output_type": "stream",
          "text": [
            "Wrote model tarball to /content/drive/MyDrive/Columbia_E4511/resample_CYP2D6_models/resample_delaney_cur_final_model_891be076-cd3f-4aa7-bd8b-8ae4d739ba78.tar.gz\n",
            "rf_estimators: 32, rf_max_depth: 64, rf_max_features: 128, valid_r2: 0.06208147321428559\n",
            "number of features: 1024\n"
          ],
          "name": "stdout"
        },
        {
          "output_type": "stream",
          "text": [
            "2021-04-27 23:06:51,413 Previous dataset split restored\n"
          ],
          "name": "stderr"
        },
        {
          "output_type": "stream",
          "text": [
            "TIMING: dataset construction took 0.038 s\n",
            "Loading dataset from disk.\n",
            "TIMING: dataset construction took 0.010 s\n",
            "Loading dataset from disk.\n",
            "TIMING: dataset construction took 0.010 s\n",
            "Loading dataset from disk.\n"
          ],
          "name": "stdout"
        },
        {
          "output_type": "stream",
          "text": [
            "2021-04-27 23:06:52,196 Wrote model metadata to file /content/drive/MyDrive/Columbia_E4511/resample_CYP2D6_models/resample_delaney_cur_final/RF_ecfp_scaffold_regression/9106a3bf-b0ee-44b0-bec6-fc59d3ba3df7/model_metadata.json\n",
            "2021-04-27 23:06:52,224 Wrote model metrics to file /content/drive/MyDrive/Columbia_E4511/resample_CYP2D6_models/resample_delaney_cur_final/RF_ecfp_scaffold_regression/9106a3bf-b0ee-44b0-bec6-fc59d3ba3df7/model_metrics.json\n"
          ],
          "name": "stderr"
        },
        {
          "output_type": "stream",
          "text": [
            "Wrote model tarball to /content/drive/MyDrive/Columbia_E4511/resample_CYP2D6_models/resample_delaney_cur_final_model_9106a3bf-b0ee-44b0-bec6-fc59d3ba3df7.tar.gz\n",
            "rf_estimators: 32, rf_max_depth: 128, rf_max_features: 16, valid_r2: 0.037816261758609526\n",
            "number of features: 1024\n"
          ],
          "name": "stdout"
        },
        {
          "output_type": "stream",
          "text": [
            "2021-04-27 23:06:57,308 Previous dataset split restored\n"
          ],
          "name": "stderr"
        },
        {
          "output_type": "stream",
          "text": [
            "TIMING: dataset construction took 0.038 s\n",
            "Loading dataset from disk.\n",
            "TIMING: dataset construction took 0.009 s\n",
            "Loading dataset from disk.\n",
            "TIMING: dataset construction took 0.010 s\n",
            "Loading dataset from disk.\n"
          ],
          "name": "stdout"
        },
        {
          "output_type": "stream",
          "text": [
            "2021-04-27 23:06:58,080 Wrote model metadata to file /content/drive/MyDrive/Columbia_E4511/resample_CYP2D6_models/resample_delaney_cur_final/RF_ecfp_scaffold_regression/d1964dcb-4217-44ca-9403-faa0924278ef/model_metadata.json\n",
            "2021-04-27 23:06:58,108 Wrote model metrics to file /content/drive/MyDrive/Columbia_E4511/resample_CYP2D6_models/resample_delaney_cur_final/RF_ecfp_scaffold_regression/d1964dcb-4217-44ca-9403-faa0924278ef/model_metrics.json\n"
          ],
          "name": "stderr"
        },
        {
          "output_type": "stream",
          "text": [
            "Wrote model tarball to /content/drive/MyDrive/Columbia_E4511/resample_CYP2D6_models/resample_delaney_cur_final_model_d1964dcb-4217-44ca-9403-faa0924278ef.tar.gz\n",
            "rf_estimators: 32, rf_max_depth: 128, rf_max_features: 32, valid_r2: 0.054060332629145225\n",
            "number of features: 1024\n"
          ],
          "name": "stdout"
        },
        {
          "output_type": "stream",
          "text": [
            "2021-04-27 23:07:03,245 Previous dataset split restored\n"
          ],
          "name": "stderr"
        },
        {
          "output_type": "stream",
          "text": [
            "TIMING: dataset construction took 0.038 s\n",
            "Loading dataset from disk.\n",
            "TIMING: dataset construction took 0.010 s\n",
            "Loading dataset from disk.\n",
            "TIMING: dataset construction took 0.009 s\n",
            "Loading dataset from disk.\n"
          ],
          "name": "stdout"
        },
        {
          "output_type": "stream",
          "text": [
            "2021-04-27 23:07:04,023 Wrote model metadata to file /content/drive/MyDrive/Columbia_E4511/resample_CYP2D6_models/resample_delaney_cur_final/RF_ecfp_scaffold_regression/4b409eea-60cf-4b6d-95f4-46b523dc87b7/model_metadata.json\n",
            "2021-04-27 23:07:04,046 Wrote model metrics to file /content/drive/MyDrive/Columbia_E4511/resample_CYP2D6_models/resample_delaney_cur_final/RF_ecfp_scaffold_regression/4b409eea-60cf-4b6d-95f4-46b523dc87b7/model_metrics.json\n"
          ],
          "name": "stderr"
        },
        {
          "output_type": "stream",
          "text": [
            "Wrote model tarball to /content/drive/MyDrive/Columbia_E4511/resample_CYP2D6_models/resample_delaney_cur_final_model_4b409eea-60cf-4b6d-95f4-46b523dc87b7.tar.gz\n",
            "rf_estimators: 32, rf_max_depth: 128, rf_max_features: 64, valid_r2: 0.08135238958864788\n",
            "number of features: 1024\n"
          ],
          "name": "stdout"
        },
        {
          "output_type": "stream",
          "text": [
            "2021-04-27 23:07:09,124 Previous dataset split restored\n"
          ],
          "name": "stderr"
        },
        {
          "output_type": "stream",
          "text": [
            "TIMING: dataset construction took 0.039 s\n",
            "Loading dataset from disk.\n",
            "TIMING: dataset construction took 0.010 s\n",
            "Loading dataset from disk.\n",
            "TIMING: dataset construction took 0.010 s\n",
            "Loading dataset from disk.\n"
          ],
          "name": "stdout"
        },
        {
          "output_type": "stream",
          "text": [
            "2021-04-27 23:07:10,023 Wrote model metadata to file /content/drive/MyDrive/Columbia_E4511/resample_CYP2D6_models/resample_delaney_cur_final/RF_ecfp_scaffold_regression/175ceeff-a936-42c5-92e4-801714802b6d/model_metadata.json\n",
            "2021-04-27 23:07:10,048 Wrote model metrics to file /content/drive/MyDrive/Columbia_E4511/resample_CYP2D6_models/resample_delaney_cur_final/RF_ecfp_scaffold_regression/175ceeff-a936-42c5-92e4-801714802b6d/model_metrics.json\n"
          ],
          "name": "stderr"
        },
        {
          "output_type": "stream",
          "text": [
            "Wrote model tarball to /content/drive/MyDrive/Columbia_E4511/resample_CYP2D6_models/resample_delaney_cur_final_model_175ceeff-a936-42c5-92e4-801714802b6d.tar.gz\n",
            "rf_estimators: 32, rf_max_depth: 128, rf_max_features: 128, valid_r2: 0.01577073700573961\n",
            "number of features: 1024\n"
          ],
          "name": "stdout"
        },
        {
          "output_type": "stream",
          "text": [
            "2021-04-27 23:07:15,115 Previous dataset split restored\n"
          ],
          "name": "stderr"
        },
        {
          "output_type": "stream",
          "text": [
            "TIMING: dataset construction took 0.037 s\n",
            "Loading dataset from disk.\n",
            "TIMING: dataset construction took 0.010 s\n",
            "Loading dataset from disk.\n",
            "TIMING: dataset construction took 0.010 s\n",
            "Loading dataset from disk.\n"
          ],
          "name": "stdout"
        },
        {
          "output_type": "stream",
          "text": [
            "2021-04-27 23:07:16,031 Wrote model metadata to file /content/drive/MyDrive/Columbia_E4511/resample_CYP2D6_models/resample_delaney_cur_final/RF_ecfp_scaffold_regression/724248d1-5a69-4d9e-a0a7-771a2537dde6/model_metadata.json\n",
            "2021-04-27 23:07:16,060 Wrote model metrics to file /content/drive/MyDrive/Columbia_E4511/resample_CYP2D6_models/resample_delaney_cur_final/RF_ecfp_scaffold_regression/724248d1-5a69-4d9e-a0a7-771a2537dde6/model_metrics.json\n"
          ],
          "name": "stderr"
        },
        {
          "output_type": "stream",
          "text": [
            "Wrote model tarball to /content/drive/MyDrive/Columbia_E4511/resample_CYP2D6_models/resample_delaney_cur_final_model_724248d1-5a69-4d9e-a0a7-771a2537dde6.tar.gz\n",
            "rf_estimators: 64, rf_max_depth: 16, rf_max_features: 16, valid_r2: 0.01725748888294154\n",
            "number of features: 1024\n"
          ],
          "name": "stdout"
        },
        {
          "output_type": "stream",
          "text": [
            "2021-04-27 23:07:21,147 Previous dataset split restored\n"
          ],
          "name": "stderr"
        },
        {
          "output_type": "stream",
          "text": [
            "TIMING: dataset construction took 0.038 s\n",
            "Loading dataset from disk.\n",
            "TIMING: dataset construction took 0.010 s\n",
            "Loading dataset from disk.\n",
            "TIMING: dataset construction took 0.010 s\n",
            "Loading dataset from disk.\n"
          ],
          "name": "stdout"
        },
        {
          "output_type": "stream",
          "text": [
            "2021-04-27 23:07:22,057 Wrote model metadata to file /content/drive/MyDrive/Columbia_E4511/resample_CYP2D6_models/resample_delaney_cur_final/RF_ecfp_scaffold_regression/38e59334-451a-4070-93f4-853fef106b2a/model_metadata.json\n",
            "2021-04-27 23:07:22,082 Wrote model metrics to file /content/drive/MyDrive/Columbia_E4511/resample_CYP2D6_models/resample_delaney_cur_final/RF_ecfp_scaffold_regression/38e59334-451a-4070-93f4-853fef106b2a/model_metrics.json\n"
          ],
          "name": "stderr"
        },
        {
          "output_type": "stream",
          "text": [
            "Wrote model tarball to /content/drive/MyDrive/Columbia_E4511/resample_CYP2D6_models/resample_delaney_cur_final_model_38e59334-451a-4070-93f4-853fef106b2a.tar.gz\n",
            "rf_estimators: 64, rf_max_depth: 16, rf_max_features: 32, valid_r2: -0.003150980406414705\n",
            "number of features: 1024\n"
          ],
          "name": "stdout"
        },
        {
          "output_type": "stream",
          "text": [
            "2021-04-27 23:07:27,219 Previous dataset split restored\n"
          ],
          "name": "stderr"
        },
        {
          "output_type": "stream",
          "text": [
            "TIMING: dataset construction took 0.037 s\n",
            "Loading dataset from disk.\n",
            "TIMING: dataset construction took 0.011 s\n",
            "Loading dataset from disk.\n",
            "TIMING: dataset construction took 0.010 s\n",
            "Loading dataset from disk.\n"
          ],
          "name": "stdout"
        },
        {
          "output_type": "stream",
          "text": [
            "2021-04-27 23:07:28,155 Wrote model metadata to file /content/drive/MyDrive/Columbia_E4511/resample_CYP2D6_models/resample_delaney_cur_final/RF_ecfp_scaffold_regression/ec2881b4-42ab-44ce-ae49-6503aae35841/model_metadata.json\n",
            "2021-04-27 23:07:28,179 Wrote model metrics to file /content/drive/MyDrive/Columbia_E4511/resample_CYP2D6_models/resample_delaney_cur_final/RF_ecfp_scaffold_regression/ec2881b4-42ab-44ce-ae49-6503aae35841/model_metrics.json\n"
          ],
          "name": "stderr"
        },
        {
          "output_type": "stream",
          "text": [
            "Wrote model tarball to /content/drive/MyDrive/Columbia_E4511/resample_CYP2D6_models/resample_delaney_cur_final_model_ec2881b4-42ab-44ce-ae49-6503aae35841.tar.gz\n",
            "rf_estimators: 64, rf_max_depth: 16, rf_max_features: 64, valid_r2: 0.04151033987639885\n",
            "number of features: 1024\n"
          ],
          "name": "stdout"
        },
        {
          "output_type": "stream",
          "text": [
            "2021-04-27 23:07:33,262 Previous dataset split restored\n"
          ],
          "name": "stderr"
        },
        {
          "output_type": "stream",
          "text": [
            "TIMING: dataset construction took 0.038 s\n",
            "Loading dataset from disk.\n",
            "TIMING: dataset construction took 0.013 s\n",
            "Loading dataset from disk.\n",
            "TIMING: dataset construction took 0.010 s\n",
            "Loading dataset from disk.\n"
          ],
          "name": "stdout"
        },
        {
          "output_type": "stream",
          "text": [
            "2021-04-27 23:07:34,180 Wrote model metadata to file /content/drive/MyDrive/Columbia_E4511/resample_CYP2D6_models/resample_delaney_cur_final/RF_ecfp_scaffold_regression/c5960539-96c4-4af9-ab73-cc04119dca18/model_metadata.json\n",
            "2021-04-27 23:07:34,205 Wrote model metrics to file /content/drive/MyDrive/Columbia_E4511/resample_CYP2D6_models/resample_delaney_cur_final/RF_ecfp_scaffold_regression/c5960539-96c4-4af9-ab73-cc04119dca18/model_metrics.json\n"
          ],
          "name": "stderr"
        },
        {
          "output_type": "stream",
          "text": [
            "Wrote model tarball to /content/drive/MyDrive/Columbia_E4511/resample_CYP2D6_models/resample_delaney_cur_final_model_c5960539-96c4-4af9-ab73-cc04119dca18.tar.gz\n",
            "rf_estimators: 64, rf_max_depth: 16, rf_max_features: 128, valid_r2: 0.016722574090929254\n",
            "number of features: 1024\n"
          ],
          "name": "stdout"
        },
        {
          "output_type": "stream",
          "text": [
            "2021-04-27 23:07:39,326 Previous dataset split restored\n"
          ],
          "name": "stderr"
        },
        {
          "output_type": "stream",
          "text": [
            "TIMING: dataset construction took 0.039 s\n",
            "Loading dataset from disk.\n",
            "TIMING: dataset construction took 0.010 s\n",
            "Loading dataset from disk.\n",
            "TIMING: dataset construction took 0.010 s\n",
            "Loading dataset from disk.\n"
          ],
          "name": "stdout"
        },
        {
          "output_type": "stream",
          "text": [
            "2021-04-27 23:07:40,251 Wrote model metadata to file /content/drive/MyDrive/Columbia_E4511/resample_CYP2D6_models/resample_delaney_cur_final/RF_ecfp_scaffold_regression/59826c3c-661d-4fbc-8255-78a0451685ed/model_metadata.json\n",
            "2021-04-27 23:07:40,285 Wrote model metrics to file /content/drive/MyDrive/Columbia_E4511/resample_CYP2D6_models/resample_delaney_cur_final/RF_ecfp_scaffold_regression/59826c3c-661d-4fbc-8255-78a0451685ed/model_metrics.json\n"
          ],
          "name": "stderr"
        },
        {
          "output_type": "stream",
          "text": [
            "Wrote model tarball to /content/drive/MyDrive/Columbia_E4511/resample_CYP2D6_models/resample_delaney_cur_final_model_59826c3c-661d-4fbc-8255-78a0451685ed.tar.gz\n",
            "rf_estimators: 64, rf_max_depth: 32, rf_max_features: 16, valid_r2: 0.05804394584996331\n",
            "number of features: 1024\n"
          ],
          "name": "stdout"
        },
        {
          "output_type": "stream",
          "text": [
            "2021-04-27 23:07:45,429 Previous dataset split restored\n"
          ],
          "name": "stderr"
        },
        {
          "output_type": "stream",
          "text": [
            "TIMING: dataset construction took 0.038 s\n",
            "Loading dataset from disk.\n",
            "TIMING: dataset construction took 0.010 s\n",
            "Loading dataset from disk.\n",
            "TIMING: dataset construction took 0.009 s\n",
            "Loading dataset from disk.\n"
          ],
          "name": "stdout"
        },
        {
          "output_type": "stream",
          "text": [
            "2021-04-27 23:07:46,363 Wrote model metadata to file /content/drive/MyDrive/Columbia_E4511/resample_CYP2D6_models/resample_delaney_cur_final/RF_ecfp_scaffold_regression/54daf03d-ee3d-4246-a516-4531cfa19712/model_metadata.json\n",
            "2021-04-27 23:07:46,410 Wrote model metrics to file /content/drive/MyDrive/Columbia_E4511/resample_CYP2D6_models/resample_delaney_cur_final/RF_ecfp_scaffold_regression/54daf03d-ee3d-4246-a516-4531cfa19712/model_metrics.json\n"
          ],
          "name": "stderr"
        },
        {
          "output_type": "stream",
          "text": [
            "Wrote model tarball to /content/drive/MyDrive/Columbia_E4511/resample_CYP2D6_models/resample_delaney_cur_final_model_54daf03d-ee3d-4246-a516-4531cfa19712.tar.gz\n",
            "rf_estimators: 64, rf_max_depth: 32, rf_max_features: 32, valid_r2: 0.0010399427865580568\n",
            "number of features: 1024\n"
          ],
          "name": "stdout"
        },
        {
          "output_type": "stream",
          "text": [
            "2021-04-27 23:07:51,540 Previous dataset split restored\n"
          ],
          "name": "stderr"
        },
        {
          "output_type": "stream",
          "text": [
            "TIMING: dataset construction took 0.038 s\n",
            "Loading dataset from disk.\n",
            "TIMING: dataset construction took 0.010 s\n",
            "Loading dataset from disk.\n",
            "TIMING: dataset construction took 0.010 s\n",
            "Loading dataset from disk.\n"
          ],
          "name": "stdout"
        },
        {
          "output_type": "stream",
          "text": [
            "2021-04-27 23:07:52,453 Wrote model metadata to file /content/drive/MyDrive/Columbia_E4511/resample_CYP2D6_models/resample_delaney_cur_final/RF_ecfp_scaffold_regression/5a10fe7c-d933-4963-96c4-f901beb30058/model_metadata.json\n",
            "2021-04-27 23:07:52,486 Wrote model metrics to file /content/drive/MyDrive/Columbia_E4511/resample_CYP2D6_models/resample_delaney_cur_final/RF_ecfp_scaffold_regression/5a10fe7c-d933-4963-96c4-f901beb30058/model_metrics.json\n"
          ],
          "name": "stderr"
        },
        {
          "output_type": "stream",
          "text": [
            "Wrote model tarball to /content/drive/MyDrive/Columbia_E4511/resample_CYP2D6_models/resample_delaney_cur_final_model_5a10fe7c-d933-4963-96c4-f901beb30058.tar.gz\n",
            "rf_estimators: 64, rf_max_depth: 32, rf_max_features: 64, valid_r2: -0.013755366255969292\n",
            "number of features: 1024\n"
          ],
          "name": "stdout"
        },
        {
          "output_type": "stream",
          "text": [
            "2021-04-27 23:07:57,589 Previous dataset split restored\n"
          ],
          "name": "stderr"
        },
        {
          "output_type": "stream",
          "text": [
            "TIMING: dataset construction took 0.039 s\n",
            "Loading dataset from disk.\n",
            "TIMING: dataset construction took 0.010 s\n",
            "Loading dataset from disk.\n",
            "TIMING: dataset construction took 0.010 s\n",
            "Loading dataset from disk.\n"
          ],
          "name": "stdout"
        },
        {
          "output_type": "stream",
          "text": [
            "2021-04-27 23:07:58,606 Wrote model metadata to file /content/drive/MyDrive/Columbia_E4511/resample_CYP2D6_models/resample_delaney_cur_final/RF_ecfp_scaffold_regression/d702c90f-4499-41d5-8e05-19c886d4ecaa/model_metadata.json\n",
            "2021-04-27 23:07:58,634 Wrote model metrics to file /content/drive/MyDrive/Columbia_E4511/resample_CYP2D6_models/resample_delaney_cur_final/RF_ecfp_scaffold_regression/d702c90f-4499-41d5-8e05-19c886d4ecaa/model_metrics.json\n"
          ],
          "name": "stderr"
        },
        {
          "output_type": "stream",
          "text": [
            "Wrote model tarball to /content/drive/MyDrive/Columbia_E4511/resample_CYP2D6_models/resample_delaney_cur_final_model_d702c90f-4499-41d5-8e05-19c886d4ecaa.tar.gz\n",
            "rf_estimators: 64, rf_max_depth: 32, rf_max_features: 128, valid_r2: 0.03096983378950513\n",
            "number of features: 1024\n"
          ],
          "name": "stdout"
        },
        {
          "output_type": "stream",
          "text": [
            "2021-04-27 23:08:03,737 Previous dataset split restored\n"
          ],
          "name": "stderr"
        },
        {
          "output_type": "stream",
          "text": [
            "TIMING: dataset construction took 0.041 s\n",
            "Loading dataset from disk.\n",
            "TIMING: dataset construction took 0.010 s\n",
            "Loading dataset from disk.\n",
            "TIMING: dataset construction took 0.010 s\n",
            "Loading dataset from disk.\n"
          ],
          "name": "stdout"
        },
        {
          "output_type": "stream",
          "text": [
            "2021-04-27 23:08:04,671 Wrote model metadata to file /content/drive/MyDrive/Columbia_E4511/resample_CYP2D6_models/resample_delaney_cur_final/RF_ecfp_scaffold_regression/c4c68af3-d162-4799-99ab-102e9a6c37a0/model_metadata.json\n",
            "2021-04-27 23:08:04,704 Wrote model metrics to file /content/drive/MyDrive/Columbia_E4511/resample_CYP2D6_models/resample_delaney_cur_final/RF_ecfp_scaffold_regression/c4c68af3-d162-4799-99ab-102e9a6c37a0/model_metrics.json\n"
          ],
          "name": "stderr"
        },
        {
          "output_type": "stream",
          "text": [
            "Wrote model tarball to /content/drive/MyDrive/Columbia_E4511/resample_CYP2D6_models/resample_delaney_cur_final_model_c4c68af3-d162-4799-99ab-102e9a6c37a0.tar.gz\n",
            "rf_estimators: 64, rf_max_depth: 64, rf_max_features: 16, valid_r2: 0.04229347073301959\n",
            "number of features: 1024\n"
          ],
          "name": "stdout"
        },
        {
          "output_type": "stream",
          "text": [
            "2021-04-27 23:08:09,817 Previous dataset split restored\n"
          ],
          "name": "stderr"
        },
        {
          "output_type": "stream",
          "text": [
            "TIMING: dataset construction took 0.037 s\n",
            "Loading dataset from disk.\n",
            "TIMING: dataset construction took 0.009 s\n",
            "Loading dataset from disk.\n",
            "TIMING: dataset construction took 0.009 s\n",
            "Loading dataset from disk.\n"
          ],
          "name": "stdout"
        },
        {
          "output_type": "stream",
          "text": [
            "2021-04-27 23:08:10,724 Wrote model metadata to file /content/drive/MyDrive/Columbia_E4511/resample_CYP2D6_models/resample_delaney_cur_final/RF_ecfp_scaffold_regression/c2e82c5b-9511-4a04-94c9-29e31ae5f42b/model_metadata.json\n",
            "2021-04-27 23:08:10,755 Wrote model metrics to file /content/drive/MyDrive/Columbia_E4511/resample_CYP2D6_models/resample_delaney_cur_final/RF_ecfp_scaffold_regression/c2e82c5b-9511-4a04-94c9-29e31ae5f42b/model_metrics.json\n"
          ],
          "name": "stderr"
        },
        {
          "output_type": "stream",
          "text": [
            "Wrote model tarball to /content/drive/MyDrive/Columbia_E4511/resample_CYP2D6_models/resample_delaney_cur_final_model_c2e82c5b-9511-4a04-94c9-29e31ae5f42b.tar.gz\n",
            "rf_estimators: 64, rf_max_depth: 64, rf_max_features: 32, valid_r2: 0.05133617167570137\n",
            "number of features: 1024\n"
          ],
          "name": "stdout"
        },
        {
          "output_type": "stream",
          "text": [
            "2021-04-27 23:08:15,888 Previous dataset split restored\n"
          ],
          "name": "stderr"
        },
        {
          "output_type": "stream",
          "text": [
            "TIMING: dataset construction took 0.039 s\n",
            "Loading dataset from disk.\n",
            "TIMING: dataset construction took 0.010 s\n",
            "Loading dataset from disk.\n",
            "TIMING: dataset construction took 0.010 s\n",
            "Loading dataset from disk.\n"
          ],
          "name": "stdout"
        },
        {
          "output_type": "stream",
          "text": [
            "2021-04-27 23:08:16,800 Wrote model metadata to file /content/drive/MyDrive/Columbia_E4511/resample_CYP2D6_models/resample_delaney_cur_final/RF_ecfp_scaffold_regression/7ced8321-576f-402f-8b2e-fcda3e2e013c/model_metadata.json\n",
            "2021-04-27 23:08:16,863 Wrote model metrics to file /content/drive/MyDrive/Columbia_E4511/resample_CYP2D6_models/resample_delaney_cur_final/RF_ecfp_scaffold_regression/7ced8321-576f-402f-8b2e-fcda3e2e013c/model_metrics.json\n"
          ],
          "name": "stderr"
        },
        {
          "output_type": "stream",
          "text": [
            "Wrote model tarball to /content/drive/MyDrive/Columbia_E4511/resample_CYP2D6_models/resample_delaney_cur_final_model_7ced8321-576f-402f-8b2e-fcda3e2e013c.tar.gz\n",
            "rf_estimators: 64, rf_max_depth: 64, rf_max_features: 64, valid_r2: -0.03260834363042098\n",
            "number of features: 1024\n"
          ],
          "name": "stdout"
        },
        {
          "output_type": "stream",
          "text": [
            "2021-04-27 23:08:21,950 Previous dataset split restored\n"
          ],
          "name": "stderr"
        },
        {
          "output_type": "stream",
          "text": [
            "TIMING: dataset construction took 0.037 s\n",
            "Loading dataset from disk.\n",
            "TIMING: dataset construction took 0.010 s\n",
            "Loading dataset from disk.\n",
            "TIMING: dataset construction took 0.009 s\n",
            "Loading dataset from disk.\n"
          ],
          "name": "stdout"
        },
        {
          "output_type": "stream",
          "text": [
            "2021-04-27 23:08:22,963 Wrote model metadata to file /content/drive/MyDrive/Columbia_E4511/resample_CYP2D6_models/resample_delaney_cur_final/RF_ecfp_scaffold_regression/2a7ba21b-674b-41db-929d-1f8f522fd653/model_metadata.json\n",
            "2021-04-27 23:08:22,992 Wrote model metrics to file /content/drive/MyDrive/Columbia_E4511/resample_CYP2D6_models/resample_delaney_cur_final/RF_ecfp_scaffold_regression/2a7ba21b-674b-41db-929d-1f8f522fd653/model_metrics.json\n"
          ],
          "name": "stderr"
        },
        {
          "output_type": "stream",
          "text": [
            "Wrote model tarball to /content/drive/MyDrive/Columbia_E4511/resample_CYP2D6_models/resample_delaney_cur_final_model_2a7ba21b-674b-41db-929d-1f8f522fd653.tar.gz\n",
            "rf_estimators: 64, rf_max_depth: 64, rf_max_features: 128, valid_r2: -0.025810553103077227\n",
            "number of features: 1024\n"
          ],
          "name": "stdout"
        },
        {
          "output_type": "stream",
          "text": [
            "2021-04-27 23:08:28,073 Previous dataset split restored\n"
          ],
          "name": "stderr"
        },
        {
          "output_type": "stream",
          "text": [
            "TIMING: dataset construction took 0.038 s\n",
            "Loading dataset from disk.\n",
            "TIMING: dataset construction took 0.011 s\n",
            "Loading dataset from disk.\n",
            "TIMING: dataset construction took 0.009 s\n",
            "Loading dataset from disk.\n"
          ],
          "name": "stdout"
        },
        {
          "output_type": "stream",
          "text": [
            "2021-04-27 23:08:28,985 Wrote model metadata to file /content/drive/MyDrive/Columbia_E4511/resample_CYP2D6_models/resample_delaney_cur_final/RF_ecfp_scaffold_regression/353d2fe3-3abb-4ff9-ae3a-1f2ad193a8c0/model_metadata.json\n",
            "2021-04-27 23:08:29,021 Wrote model metrics to file /content/drive/MyDrive/Columbia_E4511/resample_CYP2D6_models/resample_delaney_cur_final/RF_ecfp_scaffold_regression/353d2fe3-3abb-4ff9-ae3a-1f2ad193a8c0/model_metrics.json\n"
          ],
          "name": "stderr"
        },
        {
          "output_type": "stream",
          "text": [
            "Wrote model tarball to /content/drive/MyDrive/Columbia_E4511/resample_CYP2D6_models/resample_delaney_cur_final_model_353d2fe3-3abb-4ff9-ae3a-1f2ad193a8c0.tar.gz\n",
            "rf_estimators: 64, rf_max_depth: 128, rf_max_features: 16, valid_r2: 0.04795619419642838\n",
            "number of features: 1024\n"
          ],
          "name": "stdout"
        },
        {
          "output_type": "stream",
          "text": [
            "2021-04-27 23:08:34,038 Previous dataset split restored\n"
          ],
          "name": "stderr"
        },
        {
          "output_type": "stream",
          "text": [
            "TIMING: dataset construction took 0.038 s\n",
            "Loading dataset from disk.\n",
            "TIMING: dataset construction took 0.010 s\n",
            "Loading dataset from disk.\n",
            "TIMING: dataset construction took 0.010 s\n",
            "Loading dataset from disk.\n"
          ],
          "name": "stdout"
        },
        {
          "output_type": "stream",
          "text": [
            "2021-04-27 23:08:34,959 Wrote model metadata to file /content/drive/MyDrive/Columbia_E4511/resample_CYP2D6_models/resample_delaney_cur_final/RF_ecfp_scaffold_regression/29eb776c-4054-48df-9064-d0e4f3c60b02/model_metadata.json\n",
            "2021-04-27 23:08:35,016 Wrote model metrics to file /content/drive/MyDrive/Columbia_E4511/resample_CYP2D6_models/resample_delaney_cur_final/RF_ecfp_scaffold_regression/29eb776c-4054-48df-9064-d0e4f3c60b02/model_metrics.json\n"
          ],
          "name": "stderr"
        },
        {
          "output_type": "stream",
          "text": [
            "Wrote model tarball to /content/drive/MyDrive/Columbia_E4511/resample_CYP2D6_models/resample_delaney_cur_final_model_29eb776c-4054-48df-9064-d0e4f3c60b02.tar.gz\n",
            "rf_estimators: 64, rf_max_depth: 128, rf_max_features: 32, valid_r2: 0.005656028280452641\n",
            "number of features: 1024\n"
          ],
          "name": "stdout"
        },
        {
          "output_type": "stream",
          "text": [
            "2021-04-27 23:08:40,137 Previous dataset split restored\n"
          ],
          "name": "stderr"
        },
        {
          "output_type": "stream",
          "text": [
            "TIMING: dataset construction took 0.037 s\n",
            "Loading dataset from disk.\n",
            "TIMING: dataset construction took 0.010 s\n",
            "Loading dataset from disk.\n",
            "TIMING: dataset construction took 0.010 s\n",
            "Loading dataset from disk.\n"
          ],
          "name": "stdout"
        },
        {
          "output_type": "stream",
          "text": [
            "2021-04-27 23:08:41,051 Wrote model metadata to file /content/drive/MyDrive/Columbia_E4511/resample_CYP2D6_models/resample_delaney_cur_final/RF_ecfp_scaffold_regression/298221fc-7019-44b6-b74d-6a989094093b/model_metadata.json\n",
            "2021-04-27 23:08:41,081 Wrote model metrics to file /content/drive/MyDrive/Columbia_E4511/resample_CYP2D6_models/resample_delaney_cur_final/RF_ecfp_scaffold_regression/298221fc-7019-44b6-b74d-6a989094093b/model_metrics.json\n"
          ],
          "name": "stderr"
        },
        {
          "output_type": "stream",
          "text": [
            "Wrote model tarball to /content/drive/MyDrive/Columbia_E4511/resample_CYP2D6_models/resample_delaney_cur_final_model_298221fc-7019-44b6-b74d-6a989094093b.tar.gz\n",
            "rf_estimators: 64, rf_max_depth: 128, rf_max_features: 64, valid_r2: -0.01501480413942935\n",
            "number of features: 1024\n"
          ],
          "name": "stdout"
        },
        {
          "output_type": "stream",
          "text": [
            "2021-04-27 23:08:46,170 Previous dataset split restored\n"
          ],
          "name": "stderr"
        },
        {
          "output_type": "stream",
          "text": [
            "TIMING: dataset construction took 0.037 s\n",
            "Loading dataset from disk.\n",
            "TIMING: dataset construction took 0.010 s\n",
            "Loading dataset from disk.\n",
            "TIMING: dataset construction took 0.009 s\n",
            "Loading dataset from disk.\n"
          ],
          "name": "stdout"
        },
        {
          "output_type": "stream",
          "text": [
            "2021-04-27 23:08:47,176 Wrote model metadata to file /content/drive/MyDrive/Columbia_E4511/resample_CYP2D6_models/resample_delaney_cur_final/RF_ecfp_scaffold_regression/599db5ed-fea6-49d8-9f70-a45576e7ce3c/model_metadata.json\n",
            "2021-04-27 23:08:47,205 Wrote model metrics to file /content/drive/MyDrive/Columbia_E4511/resample_CYP2D6_models/resample_delaney_cur_final/RF_ecfp_scaffold_regression/599db5ed-fea6-49d8-9f70-a45576e7ce3c/model_metrics.json\n"
          ],
          "name": "stderr"
        },
        {
          "output_type": "stream",
          "text": [
            "Wrote model tarball to /content/drive/MyDrive/Columbia_E4511/resample_CYP2D6_models/resample_delaney_cur_final_model_599db5ed-fea6-49d8-9f70-a45576e7ce3c.tar.gz\n",
            "rf_estimators: 64, rf_max_depth: 128, rf_max_features: 128, valid_r2: 0.013185306471221181\n",
            "number of features: 1024\n"
          ],
          "name": "stdout"
        },
        {
          "output_type": "stream",
          "text": [
            "2021-04-27 23:08:52,272 Previous dataset split restored\n"
          ],
          "name": "stderr"
        },
        {
          "output_type": "stream",
          "text": [
            "TIMING: dataset construction took 0.038 s\n",
            "Loading dataset from disk.\n",
            "TIMING: dataset construction took 0.009 s\n",
            "Loading dataset from disk.\n",
            "TIMING: dataset construction took 0.011 s\n",
            "Loading dataset from disk.\n"
          ],
          "name": "stdout"
        },
        {
          "output_type": "stream",
          "text": [
            "2021-04-27 23:08:53,385 Wrote model metadata to file /content/drive/MyDrive/Columbia_E4511/resample_CYP2D6_models/resample_delaney_cur_final/RF_ecfp_scaffold_regression/ce1bed00-8ea4-461a-a6dc-13e77bf9917a/model_metadata.json\n",
            "2021-04-27 23:08:53,420 Wrote model metrics to file /content/drive/MyDrive/Columbia_E4511/resample_CYP2D6_models/resample_delaney_cur_final/RF_ecfp_scaffold_regression/ce1bed00-8ea4-461a-a6dc-13e77bf9917a/model_metrics.json\n"
          ],
          "name": "stderr"
        },
        {
          "output_type": "stream",
          "text": [
            "Wrote model tarball to /content/drive/MyDrive/Columbia_E4511/resample_CYP2D6_models/resample_delaney_cur_final_model_ce1bed00-8ea4-461a-a6dc-13e77bf9917a.tar.gz\n",
            "rf_estimators: 128, rf_max_depth: 16, rf_max_features: 16, valid_r2: 0.024606202285056722\n",
            "number of features: 1024\n"
          ],
          "name": "stdout"
        },
        {
          "output_type": "stream",
          "text": [
            "2021-04-27 23:08:58,479 Previous dataset split restored\n"
          ],
          "name": "stderr"
        },
        {
          "output_type": "stream",
          "text": [
            "TIMING: dataset construction took 0.036 s\n",
            "Loading dataset from disk.\n",
            "TIMING: dataset construction took 0.009 s\n",
            "Loading dataset from disk.\n",
            "TIMING: dataset construction took 0.009 s\n",
            "Loading dataset from disk.\n"
          ],
          "name": "stdout"
        },
        {
          "output_type": "stream",
          "text": [
            "2021-04-27 23:08:59,541 Wrote model metadata to file /content/drive/MyDrive/Columbia_E4511/resample_CYP2D6_models/resample_delaney_cur_final/RF_ecfp_scaffold_regression/b1a8920a-1703-4a85-b8f8-832809d60c09/model_metadata.json\n",
            "2021-04-27 23:08:59,574 Wrote model metrics to file /content/drive/MyDrive/Columbia_E4511/resample_CYP2D6_models/resample_delaney_cur_final/RF_ecfp_scaffold_regression/b1a8920a-1703-4a85-b8f8-832809d60c09/model_metrics.json\n"
          ],
          "name": "stderr"
        },
        {
          "output_type": "stream",
          "text": [
            "Wrote model tarball to /content/drive/MyDrive/Columbia_E4511/resample_CYP2D6_models/resample_delaney_cur_final_model_b1a8920a-1703-4a85-b8f8-832809d60c09.tar.gz\n",
            "rf_estimators: 128, rf_max_depth: 16, rf_max_features: 32, valid_r2: 0.022488510325642586\n",
            "number of features: 1024\n"
          ],
          "name": "stdout"
        },
        {
          "output_type": "stream",
          "text": [
            "2021-04-27 23:09:04,680 Previous dataset split restored\n"
          ],
          "name": "stderr"
        },
        {
          "output_type": "stream",
          "text": [
            "TIMING: dataset construction took 0.037 s\n",
            "Loading dataset from disk.\n",
            "TIMING: dataset construction took 0.010 s\n",
            "Loading dataset from disk.\n",
            "TIMING: dataset construction took 0.009 s\n",
            "Loading dataset from disk.\n"
          ],
          "name": "stdout"
        },
        {
          "output_type": "stream",
          "text": [
            "2021-04-27 23:09:05,854 Wrote model metadata to file /content/drive/MyDrive/Columbia_E4511/resample_CYP2D6_models/resample_delaney_cur_final/RF_ecfp_scaffold_regression/a2e418c3-eb3c-4ea0-926e-371541377692/model_metadata.json\n",
            "2021-04-27 23:09:05,885 Wrote model metrics to file /content/drive/MyDrive/Columbia_E4511/resample_CYP2D6_models/resample_delaney_cur_final/RF_ecfp_scaffold_regression/a2e418c3-eb3c-4ea0-926e-371541377692/model_metrics.json\n"
          ],
          "name": "stderr"
        },
        {
          "output_type": "stream",
          "text": [
            "Wrote model tarball to /content/drive/MyDrive/Columbia_E4511/resample_CYP2D6_models/resample_delaney_cur_final_model_a2e418c3-eb3c-4ea0-926e-371541377692.tar.gz\n",
            "rf_estimators: 128, rf_max_depth: 16, rf_max_features: 64, valid_r2: 0.0518501166633335\n",
            "number of features: 1024\n"
          ],
          "name": "stdout"
        },
        {
          "output_type": "stream",
          "text": [
            "2021-04-27 23:09:10,960 Previous dataset split restored\n"
          ],
          "name": "stderr"
        },
        {
          "output_type": "stream",
          "text": [
            "TIMING: dataset construction took 0.039 s\n",
            "Loading dataset from disk.\n",
            "TIMING: dataset construction took 0.011 s\n",
            "Loading dataset from disk.\n",
            "TIMING: dataset construction took 0.014 s\n",
            "Loading dataset from disk.\n"
          ],
          "name": "stdout"
        },
        {
          "output_type": "stream",
          "text": [
            "2021-04-27 23:09:12,149 Wrote model metadata to file /content/drive/MyDrive/Columbia_E4511/resample_CYP2D6_models/resample_delaney_cur_final/RF_ecfp_scaffold_regression/023ca7f6-1b71-4d19-802a-fc52779f1be4/model_metadata.json\n",
            "2021-04-27 23:09:12,182 Wrote model metrics to file /content/drive/MyDrive/Columbia_E4511/resample_CYP2D6_models/resample_delaney_cur_final/RF_ecfp_scaffold_regression/023ca7f6-1b71-4d19-802a-fc52779f1be4/model_metrics.json\n"
          ],
          "name": "stderr"
        },
        {
          "output_type": "stream",
          "text": [
            "Wrote model tarball to /content/drive/MyDrive/Columbia_E4511/resample_CYP2D6_models/resample_delaney_cur_final_model_023ca7f6-1b71-4d19-802a-fc52779f1be4.tar.gz\n",
            "rf_estimators: 128, rf_max_depth: 16, rf_max_features: 128, valid_r2: 0.023449344346912593\n",
            "number of features: 1024\n"
          ],
          "name": "stdout"
        },
        {
          "output_type": "stream",
          "text": [
            "2021-04-27 23:09:17,251 Previous dataset split restored\n"
          ],
          "name": "stderr"
        },
        {
          "output_type": "stream",
          "text": [
            "TIMING: dataset construction took 0.040 s\n",
            "Loading dataset from disk.\n",
            "TIMING: dataset construction took 0.011 s\n",
            "Loading dataset from disk.\n",
            "TIMING: dataset construction took 0.011 s\n",
            "Loading dataset from disk.\n"
          ],
          "name": "stdout"
        },
        {
          "output_type": "stream",
          "text": [
            "2021-04-27 23:09:18,361 Wrote model metadata to file /content/drive/MyDrive/Columbia_E4511/resample_CYP2D6_models/resample_delaney_cur_final/RF_ecfp_scaffold_regression/9626edef-a963-47e3-9036-fac6303eb987/model_metadata.json\n",
            "2021-04-27 23:09:18,406 Wrote model metrics to file /content/drive/MyDrive/Columbia_E4511/resample_CYP2D6_models/resample_delaney_cur_final/RF_ecfp_scaffold_regression/9626edef-a963-47e3-9036-fac6303eb987/model_metrics.json\n"
          ],
          "name": "stderr"
        },
        {
          "output_type": "stream",
          "text": [
            "Wrote model tarball to /content/drive/MyDrive/Columbia_E4511/resample_CYP2D6_models/resample_delaney_cur_final_model_9626edef-a963-47e3-9036-fac6303eb987.tar.gz\n",
            "rf_estimators: 128, rf_max_depth: 32, rf_max_features: 16, valid_r2: 0.04512461699379633\n",
            "number of features: 1024\n"
          ],
          "name": "stdout"
        },
        {
          "output_type": "stream",
          "text": [
            "2021-04-27 23:09:23,463 Previous dataset split restored\n"
          ],
          "name": "stderr"
        },
        {
          "output_type": "stream",
          "text": [
            "TIMING: dataset construction took 0.039 s\n",
            "Loading dataset from disk.\n",
            "TIMING: dataset construction took 0.010 s\n",
            "Loading dataset from disk.\n",
            "TIMING: dataset construction took 0.010 s\n",
            "Loading dataset from disk.\n"
          ],
          "name": "stdout"
        },
        {
          "output_type": "stream",
          "text": [
            "2021-04-27 23:09:24,547 Wrote model metadata to file /content/drive/MyDrive/Columbia_E4511/resample_CYP2D6_models/resample_delaney_cur_final/RF_ecfp_scaffold_regression/e58ef799-1419-4454-9b31-7ce51e05731f/model_metadata.json\n",
            "2021-04-27 23:09:24,589 Wrote model metrics to file /content/drive/MyDrive/Columbia_E4511/resample_CYP2D6_models/resample_delaney_cur_final/RF_ecfp_scaffold_regression/e58ef799-1419-4454-9b31-7ce51e05731f/model_metrics.json\n"
          ],
          "name": "stderr"
        },
        {
          "output_type": "stream",
          "text": [
            "Wrote model tarball to /content/drive/MyDrive/Columbia_E4511/resample_CYP2D6_models/resample_delaney_cur_final_model_e58ef799-1419-4454-9b31-7ce51e05731f.tar.gz\n",
            "rf_estimators: 128, rf_max_depth: 32, rf_max_features: 32, valid_r2: 0.037772955538815656\n",
            "number of features: 1024\n"
          ],
          "name": "stdout"
        },
        {
          "output_type": "stream",
          "text": [
            "2021-04-27 23:09:29,707 Previous dataset split restored\n"
          ],
          "name": "stderr"
        },
        {
          "output_type": "stream",
          "text": [
            "TIMING: dataset construction took 0.038 s\n",
            "Loading dataset from disk.\n",
            "TIMING: dataset construction took 0.009 s\n",
            "Loading dataset from disk.\n",
            "TIMING: dataset construction took 0.011 s\n",
            "Loading dataset from disk.\n"
          ],
          "name": "stdout"
        },
        {
          "output_type": "stream",
          "text": [
            "2021-04-27 23:09:30,890 Wrote model metadata to file /content/drive/MyDrive/Columbia_E4511/resample_CYP2D6_models/resample_delaney_cur_final/RF_ecfp_scaffold_regression/ce149553-ee74-461a-ba89-cb2d482fe4df/model_metadata.json\n",
            "2021-04-27 23:09:30,931 Wrote model metrics to file /content/drive/MyDrive/Columbia_E4511/resample_CYP2D6_models/resample_delaney_cur_final/RF_ecfp_scaffold_regression/ce149553-ee74-461a-ba89-cb2d482fe4df/model_metrics.json\n"
          ],
          "name": "stderr"
        },
        {
          "output_type": "stream",
          "text": [
            "Wrote model tarball to /content/drive/MyDrive/Columbia_E4511/resample_CYP2D6_models/resample_delaney_cur_final_model_ce149553-ee74-461a-ba89-cb2d482fe4df.tar.gz\n",
            "rf_estimators: 128, rf_max_depth: 32, rf_max_features: 64, valid_r2: 0.02747110393910368\n",
            "number of features: 1024\n"
          ],
          "name": "stdout"
        },
        {
          "output_type": "stream",
          "text": [
            "2021-04-27 23:09:35,991 Previous dataset split restored\n"
          ],
          "name": "stderr"
        },
        {
          "output_type": "stream",
          "text": [
            "TIMING: dataset construction took 0.036 s\n",
            "Loading dataset from disk.\n",
            "TIMING: dataset construction took 0.010 s\n",
            "Loading dataset from disk.\n",
            "TIMING: dataset construction took 0.009 s\n",
            "Loading dataset from disk.\n"
          ],
          "name": "stdout"
        },
        {
          "output_type": "stream",
          "text": [
            "2021-04-27 23:09:37,263 Wrote model metadata to file /content/drive/MyDrive/Columbia_E4511/resample_CYP2D6_models/resample_delaney_cur_final/RF_ecfp_scaffold_regression/e79aaf27-b8ae-45cb-bce1-91ec98fb6b2b/model_metadata.json\n",
            "2021-04-27 23:09:37,298 Wrote model metrics to file /content/drive/MyDrive/Columbia_E4511/resample_CYP2D6_models/resample_delaney_cur_final/RF_ecfp_scaffold_regression/e79aaf27-b8ae-45cb-bce1-91ec98fb6b2b/model_metrics.json\n"
          ],
          "name": "stderr"
        },
        {
          "output_type": "stream",
          "text": [
            "Wrote model tarball to /content/drive/MyDrive/Columbia_E4511/resample_CYP2D6_models/resample_delaney_cur_final_model_e79aaf27-b8ae-45cb-bce1-91ec98fb6b2b.tar.gz\n",
            "rf_estimators: 128, rf_max_depth: 32, rf_max_features: 128, valid_r2: 0.03456076708557898\n",
            "number of features: 1024\n"
          ],
          "name": "stdout"
        },
        {
          "output_type": "stream",
          "text": [
            "2021-04-27 23:09:42,395 Previous dataset split restored\n"
          ],
          "name": "stderr"
        },
        {
          "output_type": "stream",
          "text": [
            "TIMING: dataset construction took 0.040 s\n",
            "Loading dataset from disk.\n",
            "TIMING: dataset construction took 0.009 s\n",
            "Loading dataset from disk.\n",
            "TIMING: dataset construction took 0.009 s\n",
            "Loading dataset from disk.\n"
          ],
          "name": "stdout"
        },
        {
          "output_type": "stream",
          "text": [
            "2021-04-27 23:09:43,489 Wrote model metadata to file /content/drive/MyDrive/Columbia_E4511/resample_CYP2D6_models/resample_delaney_cur_final/RF_ecfp_scaffold_regression/756e5a8f-7cc5-4a4a-b088-8ffc9dd4cfec/model_metadata.json\n",
            "2021-04-27 23:09:43,563 Wrote model metrics to file /content/drive/MyDrive/Columbia_E4511/resample_CYP2D6_models/resample_delaney_cur_final/RF_ecfp_scaffold_regression/756e5a8f-7cc5-4a4a-b088-8ffc9dd4cfec/model_metrics.json\n"
          ],
          "name": "stderr"
        },
        {
          "output_type": "stream",
          "text": [
            "Wrote model tarball to /content/drive/MyDrive/Columbia_E4511/resample_CYP2D6_models/resample_delaney_cur_final_model_756e5a8f-7cc5-4a4a-b088-8ffc9dd4cfec.tar.gz\n",
            "rf_estimators: 128, rf_max_depth: 64, rf_max_features: 16, valid_r2: 0.0464845364223766\n",
            "number of features: 1024\n"
          ],
          "name": "stdout"
        },
        {
          "output_type": "stream",
          "text": [
            "2021-04-27 23:09:48,606 Previous dataset split restored\n"
          ],
          "name": "stderr"
        },
        {
          "output_type": "stream",
          "text": [
            "TIMING: dataset construction took 0.037 s\n",
            "Loading dataset from disk.\n",
            "TIMING: dataset construction took 0.009 s\n",
            "Loading dataset from disk.\n",
            "TIMING: dataset construction took 0.009 s\n",
            "Loading dataset from disk.\n"
          ],
          "name": "stdout"
        },
        {
          "output_type": "stream",
          "text": [
            "2021-04-27 23:09:49,698 Wrote model metadata to file /content/drive/MyDrive/Columbia_E4511/resample_CYP2D6_models/resample_delaney_cur_final/RF_ecfp_scaffold_regression/6f4b5c4b-0363-434c-84b2-cbd057308214/model_metadata.json\n",
            "2021-04-27 23:09:49,741 Wrote model metrics to file /content/drive/MyDrive/Columbia_E4511/resample_CYP2D6_models/resample_delaney_cur_final/RF_ecfp_scaffold_regression/6f4b5c4b-0363-434c-84b2-cbd057308214/model_metrics.json\n"
          ],
          "name": "stderr"
        },
        {
          "output_type": "stream",
          "text": [
            "Wrote model tarball to /content/drive/MyDrive/Columbia_E4511/resample_CYP2D6_models/resample_delaney_cur_final_model_6f4b5c4b-0363-434c-84b2-cbd057308214.tar.gz\n",
            "rf_estimators: 128, rf_max_depth: 64, rf_max_features: 32, valid_r2: 0.05016326904296864\n",
            "number of features: 1024\n"
          ],
          "name": "stdout"
        },
        {
          "output_type": "stream",
          "text": [
            "2021-04-27 23:09:54,817 Previous dataset split restored\n"
          ],
          "name": "stderr"
        },
        {
          "output_type": "stream",
          "text": [
            "TIMING: dataset construction took 0.037 s\n",
            "Loading dataset from disk.\n",
            "TIMING: dataset construction took 0.010 s\n",
            "Loading dataset from disk.\n",
            "TIMING: dataset construction took 0.010 s\n",
            "Loading dataset from disk.\n"
          ],
          "name": "stdout"
        },
        {
          "output_type": "stream",
          "text": [
            "2021-04-27 23:09:56,003 Wrote model metadata to file /content/drive/MyDrive/Columbia_E4511/resample_CYP2D6_models/resample_delaney_cur_final/RF_ecfp_scaffold_regression/90ae5a25-06f5-44aa-aa35-d7dea2d49964/model_metadata.json\n",
            "2021-04-27 23:09:56,040 Wrote model metrics to file /content/drive/MyDrive/Columbia_E4511/resample_CYP2D6_models/resample_delaney_cur_final/RF_ecfp_scaffold_regression/90ae5a25-06f5-44aa-aa35-d7dea2d49964/model_metrics.json\n"
          ],
          "name": "stderr"
        },
        {
          "output_type": "stream",
          "text": [
            "Wrote model tarball to /content/drive/MyDrive/Columbia_E4511/resample_CYP2D6_models/resample_delaney_cur_final_model_90ae5a25-06f5-44aa-aa35-d7dea2d49964.tar.gz\n",
            "rf_estimators: 128, rf_max_depth: 64, rf_max_features: 64, valid_r2: 0.03588664774992012\n",
            "number of features: 1024\n"
          ],
          "name": "stdout"
        },
        {
          "output_type": "stream",
          "text": [
            "2021-04-27 23:10:01,058 Previous dataset split restored\n"
          ],
          "name": "stderr"
        },
        {
          "output_type": "stream",
          "text": [
            "TIMING: dataset construction took 0.042 s\n",
            "Loading dataset from disk.\n",
            "TIMING: dataset construction took 0.011 s\n",
            "Loading dataset from disk.\n",
            "TIMING: dataset construction took 0.010 s\n",
            "Loading dataset from disk.\n"
          ],
          "name": "stdout"
        },
        {
          "output_type": "stream",
          "text": [
            "2021-04-27 23:10:02,371 Wrote model metadata to file /content/drive/MyDrive/Columbia_E4511/resample_CYP2D6_models/resample_delaney_cur_final/RF_ecfp_scaffold_regression/9e507894-600d-41d4-b787-ef16f653e590/model_metadata.json\n",
            "2021-04-27 23:10:02,410 Wrote model metrics to file /content/drive/MyDrive/Columbia_E4511/resample_CYP2D6_models/resample_delaney_cur_final/RF_ecfp_scaffold_regression/9e507894-600d-41d4-b787-ef16f653e590/model_metrics.json\n"
          ],
          "name": "stderr"
        },
        {
          "output_type": "stream",
          "text": [
            "Wrote model tarball to /content/drive/MyDrive/Columbia_E4511/resample_CYP2D6_models/resample_delaney_cur_final_model_9e507894-600d-41d4-b787-ef16f653e590.tar.gz\n",
            "rf_estimators: 128, rf_max_depth: 64, rf_max_features: 128, valid_r2: 0.08795154337980293\n",
            "number of features: 1024\n"
          ],
          "name": "stdout"
        },
        {
          "output_type": "stream",
          "text": [
            "2021-04-27 23:10:07,434 Previous dataset split restored\n"
          ],
          "name": "stderr"
        },
        {
          "output_type": "stream",
          "text": [
            "TIMING: dataset construction took 0.037 s\n",
            "Loading dataset from disk.\n",
            "TIMING: dataset construction took 0.010 s\n",
            "Loading dataset from disk.\n",
            "TIMING: dataset construction took 0.010 s\n",
            "Loading dataset from disk.\n"
          ],
          "name": "stdout"
        },
        {
          "output_type": "stream",
          "text": [
            "2021-04-27 23:10:08,537 Wrote model metadata to file /content/drive/MyDrive/Columbia_E4511/resample_CYP2D6_models/resample_delaney_cur_final/RF_ecfp_scaffold_regression/6bb1ed35-1fc6-49ca-9c21-186b412e49d3/model_metadata.json\n",
            "2021-04-27 23:10:08,587 Wrote model metrics to file /content/drive/MyDrive/Columbia_E4511/resample_CYP2D6_models/resample_delaney_cur_final/RF_ecfp_scaffold_regression/6bb1ed35-1fc6-49ca-9c21-186b412e49d3/model_metrics.json\n"
          ],
          "name": "stderr"
        },
        {
          "output_type": "stream",
          "text": [
            "Wrote model tarball to /content/drive/MyDrive/Columbia_E4511/resample_CYP2D6_models/resample_delaney_cur_final_model_6bb1ed35-1fc6-49ca-9c21-186b412e49d3.tar.gz\n",
            "rf_estimators: 128, rf_max_depth: 128, rf_max_features: 16, valid_r2: 0.07167909583266885\n",
            "number of features: 1024\n"
          ],
          "name": "stdout"
        },
        {
          "output_type": "stream",
          "text": [
            "2021-04-27 23:10:13,650 Previous dataset split restored\n"
          ],
          "name": "stderr"
        },
        {
          "output_type": "stream",
          "text": [
            "TIMING: dataset construction took 0.039 s\n",
            "Loading dataset from disk.\n",
            "TIMING: dataset construction took 0.010 s\n",
            "Loading dataset from disk.\n",
            "TIMING: dataset construction took 0.010 s\n",
            "Loading dataset from disk.\n"
          ],
          "name": "stdout"
        },
        {
          "output_type": "stream",
          "text": [
            "2021-04-27 23:10:14,744 Wrote model metadata to file /content/drive/MyDrive/Columbia_E4511/resample_CYP2D6_models/resample_delaney_cur_final/RF_ecfp_scaffold_regression/c85942ba-458c-4a3a-aae2-04177d64e906/model_metadata.json\n",
            "2021-04-27 23:10:14,792 Wrote model metrics to file /content/drive/MyDrive/Columbia_E4511/resample_CYP2D6_models/resample_delaney_cur_final/RF_ecfp_scaffold_regression/c85942ba-458c-4a3a-aae2-04177d64e906/model_metrics.json\n"
          ],
          "name": "stderr"
        },
        {
          "output_type": "stream",
          "text": [
            "Wrote model tarball to /content/drive/MyDrive/Columbia_E4511/resample_CYP2D6_models/resample_delaney_cur_final_model_c85942ba-458c-4a3a-aae2-04177d64e906.tar.gz\n",
            "rf_estimators: 128, rf_max_depth: 128, rf_max_features: 32, valid_r2: 0.05992169282874271\n",
            "number of features: 1024\n"
          ],
          "name": "stdout"
        },
        {
          "output_type": "stream",
          "text": [
            "2021-04-27 23:10:19,910 Previous dataset split restored\n"
          ],
          "name": "stderr"
        },
        {
          "output_type": "stream",
          "text": [
            "TIMING: dataset construction took 0.039 s\n",
            "Loading dataset from disk.\n",
            "TIMING: dataset construction took 0.010 s\n",
            "Loading dataset from disk.\n",
            "TIMING: dataset construction took 0.009 s\n",
            "Loading dataset from disk.\n"
          ],
          "name": "stdout"
        },
        {
          "output_type": "stream",
          "text": [
            "2021-04-27 23:10:21,091 Wrote model metadata to file /content/drive/MyDrive/Columbia_E4511/resample_CYP2D6_models/resample_delaney_cur_final/RF_ecfp_scaffold_regression/18d7f7e4-e140-4700-aecb-a34e4a53e598/model_metadata.json\n",
            "2021-04-27 23:10:21,132 Wrote model metrics to file /content/drive/MyDrive/Columbia_E4511/resample_CYP2D6_models/resample_delaney_cur_final/RF_ecfp_scaffold_regression/18d7f7e4-e140-4700-aecb-a34e4a53e598/model_metrics.json\n"
          ],
          "name": "stderr"
        },
        {
          "output_type": "stream",
          "text": [
            "Wrote model tarball to /content/drive/MyDrive/Columbia_E4511/resample_CYP2D6_models/resample_delaney_cur_final_model_18d7f7e4-e140-4700-aecb-a34e4a53e598.tar.gz\n",
            "rf_estimators: 128, rf_max_depth: 128, rf_max_features: 64, valid_r2: 0.05104925194565113\n",
            "number of features: 1024\n"
          ],
          "name": "stdout"
        },
        {
          "output_type": "stream",
          "text": [
            "2021-04-27 23:10:26,247 Previous dataset split restored\n"
          ],
          "name": "stderr"
        },
        {
          "output_type": "stream",
          "text": [
            "TIMING: dataset construction took 0.037 s\n",
            "Loading dataset from disk.\n",
            "TIMING: dataset construction took 0.010 s\n",
            "Loading dataset from disk.\n",
            "TIMING: dataset construction took 0.010 s\n",
            "Loading dataset from disk.\n"
          ],
          "name": "stdout"
        },
        {
          "output_type": "stream",
          "text": [
            "2021-04-27 23:10:27,538 Wrote model metadata to file /content/drive/MyDrive/Columbia_E4511/resample_CYP2D6_models/resample_delaney_cur_final/RF_ecfp_scaffold_regression/9bf33489-9906-4ed7-a030-9956be392465/model_metadata.json\n",
            "2021-04-27 23:10:27,575 Wrote model metrics to file /content/drive/MyDrive/Columbia_E4511/resample_CYP2D6_models/resample_delaney_cur_final/RF_ecfp_scaffold_regression/9bf33489-9906-4ed7-a030-9956be392465/model_metrics.json\n"
          ],
          "name": "stderr"
        },
        {
          "output_type": "stream",
          "text": [
            "Wrote model tarball to /content/drive/MyDrive/Columbia_E4511/resample_CYP2D6_models/resample_delaney_cur_final_model_9bf33489-9906-4ed7-a030-9956be392465.tar.gz\n",
            "rf_estimators: 128, rf_max_depth: 128, rf_max_features: 128, valid_r2: 0.06261747710558818\n"
          ],
          "name": "stdout"
        }
      ]
    },
    {
      "cell_type": "code",
      "metadata": {
        "id": "p1XD_mrWuPOd"
      },
      "source": [
        ""
      ],
      "execution_count": null,
      "outputs": []
    },
    {
      "cell_type": "markdown",
      "metadata": {
        "id": "vK6rAXyO9rL8"
      },
      "source": [
        "##### NN Models"
      ]
    },
    {
      "cell_type": "code",
      "metadata": {
        "id": "ePfWsakJd4Ya"
      },
      "source": [
        "params={'data_owner': 'username',\n",
        " 'dataset_key': '/content/drive/MyDrive/Columbia_E4511/delaney_curated_final.csv',\n",
        " 'datastore': 'False',\n",
        " 'featurizer': 'computed_descriptors',\n",
        " 'descriptor_type':'mordred_filtered',\n",
        " 'id_col': 'compound_id',\n",
        " 'lc_account': 'None',\n",
        " 'max_epochs': '70',\n",
        " 'model_type': 'NN',\n",
        " 'prediction_type': 'regression',\n",
        " 'previously_split': 'True',\n",
        " 'rerun': 'False',\n",
        " 'response_cols': 'VALUE_NUM_mean',\n",
        " 'result_dir': '/content/drive/MyDrive/Columbia_E4511/CYP2D6_models',\n",
        " 'save_results': 'False',\n",
        " 'smiles_col': 'base_rdkit_smiles',\n",
        " 'split_uuid': '6156df16-4e93-452b-8c60-07f3e5fa8cf5',\n",
        " 'system': 'LC',\n",
        " 'transformers': 'True',\n",
        " 'uncertainty': 'False',\n",
        " 'verbose': 'False'}"
      ],
      "execution_count": null,
      "outputs": []
    },
    {
      "cell_type": "code",
      "metadata": {
        "id": "pMKz4mkma5ng"
      },
      "source": [
        "# # 200 models per feature set (SLOW - more than 12 hours)\n",
        "# layer_dropout = [\n",
        "#                 #  ('64,16','0.1,0.1'),\n",
        "#                 #  ('64,16','0.2,0.2'),\n",
        "#                  ('64,16','0.3,0.3'),\n",
        "#                  ('64,16','0.4,0.4'),\n",
        "#                  ('128,32','0.1,0.1'),\n",
        "#                  ('128,32','0.2,0.2'),\n",
        "#                  ('128,32','0.3,0.3'),\n",
        "#                  ('128,32','0.4,0.4'),\n",
        "#                  ('256,64','0.1,0.1'),\n",
        "#                  ('256,64','0.2,0.2'),\n",
        "#                  ('256,64','0.3,0.3'),\n",
        "#                  ('256,64','0.4,0.4'),\n",
        "#                  ('512,128','0.1,0.1'),\n",
        "#                  ('512,128','0.2,0.2'),\n",
        "#                  ('512,128','0.3,0.3'),\n",
        "#                  ('512,128','0.4,0.4'),\n",
        "#                  ('256,64,16','0.1,0.1,0.1'),\n",
        "#                  ('256,64,16','0.2,0.2,0.2'),\n",
        "#                  ('256,64,16','0.3,0.3,0.3'),\n",
        "#                  ('256,64,16','0.4,0.4,0.4'),\n",
        "# ]\n",
        "# lr_choice = [.00001,.00005,.0001,.0005,.001,.005,.01,.025,.05,.075]\n",
        "\n",
        "# for layers,dropouts in layer_dropout:\n",
        "#   for learning_rate in lr_choice:\n",
        "#     params[\"layer_sizes\"] = layers\n",
        "#     params[\"dropouts\"] = dropouts\n",
        "#     params[\"learning_rate\"] = learning_rate\n",
        "#     tp = parse.wrapper(params)\n",
        "#     pl = mp.ModelPipeline(tp)\n",
        "#     pl.train_model()\n",
        "#     pred_data = pl.model_wrapper.get_perf_data(subset=\"valid\", epoch_label=\"best\")\n",
        "#     pred_results = pred_data.get_prediction_results()\n",
        "#     print(f\"layers: {layers}, dropouts: {dropouts}, learning rate: {learning_rate}, valid_r2: {pred_results['r2_score']}\\n\")"
      ],
      "execution_count": null,
      "outputs": []
    },
    {
      "cell_type": "markdown",
      "metadata": {
        "id": "quStVkT996lA"
      },
      "source": [
        "##### XGBoost models"
      ]
    },
    {
      "cell_type": "code",
      "metadata": {
        "id": "n7aRRhsAALxX"
      },
      "source": [
        "params={'data_owner': 'username',\n",
        " 'dataset_key': '/content/drive/MyDrive/Columbia_E4511/resample_delaney_cur_final.csv',\n",
        " 'datastore': 'False',\n",
        " 'featurizer': 'computed_descriptors',\n",
        " 'descriptor_type':'mordred_filtered',\n",
        " 'id_col': 'compound_id',\n",
        " 'lc_account': 'None',\n",
        " 'max_epochs': '70',\n",
        " 'model_type': 'xgboost',\n",
        " 'prediction_type': 'regression',\n",
        " 'previously_split': 'True',\n",
        " 'rerun': 'False',\n",
        " 'response_cols': 'VALUE_NUM_mean',\n",
        " 'result_dir': '/content/drive/MyDrive/Columbia_E4511/resample_CYP2D6_models',\n",
        " 'save_results': 'False',\n",
        " 'smiles_col': 'base_rdkit_smiles',\n",
        " 'split_uuid': 'e01a3bfa-41c0-4fe1-96b3-e717df1146e5',\n",
        " 'system': 'LC',\n",
        " 'transformers': 'True',\n",
        " 'uncertainty': 'True',\n",
        " 'verbose': 'False'}"
      ],
      "execution_count": null,
      "outputs": []
    },
    {
      "cell_type": "code",
      "metadata": {
        "colab": {
          "background_save": true,
          "base_uri": "https://localhost:8080/"
        },
        "id": "eRJpm-FqALmh",
        "outputId": "e179baa4-8a43-423c-a349-1ff42b265441"
      },
      "source": [
        "# # 96 models per feature set, ~40 seconds per model; ~1:04 hours\n",
        "gamma_choice = [0.0,0.05,0.1,0.2,0.3,0.4,0.5,1,2,4,8,16]\n",
        "lr_choice = [0.25,0.2,0.15,0.10,0.05,0.01,0.001,0.0001]\n",
        "\n",
        "for gamma in gamma_choice:\n",
        "     for learning_rate in lr_choice:\n",
        "         params[\"xgb_gamma\"] = gamma\n",
        "         params[\"xgb_learning_rate\"] = learning_rate\n",
        "         tp = parse.wrapper(params)\n",
        "         pl = mp.ModelPipeline(tp)\n",
        "         pl.train_model()\n",
        "         pred_data = pl.model_wrapper.get_perf_data(subset=\"valid\", epoch_label=\"best\")\n",
        "         pred_results = pred_data.get_prediction_results()\n",
        "         print(f\"xgb gamma: {gamma}, xgb learning rate: {learning_rate}, valid_r2: {pred_results['r2_score']}\\n\")\n"
      ],
      "execution_count": null,
      "outputs": [
        {
          "output_type": "stream",
          "text": [
            "/usr/local/lib/python3.7/dist-packages/numpy/core/fromnumeric.py:87: RuntimeWarning: overflow encountered in reduce\n",
            "  return ufunc.reduce(obj, axis, dtype, out, **passkwargs)\n",
            "/usr/local/lib/python3.7/dist-packages/numpy/core/fromnumeric.py:87: RuntimeWarning: overflow encountered in reduce\n",
            "  return ufunc.reduce(obj, axis, dtype, out, **passkwargs)\n",
            "number of features: 1555\n"
          ],
          "name": "stdout"
        },
        {
          "output_type": "stream",
          "text": [
            "2021-04-27 23:22:46,054 Previous dataset split restored\n"
          ],
          "name": "stderr"
        },
        {
          "output_type": "stream",
          "text": [
            "TIMING: dataset construction took 0.367 s\n",
            "Loading dataset from disk.\n"
          ],
          "name": "stdout"
        },
        {
          "output_type": "stream",
          "text": [
            "/usr/local/lib/python3.7/site-packages/atomsci/ddm/pipeline/transformations.py:225: RuntimeWarning: invalid value encountered in true_divide\n",
            "  X = np.nan_to_num((X - self.X_means) * X_weight / self.X_stds)\n"
          ],
          "name": "stderr"
        },
        {
          "output_type": "stream",
          "text": [
            "TIMING: dataset construction took 0.330 s\n",
            "Loading dataset from disk.\n",
            "TIMING: dataset construction took 0.053 s\n",
            "Loading dataset from disk.\n",
            "TIMING: dataset construction took 0.052 s\n",
            "Loading dataset from disk.\n",
            "TIMING: dataset construction took 0.051 s\n",
            "Loading dataset from disk.\n",
            "TIMING: dataset construction took 0.047 s\n",
            "Loading dataset from disk.\n",
            "[23:23:26] WARNING: /workspace/src/objective/regression_obj.cu:152: reg:linear is now deprecated in favor of reg:squarederror.\n",
            "[23:23:32] WARNING: /workspace/src/objective/regression_obj.cu:152: reg:linear is now deprecated in favor of reg:squarederror.\n"
          ],
          "name": "stdout"
        },
        {
          "output_type": "stream",
          "text": [
            "2021-04-27 23:23:40,366 Wrote model metadata to file /content/drive/MyDrive/Columbia_E4511/resample_CYP2D6_models/resample_delaney_cur_final/xgboost_computed_descriptors_scaffold_regression/db3ae6e4-f1d9-4f46-8414-f4459b768a37/model_metadata.json\n",
            "2021-04-27 23:23:40,393 Wrote model metrics to file /content/drive/MyDrive/Columbia_E4511/resample_CYP2D6_models/resample_delaney_cur_final/xgboost_computed_descriptors_scaffold_regression/db3ae6e4-f1d9-4f46-8414-f4459b768a37/model_metrics.json\n"
          ],
          "name": "stderr"
        },
        {
          "output_type": "stream",
          "text": [
            "Wrote model tarball to /content/drive/MyDrive/Columbia_E4511/resample_CYP2D6_models/resample_delaney_cur_final_model_db3ae6e4-f1d9-4f46-8414-f4459b768a37.tar.gz\n",
            "xgb gamma: 0.0, xgb learning rate: 0.25, valid_r2: 0.15613612328618187\n",
            "\n"
          ],
          "name": "stdout"
        },
        {
          "output_type": "stream",
          "text": [
            "2021-04-27 23:23:42,894 Previous dataset split restored\n"
          ],
          "name": "stderr"
        },
        {
          "output_type": "stream",
          "text": [
            "TIMING: dataset construction took 0.363 s\n",
            "Loading dataset from disk.\n"
          ],
          "name": "stdout"
        },
        {
          "output_type": "stream",
          "text": [
            "/usr/local/lib/python3.7/site-packages/atomsci/ddm/pipeline/transformations.py:225: RuntimeWarning: invalid value encountered in true_divide\n",
            "  X = np.nan_to_num((X - self.X_means) * X_weight / self.X_stds)\n"
          ],
          "name": "stderr"
        },
        {
          "output_type": "stream",
          "text": [
            "TIMING: dataset construction took 0.333 s\n",
            "Loading dataset from disk.\n",
            "TIMING: dataset construction took 0.050 s\n",
            "Loading dataset from disk.\n",
            "TIMING: dataset construction took 0.044 s\n",
            "Loading dataset from disk.\n",
            "TIMING: dataset construction took 0.050 s\n",
            "Loading dataset from disk.\n",
            "TIMING: dataset construction took 0.048 s\n",
            "Loading dataset from disk.\n",
            "[23:25:06] WARNING: /workspace/src/objective/regression_obj.cu:152: reg:linear is now deprecated in favor of reg:squarederror.\n",
            "[23:25:12] WARNING: /workspace/src/objective/regression_obj.cu:152: reg:linear is now deprecated in favor of reg:squarederror.\n"
          ],
          "name": "stdout"
        },
        {
          "output_type": "stream",
          "text": [
            "2021-04-27 23:25:20,786 Wrote model metadata to file /content/drive/MyDrive/Columbia_E4511/resample_CYP2D6_models/resample_delaney_cur_final/xgboost_computed_descriptors_scaffold_regression/6e201aeb-96f4-4655-9f1c-e5e614cf2abf/model_metadata.json\n",
            "2021-04-27 23:25:20,811 Wrote model metrics to file /content/drive/MyDrive/Columbia_E4511/resample_CYP2D6_models/resample_delaney_cur_final/xgboost_computed_descriptors_scaffold_regression/6e201aeb-96f4-4655-9f1c-e5e614cf2abf/model_metrics.json\n"
          ],
          "name": "stderr"
        },
        {
          "output_type": "stream",
          "text": [
            "Wrote model tarball to /content/drive/MyDrive/Columbia_E4511/resample_CYP2D6_models/resample_delaney_cur_final_model_6e201aeb-96f4-4655-9f1c-e5e614cf2abf.tar.gz\n",
            "xgb gamma: 0.0, xgb learning rate: 0.2, valid_r2: 0.18710048724614647\n",
            "\n"
          ],
          "name": "stdout"
        },
        {
          "output_type": "stream",
          "text": [
            "2021-04-27 23:25:23,212 Previous dataset split restored\n"
          ],
          "name": "stderr"
        },
        {
          "output_type": "stream",
          "text": [
            "TIMING: dataset construction took 0.356 s\n",
            "Loading dataset from disk.\n"
          ],
          "name": "stdout"
        },
        {
          "output_type": "stream",
          "text": [
            "/usr/local/lib/python3.7/site-packages/atomsci/ddm/pipeline/transformations.py:225: RuntimeWarning: invalid value encountered in true_divide\n",
            "  X = np.nan_to_num((X - self.X_means) * X_weight / self.X_stds)\n"
          ],
          "name": "stderr"
        },
        {
          "output_type": "stream",
          "text": [
            "TIMING: dataset construction took 0.322 s\n",
            "Loading dataset from disk.\n",
            "TIMING: dataset construction took 0.050 s\n",
            "Loading dataset from disk.\n",
            "TIMING: dataset construction took 0.043 s\n",
            "Loading dataset from disk.\n",
            "TIMING: dataset construction took 0.049 s\n",
            "Loading dataset from disk.\n",
            "TIMING: dataset construction took 0.048 s\n",
            "Loading dataset from disk.\n",
            "[23:26:47] WARNING: /workspace/src/objective/regression_obj.cu:152: reg:linear is now deprecated in favor of reg:squarederror.\n",
            "[23:26:52] WARNING: /workspace/src/objective/regression_obj.cu:152: reg:linear is now deprecated in favor of reg:squarederror.\n"
          ],
          "name": "stdout"
        },
        {
          "output_type": "stream",
          "text": [
            "2021-04-27 23:27:01,420 Wrote model metadata to file /content/drive/MyDrive/Columbia_E4511/resample_CYP2D6_models/resample_delaney_cur_final/xgboost_computed_descriptors_scaffold_regression/f9ef3abc-b279-4626-8679-fe1322f3e479/model_metadata.json\n",
            "2021-04-27 23:27:01,465 Wrote model metrics to file /content/drive/MyDrive/Columbia_E4511/resample_CYP2D6_models/resample_delaney_cur_final/xgboost_computed_descriptors_scaffold_regression/f9ef3abc-b279-4626-8679-fe1322f3e479/model_metrics.json\n"
          ],
          "name": "stderr"
        },
        {
          "output_type": "stream",
          "text": [
            "Wrote model tarball to /content/drive/MyDrive/Columbia_E4511/resample_CYP2D6_models/resample_delaney_cur_final_model_f9ef3abc-b279-4626-8679-fe1322f3e479.tar.gz\n",
            "xgb gamma: 0.0, xgb learning rate: 0.15, valid_r2: 0.19312992330028966\n",
            "\n"
          ],
          "name": "stdout"
        },
        {
          "output_type": "stream",
          "text": [
            "2021-04-27 23:27:03,853 Previous dataset split restored\n"
          ],
          "name": "stderr"
        },
        {
          "output_type": "stream",
          "text": [
            "TIMING: dataset construction took 0.363 s\n",
            "Loading dataset from disk.\n"
          ],
          "name": "stdout"
        },
        {
          "output_type": "stream",
          "text": [
            "/usr/local/lib/python3.7/site-packages/atomsci/ddm/pipeline/transformations.py:225: RuntimeWarning: invalid value encountered in true_divide\n",
            "  X = np.nan_to_num((X - self.X_means) * X_weight / self.X_stds)\n"
          ],
          "name": "stderr"
        },
        {
          "output_type": "stream",
          "text": [
            "TIMING: dataset construction took 0.336 s\n",
            "Loading dataset from disk.\n",
            "TIMING: dataset construction took 0.049 s\n",
            "Loading dataset from disk.\n",
            "TIMING: dataset construction took 0.047 s\n",
            "Loading dataset from disk.\n",
            "TIMING: dataset construction took 0.049 s\n",
            "Loading dataset from disk.\n",
            "TIMING: dataset construction took 0.046 s\n",
            "Loading dataset from disk.\n",
            "[23:28:27] WARNING: /workspace/src/objective/regression_obj.cu:152: reg:linear is now deprecated in favor of reg:squarederror.\n",
            "[23:28:33] WARNING: /workspace/src/objective/regression_obj.cu:152: reg:linear is now deprecated in favor of reg:squarederror.\n"
          ],
          "name": "stdout"
        },
        {
          "output_type": "stream",
          "text": [
            "2021-04-27 23:28:41,416 Wrote model metadata to file /content/drive/MyDrive/Columbia_E4511/resample_CYP2D6_models/resample_delaney_cur_final/xgboost_computed_descriptors_scaffold_regression/6b5da8a6-06fb-432b-8558-81c02e762ff8/model_metadata.json\n",
            "2021-04-27 23:28:41,443 Wrote model metrics to file /content/drive/MyDrive/Columbia_E4511/resample_CYP2D6_models/resample_delaney_cur_final/xgboost_computed_descriptors_scaffold_regression/6b5da8a6-06fb-432b-8558-81c02e762ff8/model_metrics.json\n"
          ],
          "name": "stderr"
        },
        {
          "output_type": "stream",
          "text": [
            "Wrote model tarball to /content/drive/MyDrive/Columbia_E4511/resample_CYP2D6_models/resample_delaney_cur_final_model_6b5da8a6-06fb-432b-8558-81c02e762ff8.tar.gz\n",
            "xgb gamma: 0.0, xgb learning rate: 0.1, valid_r2: 0.2628406447615098\n",
            "\n"
          ],
          "name": "stdout"
        },
        {
          "output_type": "stream",
          "text": [
            "2021-04-27 23:28:43,976 Previous dataset split restored\n"
          ],
          "name": "stderr"
        },
        {
          "output_type": "stream",
          "text": [
            "TIMING: dataset construction took 0.363 s\n",
            "Loading dataset from disk.\n"
          ],
          "name": "stdout"
        },
        {
          "output_type": "stream",
          "text": [
            "/usr/local/lib/python3.7/site-packages/atomsci/ddm/pipeline/transformations.py:225: RuntimeWarning: invalid value encountered in true_divide\n",
            "  X = np.nan_to_num((X - self.X_means) * X_weight / self.X_stds)\n"
          ],
          "name": "stderr"
        },
        {
          "output_type": "stream",
          "text": [
            "TIMING: dataset construction took 0.328 s\n",
            "Loading dataset from disk.\n",
            "TIMING: dataset construction took 0.049 s\n",
            "Loading dataset from disk.\n",
            "TIMING: dataset construction took 0.043 s\n",
            "Loading dataset from disk.\n",
            "TIMING: dataset construction took 0.051 s\n",
            "Loading dataset from disk.\n",
            "TIMING: dataset construction took 0.046 s\n",
            "Loading dataset from disk.\n",
            "[23:30:07] WARNING: /workspace/src/objective/regression_obj.cu:152: reg:linear is now deprecated in favor of reg:squarederror.\n",
            "[23:30:12] WARNING: /workspace/src/objective/regression_obj.cu:152: reg:linear is now deprecated in favor of reg:squarederror.\n"
          ],
          "name": "stdout"
        },
        {
          "output_type": "stream",
          "text": [
            "2021-04-27 23:30:20,969 Wrote model metadata to file /content/drive/MyDrive/Columbia_E4511/resample_CYP2D6_models/resample_delaney_cur_final/xgboost_computed_descriptors_scaffold_regression/a6dd613a-b2a6-4c3f-84b5-e9abb2e9078f/model_metadata.json\n",
            "2021-04-27 23:30:20,996 Wrote model metrics to file /content/drive/MyDrive/Columbia_E4511/resample_CYP2D6_models/resample_delaney_cur_final/xgboost_computed_descriptors_scaffold_regression/a6dd613a-b2a6-4c3f-84b5-e9abb2e9078f/model_metrics.json\n"
          ],
          "name": "stderr"
        },
        {
          "output_type": "stream",
          "text": [
            "Wrote model tarball to /content/drive/MyDrive/Columbia_E4511/resample_CYP2D6_models/resample_delaney_cur_final_model_a6dd613a-b2a6-4c3f-84b5-e9abb2e9078f.tar.gz\n",
            "xgb gamma: 0.0, xgb learning rate: 0.05, valid_r2: 0.25468100489098067\n",
            "\n"
          ],
          "name": "stdout"
        },
        {
          "output_type": "stream",
          "text": [
            "2021-04-27 23:30:23,411 Previous dataset split restored\n"
          ],
          "name": "stderr"
        },
        {
          "output_type": "stream",
          "text": [
            "TIMING: dataset construction took 0.355 s\n",
            "Loading dataset from disk.\n"
          ],
          "name": "stdout"
        },
        {
          "output_type": "stream",
          "text": [
            "/usr/local/lib/python3.7/site-packages/atomsci/ddm/pipeline/transformations.py:225: RuntimeWarning: invalid value encountered in true_divide\n",
            "  X = np.nan_to_num((X - self.X_means) * X_weight / self.X_stds)\n"
          ],
          "name": "stderr"
        },
        {
          "output_type": "stream",
          "text": [
            "TIMING: dataset construction took 0.319 s\n",
            "Loading dataset from disk.\n",
            "TIMING: dataset construction took 0.050 s\n",
            "Loading dataset from disk.\n",
            "TIMING: dataset construction took 0.045 s\n",
            "Loading dataset from disk.\n",
            "TIMING: dataset construction took 0.053 s\n",
            "Loading dataset from disk.\n",
            "TIMING: dataset construction took 0.050 s\n",
            "Loading dataset from disk.\n",
            "[23:31:45] WARNING: /workspace/src/objective/regression_obj.cu:152: reg:linear is now deprecated in favor of reg:squarederror.\n",
            "[23:31:50] WARNING: /workspace/src/objective/regression_obj.cu:152: reg:linear is now deprecated in favor of reg:squarederror.\n"
          ],
          "name": "stdout"
        },
        {
          "output_type": "stream",
          "text": [
            "2021-04-27 23:31:58,063 Wrote model metadata to file /content/drive/MyDrive/Columbia_E4511/resample_CYP2D6_models/resample_delaney_cur_final/xgboost_computed_descriptors_scaffold_regression/f2a63bcc-cf72-40ca-aaa8-8531e18d77b9/model_metadata.json\n",
            "2021-04-27 23:31:58,088 Wrote model metrics to file /content/drive/MyDrive/Columbia_E4511/resample_CYP2D6_models/resample_delaney_cur_final/xgboost_computed_descriptors_scaffold_regression/f2a63bcc-cf72-40ca-aaa8-8531e18d77b9/model_metrics.json\n"
          ],
          "name": "stderr"
        },
        {
          "output_type": "stream",
          "text": [
            "Wrote model tarball to /content/drive/MyDrive/Columbia_E4511/resample_CYP2D6_models/resample_delaney_cur_final_model_f2a63bcc-cf72-40ca-aaa8-8531e18d77b9.tar.gz\n",
            "xgb gamma: 0.0, xgb learning rate: 0.01, valid_r2: 0.06478499170318175\n",
            "\n"
          ],
          "name": "stdout"
        },
        {
          "output_type": "stream",
          "text": [
            "2021-04-27 23:32:00,428 Previous dataset split restored\n"
          ],
          "name": "stderr"
        },
        {
          "output_type": "stream",
          "text": [
            "TIMING: dataset construction took 0.358 s\n",
            "Loading dataset from disk.\n"
          ],
          "name": "stdout"
        },
        {
          "output_type": "stream",
          "text": [
            "/usr/local/lib/python3.7/site-packages/atomsci/ddm/pipeline/transformations.py:225: RuntimeWarning: invalid value encountered in true_divide\n",
            "  X = np.nan_to_num((X - self.X_means) * X_weight / self.X_stds)\n"
          ],
          "name": "stderr"
        },
        {
          "output_type": "stream",
          "text": [
            "TIMING: dataset construction took 0.343 s\n",
            "Loading dataset from disk.\n",
            "TIMING: dataset construction took 0.051 s\n",
            "Loading dataset from disk.\n",
            "TIMING: dataset construction took 0.047 s\n",
            "Loading dataset from disk.\n",
            "TIMING: dataset construction took 0.054 s\n",
            "Loading dataset from disk.\n",
            "TIMING: dataset construction took 0.050 s\n",
            "Loading dataset from disk.\n",
            "[23:33:22] WARNING: /workspace/src/objective/regression_obj.cu:152: reg:linear is now deprecated in favor of reg:squarederror.\n",
            "[23:33:27] WARNING: /workspace/src/objective/regression_obj.cu:152: reg:linear is now deprecated in favor of reg:squarederror.\n"
          ],
          "name": "stdout"
        },
        {
          "output_type": "stream",
          "text": [
            "2021-04-27 23:33:35,414 Wrote model metadata to file /content/drive/MyDrive/Columbia_E4511/resample_CYP2D6_models/resample_delaney_cur_final/xgboost_computed_descriptors_scaffold_regression/4d25359f-3bf4-4e9d-8fb2-b473797fe07d/model_metadata.json\n",
            "2021-04-27 23:33:35,438 Wrote model metrics to file /content/drive/MyDrive/Columbia_E4511/resample_CYP2D6_models/resample_delaney_cur_final/xgboost_computed_descriptors_scaffold_regression/4d25359f-3bf4-4e9d-8fb2-b473797fe07d/model_metrics.json\n"
          ],
          "name": "stderr"
        },
        {
          "output_type": "stream",
          "text": [
            "Wrote model tarball to /content/drive/MyDrive/Columbia_E4511/resample_CYP2D6_models/resample_delaney_cur_final_model_4d25359f-3bf4-4e9d-8fb2-b473797fe07d.tar.gz\n",
            "xgb gamma: 0.0, xgb learning rate: 0.001, valid_r2: -0.4490524457883882\n",
            "\n"
          ],
          "name": "stdout"
        },
        {
          "output_type": "stream",
          "text": [
            "2021-04-27 23:33:37,801 Previous dataset split restored\n"
          ],
          "name": "stderr"
        },
        {
          "output_type": "stream",
          "text": [
            "TIMING: dataset construction took 0.351 s\n",
            "Loading dataset from disk.\n"
          ],
          "name": "stdout"
        },
        {
          "output_type": "stream",
          "text": [
            "/usr/local/lib/python3.7/site-packages/atomsci/ddm/pipeline/transformations.py:225: RuntimeWarning: invalid value encountered in true_divide\n",
            "  X = np.nan_to_num((X - self.X_means) * X_weight / self.X_stds)\n"
          ],
          "name": "stderr"
        },
        {
          "output_type": "stream",
          "text": [
            "TIMING: dataset construction took 0.320 s\n",
            "Loading dataset from disk.\n",
            "TIMING: dataset construction took 0.051 s\n",
            "Loading dataset from disk.\n",
            "TIMING: dataset construction took 0.044 s\n",
            "Loading dataset from disk.\n",
            "TIMING: dataset construction took 0.052 s\n",
            "Loading dataset from disk.\n",
            "TIMING: dataset construction took 0.050 s\n",
            "Loading dataset from disk.\n",
            "[23:35:00] WARNING: /workspace/src/objective/regression_obj.cu:152: reg:linear is now deprecated in favor of reg:squarederror.\n",
            "[23:35:05] WARNING: /workspace/src/objective/regression_obj.cu:152: reg:linear is now deprecated in favor of reg:squarederror.\n"
          ],
          "name": "stdout"
        },
        {
          "output_type": "stream",
          "text": [
            "2021-04-27 23:35:12,933 Wrote model metadata to file /content/drive/MyDrive/Columbia_E4511/resample_CYP2D6_models/resample_delaney_cur_final/xgboost_computed_descriptors_scaffold_regression/d09d756a-bf5c-4e22-a8f9-04bd66bd2fd3/model_metadata.json\n",
            "2021-04-27 23:35:12,957 Wrote model metrics to file /content/drive/MyDrive/Columbia_E4511/resample_CYP2D6_models/resample_delaney_cur_final/xgboost_computed_descriptors_scaffold_regression/d09d756a-bf5c-4e22-a8f9-04bd66bd2fd3/model_metrics.json\n"
          ],
          "name": "stderr"
        },
        {
          "output_type": "stream",
          "text": [
            "Wrote model tarball to /content/drive/MyDrive/Columbia_E4511/resample_CYP2D6_models/resample_delaney_cur_final_model_d09d756a-bf5c-4e22-a8f9-04bd66bd2fd3.tar.gz\n",
            "xgb gamma: 0.0, xgb learning rate: 0.0001, valid_r2: -0.5469648485700416\n",
            "\n"
          ],
          "name": "stdout"
        },
        {
          "output_type": "stream",
          "text": [
            "2021-04-27 23:35:15,275 Previous dataset split restored\n"
          ],
          "name": "stderr"
        },
        {
          "output_type": "stream",
          "text": [
            "TIMING: dataset construction took 0.351 s\n",
            "Loading dataset from disk.\n"
          ],
          "name": "stdout"
        },
        {
          "output_type": "stream",
          "text": [
            "/usr/local/lib/python3.7/site-packages/atomsci/ddm/pipeline/transformations.py:225: RuntimeWarning: invalid value encountered in true_divide\n",
            "  X = np.nan_to_num((X - self.X_means) * X_weight / self.X_stds)\n"
          ],
          "name": "stderr"
        },
        {
          "output_type": "stream",
          "text": [
            "TIMING: dataset construction took 0.328 s\n",
            "Loading dataset from disk.\n",
            "TIMING: dataset construction took 0.049 s\n",
            "Loading dataset from disk.\n",
            "TIMING: dataset construction took 0.044 s\n",
            "Loading dataset from disk.\n",
            "TIMING: dataset construction took 0.052 s\n",
            "Loading dataset from disk.\n",
            "TIMING: dataset construction took 0.047 s\n",
            "Loading dataset from disk.\n",
            "[23:36:41] WARNING: /workspace/src/objective/regression_obj.cu:152: reg:linear is now deprecated in favor of reg:squarederror.\n",
            "[23:36:47] WARNING: /workspace/src/objective/regression_obj.cu:152: reg:linear is now deprecated in favor of reg:squarederror.\n"
          ],
          "name": "stdout"
        },
        {
          "output_type": "stream",
          "text": [
            "2021-04-27 23:36:53,793 Wrote model metadata to file /content/drive/MyDrive/Columbia_E4511/resample_CYP2D6_models/resample_delaney_cur_final/xgboost_computed_descriptors_scaffold_regression/14cc057f-874e-4d93-b01d-0a1b6b8c2e1e/model_metadata.json\n",
            "2021-04-27 23:36:53,815 Wrote model metrics to file /content/drive/MyDrive/Columbia_E4511/resample_CYP2D6_models/resample_delaney_cur_final/xgboost_computed_descriptors_scaffold_regression/14cc057f-874e-4d93-b01d-0a1b6b8c2e1e/model_metrics.json\n"
          ],
          "name": "stderr"
        },
        {
          "output_type": "stream",
          "text": [
            "Wrote model tarball to /content/drive/MyDrive/Columbia_E4511/resample_CYP2D6_models/resample_delaney_cur_final_model_14cc057f-874e-4d93-b01d-0a1b6b8c2e1e.tar.gz\n",
            "xgb gamma: 0.05, xgb learning rate: 0.25, valid_r2: 0.2218018221976229\n",
            "\n"
          ],
          "name": "stdout"
        },
        {
          "output_type": "stream",
          "text": [
            "2021-04-27 23:36:56,322 Previous dataset split restored\n"
          ],
          "name": "stderr"
        },
        {
          "output_type": "stream",
          "text": [
            "TIMING: dataset construction took 0.354 s\n",
            "Loading dataset from disk.\n"
          ],
          "name": "stdout"
        },
        {
          "output_type": "stream",
          "text": [
            "/usr/local/lib/python3.7/site-packages/atomsci/ddm/pipeline/transformations.py:225: RuntimeWarning: invalid value encountered in true_divide\n",
            "  X = np.nan_to_num((X - self.X_means) * X_weight / self.X_stds)\n"
          ],
          "name": "stderr"
        },
        {
          "output_type": "stream",
          "text": [
            "TIMING: dataset construction took 0.328 s\n",
            "Loading dataset from disk.\n",
            "TIMING: dataset construction took 0.051 s\n",
            "Loading dataset from disk.\n",
            "TIMING: dataset construction took 0.045 s\n",
            "Loading dataset from disk.\n",
            "TIMING: dataset construction took 0.050 s\n",
            "Loading dataset from disk.\n",
            "TIMING: dataset construction took 0.045 s\n",
            "Loading dataset from disk.\n",
            "[23:38:22] WARNING: /workspace/src/objective/regression_obj.cu:152: reg:linear is now deprecated in favor of reg:squarederror.\n",
            "[23:38:27] WARNING: /workspace/src/objective/regression_obj.cu:152: reg:linear is now deprecated in favor of reg:squarederror.\n"
          ],
          "name": "stdout"
        },
        {
          "output_type": "stream",
          "text": [
            "2021-04-27 23:38:35,914 Wrote model metadata to file /content/drive/MyDrive/Columbia_E4511/resample_CYP2D6_models/resample_delaney_cur_final/xgboost_computed_descriptors_scaffold_regression/b84cdf3a-092f-413c-ba4f-d9aa0ca298ac/model_metadata.json\n",
            "2021-04-27 23:38:35,939 Wrote model metrics to file /content/drive/MyDrive/Columbia_E4511/resample_CYP2D6_models/resample_delaney_cur_final/xgboost_computed_descriptors_scaffold_regression/b84cdf3a-092f-413c-ba4f-d9aa0ca298ac/model_metrics.json\n"
          ],
          "name": "stderr"
        },
        {
          "output_type": "stream",
          "text": [
            "Wrote model tarball to /content/drive/MyDrive/Columbia_E4511/resample_CYP2D6_models/resample_delaney_cur_final_model_b84cdf3a-092f-413c-ba4f-d9aa0ca298ac.tar.gz\n",
            "xgb gamma: 0.05, xgb learning rate: 0.2, valid_r2: 0.2073483620153228\n",
            "\n"
          ],
          "name": "stdout"
        },
        {
          "output_type": "stream",
          "text": [
            "2021-04-27 23:38:38,298 Previous dataset split restored\n"
          ],
          "name": "stderr"
        },
        {
          "output_type": "stream",
          "text": [
            "TIMING: dataset construction took 0.347 s\n",
            "Loading dataset from disk.\n"
          ],
          "name": "stdout"
        },
        {
          "output_type": "stream",
          "text": [
            "/usr/local/lib/python3.7/site-packages/atomsci/ddm/pipeline/transformations.py:225: RuntimeWarning: invalid value encountered in true_divide\n",
            "  X = np.nan_to_num((X - self.X_means) * X_weight / self.X_stds)\n"
          ],
          "name": "stderr"
        },
        {
          "output_type": "stream",
          "text": [
            "TIMING: dataset construction took 0.317 s\n",
            "Loading dataset from disk.\n",
            "TIMING: dataset construction took 0.049 s\n",
            "Loading dataset from disk.\n",
            "TIMING: dataset construction took 0.043 s\n",
            "Loading dataset from disk.\n",
            "TIMING: dataset construction took 0.047 s\n",
            "Loading dataset from disk.\n",
            "TIMING: dataset construction took 0.045 s\n",
            "Loading dataset from disk.\n",
            "[23:40:04] WARNING: /workspace/src/objective/regression_obj.cu:152: reg:linear is now deprecated in favor of reg:squarederror.\n",
            "[23:40:10] WARNING: /workspace/src/objective/regression_obj.cu:152: reg:linear is now deprecated in favor of reg:squarederror.\n"
          ],
          "name": "stdout"
        },
        {
          "output_type": "stream",
          "text": [
            "2021-04-27 23:40:16,886 Wrote model metadata to file /content/drive/MyDrive/Columbia_E4511/resample_CYP2D6_models/resample_delaney_cur_final/xgboost_computed_descriptors_scaffold_regression/d00d68cf-fa9f-4c56-8c39-c4a88db1fde3/model_metadata.json\n",
            "2021-04-27 23:40:16,931 Wrote model metrics to file /content/drive/MyDrive/Columbia_E4511/resample_CYP2D6_models/resample_delaney_cur_final/xgboost_computed_descriptors_scaffold_regression/d00d68cf-fa9f-4c56-8c39-c4a88db1fde3/model_metrics.json\n"
          ],
          "name": "stderr"
        },
        {
          "output_type": "stream",
          "text": [
            "Wrote model tarball to /content/drive/MyDrive/Columbia_E4511/resample_CYP2D6_models/resample_delaney_cur_final_model_d00d68cf-fa9f-4c56-8c39-c4a88db1fde3.tar.gz\n",
            "xgb gamma: 0.05, xgb learning rate: 0.15, valid_r2: 0.20970203113050168\n",
            "\n"
          ],
          "name": "stdout"
        },
        {
          "output_type": "stream",
          "text": [
            "2021-04-27 23:40:19,276 Previous dataset split restored\n"
          ],
          "name": "stderr"
        },
        {
          "output_type": "stream",
          "text": [
            "TIMING: dataset construction took 0.346 s\n",
            "Loading dataset from disk.\n"
          ],
          "name": "stdout"
        },
        {
          "output_type": "stream",
          "text": [
            "/usr/local/lib/python3.7/site-packages/atomsci/ddm/pipeline/transformations.py:225: RuntimeWarning: invalid value encountered in true_divide\n",
            "  X = np.nan_to_num((X - self.X_means) * X_weight / self.X_stds)\n"
          ],
          "name": "stderr"
        },
        {
          "output_type": "stream",
          "text": [
            "TIMING: dataset construction took 0.322 s\n",
            "Loading dataset from disk.\n",
            "TIMING: dataset construction took 0.048 s\n",
            "Loading dataset from disk.\n",
            "TIMING: dataset construction took 0.044 s\n",
            "Loading dataset from disk.\n",
            "TIMING: dataset construction took 0.049 s\n",
            "Loading dataset from disk.\n",
            "TIMING: dataset construction took 0.046 s\n",
            "Loading dataset from disk.\n",
            "[23:41:45] WARNING: /workspace/src/objective/regression_obj.cu:152: reg:linear is now deprecated in favor of reg:squarederror.\n",
            "[23:41:50] WARNING: /workspace/src/objective/regression_obj.cu:152: reg:linear is now deprecated in favor of reg:squarederror.\n"
          ],
          "name": "stdout"
        },
        {
          "output_type": "stream",
          "text": [
            "2021-04-27 23:41:59,012 Wrote model metadata to file /content/drive/MyDrive/Columbia_E4511/resample_CYP2D6_models/resample_delaney_cur_final/xgboost_computed_descriptors_scaffold_regression/c19b52ea-1389-4e81-9ab3-356b3508e9ba/model_metadata.json\n",
            "2021-04-27 23:41:59,036 Wrote model metrics to file /content/drive/MyDrive/Columbia_E4511/resample_CYP2D6_models/resample_delaney_cur_final/xgboost_computed_descriptors_scaffold_regression/c19b52ea-1389-4e81-9ab3-356b3508e9ba/model_metrics.json\n"
          ],
          "name": "stderr"
        },
        {
          "output_type": "stream",
          "text": [
            "Wrote model tarball to /content/drive/MyDrive/Columbia_E4511/resample_CYP2D6_models/resample_delaney_cur_final_model_c19b52ea-1389-4e81-9ab3-356b3508e9ba.tar.gz\n",
            "xgb gamma: 0.05, xgb learning rate: 0.1, valid_r2: 0.23140590096140912\n",
            "\n"
          ],
          "name": "stdout"
        },
        {
          "output_type": "stream",
          "text": [
            "2021-04-27 23:42:01,398 Previous dataset split restored\n"
          ],
          "name": "stderr"
        },
        {
          "output_type": "stream",
          "text": [
            "TIMING: dataset construction took 0.349 s\n",
            "Loading dataset from disk.\n"
          ],
          "name": "stdout"
        },
        {
          "output_type": "stream",
          "text": [
            "/usr/local/lib/python3.7/site-packages/atomsci/ddm/pipeline/transformations.py:225: RuntimeWarning: invalid value encountered in true_divide\n",
            "  X = np.nan_to_num((X - self.X_means) * X_weight / self.X_stds)\n"
          ],
          "name": "stderr"
        },
        {
          "output_type": "stream",
          "text": [
            "TIMING: dataset construction took 0.322 s\n",
            "Loading dataset from disk.\n",
            "TIMING: dataset construction took 0.052 s\n",
            "Loading dataset from disk.\n",
            "TIMING: dataset construction took 0.044 s\n",
            "Loading dataset from disk.\n",
            "TIMING: dataset construction took 0.050 s\n",
            "Loading dataset from disk.\n",
            "TIMING: dataset construction took 0.047 s\n",
            "Loading dataset from disk.\n",
            "[23:43:27] WARNING: /workspace/src/objective/regression_obj.cu:152: reg:linear is now deprecated in favor of reg:squarederror.\n",
            "[23:43:32] WARNING: /workspace/src/objective/regression_obj.cu:152: reg:linear is now deprecated in favor of reg:squarederror.\n"
          ],
          "name": "stdout"
        },
        {
          "output_type": "stream",
          "text": [
            "2021-04-27 23:43:40,775 Wrote model metadata to file /content/drive/MyDrive/Columbia_E4511/resample_CYP2D6_models/resample_delaney_cur_final/xgboost_computed_descriptors_scaffold_regression/ab6fd20a-d28a-4698-92cf-5204f8a39481/model_metadata.json\n",
            "2021-04-27 23:43:40,801 Wrote model metrics to file /content/drive/MyDrive/Columbia_E4511/resample_CYP2D6_models/resample_delaney_cur_final/xgboost_computed_descriptors_scaffold_regression/ab6fd20a-d28a-4698-92cf-5204f8a39481/model_metrics.json\n"
          ],
          "name": "stderr"
        },
        {
          "output_type": "stream",
          "text": [
            "Wrote model tarball to /content/drive/MyDrive/Columbia_E4511/resample_CYP2D6_models/resample_delaney_cur_final_model_ab6fd20a-d28a-4698-92cf-5204f8a39481.tar.gz\n",
            "xgb gamma: 0.05, xgb learning rate: 0.05, valid_r2: 0.24342089348083762\n",
            "\n"
          ],
          "name": "stdout"
        },
        {
          "output_type": "stream",
          "text": [
            "2021-04-27 23:43:43,262 Previous dataset split restored\n"
          ],
          "name": "stderr"
        },
        {
          "output_type": "stream",
          "text": [
            "TIMING: dataset construction took 0.351 s\n",
            "Loading dataset from disk.\n"
          ],
          "name": "stdout"
        },
        {
          "output_type": "stream",
          "text": [
            "/usr/local/lib/python3.7/site-packages/atomsci/ddm/pipeline/transformations.py:225: RuntimeWarning: invalid value encountered in true_divide\n",
            "  X = np.nan_to_num((X - self.X_means) * X_weight / self.X_stds)\n"
          ],
          "name": "stderr"
        },
        {
          "output_type": "stream",
          "text": [
            "TIMING: dataset construction took 0.319 s\n",
            "Loading dataset from disk.\n",
            "TIMING: dataset construction took 0.050 s\n",
            "Loading dataset from disk.\n",
            "TIMING: dataset construction took 0.047 s\n",
            "Loading dataset from disk.\n",
            "TIMING: dataset construction took 0.053 s\n",
            "Loading dataset from disk.\n",
            "TIMING: dataset construction took 0.048 s\n",
            "Loading dataset from disk.\n",
            "[23:45:09] WARNING: /workspace/src/objective/regression_obj.cu:152: reg:linear is now deprecated in favor of reg:squarederror.\n",
            "[23:45:14] WARNING: /workspace/src/objective/regression_obj.cu:152: reg:linear is now deprecated in favor of reg:squarederror.\n"
          ],
          "name": "stdout"
        },
        {
          "output_type": "stream",
          "text": [
            "2021-04-27 23:45:22,690 Wrote model metadata to file /content/drive/MyDrive/Columbia_E4511/resample_CYP2D6_models/resample_delaney_cur_final/xgboost_computed_descriptors_scaffold_regression/541a7b4d-78a6-4908-abea-c19a4b6bcf54/model_metadata.json\n",
            "2021-04-27 23:45:22,716 Wrote model metrics to file /content/drive/MyDrive/Columbia_E4511/resample_CYP2D6_models/resample_delaney_cur_final/xgboost_computed_descriptors_scaffold_regression/541a7b4d-78a6-4908-abea-c19a4b6bcf54/model_metrics.json\n"
          ],
          "name": "stderr"
        },
        {
          "output_type": "stream",
          "text": [
            "Wrote model tarball to /content/drive/MyDrive/Columbia_E4511/resample_CYP2D6_models/resample_delaney_cur_final_model_541a7b4d-78a6-4908-abea-c19a4b6bcf54.tar.gz\n",
            "xgb gamma: 0.05, xgb learning rate: 0.01, valid_r2: 0.07011830498249172\n",
            "\n"
          ],
          "name": "stdout"
        },
        {
          "output_type": "stream",
          "text": [
            "2021-04-27 23:45:25,054 Previous dataset split restored\n"
          ],
          "name": "stderr"
        },
        {
          "output_type": "stream",
          "text": [
            "TIMING: dataset construction took 0.370 s\n",
            "Loading dataset from disk.\n"
          ],
          "name": "stdout"
        },
        {
          "output_type": "stream",
          "text": [
            "/usr/local/lib/python3.7/site-packages/atomsci/ddm/pipeline/transformations.py:225: RuntimeWarning: invalid value encountered in true_divide\n",
            "  X = np.nan_to_num((X - self.X_means) * X_weight / self.X_stds)\n"
          ],
          "name": "stderr"
        },
        {
          "output_type": "stream",
          "text": [
            "TIMING: dataset construction took 0.322 s\n",
            "Loading dataset from disk.\n",
            "TIMING: dataset construction took 0.050 s\n",
            "Loading dataset from disk.\n",
            "TIMING: dataset construction took 0.045 s\n",
            "Loading dataset from disk.\n",
            "TIMING: dataset construction took 0.051 s\n",
            "Loading dataset from disk.\n",
            "TIMING: dataset construction took 0.047 s\n",
            "Loading dataset from disk.\n",
            "[23:46:50] WARNING: /workspace/src/objective/regression_obj.cu:152: reg:linear is now deprecated in favor of reg:squarederror.\n",
            "[23:46:55] WARNING: /workspace/src/objective/regression_obj.cu:152: reg:linear is now deprecated in favor of reg:squarederror.\n"
          ],
          "name": "stdout"
        },
        {
          "output_type": "stream",
          "text": [
            "2021-04-27 23:47:03,406 Wrote model metadata to file /content/drive/MyDrive/Columbia_E4511/resample_CYP2D6_models/resample_delaney_cur_final/xgboost_computed_descriptors_scaffold_regression/bd26fb43-8c5b-4c3d-a4c3-8aa63d48aa96/model_metadata.json\n",
            "2021-04-27 23:47:03,430 Wrote model metrics to file /content/drive/MyDrive/Columbia_E4511/resample_CYP2D6_models/resample_delaney_cur_final/xgboost_computed_descriptors_scaffold_regression/bd26fb43-8c5b-4c3d-a4c3-8aa63d48aa96/model_metrics.json\n"
          ],
          "name": "stderr"
        },
        {
          "output_type": "stream",
          "text": [
            "Wrote model tarball to /content/drive/MyDrive/Columbia_E4511/resample_CYP2D6_models/resample_delaney_cur_final_model_bd26fb43-8c5b-4c3d-a4c3-8aa63d48aa96.tar.gz\n",
            "xgb gamma: 0.05, xgb learning rate: 0.001, valid_r2: -0.4491167991619929\n",
            "\n"
          ],
          "name": "stdout"
        },
        {
          "output_type": "stream",
          "text": [
            "2021-04-27 23:47:05,794 Previous dataset split restored\n"
          ],
          "name": "stderr"
        },
        {
          "output_type": "stream",
          "text": [
            "TIMING: dataset construction took 0.348 s\n",
            "Loading dataset from disk.\n"
          ],
          "name": "stdout"
        },
        {
          "output_type": "stream",
          "text": [
            "/usr/local/lib/python3.7/site-packages/atomsci/ddm/pipeline/transformations.py:225: RuntimeWarning: invalid value encountered in true_divide\n",
            "  X = np.nan_to_num((X - self.X_means) * X_weight / self.X_stds)\n"
          ],
          "name": "stderr"
        },
        {
          "output_type": "stream",
          "text": [
            "TIMING: dataset construction took 0.324 s\n",
            "Loading dataset from disk.\n",
            "TIMING: dataset construction took 0.049 s\n",
            "Loading dataset from disk.\n",
            "TIMING: dataset construction took 0.045 s\n",
            "Loading dataset from disk.\n",
            "TIMING: dataset construction took 0.048 s\n",
            "Loading dataset from disk.\n",
            "TIMING: dataset construction took 0.046 s\n",
            "Loading dataset from disk.\n",
            "[23:48:32] WARNING: /workspace/src/objective/regression_obj.cu:152: reg:linear is now deprecated in favor of reg:squarederror.\n",
            "[23:48:37] WARNING: /workspace/src/objective/regression_obj.cu:152: reg:linear is now deprecated in favor of reg:squarederror.\n"
          ],
          "name": "stdout"
        },
        {
          "output_type": "stream",
          "text": [
            "2021-04-27 23:48:44,729 Wrote model metadata to file /content/drive/MyDrive/Columbia_E4511/resample_CYP2D6_models/resample_delaney_cur_final/xgboost_computed_descriptors_scaffold_regression/e253ba75-9446-4f92-bb3e-cb1e7168ac7c/model_metadata.json\n",
            "2021-04-27 23:48:44,753 Wrote model metrics to file /content/drive/MyDrive/Columbia_E4511/resample_CYP2D6_models/resample_delaney_cur_final/xgboost_computed_descriptors_scaffold_regression/e253ba75-9446-4f92-bb3e-cb1e7168ac7c/model_metrics.json\n"
          ],
          "name": "stderr"
        },
        {
          "output_type": "stream",
          "text": [
            "Wrote model tarball to /content/drive/MyDrive/Columbia_E4511/resample_CYP2D6_models/resample_delaney_cur_final_model_e253ba75-9446-4f92-bb3e-cb1e7168ac7c.tar.gz\n",
            "xgb gamma: 0.05, xgb learning rate: 0.0001, valid_r2: -0.5469642087235995\n",
            "\n"
          ],
          "name": "stdout"
        },
        {
          "output_type": "stream",
          "text": [
            "2021-04-27 23:48:47,123 Previous dataset split restored\n"
          ],
          "name": "stderr"
        },
        {
          "output_type": "stream",
          "text": [
            "TIMING: dataset construction took 0.354 s\n",
            "Loading dataset from disk.\n"
          ],
          "name": "stdout"
        },
        {
          "output_type": "stream",
          "text": [
            "/usr/local/lib/python3.7/site-packages/atomsci/ddm/pipeline/transformations.py:225: RuntimeWarning: invalid value encountered in true_divide\n",
            "  X = np.nan_to_num((X - self.X_means) * X_weight / self.X_stds)\n"
          ],
          "name": "stderr"
        },
        {
          "output_type": "stream",
          "text": [
            "TIMING: dataset construction took 0.322 s\n",
            "Loading dataset from disk.\n",
            "TIMING: dataset construction took 0.049 s\n",
            "Loading dataset from disk.\n",
            "TIMING: dataset construction took 0.046 s\n",
            "Loading dataset from disk.\n",
            "TIMING: dataset construction took 0.049 s\n",
            "Loading dataset from disk.\n",
            "TIMING: dataset construction took 0.047 s\n",
            "Loading dataset from disk.\n",
            "[23:50:13] WARNING: /workspace/src/objective/regression_obj.cu:152: reg:linear is now deprecated in favor of reg:squarederror.\n",
            "[23:50:20] WARNING: /workspace/src/objective/regression_obj.cu:152: reg:linear is now deprecated in favor of reg:squarederror.\n"
          ],
          "name": "stdout"
        },
        {
          "output_type": "stream",
          "text": [
            "2021-04-27 23:50:29,682 Wrote model metadata to file /content/drive/MyDrive/Columbia_E4511/resample_CYP2D6_models/resample_delaney_cur_final/xgboost_computed_descriptors_scaffold_regression/fe73b61e-5577-472b-9d43-e6da945c00a3/model_metadata.json\n",
            "2021-04-27 23:50:29,711 Wrote model metrics to file /content/drive/MyDrive/Columbia_E4511/resample_CYP2D6_models/resample_delaney_cur_final/xgboost_computed_descriptors_scaffold_regression/fe73b61e-5577-472b-9d43-e6da945c00a3/model_metrics.json\n"
          ],
          "name": "stderr"
        },
        {
          "output_type": "stream",
          "text": [
            "Wrote model tarball to /content/drive/MyDrive/Columbia_E4511/resample_CYP2D6_models/resample_delaney_cur_final_model_fe73b61e-5577-472b-9d43-e6da945c00a3.tar.gz\n",
            "xgb gamma: 0.1, xgb learning rate: 0.25, valid_r2: 0.12323042379059224\n",
            "\n"
          ],
          "name": "stdout"
        },
        {
          "output_type": "stream",
          "text": [
            "2021-04-27 23:50:32,044 Previous dataset split restored\n"
          ],
          "name": "stderr"
        },
        {
          "output_type": "stream",
          "text": [
            "TIMING: dataset construction took 0.357 s\n",
            "Loading dataset from disk.\n"
          ],
          "name": "stdout"
        },
        {
          "output_type": "stream",
          "text": [
            "/usr/local/lib/python3.7/site-packages/atomsci/ddm/pipeline/transformations.py:225: RuntimeWarning: invalid value encountered in true_divide\n",
            "  X = np.nan_to_num((X - self.X_means) * X_weight / self.X_stds)\n"
          ],
          "name": "stderr"
        },
        {
          "output_type": "stream",
          "text": [
            "TIMING: dataset construction took 0.325 s\n",
            "Loading dataset from disk.\n",
            "TIMING: dataset construction took 0.050 s\n",
            "Loading dataset from disk.\n",
            "TIMING: dataset construction took 0.046 s\n",
            "Loading dataset from disk.\n",
            "TIMING: dataset construction took 0.050 s\n",
            "Loading dataset from disk.\n",
            "TIMING: dataset construction took 0.044 s\n",
            "Loading dataset from disk.\n",
            "[23:51:58] WARNING: /workspace/src/objective/regression_obj.cu:152: reg:linear is now deprecated in favor of reg:squarederror.\n",
            "[23:52:04] WARNING: /workspace/src/objective/regression_obj.cu:152: reg:linear is now deprecated in favor of reg:squarederror.\n"
          ],
          "name": "stdout"
        },
        {
          "output_type": "stream",
          "text": [
            "2021-04-27 23:52:07,866 Wrote model metadata to file /content/drive/MyDrive/Columbia_E4511/resample_CYP2D6_models/resample_delaney_cur_final/xgboost_computed_descriptors_scaffold_regression/a55b83b8-9684-4408-9bc1-f268874d2385/model_metadata.json\n",
            "2021-04-27 23:52:07,890 Wrote model metrics to file /content/drive/MyDrive/Columbia_E4511/resample_CYP2D6_models/resample_delaney_cur_final/xgboost_computed_descriptors_scaffold_regression/a55b83b8-9684-4408-9bc1-f268874d2385/model_metrics.json\n"
          ],
          "name": "stderr"
        },
        {
          "output_type": "stream",
          "text": [
            "Wrote model tarball to /content/drive/MyDrive/Columbia_E4511/resample_CYP2D6_models/resample_delaney_cur_final_model_a55b83b8-9684-4408-9bc1-f268874d2385.tar.gz\n",
            "xgb gamma: 0.1, xgb learning rate: 0.2, valid_r2: 0.20712898446959305\n",
            "\n"
          ],
          "name": "stdout"
        },
        {
          "output_type": "stream",
          "text": [
            "2021-04-27 23:52:10,386 Previous dataset split restored\n"
          ],
          "name": "stderr"
        },
        {
          "output_type": "stream",
          "text": [
            "TIMING: dataset construction took 0.361 s\n",
            "Loading dataset from disk.\n"
          ],
          "name": "stdout"
        },
        {
          "output_type": "stream",
          "text": [
            "/usr/local/lib/python3.7/site-packages/atomsci/ddm/pipeline/transformations.py:225: RuntimeWarning: invalid value encountered in true_divide\n",
            "  X = np.nan_to_num((X - self.X_means) * X_weight / self.X_stds)\n"
          ],
          "name": "stderr"
        },
        {
          "output_type": "stream",
          "text": [
            "TIMING: dataset construction took 0.329 s\n",
            "Loading dataset from disk.\n",
            "TIMING: dataset construction took 0.048 s\n",
            "Loading dataset from disk.\n",
            "TIMING: dataset construction took 0.047 s\n",
            "Loading dataset from disk.\n",
            "TIMING: dataset construction took 0.049 s\n",
            "Loading dataset from disk.\n",
            "TIMING: dataset construction took 0.046 s\n",
            "Loading dataset from disk.\n",
            "[23:53:37] WARNING: /workspace/src/objective/regression_obj.cu:152: reg:linear is now deprecated in favor of reg:squarederror.\n",
            "[23:53:43] WARNING: /workspace/src/objective/regression_obj.cu:152: reg:linear is now deprecated in favor of reg:squarederror.\n"
          ],
          "name": "stdout"
        },
        {
          "output_type": "stream",
          "text": [
            "2021-04-27 23:53:49,209 Wrote model metadata to file /content/drive/MyDrive/Columbia_E4511/resample_CYP2D6_models/resample_delaney_cur_final/xgboost_computed_descriptors_scaffold_regression/7b2f0897-6a96-490b-9247-a684e30fc828/model_metadata.json\n",
            "2021-04-27 23:53:49,233 Wrote model metrics to file /content/drive/MyDrive/Columbia_E4511/resample_CYP2D6_models/resample_delaney_cur_final/xgboost_computed_descriptors_scaffold_regression/7b2f0897-6a96-490b-9247-a684e30fc828/model_metrics.json\n"
          ],
          "name": "stderr"
        },
        {
          "output_type": "stream",
          "text": [
            "Wrote model tarball to /content/drive/MyDrive/Columbia_E4511/resample_CYP2D6_models/resample_delaney_cur_final_model_7b2f0897-6a96-490b-9247-a684e30fc828.tar.gz\n",
            "xgb gamma: 0.1, xgb learning rate: 0.15, valid_r2: 0.23744026600615886\n",
            "\n"
          ],
          "name": "stdout"
        },
        {
          "output_type": "stream",
          "text": [
            "2021-04-27 23:53:51,604 Previous dataset split restored\n"
          ],
          "name": "stderr"
        },
        {
          "output_type": "stream",
          "text": [
            "TIMING: dataset construction took 0.362 s\n",
            "Loading dataset from disk.\n"
          ],
          "name": "stdout"
        },
        {
          "output_type": "stream",
          "text": [
            "/usr/local/lib/python3.7/site-packages/atomsci/ddm/pipeline/transformations.py:225: RuntimeWarning: invalid value encountered in true_divide\n",
            "  X = np.nan_to_num((X - self.X_means) * X_weight / self.X_stds)\n"
          ],
          "name": "stderr"
        },
        {
          "output_type": "stream",
          "text": [
            "TIMING: dataset construction took 0.340 s\n",
            "Loading dataset from disk.\n",
            "TIMING: dataset construction took 0.055 s\n",
            "Loading dataset from disk.\n",
            "TIMING: dataset construction took 0.045 s\n",
            "Loading dataset from disk.\n",
            "TIMING: dataset construction took 0.051 s\n",
            "Loading dataset from disk.\n",
            "TIMING: dataset construction took 0.047 s\n",
            "Loading dataset from disk.\n",
            "[23:55:18] WARNING: /workspace/src/objective/regression_obj.cu:152: reg:linear is now deprecated in favor of reg:squarederror.\n",
            "[23:55:25] WARNING: /workspace/src/objective/regression_obj.cu:152: reg:linear is now deprecated in favor of reg:squarederror.\n"
          ],
          "name": "stdout"
        },
        {
          "output_type": "stream",
          "text": [
            "2021-04-27 23:55:34,367 Wrote model metadata to file /content/drive/MyDrive/Columbia_E4511/resample_CYP2D6_models/resample_delaney_cur_final/xgboost_computed_descriptors_scaffold_regression/82df3c92-44ca-45f5-a323-21bc511af74e/model_metadata.json\n",
            "2021-04-27 23:55:34,394 Wrote model metrics to file /content/drive/MyDrive/Columbia_E4511/resample_CYP2D6_models/resample_delaney_cur_final/xgboost_computed_descriptors_scaffold_regression/82df3c92-44ca-45f5-a323-21bc511af74e/model_metrics.json\n"
          ],
          "name": "stderr"
        },
        {
          "output_type": "stream",
          "text": [
            "Wrote model tarball to /content/drive/MyDrive/Columbia_E4511/resample_CYP2D6_models/resample_delaney_cur_final_model_82df3c92-44ca-45f5-a323-21bc511af74e.tar.gz\n",
            "xgb gamma: 0.1, xgb learning rate: 0.1, valid_r2: 0.2902280204773544\n",
            "\n"
          ],
          "name": "stdout"
        },
        {
          "output_type": "stream",
          "text": [
            "2021-04-27 23:55:36,776 Previous dataset split restored\n"
          ],
          "name": "stderr"
        },
        {
          "output_type": "stream",
          "text": [
            "TIMING: dataset construction took 0.351 s\n",
            "Loading dataset from disk.\n"
          ],
          "name": "stdout"
        },
        {
          "output_type": "stream",
          "text": [
            "/usr/local/lib/python3.7/site-packages/atomsci/ddm/pipeline/transformations.py:225: RuntimeWarning: invalid value encountered in true_divide\n",
            "  X = np.nan_to_num((X - self.X_means) * X_weight / self.X_stds)\n"
          ],
          "name": "stderr"
        },
        {
          "output_type": "stream",
          "text": [
            "TIMING: dataset construction took 0.321 s\n",
            "Loading dataset from disk.\n",
            "TIMING: dataset construction took 0.050 s\n",
            "Loading dataset from disk.\n",
            "TIMING: dataset construction took 0.045 s\n",
            "Loading dataset from disk.\n",
            "TIMING: dataset construction took 0.047 s\n",
            "Loading dataset from disk.\n",
            "TIMING: dataset construction took 0.047 s\n",
            "Loading dataset from disk.\n",
            "[23:57:03] WARNING: /workspace/src/objective/regression_obj.cu:152: reg:linear is now deprecated in favor of reg:squarederror.\n",
            "[23:57:10] WARNING: /workspace/src/objective/regression_obj.cu:152: reg:linear is now deprecated in favor of reg:squarederror.\n"
          ],
          "name": "stdout"
        },
        {
          "output_type": "stream",
          "text": [
            "2021-04-27 23:57:19,681 Wrote model metadata to file /content/drive/MyDrive/Columbia_E4511/resample_CYP2D6_models/resample_delaney_cur_final/xgboost_computed_descriptors_scaffold_regression/89730c65-06ce-463e-8836-3e7a1c3b89dd/model_metadata.json\n",
            "2021-04-27 23:57:19,708 Wrote model metrics to file /content/drive/MyDrive/Columbia_E4511/resample_CYP2D6_models/resample_delaney_cur_final/xgboost_computed_descriptors_scaffold_regression/89730c65-06ce-463e-8836-3e7a1c3b89dd/model_metrics.json\n"
          ],
          "name": "stderr"
        },
        {
          "output_type": "stream",
          "text": [
            "Wrote model tarball to /content/drive/MyDrive/Columbia_E4511/resample_CYP2D6_models/resample_delaney_cur_final_model_89730c65-06ce-463e-8836-3e7a1c3b89dd.tar.gz\n",
            "xgb gamma: 0.1, xgb learning rate: 0.05, valid_r2: 0.20547437959328596\n",
            "\n"
          ],
          "name": "stdout"
        },
        {
          "output_type": "stream",
          "text": [
            "2021-04-27 23:57:22,044 Previous dataset split restored\n"
          ],
          "name": "stderr"
        },
        {
          "output_type": "stream",
          "text": [
            "TIMING: dataset construction took 0.358 s\n",
            "Loading dataset from disk.\n"
          ],
          "name": "stdout"
        },
        {
          "output_type": "stream",
          "text": [
            "/usr/local/lib/python3.7/site-packages/atomsci/ddm/pipeline/transformations.py:225: RuntimeWarning: invalid value encountered in true_divide\n",
            "  X = np.nan_to_num((X - self.X_means) * X_weight / self.X_stds)\n"
          ],
          "name": "stderr"
        },
        {
          "output_type": "stream",
          "text": [
            "TIMING: dataset construction took 0.327 s\n",
            "Loading dataset from disk.\n",
            "TIMING: dataset construction took 0.051 s\n",
            "Loading dataset from disk.\n",
            "TIMING: dataset construction took 0.045 s\n",
            "Loading dataset from disk.\n",
            "TIMING: dataset construction took 0.052 s\n",
            "Loading dataset from disk.\n",
            "TIMING: dataset construction took 0.048 s\n",
            "Loading dataset from disk.\n",
            "[23:58:48] WARNING: /workspace/src/objective/regression_obj.cu:152: reg:linear is now deprecated in favor of reg:squarederror.\n",
            "[23:58:54] WARNING: /workspace/src/objective/regression_obj.cu:152: reg:linear is now deprecated in favor of reg:squarederror.\n"
          ],
          "name": "stdout"
        },
        {
          "output_type": "stream",
          "text": [
            "2021-04-27 23:59:03,641 Wrote model metadata to file /content/drive/MyDrive/Columbia_E4511/resample_CYP2D6_models/resample_delaney_cur_final/xgboost_computed_descriptors_scaffold_regression/d80352f8-34fa-44f1-8327-596ed847ef09/model_metadata.json\n",
            "2021-04-27 23:59:03,668 Wrote model metrics to file /content/drive/MyDrive/Columbia_E4511/resample_CYP2D6_models/resample_delaney_cur_final/xgboost_computed_descriptors_scaffold_regression/d80352f8-34fa-44f1-8327-596ed847ef09/model_metrics.json\n"
          ],
          "name": "stderr"
        },
        {
          "output_type": "stream",
          "text": [
            "Wrote model tarball to /content/drive/MyDrive/Columbia_E4511/resample_CYP2D6_models/resample_delaney_cur_final_model_d80352f8-34fa-44f1-8327-596ed847ef09.tar.gz\n",
            "xgb gamma: 0.1, xgb learning rate: 0.01, valid_r2: 0.034911676967699035\n",
            "\n"
          ],
          "name": "stdout"
        },
        {
          "output_type": "stream",
          "text": [
            "2021-04-27 23:59:05,989 Previous dataset split restored\n"
          ],
          "name": "stderr"
        },
        {
          "output_type": "stream",
          "text": [
            "TIMING: dataset construction took 0.358 s\n",
            "Loading dataset from disk.\n"
          ],
          "name": "stdout"
        },
        {
          "output_type": "stream",
          "text": [
            "/usr/local/lib/python3.7/site-packages/atomsci/ddm/pipeline/transformations.py:225: RuntimeWarning: invalid value encountered in true_divide\n",
            "  X = np.nan_to_num((X - self.X_means) * X_weight / self.X_stds)\n"
          ],
          "name": "stderr"
        },
        {
          "output_type": "stream",
          "text": [
            "TIMING: dataset construction took 0.325 s\n",
            "Loading dataset from disk.\n",
            "TIMING: dataset construction took 0.051 s\n",
            "Loading dataset from disk.\n",
            "TIMING: dataset construction took 0.043 s\n",
            "Loading dataset from disk.\n",
            "TIMING: dataset construction took 0.049 s\n",
            "Loading dataset from disk.\n",
            "TIMING: dataset construction took 0.045 s\n",
            "Loading dataset from disk.\n",
            "[00:00:32] WARNING: /workspace/src/objective/regression_obj.cu:152: reg:linear is now deprecated in favor of reg:squarederror.\n",
            "[00:00:39] WARNING: /workspace/src/objective/regression_obj.cu:152: reg:linear is now deprecated in favor of reg:squarederror.\n"
          ],
          "name": "stdout"
        },
        {
          "output_type": "stream",
          "text": [
            "2021-04-28 00:00:48,198 Wrote model metadata to file /content/drive/MyDrive/Columbia_E4511/resample_CYP2D6_models/resample_delaney_cur_final/xgboost_computed_descriptors_scaffold_regression/0b69bcd7-9b8b-4880-a5f2-72a730c6bc61/model_metadata.json\n",
            "2021-04-28 00:00:48,228 Wrote model metrics to file /content/drive/MyDrive/Columbia_E4511/resample_CYP2D6_models/resample_delaney_cur_final/xgboost_computed_descriptors_scaffold_regression/0b69bcd7-9b8b-4880-a5f2-72a730c6bc61/model_metrics.json\n"
          ],
          "name": "stderr"
        },
        {
          "output_type": "stream",
          "text": [
            "Wrote model tarball to /content/drive/MyDrive/Columbia_E4511/resample_CYP2D6_models/resample_delaney_cur_final_model_0b69bcd7-9b8b-4880-a5f2-72a730c6bc61.tar.gz\n",
            "xgb gamma: 0.1, xgb learning rate: 0.001, valid_r2: -0.447152554983437\n",
            "\n"
          ],
          "name": "stdout"
        },
        {
          "output_type": "stream",
          "text": [
            "2021-04-28 00:00:50,723 Previous dataset split restored\n"
          ],
          "name": "stderr"
        },
        {
          "output_type": "stream",
          "text": [
            "TIMING: dataset construction took 0.370 s\n",
            "Loading dataset from disk.\n"
          ],
          "name": "stdout"
        },
        {
          "output_type": "stream",
          "text": [
            "/usr/local/lib/python3.7/site-packages/atomsci/ddm/pipeline/transformations.py:225: RuntimeWarning: invalid value encountered in true_divide\n",
            "  X = np.nan_to_num((X - self.X_means) * X_weight / self.X_stds)\n"
          ],
          "name": "stderr"
        },
        {
          "output_type": "stream",
          "text": [
            "TIMING: dataset construction took 0.334 s\n",
            "Loading dataset from disk.\n",
            "TIMING: dataset construction took 0.049 s\n",
            "Loading dataset from disk.\n",
            "TIMING: dataset construction took 0.045 s\n",
            "Loading dataset from disk.\n",
            "TIMING: dataset construction took 0.052 s\n",
            "Loading dataset from disk.\n",
            "TIMING: dataset construction took 0.047 s\n",
            "Loading dataset from disk.\n",
            "[00:02:17] WARNING: /workspace/src/objective/regression_obj.cu:152: reg:linear is now deprecated in favor of reg:squarederror.\n",
            "[00:02:23] WARNING: /workspace/src/objective/regression_obj.cu:152: reg:linear is now deprecated in favor of reg:squarederror.\n"
          ],
          "name": "stdout"
        },
        {
          "output_type": "stream",
          "text": [
            "2021-04-28 00:02:32,822 Wrote model metadata to file /content/drive/MyDrive/Columbia_E4511/resample_CYP2D6_models/resample_delaney_cur_final/xgboost_computed_descriptors_scaffold_regression/1370869b-afbe-4524-a23d-d7ef7ca53b69/model_metadata.json\n",
            "2021-04-28 00:02:32,850 Wrote model metrics to file /content/drive/MyDrive/Columbia_E4511/resample_CYP2D6_models/resample_delaney_cur_final/xgboost_computed_descriptors_scaffold_regression/1370869b-afbe-4524-a23d-d7ef7ca53b69/model_metrics.json\n"
          ],
          "name": "stderr"
        },
        {
          "output_type": "stream",
          "text": [
            "Wrote model tarball to /content/drive/MyDrive/Columbia_E4511/resample_CYP2D6_models/resample_delaney_cur_final_model_1370869b-afbe-4524-a23d-d7ef7ca53b69.tar.gz\n",
            "xgb gamma: 0.1, xgb learning rate: 0.0001, valid_r2: -0.5465105377189561\n",
            "\n"
          ],
          "name": "stdout"
        },
        {
          "output_type": "stream",
          "text": [
            "2021-04-28 00:02:35,182 Previous dataset split restored\n"
          ],
          "name": "stderr"
        },
        {
          "output_type": "stream",
          "text": [
            "TIMING: dataset construction took 0.355 s\n",
            "Loading dataset from disk.\n"
          ],
          "name": "stdout"
        },
        {
          "output_type": "stream",
          "text": [
            "/usr/local/lib/python3.7/site-packages/atomsci/ddm/pipeline/transformations.py:225: RuntimeWarning: invalid value encountered in true_divide\n",
            "  X = np.nan_to_num((X - self.X_means) * X_weight / self.X_stds)\n"
          ],
          "name": "stderr"
        },
        {
          "output_type": "stream",
          "text": [
            "TIMING: dataset construction took 0.323 s\n",
            "Loading dataset from disk.\n",
            "TIMING: dataset construction took 0.050 s\n",
            "Loading dataset from disk.\n",
            "TIMING: dataset construction took 0.044 s\n",
            "Loading dataset from disk.\n",
            "TIMING: dataset construction took 0.049 s\n",
            "Loading dataset from disk.\n",
            "TIMING: dataset construction took 0.046 s\n",
            "Loading dataset from disk.\n",
            "[00:04:01] WARNING: /workspace/src/objective/regression_obj.cu:152: reg:linear is now deprecated in favor of reg:squarederror.\n",
            "[00:04:06] WARNING: /workspace/src/objective/regression_obj.cu:152: reg:linear is now deprecated in favor of reg:squarederror.\n"
          ],
          "name": "stdout"
        },
        {
          "output_type": "stream",
          "text": [
            "2021-04-28 00:04:14,957 Wrote model metadata to file /content/drive/MyDrive/Columbia_E4511/resample_CYP2D6_models/resample_delaney_cur_final/xgboost_computed_descriptors_scaffold_regression/10f40e2b-57ab-44c8-a6b2-cb7d09b3b1e7/model_metadata.json\n",
            "2021-04-28 00:04:14,982 Wrote model metrics to file /content/drive/MyDrive/Columbia_E4511/resample_CYP2D6_models/resample_delaney_cur_final/xgboost_computed_descriptors_scaffold_regression/10f40e2b-57ab-44c8-a6b2-cb7d09b3b1e7/model_metrics.json\n"
          ],
          "name": "stderr"
        },
        {
          "output_type": "stream",
          "text": [
            "Wrote model tarball to /content/drive/MyDrive/Columbia_E4511/resample_CYP2D6_models/resample_delaney_cur_final_model_10f40e2b-57ab-44c8-a6b2-cb7d09b3b1e7.tar.gz\n",
            "xgb gamma: 0.2, xgb learning rate: 0.25, valid_r2: 0.1627468896770068\n",
            "\n"
          ],
          "name": "stdout"
        },
        {
          "output_type": "stream",
          "text": [
            "2021-04-28 00:04:17,324 Previous dataset split restored\n"
          ],
          "name": "stderr"
        },
        {
          "output_type": "stream",
          "text": [
            "TIMING: dataset construction took 0.345 s\n",
            "Loading dataset from disk.\n"
          ],
          "name": "stdout"
        },
        {
          "output_type": "stream",
          "text": [
            "/usr/local/lib/python3.7/site-packages/atomsci/ddm/pipeline/transformations.py:225: RuntimeWarning: invalid value encountered in true_divide\n",
            "  X = np.nan_to_num((X - self.X_means) * X_weight / self.X_stds)\n"
          ],
          "name": "stderr"
        },
        {
          "output_type": "stream",
          "text": [
            "TIMING: dataset construction took 0.324 s\n",
            "Loading dataset from disk.\n",
            "TIMING: dataset construction took 0.049 s\n",
            "Loading dataset from disk.\n",
            "TIMING: dataset construction took 0.044 s\n",
            "Loading dataset from disk.\n",
            "TIMING: dataset construction took 0.046 s\n",
            "Loading dataset from disk.\n",
            "TIMING: dataset construction took 0.049 s\n",
            "Loading dataset from disk.\n",
            "[00:05:43] WARNING: /workspace/src/objective/regression_obj.cu:152: reg:linear is now deprecated in favor of reg:squarederror.\n",
            "[00:05:48] WARNING: /workspace/src/objective/regression_obj.cu:152: reg:linear is now deprecated in favor of reg:squarederror.\n"
          ],
          "name": "stdout"
        },
        {
          "output_type": "stream",
          "text": [
            "2021-04-28 00:05:53,055 Wrote model metadata to file /content/drive/MyDrive/Columbia_E4511/resample_CYP2D6_models/resample_delaney_cur_final/xgboost_computed_descriptors_scaffold_regression/b813fe88-d8e6-403f-a1b8-e2b97594dee4/model_metadata.json\n",
            "2021-04-28 00:05:53,077 Wrote model metrics to file /content/drive/MyDrive/Columbia_E4511/resample_CYP2D6_models/resample_delaney_cur_final/xgboost_computed_descriptors_scaffold_regression/b813fe88-d8e6-403f-a1b8-e2b97594dee4/model_metrics.json\n"
          ],
          "name": "stderr"
        },
        {
          "output_type": "stream",
          "text": [
            "Wrote model tarball to /content/drive/MyDrive/Columbia_E4511/resample_CYP2D6_models/resample_delaney_cur_final_model_b813fe88-d8e6-403f-a1b8-e2b97594dee4.tar.gz\n",
            "xgb gamma: 0.2, xgb learning rate: 0.2, valid_r2: 0.1444418478811338\n",
            "\n"
          ],
          "name": "stdout"
        },
        {
          "output_type": "stream",
          "text": [
            "2021-04-28 00:05:55,416 Previous dataset split restored\n"
          ],
          "name": "stderr"
        },
        {
          "output_type": "stream",
          "text": [
            "TIMING: dataset construction took 0.348 s\n",
            "Loading dataset from disk.\n"
          ],
          "name": "stdout"
        },
        {
          "output_type": "stream",
          "text": [
            "/usr/local/lib/python3.7/site-packages/atomsci/ddm/pipeline/transformations.py:225: RuntimeWarning: invalid value encountered in true_divide\n",
            "  X = np.nan_to_num((X - self.X_means) * X_weight / self.X_stds)\n"
          ],
          "name": "stderr"
        },
        {
          "output_type": "stream",
          "text": [
            "TIMING: dataset construction took 0.322 s\n",
            "Loading dataset from disk.\n",
            "TIMING: dataset construction took 0.049 s\n",
            "Loading dataset from disk.\n",
            "TIMING: dataset construction took 0.044 s\n",
            "Loading dataset from disk.\n",
            "TIMING: dataset construction took 0.048 s\n",
            "Loading dataset from disk.\n",
            "TIMING: dataset construction took 0.047 s\n",
            "Loading dataset from disk.\n",
            "[00:07:21] WARNING: /workspace/src/objective/regression_obj.cu:152: reg:linear is now deprecated in favor of reg:squarederror.\n",
            "[00:07:26] WARNING: /workspace/src/objective/regression_obj.cu:152: reg:linear is now deprecated in favor of reg:squarederror.\n"
          ],
          "name": "stdout"
        },
        {
          "output_type": "stream",
          "text": [
            "2021-04-28 00:07:33,353 Wrote model metadata to file /content/drive/MyDrive/Columbia_E4511/resample_CYP2D6_models/resample_delaney_cur_final/xgboost_computed_descriptors_scaffold_regression/30c6680d-adab-4b79-bb1d-b0d756bd5f01/model_metadata.json\n",
            "2021-04-28 00:07:33,396 Wrote model metrics to file /content/drive/MyDrive/Columbia_E4511/resample_CYP2D6_models/resample_delaney_cur_final/xgboost_computed_descriptors_scaffold_regression/30c6680d-adab-4b79-bb1d-b0d756bd5f01/model_metrics.json\n"
          ],
          "name": "stderr"
        },
        {
          "output_type": "stream",
          "text": [
            "Wrote model tarball to /content/drive/MyDrive/Columbia_E4511/resample_CYP2D6_models/resample_delaney_cur_final_model_30c6680d-adab-4b79-bb1d-b0d756bd5f01.tar.gz\n",
            "xgb gamma: 0.2, xgb learning rate: 0.15, valid_r2: 0.08046739275138437\n",
            "\n"
          ],
          "name": "stdout"
        },
        {
          "output_type": "stream",
          "text": [
            "2021-04-28 00:07:35,862 Previous dataset split restored\n"
          ],
          "name": "stderr"
        },
        {
          "output_type": "stream",
          "text": [
            "TIMING: dataset construction took 0.347 s\n",
            "Loading dataset from disk.\n"
          ],
          "name": "stdout"
        },
        {
          "output_type": "stream",
          "text": [
            "/usr/local/lib/python3.7/site-packages/atomsci/ddm/pipeline/transformations.py:225: RuntimeWarning: invalid value encountered in true_divide\n",
            "  X = np.nan_to_num((X - self.X_means) * X_weight / self.X_stds)\n"
          ],
          "name": "stderr"
        },
        {
          "output_type": "stream",
          "text": [
            "TIMING: dataset construction took 0.326 s\n",
            "Loading dataset from disk.\n",
            "TIMING: dataset construction took 0.047 s\n",
            "Loading dataset from disk.\n",
            "TIMING: dataset construction took 0.044 s\n",
            "Loading dataset from disk.\n",
            "TIMING: dataset construction took 0.048 s\n",
            "Loading dataset from disk.\n",
            "TIMING: dataset construction took 0.044 s\n",
            "Loading dataset from disk.\n",
            "[00:09:01] WARNING: /workspace/src/objective/regression_obj.cu:152: reg:linear is now deprecated in favor of reg:squarederror.\n",
            "[00:09:07] WARNING: /workspace/src/objective/regression_obj.cu:152: reg:linear is now deprecated in favor of reg:squarederror.\n"
          ],
          "name": "stdout"
        },
        {
          "output_type": "stream",
          "text": [
            "2021-04-28 00:09:13,902 Wrote model metadata to file /content/drive/MyDrive/Columbia_E4511/resample_CYP2D6_models/resample_delaney_cur_final/xgboost_computed_descriptors_scaffold_regression/238e1137-f2e4-4260-9503-f041778f8d47/model_metadata.json\n",
            "2021-04-28 00:09:13,928 Wrote model metrics to file /content/drive/MyDrive/Columbia_E4511/resample_CYP2D6_models/resample_delaney_cur_final/xgboost_computed_descriptors_scaffold_regression/238e1137-f2e4-4260-9503-f041778f8d47/model_metrics.json\n"
          ],
          "name": "stderr"
        },
        {
          "output_type": "stream",
          "text": [
            "Wrote model tarball to /content/drive/MyDrive/Columbia_E4511/resample_CYP2D6_models/resample_delaney_cur_final_model_238e1137-f2e4-4260-9503-f041778f8d47.tar.gz\n",
            "xgb gamma: 0.2, xgb learning rate: 0.1, valid_r2: 0.25721801749268614\n",
            "\n"
          ],
          "name": "stdout"
        },
        {
          "output_type": "stream",
          "text": [
            "2021-04-28 00:09:16,244 Previous dataset split restored\n"
          ],
          "name": "stderr"
        },
        {
          "output_type": "stream",
          "text": [
            "TIMING: dataset construction took 0.359 s\n",
            "Loading dataset from disk.\n"
          ],
          "name": "stdout"
        },
        {
          "output_type": "stream",
          "text": [
            "/usr/local/lib/python3.7/site-packages/atomsci/ddm/pipeline/transformations.py:225: RuntimeWarning: invalid value encountered in true_divide\n",
            "  X = np.nan_to_num((X - self.X_means) * X_weight / self.X_stds)\n"
          ],
          "name": "stderr"
        },
        {
          "output_type": "stream",
          "text": [
            "TIMING: dataset construction took 0.333 s\n",
            "Loading dataset from disk.\n",
            "TIMING: dataset construction took 0.050 s\n",
            "Loading dataset from disk.\n",
            "TIMING: dataset construction took 0.044 s\n",
            "Loading dataset from disk.\n",
            "TIMING: dataset construction took 0.050 s\n",
            "Loading dataset from disk.\n",
            "TIMING: dataset construction took 0.047 s\n",
            "Loading dataset from disk.\n",
            "[00:10:41] WARNING: /workspace/src/objective/regression_obj.cu:152: reg:linear is now deprecated in favor of reg:squarederror.\n",
            "[00:10:46] WARNING: /workspace/src/objective/regression_obj.cu:152: reg:linear is now deprecated in favor of reg:squarederror.\n"
          ],
          "name": "stdout"
        },
        {
          "output_type": "stream",
          "text": [
            "2021-04-28 00:10:54,838 Wrote model metadata to file /content/drive/MyDrive/Columbia_E4511/resample_CYP2D6_models/resample_delaney_cur_final/xgboost_computed_descriptors_scaffold_regression/9890cef8-4f10-46e2-aafc-e1f5dee593c0/model_metadata.json\n",
            "2021-04-28 00:10:54,865 Wrote model metrics to file /content/drive/MyDrive/Columbia_E4511/resample_CYP2D6_models/resample_delaney_cur_final/xgboost_computed_descriptors_scaffold_regression/9890cef8-4f10-46e2-aafc-e1f5dee593c0/model_metrics.json\n"
          ],
          "name": "stderr"
        },
        {
          "output_type": "stream",
          "text": [
            "Wrote model tarball to /content/drive/MyDrive/Columbia_E4511/resample_CYP2D6_models/resample_delaney_cur_final_model_9890cef8-4f10-46e2-aafc-e1f5dee593c0.tar.gz\n",
            "xgb gamma: 0.2, xgb learning rate: 0.05, valid_r2: 0.22153087756987133\n",
            "\n"
          ],
          "name": "stdout"
        },
        {
          "output_type": "stream",
          "text": [
            "2021-04-28 00:10:57,187 Previous dataset split restored\n"
          ],
          "name": "stderr"
        },
        {
          "output_type": "stream",
          "text": [
            "TIMING: dataset construction took 0.346 s\n",
            "Loading dataset from disk.\n"
          ],
          "name": "stdout"
        },
        {
          "output_type": "stream",
          "text": [
            "/usr/local/lib/python3.7/site-packages/atomsci/ddm/pipeline/transformations.py:225: RuntimeWarning: invalid value encountered in true_divide\n",
            "  X = np.nan_to_num((X - self.X_means) * X_weight / self.X_stds)\n"
          ],
          "name": "stderr"
        },
        {
          "output_type": "stream",
          "text": [
            "TIMING: dataset construction took 0.323 s\n",
            "Loading dataset from disk.\n",
            "TIMING: dataset construction took 0.051 s\n",
            "Loading dataset from disk.\n",
            "TIMING: dataset construction took 0.043 s\n",
            "Loading dataset from disk.\n",
            "TIMING: dataset construction took 0.049 s\n",
            "Loading dataset from disk.\n",
            "TIMING: dataset construction took 0.047 s\n",
            "Loading dataset from disk.\n",
            "[00:12:22] WARNING: /workspace/src/objective/regression_obj.cu:152: reg:linear is now deprecated in favor of reg:squarederror.\n",
            "[00:12:27] WARNING: /workspace/src/objective/regression_obj.cu:152: reg:linear is now deprecated in favor of reg:squarederror.\n"
          ],
          "name": "stdout"
        },
        {
          "output_type": "stream",
          "text": [
            "2021-04-28 00:12:35,356 Wrote model metadata to file /content/drive/MyDrive/Columbia_E4511/resample_CYP2D6_models/resample_delaney_cur_final/xgboost_computed_descriptors_scaffold_regression/f908fe32-1f71-43eb-a41e-88488f15f728/model_metadata.json\n",
            "2021-04-28 00:12:35,386 Wrote model metrics to file /content/drive/MyDrive/Columbia_E4511/resample_CYP2D6_models/resample_delaney_cur_final/xgboost_computed_descriptors_scaffold_regression/f908fe32-1f71-43eb-a41e-88488f15f728/model_metrics.json\n"
          ],
          "name": "stderr"
        },
        {
          "output_type": "stream",
          "text": [
            "Wrote model tarball to /content/drive/MyDrive/Columbia_E4511/resample_CYP2D6_models/resample_delaney_cur_final_model_f908fe32-1f71-43eb-a41e-88488f15f728.tar.gz\n",
            "xgb gamma: 0.2, xgb learning rate: 0.01, valid_r2: 0.06845059301729439\n",
            "\n"
          ],
          "name": "stdout"
        },
        {
          "output_type": "stream",
          "text": [
            "2021-04-28 00:12:37,730 Previous dataset split restored\n"
          ],
          "name": "stderr"
        },
        {
          "output_type": "stream",
          "text": [
            "TIMING: dataset construction took 0.354 s\n",
            "Loading dataset from disk.\n"
          ],
          "name": "stdout"
        },
        {
          "output_type": "stream",
          "text": [
            "/usr/local/lib/python3.7/site-packages/atomsci/ddm/pipeline/transformations.py:225: RuntimeWarning: invalid value encountered in true_divide\n",
            "  X = np.nan_to_num((X - self.X_means) * X_weight / self.X_stds)\n"
          ],
          "name": "stderr"
        },
        {
          "output_type": "stream",
          "text": [
            "TIMING: dataset construction took 0.320 s\n",
            "Loading dataset from disk.\n",
            "TIMING: dataset construction took 0.049 s\n",
            "Loading dataset from disk.\n",
            "TIMING: dataset construction took 0.044 s\n",
            "Loading dataset from disk.\n",
            "TIMING: dataset construction took 0.049 s\n",
            "Loading dataset from disk.\n",
            "TIMING: dataset construction took 0.046 s\n",
            "Loading dataset from disk.\n",
            "[00:14:03] WARNING: /workspace/src/objective/regression_obj.cu:152: reg:linear is now deprecated in favor of reg:squarederror.\n",
            "[00:14:08] WARNING: /workspace/src/objective/regression_obj.cu:152: reg:linear is now deprecated in favor of reg:squarederror.\n"
          ],
          "name": "stdout"
        },
        {
          "output_type": "stream",
          "text": [
            "2021-04-28 00:14:15,580 Wrote model metadata to file /content/drive/MyDrive/Columbia_E4511/resample_CYP2D6_models/resample_delaney_cur_final/xgboost_computed_descriptors_scaffold_regression/02084216-7638-4605-ba2c-d927c0eaff40/model_metadata.json\n",
            "2021-04-28 00:14:15,605 Wrote model metrics to file /content/drive/MyDrive/Columbia_E4511/resample_CYP2D6_models/resample_delaney_cur_final/xgboost_computed_descriptors_scaffold_regression/02084216-7638-4605-ba2c-d927c0eaff40/model_metrics.json\n"
          ],
          "name": "stderr"
        },
        {
          "output_type": "stream",
          "text": [
            "Wrote model tarball to /content/drive/MyDrive/Columbia_E4511/resample_CYP2D6_models/resample_delaney_cur_final_model_02084216-7638-4605-ba2c-d927c0eaff40.tar.gz\n",
            "xgb gamma: 0.2, xgb learning rate: 0.001, valid_r2: -0.4488502355627104\n",
            "\n"
          ],
          "name": "stdout"
        },
        {
          "output_type": "stream",
          "text": [
            "2021-04-28 00:14:18,094 Previous dataset split restored\n"
          ],
          "name": "stderr"
        },
        {
          "output_type": "stream",
          "text": [
            "TIMING: dataset construction took 0.355 s\n",
            "Loading dataset from disk.\n"
          ],
          "name": "stdout"
        },
        {
          "output_type": "stream",
          "text": [
            "/usr/local/lib/python3.7/site-packages/atomsci/ddm/pipeline/transformations.py:225: RuntimeWarning: invalid value encountered in true_divide\n",
            "  X = np.nan_to_num((X - self.X_means) * X_weight / self.X_stds)\n"
          ],
          "name": "stderr"
        },
        {
          "output_type": "stream",
          "text": [
            "TIMING: dataset construction took 0.321 s\n",
            "Loading dataset from disk.\n",
            "TIMING: dataset construction took 0.051 s\n",
            "Loading dataset from disk.\n",
            "TIMING: dataset construction took 0.045 s\n",
            "Loading dataset from disk.\n",
            "TIMING: dataset construction took 0.050 s\n",
            "Loading dataset from disk.\n",
            "TIMING: dataset construction took 0.049 s\n",
            "Loading dataset from disk.\n",
            "[00:15:44] WARNING: /workspace/src/objective/regression_obj.cu:152: reg:linear is now deprecated in favor of reg:squarederror.\n",
            "[00:15:49] WARNING: /workspace/src/objective/regression_obj.cu:152: reg:linear is now deprecated in favor of reg:squarederror.\n"
          ],
          "name": "stdout"
        },
        {
          "output_type": "stream",
          "text": [
            "2021-04-28 00:15:57,239 Wrote model metadata to file /content/drive/MyDrive/Columbia_E4511/resample_CYP2D6_models/resample_delaney_cur_final/xgboost_computed_descriptors_scaffold_regression/e613c72f-2beb-42d9-a0f2-a63b649a9dd1/model_metadata.json\n",
            "2021-04-28 00:15:57,267 Wrote model metrics to file /content/drive/MyDrive/Columbia_E4511/resample_CYP2D6_models/resample_delaney_cur_final/xgboost_computed_descriptors_scaffold_regression/e613c72f-2beb-42d9-a0f2-a63b649a9dd1/model_metrics.json\n"
          ],
          "name": "stderr"
        },
        {
          "output_type": "stream",
          "text": [
            "Wrote model tarball to /content/drive/MyDrive/Columbia_E4511/resample_CYP2D6_models/resample_delaney_cur_final_model_e613c72f-2beb-42d9-a0f2-a63b649a9dd1.tar.gz\n",
            "xgb gamma: 0.2, xgb learning rate: 0.0001, valid_r2: -0.5468197198507079\n",
            "\n"
          ],
          "name": "stdout"
        },
        {
          "output_type": "stream",
          "text": [
            "2021-04-28 00:15:59,667 Previous dataset split restored\n"
          ],
          "name": "stderr"
        },
        {
          "output_type": "stream",
          "text": [
            "TIMING: dataset construction took 0.366 s\n",
            "Loading dataset from disk.\n"
          ],
          "name": "stdout"
        },
        {
          "output_type": "stream",
          "text": [
            "/usr/local/lib/python3.7/site-packages/atomsci/ddm/pipeline/transformations.py:225: RuntimeWarning: invalid value encountered in true_divide\n",
            "  X = np.nan_to_num((X - self.X_means) * X_weight / self.X_stds)\n"
          ],
          "name": "stderr"
        },
        {
          "output_type": "stream",
          "text": [
            "TIMING: dataset construction took 0.338 s\n",
            "Loading dataset from disk.\n",
            "TIMING: dataset construction took 0.050 s\n",
            "Loading dataset from disk.\n",
            "TIMING: dataset construction took 0.045 s\n",
            "Loading dataset from disk.\n",
            "TIMING: dataset construction took 0.052 s\n",
            "Loading dataset from disk.\n",
            "TIMING: dataset construction took 0.046 s\n",
            "Loading dataset from disk.\n",
            "[00:17:25] WARNING: /workspace/src/objective/regression_obj.cu:152: reg:linear is now deprecated in favor of reg:squarederror.\n",
            "[00:17:30] WARNING: /workspace/src/objective/regression_obj.cu:152: reg:linear is now deprecated in favor of reg:squarederror.\n"
          ],
          "name": "stdout"
        },
        {
          "output_type": "stream",
          "text": [
            "2021-04-28 00:17:33,404 Wrote model metadata to file /content/drive/MyDrive/Columbia_E4511/resample_CYP2D6_models/resample_delaney_cur_final/xgboost_computed_descriptors_scaffold_regression/f1ba6d57-bb1b-4328-b84f-7ddc1e55a576/model_metadata.json\n",
            "2021-04-28 00:17:33,428 Wrote model metrics to file /content/drive/MyDrive/Columbia_E4511/resample_CYP2D6_models/resample_delaney_cur_final/xgboost_computed_descriptors_scaffold_regression/f1ba6d57-bb1b-4328-b84f-7ddc1e55a576/model_metrics.json\n"
          ],
          "name": "stderr"
        },
        {
          "output_type": "stream",
          "text": [
            "Wrote model tarball to /content/drive/MyDrive/Columbia_E4511/resample_CYP2D6_models/resample_delaney_cur_final_model_f1ba6d57-bb1b-4328-b84f-7ddc1e55a576.tar.gz\n",
            "xgb gamma: 0.3, xgb learning rate: 0.25, valid_r2: 0.1874177713710854\n",
            "\n"
          ],
          "name": "stdout"
        },
        {
          "output_type": "stream",
          "text": [
            "2021-04-28 00:17:35,751 Previous dataset split restored\n"
          ],
          "name": "stderr"
        },
        {
          "output_type": "stream",
          "text": [
            "TIMING: dataset construction took 0.353 s\n",
            "Loading dataset from disk.\n"
          ],
          "name": "stdout"
        },
        {
          "output_type": "stream",
          "text": [
            "/usr/local/lib/python3.7/site-packages/atomsci/ddm/pipeline/transformations.py:225: RuntimeWarning: invalid value encountered in true_divide\n",
            "  X = np.nan_to_num((X - self.X_means) * X_weight / self.X_stds)\n"
          ],
          "name": "stderr"
        },
        {
          "output_type": "stream",
          "text": [
            "TIMING: dataset construction took 0.319 s\n",
            "Loading dataset from disk.\n",
            "TIMING: dataset construction took 0.050 s\n",
            "Loading dataset from disk.\n",
            "TIMING: dataset construction took 0.043 s\n",
            "Loading dataset from disk.\n",
            "TIMING: dataset construction took 0.050 s\n",
            "Loading dataset from disk.\n",
            "TIMING: dataset construction took 0.045 s\n",
            "Loading dataset from disk.\n",
            "[00:19:01] WARNING: /workspace/src/objective/regression_obj.cu:152: reg:linear is now deprecated in favor of reg:squarederror.\n",
            "[00:19:06] WARNING: /workspace/src/objective/regression_obj.cu:152: reg:linear is now deprecated in favor of reg:squarederror.\n"
          ],
          "name": "stdout"
        },
        {
          "output_type": "stream",
          "text": [
            "2021-04-28 00:19:08,776 Wrote model metadata to file /content/drive/MyDrive/Columbia_E4511/resample_CYP2D6_models/resample_delaney_cur_final/xgboost_computed_descriptors_scaffold_regression/0d84dbb1-570a-4468-9618-e8255b4befee/model_metadata.json\n",
            "2021-04-28 00:19:08,798 Wrote model metrics to file /content/drive/MyDrive/Columbia_E4511/resample_CYP2D6_models/resample_delaney_cur_final/xgboost_computed_descriptors_scaffold_regression/0d84dbb1-570a-4468-9618-e8255b4befee/model_metrics.json\n"
          ],
          "name": "stderr"
        },
        {
          "output_type": "stream",
          "text": [
            "Wrote model tarball to /content/drive/MyDrive/Columbia_E4511/resample_CYP2D6_models/resample_delaney_cur_final_model_0d84dbb1-570a-4468-9618-e8255b4befee.tar.gz\n",
            "xgb gamma: 0.3, xgb learning rate: 0.2, valid_r2: 0.19965913229122512\n",
            "\n"
          ],
          "name": "stdout"
        },
        {
          "output_type": "stream",
          "text": [
            "2021-04-28 00:19:11,123 Previous dataset split restored\n"
          ],
          "name": "stderr"
        },
        {
          "output_type": "stream",
          "text": [
            "TIMING: dataset construction took 0.353 s\n",
            "Loading dataset from disk.\n"
          ],
          "name": "stdout"
        },
        {
          "output_type": "stream",
          "text": [
            "/usr/local/lib/python3.7/site-packages/atomsci/ddm/pipeline/transformations.py:225: RuntimeWarning: invalid value encountered in true_divide\n",
            "  X = np.nan_to_num((X - self.X_means) * X_weight / self.X_stds)\n"
          ],
          "name": "stderr"
        },
        {
          "output_type": "stream",
          "text": [
            "TIMING: dataset construction took 0.332 s\n",
            "Loading dataset from disk.\n",
            "TIMING: dataset construction took 0.052 s\n",
            "Loading dataset from disk.\n",
            "TIMING: dataset construction took 0.047 s\n",
            "Loading dataset from disk.\n",
            "TIMING: dataset construction took 0.051 s\n",
            "Loading dataset from disk.\n",
            "TIMING: dataset construction took 0.046 s\n",
            "Loading dataset from disk.\n",
            "[00:20:37] WARNING: /workspace/src/objective/regression_obj.cu:152: reg:linear is now deprecated in favor of reg:squarederror.\n",
            "[00:20:42] WARNING: /workspace/src/objective/regression_obj.cu:152: reg:linear is now deprecated in favor of reg:squarederror.\n"
          ],
          "name": "stdout"
        },
        {
          "output_type": "stream",
          "text": [
            "2021-04-28 00:20:46,261 Wrote model metadata to file /content/drive/MyDrive/Columbia_E4511/resample_CYP2D6_models/resample_delaney_cur_final/xgboost_computed_descriptors_scaffold_regression/895f3884-8fc9-46c5-a813-92731a717ad7/model_metadata.json\n",
            "2021-04-28 00:20:46,306 Wrote model metrics to file /content/drive/MyDrive/Columbia_E4511/resample_CYP2D6_models/resample_delaney_cur_final/xgboost_computed_descriptors_scaffold_regression/895f3884-8fc9-46c5-a813-92731a717ad7/model_metrics.json\n"
          ],
          "name": "stderr"
        },
        {
          "output_type": "stream",
          "text": [
            "Wrote model tarball to /content/drive/MyDrive/Columbia_E4511/resample_CYP2D6_models/resample_delaney_cur_final_model_895f3884-8fc9-46c5-a813-92731a717ad7.tar.gz\n",
            "xgb gamma: 0.3, xgb learning rate: 0.15, valid_r2: 0.26106131439035796\n",
            "\n"
          ],
          "name": "stdout"
        },
        {
          "output_type": "stream",
          "text": [
            "2021-04-28 00:20:48,616 Previous dataset split restored\n"
          ],
          "name": "stderr"
        },
        {
          "output_type": "stream",
          "text": [
            "TIMING: dataset construction took 0.355 s\n",
            "Loading dataset from disk.\n"
          ],
          "name": "stdout"
        },
        {
          "output_type": "stream",
          "text": [
            "/usr/local/lib/python3.7/site-packages/atomsci/ddm/pipeline/transformations.py:225: RuntimeWarning: invalid value encountered in true_divide\n",
            "  X = np.nan_to_num((X - self.X_means) * X_weight / self.X_stds)\n"
          ],
          "name": "stderr"
        },
        {
          "output_type": "stream",
          "text": [
            "TIMING: dataset construction took 0.327 s\n",
            "Loading dataset from disk.\n",
            "TIMING: dataset construction took 0.052 s\n",
            "Loading dataset from disk.\n",
            "TIMING: dataset construction took 0.046 s\n",
            "Loading dataset from disk.\n",
            "TIMING: dataset construction took 0.051 s\n",
            "Loading dataset from disk.\n",
            "TIMING: dataset construction took 0.049 s\n",
            "Loading dataset from disk.\n",
            "[00:22:14] WARNING: /workspace/src/objective/regression_obj.cu:152: reg:linear is now deprecated in favor of reg:squarederror.\n",
            "[00:22:21] WARNING: /workspace/src/objective/regression_obj.cu:152: reg:linear is now deprecated in favor of reg:squarederror.\n"
          ],
          "name": "stdout"
        },
        {
          "output_type": "stream",
          "text": [
            "2021-04-28 00:22:29,814 Wrote model metadata to file /content/drive/MyDrive/Columbia_E4511/resample_CYP2D6_models/resample_delaney_cur_final/xgboost_computed_descriptors_scaffold_regression/a92a1327-1643-48ad-846b-0f56d16528f8/model_metadata.json\n",
            "2021-04-28 00:22:29,844 Wrote model metrics to file /content/drive/MyDrive/Columbia_E4511/resample_CYP2D6_models/resample_delaney_cur_final/xgboost_computed_descriptors_scaffold_regression/a92a1327-1643-48ad-846b-0f56d16528f8/model_metrics.json\n"
          ],
          "name": "stderr"
        },
        {
          "output_type": "stream",
          "text": [
            "Wrote model tarball to /content/drive/MyDrive/Columbia_E4511/resample_CYP2D6_models/resample_delaney_cur_final_model_a92a1327-1643-48ad-846b-0f56d16528f8.tar.gz\n",
            "xgb gamma: 0.3, xgb learning rate: 0.1, valid_r2: 0.26698339338668775\n",
            "\n"
          ],
          "name": "stdout"
        },
        {
          "output_type": "stream",
          "text": [
            "2021-04-28 00:22:32,298 Previous dataset split restored\n"
          ],
          "name": "stderr"
        },
        {
          "output_type": "stream",
          "text": [
            "TIMING: dataset construction took 0.356 s\n",
            "Loading dataset from disk.\n"
          ],
          "name": "stdout"
        },
        {
          "output_type": "stream",
          "text": [
            "/usr/local/lib/python3.7/site-packages/atomsci/ddm/pipeline/transformations.py:225: RuntimeWarning: invalid value encountered in true_divide\n",
            "  X = np.nan_to_num((X - self.X_means) * X_weight / self.X_stds)\n"
          ],
          "name": "stderr"
        },
        {
          "output_type": "stream",
          "text": [
            "TIMING: dataset construction took 0.314 s\n",
            "Loading dataset from disk.\n",
            "TIMING: dataset construction took 0.051 s\n",
            "Loading dataset from disk.\n",
            "TIMING: dataset construction took 0.045 s\n",
            "Loading dataset from disk.\n",
            "TIMING: dataset construction took 0.047 s\n",
            "Loading dataset from disk.\n",
            "TIMING: dataset construction took 0.048 s\n",
            "Loading dataset from disk.\n",
            "[00:23:58] WARNING: /workspace/src/objective/regression_obj.cu:152: reg:linear is now deprecated in favor of reg:squarederror.\n",
            "[00:24:04] WARNING: /workspace/src/objective/regression_obj.cu:152: reg:linear is now deprecated in favor of reg:squarederror.\n"
          ],
          "name": "stdout"
        },
        {
          "output_type": "stream",
          "text": [
            "2021-04-28 00:24:13,406 Wrote model metadata to file /content/drive/MyDrive/Columbia_E4511/resample_CYP2D6_models/resample_delaney_cur_final/xgboost_computed_descriptors_scaffold_regression/e7a129a2-0e02-4973-87cf-b638c091fb9c/model_metadata.json\n",
            "2021-04-28 00:24:13,435 Wrote model metrics to file /content/drive/MyDrive/Columbia_E4511/resample_CYP2D6_models/resample_delaney_cur_final/xgboost_computed_descriptors_scaffold_regression/e7a129a2-0e02-4973-87cf-b638c091fb9c/model_metrics.json\n"
          ],
          "name": "stderr"
        },
        {
          "output_type": "stream",
          "text": [
            "Wrote model tarball to /content/drive/MyDrive/Columbia_E4511/resample_CYP2D6_models/resample_delaney_cur_final_model_e7a129a2-0e02-4973-87cf-b638c091fb9c.tar.gz\n",
            "xgb gamma: 0.3, xgb learning rate: 0.05, valid_r2: 0.2379299102260256\n",
            "\n"
          ],
          "name": "stdout"
        },
        {
          "output_type": "stream",
          "text": [
            "2021-04-28 00:24:15,793 Previous dataset split restored\n"
          ],
          "name": "stderr"
        },
        {
          "output_type": "stream",
          "text": [
            "TIMING: dataset construction took 0.362 s\n",
            "Loading dataset from disk.\n"
          ],
          "name": "stdout"
        },
        {
          "output_type": "stream",
          "text": [
            "/usr/local/lib/python3.7/site-packages/atomsci/ddm/pipeline/transformations.py:225: RuntimeWarning: invalid value encountered in true_divide\n",
            "  X = np.nan_to_num((X - self.X_means) * X_weight / self.X_stds)\n"
          ],
          "name": "stderr"
        },
        {
          "output_type": "stream",
          "text": [
            "TIMING: dataset construction took 0.325 s\n",
            "Loading dataset from disk.\n",
            "TIMING: dataset construction took 0.054 s\n",
            "Loading dataset from disk.\n",
            "TIMING: dataset construction took 0.045 s\n",
            "Loading dataset from disk.\n",
            "TIMING: dataset construction took 0.048 s\n",
            "Loading dataset from disk.\n",
            "TIMING: dataset construction took 0.046 s\n",
            "Loading dataset from disk.\n",
            "[00:25:41] WARNING: /workspace/src/objective/regression_obj.cu:152: reg:linear is now deprecated in favor of reg:squarederror.\n",
            "[00:25:47] WARNING: /workspace/src/objective/regression_obj.cu:152: reg:linear is now deprecated in favor of reg:squarederror.\n"
          ],
          "name": "stdout"
        },
        {
          "output_type": "stream",
          "text": [
            "2021-04-28 00:25:56,917 Wrote model metadata to file /content/drive/MyDrive/Columbia_E4511/resample_CYP2D6_models/resample_delaney_cur_final/xgboost_computed_descriptors_scaffold_regression/5c225a19-a5c0-42eb-9436-ccdcc0739ae6/model_metadata.json\n",
            "2021-04-28 00:25:56,949 Wrote model metrics to file /content/drive/MyDrive/Columbia_E4511/resample_CYP2D6_models/resample_delaney_cur_final/xgboost_computed_descriptors_scaffold_regression/5c225a19-a5c0-42eb-9436-ccdcc0739ae6/model_metrics.json\n"
          ],
          "name": "stderr"
        },
        {
          "output_type": "stream",
          "text": [
            "Wrote model tarball to /content/drive/MyDrive/Columbia_E4511/resample_CYP2D6_models/resample_delaney_cur_final_model_5c225a19-a5c0-42eb-9436-ccdcc0739ae6.tar.gz\n",
            "xgb gamma: 0.3, xgb learning rate: 0.01, valid_r2: 0.05443817434010745\n",
            "\n"
          ],
          "name": "stdout"
        },
        {
          "output_type": "stream",
          "text": [
            "2021-04-28 00:25:59,260 Previous dataset split restored\n"
          ],
          "name": "stderr"
        },
        {
          "output_type": "stream",
          "text": [
            "TIMING: dataset construction took 0.357 s\n",
            "Loading dataset from disk.\n"
          ],
          "name": "stdout"
        },
        {
          "output_type": "stream",
          "text": [
            "/usr/local/lib/python3.7/site-packages/atomsci/ddm/pipeline/transformations.py:225: RuntimeWarning: invalid value encountered in true_divide\n",
            "  X = np.nan_to_num((X - self.X_means) * X_weight / self.X_stds)\n"
          ],
          "name": "stderr"
        },
        {
          "output_type": "stream",
          "text": [
            "TIMING: dataset construction took 0.333 s\n",
            "Loading dataset from disk.\n",
            "TIMING: dataset construction took 0.052 s\n",
            "Loading dataset from disk.\n",
            "TIMING: dataset construction took 0.046 s\n",
            "Loading dataset from disk.\n",
            "TIMING: dataset construction took 0.051 s\n",
            "Loading dataset from disk.\n",
            "TIMING: dataset construction took 0.047 s\n",
            "Loading dataset from disk.\n",
            "[00:27:25] WARNING: /workspace/src/objective/regression_obj.cu:152: reg:linear is now deprecated in favor of reg:squarederror.\n",
            "[00:27:31] WARNING: /workspace/src/objective/regression_obj.cu:152: reg:linear is now deprecated in favor of reg:squarederror.\n"
          ],
          "name": "stdout"
        },
        {
          "output_type": "stream",
          "text": [
            "2021-04-28 00:27:40,019 Wrote model metadata to file /content/drive/MyDrive/Columbia_E4511/resample_CYP2D6_models/resample_delaney_cur_final/xgboost_computed_descriptors_scaffold_regression/4159fa74-cb03-44db-aedc-2dc2dfe029a3/model_metadata.json\n",
            "2021-04-28 00:27:40,049 Wrote model metrics to file /content/drive/MyDrive/Columbia_E4511/resample_CYP2D6_models/resample_delaney_cur_final/xgboost_computed_descriptors_scaffold_regression/4159fa74-cb03-44db-aedc-2dc2dfe029a3/model_metrics.json\n"
          ],
          "name": "stderr"
        },
        {
          "output_type": "stream",
          "text": [
            "Wrote model tarball to /content/drive/MyDrive/Columbia_E4511/resample_CYP2D6_models/resample_delaney_cur_final_model_4159fa74-cb03-44db-aedc-2dc2dfe029a3.tar.gz\n",
            "xgb gamma: 0.3, xgb learning rate: 0.001, valid_r2: -0.45122524785151663\n",
            "\n"
          ],
          "name": "stdout"
        },
        {
          "output_type": "stream",
          "text": [
            "2021-04-28 00:27:42,349 Previous dataset split restored\n"
          ],
          "name": "stderr"
        },
        {
          "output_type": "stream",
          "text": [
            "TIMING: dataset construction took 0.344 s\n",
            "Loading dataset from disk.\n"
          ],
          "name": "stdout"
        },
        {
          "output_type": "stream",
          "text": [
            "/usr/local/lib/python3.7/site-packages/atomsci/ddm/pipeline/transformations.py:225: RuntimeWarning: invalid value encountered in true_divide\n",
            "  X = np.nan_to_num((X - self.X_means) * X_weight / self.X_stds)\n"
          ],
          "name": "stderr"
        },
        {
          "output_type": "stream",
          "text": [
            "TIMING: dataset construction took 0.312 s\n",
            "Loading dataset from disk.\n",
            "TIMING: dataset construction took 0.048 s\n",
            "Loading dataset from disk.\n",
            "TIMING: dataset construction took 0.044 s\n",
            "Loading dataset from disk.\n",
            "TIMING: dataset construction took 0.049 s\n",
            "Loading dataset from disk.\n",
            "TIMING: dataset construction took 0.045 s\n",
            "Loading dataset from disk.\n",
            "[00:29:07] WARNING: /workspace/src/objective/regression_obj.cu:152: reg:linear is now deprecated in favor of reg:squarederror.\n",
            "[00:29:13] WARNING: /workspace/src/objective/regression_obj.cu:152: reg:linear is now deprecated in favor of reg:squarederror.\n"
          ],
          "name": "stdout"
        },
        {
          "output_type": "stream",
          "text": [
            "2021-04-28 00:29:22,800 Wrote model metadata to file /content/drive/MyDrive/Columbia_E4511/resample_CYP2D6_models/resample_delaney_cur_final/xgboost_computed_descriptors_scaffold_regression/2cff6ed4-3e84-422b-9199-5e5bf4df909f/model_metadata.json\n",
            "2021-04-28 00:29:22,826 Wrote model metrics to file /content/drive/MyDrive/Columbia_E4511/resample_CYP2D6_models/resample_delaney_cur_final/xgboost_computed_descriptors_scaffold_regression/2cff6ed4-3e84-422b-9199-5e5bf4df909f/model_metrics.json\n"
          ],
          "name": "stderr"
        },
        {
          "output_type": "stream",
          "text": [
            "Wrote model tarball to /content/drive/MyDrive/Columbia_E4511/resample_CYP2D6_models/resample_delaney_cur_final_model_2cff6ed4-3e84-422b-9199-5e5bf4df909f.tar.gz\n",
            "xgb gamma: 0.3, xgb learning rate: 0.0001, valid_r2: -0.5470854117757569\n",
            "\n"
          ],
          "name": "stdout"
        },
        {
          "output_type": "stream",
          "text": [
            "2021-04-28 00:29:25,371 Previous dataset split restored\n"
          ],
          "name": "stderr"
        },
        {
          "output_type": "stream",
          "text": [
            "TIMING: dataset construction took 0.353 s\n",
            "Loading dataset from disk.\n"
          ],
          "name": "stdout"
        },
        {
          "output_type": "stream",
          "text": [
            "/usr/local/lib/python3.7/site-packages/atomsci/ddm/pipeline/transformations.py:225: RuntimeWarning: invalid value encountered in true_divide\n",
            "  X = np.nan_to_num((X - self.X_means) * X_weight / self.X_stds)\n"
          ],
          "name": "stderr"
        },
        {
          "output_type": "stream",
          "text": [
            "TIMING: dataset construction took 0.319 s\n",
            "Loading dataset from disk.\n",
            "TIMING: dataset construction took 0.048 s\n",
            "Loading dataset from disk.\n",
            "TIMING: dataset construction took 0.044 s\n",
            "Loading dataset from disk.\n",
            "TIMING: dataset construction took 0.049 s\n",
            "Loading dataset from disk.\n",
            "TIMING: dataset construction took 0.045 s\n",
            "Loading dataset from disk.\n",
            "[00:30:50] WARNING: /workspace/src/objective/regression_obj.cu:152: reg:linear is now deprecated in favor of reg:squarederror.\n",
            "[00:30:56] WARNING: /workspace/src/objective/regression_obj.cu:152: reg:linear is now deprecated in favor of reg:squarederror.\n"
          ],
          "name": "stdout"
        },
        {
          "output_type": "stream",
          "text": [
            "2021-04-28 00:30:59,391 Wrote model metadata to file /content/drive/MyDrive/Columbia_E4511/resample_CYP2D6_models/resample_delaney_cur_final/xgboost_computed_descriptors_scaffold_regression/1ec0e23a-2c24-4196-ab62-1e894dd4a5fb/model_metadata.json\n",
            "2021-04-28 00:30:59,416 Wrote model metrics to file /content/drive/MyDrive/Columbia_E4511/resample_CYP2D6_models/resample_delaney_cur_final/xgboost_computed_descriptors_scaffold_regression/1ec0e23a-2c24-4196-ab62-1e894dd4a5fb/model_metrics.json\n"
          ],
          "name": "stderr"
        },
        {
          "output_type": "stream",
          "text": [
            "Wrote model tarball to /content/drive/MyDrive/Columbia_E4511/resample_CYP2D6_models/resample_delaney_cur_final_model_1ec0e23a-2c24-4196-ab62-1e894dd4a5fb.tar.gz\n",
            "xgb gamma: 0.4, xgb learning rate: 0.25, valid_r2: 0.2929016559086608\n",
            "\n"
          ],
          "name": "stdout"
        },
        {
          "output_type": "stream",
          "text": [
            "2021-04-28 00:31:01,716 Previous dataset split restored\n"
          ],
          "name": "stderr"
        },
        {
          "output_type": "stream",
          "text": [
            "TIMING: dataset construction took 0.349 s\n",
            "Loading dataset from disk.\n"
          ],
          "name": "stdout"
        },
        {
          "output_type": "stream",
          "text": [
            "/usr/local/lib/python3.7/site-packages/atomsci/ddm/pipeline/transformations.py:225: RuntimeWarning: invalid value encountered in true_divide\n",
            "  X = np.nan_to_num((X - self.X_means) * X_weight / self.X_stds)\n"
          ],
          "name": "stderr"
        },
        {
          "output_type": "stream",
          "text": [
            "TIMING: dataset construction took 0.330 s\n",
            "Loading dataset from disk.\n",
            "TIMING: dataset construction took 0.055 s\n",
            "Loading dataset from disk.\n",
            "TIMING: dataset construction took 0.047 s\n",
            "Loading dataset from disk.\n",
            "TIMING: dataset construction took 0.049 s\n",
            "Loading dataset from disk.\n",
            "TIMING: dataset construction took 0.046 s\n",
            "Loading dataset from disk.\n",
            "[00:32:27] WARNING: /workspace/src/objective/regression_obj.cu:152: reg:linear is now deprecated in favor of reg:squarederror.\n",
            "[00:32:34] WARNING: /workspace/src/objective/regression_obj.cu:152: reg:linear is now deprecated in favor of reg:squarederror.\n"
          ],
          "name": "stdout"
        },
        {
          "output_type": "stream",
          "text": [
            "2021-04-28 00:32:40,602 Wrote model metadata to file /content/drive/MyDrive/Columbia_E4511/resample_CYP2D6_models/resample_delaney_cur_final/xgboost_computed_descriptors_scaffold_regression/138be16f-53b3-4ec8-bbb7-d97edec6bb45/model_metadata.json\n",
            "2021-04-28 00:32:40,629 Wrote model metrics to file /content/drive/MyDrive/Columbia_E4511/resample_CYP2D6_models/resample_delaney_cur_final/xgboost_computed_descriptors_scaffold_regression/138be16f-53b3-4ec8-bbb7-d97edec6bb45/model_metrics.json\n"
          ],
          "name": "stderr"
        },
        {
          "output_type": "stream",
          "text": [
            "Wrote model tarball to /content/drive/MyDrive/Columbia_E4511/resample_CYP2D6_models/resample_delaney_cur_final_model_138be16f-53b3-4ec8-bbb7-d97edec6bb45.tar.gz\n",
            "xgb gamma: 0.4, xgb learning rate: 0.2, valid_r2: 0.2657761538024822\n",
            "\n"
          ],
          "name": "stdout"
        },
        {
          "output_type": "stream",
          "text": [
            "2021-04-28 00:32:42,930 Previous dataset split restored\n"
          ],
          "name": "stderr"
        },
        {
          "output_type": "stream",
          "text": [
            "TIMING: dataset construction took 0.350 s\n",
            "Loading dataset from disk.\n"
          ],
          "name": "stdout"
        },
        {
          "output_type": "stream",
          "text": [
            "/usr/local/lib/python3.7/site-packages/atomsci/ddm/pipeline/transformations.py:225: RuntimeWarning: invalid value encountered in true_divide\n",
            "  X = np.nan_to_num((X - self.X_means) * X_weight / self.X_stds)\n"
          ],
          "name": "stderr"
        },
        {
          "output_type": "stream",
          "text": [
            "TIMING: dataset construction took 0.323 s\n",
            "Loading dataset from disk.\n",
            "TIMING: dataset construction took 0.047 s\n",
            "Loading dataset from disk.\n",
            "TIMING: dataset construction took 0.044 s\n",
            "Loading dataset from disk.\n",
            "TIMING: dataset construction took 0.048 s\n",
            "Loading dataset from disk.\n",
            "TIMING: dataset construction took 0.047 s\n",
            "Loading dataset from disk.\n",
            "[00:34:08] WARNING: /workspace/src/objective/regression_obj.cu:152: reg:linear is now deprecated in favor of reg:squarederror.\n",
            "[00:34:14] WARNING: /workspace/src/objective/regression_obj.cu:152: reg:linear is now deprecated in favor of reg:squarederror.\n"
          ],
          "name": "stdout"
        },
        {
          "output_type": "stream",
          "text": [
            "2021-04-28 00:34:17,532 Wrote model metadata to file /content/drive/MyDrive/Columbia_E4511/resample_CYP2D6_models/resample_delaney_cur_final/xgboost_computed_descriptors_scaffold_regression/7eedc24b-3c9e-44d2-a570-473b0e1eb392/model_metadata.json\n",
            "2021-04-28 00:34:17,557 Wrote model metrics to file /content/drive/MyDrive/Columbia_E4511/resample_CYP2D6_models/resample_delaney_cur_final/xgboost_computed_descriptors_scaffold_regression/7eedc24b-3c9e-44d2-a570-473b0e1eb392/model_metrics.json\n"
          ],
          "name": "stderr"
        },
        {
          "output_type": "stream",
          "text": [
            "Wrote model tarball to /content/drive/MyDrive/Columbia_E4511/resample_CYP2D6_models/resample_delaney_cur_final_model_7eedc24b-3c9e-44d2-a570-473b0e1eb392.tar.gz\n",
            "xgb gamma: 0.4, xgb learning rate: 0.15, valid_r2: 0.1502330565525567\n",
            "\n"
          ],
          "name": "stdout"
        },
        {
          "output_type": "stream",
          "text": [
            "2021-04-28 00:34:19,854 Previous dataset split restored\n"
          ],
          "name": "stderr"
        },
        {
          "output_type": "stream",
          "text": [
            "TIMING: dataset construction took 0.343 s\n",
            "Loading dataset from disk.\n"
          ],
          "name": "stdout"
        },
        {
          "output_type": "stream",
          "text": [
            "/usr/local/lib/python3.7/site-packages/atomsci/ddm/pipeline/transformations.py:225: RuntimeWarning: invalid value encountered in true_divide\n",
            "  X = np.nan_to_num((X - self.X_means) * X_weight / self.X_stds)\n"
          ],
          "name": "stderr"
        },
        {
          "output_type": "stream",
          "text": [
            "TIMING: dataset construction took 0.331 s\n",
            "Loading dataset from disk.\n",
            "TIMING: dataset construction took 0.049 s\n",
            "Loading dataset from disk.\n",
            "TIMING: dataset construction took 0.046 s\n",
            "Loading dataset from disk.\n",
            "TIMING: dataset construction took 0.050 s\n",
            "Loading dataset from disk.\n",
            "TIMING: dataset construction took 0.046 s\n",
            "Loading dataset from disk.\n",
            "[00:35:45] WARNING: /workspace/src/objective/regression_obj.cu:152: reg:linear is now deprecated in favor of reg:squarederror.\n",
            "[00:35:52] WARNING: /workspace/src/objective/regression_obj.cu:152: reg:linear is now deprecated in favor of reg:squarederror.\n"
          ],
          "name": "stdout"
        },
        {
          "output_type": "stream",
          "text": [
            "2021-04-28 00:36:03,000 Wrote model metadata to file /content/drive/MyDrive/Columbia_E4511/resample_CYP2D6_models/resample_delaney_cur_final/xgboost_computed_descriptors_scaffold_regression/934d83ba-c381-42e4-ad98-52cf2bff052c/model_metadata.json\n",
            "2021-04-28 00:36:03,030 Wrote model metrics to file /content/drive/MyDrive/Columbia_E4511/resample_CYP2D6_models/resample_delaney_cur_final/xgboost_computed_descriptors_scaffold_regression/934d83ba-c381-42e4-ad98-52cf2bff052c/model_metrics.json\n"
          ],
          "name": "stderr"
        },
        {
          "output_type": "stream",
          "text": [
            "Wrote model tarball to /content/drive/MyDrive/Columbia_E4511/resample_CYP2D6_models/resample_delaney_cur_final_model_934d83ba-c381-42e4-ad98-52cf2bff052c.tar.gz\n",
            "xgb gamma: 0.4, xgb learning rate: 0.1, valid_r2: 0.26372872940448755\n",
            "\n"
          ],
          "name": "stdout"
        },
        {
          "output_type": "stream",
          "text": [
            "2021-04-28 00:36:05,340 Previous dataset split restored\n"
          ],
          "name": "stderr"
        },
        {
          "output_type": "stream",
          "text": [
            "TIMING: dataset construction took 0.352 s\n",
            "Loading dataset from disk.\n"
          ],
          "name": "stdout"
        },
        {
          "output_type": "stream",
          "text": [
            "/usr/local/lib/python3.7/site-packages/atomsci/ddm/pipeline/transformations.py:225: RuntimeWarning: invalid value encountered in true_divide\n",
            "  X = np.nan_to_num((X - self.X_means) * X_weight / self.X_stds)\n"
          ],
          "name": "stderr"
        },
        {
          "output_type": "stream",
          "text": [
            "TIMING: dataset construction took 0.318 s\n",
            "Loading dataset from disk.\n",
            "TIMING: dataset construction took 0.051 s\n",
            "Loading dataset from disk.\n",
            "TIMING: dataset construction took 0.047 s\n",
            "Loading dataset from disk.\n",
            "TIMING: dataset construction took 0.050 s\n",
            "Loading dataset from disk.\n",
            "TIMING: dataset construction took 0.047 s\n",
            "Loading dataset from disk.\n",
            "[00:37:30] WARNING: /workspace/src/objective/regression_obj.cu:152: reg:linear is now deprecated in favor of reg:squarederror.\n",
            "[00:37:37] WARNING: /workspace/src/objective/regression_obj.cu:152: reg:linear is now deprecated in favor of reg:squarederror.\n"
          ],
          "name": "stdout"
        },
        {
          "output_type": "stream",
          "text": [
            "2021-04-28 00:37:48,794 Wrote model metadata to file /content/drive/MyDrive/Columbia_E4511/resample_CYP2D6_models/resample_delaney_cur_final/xgboost_computed_descriptors_scaffold_regression/2f0ecbe2-9167-44ae-8df2-64b63e98507a/model_metadata.json\n",
            "2021-04-28 00:37:48,827 Wrote model metrics to file /content/drive/MyDrive/Columbia_E4511/resample_CYP2D6_models/resample_delaney_cur_final/xgboost_computed_descriptors_scaffold_regression/2f0ecbe2-9167-44ae-8df2-64b63e98507a/model_metrics.json\n"
          ],
          "name": "stderr"
        },
        {
          "output_type": "stream",
          "text": [
            "Wrote model tarball to /content/drive/MyDrive/Columbia_E4511/resample_CYP2D6_models/resample_delaney_cur_final_model_2f0ecbe2-9167-44ae-8df2-64b63e98507a.tar.gz\n",
            "xgb gamma: 0.4, xgb learning rate: 0.05, valid_r2: 0.23092013861369498\n",
            "\n"
          ],
          "name": "stdout"
        },
        {
          "output_type": "stream",
          "text": [
            "2021-04-28 00:37:51,273 Previous dataset split restored\n"
          ],
          "name": "stderr"
        },
        {
          "output_type": "stream",
          "text": [
            "TIMING: dataset construction took 0.342 s\n",
            "Loading dataset from disk.\n"
          ],
          "name": "stdout"
        },
        {
          "output_type": "stream",
          "text": [
            "/usr/local/lib/python3.7/site-packages/atomsci/ddm/pipeline/transformations.py:225: RuntimeWarning: invalid value encountered in true_divide\n",
            "  X = np.nan_to_num((X - self.X_means) * X_weight / self.X_stds)\n"
          ],
          "name": "stderr"
        },
        {
          "output_type": "stream",
          "text": [
            "TIMING: dataset construction took 0.332 s\n",
            "Loading dataset from disk.\n",
            "TIMING: dataset construction took 0.049 s\n",
            "Loading dataset from disk.\n",
            "TIMING: dataset construction took 0.043 s\n",
            "Loading dataset from disk.\n",
            "TIMING: dataset construction took 0.050 s\n",
            "Loading dataset from disk.\n",
            "TIMING: dataset construction took 0.044 s\n",
            "Loading dataset from disk.\n",
            "[00:39:16] WARNING: /workspace/src/objective/regression_obj.cu:152: reg:linear is now deprecated in favor of reg:squarederror.\n",
            "[00:39:23] WARNING: /workspace/src/objective/regression_obj.cu:152: reg:linear is now deprecated in favor of reg:squarederror.\n"
          ],
          "name": "stdout"
        },
        {
          "output_type": "stream",
          "text": [
            "2021-04-28 00:39:34,340 Wrote model metadata to file /content/drive/MyDrive/Columbia_E4511/resample_CYP2D6_models/resample_delaney_cur_final/xgboost_computed_descriptors_scaffold_regression/91778e99-45c8-4ff1-922b-de876fc72e57/model_metadata.json\n",
            "2021-04-28 00:39:34,374 Wrote model metrics to file /content/drive/MyDrive/Columbia_E4511/resample_CYP2D6_models/resample_delaney_cur_final/xgboost_computed_descriptors_scaffold_regression/91778e99-45c8-4ff1-922b-de876fc72e57/model_metrics.json\n"
          ],
          "name": "stderr"
        },
        {
          "output_type": "stream",
          "text": [
            "Wrote model tarball to /content/drive/MyDrive/Columbia_E4511/resample_CYP2D6_models/resample_delaney_cur_final_model_91778e99-45c8-4ff1-922b-de876fc72e57.tar.gz\n",
            "xgb gamma: 0.4, xgb learning rate: 0.01, valid_r2: 0.044236135731203885\n",
            "\n"
          ],
          "name": "stdout"
        },
        {
          "output_type": "stream",
          "text": [
            "2021-04-28 00:39:36,669 Previous dataset split restored\n"
          ],
          "name": "stderr"
        },
        {
          "output_type": "stream",
          "text": [
            "TIMING: dataset construction took 0.340 s\n",
            "Loading dataset from disk.\n"
          ],
          "name": "stdout"
        },
        {
          "output_type": "stream",
          "text": [
            "/usr/local/lib/python3.7/site-packages/atomsci/ddm/pipeline/transformations.py:225: RuntimeWarning: invalid value encountered in true_divide\n",
            "  X = np.nan_to_num((X - self.X_means) * X_weight / self.X_stds)\n"
          ],
          "name": "stderr"
        },
        {
          "output_type": "stream",
          "text": [
            "TIMING: dataset construction took 0.324 s\n",
            "Loading dataset from disk.\n",
            "TIMING: dataset construction took 0.047 s\n",
            "Loading dataset from disk.\n",
            "TIMING: dataset construction took 0.045 s\n",
            "Loading dataset from disk.\n",
            "TIMING: dataset construction took 0.049 s\n",
            "Loading dataset from disk.\n",
            "TIMING: dataset construction took 0.046 s\n",
            "Loading dataset from disk.\n",
            "[00:41:01] WARNING: /workspace/src/objective/regression_obj.cu:152: reg:linear is now deprecated in favor of reg:squarederror.\n",
            "[00:41:08] WARNING: /workspace/src/objective/regression_obj.cu:152: reg:linear is now deprecated in favor of reg:squarederror.\n"
          ],
          "name": "stdout"
        },
        {
          "output_type": "stream",
          "text": [
            "2021-04-28 00:41:19,312 Wrote model metadata to file /content/drive/MyDrive/Columbia_E4511/resample_CYP2D6_models/resample_delaney_cur_final/xgboost_computed_descriptors_scaffold_regression/2d76655b-47bd-479d-b19f-52fca7675e16/model_metadata.json\n",
            "2021-04-28 00:41:19,346 Wrote model metrics to file /content/drive/MyDrive/Columbia_E4511/resample_CYP2D6_models/resample_delaney_cur_final/xgboost_computed_descriptors_scaffold_regression/2d76655b-47bd-479d-b19f-52fca7675e16/model_metrics.json\n"
          ],
          "name": "stderr"
        },
        {
          "output_type": "stream",
          "text": [
            "Wrote model tarball to /content/drive/MyDrive/Columbia_E4511/resample_CYP2D6_models/resample_delaney_cur_final_model_2d76655b-47bd-479d-b19f-52fca7675e16.tar.gz\n",
            "xgb gamma: 0.4, xgb learning rate: 0.001, valid_r2: -0.451248747647218\n",
            "\n"
          ],
          "name": "stdout"
        },
        {
          "output_type": "stream",
          "text": [
            "2021-04-28 00:41:21,602 Previous dataset split restored\n"
          ],
          "name": "stderr"
        },
        {
          "output_type": "stream",
          "text": [
            "TIMING: dataset construction took 0.336 s\n",
            "Loading dataset from disk.\n"
          ],
          "name": "stdout"
        },
        {
          "output_type": "stream",
          "text": [
            "/usr/local/lib/python3.7/site-packages/atomsci/ddm/pipeline/transformations.py:225: RuntimeWarning: invalid value encountered in true_divide\n",
            "  X = np.nan_to_num((X - self.X_means) * X_weight / self.X_stds)\n"
          ],
          "name": "stderr"
        },
        {
          "output_type": "stream",
          "text": [
            "TIMING: dataset construction took 0.313 s\n",
            "Loading dataset from disk.\n",
            "TIMING: dataset construction took 0.051 s\n",
            "Loading dataset from disk.\n",
            "TIMING: dataset construction took 0.043 s\n",
            "Loading dataset from disk.\n",
            "TIMING: dataset construction took 0.049 s\n",
            "Loading dataset from disk.\n",
            "TIMING: dataset construction took 0.047 s\n",
            "Loading dataset from disk.\n",
            "[00:42:46] WARNING: /workspace/src/objective/regression_obj.cu:152: reg:linear is now deprecated in favor of reg:squarederror.\n",
            "[00:42:53] WARNING: /workspace/src/objective/regression_obj.cu:152: reg:linear is now deprecated in favor of reg:squarederror.\n"
          ],
          "name": "stdout"
        },
        {
          "output_type": "stream",
          "text": [
            "2021-04-28 00:43:04,437 Wrote model metadata to file /content/drive/MyDrive/Columbia_E4511/resample_CYP2D6_models/resample_delaney_cur_final/xgboost_computed_descriptors_scaffold_regression/91268b58-d6ff-46e1-9dec-9e9f93e85909/model_metadata.json\n",
            "2021-04-28 00:43:04,487 Wrote model metrics to file /content/drive/MyDrive/Columbia_E4511/resample_CYP2D6_models/resample_delaney_cur_final/xgboost_computed_descriptors_scaffold_regression/91268b58-d6ff-46e1-9dec-9e9f93e85909/model_metrics.json\n"
          ],
          "name": "stderr"
        },
        {
          "output_type": "stream",
          "text": [
            "Wrote model tarball to /content/drive/MyDrive/Columbia_E4511/resample_CYP2D6_models/resample_delaney_cur_final_model_91268b58-d6ff-46e1-9dec-9e9f93e85909.tar.gz\n",
            "xgb gamma: 0.4, xgb learning rate: 0.0001, valid_r2: -0.5470473751154545\n",
            "\n"
          ],
          "name": "stdout"
        },
        {
          "output_type": "stream",
          "text": [
            "2021-04-28 00:43:06,818 Previous dataset split restored\n"
          ],
          "name": "stderr"
        },
        {
          "output_type": "stream",
          "text": [
            "TIMING: dataset construction took 0.356 s\n",
            "Loading dataset from disk.\n"
          ],
          "name": "stdout"
        },
        {
          "output_type": "stream",
          "text": [
            "/usr/local/lib/python3.7/site-packages/atomsci/ddm/pipeline/transformations.py:225: RuntimeWarning: invalid value encountered in true_divide\n",
            "  X = np.nan_to_num((X - self.X_means) * X_weight / self.X_stds)\n"
          ],
          "name": "stderr"
        },
        {
          "output_type": "stream",
          "text": [
            "TIMING: dataset construction took 0.324 s\n",
            "Loading dataset from disk.\n",
            "TIMING: dataset construction took 0.049 s\n",
            "Loading dataset from disk.\n",
            "TIMING: dataset construction took 0.043 s\n",
            "Loading dataset from disk.\n",
            "TIMING: dataset construction took 0.048 s\n",
            "Loading dataset from disk.\n",
            "TIMING: dataset construction took 0.048 s\n",
            "Loading dataset from disk.\n",
            "[00:44:31] WARNING: /workspace/src/objective/regression_obj.cu:152: reg:linear is now deprecated in favor of reg:squarederror.\n",
            "[00:44:37] WARNING: /workspace/src/objective/regression_obj.cu:152: reg:linear is now deprecated in favor of reg:squarederror.\n"
          ],
          "name": "stdout"
        },
        {
          "output_type": "stream",
          "text": [
            "2021-04-28 00:44:41,599 Wrote model metadata to file /content/drive/MyDrive/Columbia_E4511/resample_CYP2D6_models/resample_delaney_cur_final/xgboost_computed_descriptors_scaffold_regression/cf3913c1-e4ca-4344-ba4a-3359ad67e6d9/model_metadata.json\n",
            "2021-04-28 00:44:41,623 Wrote model metrics to file /content/drive/MyDrive/Columbia_E4511/resample_CYP2D6_models/resample_delaney_cur_final/xgboost_computed_descriptors_scaffold_regression/cf3913c1-e4ca-4344-ba4a-3359ad67e6d9/model_metrics.json\n"
          ],
          "name": "stderr"
        },
        {
          "output_type": "stream",
          "text": [
            "Wrote model tarball to /content/drive/MyDrive/Columbia_E4511/resample_CYP2D6_models/resample_delaney_cur_final_model_cf3913c1-e4ca-4344-ba4a-3359ad67e6d9.tar.gz\n",
            "xgb gamma: 0.5, xgb learning rate: 0.25, valid_r2: 0.18151182615217576\n",
            "\n"
          ],
          "name": "stdout"
        },
        {
          "output_type": "stream",
          "text": [
            "2021-04-28 00:44:44,059 Previous dataset split restored\n"
          ],
          "name": "stderr"
        },
        {
          "output_type": "stream",
          "text": [
            "TIMING: dataset construction took 0.350 s\n",
            "Loading dataset from disk.\n"
          ],
          "name": "stdout"
        },
        {
          "output_type": "stream",
          "text": [
            "/usr/local/lib/python3.7/site-packages/atomsci/ddm/pipeline/transformations.py:225: RuntimeWarning: invalid value encountered in true_divide\n",
            "  X = np.nan_to_num((X - self.X_means) * X_weight / self.X_stds)\n"
          ],
          "name": "stderr"
        },
        {
          "output_type": "stream",
          "text": [
            "TIMING: dataset construction took 0.322 s\n",
            "Loading dataset from disk.\n",
            "TIMING: dataset construction took 0.052 s\n",
            "Loading dataset from disk.\n",
            "TIMING: dataset construction took 0.044 s\n",
            "Loading dataset from disk.\n",
            "TIMING: dataset construction took 0.049 s\n",
            "Loading dataset from disk.\n",
            "TIMING: dataset construction took 0.047 s\n",
            "Loading dataset from disk.\n",
            "[00:46:08] WARNING: /workspace/src/objective/regression_obj.cu:152: reg:linear is now deprecated in favor of reg:squarederror.\n",
            "[00:46:14] WARNING: /workspace/src/objective/regression_obj.cu:152: reg:linear is now deprecated in favor of reg:squarederror.\n"
          ],
          "name": "stdout"
        },
        {
          "output_type": "stream",
          "text": [
            "2021-04-28 00:46:17,955 Wrote model metadata to file /content/drive/MyDrive/Columbia_E4511/resample_CYP2D6_models/resample_delaney_cur_final/xgboost_computed_descriptors_scaffold_regression/3620bd88-3118-489e-8e26-ec872479c363/model_metadata.json\n",
            "2021-04-28 00:46:17,980 Wrote model metrics to file /content/drive/MyDrive/Columbia_E4511/resample_CYP2D6_models/resample_delaney_cur_final/xgboost_computed_descriptors_scaffold_regression/3620bd88-3118-489e-8e26-ec872479c363/model_metrics.json\n"
          ],
          "name": "stderr"
        },
        {
          "output_type": "stream",
          "text": [
            "Wrote model tarball to /content/drive/MyDrive/Columbia_E4511/resample_CYP2D6_models/resample_delaney_cur_final_model_3620bd88-3118-489e-8e26-ec872479c363.tar.gz\n",
            "xgb gamma: 0.5, xgb learning rate: 0.2, valid_r2: 0.27938822942195074\n",
            "\n"
          ],
          "name": "stdout"
        },
        {
          "output_type": "stream",
          "text": [
            "2021-04-28 00:46:20,291 Previous dataset split restored\n"
          ],
          "name": "stderr"
        },
        {
          "output_type": "stream",
          "text": [
            "TIMING: dataset construction took 0.346 s\n",
            "Loading dataset from disk.\n"
          ],
          "name": "stdout"
        },
        {
          "output_type": "stream",
          "text": [
            "/usr/local/lib/python3.7/site-packages/atomsci/ddm/pipeline/transformations.py:225: RuntimeWarning: invalid value encountered in true_divide\n",
            "  X = np.nan_to_num((X - self.X_means) * X_weight / self.X_stds)\n"
          ],
          "name": "stderr"
        },
        {
          "output_type": "stream",
          "text": [
            "TIMING: dataset construction took 0.320 s\n",
            "Loading dataset from disk.\n",
            "TIMING: dataset construction took 0.047 s\n",
            "Loading dataset from disk.\n",
            "TIMING: dataset construction took 0.043 s\n",
            "Loading dataset from disk.\n",
            "TIMING: dataset construction took 0.050 s\n",
            "Loading dataset from disk.\n",
            "TIMING: dataset construction took 0.043 s\n",
            "Loading dataset from disk.\n",
            "[00:47:44] WARNING: /workspace/src/objective/regression_obj.cu:152: reg:linear is now deprecated in favor of reg:squarederror.\n",
            "[00:47:52] WARNING: /workspace/src/objective/regression_obj.cu:152: reg:linear is now deprecated in favor of reg:squarederror.\n"
          ],
          "name": "stdout"
        },
        {
          "output_type": "stream",
          "text": [
            "2021-04-28 00:47:59,568 Wrote model metadata to file /content/drive/MyDrive/Columbia_E4511/resample_CYP2D6_models/resample_delaney_cur_final/xgboost_computed_descriptors_scaffold_regression/5edf6fb4-c736-4274-a33c-e10422c82d53/model_metadata.json\n",
            "2021-04-28 00:47:59,596 Wrote model metrics to file /content/drive/MyDrive/Columbia_E4511/resample_CYP2D6_models/resample_delaney_cur_final/xgboost_computed_descriptors_scaffold_regression/5edf6fb4-c736-4274-a33c-e10422c82d53/model_metrics.json\n"
          ],
          "name": "stderr"
        },
        {
          "output_type": "stream",
          "text": [
            "Wrote model tarball to /content/drive/MyDrive/Columbia_E4511/resample_CYP2D6_models/resample_delaney_cur_final_model_5edf6fb4-c736-4274-a33c-e10422c82d53.tar.gz\n",
            "xgb gamma: 0.5, xgb learning rate: 0.15, valid_r2: 0.2066204632020876\n",
            "\n"
          ],
          "name": "stdout"
        },
        {
          "output_type": "stream",
          "text": [
            "2021-04-28 00:48:01,884 Previous dataset split restored\n"
          ],
          "name": "stderr"
        },
        {
          "output_type": "stream",
          "text": [
            "TIMING: dataset construction took 0.347 s\n",
            "Loading dataset from disk.\n"
          ],
          "name": "stdout"
        },
        {
          "output_type": "stream",
          "text": [
            "/usr/local/lib/python3.7/site-packages/atomsci/ddm/pipeline/transformations.py:225: RuntimeWarning: invalid value encountered in true_divide\n",
            "  X = np.nan_to_num((X - self.X_means) * X_weight / self.X_stds)\n"
          ],
          "name": "stderr"
        },
        {
          "output_type": "stream",
          "text": [
            "TIMING: dataset construction took 0.327 s\n",
            "Loading dataset from disk.\n",
            "TIMING: dataset construction took 0.050 s\n",
            "Loading dataset from disk.\n",
            "TIMING: dataset construction took 0.043 s\n",
            "Loading dataset from disk.\n",
            "TIMING: dataset construction took 0.048 s\n",
            "Loading dataset from disk.\n",
            "TIMING: dataset construction took 0.045 s\n",
            "Loading dataset from disk.\n",
            "[00:49:26] WARNING: /workspace/src/objective/regression_obj.cu:152: reg:linear is now deprecated in favor of reg:squarederror.\n",
            "[00:49:33] WARNING: /workspace/src/objective/regression_obj.cu:152: reg:linear is now deprecated in favor of reg:squarederror.\n"
          ],
          "name": "stdout"
        },
        {
          "output_type": "stream",
          "text": [
            "2021-04-28 00:49:39,081 Wrote model metadata to file /content/drive/MyDrive/Columbia_E4511/resample_CYP2D6_models/resample_delaney_cur_final/xgboost_computed_descriptors_scaffold_regression/7daa99b5-1fa0-48f0-9c41-fc0e84dfb945/model_metadata.json\n",
            "2021-04-28 00:49:39,108 Wrote model metrics to file /content/drive/MyDrive/Columbia_E4511/resample_CYP2D6_models/resample_delaney_cur_final/xgboost_computed_descriptors_scaffold_regression/7daa99b5-1fa0-48f0-9c41-fc0e84dfb945/model_metrics.json\n"
          ],
          "name": "stderr"
        },
        {
          "output_type": "stream",
          "text": [
            "Wrote model tarball to /content/drive/MyDrive/Columbia_E4511/resample_CYP2D6_models/resample_delaney_cur_final_model_7daa99b5-1fa0-48f0-9c41-fc0e84dfb945.tar.gz\n",
            "xgb gamma: 0.5, xgb learning rate: 0.1, valid_r2: 0.23082135721231456\n",
            "\n"
          ],
          "name": "stdout"
        },
        {
          "output_type": "stream",
          "text": [
            "2021-04-28 00:49:41,414 Previous dataset split restored\n"
          ],
          "name": "stderr"
        },
        {
          "output_type": "stream",
          "text": [
            "TIMING: dataset construction took 0.343 s\n",
            "Loading dataset from disk.\n"
          ],
          "name": "stdout"
        },
        {
          "output_type": "stream",
          "text": [
            "/usr/local/lib/python3.7/site-packages/atomsci/ddm/pipeline/transformations.py:225: RuntimeWarning: invalid value encountered in true_divide\n",
            "  X = np.nan_to_num((X - self.X_means) * X_weight / self.X_stds)\n"
          ],
          "name": "stderr"
        },
        {
          "output_type": "stream",
          "text": [
            "TIMING: dataset construction took 0.315 s\n",
            "Loading dataset from disk.\n",
            "TIMING: dataset construction took 0.047 s\n",
            "Loading dataset from disk.\n",
            "TIMING: dataset construction took 0.043 s\n",
            "Loading dataset from disk.\n",
            "TIMING: dataset construction took 0.046 s\n",
            "Loading dataset from disk.\n",
            "TIMING: dataset construction took 0.047 s\n",
            "Loading dataset from disk.\n",
            "[00:51:05] WARNING: /workspace/src/objective/regression_obj.cu:152: reg:linear is now deprecated in favor of reg:squarederror.\n",
            "[00:51:13] WARNING: /workspace/src/objective/regression_obj.cu:152: reg:linear is now deprecated in favor of reg:squarederror.\n"
          ],
          "name": "stdout"
        },
        {
          "output_type": "stream",
          "text": [
            "2021-04-28 00:51:24,371 Wrote model metadata to file /content/drive/MyDrive/Columbia_E4511/resample_CYP2D6_models/resample_delaney_cur_final/xgboost_computed_descriptors_scaffold_regression/808227f4-0472-4327-a496-e18974a5be52/model_metadata.json\n",
            "2021-04-28 00:51:24,406 Wrote model metrics to file /content/drive/MyDrive/Columbia_E4511/resample_CYP2D6_models/resample_delaney_cur_final/xgboost_computed_descriptors_scaffold_regression/808227f4-0472-4327-a496-e18974a5be52/model_metrics.json\n"
          ],
          "name": "stderr"
        },
        {
          "output_type": "stream",
          "text": [
            "Wrote model tarball to /content/drive/MyDrive/Columbia_E4511/resample_CYP2D6_models/resample_delaney_cur_final_model_808227f4-0472-4327-a496-e18974a5be52.tar.gz\n",
            "xgb gamma: 0.5, xgb learning rate: 0.05, valid_r2: 0.23937391172039912\n",
            "\n"
          ],
          "name": "stdout"
        },
        {
          "output_type": "stream",
          "text": [
            "2021-04-28 00:51:26,900 Previous dataset split restored\n"
          ],
          "name": "stderr"
        },
        {
          "output_type": "stream",
          "text": [
            "TIMING: dataset construction took 0.350 s\n",
            "Loading dataset from disk.\n"
          ],
          "name": "stdout"
        },
        {
          "output_type": "stream",
          "text": [
            "/usr/local/lib/python3.7/site-packages/atomsci/ddm/pipeline/transformations.py:225: RuntimeWarning: invalid value encountered in true_divide\n",
            "  X = np.nan_to_num((X - self.X_means) * X_weight / self.X_stds)\n"
          ],
          "name": "stderr"
        },
        {
          "output_type": "stream",
          "text": [
            "TIMING: dataset construction took 0.320 s\n",
            "Loading dataset from disk.\n",
            "TIMING: dataset construction took 0.050 s\n",
            "Loading dataset from disk.\n",
            "TIMING: dataset construction took 0.043 s\n",
            "Loading dataset from disk.\n",
            "TIMING: dataset construction took 0.049 s\n",
            "Loading dataset from disk.\n",
            "TIMING: dataset construction took 0.050 s\n",
            "Loading dataset from disk.\n",
            "[00:52:52] WARNING: /workspace/src/objective/regression_obj.cu:152: reg:linear is now deprecated in favor of reg:squarederror.\n",
            "[00:52:59] WARNING: /workspace/src/objective/regression_obj.cu:152: reg:linear is now deprecated in favor of reg:squarederror.\n"
          ],
          "name": "stdout"
        },
        {
          "output_type": "stream",
          "text": [
            "2021-04-28 00:53:10,081 Wrote model metadata to file /content/drive/MyDrive/Columbia_E4511/resample_CYP2D6_models/resample_delaney_cur_final/xgboost_computed_descriptors_scaffold_regression/45349a93-0358-46cb-a527-ea5aa4596d27/model_metadata.json\n",
            "2021-04-28 00:53:10,115 Wrote model metrics to file /content/drive/MyDrive/Columbia_E4511/resample_CYP2D6_models/resample_delaney_cur_final/xgboost_computed_descriptors_scaffold_regression/45349a93-0358-46cb-a527-ea5aa4596d27/model_metrics.json\n"
          ],
          "name": "stderr"
        },
        {
          "output_type": "stream",
          "text": [
            "Wrote model tarball to /content/drive/MyDrive/Columbia_E4511/resample_CYP2D6_models/resample_delaney_cur_final_model_45349a93-0358-46cb-a527-ea5aa4596d27.tar.gz\n",
            "xgb gamma: 0.5, xgb learning rate: 0.01, valid_r2: 0.03801428963960296\n",
            "\n"
          ],
          "name": "stdout"
        },
        {
          "output_type": "stream",
          "text": [
            "2021-04-28 00:53:12,420 Previous dataset split restored\n"
          ],
          "name": "stderr"
        },
        {
          "output_type": "stream",
          "text": [
            "TIMING: dataset construction took 0.348 s\n",
            "Loading dataset from disk.\n"
          ],
          "name": "stdout"
        },
        {
          "output_type": "stream",
          "text": [
            "/usr/local/lib/python3.7/site-packages/atomsci/ddm/pipeline/transformations.py:225: RuntimeWarning: invalid value encountered in true_divide\n",
            "  X = np.nan_to_num((X - self.X_means) * X_weight / self.X_stds)\n"
          ],
          "name": "stderr"
        },
        {
          "output_type": "stream",
          "text": [
            "TIMING: dataset construction took 0.326 s\n",
            "Loading dataset from disk.\n",
            "TIMING: dataset construction took 0.049 s\n",
            "Loading dataset from disk.\n",
            "TIMING: dataset construction took 0.044 s\n",
            "Loading dataset from disk.\n",
            "TIMING: dataset construction took 0.048 s\n",
            "Loading dataset from disk.\n",
            "TIMING: dataset construction took 0.046 s\n",
            "Loading dataset from disk.\n",
            "[00:54:37] WARNING: /workspace/src/objective/regression_obj.cu:152: reg:linear is now deprecated in favor of reg:squarederror.\n",
            "[00:54:44] WARNING: /workspace/src/objective/regression_obj.cu:152: reg:linear is now deprecated in favor of reg:squarederror.\n"
          ],
          "name": "stdout"
        },
        {
          "output_type": "stream",
          "text": [
            "2021-04-28 00:54:54,363 Wrote model metadata to file /content/drive/MyDrive/Columbia_E4511/resample_CYP2D6_models/resample_delaney_cur_final/xgboost_computed_descriptors_scaffold_regression/60d14df2-7216-4e57-ad8f-386de60a3f19/model_metadata.json\n",
            "2021-04-28 00:54:54,394 Wrote model metrics to file /content/drive/MyDrive/Columbia_E4511/resample_CYP2D6_models/resample_delaney_cur_final/xgboost_computed_descriptors_scaffold_regression/60d14df2-7216-4e57-ad8f-386de60a3f19/model_metrics.json\n"
          ],
          "name": "stderr"
        },
        {
          "output_type": "stream",
          "text": [
            "Wrote model tarball to /content/drive/MyDrive/Columbia_E4511/resample_CYP2D6_models/resample_delaney_cur_final_model_60d14df2-7216-4e57-ad8f-386de60a3f19.tar.gz\n",
            "xgb gamma: 0.5, xgb learning rate: 0.001, valid_r2: -0.4514069369834042\n",
            "\n"
          ],
          "name": "stdout"
        },
        {
          "output_type": "stream",
          "text": [
            "2021-04-28 00:54:56,722 Previous dataset split restored\n"
          ],
          "name": "stderr"
        },
        {
          "output_type": "stream",
          "text": [
            "TIMING: dataset construction took 0.361 s\n",
            "Loading dataset from disk.\n"
          ],
          "name": "stdout"
        },
        {
          "output_type": "stream",
          "text": [
            "/usr/local/lib/python3.7/site-packages/atomsci/ddm/pipeline/transformations.py:225: RuntimeWarning: invalid value encountered in true_divide\n",
            "  X = np.nan_to_num((X - self.X_means) * X_weight / self.X_stds)\n"
          ],
          "name": "stderr"
        },
        {
          "output_type": "stream",
          "text": [
            "TIMING: dataset construction took 0.313 s\n",
            "Loading dataset from disk.\n",
            "TIMING: dataset construction took 0.050 s\n",
            "Loading dataset from disk.\n",
            "TIMING: dataset construction took 0.044 s\n",
            "Loading dataset from disk.\n",
            "TIMING: dataset construction took 0.047 s\n",
            "Loading dataset from disk.\n",
            "TIMING: dataset construction took 0.048 s\n",
            "Loading dataset from disk.\n",
            "[00:56:21] WARNING: /workspace/src/objective/regression_obj.cu:152: reg:linear is now deprecated in favor of reg:squarederror.\n",
            "[00:56:28] WARNING: /workspace/src/objective/regression_obj.cu:152: reg:linear is now deprecated in favor of reg:squarederror.\n"
          ],
          "name": "stdout"
        },
        {
          "output_type": "stream",
          "text": [
            "2021-04-28 00:56:38,614 Wrote model metadata to file /content/drive/MyDrive/Columbia_E4511/resample_CYP2D6_models/resample_delaney_cur_final/xgboost_computed_descriptors_scaffold_regression/0e289d92-41d6-457b-adfc-632354abe862/model_metadata.json\n",
            "2021-04-28 00:56:38,646 Wrote model metrics to file /content/drive/MyDrive/Columbia_E4511/resample_CYP2D6_models/resample_delaney_cur_final/xgboost_computed_descriptors_scaffold_regression/0e289d92-41d6-457b-adfc-632354abe862/model_metrics.json\n"
          ],
          "name": "stderr"
        },
        {
          "output_type": "stream",
          "text": [
            "Wrote model tarball to /content/drive/MyDrive/Columbia_E4511/resample_CYP2D6_models/resample_delaney_cur_final_model_0e289d92-41d6-457b-adfc-632354abe862.tar.gz\n",
            "xgb gamma: 0.5, xgb learning rate: 0.0001, valid_r2: -0.5470462986142866\n",
            "\n"
          ],
          "name": "stdout"
        },
        {
          "output_type": "stream",
          "text": [
            "2021-04-28 00:56:40,938 Previous dataset split restored\n"
          ],
          "name": "stderr"
        },
        {
          "output_type": "stream",
          "text": [
            "TIMING: dataset construction took 0.349 s\n",
            "Loading dataset from disk.\n"
          ],
          "name": "stdout"
        },
        {
          "output_type": "stream",
          "text": [
            "/usr/local/lib/python3.7/site-packages/atomsci/ddm/pipeline/transformations.py:225: RuntimeWarning: invalid value encountered in true_divide\n",
            "  X = np.nan_to_num((X - self.X_means) * X_weight / self.X_stds)\n"
          ],
          "name": "stderr"
        },
        {
          "output_type": "stream",
          "text": [
            "TIMING: dataset construction took 0.327 s\n",
            "Loading dataset from disk.\n",
            "TIMING: dataset construction took 0.052 s\n",
            "Loading dataset from disk.\n",
            "TIMING: dataset construction took 0.045 s\n",
            "Loading dataset from disk.\n",
            "TIMING: dataset construction took 0.052 s\n",
            "Loading dataset from disk.\n",
            "TIMING: dataset construction took 0.046 s\n",
            "Loading dataset from disk.\n",
            "[00:58:06] WARNING: /workspace/src/objective/regression_obj.cu:152: reg:linear is now deprecated in favor of reg:squarederror.\n",
            "[00:58:09] WARNING: /workspace/src/objective/regression_obj.cu:152: reg:linear is now deprecated in favor of reg:squarederror.\n"
          ],
          "name": "stdout"
        },
        {
          "output_type": "stream",
          "text": [
            "2021-04-28 00:58:11,439 Wrote model metadata to file /content/drive/MyDrive/Columbia_E4511/resample_CYP2D6_models/resample_delaney_cur_final/xgboost_computed_descriptors_scaffold_regression/ca91d371-1b8c-4eeb-a155-5f01247f0570/model_metadata.json\n",
            "2021-04-28 00:58:11,463 Wrote model metrics to file /content/drive/MyDrive/Columbia_E4511/resample_CYP2D6_models/resample_delaney_cur_final/xgboost_computed_descriptors_scaffold_regression/ca91d371-1b8c-4eeb-a155-5f01247f0570/model_metrics.json\n"
          ],
          "name": "stderr"
        },
        {
          "output_type": "stream",
          "text": [
            "Wrote model tarball to /content/drive/MyDrive/Columbia_E4511/resample_CYP2D6_models/resample_delaney_cur_final_model_ca91d371-1b8c-4eeb-a155-5f01247f0570.tar.gz\n",
            "xgb gamma: 1, xgb learning rate: 0.25, valid_r2: 0.10514529816861673\n",
            "\n"
          ],
          "name": "stdout"
        },
        {
          "output_type": "stream",
          "text": [
            "2021-04-28 00:58:13,750 Previous dataset split restored\n"
          ],
          "name": "stderr"
        },
        {
          "output_type": "stream",
          "text": [
            "TIMING: dataset construction took 0.352 s\n",
            "Loading dataset from disk.\n"
          ],
          "name": "stdout"
        },
        {
          "output_type": "stream",
          "text": [
            "/usr/local/lib/python3.7/site-packages/atomsci/ddm/pipeline/transformations.py:225: RuntimeWarning: invalid value encountered in true_divide\n",
            "  X = np.nan_to_num((X - self.X_means) * X_weight / self.X_stds)\n"
          ],
          "name": "stderr"
        },
        {
          "output_type": "stream",
          "text": [
            "TIMING: dataset construction took 0.318 s\n",
            "Loading dataset from disk.\n",
            "TIMING: dataset construction took 0.050 s\n",
            "Loading dataset from disk.\n",
            "TIMING: dataset construction took 0.047 s\n",
            "Loading dataset from disk.\n",
            "TIMING: dataset construction took 0.049 s\n",
            "Loading dataset from disk.\n",
            "TIMING: dataset construction took 0.046 s\n",
            "Loading dataset from disk.\n",
            "[00:59:39] WARNING: /workspace/src/objective/regression_obj.cu:152: reg:linear is now deprecated in favor of reg:squarederror.\n",
            "[00:59:42] WARNING: /workspace/src/objective/regression_obj.cu:152: reg:linear is now deprecated in favor of reg:squarederror.\n"
          ],
          "name": "stdout"
        },
        {
          "output_type": "stream",
          "text": [
            "2021-04-28 00:59:44,299 Wrote model metadata to file /content/drive/MyDrive/Columbia_E4511/resample_CYP2D6_models/resample_delaney_cur_final/xgboost_computed_descriptors_scaffold_regression/c0624891-5c17-4892-8142-3bd896031aef/model_metadata.json\n",
            "2021-04-28 00:59:44,327 Wrote model metrics to file /content/drive/MyDrive/Columbia_E4511/resample_CYP2D6_models/resample_delaney_cur_final/xgboost_computed_descriptors_scaffold_regression/c0624891-5c17-4892-8142-3bd896031aef/model_metrics.json\n"
          ],
          "name": "stderr"
        },
        {
          "output_type": "stream",
          "text": [
            "Wrote model tarball to /content/drive/MyDrive/Columbia_E4511/resample_CYP2D6_models/resample_delaney_cur_final_model_c0624891-5c17-4892-8142-3bd896031aef.tar.gz\n",
            "xgb gamma: 1, xgb learning rate: 0.2, valid_r2: 0.08258615109692369\n",
            "\n"
          ],
          "name": "stdout"
        },
        {
          "output_type": "stream",
          "text": [
            "2021-04-28 00:59:46,750 Previous dataset split restored\n"
          ],
          "name": "stderr"
        },
        {
          "output_type": "stream",
          "text": [
            "TIMING: dataset construction took 0.344 s\n",
            "Loading dataset from disk.\n"
          ],
          "name": "stdout"
        },
        {
          "output_type": "stream",
          "text": [
            "/usr/local/lib/python3.7/site-packages/atomsci/ddm/pipeline/transformations.py:225: RuntimeWarning: invalid value encountered in true_divide\n",
            "  X = np.nan_to_num((X - self.X_means) * X_weight / self.X_stds)\n"
          ],
          "name": "stderr"
        },
        {
          "output_type": "stream",
          "text": [
            "TIMING: dataset construction took 0.319 s\n",
            "Loading dataset from disk.\n",
            "TIMING: dataset construction took 0.050 s\n",
            "Loading dataset from disk.\n",
            "TIMING: dataset construction took 0.042 s\n",
            "Loading dataset from disk.\n",
            "TIMING: dataset construction took 0.049 s\n",
            "Loading dataset from disk.\n",
            "TIMING: dataset construction took 0.045 s\n",
            "Loading dataset from disk.\n",
            "[01:01:12] WARNING: /workspace/src/objective/regression_obj.cu:152: reg:linear is now deprecated in favor of reg:squarederror.\n",
            "[01:01:17] WARNING: /workspace/src/objective/regression_obj.cu:152: reg:linear is now deprecated in favor of reg:squarederror.\n"
          ],
          "name": "stdout"
        },
        {
          "output_type": "stream",
          "text": [
            "2021-04-28 01:01:22,275 Wrote model metadata to file /content/drive/MyDrive/Columbia_E4511/resample_CYP2D6_models/resample_delaney_cur_final/xgboost_computed_descriptors_scaffold_regression/bea38745-8e24-43ab-99f3-55a031a0cbcc/model_metadata.json\n",
            "2021-04-28 01:01:22,300 Wrote model metrics to file /content/drive/MyDrive/Columbia_E4511/resample_CYP2D6_models/resample_delaney_cur_final/xgboost_computed_descriptors_scaffold_regression/bea38745-8e24-43ab-99f3-55a031a0cbcc/model_metrics.json\n"
          ],
          "name": "stderr"
        },
        {
          "output_type": "stream",
          "text": [
            "Wrote model tarball to /content/drive/MyDrive/Columbia_E4511/resample_CYP2D6_models/resample_delaney_cur_final_model_bea38745-8e24-43ab-99f3-55a031a0cbcc.tar.gz\n",
            "xgb gamma: 1, xgb learning rate: 0.15, valid_r2: 0.20408784995580775\n",
            "\n"
          ],
          "name": "stdout"
        },
        {
          "output_type": "stream",
          "text": [
            "2021-04-28 01:01:24,583 Previous dataset split restored\n"
          ],
          "name": "stderr"
        },
        {
          "output_type": "stream",
          "text": [
            "TIMING: dataset construction took 0.348 s\n",
            "Loading dataset from disk.\n"
          ],
          "name": "stdout"
        },
        {
          "output_type": "stream",
          "text": [
            "/usr/local/lib/python3.7/site-packages/atomsci/ddm/pipeline/transformations.py:225: RuntimeWarning: invalid value encountered in true_divide\n",
            "  X = np.nan_to_num((X - self.X_means) * X_weight / self.X_stds)\n"
          ],
          "name": "stderr"
        },
        {
          "output_type": "stream",
          "text": [
            "TIMING: dataset construction took 0.318 s\n",
            "Loading dataset from disk.\n",
            "TIMING: dataset construction took 0.051 s\n",
            "Loading dataset from disk.\n",
            "TIMING: dataset construction took 0.046 s\n",
            "Loading dataset from disk.\n",
            "TIMING: dataset construction took 0.053 s\n",
            "Loading dataset from disk.\n",
            "TIMING: dataset construction took 0.048 s\n",
            "Loading dataset from disk.\n",
            "[01:02:50] WARNING: /workspace/src/objective/regression_obj.cu:152: reg:linear is now deprecated in favor of reg:squarederror.\n",
            "[01:02:54] WARNING: /workspace/src/objective/regression_obj.cu:152: reg:linear is now deprecated in favor of reg:squarederror.\n"
          ],
          "name": "stdout"
        },
        {
          "output_type": "stream",
          "text": [
            "2021-04-28 01:02:57,726 Wrote model metadata to file /content/drive/MyDrive/Columbia_E4511/resample_CYP2D6_models/resample_delaney_cur_final/xgboost_computed_descriptors_scaffold_regression/f016a500-bfa6-4719-adf8-8f3f427286a0/model_metadata.json\n",
            "2021-04-28 01:02:57,750 Wrote model metrics to file /content/drive/MyDrive/Columbia_E4511/resample_CYP2D6_models/resample_delaney_cur_final/xgboost_computed_descriptors_scaffold_regression/f016a500-bfa6-4719-adf8-8f3f427286a0/model_metrics.json\n"
          ],
          "name": "stderr"
        },
        {
          "output_type": "stream",
          "text": [
            "Wrote model tarball to /content/drive/MyDrive/Columbia_E4511/resample_CYP2D6_models/resample_delaney_cur_final_model_f016a500-bfa6-4719-adf8-8f3f427286a0.tar.gz\n",
            "xgb gamma: 1, xgb learning rate: 0.1, valid_r2: 0.22604893743574628\n",
            "\n"
          ],
          "name": "stdout"
        },
        {
          "output_type": "stream",
          "text": [
            "2021-04-28 01:03:00,036 Previous dataset split restored\n"
          ],
          "name": "stderr"
        },
        {
          "output_type": "stream",
          "text": [
            "TIMING: dataset construction took 0.363 s\n",
            "Loading dataset from disk.\n"
          ],
          "name": "stdout"
        },
        {
          "output_type": "stream",
          "text": [
            "/usr/local/lib/python3.7/site-packages/atomsci/ddm/pipeline/transformations.py:225: RuntimeWarning: invalid value encountered in true_divide\n",
            "  X = np.nan_to_num((X - self.X_means) * X_weight / self.X_stds)\n"
          ],
          "name": "stderr"
        },
        {
          "output_type": "stream",
          "text": [
            "TIMING: dataset construction took 0.328 s\n",
            "Loading dataset from disk.\n",
            "TIMING: dataset construction took 0.049 s\n",
            "Loading dataset from disk.\n",
            "TIMING: dataset construction took 0.043 s\n",
            "Loading dataset from disk.\n",
            "TIMING: dataset construction took 0.047 s\n",
            "Loading dataset from disk.\n",
            "TIMING: dataset construction took 0.048 s\n",
            "Loading dataset from disk.\n",
            "[01:04:25] WARNING: /workspace/src/objective/regression_obj.cu:152: reg:linear is now deprecated in favor of reg:squarederror.\n",
            "[01:04:30] WARNING: /workspace/src/objective/regression_obj.cu:152: reg:linear is now deprecated in favor of reg:squarederror.\n"
          ],
          "name": "stdout"
        },
        {
          "output_type": "stream",
          "text": [
            "2021-04-28 01:04:36,999 Wrote model metadata to file /content/drive/MyDrive/Columbia_E4511/resample_CYP2D6_models/resample_delaney_cur_final/xgboost_computed_descriptors_scaffold_regression/25e08b4c-930a-4b2b-b22f-e6bbd1aa02ea/model_metadata.json\n",
            "2021-04-28 01:04:37,053 Wrote model metrics to file /content/drive/MyDrive/Columbia_E4511/resample_CYP2D6_models/resample_delaney_cur_final/xgboost_computed_descriptors_scaffold_regression/25e08b4c-930a-4b2b-b22f-e6bbd1aa02ea/model_metrics.json\n"
          ],
          "name": "stderr"
        },
        {
          "output_type": "stream",
          "text": [
            "Wrote model tarball to /content/drive/MyDrive/Columbia_E4511/resample_CYP2D6_models/resample_delaney_cur_final_model_25e08b4c-930a-4b2b-b22f-e6bbd1aa02ea.tar.gz\n",
            "xgb gamma: 1, xgb learning rate: 0.05, valid_r2: 0.236984993779918\n",
            "\n"
          ],
          "name": "stdout"
        },
        {
          "output_type": "stream",
          "text": [
            "2021-04-28 01:04:39,336 Previous dataset split restored\n"
          ],
          "name": "stderr"
        },
        {
          "output_type": "stream",
          "text": [
            "TIMING: dataset construction took 0.334 s\n",
            "Loading dataset from disk.\n"
          ],
          "name": "stdout"
        },
        {
          "output_type": "stream",
          "text": [
            "/usr/local/lib/python3.7/site-packages/atomsci/ddm/pipeline/transformations.py:225: RuntimeWarning: invalid value encountered in true_divide\n",
            "  X = np.nan_to_num((X - self.X_means) * X_weight / self.X_stds)\n"
          ],
          "name": "stderr"
        },
        {
          "output_type": "stream",
          "text": [
            "TIMING: dataset construction took 0.315 s\n",
            "Loading dataset from disk.\n",
            "TIMING: dataset construction took 0.049 s\n",
            "Loading dataset from disk.\n",
            "TIMING: dataset construction took 0.045 s\n",
            "Loading dataset from disk.\n",
            "TIMING: dataset construction took 0.048 s\n",
            "Loading dataset from disk.\n",
            "TIMING: dataset construction took 0.042 s\n",
            "Loading dataset from disk.\n",
            "[01:06:04] WARNING: /workspace/src/objective/regression_obj.cu:152: reg:linear is now deprecated in favor of reg:squarederror.\n",
            "[01:06:09] WARNING: /workspace/src/objective/regression_obj.cu:152: reg:linear is now deprecated in favor of reg:squarederror.\n"
          ],
          "name": "stdout"
        },
        {
          "output_type": "stream",
          "text": [
            "2021-04-28 01:06:16,167 Wrote model metadata to file /content/drive/MyDrive/Columbia_E4511/resample_CYP2D6_models/resample_delaney_cur_final/xgboost_computed_descriptors_scaffold_regression/8a09c00e-8e1f-411e-9936-b0faf9027d3b/model_metadata.json\n",
            "2021-04-28 01:06:16,199 Wrote model metrics to file /content/drive/MyDrive/Columbia_E4511/resample_CYP2D6_models/resample_delaney_cur_final/xgboost_computed_descriptors_scaffold_regression/8a09c00e-8e1f-411e-9936-b0faf9027d3b/model_metrics.json\n"
          ],
          "name": "stderr"
        },
        {
          "output_type": "stream",
          "text": [
            "Wrote model tarball to /content/drive/MyDrive/Columbia_E4511/resample_CYP2D6_models/resample_delaney_cur_final_model_8a09c00e-8e1f-411e-9936-b0faf9027d3b.tar.gz\n",
            "xgb gamma: 1, xgb learning rate: 0.01, valid_r2: 0.06977350227467072\n",
            "\n"
          ],
          "name": "stdout"
        },
        {
          "output_type": "stream",
          "text": [
            "2021-04-28 01:06:18,512 Previous dataset split restored\n"
          ],
          "name": "stderr"
        },
        {
          "output_type": "stream",
          "text": [
            "TIMING: dataset construction took 0.345 s\n",
            "Loading dataset from disk.\n"
          ],
          "name": "stdout"
        },
        {
          "output_type": "stream",
          "text": [
            "/usr/local/lib/python3.7/site-packages/atomsci/ddm/pipeline/transformations.py:225: RuntimeWarning: invalid value encountered in true_divide\n",
            "  X = np.nan_to_num((X - self.X_means) * X_weight / self.X_stds)\n"
          ],
          "name": "stderr"
        },
        {
          "output_type": "stream",
          "text": [
            "TIMING: dataset construction took 0.324 s\n",
            "Loading dataset from disk.\n",
            "TIMING: dataset construction took 0.050 s\n",
            "Loading dataset from disk.\n",
            "TIMING: dataset construction took 0.043 s\n",
            "Loading dataset from disk.\n",
            "TIMING: dataset construction took 0.052 s\n",
            "Loading dataset from disk.\n",
            "TIMING: dataset construction took 0.048 s\n",
            "Loading dataset from disk.\n",
            "[01:07:44] WARNING: /workspace/src/objective/regression_obj.cu:152: reg:linear is now deprecated in favor of reg:squarederror.\n",
            "[01:07:48] WARNING: /workspace/src/objective/regression_obj.cu:152: reg:linear is now deprecated in favor of reg:squarederror.\n"
          ],
          "name": "stdout"
        },
        {
          "output_type": "stream",
          "text": [
            "2021-04-28 01:07:55,366 Wrote model metadata to file /content/drive/MyDrive/Columbia_E4511/resample_CYP2D6_models/resample_delaney_cur_final/xgboost_computed_descriptors_scaffold_regression/72983d33-2b0e-46b1-81af-fafafb48e158/model_metadata.json\n",
            "2021-04-28 01:07:55,397 Wrote model metrics to file /content/drive/MyDrive/Columbia_E4511/resample_CYP2D6_models/resample_delaney_cur_final/xgboost_computed_descriptors_scaffold_regression/72983d33-2b0e-46b1-81af-fafafb48e158/model_metrics.json\n"
          ],
          "name": "stderr"
        },
        {
          "output_type": "stream",
          "text": [
            "Wrote model tarball to /content/drive/MyDrive/Columbia_E4511/resample_CYP2D6_models/resample_delaney_cur_final_model_72983d33-2b0e-46b1-81af-fafafb48e158.tar.gz\n",
            "xgb gamma: 1, xgb learning rate: 0.001, valid_r2: -0.4418067033216493\n",
            "\n"
          ],
          "name": "stdout"
        },
        {
          "output_type": "stream",
          "text": [
            "2021-04-28 01:07:57,672 Previous dataset split restored\n"
          ],
          "name": "stderr"
        },
        {
          "output_type": "stream",
          "text": [
            "TIMING: dataset construction took 0.348 s\n",
            "Loading dataset from disk.\n"
          ],
          "name": "stdout"
        },
        {
          "output_type": "stream",
          "text": [
            "/usr/local/lib/python3.7/site-packages/atomsci/ddm/pipeline/transformations.py:225: RuntimeWarning: invalid value encountered in true_divide\n",
            "  X = np.nan_to_num((X - self.X_means) * X_weight / self.X_stds)\n"
          ],
          "name": "stderr"
        },
        {
          "output_type": "stream",
          "text": [
            "TIMING: dataset construction took 0.319 s\n",
            "Loading dataset from disk.\n",
            "TIMING: dataset construction took 0.049 s\n",
            "Loading dataset from disk.\n",
            "TIMING: dataset construction took 0.042 s\n",
            "Loading dataset from disk.\n",
            "TIMING: dataset construction took 0.048 s\n",
            "Loading dataset from disk.\n",
            "TIMING: dataset construction took 0.052 s\n",
            "Loading dataset from disk.\n",
            "[01:09:27] WARNING: /workspace/src/objective/regression_obj.cu:152: reg:linear is now deprecated in favor of reg:squarederror.\n",
            "[01:09:32] WARNING: /workspace/src/objective/regression_obj.cu:152: reg:linear is now deprecated in favor of reg:squarederror.\n"
          ],
          "name": "stdout"
        },
        {
          "output_type": "stream",
          "text": [
            "2021-04-28 01:09:39,589 Wrote model metadata to file /content/drive/MyDrive/Columbia_E4511/resample_CYP2D6_models/resample_delaney_cur_final/xgboost_computed_descriptors_scaffold_regression/1caaa034-a4cb-4ff4-9a10-3cb3221fd979/model_metadata.json\n",
            "2021-04-28 01:09:39,619 Wrote model metrics to file /content/drive/MyDrive/Columbia_E4511/resample_CYP2D6_models/resample_delaney_cur_final/xgboost_computed_descriptors_scaffold_regression/1caaa034-a4cb-4ff4-9a10-3cb3221fd979/model_metrics.json\n"
          ],
          "name": "stderr"
        },
        {
          "output_type": "stream",
          "text": [
            "Wrote model tarball to /content/drive/MyDrive/Columbia_E4511/resample_CYP2D6_models/resample_delaney_cur_final_model_1caaa034-a4cb-4ff4-9a10-3cb3221fd979.tar.gz\n",
            "xgb gamma: 1, xgb learning rate: 0.0001, valid_r2: -0.5460062297306101\n",
            "\n"
          ],
          "name": "stdout"
        },
        {
          "output_type": "stream",
          "text": [
            "2021-04-28 01:09:41,898 Previous dataset split restored\n"
          ],
          "name": "stderr"
        },
        {
          "output_type": "stream",
          "text": [
            "TIMING: dataset construction took 0.337 s\n",
            "Loading dataset from disk.\n"
          ],
          "name": "stdout"
        },
        {
          "output_type": "stream",
          "text": [
            "/usr/local/lib/python3.7/site-packages/atomsci/ddm/pipeline/transformations.py:225: RuntimeWarning: invalid value encountered in true_divide\n",
            "  X = np.nan_to_num((X - self.X_means) * X_weight / self.X_stds)\n"
          ],
          "name": "stderr"
        },
        {
          "output_type": "stream",
          "text": [
            "TIMING: dataset construction took 0.328 s\n",
            "Loading dataset from disk.\n",
            "TIMING: dataset construction took 0.047 s\n",
            "Loading dataset from disk.\n",
            "TIMING: dataset construction took 0.044 s\n",
            "Loading dataset from disk.\n",
            "TIMING: dataset construction took 0.051 s\n",
            "Loading dataset from disk.\n",
            "TIMING: dataset construction took 0.047 s\n",
            "Loading dataset from disk.\n",
            "[01:11:06] WARNING: /workspace/src/objective/regression_obj.cu:152: reg:linear is now deprecated in favor of reg:squarederror.\n",
            "[01:11:12] WARNING: /workspace/src/objective/regression_obj.cu:152: reg:linear is now deprecated in favor of reg:squarederror.\n"
          ],
          "name": "stdout"
        },
        {
          "output_type": "stream",
          "text": [
            "2021-04-28 01:11:15,640 Wrote model metadata to file /content/drive/MyDrive/Columbia_E4511/resample_CYP2D6_models/resample_delaney_cur_final/xgboost_computed_descriptors_scaffold_regression/fe8ea617-d409-4dd1-ac7c-831516a1e753/model_metadata.json\n",
            "2021-04-28 01:11:15,666 Wrote model metrics to file /content/drive/MyDrive/Columbia_E4511/resample_CYP2D6_models/resample_delaney_cur_final/xgboost_computed_descriptors_scaffold_regression/fe8ea617-d409-4dd1-ac7c-831516a1e753/model_metrics.json\n"
          ],
          "name": "stderr"
        },
        {
          "output_type": "stream",
          "text": [
            "Wrote model tarball to /content/drive/MyDrive/Columbia_E4511/resample_CYP2D6_models/resample_delaney_cur_final_model_fe8ea617-d409-4dd1-ac7c-831516a1e753.tar.gz\n",
            "xgb gamma: 2, xgb learning rate: 0.25, valid_r2: 0.20992959828845847\n",
            "\n"
          ],
          "name": "stdout"
        },
        {
          "output_type": "stream",
          "text": [
            "2021-04-28 01:11:17,962 Previous dataset split restored\n"
          ],
          "name": "stderr"
        },
        {
          "output_type": "stream",
          "text": [
            "TIMING: dataset construction took 0.345 s\n",
            "Loading dataset from disk.\n"
          ],
          "name": "stdout"
        },
        {
          "output_type": "stream",
          "text": [
            "/usr/local/lib/python3.7/site-packages/atomsci/ddm/pipeline/transformations.py:225: RuntimeWarning: invalid value encountered in true_divide\n",
            "  X = np.nan_to_num((X - self.X_means) * X_weight / self.X_stds)\n"
          ],
          "name": "stderr"
        },
        {
          "output_type": "stream",
          "text": [
            "TIMING: dataset construction took 0.330 s\n",
            "Loading dataset from disk.\n",
            "TIMING: dataset construction took 0.047 s\n",
            "Loading dataset from disk.\n",
            "TIMING: dataset construction took 0.043 s\n",
            "Loading dataset from disk.\n",
            "TIMING: dataset construction took 0.051 s\n",
            "Loading dataset from disk.\n",
            "TIMING: dataset construction took 0.047 s\n",
            "Loading dataset from disk.\n",
            "[01:12:43] WARNING: /workspace/src/objective/regression_obj.cu:152: reg:linear is now deprecated in favor of reg:squarederror.\n",
            "[01:12:50] WARNING: /workspace/src/objective/regression_obj.cu:152: reg:linear is now deprecated in favor of reg:squarederror.\n"
          ],
          "name": "stdout"
        },
        {
          "output_type": "stream",
          "text": [
            "2021-04-28 01:12:55,038 Wrote model metadata to file /content/drive/MyDrive/Columbia_E4511/resample_CYP2D6_models/resample_delaney_cur_final/xgboost_computed_descriptors_scaffold_regression/c09136fd-7a81-481a-aa74-7ac0261c7732/model_metadata.json\n",
            "2021-04-28 01:12:55,066 Wrote model metrics to file /content/drive/MyDrive/Columbia_E4511/resample_CYP2D6_models/resample_delaney_cur_final/xgboost_computed_descriptors_scaffold_regression/c09136fd-7a81-481a-aa74-7ac0261c7732/model_metrics.json\n"
          ],
          "name": "stderr"
        },
        {
          "output_type": "stream",
          "text": [
            "Wrote model tarball to /content/drive/MyDrive/Columbia_E4511/resample_CYP2D6_models/resample_delaney_cur_final_model_c09136fd-7a81-481a-aa74-7ac0261c7732.tar.gz\n",
            "xgb gamma: 2, xgb learning rate: 0.2, valid_r2: 0.2646603113764514\n",
            "\n"
          ],
          "name": "stdout"
        },
        {
          "output_type": "stream",
          "text": [
            "2021-04-28 01:12:57,421 Previous dataset split restored\n"
          ],
          "name": "stderr"
        },
        {
          "output_type": "stream",
          "text": [
            "TIMING: dataset construction took 0.346 s\n",
            "Loading dataset from disk.\n"
          ],
          "name": "stdout"
        },
        {
          "output_type": "stream",
          "text": [
            "/usr/local/lib/python3.7/site-packages/atomsci/ddm/pipeline/transformations.py:225: RuntimeWarning: invalid value encountered in true_divide\n",
            "  X = np.nan_to_num((X - self.X_means) * X_weight / self.X_stds)\n"
          ],
          "name": "stderr"
        },
        {
          "output_type": "stream",
          "text": [
            "TIMING: dataset construction took 0.325 s\n",
            "Loading dataset from disk.\n",
            "TIMING: dataset construction took 0.048 s\n",
            "Loading dataset from disk.\n",
            "TIMING: dataset construction took 0.042 s\n",
            "Loading dataset from disk.\n",
            "TIMING: dataset construction took 0.050 s\n",
            "Loading dataset from disk.\n",
            "TIMING: dataset construction took 0.045 s\n",
            "Loading dataset from disk.\n",
            "[01:14:22] WARNING: /workspace/src/objective/regression_obj.cu:152: reg:linear is now deprecated in favor of reg:squarederror.\n",
            "[01:14:29] WARNING: /workspace/src/objective/regression_obj.cu:152: reg:linear is now deprecated in favor of reg:squarederror.\n"
          ],
          "name": "stdout"
        },
        {
          "output_type": "stream",
          "text": [
            "2021-04-28 01:14:34,212 Wrote model metadata to file /content/drive/MyDrive/Columbia_E4511/resample_CYP2D6_models/resample_delaney_cur_final/xgboost_computed_descriptors_scaffold_regression/d7c46102-d700-4e92-b37e-3f31620b20c6/model_metadata.json\n",
            "2021-04-28 01:14:34,240 Wrote model metrics to file /content/drive/MyDrive/Columbia_E4511/resample_CYP2D6_models/resample_delaney_cur_final/xgboost_computed_descriptors_scaffold_regression/d7c46102-d700-4e92-b37e-3f31620b20c6/model_metrics.json\n"
          ],
          "name": "stderr"
        },
        {
          "output_type": "stream",
          "text": [
            "Wrote model tarball to /content/drive/MyDrive/Columbia_E4511/resample_CYP2D6_models/resample_delaney_cur_final_model_d7c46102-d700-4e92-b37e-3f31620b20c6.tar.gz\n",
            "xgb gamma: 2, xgb learning rate: 0.15, valid_r2: 0.18903633074276194\n",
            "\n"
          ],
          "name": "stdout"
        },
        {
          "output_type": "stream",
          "text": [
            "2021-04-28 01:14:36,672 Previous dataset split restored\n"
          ],
          "name": "stderr"
        },
        {
          "output_type": "stream",
          "text": [
            "TIMING: dataset construction took 0.339 s\n",
            "Loading dataset from disk.\n"
          ],
          "name": "stdout"
        },
        {
          "output_type": "stream",
          "text": [
            "/usr/local/lib/python3.7/site-packages/atomsci/ddm/pipeline/transformations.py:225: RuntimeWarning: invalid value encountered in true_divide\n",
            "  X = np.nan_to_num((X - self.X_means) * X_weight / self.X_stds)\n"
          ],
          "name": "stderr"
        },
        {
          "output_type": "stream",
          "text": [
            "TIMING: dataset construction took 0.325 s\n",
            "Loading dataset from disk.\n",
            "TIMING: dataset construction took 0.046 s\n",
            "Loading dataset from disk.\n",
            "TIMING: dataset construction took 0.043 s\n",
            "Loading dataset from disk.\n",
            "TIMING: dataset construction took 0.048 s\n",
            "Loading dataset from disk.\n",
            "TIMING: dataset construction took 0.047 s\n",
            "Loading dataset from disk.\n",
            "[01:16:02] WARNING: /workspace/src/objective/regression_obj.cu:152: reg:linear is now deprecated in favor of reg:squarederror.\n",
            "[01:16:10] WARNING: /workspace/src/objective/regression_obj.cu:152: reg:linear is now deprecated in favor of reg:squarederror.\n"
          ],
          "name": "stdout"
        },
        {
          "output_type": "stream",
          "text": [
            "2021-04-28 01:16:19,023 Wrote model metadata to file /content/drive/MyDrive/Columbia_E4511/resample_CYP2D6_models/resample_delaney_cur_final/xgboost_computed_descriptors_scaffold_regression/7a21e33a-acbc-4820-b34f-351879503bc9/model_metadata.json\n",
            "2021-04-28 01:16:19,053 Wrote model metrics to file /content/drive/MyDrive/Columbia_E4511/resample_CYP2D6_models/resample_delaney_cur_final/xgboost_computed_descriptors_scaffold_regression/7a21e33a-acbc-4820-b34f-351879503bc9/model_metrics.json\n"
          ],
          "name": "stderr"
        },
        {
          "output_type": "stream",
          "text": [
            "Wrote model tarball to /content/drive/MyDrive/Columbia_E4511/resample_CYP2D6_models/resample_delaney_cur_final_model_7a21e33a-acbc-4820-b34f-351879503bc9.tar.gz\n",
            "xgb gamma: 2, xgb learning rate: 0.1, valid_r2: 0.24710990663621446\n",
            "\n"
          ],
          "name": "stdout"
        },
        {
          "output_type": "stream",
          "text": [
            "2021-04-28 01:16:21,363 Previous dataset split restored\n"
          ],
          "name": "stderr"
        },
        {
          "output_type": "stream",
          "text": [
            "TIMING: dataset construction took 0.358 s\n",
            "Loading dataset from disk.\n"
          ],
          "name": "stdout"
        },
        {
          "output_type": "stream",
          "text": [
            "/usr/local/lib/python3.7/site-packages/atomsci/ddm/pipeline/transformations.py:225: RuntimeWarning: invalid value encountered in true_divide\n",
            "  X = np.nan_to_num((X - self.X_means) * X_weight / self.X_stds)\n"
          ],
          "name": "stderr"
        },
        {
          "output_type": "stream",
          "text": [
            "TIMING: dataset construction took 0.342 s\n",
            "Loading dataset from disk.\n",
            "TIMING: dataset construction took 0.053 s\n",
            "Loading dataset from disk.\n",
            "TIMING: dataset construction took 0.045 s\n",
            "Loading dataset from disk.\n",
            "TIMING: dataset construction took 0.048 s\n",
            "Loading dataset from disk.\n",
            "TIMING: dataset construction took 0.048 s\n",
            "Loading dataset from disk.\n",
            "[01:17:46] WARNING: /workspace/src/objective/regression_obj.cu:152: reg:linear is now deprecated in favor of reg:squarederror.\n",
            "[01:17:54] WARNING: /workspace/src/objective/regression_obj.cu:152: reg:linear is now deprecated in favor of reg:squarederror.\n"
          ],
          "name": "stdout"
        },
        {
          "output_type": "stream",
          "text": [
            "2021-04-28 01:18:04,454 Wrote model metadata to file /content/drive/MyDrive/Columbia_E4511/resample_CYP2D6_models/resample_delaney_cur_final/xgboost_computed_descriptors_scaffold_regression/5a7c93a4-9a8b-4f71-8e48-a7419bae1265/model_metadata.json\n",
            "2021-04-28 01:18:04,505 Wrote model metrics to file /content/drive/MyDrive/Columbia_E4511/resample_CYP2D6_models/resample_delaney_cur_final/xgboost_computed_descriptors_scaffold_regression/5a7c93a4-9a8b-4f71-8e48-a7419bae1265/model_metrics.json\n"
          ],
          "name": "stderr"
        },
        {
          "output_type": "stream",
          "text": [
            "Wrote model tarball to /content/drive/MyDrive/Columbia_E4511/resample_CYP2D6_models/resample_delaney_cur_final_model_5a7c93a4-9a8b-4f71-8e48-a7419bae1265.tar.gz\n",
            "xgb gamma: 2, xgb learning rate: 0.05, valid_r2: 0.20326728612565248\n",
            "\n"
          ],
          "name": "stdout"
        },
        {
          "output_type": "stream",
          "text": [
            "2021-04-28 01:18:06,837 Previous dataset split restored\n"
          ],
          "name": "stderr"
        },
        {
          "output_type": "stream",
          "text": [
            "TIMING: dataset construction took 0.340 s\n",
            "Loading dataset from disk.\n"
          ],
          "name": "stdout"
        },
        {
          "output_type": "stream",
          "text": [
            "/usr/local/lib/python3.7/site-packages/atomsci/ddm/pipeline/transformations.py:225: RuntimeWarning: invalid value encountered in true_divide\n",
            "  X = np.nan_to_num((X - self.X_means) * X_weight / self.X_stds)\n"
          ],
          "name": "stderr"
        },
        {
          "output_type": "stream",
          "text": [
            "TIMING: dataset construction took 0.330 s\n",
            "Loading dataset from disk.\n",
            "TIMING: dataset construction took 0.051 s\n",
            "Loading dataset from disk.\n",
            "TIMING: dataset construction took 0.044 s\n",
            "Loading dataset from disk.\n",
            "TIMING: dataset construction took 0.048 s\n",
            "Loading dataset from disk.\n",
            "TIMING: dataset construction took 0.045 s\n",
            "Loading dataset from disk.\n",
            "[01:19:31] WARNING: /workspace/src/objective/regression_obj.cu:152: reg:linear is now deprecated in favor of reg:squarederror.\n",
            "[01:19:38] WARNING: /workspace/src/objective/regression_obj.cu:152: reg:linear is now deprecated in favor of reg:squarederror.\n"
          ],
          "name": "stdout"
        },
        {
          "output_type": "stream",
          "text": [
            "2021-04-28 01:19:49,491 Wrote model metadata to file /content/drive/MyDrive/Columbia_E4511/resample_CYP2D6_models/resample_delaney_cur_final/xgboost_computed_descriptors_scaffold_regression/4fed998d-a189-46b7-99b9-98f502c92451/model_metadata.json\n",
            "2021-04-28 01:19:49,526 Wrote model metrics to file /content/drive/MyDrive/Columbia_E4511/resample_CYP2D6_models/resample_delaney_cur_final/xgboost_computed_descriptors_scaffold_regression/4fed998d-a189-46b7-99b9-98f502c92451/model_metrics.json\n"
          ],
          "name": "stderr"
        },
        {
          "output_type": "stream",
          "text": [
            "Wrote model tarball to /content/drive/MyDrive/Columbia_E4511/resample_CYP2D6_models/resample_delaney_cur_final_model_4fed998d-a189-46b7-99b9-98f502c92451.tar.gz\n",
            "xgb gamma: 2, xgb learning rate: 0.01, valid_r2: 0.04676226101254055\n",
            "\n"
          ],
          "name": "stdout"
        },
        {
          "output_type": "stream",
          "text": [
            "2021-04-28 01:19:51,816 Previous dataset split restored\n"
          ],
          "name": "stderr"
        },
        {
          "output_type": "stream",
          "text": [
            "TIMING: dataset construction took 0.356 s\n",
            "Loading dataset from disk.\n"
          ],
          "name": "stdout"
        },
        {
          "output_type": "stream",
          "text": [
            "/usr/local/lib/python3.7/site-packages/atomsci/ddm/pipeline/transformations.py:225: RuntimeWarning: invalid value encountered in true_divide\n",
            "  X = np.nan_to_num((X - self.X_means) * X_weight / self.X_stds)\n"
          ],
          "name": "stderr"
        },
        {
          "output_type": "stream",
          "text": [
            "TIMING: dataset construction took 0.312 s\n",
            "Loading dataset from disk.\n",
            "TIMING: dataset construction took 0.056 s\n",
            "Loading dataset from disk.\n",
            "TIMING: dataset construction took 0.047 s\n",
            "Loading dataset from disk.\n",
            "TIMING: dataset construction took 0.051 s\n",
            "Loading dataset from disk.\n",
            "TIMING: dataset construction took 0.047 s\n",
            "Loading dataset from disk.\n",
            "[01:21:16] WARNING: /workspace/src/objective/regression_obj.cu:152: reg:linear is now deprecated in favor of reg:squarederror.\n",
            "[01:21:23] WARNING: /workspace/src/objective/regression_obj.cu:152: reg:linear is now deprecated in favor of reg:squarederror.\n"
          ],
          "name": "stdout"
        },
        {
          "output_type": "stream",
          "text": [
            "2021-04-28 01:21:33,629 Wrote model metadata to file /content/drive/MyDrive/Columbia_E4511/resample_CYP2D6_models/resample_delaney_cur_final/xgboost_computed_descriptors_scaffold_regression/cf54df1d-5e87-480d-955d-1a747933e2eb/model_metadata.json\n",
            "2021-04-28 01:21:33,658 Wrote model metrics to file /content/drive/MyDrive/Columbia_E4511/resample_CYP2D6_models/resample_delaney_cur_final/xgboost_computed_descriptors_scaffold_regression/cf54df1d-5e87-480d-955d-1a747933e2eb/model_metrics.json\n"
          ],
          "name": "stderr"
        },
        {
          "output_type": "stream",
          "text": [
            "Wrote model tarball to /content/drive/MyDrive/Columbia_E4511/resample_CYP2D6_models/resample_delaney_cur_final_model_cf54df1d-5e87-480d-955d-1a747933e2eb.tar.gz\n",
            "xgb gamma: 2, xgb learning rate: 0.001, valid_r2: -0.4527556250696134\n",
            "\n"
          ],
          "name": "stdout"
        },
        {
          "output_type": "stream",
          "text": [
            "2021-04-28 01:21:35,941 Previous dataset split restored\n"
          ],
          "name": "stderr"
        },
        {
          "output_type": "stream",
          "text": [
            "TIMING: dataset construction took 0.349 s\n",
            "Loading dataset from disk.\n"
          ],
          "name": "stdout"
        },
        {
          "output_type": "stream",
          "text": [
            "/usr/local/lib/python3.7/site-packages/atomsci/ddm/pipeline/transformations.py:225: RuntimeWarning: invalid value encountered in true_divide\n",
            "  X = np.nan_to_num((X - self.X_means) * X_weight / self.X_stds)\n"
          ],
          "name": "stderr"
        },
        {
          "output_type": "stream",
          "text": [
            "TIMING: dataset construction took 0.314 s\n",
            "Loading dataset from disk.\n",
            "TIMING: dataset construction took 0.048 s\n",
            "Loading dataset from disk.\n",
            "TIMING: dataset construction took 0.044 s\n",
            "Loading dataset from disk.\n",
            "TIMING: dataset construction took 0.052 s\n",
            "Loading dataset from disk.\n",
            "TIMING: dataset construction took 0.044 s\n",
            "Loading dataset from disk.\n",
            "[01:23:00] WARNING: /workspace/src/objective/regression_obj.cu:152: reg:linear is now deprecated in favor of reg:squarederror.\n",
            "[01:23:07] WARNING: /workspace/src/objective/regression_obj.cu:152: reg:linear is now deprecated in favor of reg:squarederror.\n"
          ],
          "name": "stdout"
        },
        {
          "output_type": "stream",
          "text": [
            "2021-04-28 01:23:17,619 Wrote model metadata to file /content/drive/MyDrive/Columbia_E4511/resample_CYP2D6_models/resample_delaney_cur_final/xgboost_computed_descriptors_scaffold_regression/f7b2eae4-dd43-4513-b0b5-034f88fcc685/model_metadata.json\n",
            "2021-04-28 01:23:17,651 Wrote model metrics to file /content/drive/MyDrive/Columbia_E4511/resample_CYP2D6_models/resample_delaney_cur_final/xgboost_computed_descriptors_scaffold_regression/f7b2eae4-dd43-4513-b0b5-034f88fcc685/model_metrics.json\n"
          ],
          "name": "stderr"
        },
        {
          "output_type": "stream",
          "text": [
            "Wrote model tarball to /content/drive/MyDrive/Columbia_E4511/resample_CYP2D6_models/resample_delaney_cur_final_model_f7b2eae4-dd43-4513-b0b5-034f88fcc685.tar.gz\n",
            "xgb gamma: 2, xgb learning rate: 0.0001, valid_r2: -0.5472393523019203\n",
            "\n"
          ],
          "name": "stdout"
        },
        {
          "output_type": "stream",
          "text": [
            "2021-04-28 01:23:19,917 Previous dataset split restored\n"
          ],
          "name": "stderr"
        },
        {
          "output_type": "stream",
          "text": [
            "TIMING: dataset construction took 0.341 s\n",
            "Loading dataset from disk.\n"
          ],
          "name": "stdout"
        },
        {
          "output_type": "stream",
          "text": [
            "/usr/local/lib/python3.7/site-packages/atomsci/ddm/pipeline/transformations.py:225: RuntimeWarning: invalid value encountered in true_divide\n",
            "  X = np.nan_to_num((X - self.X_means) * X_weight / self.X_stds)\n"
          ],
          "name": "stderr"
        },
        {
          "output_type": "stream",
          "text": [
            "TIMING: dataset construction took 0.329 s\n",
            "Loading dataset from disk.\n",
            "TIMING: dataset construction took 0.049 s\n",
            "Loading dataset from disk.\n",
            "TIMING: dataset construction took 0.046 s\n",
            "Loading dataset from disk.\n",
            "TIMING: dataset construction took 0.048 s\n",
            "Loading dataset from disk.\n",
            "TIMING: dataset construction took 0.045 s\n",
            "Loading dataset from disk.\n",
            "[01:24:44] WARNING: /workspace/src/objective/regression_obj.cu:152: reg:linear is now deprecated in favor of reg:squarederror.\n",
            "[01:24:49] WARNING: /workspace/src/objective/regression_obj.cu:152: reg:linear is now deprecated in favor of reg:squarederror.\n"
          ],
          "name": "stdout"
        },
        {
          "output_type": "stream",
          "text": [
            "2021-04-28 01:24:52,735 Wrote model metadata to file /content/drive/MyDrive/Columbia_E4511/resample_CYP2D6_models/resample_delaney_cur_final/xgboost_computed_descriptors_scaffold_regression/a0f809dd-55af-4dab-8a69-1d9dab4df514/model_metadata.json\n",
            "2021-04-28 01:24:52,759 Wrote model metrics to file /content/drive/MyDrive/Columbia_E4511/resample_CYP2D6_models/resample_delaney_cur_final/xgboost_computed_descriptors_scaffold_regression/a0f809dd-55af-4dab-8a69-1d9dab4df514/model_metrics.json\n"
          ],
          "name": "stderr"
        },
        {
          "output_type": "stream",
          "text": [
            "Wrote model tarball to /content/drive/MyDrive/Columbia_E4511/resample_CYP2D6_models/resample_delaney_cur_final_model_a0f809dd-55af-4dab-8a69-1d9dab4df514.tar.gz\n",
            "xgb gamma: 4, xgb learning rate: 0.25, valid_r2: 0.18230173954874895\n",
            "\n"
          ],
          "name": "stdout"
        },
        {
          "output_type": "stream",
          "text": [
            "2021-04-28 01:24:55,050 Previous dataset split restored\n"
          ],
          "name": "stderr"
        },
        {
          "output_type": "stream",
          "text": [
            "TIMING: dataset construction took 0.344 s\n",
            "Loading dataset from disk.\n"
          ],
          "name": "stdout"
        },
        {
          "output_type": "stream",
          "text": [
            "/usr/local/lib/python3.7/site-packages/atomsci/ddm/pipeline/transformations.py:225: RuntimeWarning: invalid value encountered in true_divide\n",
            "  X = np.nan_to_num((X - self.X_means) * X_weight / self.X_stds)\n"
          ],
          "name": "stderr"
        },
        {
          "output_type": "stream",
          "text": [
            "TIMING: dataset construction took 0.320 s\n",
            "Loading dataset from disk.\n",
            "TIMING: dataset construction took 0.049 s\n",
            "Loading dataset from disk.\n",
            "TIMING: dataset construction took 0.043 s\n",
            "Loading dataset from disk.\n",
            "TIMING: dataset construction took 0.049 s\n",
            "Loading dataset from disk.\n",
            "TIMING: dataset construction took 0.044 s\n",
            "Loading dataset from disk.\n",
            "[01:26:19] WARNING: /workspace/src/objective/regression_obj.cu:152: reg:linear is now deprecated in favor of reg:squarederror.\n",
            "[01:26:24] WARNING: /workspace/src/objective/regression_obj.cu:152: reg:linear is now deprecated in favor of reg:squarederror.\n"
          ],
          "name": "stdout"
        },
        {
          "output_type": "stream",
          "text": [
            "2021-04-28 01:26:26,526 Wrote model metadata to file /content/drive/MyDrive/Columbia_E4511/resample_CYP2D6_models/resample_delaney_cur_final/xgboost_computed_descriptors_scaffold_regression/9b1692c6-467d-4c78-a4d5-f798403c206e/model_metadata.json\n",
            "2021-04-28 01:26:26,547 Wrote model metrics to file /content/drive/MyDrive/Columbia_E4511/resample_CYP2D6_models/resample_delaney_cur_final/xgboost_computed_descriptors_scaffold_regression/9b1692c6-467d-4c78-a4d5-f798403c206e/model_metrics.json\n"
          ],
          "name": "stderr"
        },
        {
          "output_type": "stream",
          "text": [
            "Wrote model tarball to /content/drive/MyDrive/Columbia_E4511/resample_CYP2D6_models/resample_delaney_cur_final_model_9b1692c6-467d-4c78-a4d5-f798403c206e.tar.gz\n",
            "xgb gamma: 4, xgb learning rate: 0.2, valid_r2: 0.21227400154564102\n",
            "\n"
          ],
          "name": "stdout"
        },
        {
          "output_type": "stream",
          "text": [
            "2021-04-28 01:26:28,884 Previous dataset split restored\n"
          ],
          "name": "stderr"
        },
        {
          "output_type": "stream",
          "text": [
            "TIMING: dataset construction took 0.366 s\n",
            "Loading dataset from disk.\n"
          ],
          "name": "stdout"
        },
        {
          "output_type": "stream",
          "text": [
            "/usr/local/lib/python3.7/site-packages/atomsci/ddm/pipeline/transformations.py:225: RuntimeWarning: invalid value encountered in true_divide\n",
            "  X = np.nan_to_num((X - self.X_means) * X_weight / self.X_stds)\n"
          ],
          "name": "stderr"
        },
        {
          "output_type": "stream",
          "text": [
            "TIMING: dataset construction took 0.324 s\n",
            "Loading dataset from disk.\n",
            "TIMING: dataset construction took 0.049 s\n",
            "Loading dataset from disk.\n",
            "TIMING: dataset construction took 0.044 s\n",
            "Loading dataset from disk.\n",
            "TIMING: dataset construction took 0.048 s\n",
            "Loading dataset from disk.\n",
            "TIMING: dataset construction took 0.041 s\n",
            "Loading dataset from disk.\n",
            "[01:27:53] WARNING: /workspace/src/objective/regression_obj.cu:152: reg:linear is now deprecated in favor of reg:squarederror.\n",
            "[01:27:57] WARNING: /workspace/src/objective/regression_obj.cu:152: reg:linear is now deprecated in favor of reg:squarederror.\n"
          ],
          "name": "stdout"
        },
        {
          "output_type": "stream",
          "text": [
            "2021-04-28 01:27:59,418 Wrote model metadata to file /content/drive/MyDrive/Columbia_E4511/resample_CYP2D6_models/resample_delaney_cur_final/xgboost_computed_descriptors_scaffold_regression/9ae275f9-8c81-4a28-96ad-55f7688ed6a6/model_metadata.json\n",
            "2021-04-28 01:27:59,443 Wrote model metrics to file /content/drive/MyDrive/Columbia_E4511/resample_CYP2D6_models/resample_delaney_cur_final/xgboost_computed_descriptors_scaffold_regression/9ae275f9-8c81-4a28-96ad-55f7688ed6a6/model_metrics.json\n"
          ],
          "name": "stderr"
        },
        {
          "output_type": "stream",
          "text": [
            "Wrote model tarball to /content/drive/MyDrive/Columbia_E4511/resample_CYP2D6_models/resample_delaney_cur_final_model_9ae275f9-8c81-4a28-96ad-55f7688ed6a6.tar.gz\n",
            "xgb gamma: 4, xgb learning rate: 0.15, valid_r2: 0.17545134320280742\n",
            "\n"
          ],
          "name": "stdout"
        },
        {
          "output_type": "stream",
          "text": [
            "2021-04-28 01:28:01,742 Previous dataset split restored\n"
          ],
          "name": "stderr"
        },
        {
          "output_type": "stream",
          "text": [
            "TIMING: dataset construction took 0.341 s\n",
            "Loading dataset from disk.\n"
          ],
          "name": "stdout"
        },
        {
          "output_type": "stream",
          "text": [
            "/usr/local/lib/python3.7/site-packages/atomsci/ddm/pipeline/transformations.py:225: RuntimeWarning: invalid value encountered in true_divide\n",
            "  X = np.nan_to_num((X - self.X_means) * X_weight / self.X_stds)\n"
          ],
          "name": "stderr"
        },
        {
          "output_type": "stream",
          "text": [
            "TIMING: dataset construction took 0.315 s\n",
            "Loading dataset from disk.\n",
            "TIMING: dataset construction took 0.050 s\n",
            "Loading dataset from disk.\n",
            "TIMING: dataset construction took 0.043 s\n",
            "Loading dataset from disk.\n",
            "TIMING: dataset construction took 0.049 s\n",
            "Loading dataset from disk.\n",
            "TIMING: dataset construction took 0.046 s\n",
            "Loading dataset from disk.\n",
            "[01:29:26] WARNING: /workspace/src/objective/regression_obj.cu:152: reg:linear is now deprecated in favor of reg:squarederror.\n",
            "[01:29:32] WARNING: /workspace/src/objective/regression_obj.cu:152: reg:linear is now deprecated in favor of reg:squarederror.\n"
          ],
          "name": "stdout"
        },
        {
          "output_type": "stream",
          "text": [
            "2021-04-28 01:29:38,649 Wrote model metadata to file /content/drive/MyDrive/Columbia_E4511/resample_CYP2D6_models/resample_delaney_cur_final/xgboost_computed_descriptors_scaffold_regression/e360adb9-987f-40ee-b9f6-05a45e4b6b02/model_metadata.json\n",
            "2021-04-28 01:29:38,677 Wrote model metrics to file /content/drive/MyDrive/Columbia_E4511/resample_CYP2D6_models/resample_delaney_cur_final/xgboost_computed_descriptors_scaffold_regression/e360adb9-987f-40ee-b9f6-05a45e4b6b02/model_metrics.json\n"
          ],
          "name": "stderr"
        },
        {
          "output_type": "stream",
          "text": [
            "Wrote model tarball to /content/drive/MyDrive/Columbia_E4511/resample_CYP2D6_models/resample_delaney_cur_final_model_e360adb9-987f-40ee-b9f6-05a45e4b6b02.tar.gz\n",
            "xgb gamma: 4, xgb learning rate: 0.1, valid_r2: 0.21677732972127628\n",
            "\n"
          ],
          "name": "stdout"
        },
        {
          "output_type": "stream",
          "text": [
            "2021-04-28 01:29:41,078 Previous dataset split restored\n"
          ],
          "name": "stderr"
        },
        {
          "output_type": "stream",
          "text": [
            "TIMING: dataset construction took 0.337 s\n",
            "Loading dataset from disk.\n"
          ],
          "name": "stdout"
        },
        {
          "output_type": "stream",
          "text": [
            "/usr/local/lib/python3.7/site-packages/atomsci/ddm/pipeline/transformations.py:225: RuntimeWarning: invalid value encountered in true_divide\n",
            "  X = np.nan_to_num((X - self.X_means) * X_weight / self.X_stds)\n"
          ],
          "name": "stderr"
        },
        {
          "output_type": "stream",
          "text": [
            "TIMING: dataset construction took 0.313 s\n",
            "Loading dataset from disk.\n",
            "TIMING: dataset construction took 0.049 s\n",
            "Loading dataset from disk.\n",
            "TIMING: dataset construction took 0.043 s\n",
            "Loading dataset from disk.\n",
            "TIMING: dataset construction took 0.046 s\n",
            "Loading dataset from disk.\n",
            "TIMING: dataset construction took 0.044 s\n",
            "Loading dataset from disk.\n",
            "[01:31:06] WARNING: /workspace/src/objective/regression_obj.cu:152: reg:linear is now deprecated in favor of reg:squarederror.\n",
            "[01:31:12] WARNING: /workspace/src/objective/regression_obj.cu:152: reg:linear is now deprecated in favor of reg:squarederror.\n"
          ],
          "name": "stdout"
        },
        {
          "output_type": "stream",
          "text": [
            "2021-04-28 01:31:21,714 Wrote model metadata to file /content/drive/MyDrive/Columbia_E4511/resample_CYP2D6_models/resample_delaney_cur_final/xgboost_computed_descriptors_scaffold_regression/1068479a-d550-4424-9012-b0d652049b3a/model_metadata.json\n",
            "2021-04-28 01:31:21,747 Wrote model metrics to file /content/drive/MyDrive/Columbia_E4511/resample_CYP2D6_models/resample_delaney_cur_final/xgboost_computed_descriptors_scaffold_regression/1068479a-d550-4424-9012-b0d652049b3a/model_metrics.json\n"
          ],
          "name": "stderr"
        },
        {
          "output_type": "stream",
          "text": [
            "Wrote model tarball to /content/drive/MyDrive/Columbia_E4511/resample_CYP2D6_models/resample_delaney_cur_final_model_1068479a-d550-4424-9012-b0d652049b3a.tar.gz\n",
            "xgb gamma: 4, xgb learning rate: 0.05, valid_r2: 0.24000150163239076\n",
            "\n"
          ],
          "name": "stdout"
        },
        {
          "output_type": "stream",
          "text": [
            "2021-04-28 01:31:24,062 Previous dataset split restored\n"
          ],
          "name": "stderr"
        },
        {
          "output_type": "stream",
          "text": [
            "TIMING: dataset construction took 0.357 s\n",
            "Loading dataset from disk.\n"
          ],
          "name": "stdout"
        },
        {
          "output_type": "stream",
          "text": [
            "/usr/local/lib/python3.7/site-packages/atomsci/ddm/pipeline/transformations.py:225: RuntimeWarning: invalid value encountered in true_divide\n",
            "  X = np.nan_to_num((X - self.X_means) * X_weight / self.X_stds)\n"
          ],
          "name": "stderr"
        },
        {
          "output_type": "stream",
          "text": [
            "TIMING: dataset construction took 0.323 s\n",
            "Loading dataset from disk.\n",
            "TIMING: dataset construction took 0.049 s\n",
            "Loading dataset from disk.\n",
            "TIMING: dataset construction took 0.045 s\n",
            "Loading dataset from disk.\n",
            "TIMING: dataset construction took 0.049 s\n",
            "Loading dataset from disk.\n",
            "TIMING: dataset construction took 0.044 s\n",
            "Loading dataset from disk.\n",
            "[01:32:48] WARNING: /workspace/src/objective/regression_obj.cu:152: reg:linear is now deprecated in favor of reg:squarederror.\n",
            "[01:32:54] WARNING: /workspace/src/objective/regression_obj.cu:152: reg:linear is now deprecated in favor of reg:squarederror.\n"
          ],
          "name": "stdout"
        },
        {
          "output_type": "stream",
          "text": [
            "2021-04-28 01:33:03,775 Wrote model metadata to file /content/drive/MyDrive/Columbia_E4511/resample_CYP2D6_models/resample_delaney_cur_final/xgboost_computed_descriptors_scaffold_regression/8929a49c-30b2-4e50-a429-5499fb99163a/model_metadata.json\n",
            "2021-04-28 01:33:03,806 Wrote model metrics to file /content/drive/MyDrive/Columbia_E4511/resample_CYP2D6_models/resample_delaney_cur_final/xgboost_computed_descriptors_scaffold_regression/8929a49c-30b2-4e50-a429-5499fb99163a/model_metrics.json\n"
          ],
          "name": "stderr"
        },
        {
          "output_type": "stream",
          "text": [
            "Wrote model tarball to /content/drive/MyDrive/Columbia_E4511/resample_CYP2D6_models/resample_delaney_cur_final_model_8929a49c-30b2-4e50-a429-5499fb99163a.tar.gz\n",
            "xgb gamma: 4, xgb learning rate: 0.01, valid_r2: 0.06151436125478371\n",
            "\n"
          ],
          "name": "stdout"
        },
        {
          "output_type": "stream",
          "text": [
            "2021-04-28 01:33:06,064 Previous dataset split restored\n"
          ],
          "name": "stderr"
        },
        {
          "output_type": "stream",
          "text": [
            "TIMING: dataset construction took 0.356 s\n",
            "Loading dataset from disk.\n"
          ],
          "name": "stdout"
        },
        {
          "output_type": "stream",
          "text": [
            "/usr/local/lib/python3.7/site-packages/atomsci/ddm/pipeline/transformations.py:225: RuntimeWarning: invalid value encountered in true_divide\n",
            "  X = np.nan_to_num((X - self.X_means) * X_weight / self.X_stds)\n"
          ],
          "name": "stderr"
        },
        {
          "output_type": "stream",
          "text": [
            "TIMING: dataset construction took 0.332 s\n",
            "Loading dataset from disk.\n",
            "TIMING: dataset construction took 0.050 s\n",
            "Loading dataset from disk.\n",
            "TIMING: dataset construction took 0.044 s\n",
            "Loading dataset from disk.\n",
            "TIMING: dataset construction took 0.049 s\n",
            "Loading dataset from disk.\n",
            "TIMING: dataset construction took 0.045 s\n",
            "Loading dataset from disk.\n",
            "[01:34:30] WARNING: /workspace/src/objective/regression_obj.cu:152: reg:linear is now deprecated in favor of reg:squarederror.\n",
            "[01:34:36] WARNING: /workspace/src/objective/regression_obj.cu:152: reg:linear is now deprecated in favor of reg:squarederror.\n"
          ],
          "name": "stdout"
        },
        {
          "output_type": "stream",
          "text": [
            "2021-04-28 01:34:45,406 Wrote model metadata to file /content/drive/MyDrive/Columbia_E4511/resample_CYP2D6_models/resample_delaney_cur_final/xgboost_computed_descriptors_scaffold_regression/857966ec-4b93-4e39-9d19-83f99632e4ea/model_metadata.json\n",
            "2021-04-28 01:34:45,434 Wrote model metrics to file /content/drive/MyDrive/Columbia_E4511/resample_CYP2D6_models/resample_delaney_cur_final/xgboost_computed_descriptors_scaffold_regression/857966ec-4b93-4e39-9d19-83f99632e4ea/model_metrics.json\n"
          ],
          "name": "stderr"
        },
        {
          "output_type": "stream",
          "text": [
            "Wrote model tarball to /content/drive/MyDrive/Columbia_E4511/resample_CYP2D6_models/resample_delaney_cur_final_model_857966ec-4b93-4e39-9d19-83f99632e4ea.tar.gz\n",
            "xgb gamma: 4, xgb learning rate: 0.001, valid_r2: -0.4520066926680397\n",
            "\n"
          ],
          "name": "stdout"
        },
        {
          "output_type": "stream",
          "text": [
            "2021-04-28 01:34:47,724 Previous dataset split restored\n"
          ],
          "name": "stderr"
        },
        {
          "output_type": "stream",
          "text": [
            "TIMING: dataset construction took 0.340 s\n",
            "Loading dataset from disk.\n"
          ],
          "name": "stdout"
        },
        {
          "output_type": "stream",
          "text": [
            "/usr/local/lib/python3.7/site-packages/atomsci/ddm/pipeline/transformations.py:225: RuntimeWarning: invalid value encountered in true_divide\n",
            "  X = np.nan_to_num((X - self.X_means) * X_weight / self.X_stds)\n"
          ],
          "name": "stderr"
        },
        {
          "output_type": "stream",
          "text": [
            "TIMING: dataset construction took 0.321 s\n",
            "Loading dataset from disk.\n",
            "TIMING: dataset construction took 0.048 s\n",
            "Loading dataset from disk.\n",
            "TIMING: dataset construction took 0.045 s\n",
            "Loading dataset from disk.\n",
            "TIMING: dataset construction took 0.049 s\n",
            "Loading dataset from disk.\n",
            "TIMING: dataset construction took 0.049 s\n",
            "Loading dataset from disk.\n",
            "[01:36:11] WARNING: /workspace/src/objective/regression_obj.cu:152: reg:linear is now deprecated in favor of reg:squarederror.\n",
            "[01:36:17] WARNING: /workspace/src/objective/regression_obj.cu:152: reg:linear is now deprecated in favor of reg:squarederror.\n"
          ],
          "name": "stdout"
        },
        {
          "output_type": "stream",
          "text": [
            "2021-04-28 01:36:26,610 Wrote model metadata to file /content/drive/MyDrive/Columbia_E4511/resample_CYP2D6_models/resample_delaney_cur_final/xgboost_computed_descriptors_scaffold_regression/6ffcf1ea-3a73-4fb7-a539-34fbd14c3fa5/model_metadata.json\n",
            "2021-04-28 01:36:26,639 Wrote model metrics to file /content/drive/MyDrive/Columbia_E4511/resample_CYP2D6_models/resample_delaney_cur_final/xgboost_computed_descriptors_scaffold_regression/6ffcf1ea-3a73-4fb7-a539-34fbd14c3fa5/model_metrics.json\n"
          ],
          "name": "stderr"
        },
        {
          "output_type": "stream",
          "text": [
            "Wrote model tarball to /content/drive/MyDrive/Columbia_E4511/resample_CYP2D6_models/resample_delaney_cur_final_model_6ffcf1ea-3a73-4fb7-a539-34fbd14c3fa5.tar.gz\n",
            "xgb gamma: 4, xgb learning rate: 0.0001, valid_r2: -0.5472355936996596\n",
            "\n"
          ],
          "name": "stdout"
        },
        {
          "output_type": "stream",
          "text": [
            "2021-04-28 01:36:28,898 Previous dataset split restored\n"
          ],
          "name": "stderr"
        },
        {
          "output_type": "stream",
          "text": [
            "TIMING: dataset construction took 0.340 s\n",
            "Loading dataset from disk.\n"
          ],
          "name": "stdout"
        },
        {
          "output_type": "stream",
          "text": [
            "/usr/local/lib/python3.7/site-packages/atomsci/ddm/pipeline/transformations.py:225: RuntimeWarning: invalid value encountered in true_divide\n",
            "  X = np.nan_to_num((X - self.X_means) * X_weight / self.X_stds)\n"
          ],
          "name": "stderr"
        },
        {
          "output_type": "stream",
          "text": [
            "TIMING: dataset construction took 0.310 s\n",
            "Loading dataset from disk.\n",
            "TIMING: dataset construction took 0.050 s\n",
            "Loading dataset from disk.\n",
            "TIMING: dataset construction took 0.044 s\n",
            "Loading dataset from disk.\n",
            "TIMING: dataset construction took 0.050 s\n",
            "Loading dataset from disk.\n",
            "TIMING: dataset construction took 0.046 s\n",
            "Loading dataset from disk.\n",
            "[01:37:52] WARNING: /workspace/src/objective/regression_obj.cu:152: reg:linear is now deprecated in favor of reg:squarederror.\n",
            "[01:37:56] WARNING: /workspace/src/objective/regression_obj.cu:152: reg:linear is now deprecated in favor of reg:squarederror.\n"
          ],
          "name": "stdout"
        },
        {
          "output_type": "stream",
          "text": [
            "2021-04-28 01:37:59,685 Wrote model metadata to file /content/drive/MyDrive/Columbia_E4511/resample_CYP2D6_models/resample_delaney_cur_final/xgboost_computed_descriptors_scaffold_regression/3dae1b67-de80-4575-b55d-97a1d595aeb4/model_metadata.json\n",
            "2021-04-28 01:37:59,710 Wrote model metrics to file /content/drive/MyDrive/Columbia_E4511/resample_CYP2D6_models/resample_delaney_cur_final/xgboost_computed_descriptors_scaffold_regression/3dae1b67-de80-4575-b55d-97a1d595aeb4/model_metrics.json\n"
          ],
          "name": "stderr"
        },
        {
          "output_type": "stream",
          "text": [
            "Wrote model tarball to /content/drive/MyDrive/Columbia_E4511/resample_CYP2D6_models/resample_delaney_cur_final_model_3dae1b67-de80-4575-b55d-97a1d595aeb4.tar.gz\n",
            "xgb gamma: 8, xgb learning rate: 0.25, valid_r2: 0.19902640707411767\n",
            "\n"
          ],
          "name": "stdout"
        },
        {
          "output_type": "stream",
          "text": [
            "2021-04-28 01:38:01,993 Previous dataset split restored\n"
          ],
          "name": "stderr"
        },
        {
          "output_type": "stream",
          "text": [
            "TIMING: dataset construction took 0.349 s\n",
            "Loading dataset from disk.\n"
          ],
          "name": "stdout"
        },
        {
          "output_type": "stream",
          "text": [
            "/usr/local/lib/python3.7/site-packages/atomsci/ddm/pipeline/transformations.py:225: RuntimeWarning: invalid value encountered in true_divide\n",
            "  X = np.nan_to_num((X - self.X_means) * X_weight / self.X_stds)\n"
          ],
          "name": "stderr"
        },
        {
          "output_type": "stream",
          "text": [
            "TIMING: dataset construction took 0.316 s\n",
            "Loading dataset from disk.\n",
            "TIMING: dataset construction took 0.049 s\n",
            "Loading dataset from disk.\n",
            "TIMING: dataset construction took 0.046 s\n",
            "Loading dataset from disk.\n",
            "TIMING: dataset construction took 0.048 s\n",
            "Loading dataset from disk.\n",
            "TIMING: dataset construction took 0.045 s\n",
            "Loading dataset from disk.\n",
            "[01:39:26] WARNING: /workspace/src/objective/regression_obj.cu:152: reg:linear is now deprecated in favor of reg:squarederror.\n",
            "[01:39:29] WARNING: /workspace/src/objective/regression_obj.cu:152: reg:linear is now deprecated in favor of reg:squarederror.\n"
          ],
          "name": "stdout"
        },
        {
          "output_type": "stream",
          "text": [
            "2021-04-28 01:39:30,249 Wrote model metadata to file /content/drive/MyDrive/Columbia_E4511/resample_CYP2D6_models/resample_delaney_cur_final/xgboost_computed_descriptors_scaffold_regression/89a51196-a52d-41dc-b8e2-497183929daf/model_metadata.json\n",
            "2021-04-28 01:39:30,294 Wrote model metrics to file /content/drive/MyDrive/Columbia_E4511/resample_CYP2D6_models/resample_delaney_cur_final/xgboost_computed_descriptors_scaffold_regression/89a51196-a52d-41dc-b8e2-497183929daf/model_metrics.json\n"
          ],
          "name": "stderr"
        },
        {
          "output_type": "stream",
          "text": [
            "Wrote model tarball to /content/drive/MyDrive/Columbia_E4511/resample_CYP2D6_models/resample_delaney_cur_final_model_89a51196-a52d-41dc-b8e2-497183929daf.tar.gz\n",
            "xgb gamma: 8, xgb learning rate: 0.2, valid_r2: 0.23795716110019816\n",
            "\n"
          ],
          "name": "stdout"
        },
        {
          "output_type": "stream",
          "text": [
            "2021-04-28 01:39:32,572 Previous dataset split restored\n"
          ],
          "name": "stderr"
        },
        {
          "output_type": "stream",
          "text": [
            "TIMING: dataset construction took 0.347 s\n",
            "Loading dataset from disk.\n"
          ],
          "name": "stdout"
        },
        {
          "output_type": "stream",
          "text": [
            "/usr/local/lib/python3.7/site-packages/atomsci/ddm/pipeline/transformations.py:225: RuntimeWarning: invalid value encountered in true_divide\n",
            "  X = np.nan_to_num((X - self.X_means) * X_weight / self.X_stds)\n"
          ],
          "name": "stderr"
        },
        {
          "output_type": "stream",
          "text": [
            "TIMING: dataset construction took 0.321 s\n",
            "Loading dataset from disk.\n",
            "TIMING: dataset construction took 0.050 s\n",
            "Loading dataset from disk.\n",
            "TIMING: dataset construction took 0.045 s\n",
            "Loading dataset from disk.\n",
            "TIMING: dataset construction took 0.046 s\n",
            "Loading dataset from disk.\n",
            "TIMING: dataset construction took 0.044 s\n",
            "Loading dataset from disk.\n",
            "[01:40:56] WARNING: /workspace/src/objective/regression_obj.cu:152: reg:linear is now deprecated in favor of reg:squarederror.\n",
            "[01:41:00] WARNING: /workspace/src/objective/regression_obj.cu:152: reg:linear is now deprecated in favor of reg:squarederror.\n"
          ],
          "name": "stdout"
        },
        {
          "output_type": "stream",
          "text": [
            "2021-04-28 01:41:03,364 Wrote model metadata to file /content/drive/MyDrive/Columbia_E4511/resample_CYP2D6_models/resample_delaney_cur_final/xgboost_computed_descriptors_scaffold_regression/ebecbe96-3741-452f-8b54-ceb5f104adb4/model_metadata.json\n",
            "2021-04-28 01:41:03,387 Wrote model metrics to file /content/drive/MyDrive/Columbia_E4511/resample_CYP2D6_models/resample_delaney_cur_final/xgboost_computed_descriptors_scaffold_regression/ebecbe96-3741-452f-8b54-ceb5f104adb4/model_metrics.json\n"
          ],
          "name": "stderr"
        },
        {
          "output_type": "stream",
          "text": [
            "Wrote model tarball to /content/drive/MyDrive/Columbia_E4511/resample_CYP2D6_models/resample_delaney_cur_final_model_ebecbe96-3741-452f-8b54-ceb5f104adb4.tar.gz\n",
            "xgb gamma: 8, xgb learning rate: 0.15, valid_r2: 0.19125396721209198\n",
            "\n"
          ],
          "name": "stdout"
        },
        {
          "output_type": "stream",
          "text": [
            "2021-04-28 01:41:05,625 Previous dataset split restored\n"
          ],
          "name": "stderr"
        },
        {
          "output_type": "stream",
          "text": [
            "TIMING: dataset construction took 0.338 s\n",
            "Loading dataset from disk.\n"
          ],
          "name": "stdout"
        },
        {
          "output_type": "stream",
          "text": [
            "/usr/local/lib/python3.7/site-packages/atomsci/ddm/pipeline/transformations.py:225: RuntimeWarning: invalid value encountered in true_divide\n",
            "  X = np.nan_to_num((X - self.X_means) * X_weight / self.X_stds)\n"
          ],
          "name": "stderr"
        },
        {
          "output_type": "stream",
          "text": [
            "TIMING: dataset construction took 0.321 s\n",
            "Loading dataset from disk.\n",
            "TIMING: dataset construction took 0.049 s\n",
            "Loading dataset from disk.\n",
            "TIMING: dataset construction took 0.045 s\n",
            "Loading dataset from disk.\n",
            "TIMING: dataset construction took 0.046 s\n",
            "Loading dataset from disk.\n",
            "TIMING: dataset construction took 0.042 s\n",
            "Loading dataset from disk.\n",
            "[01:42:31] WARNING: /workspace/src/objective/regression_obj.cu:152: reg:linear is now deprecated in favor of reg:squarederror.\n",
            "[01:42:36] WARNING: /workspace/src/objective/regression_obj.cu:152: reg:linear is now deprecated in favor of reg:squarederror.\n"
          ],
          "name": "stdout"
        },
        {
          "output_type": "stream",
          "text": [
            "2021-04-28 01:42:41,939 Wrote model metadata to file /content/drive/MyDrive/Columbia_E4511/resample_CYP2D6_models/resample_delaney_cur_final/xgboost_computed_descriptors_scaffold_regression/4288b20d-31be-4071-9fe4-8f99107eb66d/model_metadata.json\n",
            "2021-04-28 01:42:41,966 Wrote model metrics to file /content/drive/MyDrive/Columbia_E4511/resample_CYP2D6_models/resample_delaney_cur_final/xgboost_computed_descriptors_scaffold_regression/4288b20d-31be-4071-9fe4-8f99107eb66d/model_metrics.json\n"
          ],
          "name": "stderr"
        },
        {
          "output_type": "stream",
          "text": [
            "Wrote model tarball to /content/drive/MyDrive/Columbia_E4511/resample_CYP2D6_models/resample_delaney_cur_final_model_4288b20d-31be-4071-9fe4-8f99107eb66d.tar.gz\n",
            "xgb gamma: 8, xgb learning rate: 0.1, valid_r2: 0.24897616424943592\n",
            "\n"
          ],
          "name": "stdout"
        },
        {
          "output_type": "stream",
          "text": [
            "2021-04-28 01:42:44,414 Previous dataset split restored\n"
          ],
          "name": "stderr"
        },
        {
          "output_type": "stream",
          "text": [
            "TIMING: dataset construction took 0.378 s\n",
            "Loading dataset from disk.\n"
          ],
          "name": "stdout"
        },
        {
          "output_type": "stream",
          "text": [
            "/usr/local/lib/python3.7/site-packages/atomsci/ddm/pipeline/transformations.py:225: RuntimeWarning: invalid value encountered in true_divide\n",
            "  X = np.nan_to_num((X - self.X_means) * X_weight / self.X_stds)\n"
          ],
          "name": "stderr"
        },
        {
          "output_type": "stream",
          "text": [
            "TIMING: dataset construction took 0.345 s\n",
            "Loading dataset from disk.\n",
            "TIMING: dataset construction took 0.051 s\n",
            "Loading dataset from disk.\n",
            "TIMING: dataset construction took 0.051 s\n",
            "Loading dataset from disk.\n",
            "TIMING: dataset construction took 0.050 s\n",
            "Loading dataset from disk.\n",
            "TIMING: dataset construction took 0.048 s\n",
            "Loading dataset from disk.\n",
            "[01:44:11] WARNING: /workspace/src/objective/regression_obj.cu:152: reg:linear is now deprecated in favor of reg:squarederror.\n",
            "[01:44:15] WARNING: /workspace/src/objective/regression_obj.cu:152: reg:linear is now deprecated in favor of reg:squarederror.\n"
          ],
          "name": "stdout"
        },
        {
          "output_type": "stream",
          "text": [
            "2021-04-28 01:44:20,662 Wrote model metadata to file /content/drive/MyDrive/Columbia_E4511/resample_CYP2D6_models/resample_delaney_cur_final/xgboost_computed_descriptors_scaffold_regression/8ae0ecd4-b505-4853-bf52-e045d389b31e/model_metadata.json\n",
            "2021-04-28 01:44:20,689 Wrote model metrics to file /content/drive/MyDrive/Columbia_E4511/resample_CYP2D6_models/resample_delaney_cur_final/xgboost_computed_descriptors_scaffold_regression/8ae0ecd4-b505-4853-bf52-e045d389b31e/model_metrics.json\n"
          ],
          "name": "stderr"
        },
        {
          "output_type": "stream",
          "text": [
            "Wrote model tarball to /content/drive/MyDrive/Columbia_E4511/resample_CYP2D6_models/resample_delaney_cur_final_model_8ae0ecd4-b505-4853-bf52-e045d389b31e.tar.gz\n",
            "xgb gamma: 8, xgb learning rate: 0.05, valid_r2: 0.20040418421465878\n",
            "\n"
          ],
          "name": "stdout"
        },
        {
          "output_type": "stream",
          "text": [
            "2021-04-28 01:44:23,170 Previous dataset split restored\n"
          ],
          "name": "stderr"
        },
        {
          "output_type": "stream",
          "text": [
            "TIMING: dataset construction took 0.364 s\n",
            "Loading dataset from disk.\n"
          ],
          "name": "stdout"
        },
        {
          "output_type": "stream",
          "text": [
            "/usr/local/lib/python3.7/site-packages/atomsci/ddm/pipeline/transformations.py:225: RuntimeWarning: invalid value encountered in true_divide\n",
            "  X = np.nan_to_num((X - self.X_means) * X_weight / self.X_stds)\n"
          ],
          "name": "stderr"
        },
        {
          "output_type": "stream",
          "text": [
            "TIMING: dataset construction took 0.331 s\n",
            "Loading dataset from disk.\n",
            "TIMING: dataset construction took 0.051 s\n",
            "Loading dataset from disk.\n",
            "TIMING: dataset construction took 0.044 s\n",
            "Loading dataset from disk.\n",
            "TIMING: dataset construction took 0.048 s\n",
            "Loading dataset from disk.\n",
            "TIMING: dataset construction took 0.046 s\n",
            "Loading dataset from disk.\n",
            "[01:45:49] WARNING: /workspace/src/objective/regression_obj.cu:152: reg:linear is now deprecated in favor of reg:squarederror.\n",
            "[01:45:53] WARNING: /workspace/src/objective/regression_obj.cu:152: reg:linear is now deprecated in favor of reg:squarederror.\n"
          ],
          "name": "stdout"
        },
        {
          "output_type": "stream",
          "text": [
            "2021-04-28 01:45:58,961 Wrote model metadata to file /content/drive/MyDrive/Columbia_E4511/resample_CYP2D6_models/resample_delaney_cur_final/xgboost_computed_descriptors_scaffold_regression/3f94c229-0fe9-404d-9cce-9817a59a7d84/model_metadata.json\n",
            "2021-04-28 01:45:58,988 Wrote model metrics to file /content/drive/MyDrive/Columbia_E4511/resample_CYP2D6_models/resample_delaney_cur_final/xgboost_computed_descriptors_scaffold_regression/3f94c229-0fe9-404d-9cce-9817a59a7d84/model_metrics.json\n"
          ],
          "name": "stderr"
        },
        {
          "output_type": "stream",
          "text": [
            "Wrote model tarball to /content/drive/MyDrive/Columbia_E4511/resample_CYP2D6_models/resample_delaney_cur_final_model_3f94c229-0fe9-404d-9cce-9817a59a7d84.tar.gz\n",
            "xgb gamma: 8, xgb learning rate: 0.01, valid_r2: 0.05391232218653097\n",
            "\n"
          ],
          "name": "stdout"
        },
        {
          "output_type": "stream",
          "text": [
            "2021-04-28 01:46:01,320 Previous dataset split restored\n"
          ],
          "name": "stderr"
        },
        {
          "output_type": "stream",
          "text": [
            "TIMING: dataset construction took 0.362 s\n",
            "Loading dataset from disk.\n"
          ],
          "name": "stdout"
        },
        {
          "output_type": "stream",
          "text": [
            "/usr/local/lib/python3.7/site-packages/atomsci/ddm/pipeline/transformations.py:225: RuntimeWarning: invalid value encountered in true_divide\n",
            "  X = np.nan_to_num((X - self.X_means) * X_weight / self.X_stds)\n"
          ],
          "name": "stderr"
        },
        {
          "output_type": "stream",
          "text": [
            "TIMING: dataset construction took 0.331 s\n",
            "Loading dataset from disk.\n",
            "TIMING: dataset construction took 0.051 s\n",
            "Loading dataset from disk.\n",
            "TIMING: dataset construction took 0.045 s\n",
            "Loading dataset from disk.\n",
            "TIMING: dataset construction took 0.048 s\n",
            "Loading dataset from disk.\n",
            "TIMING: dataset construction took 0.049 s\n",
            "Loading dataset from disk.\n",
            "[01:47:29] WARNING: /workspace/src/objective/regression_obj.cu:152: reg:linear is now deprecated in favor of reg:squarederror.\n",
            "[01:47:33] WARNING: /workspace/src/objective/regression_obj.cu:152: reg:linear is now deprecated in favor of reg:squarederror.\n"
          ],
          "name": "stdout"
        },
        {
          "output_type": "stream",
          "text": [
            "2021-04-28 01:47:38,856 Wrote model metadata to file /content/drive/MyDrive/Columbia_E4511/resample_CYP2D6_models/resample_delaney_cur_final/xgboost_computed_descriptors_scaffold_regression/441bd1fb-318f-4092-b247-df159bc0fd7a/model_metadata.json\n",
            "2021-04-28 01:47:38,889 Wrote model metrics to file /content/drive/MyDrive/Columbia_E4511/resample_CYP2D6_models/resample_delaney_cur_final/xgboost_computed_descriptors_scaffold_regression/441bd1fb-318f-4092-b247-df159bc0fd7a/model_metrics.json\n"
          ],
          "name": "stderr"
        },
        {
          "output_type": "stream",
          "text": [
            "Wrote model tarball to /content/drive/MyDrive/Columbia_E4511/resample_CYP2D6_models/resample_delaney_cur_final_model_441bd1fb-318f-4092-b247-df159bc0fd7a.tar.gz\n",
            "xgb gamma: 8, xgb learning rate: 0.001, valid_r2: -0.4472975494446181\n",
            "\n"
          ],
          "name": "stdout"
        },
        {
          "output_type": "stream",
          "text": [
            "2021-04-28 01:47:41,235 Previous dataset split restored\n"
          ],
          "name": "stderr"
        },
        {
          "output_type": "stream",
          "text": [
            "TIMING: dataset construction took 0.355 s\n",
            "Loading dataset from disk.\n"
          ],
          "name": "stdout"
        },
        {
          "output_type": "stream",
          "text": [
            "/usr/local/lib/python3.7/site-packages/atomsci/ddm/pipeline/transformations.py:225: RuntimeWarning: invalid value encountered in true_divide\n",
            "  X = np.nan_to_num((X - self.X_means) * X_weight / self.X_stds)\n"
          ],
          "name": "stderr"
        },
        {
          "output_type": "stream",
          "text": [
            "TIMING: dataset construction took 0.338 s\n",
            "Loading dataset from disk.\n",
            "TIMING: dataset construction took 0.052 s\n",
            "Loading dataset from disk.\n",
            "TIMING: dataset construction took 0.046 s\n",
            "Loading dataset from disk.\n",
            "TIMING: dataset construction took 0.050 s\n",
            "Loading dataset from disk.\n",
            "TIMING: dataset construction took 0.051 s\n",
            "Loading dataset from disk.\n",
            "[01:49:08] WARNING: /workspace/src/objective/regression_obj.cu:152: reg:linear is now deprecated in favor of reg:squarederror.\n",
            "[01:49:12] WARNING: /workspace/src/objective/regression_obj.cu:152: reg:linear is now deprecated in favor of reg:squarederror.\n"
          ],
          "name": "stdout"
        },
        {
          "output_type": "stream",
          "text": [
            "2021-04-28 01:49:18,842 Wrote model metadata to file /content/drive/MyDrive/Columbia_E4511/resample_CYP2D6_models/resample_delaney_cur_final/xgboost_computed_descriptors_scaffold_regression/da3fa709-b5fb-4eba-911c-9d8207e7bce5/model_metadata.json\n",
            "2021-04-28 01:49:18,868 Wrote model metrics to file /content/drive/MyDrive/Columbia_E4511/resample_CYP2D6_models/resample_delaney_cur_final/xgboost_computed_descriptors_scaffold_regression/da3fa709-b5fb-4eba-911c-9d8207e7bce5/model_metrics.json\n"
          ],
          "name": "stderr"
        },
        {
          "output_type": "stream",
          "text": [
            "Wrote model tarball to /content/drive/MyDrive/Columbia_E4511/resample_CYP2D6_models/resample_delaney_cur_final_model_da3fa709-b5fb-4eba-911c-9d8207e7bce5.tar.gz\n",
            "xgb gamma: 8, xgb learning rate: 0.0001, valid_r2: -0.5466297577407164\n",
            "\n"
          ],
          "name": "stdout"
        },
        {
          "output_type": "stream",
          "text": [
            "2021-04-28 01:49:21,244 Previous dataset split restored\n"
          ],
          "name": "stderr"
        },
        {
          "output_type": "stream",
          "text": [
            "TIMING: dataset construction took 0.370 s\n",
            "Loading dataset from disk.\n"
          ],
          "name": "stdout"
        },
        {
          "output_type": "stream",
          "text": [
            "/usr/local/lib/python3.7/site-packages/atomsci/ddm/pipeline/transformations.py:225: RuntimeWarning: invalid value encountered in true_divide\n",
            "  X = np.nan_to_num((X - self.X_means) * X_weight / self.X_stds)\n"
          ],
          "name": "stderr"
        },
        {
          "output_type": "stream",
          "text": [
            "TIMING: dataset construction took 0.330 s\n",
            "Loading dataset from disk.\n",
            "TIMING: dataset construction took 0.050 s\n",
            "Loading dataset from disk.\n",
            "TIMING: dataset construction took 0.045 s\n",
            "Loading dataset from disk.\n",
            "TIMING: dataset construction took 0.051 s\n",
            "Loading dataset from disk.\n",
            "TIMING: dataset construction took 0.050 s\n",
            "Loading dataset from disk.\n",
            "[01:50:49] WARNING: /workspace/src/objective/regression_obj.cu:152: reg:linear is now deprecated in favor of reg:squarederror.\n",
            "[01:50:53] WARNING: /workspace/src/objective/regression_obj.cu:152: reg:linear is now deprecated in favor of reg:squarederror.\n"
          ],
          "name": "stdout"
        },
        {
          "output_type": "stream",
          "text": [
            "2021-04-28 01:50:57,325 Wrote model metadata to file /content/drive/MyDrive/Columbia_E4511/resample_CYP2D6_models/resample_delaney_cur_final/xgboost_computed_descriptors_scaffold_regression/f9e70c93-cd77-424a-9b91-69ce666e1eb5/model_metadata.json\n",
            "2021-04-28 01:50:57,350 Wrote model metrics to file /content/drive/MyDrive/Columbia_E4511/resample_CYP2D6_models/resample_delaney_cur_final/xgboost_computed_descriptors_scaffold_regression/f9e70c93-cd77-424a-9b91-69ce666e1eb5/model_metrics.json\n"
          ],
          "name": "stderr"
        },
        {
          "output_type": "stream",
          "text": [
            "Wrote model tarball to /content/drive/MyDrive/Columbia_E4511/resample_CYP2D6_models/resample_delaney_cur_final_model_f9e70c93-cd77-424a-9b91-69ce666e1eb5.tar.gz\n",
            "xgb gamma: 16, xgb learning rate: 0.25, valid_r2: 0.18241168264351704\n",
            "\n"
          ],
          "name": "stdout"
        },
        {
          "output_type": "stream",
          "text": [
            "2021-04-28 01:50:59,758 Previous dataset split restored\n"
          ],
          "name": "stderr"
        },
        {
          "output_type": "stream",
          "text": [
            "TIMING: dataset construction took 0.361 s\n",
            "Loading dataset from disk.\n"
          ],
          "name": "stdout"
        },
        {
          "output_type": "stream",
          "text": [
            "/usr/local/lib/python3.7/site-packages/atomsci/ddm/pipeline/transformations.py:225: RuntimeWarning: invalid value encountered in true_divide\n",
            "  X = np.nan_to_num((X - self.X_means) * X_weight / self.X_stds)\n"
          ],
          "name": "stderr"
        },
        {
          "output_type": "stream",
          "text": [
            "TIMING: dataset construction took 0.334 s\n",
            "Loading dataset from disk.\n",
            "TIMING: dataset construction took 0.055 s\n",
            "Loading dataset from disk.\n",
            "TIMING: dataset construction took 0.047 s\n",
            "Loading dataset from disk.\n",
            "TIMING: dataset construction took 0.051 s\n",
            "Loading dataset from disk.\n",
            "TIMING: dataset construction took 0.047 s\n",
            "Loading dataset from disk.\n",
            "[01:52:28] WARNING: /workspace/src/objective/regression_obj.cu:152: reg:linear is now deprecated in favor of reg:squarederror.\n",
            "[01:52:32] WARNING: /workspace/src/objective/regression_obj.cu:152: reg:linear is now deprecated in favor of reg:squarederror.\n"
          ],
          "name": "stdout"
        },
        {
          "output_type": "stream",
          "text": [
            "2021-04-28 01:52:36,659 Wrote model metadata to file /content/drive/MyDrive/Columbia_E4511/resample_CYP2D6_models/resample_delaney_cur_final/xgboost_computed_descriptors_scaffold_regression/7a9380fe-2111-4ccc-9b8a-844486388ba5/model_metadata.json\n",
            "2021-04-28 01:52:36,687 Wrote model metrics to file /content/drive/MyDrive/Columbia_E4511/resample_CYP2D6_models/resample_delaney_cur_final/xgboost_computed_descriptors_scaffold_regression/7a9380fe-2111-4ccc-9b8a-844486388ba5/model_metrics.json\n"
          ],
          "name": "stderr"
        },
        {
          "output_type": "stream",
          "text": [
            "Wrote model tarball to /content/drive/MyDrive/Columbia_E4511/resample_CYP2D6_models/resample_delaney_cur_final_model_7a9380fe-2111-4ccc-9b8a-844486388ba5.tar.gz\n",
            "xgb gamma: 16, xgb learning rate: 0.2, valid_r2: 0.150624435055412\n",
            "\n"
          ],
          "name": "stdout"
        },
        {
          "output_type": "stream",
          "text": [
            "2021-04-28 01:52:39,058 Previous dataset split restored\n"
          ],
          "name": "stderr"
        },
        {
          "output_type": "stream",
          "text": [
            "TIMING: dataset construction took 0.359 s\n",
            "Loading dataset from disk.\n"
          ],
          "name": "stdout"
        },
        {
          "output_type": "stream",
          "text": [
            "/usr/local/lib/python3.7/site-packages/atomsci/ddm/pipeline/transformations.py:225: RuntimeWarning: invalid value encountered in true_divide\n",
            "  X = np.nan_to_num((X - self.X_means) * X_weight / self.X_stds)\n"
          ],
          "name": "stderr"
        },
        {
          "output_type": "stream",
          "text": [
            "TIMING: dataset construction took 0.328 s\n",
            "Loading dataset from disk.\n",
            "TIMING: dataset construction took 0.051 s\n",
            "Loading dataset from disk.\n",
            "TIMING: dataset construction took 0.048 s\n",
            "Loading dataset from disk.\n",
            "TIMING: dataset construction took 0.050 s\n",
            "Loading dataset from disk.\n",
            "TIMING: dataset construction took 0.047 s\n",
            "Loading dataset from disk.\n",
            "[01:54:08] WARNING: /workspace/src/objective/regression_obj.cu:152: reg:linear is now deprecated in favor of reg:squarederror.\n",
            "[01:54:10] WARNING: /workspace/src/objective/regression_obj.cu:152: reg:linear is now deprecated in favor of reg:squarederror.\n"
          ],
          "name": "stdout"
        },
        {
          "output_type": "stream",
          "text": [
            "2021-04-28 01:54:12,177 Wrote model metadata to file /content/drive/MyDrive/Columbia_E4511/resample_CYP2D6_models/resample_delaney_cur_final/xgboost_computed_descriptors_scaffold_regression/69d922b9-4b8f-422a-aa27-326671981ed6/model_metadata.json\n",
            "2021-04-28 01:54:12,200 Wrote model metrics to file /content/drive/MyDrive/Columbia_E4511/resample_CYP2D6_models/resample_delaney_cur_final/xgboost_computed_descriptors_scaffold_regression/69d922b9-4b8f-422a-aa27-326671981ed6/model_metrics.json\n"
          ],
          "name": "stderr"
        },
        {
          "output_type": "stream",
          "text": [
            "Wrote model tarball to /content/drive/MyDrive/Columbia_E4511/resample_CYP2D6_models/resample_delaney_cur_final_model_69d922b9-4b8f-422a-aa27-326671981ed6.tar.gz\n",
            "xgb gamma: 16, xgb learning rate: 0.15, valid_r2: 0.14978582510293703\n",
            "\n"
          ],
          "name": "stdout"
        },
        {
          "output_type": "stream",
          "text": [
            "2021-04-28 01:54:14,551 Previous dataset split restored\n"
          ],
          "name": "stderr"
        },
        {
          "output_type": "stream",
          "text": [
            "TIMING: dataset construction took 0.352 s\n",
            "Loading dataset from disk.\n"
          ],
          "name": "stdout"
        },
        {
          "output_type": "stream",
          "text": [
            "/usr/local/lib/python3.7/site-packages/atomsci/ddm/pipeline/transformations.py:225: RuntimeWarning: invalid value encountered in true_divide\n",
            "  X = np.nan_to_num((X - self.X_means) * X_weight / self.X_stds)\n"
          ],
          "name": "stderr"
        },
        {
          "output_type": "stream",
          "text": [
            "TIMING: dataset construction took 0.337 s\n",
            "Loading dataset from disk.\n",
            "TIMING: dataset construction took 0.051 s\n",
            "Loading dataset from disk.\n",
            "TIMING: dataset construction took 0.049 s\n",
            "Loading dataset from disk.\n",
            "TIMING: dataset construction took 0.049 s\n",
            "Loading dataset from disk.\n",
            "TIMING: dataset construction took 0.047 s\n",
            "Loading dataset from disk.\n",
            "[01:55:43] WARNING: /workspace/src/objective/regression_obj.cu:152: reg:linear is now deprecated in favor of reg:squarederror.\n",
            "[01:55:46] WARNING: /workspace/src/objective/regression_obj.cu:152: reg:linear is now deprecated in favor of reg:squarederror.\n"
          ],
          "name": "stdout"
        },
        {
          "output_type": "stream",
          "text": [
            "2021-04-28 01:55:48,093 Wrote model metadata to file /content/drive/MyDrive/Columbia_E4511/resample_CYP2D6_models/resample_delaney_cur_final/xgboost_computed_descriptors_scaffold_regression/cbcceece-8372-4148-bfbc-ae7c823d2216/model_metadata.json\n",
            "2021-04-28 01:55:48,116 Wrote model metrics to file /content/drive/MyDrive/Columbia_E4511/resample_CYP2D6_models/resample_delaney_cur_final/xgboost_computed_descriptors_scaffold_regression/cbcceece-8372-4148-bfbc-ae7c823d2216/model_metrics.json\n"
          ],
          "name": "stderr"
        },
        {
          "output_type": "stream",
          "text": [
            "Wrote model tarball to /content/drive/MyDrive/Columbia_E4511/resample_CYP2D6_models/resample_delaney_cur_final_model_cbcceece-8372-4148-bfbc-ae7c823d2216.tar.gz\n",
            "xgb gamma: 16, xgb learning rate: 0.1, valid_r2: 0.08269506493448187\n",
            "\n"
          ],
          "name": "stdout"
        },
        {
          "output_type": "stream",
          "text": [
            "2021-04-28 01:55:50,440 Previous dataset split restored\n"
          ],
          "name": "stderr"
        },
        {
          "output_type": "stream",
          "text": [
            "TIMING: dataset construction took 0.353 s\n",
            "Loading dataset from disk.\n"
          ],
          "name": "stdout"
        },
        {
          "output_type": "stream",
          "text": [
            "/usr/local/lib/python3.7/site-packages/atomsci/ddm/pipeline/transformations.py:225: RuntimeWarning: invalid value encountered in true_divide\n",
            "  X = np.nan_to_num((X - self.X_means) * X_weight / self.X_stds)\n"
          ],
          "name": "stderr"
        },
        {
          "output_type": "stream",
          "text": [
            "TIMING: dataset construction took 0.326 s\n",
            "Loading dataset from disk.\n",
            "TIMING: dataset construction took 0.051 s\n",
            "Loading dataset from disk.\n",
            "TIMING: dataset construction took 0.046 s\n",
            "Loading dataset from disk.\n",
            "TIMING: dataset construction took 0.050 s\n",
            "Loading dataset from disk.\n",
            "TIMING: dataset construction took 0.047 s\n",
            "Loading dataset from disk.\n",
            "[01:57:18] WARNING: /workspace/src/objective/regression_obj.cu:152: reg:linear is now deprecated in favor of reg:squarederror.\n",
            "[01:57:22] WARNING: /workspace/src/objective/regression_obj.cu:152: reg:linear is now deprecated in favor of reg:squarederror.\n"
          ],
          "name": "stdout"
        },
        {
          "output_type": "stream",
          "text": [
            "2021-04-28 01:57:25,682 Wrote model metadata to file /content/drive/MyDrive/Columbia_E4511/resample_CYP2D6_models/resample_delaney_cur_final/xgboost_computed_descriptors_scaffold_regression/dd100bf2-ea25-4051-bdfe-e44121c6217b/model_metadata.json\n",
            "2021-04-28 01:57:25,707 Wrote model metrics to file /content/drive/MyDrive/Columbia_E4511/resample_CYP2D6_models/resample_delaney_cur_final/xgboost_computed_descriptors_scaffold_regression/dd100bf2-ea25-4051-bdfe-e44121c6217b/model_metrics.json\n"
          ],
          "name": "stderr"
        },
        {
          "output_type": "stream",
          "text": [
            "Wrote model tarball to /content/drive/MyDrive/Columbia_E4511/resample_CYP2D6_models/resample_delaney_cur_final_model_dd100bf2-ea25-4051-bdfe-e44121c6217b.tar.gz\n",
            "xgb gamma: 16, xgb learning rate: 0.05, valid_r2: 0.12000246354187905\n",
            "\n"
          ],
          "name": "stdout"
        },
        {
          "output_type": "stream",
          "text": [
            "2021-04-28 01:57:28,033 Previous dataset split restored\n"
          ],
          "name": "stderr"
        },
        {
          "output_type": "stream",
          "text": [
            "TIMING: dataset construction took 0.349 s\n",
            "Loading dataset from disk.\n"
          ],
          "name": "stdout"
        },
        {
          "output_type": "stream",
          "text": [
            "/usr/local/lib/python3.7/site-packages/atomsci/ddm/pipeline/transformations.py:225: RuntimeWarning: invalid value encountered in true_divide\n",
            "  X = np.nan_to_num((X - self.X_means) * X_weight / self.X_stds)\n"
          ],
          "name": "stderr"
        },
        {
          "output_type": "stream",
          "text": [
            "TIMING: dataset construction took 0.338 s\n",
            "Loading dataset from disk.\n",
            "TIMING: dataset construction took 0.049 s\n",
            "Loading dataset from disk.\n",
            "TIMING: dataset construction took 0.043 s\n",
            "Loading dataset from disk.\n",
            "TIMING: dataset construction took 0.049 s\n",
            "Loading dataset from disk.\n",
            "TIMING: dataset construction took 0.045 s\n",
            "Loading dataset from disk.\n",
            "[01:58:56] WARNING: /workspace/src/objective/regression_obj.cu:152: reg:linear is now deprecated in favor of reg:squarederror.\n",
            "[01:59:00] WARNING: /workspace/src/objective/regression_obj.cu:152: reg:linear is now deprecated in favor of reg:squarederror.\n"
          ],
          "name": "stdout"
        },
        {
          "output_type": "stream",
          "text": [
            "2021-04-28 01:59:06,451 Wrote model metadata to file /content/drive/MyDrive/Columbia_E4511/resample_CYP2D6_models/resample_delaney_cur_final/xgboost_computed_descriptors_scaffold_regression/c5064d5d-05d6-4b15-8e2e-3744c6b1da37/model_metadata.json\n",
            "2021-04-28 01:59:06,476 Wrote model metrics to file /content/drive/MyDrive/Columbia_E4511/resample_CYP2D6_models/resample_delaney_cur_final/xgboost_computed_descriptors_scaffold_regression/c5064d5d-05d6-4b15-8e2e-3744c6b1da37/model_metrics.json\n"
          ],
          "name": "stderr"
        },
        {
          "output_type": "stream",
          "text": [
            "Wrote model tarball to /content/drive/MyDrive/Columbia_E4511/resample_CYP2D6_models/resample_delaney_cur_final_model_c5064d5d-05d6-4b15-8e2e-3744c6b1da37.tar.gz\n",
            "xgb gamma: 16, xgb learning rate: 0.01, valid_r2: 0.020211769297014626\n",
            "\n"
          ],
          "name": "stdout"
        },
        {
          "output_type": "stream",
          "text": [
            "2021-04-28 01:59:08,956 Previous dataset split restored\n"
          ],
          "name": "stderr"
        },
        {
          "output_type": "stream",
          "text": [
            "TIMING: dataset construction took 0.350 s\n",
            "Loading dataset from disk.\n"
          ],
          "name": "stdout"
        },
        {
          "output_type": "stream",
          "text": [
            "/usr/local/lib/python3.7/site-packages/atomsci/ddm/pipeline/transformations.py:225: RuntimeWarning: invalid value encountered in true_divide\n",
            "  X = np.nan_to_num((X - self.X_means) * X_weight / self.X_stds)\n"
          ],
          "name": "stderr"
        },
        {
          "output_type": "stream",
          "text": [
            "TIMING: dataset construction took 0.332 s\n",
            "Loading dataset from disk.\n",
            "TIMING: dataset construction took 0.050 s\n",
            "Loading dataset from disk.\n",
            "TIMING: dataset construction took 0.045 s\n",
            "Loading dataset from disk.\n",
            "TIMING: dataset construction took 0.050 s\n",
            "Loading dataset from disk.\n",
            "TIMING: dataset construction took 0.050 s\n",
            "Loading dataset from disk.\n",
            "[02:00:37] WARNING: /workspace/src/objective/regression_obj.cu:152: reg:linear is now deprecated in favor of reg:squarederror.\n",
            "[02:00:41] WARNING: /workspace/src/objective/regression_obj.cu:152: reg:linear is now deprecated in favor of reg:squarederror.\n"
          ],
          "name": "stdout"
        },
        {
          "output_type": "stream",
          "text": [
            "2021-04-28 02:00:47,583 Wrote model metadata to file /content/drive/MyDrive/Columbia_E4511/resample_CYP2D6_models/resample_delaney_cur_final/xgboost_computed_descriptors_scaffold_regression/ca5eb736-4574-4e99-9256-7653eb5cdff1/model_metadata.json\n",
            "2021-04-28 02:00:47,633 Wrote model metrics to file /content/drive/MyDrive/Columbia_E4511/resample_CYP2D6_models/resample_delaney_cur_final/xgboost_computed_descriptors_scaffold_regression/ca5eb736-4574-4e99-9256-7653eb5cdff1/model_metrics.json\n"
          ],
          "name": "stderr"
        },
        {
          "output_type": "stream",
          "text": [
            "Wrote model tarball to /content/drive/MyDrive/Columbia_E4511/resample_CYP2D6_models/resample_delaney_cur_final_model_ca5eb736-4574-4e99-9256-7653eb5cdff1.tar.gz\n",
            "xgb gamma: 16, xgb learning rate: 0.001, valid_r2: -0.45401472342689786\n",
            "\n"
          ],
          "name": "stdout"
        },
        {
          "output_type": "stream",
          "text": [
            "2021-04-28 02:00:49,958 Previous dataset split restored\n"
          ],
          "name": "stderr"
        },
        {
          "output_type": "stream",
          "text": [
            "TIMING: dataset construction took 0.353 s\n",
            "Loading dataset from disk.\n"
          ],
          "name": "stdout"
        },
        {
          "output_type": "stream",
          "text": [
            "/usr/local/lib/python3.7/site-packages/atomsci/ddm/pipeline/transformations.py:225: RuntimeWarning: invalid value encountered in true_divide\n",
            "  X = np.nan_to_num((X - self.X_means) * X_weight / self.X_stds)\n"
          ],
          "name": "stderr"
        },
        {
          "output_type": "stream",
          "text": [
            "TIMING: dataset construction took 0.331 s\n",
            "Loading dataset from disk.\n",
            "TIMING: dataset construction took 0.048 s\n",
            "Loading dataset from disk.\n",
            "TIMING: dataset construction took 0.046 s\n",
            "Loading dataset from disk.\n",
            "TIMING: dataset construction took 0.049 s\n",
            "Loading dataset from disk.\n",
            "TIMING: dataset construction took 0.048 s\n",
            "Loading dataset from disk.\n",
            "[02:02:18] WARNING: /workspace/src/objective/regression_obj.cu:152: reg:linear is now deprecated in favor of reg:squarederror.\n",
            "[02:02:22] WARNING: /workspace/src/objective/regression_obj.cu:152: reg:linear is now deprecated in favor of reg:squarederror.\n"
          ],
          "name": "stdout"
        },
        {
          "output_type": "stream",
          "text": [
            "2021-04-28 02:02:27,688 Wrote model metadata to file /content/drive/MyDrive/Columbia_E4511/resample_CYP2D6_models/resample_delaney_cur_final/xgboost_computed_descriptors_scaffold_regression/8da42181-4fdc-49cd-983d-8f3aca9b093f/model_metadata.json\n",
            "2021-04-28 02:02:27,717 Wrote model metrics to file /content/drive/MyDrive/Columbia_E4511/resample_CYP2D6_models/resample_delaney_cur_final/xgboost_computed_descriptors_scaffold_regression/8da42181-4fdc-49cd-983d-8f3aca9b093f/model_metrics.json\n"
          ],
          "name": "stderr"
        },
        {
          "output_type": "stream",
          "text": [
            "Wrote model tarball to /content/drive/MyDrive/Columbia_E4511/resample_CYP2D6_models/resample_delaney_cur_final_model_8da42181-4fdc-49cd-983d-8f3aca9b093f.tar.gz\n",
            "xgb gamma: 16, xgb learning rate: 0.0001, valid_r2: -0.5475976192299654\n",
            "\n"
          ],
          "name": "stdout"
        }
      ]
    },
    {
      "cell_type": "markdown",
      "metadata": {
        "id": "o1rIVfBKCPT5"
      },
      "source": [
        "### Edit some AMPL functions to include xgboost parameters\n",
        "Just run this code once"
      ]
    },
    {
      "cell_type": "code",
      "metadata": {
        "colab": {
          "background_save": true
        },
        "id": "MAiqmPOhCO9m"
      },
      "source": [
        "nan = np.float32('nan')\n",
        "def get_summary_perf_tables(collection_names=None, filter_dict={}, result_dir=None, prediction_type='regression', verbose=False):\n",
        "    \"\"\"\n",
        "    Load model parameters and performance metrics from model tracker for all models saved in the model tracker DB under\n",
        "    the given collection names (or result directory if Model tracker is not available) with the given prediction type. Tabulate the parameters and metrics including:\n",
        "        dataset (assay name, target, parameter, key, bucket)\n",
        "        dataset size (train/valid/test/total)\n",
        "        number of training folds\n",
        "        model type (NN or RF)\n",
        "        featurizer\n",
        "        transformation type\n",
        "        metrics: r2_score, mae_score and rms_score for regression, or ROC AUC for classification\n",
        "\n",
        "    result_dir: use result_dir when the model tracker is not available. Use a list format if you have multiple result direcotries.\n",
        "    \"\"\"\n",
        "    collection_list = []\n",
        "    model_uuid_list = []\n",
        "    time_built_list = []\n",
        "    model_type_list = []\n",
        "    dataset_key_list = []\n",
        "    bucket_list = []\n",
        "    param_list = []\n",
        "    featurizer_list = []\n",
        "    desc_type_list = []\n",
        "    transform_list = []\n",
        "    dset_size_list = []\n",
        "    splitter_list = []\n",
        "    split_strategy_list = []\n",
        "    split_uuid_list = []\n",
        "    rf_estimators_list = []\n",
        "    rf_max_features_list = []\n",
        "    rf_max_depth_list = []\n",
        "    best_epoch_list = []\n",
        "    max_epochs_list = []\n",
        "    learning_rate_list = []\n",
        "    layer_sizes_list = []\n",
        "    dropouts_list = []\n",
        "    xgb_gamma_list = []\n",
        "    xgb_learning_rate_list = []\n",
        "    umap_dim_list = []\n",
        "    umap_targ_wt_list = []\n",
        "    umap_neighbors_list = []\n",
        "    umap_min_dist_list = []\n",
        "    split_uuid_list=[]\n",
        "\n",
        "\n",
        "    if prediction_type == 'regression':\n",
        "        score_types = ['r2_score', 'mae_score', 'rms_score']\n",
        "    else:\n",
        "        # TODO: add more classification metrics later\n",
        "        score_types = ['roc_auc_score', 'prc_auc_score', 'accuracy_score', 'precision', 'recall_score', 'npv', 'matthews_cc']\n",
        "\n",
        "    subsets = ['train', 'valid', 'test']\n",
        "    score_dict = {}\n",
        "    ncmpd_dict = {}\n",
        "    for subset in subsets:\n",
        "        score_dict[subset] = {}\n",
        "        for score_type in score_types:\n",
        "            score_dict[subset][score_type] = []\n",
        "        ncmpd_dict[subset] = []\n",
        "\n",
        "    metadata_list_dict = {}\n",
        "    if result_dir:\n",
        "        if isinstance(result_dir, str):\n",
        "            result_dir = [result_dir]\n",
        "        for rd in result_dir:\n",
        "            if rd not in metadata_list_dict:\n",
        "                metadata_list_dict[rd] = []\n",
        "            for dirpath, dirnames, filenames in os.walk(rd):\n",
        "                if \"model_metadata.json\" in filenames:\n",
        "                    with open(os.path.join(dirpath, 'model_metadata.json')) as f:\n",
        "                        metadata_dict = json.load(f)\n",
        "                    metadata_list_dict[rd].append(metadata_dict)\n",
        "\n",
        "    for ss in metadata_list_dict:\n",
        "        for i, metadata_dict in enumerate(metadata_list_dict[ss]):\n",
        "            if (i % 10 == 0) and verbose:\n",
        "                print('Processing collection %s model %d' % (ss, i))\n",
        "            # Check that model has metrics before we go on\n",
        "            if not 'training_metrics' in metadata_dict:\n",
        "                continue\n",
        "            collection_list.append(ss)\n",
        "            model_uuid = metadata_dict['model_uuid']\n",
        "            model_uuid_list.append(model_uuid)\n",
        "            time_built = metadata_dict['time_built']\n",
        "            time_built_list.append(time_built)\n",
        "\n",
        "            model_params = metadata_dict['model_parameters']\n",
        "            model_type = model_params['model_type']\n",
        "            model_type_list.append(model_type)\n",
        "            featurizer = model_params['featurizer']\n",
        "            featurizer_list.append(featurizer)\n",
        "            if 'descriptor_specific' in metadata_dict:\n",
        "                desc_type = metadata_dict['descriptor_specific']['descriptor_type']\n",
        "            elif featurizer in ['graphconv', 'ecfp']:\n",
        "                desc_type = featurizer\n",
        "            else:\n",
        "                desc_type = ''\n",
        "            desc_type_list.append(desc_type)\n",
        "            dataset_key = metadata_dict['training_dataset']['dataset_key']\n",
        "            bucket = metadata_dict['training_dataset']['bucket']\n",
        "            dataset_key_list.append(dataset_key)\n",
        "            bucket_list.append(bucket)\n",
        "            dset_metadata = metadata_dict['training_dataset']['dataset_metadata']\n",
        "            param = metadata_dict['training_dataset']['response_cols'][0]\n",
        "            param_list.append(param)\n",
        "            transform_type = metadata_dict['training_dataset']['feature_transform_type']\n",
        "            transform_list.append(transform_type)\n",
        "            split_params = metadata_dict['splitting_parameters']\n",
        "            splitter_list.append(split_params['splitter'])\n",
        "            split_uuid_list.append(split_params.get('split_uuid', ''))\n",
        "            split_strategy = split_params['split_strategy']\n",
        "            split_strategy_list.append(split_strategy)\n",
        "\n",
        "            if 'umap_specific' in metadata_dict:\n",
        "                umap_params = metadata_dict['umap_specific']\n",
        "                umap_dim_list.append(umap_params['umap_dim'])\n",
        "                umap_targ_wt_list.append(umap_params['umap_targ_wt'])\n",
        "                umap_neighbors_list.append(umap_params['umap_neighbors'])\n",
        "                umap_min_dist_list.append(umap_params['umap_min_dist'])\n",
        "            else:\n",
        "                umap_dim_list.append(nan)\n",
        "                umap_targ_wt_list.append(nan)\n",
        "                umap_neighbors_list.append(nan)\n",
        "                umap_min_dist_list.append(nan)\n",
        "\n",
        "            if model_type == 'NN':\n",
        "                nn_params = metadata_dict['nn_specific']\n",
        "                max_epochs_list.append(nn_params['max_epochs'])\n",
        "                best_epoch_list.append(nn_params['best_epoch'])\n",
        "                learning_rate_list.append(nn_params['learning_rate'])\n",
        "                layer_sizes_list.append(','.join(['%d' % s for s in nn_params['layer_sizes']]))\n",
        "                dropouts_list.append(','.join(['%.2f' % d for d in nn_params['dropouts']]))\n",
        "                rf_estimators_list.append(nan)\n",
        "                rf_max_features_list.append(nan)\n",
        "                rf_max_depth_list.append(nan)\n",
        "                xgb_gamma_list.append(nan)\n",
        "                xgb_learning_rate_list.append(nan)\n",
        "            elif model_type == 'RF':\n",
        "                rf_params = metadata_dict['rf_specific']\n",
        "                rf_estimators_list.append(rf_params['rf_estimators'])\n",
        "                rf_max_features_list.append(rf_params['rf_max_features'])\n",
        "                rf_max_depth_list.append(rf_params['rf_max_depth'])\n",
        "                max_epochs_list.append(nan)\n",
        "                best_epoch_list.append(nan)\n",
        "                learning_rate_list.append(nan)\n",
        "                layer_sizes_list.append(nan)\n",
        "                dropouts_list.append(nan)\n",
        "                xgb_gamma_list.append(nan)\n",
        "                xgb_learning_rate_list.append(nan)\n",
        "            elif model_type == 'xgboost':\n",
        "                # TODO: Add xgboost parameters\n",
        "                xg_params = metadata_dict['xgb_specific']\n",
        "                xgb_gamma_list.append(xg_params['xgb_gamma'])\n",
        "                xgb_learning_rate_list.append(xg_params['xgb_learning_rate'])\n",
        "                max_epochs_list.append(nan)\n",
        "                best_epoch_list.append(nan)\n",
        "                learning_rate_list.append(nan)\n",
        "                layer_sizes_list.append(nan)\n",
        "                dropouts_list.append(nan)\n",
        "                rf_estimators_list.append(nan)\n",
        "                rf_max_features_list.append(nan)\n",
        "                rf_max_depth_list.append(nan)\n",
        "            else:\n",
        "                raise Exception('Unexpected model type %s' % model_type)\n",
        "\n",
        "            # Get model metrics for this model\n",
        "            metrics_dicts = metadata_dict['training_metrics']\n",
        "            #print(\"Got %d metrics dicts for model %s\" % (len(metrics_dicts), model_uuid))\n",
        "            subset_metrics = {}\n",
        "            for metrics_dict in metrics_dicts:\n",
        "                if metrics_dict['label'] == 'best':\n",
        "                    subset = metrics_dict['subset']\n",
        "                    subset_metrics[subset] = metrics_dict['prediction_results']\n",
        "            if split_strategy == 'k_fold_cv':\n",
        "                dset_size = subset_metrics['train']['num_compounds'] + subset_metrics['test']['num_compounds']\n",
        "            else:\n",
        "                dset_size = subset_metrics['train']['num_compounds'] + subset_metrics['valid']['num_compounds'] + subset_metrics['test']['num_compounds']\n",
        "            for subset in subsets:\n",
        "                subset_size = subset_metrics[subset]['num_compounds']\n",
        "                for score_type in score_types:\n",
        "                    try:\n",
        "                        score = subset_metrics[subset][score_type]\n",
        "                    except KeyError:\n",
        "                        score = float('nan')\n",
        "                    score_dict[subset][score_type].append(score)\n",
        "                ncmpd_dict[subset].append(subset_size)\n",
        "            dset_size_list.append(dset_size)\n",
        "\n",
        "    col_dict = dict(\n",
        "                    collection=collection_list,\n",
        "                    model_uuid=model_uuid_list,\n",
        "                    time_built=time_built_list,\n",
        "                    model_type=model_type_list,\n",
        "                    featurizer=featurizer_list,\n",
        "                    features=desc_type_list,\n",
        "                    transformer=transform_list,\n",
        "                    splitter=splitter_list,\n",
        "                    split_strategy=split_strategy_list,\n",
        "                    split_uuid=split_uuid_list,\n",
        "                    umap_dim=umap_dim_list,\n",
        "                    umap_targ_wt=umap_targ_wt_list,\n",
        "                    umap_neighbors=umap_neighbors_list,\n",
        "                    umap_min_dist=umap_min_dist_list,\n",
        "                    layer_sizes=layer_sizes_list,\n",
        "                    dropouts=dropouts_list,\n",
        "                    learning_rate=learning_rate_list,\n",
        "                    best_epoch=best_epoch_list,\n",
        "                    max_epochs=max_epochs_list,\n",
        "                    rf_estimators=rf_estimators_list,\n",
        "                    rf_max_features=rf_max_features_list,\n",
        "                    rf_max_depth=rf_max_depth_list,\n",
        "                    xgb_gamma = xgb_gamma_list,\n",
        "                    xgb_learning_rate = xgb_learning_rate_list,\n",
        "                    dataset_bucket=bucket_list,\n",
        "                    dataset_key=dataset_key_list,\n",
        "                    dataset_size=dset_size_list,\n",
        "                    parameter=param_list\n",
        "                    )\n",
        "\n",
        "    perf_df = pd.DataFrame(col_dict)\n",
        "    for subset in subsets:\n",
        "        ncmpds_col = '%s_size' % subset\n",
        "        perf_df[ncmpds_col] = ncmpd_dict[subset]\n",
        "        for score_type in score_types:\n",
        "            metric_col = '%s_%s' % (subset, score_type)\n",
        "            perf_df[metric_col] = score_dict[subset][score_type]\n",
        "\n",
        "    return perf_df\n",
        "\n",
        "from atomsci.ddm.pipeline import predict_from_model as pfm\n",
        "\n",
        "def predict_from_model_file(model_path, input_df, id_col='compound_id', smiles_col='rdkit_smiles',\n",
        "                     response_col=None, is_featurized=False, dont_standardize=False):\n",
        "    \"\"\"\n",
        "    Loads a pretrained model from a model tarball file and runs predictions on compounds in an input\n",
        "    data frame.\n",
        "\n",
        "    Args:\n",
        "        model_path (str): File path of the model tarball file.\n",
        "\n",
        "        input_df (DataFrame): Input data to run predictions on; must at minimum contain SMILES strings.\n",
        "\n",
        "        id_col (str): Name of the column containing compound IDs. If none is provided, sequential IDs will be\n",
        "        generated.\n",
        "\n",
        "        smiles_col (str): Name of the column containing SMILES strings; required.\n",
        "\n",
        "        response_col (str): Name of an optional column containing actual response values; if it is provided, \n",
        "        the actual values will be included in the returned data frame to make it easier for you to assess performance.\n",
        "\n",
        "        dont_standardize (bool): By default, SMILES strings are salt-stripped and standardized using RDKit; \n",
        "        if you have already done this, or don't want them to be standardized, set dont_standardize to True.\n",
        "\n",
        "    Return: \n",
        "        A data frame with compound IDs, SMILES strings and predicted response values. Actual response values\n",
        "        will be included if response_col is provided. Standard prediction error estimates will be included\n",
        "        if the model was trained with uncertainty=True. Note that the predicted and actual response\n",
        "        columns will be labeled according to the response_col setting in the original training data,\n",
        "        not the response_col passed to this function; e.g. if the original model response_col was 'pIC50',\n",
        "        the returned data frame will contain columns 'pIC50_actual', 'pIC50_pred' and 'pIC50_std'.\n",
        "    \"\"\"\n",
        "\n",
        "    input_df, pred_params = pfm._prepare_input_data(input_df, id_col, smiles_col, response_col, dont_standardize)\n",
        "\n",
        "    has_responses = ('response_cols' in pred_params)\n",
        "    pred_params = parse.wrapper(pred_params)\n",
        "\n",
        "    pipe = mp.create_prediction_pipeline_from_file(pred_params, reload_dir=None, model_path=model_path)\n",
        "    if pipe.params.model_type == 'xgboost':\n",
        "        pipe.params.uncertainty = False\n",
        "    pred_df = pipe.predict_full_dataset(input_df, contains_responses=has_responses, is_featurized=is_featurized,\n",
        "                                        dset_params=pred_params)\n",
        "    pred_df = pred_df.sort_values(by=id_col)\n",
        "    return pred_df"
      ],
      "execution_count": null,
      "outputs": []
    },
    {
      "cell_type": "markdown",
      "metadata": {
        "id": "oHjYDaTNBYjQ"
      },
      "source": [
        "### Monitor HP search with `groupby`"
      ]
    },
    {
      "cell_type": "code",
      "metadata": {
        "id": "XSDa2HTH6wbD"
      },
      "source": [
        "perf_df = get_summary_perf_tables(collection_names=None, filter_dict={}, result_dir=result_dir, prediction_type='regression', verbose=False)\n",
        "perf_df = perf_df[perf_df.rf_estimators!=500]\n",
        "perf_df.sort_values(by=\"valid_r2_score\", ascending=False).head()"
      ],
      "execution_count": null,
      "outputs": []
    },
    {
      "cell_type": "code",
      "metadata": {
        "colab": {
          "background_save": true
        },
        "id": "IE8VVq4h2sXn",
        "outputId": "11494a36-aad5-452b-d008-60ad34686f63"
      },
      "source": [
        "perf_df.groupby(by=['model_type', 'features']).count()[['model_uuid']].T"
      ],
      "execution_count": null,
      "outputs": [
        {
          "output_type": "execute_result",
          "data": {
            "text/html": [
              "<div>\n",
              "<style scoped>\n",
              "    .dataframe tbody tr th:only-of-type {\n",
              "        vertical-align: middle;\n",
              "    }\n",
              "\n",
              "    .dataframe tbody tr th {\n",
              "        vertical-align: top;\n",
              "    }\n",
              "\n",
              "    .dataframe thead tr th {\n",
              "        text-align: left;\n",
              "    }\n",
              "</style>\n",
              "<table border=\"1\" class=\"dataframe\">\n",
              "  <thead>\n",
              "    <tr>\n",
              "      <th>model_type</th>\n",
              "      <th>RF</th>\n",
              "      <th>xgboost</th>\n",
              "    </tr>\n",
              "    <tr>\n",
              "      <th>features</th>\n",
              "      <th>ecfp</th>\n",
              "      <th>mordred_filtered</th>\n",
              "    </tr>\n",
              "  </thead>\n",
              "  <tbody>\n",
              "    <tr>\n",
              "      <th>model_uuid</th>\n",
              "      <td>296</td>\n",
              "      <td>126</td>\n",
              "    </tr>\n",
              "  </tbody>\n",
              "</table>\n",
              "</div>"
            ],
            "text/plain": [
              "model_type   RF          xgboost\n",
              "features   ecfp mordred_filtered\n",
              "model_uuid  296              126"
            ]
          },
          "metadata": {
            "tags": []
          },
          "execution_count": 0
        }
      ]
    },
    {
      "cell_type": "code",
      "metadata": {
        "colab": {
          "background_save": true
        },
        "id": "PUs6NHZIPD06",
        "outputId": "ab6be8d5-b9e5-4cb6-b759-04cc486de40f"
      },
      "source": [
        "nnmods = perf_df[perf_df.model_type==\"NN\"]\n",
        "nnmods.head()"
      ],
      "execution_count": null,
      "outputs": [
        {
          "output_type": "execute_result",
          "data": {
            "text/html": [
              "<div>\n",
              "<style scoped>\n",
              "    .dataframe tbody tr th:only-of-type {\n",
              "        vertical-align: middle;\n",
              "    }\n",
              "\n",
              "    .dataframe tbody tr th {\n",
              "        vertical-align: top;\n",
              "    }\n",
              "\n",
              "    .dataframe thead th {\n",
              "        text-align: right;\n",
              "    }\n",
              "</style>\n",
              "<table border=\"1\" class=\"dataframe\">\n",
              "  <thead>\n",
              "    <tr style=\"text-align: right;\">\n",
              "      <th></th>\n",
              "      <th>collection</th>\n",
              "      <th>model_uuid</th>\n",
              "      <th>time_built</th>\n",
              "      <th>model_type</th>\n",
              "      <th>featurizer</th>\n",
              "      <th>features</th>\n",
              "      <th>transformer</th>\n",
              "      <th>splitter</th>\n",
              "      <th>split_strategy</th>\n",
              "      <th>split_uuid</th>\n",
              "      <th>umap_dim</th>\n",
              "      <th>umap_targ_wt</th>\n",
              "      <th>umap_neighbors</th>\n",
              "      <th>umap_min_dist</th>\n",
              "      <th>layer_sizes</th>\n",
              "      <th>dropouts</th>\n",
              "      <th>learning_rate</th>\n",
              "      <th>best_epoch</th>\n",
              "      <th>max_epochs</th>\n",
              "      <th>rf_estimators</th>\n",
              "      <th>rf_max_features</th>\n",
              "      <th>rf_max_depth</th>\n",
              "      <th>xgb_gamma</th>\n",
              "      <th>xgb_learning_rate</th>\n",
              "      <th>dataset_bucket</th>\n",
              "      <th>dataset_key</th>\n",
              "      <th>dataset_size</th>\n",
              "      <th>parameter</th>\n",
              "      <th>train_size</th>\n",
              "      <th>train_r2_score</th>\n",
              "      <th>train_mae_score</th>\n",
              "      <th>train_rms_score</th>\n",
              "      <th>valid_size</th>\n",
              "      <th>valid_r2_score</th>\n",
              "      <th>valid_mae_score</th>\n",
              "      <th>valid_rms_score</th>\n",
              "      <th>test_size</th>\n",
              "      <th>test_r2_score</th>\n",
              "      <th>test_mae_score</th>\n",
              "      <th>test_rms_score</th>\n",
              "    </tr>\n",
              "  </thead>\n",
              "  <tbody>\n",
              "  </tbody>\n",
              "</table>\n",
              "</div>"
            ],
            "text/plain": [
              "Empty DataFrame\n",
              "Columns: [collection, model_uuid, time_built, model_type, featurizer, features, transformer, splitter, split_strategy, split_uuid, umap_dim, umap_targ_wt, umap_neighbors, umap_min_dist, layer_sizes, dropouts, learning_rate, best_epoch, max_epochs, rf_estimators, rf_max_features, rf_max_depth, xgb_gamma, xgb_learning_rate, dataset_bucket, dataset_key, dataset_size, parameter, train_size, train_r2_score, train_mae_score, train_rms_score, valid_size, valid_r2_score, valid_mae_score, valid_rms_score, test_size, test_r2_score, test_mae_score, test_rms_score]\n",
              "Index: []"
            ]
          },
          "metadata": {
            "tags": []
          },
          "execution_count": 0
        }
      ]
    },
    {
      "cell_type": "code",
      "metadata": {
        "id": "nlmghnGjPQ49"
      },
      "source": [
        "# should be 10 each, 20 groups per feature, if you got all the models created\n",
        "nnmods.groupby(by=['features','layer_sizes','dropouts']).count()[['model_uuid']]"
      ],
      "execution_count": null,
      "outputs": []
    },
    {
      "cell_type": "code",
      "metadata": {
        "id": "_j2-s5COPvxx"
      },
      "source": [
        ""
      ],
      "execution_count": null,
      "outputs": []
    }
  ]
}